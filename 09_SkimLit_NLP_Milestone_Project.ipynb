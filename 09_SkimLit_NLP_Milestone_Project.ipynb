{
  "nbformat": 4,
  "nbformat_minor": 0,
  "metadata": {
    "colab": {
      "provenance": [],
      "gpuType": "T4",
      "authorship_tag": "ABX9TyO8XubiXYsEuM2FG9DZvSrQ"
    },
    "kernelspec": {
      "name": "python3",
      "display_name": "Python 3"
    },
    "language_info": {
      "name": "python"
    },
    "accelerator": "GPU"
  },
  "cells": [
    {
      "cell_type": "markdown",
      "source": [
        "# Milestone Project 2: Skimlit 🧾🔥\n",
        "\n",
        "The purpose of this notebook is to build an NLP model to make reading medical abstracts easier.\n",
        "\n",
        "The paper we're replicating (the source of the dataset that we'll be uisng) is available here: https://arxiv.org/pdf/1710.06071.pdf\n",
        "\n",
        "And reading through the paper above, we see that the model architecture that they use to achieve their best results is avaliable here: https://arxiv.org/pdf/1612.05251.pdf"
      ],
      "metadata": {
        "id": "w1Tw3IAsXKi8"
      }
    },
    {
      "cell_type": "code",
      "source": [
        "# Imports\n",
        "import os\n",
        "import random\n",
        "import numpy as np\n",
        "import pandas as pd\n",
        "import matplotlib.pyplot as plt\n",
        "import tensorflow as tf\n",
        "import tensorflow_hub as hub\n",
        "from tensorflow.keras import layers\n",
        "from sklearn.preprocessing import OneHotEncoder, LabelEncoder\n",
        "\n",
        "print(tf.__version__)"
      ],
      "metadata": {
        "colab": {
          "base_uri": "https://localhost:8080/"
        },
        "id": "KXCG5CJ9AAiC",
        "outputId": "4ff4a0b1-0b6c-4007-9e00-89def93d8498"
      },
      "execution_count": null,
      "outputs": [
        {
          "output_type": "stream",
          "name": "stdout",
          "text": [
            "2.12.0\n"
          ]
        }
      ]
    },
    {
      "cell_type": "markdown",
      "source": [
        "## Confirm access to a GPU"
      ],
      "metadata": {
        "id": "LEvBODCpXxK8"
      }
    },
    {
      "cell_type": "code",
      "source": [
        "!nvidia-smi -L"
      ],
      "metadata": {
        "colab": {
          "base_uri": "https://localhost:8080/"
        },
        "id": "6Yd0GRGHZYpn",
        "outputId": "03fc41f5-196f-4b52-8558-f5e1e6ea7837"
      },
      "execution_count": null,
      "outputs": [
        {
          "output_type": "stream",
          "name": "stdout",
          "text": [
            "/bin/bash: line 1: nvidia-smi: command not found\n"
          ]
        }
      ]
    },
    {
      "cell_type": "markdown",
      "source": [
        "## Get the data\n",
        "\n",
        "Since we'll be replicating the paper above (PubMed 200k RCT), let's download the dataset ther used.\n",
        "\n",
        "We can download from the authours GitHub acount: https://github.com/Franck-Dernoncourt/pubmed-rct"
      ],
      "metadata": {
        "id": "TeZvmPvaZbTd"
      }
    },
    {
      "cell_type": "code",
      "source": [
        "!git clone https://github.com/Franck-Dernoncourt/pubmed-rct\n",
        "!ls pubmed-rct"
      ],
      "metadata": {
        "id": "AQf_3a1yadju",
        "colab": {
          "base_uri": "https://localhost:8080/"
        },
        "outputId": "84690b61-1648-490f-90d3-5b3b41040e66"
      },
      "execution_count": null,
      "outputs": [
        {
          "output_type": "stream",
          "name": "stdout",
          "text": [
            "Cloning into 'pubmed-rct'...\n",
            "remote: Enumerating objects: 33, done.\u001b[K\n",
            "remote: Counting objects: 100% (8/8), done.\u001b[K\n",
            "remote: Compressing objects: 100% (3/3), done.\u001b[K\n",
            "remote: Total 33 (delta 5), reused 5 (delta 5), pack-reused 25\u001b[K\n",
            "Receiving objects: 100% (33/33), 177.08 MiB | 34.46 MiB/s, done.\n",
            "Resolving deltas: 100% (12/12), done.\n",
            "PubMed_200k_RCT\n",
            "PubMed_200k_RCT_numbers_replaced_with_at_sign\n",
            "PubMed_20k_RCT\n",
            "PubMed_20k_RCT_numbers_replaced_with_at_sign\n",
            "README.md\n"
          ]
        }
      ]
    },
    {
      "cell_type": "code",
      "source": [
        "# Check what files are in the PubMed_20K dataset\n",
        "!ls pubmed-rct/PubMed_20k_RCT_numbers_replaced_with_at_sign/"
      ],
      "metadata": {
        "colab": {
          "base_uri": "https://localhost:8080/"
        },
        "id": "RsjdviS49JgR",
        "outputId": "4613d6b0-6dac-4593-8b5c-150ce499c634"
      },
      "execution_count": null,
      "outputs": [
        {
          "output_type": "stream",
          "name": "stdout",
          "text": [
            "dev.txt  test.txt  train.txt\n"
          ]
        }
      ]
    },
    {
      "cell_type": "code",
      "source": [
        "# Start our experiments using the 20K dataset with numbers replaced by '@' sign\n",
        "data_dir = '/content/pubmed-rct/PubMed_20k_RCT_numbers_replaced_with_at_sign/'"
      ],
      "metadata": {
        "id": "KUflbSAz9-Rj"
      },
      "execution_count": null,
      "outputs": []
    },
    {
      "cell_type": "code",
      "source": [
        "# Check all of the file name in the target directory\n",
        "filenames = [data_dir + filename for filename in os.listdir(data_dir)]\n",
        "filenames"
      ],
      "metadata": {
        "colab": {
          "base_uri": "https://localhost:8080/"
        },
        "id": "Ao5V8Uu6_6bg",
        "outputId": "a9cfc591-d49d-41ea-8703-6535f863d0c2"
      },
      "execution_count": null,
      "outputs": [
        {
          "output_type": "execute_result",
          "data": {
            "text/plain": [
              "['/content/pubmed-rct/PubMed_20k_RCT_numbers_replaced_with_at_sign/train.txt',\n",
              " '/content/pubmed-rct/PubMed_20k_RCT_numbers_replaced_with_at_sign/test.txt',\n",
              " '/content/pubmed-rct/PubMed_20k_RCT_numbers_replaced_with_at_sign/dev.txt']"
            ]
          },
          "metadata": {},
          "execution_count": 7
        }
      ]
    },
    {
      "cell_type": "markdown",
      "source": [
        "## Preprocess data\n",
        "\n",
        "We have got some data, now it is time to explore the data. (Become one with it)\n",
        "\n",
        "The best way to becoming one with data is visualize, visualize and visualize..\n",
        "\n",
        "Let's write a function to read in all of the lines of a target text file."
      ],
      "metadata": {
        "id": "glHo9p8cBBo-"
      }
    },
    {
      "cell_type": "code",
      "source": [
        "# Create a function to read the lines in the documents\n",
        "def get_lines(filename):\n",
        "  '''\n",
        "  Reads a text filename and return the all line as a list format\n",
        "\n",
        "  Args:\n",
        "    filename: a string containing the target filepath\n",
        "\n",
        "  Return:\n",
        "    A list of string with one string per line from the target filename.\n",
        "  '''\n",
        "\n",
        "  with open(filename) as f:\n",
        "    return f.readlines()"
      ],
      "metadata": {
        "id": "RhpsmxL-APj7"
      },
      "execution_count": null,
      "outputs": []
    },
    {
      "cell_type": "code",
      "source": [
        "# Check the train path\n",
        "filenames[0]"
      ],
      "metadata": {
        "colab": {
          "base_uri": "https://localhost:8080/",
          "height": 36
        },
        "id": "09cig24PC03F",
        "outputId": "8fbd39fa-a1e0-4c7a-93f1-79f0d3c1ae08"
      },
      "execution_count": null,
      "outputs": [
        {
          "output_type": "execute_result",
          "data": {
            "text/plain": [
              "'/content/pubmed-rct/PubMed_20k_RCT_numbers_replaced_with_at_sign/train.txt'"
            ],
            "application/vnd.google.colaboratory.intrinsic+json": {
              "type": "string"
            }
          },
          "metadata": {},
          "execution_count": 9
        }
      ]
    },
    {
      "cell_type": "code",
      "source": [
        "# Let's read in the training lines\n",
        "train_lines = get_lines(filenames[0])\n",
        "train_lines[:44]"
      ],
      "metadata": {
        "colab": {
          "base_uri": "https://localhost:8080/"
        },
        "id": "dDvS-11VC00P",
        "outputId": "0158e761-ac4b-4ef0-9d2f-84ce68568854"
      },
      "execution_count": null,
      "outputs": [
        {
          "output_type": "execute_result",
          "data": {
            "text/plain": [
              "['###24293578\\n',\n",
              " 'OBJECTIVE\\tTo investigate the efficacy of @ weeks of daily low-dose oral prednisolone in improving pain , mobility , and systemic low-grade inflammation in the short term and whether the effect would be sustained at @ weeks in older adults with moderate to severe knee osteoarthritis ( OA ) .\\n',\n",
              " 'METHODS\\tA total of @ patients with primary knee OA were randomized @:@ ; @ received @ mg/day of prednisolone and @ received placebo for @ weeks .\\n',\n",
              " 'METHODS\\tOutcome measures included pain reduction and improvement in function scores and systemic inflammation markers .\\n',\n",
              " 'METHODS\\tPain was assessed using the visual analog pain scale ( @-@ mm ) .\\n',\n",
              " 'METHODS\\tSecondary outcome measures included the Western Ontario and McMaster Universities Osteoarthritis Index scores , patient global assessment ( PGA ) of the severity of knee OA , and @-min walk distance ( @MWD ) .\\n',\n",
              " 'METHODS\\tSerum levels of interleukin @ ( IL-@ ) , IL-@ , tumor necrosis factor ( TNF ) - , and high-sensitivity C-reactive protein ( hsCRP ) were measured .\\n',\n",
              " 'RESULTS\\tThere was a clinically relevant reduction in the intervention group compared to the placebo group for knee pain , physical function , PGA , and @MWD at @ weeks .\\n',\n",
              " 'RESULTS\\tThe mean difference between treatment arms ( @ % CI ) was @ ( @-@ @ ) , p < @ ; @ ( @-@ @ ) , p < @ ; @ ( @-@ @ ) , p < @ ; and @ ( @-@ @ ) , p < @ , respectively .\\n',\n",
              " 'RESULTS\\tFurther , there was a clinically relevant reduction in the serum levels of IL-@ , IL-@ , TNF - , and hsCRP at @ weeks in the intervention group when compared to the placebo group .\\n',\n",
              " 'RESULTS\\tThese differences remained significant at @ weeks .\\n',\n",
              " 'RESULTS\\tThe Outcome Measures in Rheumatology Clinical Trials-Osteoarthritis Research Society International responder rate was @ % in the intervention group and @ % in the placebo group ( p < @ ) .\\n',\n",
              " 'CONCLUSIONS\\tLow-dose oral prednisolone had both a short-term and a longer sustained effect resulting in less knee pain , better physical function , and attenuation of systemic inflammation in older patients with knee OA ( ClinicalTrials.gov identifier NCT@ ) .\\n',\n",
              " '\\n',\n",
              " '###24854809\\n',\n",
              " 'BACKGROUND\\tEmotional eating is associated with overeating and the development of obesity .\\n',\n",
              " 'BACKGROUND\\tYet , empirical evidence for individual ( trait ) differences in emotional eating and cognitive mechanisms that contribute to eating during sad mood remain equivocal .\\n',\n",
              " 'OBJECTIVE\\tThe aim of this study was to test if attention bias for food moderates the effect of self-reported emotional eating during sad mood ( vs neutral mood ) on actual food intake .\\n',\n",
              " 'OBJECTIVE\\tIt was expected that emotional eating is predictive of elevated attention for food and higher food intake after an experimentally induced sad mood and that attentional maintenance on food predicts food intake during a sad versus a neutral mood .\\n',\n",
              " 'METHODS\\tParticipants ( N = @ ) were randomly assigned to one of the two experimental mood induction conditions ( sad/neutral ) .\\n',\n",
              " 'METHODS\\tAttentional biases for high caloric foods were measured by eye tracking during a visual probe task with pictorial food and neutral stimuli .\\n',\n",
              " 'METHODS\\tSelf-reported emotional eating was assessed with the Dutch Eating Behavior Questionnaire ( DEBQ ) and ad libitum food intake was tested by a disguised food offer .\\n',\n",
              " 'RESULTS\\tHierarchical multivariate regression modeling showed that self-reported emotional eating did not account for changes in attention allocation for food or food intake in either condition .\\n',\n",
              " 'RESULTS\\tYet , attention maintenance on food cues was significantly related to increased intake specifically in the neutral condition , but not in the sad mood condition .\\n',\n",
              " 'CONCLUSIONS\\tThe current findings show that self-reported emotional eating ( based on the DEBQ ) might not validly predict who overeats when sad , at least not in a laboratory setting with healthy women .\\n',\n",
              " 'CONCLUSIONS\\tResults further suggest that attention maintenance on food relates to eating motivation when in a neutral affective state , and might therefore be a cognitive mechanism contributing to increased food intake in general , but maybe not during sad mood .\\n',\n",
              " '\\n',\n",
              " '###25165090\\n',\n",
              " 'BACKGROUND\\tAlthough working smoke alarms halve deaths in residential fires , many households do not keep alarms operational .\\n',\n",
              " 'BACKGROUND\\tWe tested whether theory-based education increases alarm operability .\\n',\n",
              " 'METHODS\\tRandomised multiarm trial , with a single arm randomly selected for use each day , in low-income neighbourhoods in Maryland , USA .\\n',\n",
              " \"METHODS\\tIntervention arms : ( @ ) Full Education combining a health belief module with a social-cognitive theory module that provided hands-on practice installing alarm batteries and using the alarm 's hush button ; ( @ ) Hands-on Practice social-cognitive module supplemented by typical fire department education ; ( @ ) Current Norm receiving typical fire department education only .\\n\",\n",
              " 'METHODS\\tFour hundred and thirty-six homes recruited through churches or by knocking on doors in @-@ .\\n',\n",
              " 'METHODS\\tFollow-up visits checked alarm operability in @ homes ( @ % ) @-@ @ years after installation .\\n',\n",
              " 'METHODS\\tnumber of homes with working alarms defined as alarms with working batteries or hard-wired and number of working alarms per home .\\n',\n",
              " 'METHODS\\tRegressions controlled for alarm status preintervention ; demographics and beliefs about fire risks and alarm effectiveness .\\n',\n",
              " 'RESULTS\\tHomes in the Full Education and Practice arms were more likely to have a functioning smoke alarm at follow-up ( OR = @ , @ % CI @ to @ ) and had an average of @ more working alarms per home ( @ % CI @ to @ ) .\\n',\n",
              " 'RESULTS\\tWorking alarms per home rose @ % .\\n',\n",
              " 'RESULTS\\tFull Education and Practice had similar effectiveness ( p = @ on both outcome measures ) .\\n',\n",
              " 'CONCLUSIONS\\tWithout exceeding typical fire department installation time , installers can achieve greater smoke alarm operability .\\n',\n",
              " 'CONCLUSIONS\\tHands-on practice is key .\\n',\n",
              " 'CONCLUSIONS\\tTwo years after installation , for every three homes that received hands-on practice , one had an additional working alarm .\\n',\n",
              " 'BACKGROUND\\thttp://www.clinicaltrials.gov number NCT@ .\\n',\n",
              " '\\n']"
            ]
          },
          "metadata": {},
          "execution_count": 10
        }
      ]
    },
    {
      "cell_type": "code",
      "source": [
        "# Check the length of training lines\n",
        "len(train_lines)"
      ],
      "metadata": {
        "colab": {
          "base_uri": "https://localhost:8080/"
        },
        "id": "H2mtrlNtC0xl",
        "outputId": "d356fa6c-325e-40b0-d80d-1ce2551c7789"
      },
      "execution_count": null,
      "outputs": [
        {
          "output_type": "execute_result",
          "data": {
            "text/plain": [
              "210040"
            ]
          },
          "metadata": {},
          "execution_count": 11
        }
      ]
    },
    {
      "cell_type": "markdown",
      "source": [
        "Let's think about what kind of data representation is the best for our model..\n",
        "\n",
        "Get a single example from above: `'METHODS\\tOutcome measures included pain reduction and improvement in function scores and systemic inflammation markers .\\n'`\n",
        "\n",
        "Format I want for the model:\n",
        "    <br>[{'line_number': 3,\n",
        "    <br>'target': 'METHODS',\n",
        "    <br>'text': 'Outcome measures included pain reduction and improvement <br>in function scores and systemic inflammation markers .'\n",
        "    <br>'total_lines': 12 }]\n",
        "\n",
        "\n",
        "<br> Let's write a function for this format..."
      ],
      "metadata": {
        "id": "wlrGJrX3EazF"
      }
    },
    {
      "cell_type": "code",
      "source": [
        "def preprocess_text_with_line_numbers(filename):\n",
        "  '''\n",
        "  Returns a list of dictionaries of abstract line data.\n",
        "\n",
        "  Takes in filename, reads it contents and sorts through each line,\n",
        "  extracting things like the target label, the text of the sentence, how many\n",
        "  sentences are in the current abstract and what sentence number the target\n",
        "  line is.\n",
        "  '''\n",
        "  input_lines = get_lines(filename) # get all lines from filename\n",
        "  sublists = [] # Define an emptysublist\n",
        "  current_sublist = [] # Define an empty current sublist\n",
        "  # Divide the input lines and create sublists between '###ID' and '\\n'\n",
        "  for line in input_lines:\n",
        "    if line.startswith('###'):\n",
        "      pass\n",
        "    elif line.isspace():\n",
        "      sublists.append(current_sublist)\n",
        "      current_sublist = []\n",
        "    else:\n",
        "      current_sublist.append(line)\n",
        "  # Create an empty list for adding all dict\n",
        "  dict_list = []\n",
        "  # Loop through the sublist\n",
        "  for sub_list in sublists:\n",
        "    # Another loop for the each line\n",
        "    for index, per_line in enumerate(sub_list):\n",
        "      splited_per_line = per_line.strip().split('\\t')\n",
        "      # Create a dict and add all key and values\n",
        "      per_line_dict = {\n",
        "          'line_number': index,\n",
        "          'target': splited_per_line[0],\n",
        "          'text': splited_per_line[1].lower(),\n",
        "          'total_lines': len(sub_list) - 1\n",
        "      }\n",
        "      # Add the per line dictionary into dictionary list\n",
        "      dict_list.append(per_line_dict)\n",
        "\n",
        "  return dict_list"
      ],
      "metadata": {
        "id": "8VoUdjFuC0vC"
      },
      "execution_count": null,
      "outputs": []
    },
    {
      "cell_type": "code",
      "source": [
        "# Get the data from file\n",
        "%%time\n",
        "train_samples = preprocess_text_with_line_numbers(data_dir + 'train.txt')\n",
        "val_samples = preprocess_text_with_line_numbers(data_dir + 'dev.txt') # dev is another name of validation\n",
        "test_samples = preprocess_text_with_line_numbers(data_dir + 'test.txt')\n",
        "print('Total number of train samples:', len(train_samples))\n",
        "print('Total number of validation samples:', len(val_samples))\n",
        "print('Total number of test samples:', len(test_samples))"
      ],
      "metadata": {
        "colab": {
          "base_uri": "https://localhost:8080/"
        },
        "id": "eza7CQKCnXbA",
        "outputId": "a3a4cb7d-0417-4f15-bbcb-a8ed0089d6e4"
      },
      "execution_count": null,
      "outputs": [
        {
          "output_type": "stream",
          "name": "stdout",
          "text": [
            "Total number of train samples: 180040\n",
            "Total number of validation samples: 30212\n",
            "Total number of test samples: 30135\n",
            "CPU times: user 402 ms, sys: 116 ms, total: 517 ms\n",
            "Wall time: 523 ms\n"
          ]
        }
      ]
    },
    {
      "cell_type": "code",
      "source": [
        "# Check the first abstract of trainin data\n",
        "train_samples[:10]"
      ],
      "metadata": {
        "colab": {
          "base_uri": "https://localhost:8080/"
        },
        "id": "ZsPtBsSynXYi",
        "outputId": "97332c6e-4910-4ed6-f16f-b36f51d309bf"
      },
      "execution_count": null,
      "outputs": [
        {
          "output_type": "execute_result",
          "data": {
            "text/plain": [
              "[{'line_number': 0,\n",
              "  'target': 'OBJECTIVE',\n",
              "  'text': 'to investigate the efficacy of @ weeks of daily low-dose oral prednisolone in improving pain , mobility , and systemic low-grade inflammation in the short term and whether the effect would be sustained at @ weeks in older adults with moderate to severe knee osteoarthritis ( oa ) .',\n",
              "  'total_lines': 11},\n",
              " {'line_number': 1,\n",
              "  'target': 'METHODS',\n",
              "  'text': 'a total of @ patients with primary knee oa were randomized @:@ ; @ received @ mg/day of prednisolone and @ received placebo for @ weeks .',\n",
              "  'total_lines': 11},\n",
              " {'line_number': 2,\n",
              "  'target': 'METHODS',\n",
              "  'text': 'outcome measures included pain reduction and improvement in function scores and systemic inflammation markers .',\n",
              "  'total_lines': 11},\n",
              " {'line_number': 3,\n",
              "  'target': 'METHODS',\n",
              "  'text': 'pain was assessed using the visual analog pain scale ( @-@ mm ) .',\n",
              "  'total_lines': 11},\n",
              " {'line_number': 4,\n",
              "  'target': 'METHODS',\n",
              "  'text': 'secondary outcome measures included the western ontario and mcmaster universities osteoarthritis index scores , patient global assessment ( pga ) of the severity of knee oa , and @-min walk distance ( @mwd ) .',\n",
              "  'total_lines': 11},\n",
              " {'line_number': 5,\n",
              "  'target': 'METHODS',\n",
              "  'text': 'serum levels of interleukin @ ( il-@ ) , il-@ , tumor necrosis factor ( tnf ) - , and high-sensitivity c-reactive protein ( hscrp ) were measured .',\n",
              "  'total_lines': 11},\n",
              " {'line_number': 6,\n",
              "  'target': 'RESULTS',\n",
              "  'text': 'there was a clinically relevant reduction in the intervention group compared to the placebo group for knee pain , physical function , pga , and @mwd at @ weeks .',\n",
              "  'total_lines': 11},\n",
              " {'line_number': 7,\n",
              "  'target': 'RESULTS',\n",
              "  'text': 'the mean difference between treatment arms ( @ % ci ) was @ ( @-@ @ ) , p < @ ; @ ( @-@ @ ) , p < @ ; @ ( @-@ @ ) , p < @ ; and @ ( @-@ @ ) , p < @ , respectively .',\n",
              "  'total_lines': 11},\n",
              " {'line_number': 8,\n",
              "  'target': 'RESULTS',\n",
              "  'text': 'further , there was a clinically relevant reduction in the serum levels of il-@ , il-@ , tnf - , and hscrp at @ weeks in the intervention group when compared to the placebo group .',\n",
              "  'total_lines': 11},\n",
              " {'line_number': 9,\n",
              "  'target': 'RESULTS',\n",
              "  'text': 'these differences remained significant at @ weeks .',\n",
              "  'total_lines': 11}]"
            ]
          },
          "metadata": {},
          "execution_count": 14
        }
      ]
    },
    {
      "cell_type": "markdown",
      "source": [
        "Now, our data is the format of dictionary. To visualize it let's turn into it to pandas DataFrame.."
      ],
      "metadata": {
        "id": "brkUKY_HqdbG"
      }
    },
    {
      "cell_type": "code",
      "source": [
        "# Convert dictionary data to pandas DataFrame\n",
        "train_df = pd.DataFrame(train_samples)\n",
        "val_df = pd.DataFrame(val_samples)\n",
        "test_df = pd.DataFrame(test_samples)"
      ],
      "metadata": {
        "id": "DHhbpNCsqwHN"
      },
      "execution_count": null,
      "outputs": []
    },
    {
      "cell_type": "code",
      "source": [
        "# Let's check out the firs 15 samples\n",
        "train_df.head(15)"
      ],
      "metadata": {
        "colab": {
          "base_uri": "https://localhost:8080/",
          "height": 519
        },
        "id": "8dqAKA1QrfRF",
        "outputId": "609be0d6-aaa2-47d1-abb1-a8ff673db77e"
      },
      "execution_count": null,
      "outputs": [
        {
          "output_type": "execute_result",
          "data": {
            "text/plain": [
              "    line_number       target  \\\n",
              "0             0    OBJECTIVE   \n",
              "1             1      METHODS   \n",
              "2             2      METHODS   \n",
              "3             3      METHODS   \n",
              "4             4      METHODS   \n",
              "5             5      METHODS   \n",
              "6             6      RESULTS   \n",
              "7             7      RESULTS   \n",
              "8             8      RESULTS   \n",
              "9             9      RESULTS   \n",
              "10           10      RESULTS   \n",
              "11           11  CONCLUSIONS   \n",
              "12            0   BACKGROUND   \n",
              "13            1   BACKGROUND   \n",
              "14            2    OBJECTIVE   \n",
              "\n",
              "                                                 text  total_lines  \n",
              "0   to investigate the efficacy of @ weeks of dail...           11  \n",
              "1   a total of @ patients with primary knee oa wer...           11  \n",
              "2   outcome measures included pain reduction and i...           11  \n",
              "3   pain was assessed using the visual analog pain...           11  \n",
              "4   secondary outcome measures included the wester...           11  \n",
              "5   serum levels of interleukin @ ( il-@ ) , il-@ ...           11  \n",
              "6   there was a clinically relevant reduction in t...           11  \n",
              "7   the mean difference between treatment arms ( @...           11  \n",
              "8   further , there was a clinically relevant redu...           11  \n",
              "9   these differences remained significant at @ we...           11  \n",
              "10  the outcome measures in rheumatology clinical ...           11  \n",
              "11  low-dose oral prednisolone had both a short-te...           11  \n",
              "12  emotional eating is associated with overeating...           10  \n",
              "13  yet , empirical evidence for individual ( trai...           10  \n",
              "14  the aim of this study was to test if attention...           10  "
            ],
            "text/html": [
              "\n",
              "  <div id=\"df-172c4b89-2a01-47a2-9bb0-be316a2dbbe7\" class=\"colab-df-container\">\n",
              "    <div>\n",
              "<style scoped>\n",
              "    .dataframe tbody tr th:only-of-type {\n",
              "        vertical-align: middle;\n",
              "    }\n",
              "\n",
              "    .dataframe tbody tr th {\n",
              "        vertical-align: top;\n",
              "    }\n",
              "\n",
              "    .dataframe thead th {\n",
              "        text-align: right;\n",
              "    }\n",
              "</style>\n",
              "<table border=\"1\" class=\"dataframe\">\n",
              "  <thead>\n",
              "    <tr style=\"text-align: right;\">\n",
              "      <th></th>\n",
              "      <th>line_number</th>\n",
              "      <th>target</th>\n",
              "      <th>text</th>\n",
              "      <th>total_lines</th>\n",
              "    </tr>\n",
              "  </thead>\n",
              "  <tbody>\n",
              "    <tr>\n",
              "      <th>0</th>\n",
              "      <td>0</td>\n",
              "      <td>OBJECTIVE</td>\n",
              "      <td>to investigate the efficacy of @ weeks of dail...</td>\n",
              "      <td>11</td>\n",
              "    </tr>\n",
              "    <tr>\n",
              "      <th>1</th>\n",
              "      <td>1</td>\n",
              "      <td>METHODS</td>\n",
              "      <td>a total of @ patients with primary knee oa wer...</td>\n",
              "      <td>11</td>\n",
              "    </tr>\n",
              "    <tr>\n",
              "      <th>2</th>\n",
              "      <td>2</td>\n",
              "      <td>METHODS</td>\n",
              "      <td>outcome measures included pain reduction and i...</td>\n",
              "      <td>11</td>\n",
              "    </tr>\n",
              "    <tr>\n",
              "      <th>3</th>\n",
              "      <td>3</td>\n",
              "      <td>METHODS</td>\n",
              "      <td>pain was assessed using the visual analog pain...</td>\n",
              "      <td>11</td>\n",
              "    </tr>\n",
              "    <tr>\n",
              "      <th>4</th>\n",
              "      <td>4</td>\n",
              "      <td>METHODS</td>\n",
              "      <td>secondary outcome measures included the wester...</td>\n",
              "      <td>11</td>\n",
              "    </tr>\n",
              "    <tr>\n",
              "      <th>5</th>\n",
              "      <td>5</td>\n",
              "      <td>METHODS</td>\n",
              "      <td>serum levels of interleukin @ ( il-@ ) , il-@ ...</td>\n",
              "      <td>11</td>\n",
              "    </tr>\n",
              "    <tr>\n",
              "      <th>6</th>\n",
              "      <td>6</td>\n",
              "      <td>RESULTS</td>\n",
              "      <td>there was a clinically relevant reduction in t...</td>\n",
              "      <td>11</td>\n",
              "    </tr>\n",
              "    <tr>\n",
              "      <th>7</th>\n",
              "      <td>7</td>\n",
              "      <td>RESULTS</td>\n",
              "      <td>the mean difference between treatment arms ( @...</td>\n",
              "      <td>11</td>\n",
              "    </tr>\n",
              "    <tr>\n",
              "      <th>8</th>\n",
              "      <td>8</td>\n",
              "      <td>RESULTS</td>\n",
              "      <td>further , there was a clinically relevant redu...</td>\n",
              "      <td>11</td>\n",
              "    </tr>\n",
              "    <tr>\n",
              "      <th>9</th>\n",
              "      <td>9</td>\n",
              "      <td>RESULTS</td>\n",
              "      <td>these differences remained significant at @ we...</td>\n",
              "      <td>11</td>\n",
              "    </tr>\n",
              "    <tr>\n",
              "      <th>10</th>\n",
              "      <td>10</td>\n",
              "      <td>RESULTS</td>\n",
              "      <td>the outcome measures in rheumatology clinical ...</td>\n",
              "      <td>11</td>\n",
              "    </tr>\n",
              "    <tr>\n",
              "      <th>11</th>\n",
              "      <td>11</td>\n",
              "      <td>CONCLUSIONS</td>\n",
              "      <td>low-dose oral prednisolone had both a short-te...</td>\n",
              "      <td>11</td>\n",
              "    </tr>\n",
              "    <tr>\n",
              "      <th>12</th>\n",
              "      <td>0</td>\n",
              "      <td>BACKGROUND</td>\n",
              "      <td>emotional eating is associated with overeating...</td>\n",
              "      <td>10</td>\n",
              "    </tr>\n",
              "    <tr>\n",
              "      <th>13</th>\n",
              "      <td>1</td>\n",
              "      <td>BACKGROUND</td>\n",
              "      <td>yet , empirical evidence for individual ( trai...</td>\n",
              "      <td>10</td>\n",
              "    </tr>\n",
              "    <tr>\n",
              "      <th>14</th>\n",
              "      <td>2</td>\n",
              "      <td>OBJECTIVE</td>\n",
              "      <td>the aim of this study was to test if attention...</td>\n",
              "      <td>10</td>\n",
              "    </tr>\n",
              "  </tbody>\n",
              "</table>\n",
              "</div>\n",
              "    <div class=\"colab-df-buttons\">\n",
              "\n",
              "  <div class=\"colab-df-container\">\n",
              "    <button class=\"colab-df-convert\" onclick=\"convertToInteractive('df-172c4b89-2a01-47a2-9bb0-be316a2dbbe7')\"\n",
              "            title=\"Convert this dataframe to an interactive table.\"\n",
              "            style=\"display:none;\">\n",
              "\n",
              "  <svg xmlns=\"http://www.w3.org/2000/svg\" height=\"24px\" viewBox=\"0 -960 960 960\">\n",
              "    <path d=\"M120-120v-720h720v720H120Zm60-500h600v-160H180v160Zm220 220h160v-160H400v160Zm0 220h160v-160H400v160ZM180-400h160v-160H180v160Zm440 0h160v-160H620v160ZM180-180h160v-160H180v160Zm440 0h160v-160H620v160Z\"/>\n",
              "  </svg>\n",
              "    </button>\n",
              "\n",
              "  <style>\n",
              "    .colab-df-container {\n",
              "      display:flex;\n",
              "      gap: 12px;\n",
              "    }\n",
              "\n",
              "    .colab-df-convert {\n",
              "      background-color: #E8F0FE;\n",
              "      border: none;\n",
              "      border-radius: 50%;\n",
              "      cursor: pointer;\n",
              "      display: none;\n",
              "      fill: #1967D2;\n",
              "      height: 32px;\n",
              "      padding: 0 0 0 0;\n",
              "      width: 32px;\n",
              "    }\n",
              "\n",
              "    .colab-df-convert:hover {\n",
              "      background-color: #E2EBFA;\n",
              "      box-shadow: 0px 1px 2px rgba(60, 64, 67, 0.3), 0px 1px 3px 1px rgba(60, 64, 67, 0.15);\n",
              "      fill: #174EA6;\n",
              "    }\n",
              "\n",
              "    .colab-df-buttons div {\n",
              "      margin-bottom: 4px;\n",
              "    }\n",
              "\n",
              "    [theme=dark] .colab-df-convert {\n",
              "      background-color: #3B4455;\n",
              "      fill: #D2E3FC;\n",
              "    }\n",
              "\n",
              "    [theme=dark] .colab-df-convert:hover {\n",
              "      background-color: #434B5C;\n",
              "      box-shadow: 0px 1px 3px 1px rgba(0, 0, 0, 0.15);\n",
              "      filter: drop-shadow(0px 1px 2px rgba(0, 0, 0, 0.3));\n",
              "      fill: #FFFFFF;\n",
              "    }\n",
              "  </style>\n",
              "\n",
              "    <script>\n",
              "      const buttonEl =\n",
              "        document.querySelector('#df-172c4b89-2a01-47a2-9bb0-be316a2dbbe7 button.colab-df-convert');\n",
              "      buttonEl.style.display =\n",
              "        google.colab.kernel.accessAllowed ? 'block' : 'none';\n",
              "\n",
              "      async function convertToInteractive(key) {\n",
              "        const element = document.querySelector('#df-172c4b89-2a01-47a2-9bb0-be316a2dbbe7');\n",
              "        const dataTable =\n",
              "          await google.colab.kernel.invokeFunction('convertToInteractive',\n",
              "                                                    [key], {});\n",
              "        if (!dataTable) return;\n",
              "\n",
              "        const docLinkHtml = 'Like what you see? Visit the ' +\n",
              "          '<a target=\"_blank\" href=https://colab.research.google.com/notebooks/data_table.ipynb>data table notebook</a>'\n",
              "          + ' to learn more about interactive tables.';\n",
              "        element.innerHTML = '';\n",
              "        dataTable['output_type'] = 'display_data';\n",
              "        await google.colab.output.renderOutput(dataTable, element);\n",
              "        const docLink = document.createElement('div');\n",
              "        docLink.innerHTML = docLinkHtml;\n",
              "        element.appendChild(docLink);\n",
              "      }\n",
              "    </script>\n",
              "  </div>\n",
              "\n",
              "\n",
              "<div id=\"df-f3600e75-81ec-4994-9de6-15c2946d2c6e\">\n",
              "  <button class=\"colab-df-quickchart\" onclick=\"quickchart('df-f3600e75-81ec-4994-9de6-15c2946d2c6e')\"\n",
              "            title=\"Suggest charts.\"\n",
              "            style=\"display:none;\">\n",
              "\n",
              "<svg xmlns=\"http://www.w3.org/2000/svg\" height=\"24px\"viewBox=\"0 0 24 24\"\n",
              "     width=\"24px\">\n",
              "    <g>\n",
              "        <path d=\"M19 3H5c-1.1 0-2 .9-2 2v14c0 1.1.9 2 2 2h14c1.1 0 2-.9 2-2V5c0-1.1-.9-2-2-2zM9 17H7v-7h2v7zm4 0h-2V7h2v10zm4 0h-2v-4h2v4z\"/>\n",
              "    </g>\n",
              "</svg>\n",
              "  </button>\n",
              "\n",
              "<style>\n",
              "  .colab-df-quickchart {\n",
              "      --bg-color: #E8F0FE;\n",
              "      --fill-color: #1967D2;\n",
              "      --hover-bg-color: #E2EBFA;\n",
              "      --hover-fill-color: #174EA6;\n",
              "      --disabled-fill-color: #AAA;\n",
              "      --disabled-bg-color: #DDD;\n",
              "  }\n",
              "\n",
              "  [theme=dark] .colab-df-quickchart {\n",
              "      --bg-color: #3B4455;\n",
              "      --fill-color: #D2E3FC;\n",
              "      --hover-bg-color: #434B5C;\n",
              "      --hover-fill-color: #FFFFFF;\n",
              "      --disabled-bg-color: #3B4455;\n",
              "      --disabled-fill-color: #666;\n",
              "  }\n",
              "\n",
              "  .colab-df-quickchart {\n",
              "    background-color: var(--bg-color);\n",
              "    border: none;\n",
              "    border-radius: 50%;\n",
              "    cursor: pointer;\n",
              "    display: none;\n",
              "    fill: var(--fill-color);\n",
              "    height: 32px;\n",
              "    padding: 0;\n",
              "    width: 32px;\n",
              "  }\n",
              "\n",
              "  .colab-df-quickchart:hover {\n",
              "    background-color: var(--hover-bg-color);\n",
              "    box-shadow: 0 1px 2px rgba(60, 64, 67, 0.3), 0 1px 3px 1px rgba(60, 64, 67, 0.15);\n",
              "    fill: var(--button-hover-fill-color);\n",
              "  }\n",
              "\n",
              "  .colab-df-quickchart-complete:disabled,\n",
              "  .colab-df-quickchart-complete:disabled:hover {\n",
              "    background-color: var(--disabled-bg-color);\n",
              "    fill: var(--disabled-fill-color);\n",
              "    box-shadow: none;\n",
              "  }\n",
              "\n",
              "  .colab-df-spinner {\n",
              "    border: 2px solid var(--fill-color);\n",
              "    border-color: transparent;\n",
              "    border-bottom-color: var(--fill-color);\n",
              "    animation:\n",
              "      spin 1s steps(1) infinite;\n",
              "  }\n",
              "\n",
              "  @keyframes spin {\n",
              "    0% {\n",
              "      border-color: transparent;\n",
              "      border-bottom-color: var(--fill-color);\n",
              "      border-left-color: var(--fill-color);\n",
              "    }\n",
              "    20% {\n",
              "      border-color: transparent;\n",
              "      border-left-color: var(--fill-color);\n",
              "      border-top-color: var(--fill-color);\n",
              "    }\n",
              "    30% {\n",
              "      border-color: transparent;\n",
              "      border-left-color: var(--fill-color);\n",
              "      border-top-color: var(--fill-color);\n",
              "      border-right-color: var(--fill-color);\n",
              "    }\n",
              "    40% {\n",
              "      border-color: transparent;\n",
              "      border-right-color: var(--fill-color);\n",
              "      border-top-color: var(--fill-color);\n",
              "    }\n",
              "    60% {\n",
              "      border-color: transparent;\n",
              "      border-right-color: var(--fill-color);\n",
              "    }\n",
              "    80% {\n",
              "      border-color: transparent;\n",
              "      border-right-color: var(--fill-color);\n",
              "      border-bottom-color: var(--fill-color);\n",
              "    }\n",
              "    90% {\n",
              "      border-color: transparent;\n",
              "      border-bottom-color: var(--fill-color);\n",
              "    }\n",
              "  }\n",
              "</style>\n",
              "\n",
              "  <script>\n",
              "    async function quickchart(key) {\n",
              "      const quickchartButtonEl =\n",
              "        document.querySelector('#' + key + ' button');\n",
              "      quickchartButtonEl.disabled = true;  // To prevent multiple clicks.\n",
              "      quickchartButtonEl.classList.add('colab-df-spinner');\n",
              "      try {\n",
              "        const charts = await google.colab.kernel.invokeFunction(\n",
              "            'suggestCharts', [key], {});\n",
              "      } catch (error) {\n",
              "        console.error('Error during call to suggestCharts:', error);\n",
              "      }\n",
              "      quickchartButtonEl.classList.remove('colab-df-spinner');\n",
              "      quickchartButtonEl.classList.add('colab-df-quickchart-complete');\n",
              "    }\n",
              "    (() => {\n",
              "      let quickchartButtonEl =\n",
              "        document.querySelector('#df-f3600e75-81ec-4994-9de6-15c2946d2c6e button');\n",
              "      quickchartButtonEl.style.display =\n",
              "        google.colab.kernel.accessAllowed ? 'block' : 'none';\n",
              "    })();\n",
              "  </script>\n",
              "</div>\n",
              "    </div>\n",
              "  </div>\n"
            ]
          },
          "metadata": {},
          "execution_count": 16
        }
      ]
    },
    {
      "cell_type": "code",
      "source": [
        "# Distribution of labels in trainin data\n",
        "train_df['target'].value_counts()"
      ],
      "metadata": {
        "colab": {
          "base_uri": "https://localhost:8080/"
        },
        "id": "lPEl5Jrdrl7l",
        "outputId": "d18ee86d-a439-41d4-ed50-2c1f54bf797f"
      },
      "execution_count": null,
      "outputs": [
        {
          "output_type": "execute_result",
          "data": {
            "text/plain": [
              "METHODS        59353\n",
              "RESULTS        57953\n",
              "CONCLUSIONS    27168\n",
              "BACKGROUND     21727\n",
              "OBJECTIVE      13839\n",
              "Name: target, dtype: int64"
            ]
          },
          "metadata": {},
          "execution_count": 17
        }
      ]
    },
    {
      "cell_type": "code",
      "source": [
        "# Let's plot the distributions of labels in training data\n",
        "train_df['target'].value_counts().plot(kind='bar');"
      ],
      "metadata": {
        "colab": {
          "base_uri": "https://localhost:8080/",
          "height": 516
        },
        "id": "rqXboyzYtVIt",
        "outputId": "c8fcc903-2a7b-499f-9f96-38cf2ac1f18a"
      },
      "execution_count": null,
      "outputs": [
        {
          "output_type": "display_data",
          "data": {
            "text/plain": [
              "<Figure size 640x480 with 1 Axes>"
            ],
            "image/png": "[encoded data removed]"
          },
          "metadata": {}
        }
      ]
    },
    {
      "cell_type": "code",
      "source": [
        "# Check out the length of the lines\n",
        "train_df['total_lines'].plot(kind='hist', bins=25);"
      ],
      "metadata": {
        "colab": {
          "base_uri": "https://localhost:8080/",
          "height": 430
        },
        "id": "tJVD7lZysfmt",
        "outputId": "e334e915-e83a-40d2-e485-14ebf48c1a6f"
      },
      "execution_count": null,
      "outputs": [
        {
          "output_type": "display_data",
          "data": {
            "text/plain": [
              "<Figure size 640x480 with 1 Axes>"
            ],
            "image/png": "[encoded data removed]"
          },
          "metadata": {}
        }
      ]
    },
    {
      "cell_type": "markdown",
      "source": [
        "### Get the list of sentences"
      ],
      "metadata": {
        "id": "hLhoRu--uEHi"
      }
    },
    {
      "cell_type": "code",
      "source": [
        "# Convert text lines into lists\n",
        "train_sentences = train_df['text'].tolist()\n",
        "val_sentences = val_df['text'].tolist()\n",
        "test_sentences = test_df['text'].tolist()\n",
        "\n",
        "len(train_sentences), len(val_sentences), len(test_sentences)"
      ],
      "metadata": {
        "colab": {
          "base_uri": "https://localhost:8080/"
        },
        "id": "UZT73ME-uDmN",
        "outputId": "074a8a36-8a52-420c-9a3c-56006ef08af2"
      },
      "execution_count": null,
      "outputs": [
        {
          "output_type": "execute_result",
          "data": {
            "text/plain": [
              "(180040, 30212, 30135)"
            ]
          },
          "metadata": {},
          "execution_count": 20
        }
      ]
    },
    {
      "cell_type": "code",
      "source": [
        "# View the 10 lines of training sentences\n",
        "train_sentences[:10]"
      ],
      "metadata": {
        "id": "t5AiYMCys8eT",
        "colab": {
          "base_uri": "https://localhost:8080/"
        },
        "outputId": "ead7e50f-fd9c-4a7d-aeaf-fe78b7e816e3"
      },
      "execution_count": null,
      "outputs": [
        {
          "output_type": "execute_result",
          "data": {
            "text/plain": [
              "['to investigate the efficacy of @ weeks of daily low-dose oral prednisolone in improving pain , mobility , and systemic low-grade inflammation in the short term and whether the effect would be sustained at @ weeks in older adults with moderate to severe knee osteoarthritis ( oa ) .',\n",
              " 'a total of @ patients with primary knee oa were randomized @:@ ; @ received @ mg/day of prednisolone and @ received placebo for @ weeks .',\n",
              " 'outcome measures included pain reduction and improvement in function scores and systemic inflammation markers .',\n",
              " 'pain was assessed using the visual analog pain scale ( @-@ mm ) .',\n",
              " 'secondary outcome measures included the western ontario and mcmaster universities osteoarthritis index scores , patient global assessment ( pga ) of the severity of knee oa , and @-min walk distance ( @mwd ) .',\n",
              " 'serum levels of interleukin @ ( il-@ ) , il-@ , tumor necrosis factor ( tnf ) - , and high-sensitivity c-reactive protein ( hscrp ) were measured .',\n",
              " 'there was a clinically relevant reduction in the intervention group compared to the placebo group for knee pain , physical function , pga , and @mwd at @ weeks .',\n",
              " 'the mean difference between treatment arms ( @ % ci ) was @ ( @-@ @ ) , p < @ ; @ ( @-@ @ ) , p < @ ; @ ( @-@ @ ) , p < @ ; and @ ( @-@ @ ) , p < @ , respectively .',\n",
              " 'further , there was a clinically relevant reduction in the serum levels of il-@ , il-@ , tnf - , and hscrp at @ weeks in the intervention group when compared to the placebo group .',\n",
              " 'these differences remained significant at @ weeks .']"
            ]
          },
          "metadata": {},
          "execution_count": 21
        }
      ]
    },
    {
      "cell_type": "markdown",
      "source": [
        "## Making numeric labels (ML models require numeric labels)"
      ],
      "metadata": {
        "id": "rHfrGXcmN_lT"
      }
    },
    {
      "cell_type": "markdown",
      "source": [
        "### One hot encode labels"
      ],
      "metadata": {
        "id": "omNGVJAaRNA3"
      }
    },
    {
      "cell_type": "code",
      "source": [
        "# One hot encode labels\n",
        "one_hot_encoder = OneHotEncoder(sparse_output=False)\n",
        "train_labels_one_hot = one_hot_encoder.fit_transform(train_df['target'].to_numpy().reshape(-1, 1))\n",
        "val_labels_one_hot = one_hot_encoder.transform(val_df['target'].to_numpy().reshape(-1, 1))\n",
        "test_labels_one_hot = one_hot_encoder.transform(test_df['target'].to_numpy().reshape(-1, 1))\n",
        "\n",
        "# Check what one hot encoding look like\n",
        "train_labels_one_hot"
      ],
      "metadata": {
        "colab": {
          "base_uri": "https://localhost:8080/"
        },
        "id": "gPMw_iGgORYu",
        "outputId": "565d6c52-0336-42c7-ea60-b3ade698605f"
      },
      "execution_count": null,
      "outputs": [
        {
          "output_type": "execute_result",
          "data": {
            "text/plain": [
              "array([[0., 0., 0., 1., 0.],\n",
              "       [0., 0., 1., 0., 0.],\n",
              "       [0., 0., 1., 0., 0.],\n",
              "       ...,\n",
              "       [0., 0., 0., 0., 1.],\n",
              "       [0., 1., 0., 0., 0.],\n",
              "       [0., 1., 0., 0., 0.]])"
            ]
          },
          "metadata": {},
          "execution_count": 22
        }
      ]
    },
    {
      "cell_type": "markdown",
      "source": [
        "### Label encode labes"
      ],
      "metadata": {
        "id": "yL8bWmSXP55g"
      }
    },
    {
      "cell_type": "code",
      "source": [
        "# Extract labels ('target' columns) and encoed them into integers\n",
        "label_encoder = LabelEncoder()\n",
        "train_labels_encoded = label_encoder.fit_transform(train_df['target'].to_numpy())\n",
        "val_labels_encoded = label_encoder.fit_transform(val_df['target'].to_numpy())\n",
        "test_labels_encoded = label_encoder.fit_transform(test_df['target'].to_numpy())\n",
        "\n",
        "# Check what label encoding look like\n",
        "train_labels_encoded"
      ],
      "metadata": {
        "colab": {
          "base_uri": "https://localhost:8080/"
        },
        "id": "4j4pwSTwQ9de",
        "outputId": "45c40bce-3cfc-4069-e760-5589db898f1d"
      },
      "execution_count": null,
      "outputs": [
        {
          "output_type": "execute_result",
          "data": {
            "text/plain": [
              "array([3, 2, 2, ..., 4, 1, 1])"
            ]
          },
          "metadata": {},
          "execution_count": 23
        }
      ]
    },
    {
      "cell_type": "code",
      "source": [
        "# Get class names and number of classes from LabelEncoder\n",
        "num_classes = len(label_encoder.classes_)\n",
        "class_names = label_encoder.classes_\n",
        "\n",
        "num_classes, class_names"
      ],
      "metadata": {
        "colab": {
          "base_uri": "https://localhost:8080/"
        },
        "id": "bA21aNnvR8gA",
        "outputId": "a37af927-5955-434d-de83-0435da18003c"
      },
      "execution_count": null,
      "outputs": [
        {
          "output_type": "execute_result",
          "data": {
            "text/plain": [
              "(5,\n",
              " array(['BACKGROUND', 'CONCLUSIONS', 'METHODS', 'OBJECTIVE', 'RESULTS'],\n",
              "       dtype=object))"
            ]
          },
          "metadata": {},
          "execution_count": 24
        }
      ]
    },
    {
      "cell_type": "markdown",
      "source": [
        "## A series of modelling experiments"
      ],
      "metadata": {
        "id": "BBwJBwPVV9Ak"
      }
    },
    {
      "cell_type": "markdown",
      "source": [
        "### Model 0: Getting a baseline (Naive Bayes with TF-IDF)"
      ],
      "metadata": {
        "id": "rJDmEwFdUSTy"
      }
    },
    {
      "cell_type": "code",
      "source": [
        "# Imports\n",
        "from sklearn.feature_extraction.text import TfidfVectorizer\n",
        "from sklearn.naive_bayes import MultinomialNB\n",
        "from sklearn.pipeline import Pipeline"
      ],
      "metadata": {
        "id": "w0mKdjtXS92j"
      },
      "execution_count": null,
      "outputs": []
    },
    {
      "cell_type": "code",
      "source": [
        "# Create tokenization and modelling pipeline\n",
        "model_0 = Pipeline([\n",
        "    ('tfidf', TfidfVectorizer()),\n",
        "    ('clf', MultinomialNB())\n",
        "])"
      ],
      "metadata": {
        "id": "J8YfeVm-TFam"
      },
      "execution_count": null,
      "outputs": []
    },
    {
      "cell_type": "code",
      "source": [
        "# Fit the model\n",
        "model_0.fit(X=train_df['text'],\n",
        "            y=train_labels_encoded)"
      ],
      "metadata": {
        "colab": {
          "base_uri": "https://localhost:8080/",
          "height": 125
        },
        "id": "RopSADGSUwcx",
        "outputId": "3c87199e-e63c-4e1b-f8a1-0406e58ba0a2"
      },
      "execution_count": null,
      "outputs": [
        {
          "output_type": "execute_result",
          "data": {
            "text/plain": [
              "Pipeline(steps=[('tfidf', TfidfVectorizer()), ('clf', MultinomialNB())])"
            ],
            "text/html": [
              "<style>#sk-container-id-1 {color: black;background-color: white;}#sk-container-id-1 pre{padding: 0;}#sk-container-id-1 div.sk-toggleable {background-color: white;}#sk-container-id-1 label.sk-toggleable__label {cursor: pointer;display: block;width: 100%;margin-bottom: 0;padding: 0.3em;box-sizing: border-box;text-align: center;}#sk-container-id-1 label.sk-toggleable__label-arrow:before {content: \"▸\";float: left;margin-right: 0.25em;color: #696969;}#sk-container-id-1 label.sk-toggleable__label-arrow:hover:before {color: black;}#sk-container-id-1 div.sk-estimator:hover label.sk-toggleable__label-arrow:before {color: black;}#sk-container-id-1 div.sk-toggleable__content {max-height: 0;max-width: 0;overflow: hidden;text-align: left;background-color: #f0f8ff;}#sk-container-id-1 div.sk-toggleable__content pre {margin: 0.2em;color: black;border-radius: 0.25em;background-color: #f0f8ff;}#sk-container-id-1 input.sk-toggleable__control:checked~div.sk-toggleable__content {max-height: 200px;max-width: 100%;overflow: auto;}#sk-container-id-1 input.sk-toggleable__control:checked~label.sk-toggleable__label-arrow:before {content: \"▾\";}#sk-container-id-1 div.sk-estimator input.sk-toggleable__control:checked~label.sk-toggleable__label {background-color: #d4ebff;}#sk-container-id-1 div.sk-label input.sk-toggleable__control:checked~label.sk-toggleable__label {background-color: #d4ebff;}#sk-container-id-1 input.sk-hidden--visually {border: 0;clip: rect(1px 1px 1px 1px);clip: rect(1px, 1px, 1px, 1px);height: 1px;margin: -1px;overflow: hidden;padding: 0;position: absolute;width: 1px;}#sk-container-id-1 div.sk-estimator {font-family: monospace;background-color: #f0f8ff;border: 1px dotted black;border-radius: 0.25em;box-sizing: border-box;margin-bottom: 0.5em;}#sk-container-id-1 div.sk-estimator:hover {background-color: #d4ebff;}#sk-container-id-1 div.sk-parallel-item::after {content: \"\";width: 100%;border-bottom: 1px solid gray;flex-grow: 1;}#sk-container-id-1 div.sk-label:hover label.sk-toggleable__label {background-color: #d4ebff;}#sk-container-id-1 div.sk-serial::before {content: \"\";position: absolute;border-left: 1px solid gray;box-sizing: border-box;top: 0;bottom: 0;left: 50%;z-index: 0;}#sk-container-id-1 div.sk-serial {display: flex;flex-direction: column;align-items: center;background-color: white;padding-right: 0.2em;padding-left: 0.2em;position: relative;}#sk-container-id-1 div.sk-item {position: relative;z-index: 1;}#sk-container-id-1 div.sk-parallel {display: flex;align-items: stretch;justify-content: center;background-color: white;position: relative;}#sk-container-id-1 div.sk-item::before, #sk-container-id-1 div.sk-parallel-item::before {content: \"\";position: absolute;border-left: 1px solid gray;box-sizing: border-box;top: 0;bottom: 0;left: 50%;z-index: -1;}#sk-container-id-1 div.sk-parallel-item {display: flex;flex-direction: column;z-index: 1;position: relative;background-color: white;}#sk-container-id-1 div.sk-parallel-item:first-child::after {align-self: flex-end;width: 50%;}#sk-container-id-1 div.sk-parallel-item:last-child::after {align-self: flex-start;width: 50%;}#sk-container-id-1 div.sk-parallel-item:only-child::after {width: 0;}#sk-container-id-1 div.sk-dashed-wrapped {border: 1px dashed gray;margin: 0 0.4em 0.5em 0.4em;box-sizing: border-box;padding-bottom: 0.4em;background-color: white;}#sk-container-id-1 div.sk-label label {font-family: monospace;font-weight: bold;display: inline-block;line-height: 1.2em;}#sk-container-id-1 div.sk-label-container {text-align: center;}#sk-container-id-1 div.sk-container {/* jupyter's `normalize.less` sets `[hidden] { display: none; }` but bootstrap.min.css set `[hidden] { display: none !important; }` so we also need the `!important` here to be able to override the default hidden behavior on the sphinx rendered scikit-learn.org. See: https://github.com/scikit-learn/scikit-learn/issues/21755 */display: inline-block !important;position: relative;}#sk-container-id-1 div.sk-text-repr-fallback {display: none;}</style><div id=\"sk-container-id-1\" class=\"sk-top-container\"><div class=\"sk-text-repr-fallback\"><pre>Pipeline(steps=[(&#x27;tfidf&#x27;, TfidfVectorizer()), (&#x27;clf&#x27;, MultinomialNB())])</pre><b>In a Jupyter environment, please rerun this cell to show the HTML representation or trust the notebook. <br />On GitHub, the HTML representation is unable to render, please try loading this page with nbviewer.org.</b></div><div class=\"sk-container\" hidden><div class=\"sk-item sk-dashed-wrapped\"><div class=\"sk-label-container\"><div class=\"sk-label sk-toggleable\"><input class=\"sk-toggleable__control sk-hidden--visually\" id=\"sk-estimator-id-1\" type=\"checkbox\" ><label for=\"sk-estimator-id-1\" class=\"sk-toggleable__label sk-toggleable__label-arrow\">Pipeline</label><div class=\"sk-toggleable__content\"><pre>Pipeline(steps=[(&#x27;tfidf&#x27;, TfidfVectorizer()), (&#x27;clf&#x27;, MultinomialNB())])</pre></div></div></div><div class=\"sk-serial\"><div class=\"sk-item\"><div class=\"sk-estimator sk-toggleable\"><input class=\"sk-toggleable__control sk-hidden--visually\" id=\"sk-estimator-id-2\" type=\"checkbox\" ><label for=\"sk-estimator-id-2\" class=\"sk-toggleable__label sk-toggleable__label-arrow\">TfidfVectorizer</label><div class=\"sk-toggleable__content\"><pre>TfidfVectorizer()</pre></div></div></div><div class=\"sk-item\"><div class=\"sk-estimator sk-toggleable\"><input class=\"sk-toggleable__control sk-hidden--visually\" id=\"sk-estimator-id-3\" type=\"checkbox\" ><label for=\"sk-estimator-id-3\" class=\"sk-toggleable__label sk-toggleable__label-arrow\">MultinomialNB</label><div class=\"sk-toggleable__content\"><pre>MultinomialNB()</pre></div></div></div></div></div></div></div>"
            ]
          },
          "metadata": {},
          "execution_count": 27
        }
      ]
    },
    {
      "cell_type": "code",
      "source": [
        "# Evaluate baseline model\n",
        "baseline_score = model_0.score(X=val_df['text'],\n",
        "                               y=val_labels_encoded)\n",
        "print(f'Baseline model accuracy: %{baseline_score*100:.2f}')"
      ],
      "metadata": {
        "colab": {
          "base_uri": "https://localhost:8080/"
        },
        "id": "kQOrA3byVAgu",
        "outputId": "39c347fb-2ea3-44e6-e58a-331613452221"
      },
      "execution_count": null,
      "outputs": [
        {
          "output_type": "stream",
          "name": "stdout",
          "text": [
            "Baseline model accuracy: %72.18\n"
          ]
        }
      ]
    },
    {
      "cell_type": "code",
      "source": [
        "# Make predictions using our baseline model\n",
        "baseline_preds = model_0.predict(val_sentences)\n",
        "baseline_preds"
      ],
      "metadata": {
        "colab": {
          "base_uri": "https://localhost:8080/"
        },
        "id": "gC87dyL8XNgw",
        "outputId": "c476f32c-5525-48a5-e134-e6615ade2dec"
      },
      "execution_count": null,
      "outputs": [
        {
          "output_type": "execute_result",
          "data": {
            "text/plain": [
              "array([4, 1, 3, ..., 4, 4, 1])"
            ]
          },
          "metadata": {},
          "execution_count": 29
        }
      ]
    },
    {
      "cell_type": "code",
      "source": [
        "# Function to evaluate: accuracy, precision, recall, f1-score\n",
        "from sklearn.metrics import accuracy_score, precision_recall_fscore_support\n",
        "\n",
        "def calculate_results(y_true, y_pred):\n",
        "    \"\"\"\n",
        "    Calculate the model accuracy, precision, recall, f1-score of a binary classification model.\n",
        "    \"\"\"\n",
        "    # Calculate model accuracy\n",
        "    model_accuracy = accuracy_score(y_true, y_pred)\n",
        "    # Calculate model precision, recall and f1-score using \"weighted\" average\n",
        "    model_precision, model_recall, model_f1, _ = precision_recall_fscore_support(y_true, y_pred, average='weighted')\n",
        "    model_results = {\n",
        "        'accuracy': model_accuracy,\n",
        "        'precision': model_precision,\n",
        "        'recall': model_recall,\n",
        "        'f1': model_f1\n",
        "    }\n",
        "    return model_results"
      ],
      "metadata": {
        "id": "wN-9WzF6Y4ZA"
      },
      "execution_count": null,
      "outputs": []
    },
    {
      "cell_type": "code",
      "source": [
        "# Get baseline results\n",
        "baseline_results = calculate_results(y_true=val_labels_encoded,\n",
        "                                     y_pred=baseline_preds)\n",
        "baseline_results"
      ],
      "metadata": {
        "colab": {
          "base_uri": "https://localhost:8080/"
        },
        "id": "ArKcwis9ZGdh",
        "outputId": "996b0ba0-8043-4c39-aa0e-3d87a80b23e5"
      },
      "execution_count": null,
      "outputs": [
        {
          "output_type": "execute_result",
          "data": {
            "text/plain": [
              "{'accuracy': 0.7218323844829869,\n",
              " 'precision': 0.7186466952323352,\n",
              " 'recall': 0.7218323844829869,\n",
              " 'f1': 0.6989250353450294}"
            ]
          },
          "metadata": {},
          "execution_count": 31
        }
      ]
    },
    {
      "cell_type": "markdown",
      "source": [
        "### Text Vectorization and Embedding\n",
        "\n",
        "Preparing our data for deep sequence model. Before we start building deeper models, we've got to create vectorization and embedding layers."
      ],
      "metadata": {
        "id": "VjN5NjiiZbv4"
      }
    },
    {
      "cell_type": "code",
      "source": [
        "# How long is each sentence on average?\n",
        "sent_lens = [len(sentence.split()) for sentence in train_sentences]\n",
        "avg_sent_len = np.mean(sent_lens)\n",
        "avg_sent_len"
      ],
      "metadata": {
        "colab": {
          "base_uri": "https://localhost:8080/"
        },
        "id": "eiNXOwfGgVvE",
        "outputId": "fbd2f093-2660-45ef-fbc1-44dbe8846f7c"
      },
      "execution_count": null,
      "outputs": [
        {
          "output_type": "execute_result",
          "data": {
            "text/plain": [
              "26.338269273494777"
            ]
          },
          "metadata": {},
          "execution_count": 32
        }
      ]
    },
    {
      "cell_type": "code",
      "source": [
        "# What's the distribution look like?\n",
        "plt.hist(sent_lens, bins=30);"
      ],
      "metadata": {
        "colab": {
          "base_uri": "https://localhost:8080/",
          "height": 430
        },
        "id": "eS3H_aTEhdcY",
        "outputId": "fc035bff-868f-40ba-d91b-1078391ebd30"
      },
      "execution_count": null,
      "outputs": [
        {
          "output_type": "display_data",
          "data": {
            "text/plain": [
              "<Figure size 640x480 with 1 Axes>"
            ],
            "image/png": "[encoded data removed]"
          },
          "metadata": {}
        }
      ]
    },
    {
      "cell_type": "code",
      "source": [
        "# How long of a sentence length covers %95 of examples?\n",
        "output_seq_len = np.percentile(sent_lens, 95)\n",
        "output_seq_len"
      ],
      "metadata": {
        "colab": {
          "base_uri": "https://localhost:8080/"
        },
        "id": "O6w94uAch356",
        "outputId": "055f5d48-d0f5-447d-fa0e-627316025383"
      },
      "execution_count": null,
      "outputs": [
        {
          "output_type": "execute_result",
          "data": {
            "text/plain": [
              "55.0"
            ]
          },
          "metadata": {},
          "execution_count": 34
        }
      ]
    },
    {
      "cell_type": "code",
      "source": [
        "# Max sequence length in the training sentence\n",
        "max(sent_lens)"
      ],
      "metadata": {
        "colab": {
          "base_uri": "https://localhost:8080/"
        },
        "id": "ZBBd5yz1iefr",
        "outputId": "05669cd3-b9e3-4783-f439-7a618bbfa467"
      },
      "execution_count": null,
      "outputs": [
        {
          "output_type": "execute_result",
          "data": {
            "text/plain": [
              "296"
            ]
          },
          "metadata": {},
          "execution_count": 35
        }
      ]
    },
    {
      "cell_type": "code",
      "source": [
        "# Create the text vectorization\n",
        "from tensorflow.keras.layers.experimental.preprocessing import TextVectorization\n",
        "\n",
        "text_vectorizer = TextVectorization(max_tokens=68000, # how many unique vocabulary we have. This value got from the original paper\n",
        "                                    output_sequence_length=int(output_seq_len))"
      ],
      "metadata": {
        "id": "SCsnLm28i6ma"
      },
      "execution_count": null,
      "outputs": []
    },
    {
      "cell_type": "code",
      "source": [
        "# Fit the text vectorizer on the training data\n",
        "text_vectorizer.adapt(train_sentences)"
      ],
      "metadata": {
        "id": "qZtmqKqNmFfD"
      },
      "execution_count": null,
      "outputs": []
    },
    {
      "cell_type": "code",
      "source": [
        "# Test out text vectorizer on random sentence\n",
        "target_sentence = random.choice(train_sentences)\n",
        "print(f'Random Sentence:\\n', target_sentence, 2*'\\n')\n",
        "print(f'Text Vectorization:\\n', text_vectorizer([target_sentence]))"
      ],
      "metadata": {
        "colab": {
          "base_uri": "https://localhost:8080/"
        },
        "id": "GuHwS-qhmPV8",
        "outputId": "9444e960-2f40-4cf6-c27a-1010aa731fcf"
      },
      "execution_count": null,
      "outputs": [
        {
          "output_type": "stream",
          "name": "stdout",
          "text": [
            "Random Sentence:\n",
            " mirabegron was associated with a gain of @ quality-adjusted life-years ( qalys ) with an additional cost of @ . \n",
            "\n",
            "\n",
            "Text Vectorization:\n",
            " tf.Tensor(\n",
            "[[11980    10    81     7     8   965     4  3213  7500  3935     7    26\n",
            "    365   608     4     0     0     0     0     0     0     0     0     0\n",
            "      0     0     0     0     0     0     0     0     0     0     0     0\n",
            "      0     0     0     0     0     0     0     0     0     0     0     0\n",
            "      0     0     0     0     0     0     0]], shape=(1, 55), dtype=int64)\n"
          ]
        }
      ]
    },
    {
      "cell_type": "code",
      "source": [
        "# How many words in our training vocabulary\n",
        "rct_20k_text_vocab = text_vectorizer.get_vocabulary()\n",
        "print(f'Number of words in vocab: {len(rct_20k_text_vocab)}')\n",
        "print(f'Most common words in vocab: {rct_20k_text_vocab[:5]}')\n",
        "print(f'Least common words in vocab: {rct_20k_text_vocab[-5:]}')"
      ],
      "metadata": {
        "colab": {
          "base_uri": "https://localhost:8080/"
        },
        "id": "GXgd0gCAm2j7",
        "outputId": "abd16775-9619-4573-e308-bee5c1b6600c"
      },
      "execution_count": null,
      "outputs": [
        {
          "output_type": "stream",
          "name": "stdout",
          "text": [
            "Number of words in vocab: 64841\n",
            "Most common words in vocab: ['', '[UNK]', 'the', 'and', 'of']\n",
            "Least common words in vocab: ['aainduced', 'aaigroup', 'aachener', 'aachen', 'aaacp']\n"
          ]
        }
      ]
    },
    {
      "cell_type": "code",
      "source": [
        "# Get the config of our text vectorizer\n",
        "text_vectorizer.get_config()"
      ],
      "metadata": {
        "colab": {
          "base_uri": "https://localhost:8080/"
        },
        "id": "Hs3Jcb6ioVNz",
        "outputId": "33653c2d-99ca-4112-d847-499b1dd7f7b3"
      },
      "execution_count": null,
      "outputs": [
        {
          "output_type": "execute_result",
          "data": {
            "text/plain": [
              "{'name': 'text_vectorization',\n",
              " 'trainable': True,\n",
              " 'dtype': 'string',\n",
              " 'batch_input_shape': (None,),\n",
              " 'max_tokens': 68000,\n",
              " 'standardize': 'lower_and_strip_punctuation',\n",
              " 'split': 'whitespace',\n",
              " 'ngrams': None,\n",
              " 'output_mode': 'int',\n",
              " 'output_sequence_length': 55,\n",
              " 'pad_to_max_tokens': False,\n",
              " 'sparse': False,\n",
              " 'ragged': False,\n",
              " 'vocabulary': None,\n",
              " 'idf_weights': None,\n",
              " 'encoding': 'utf-8',\n",
              " 'vocabulary_size': 64841}"
            ]
          },
          "metadata": {},
          "execution_count": 40
        }
      ]
    },
    {
      "cell_type": "code",
      "source": [
        "# Creatin embedding layer\n",
        "token_embed = tf.keras.layers.Embedding(input_dim=len(rct_20k_text_vocab), # length of vocabulary\n",
        "                                      output_dim=128,\n",
        "                                      mask_zero=True,\n",
        "                                      name='token_embedding')"
      ],
      "metadata": {
        "id": "NC5RD_cBzYW8"
      },
      "execution_count": null,
      "outputs": []
    },
    {
      "cell_type": "code",
      "source": [
        "# Show example embedding\n",
        "print(f'Sentence before vectorization:\\n{target_sentence}\\n')\n",
        "vectorized_sentence = text_vectorizer([target_sentence])\n",
        "print(f'Sentece after vectorization (before embedding):\\n{vectorized_sentence}\\n')\n",
        "embedded_sentence = token_embed(vectorized_sentence)\n",
        "print(f'Sentence after embedding:\\n{embedded_sentence}\\n')\n",
        "print(f'Embedded shape: {embedded_sentence.shape}')"
      ],
      "metadata": {
        "colab": {
          "base_uri": "https://localhost:8080/"
        },
        "id": "oHHQD6Zp18ms",
        "outputId": "3c06bac9-39d7-495b-a457-f2fe8a2ef585"
      },
      "execution_count": null,
      "outputs": [
        {
          "output_type": "stream",
          "name": "stdout",
          "text": [
            "Sentence before vectorization:\n",
            "mirabegron was associated with a gain of @ quality-adjusted life-years ( qalys ) with an additional cost of @ .\n",
            "\n",
            "Sentece after vectorization (before embedding):\n",
            "[[11980    10    81     7     8   965     4  3213  7500  3935     7    26\n",
            "    365   608     4     0     0     0     0     0     0     0     0     0\n",
            "      0     0     0     0     0     0     0     0     0     0     0     0\n",
            "      0     0     0     0     0     0     0     0     0     0     0     0\n",
            "      0     0     0     0     0     0     0]]\n",
            "\n",
            "Sentence after embedding:\n",
            "[[[-0.00214605 -0.01810139 -0.04557192 ...  0.01019224  0.01246608\n",
            "   -0.01487354]\n",
            "  [ 0.0236874   0.01472581  0.01164073 ...  0.02696783  0.02008886\n",
            "    0.00691483]\n",
            "  [-0.00640185 -0.00277076 -0.03966641 ... -0.01912693  0.03126037\n",
            "    0.02239585]\n",
            "  ...\n",
            "  [-0.00108128  0.01554512 -0.02927919 ...  0.03986755  0.01545278\n",
            "   -0.00459745]\n",
            "  [-0.00108128  0.01554512 -0.02927919 ...  0.03986755  0.01545278\n",
            "   -0.00459745]\n",
            "  [-0.00108128  0.01554512 -0.02927919 ...  0.03986755  0.01545278\n",
            "   -0.00459745]]]\n",
            "\n",
            "Embedded shape: (1, 55, 128)\n"
          ]
        }
      ]
    },
    {
      "cell_type": "markdown",
      "source": [
        "### Creating datasets (making sure our data loads as fast as possible)\n",
        "\n",
        "We are going to setup our data as fast as possible with TensorFlow tf.data API, many of these steps discuss in the icluded next two resources:\n",
        "\n",
        "* https://www.tensorflow.org/guide/data_performance\n",
        "* https://www.tensorflow.org/guide/data"
      ],
      "metadata": {
        "id": "4YF35CY23frb"
      }
    },
    {
      "cell_type": "code",
      "source": [
        "# Turn our data into TensorFlow Datasets\n",
        "train_dataset = tf.data.Dataset.from_tensor_slices((train_sentences, train_labels_one_hot))\n",
        "valid_dataset = tf.data.Dataset.from_tensor_slices((val_sentences, val_labels_one_hot))\n",
        "test_dataset = tf.data.Dataset.from_tensor_slices((test_sentences, test_labels_one_hot))\n",
        "\n",
        "# Check the train dataset\n",
        "train_dataset"
      ],
      "metadata": {
        "colab": {
          "base_uri": "https://localhost:8080/"
        },
        "id": "b7uIE-434jLZ",
        "outputId": "89c87158-86ad-46cd-fdd6-f64a0100a869"
      },
      "execution_count": null,
      "outputs": [
        {
          "output_type": "execute_result",
          "data": {
            "text/plain": [
              "<_TensorSliceDataset element_spec=(TensorSpec(shape=(), dtype=tf.string, name=None), TensorSpec(shape=(5,), dtype=tf.float64, name=None))>"
            ]
          },
          "metadata": {},
          "execution_count": 43
        }
      ]
    },
    {
      "cell_type": "code",
      "source": [
        "# Take the TensorSliceDataset's and turn them to prefected datasets\n",
        "train_dataset = train_dataset.batch(32).prefetch(tf.data.AUTOTUNE)\n",
        "valid_dataset = valid_dataset.batch(32).prefetch(tf.data.AUTOTUNE)\n",
        "test_dataset = test_dataset.batch(32).prefetch(tf.data.AUTOTUNE)\n",
        "\n",
        "# Check the train dataset\n",
        "train_dataset"
      ],
      "metadata": {
        "colab": {
          "base_uri": "https://localhost:8080/"
        },
        "id": "YBagrKB96Ehp",
        "outputId": "56089472-d86f-4ef2-c5f0-d4863bb26b1c"
      },
      "execution_count": null,
      "outputs": [
        {
          "output_type": "execute_result",
          "data": {
            "text/plain": [
              "<_PrefetchDataset element_spec=(TensorSpec(shape=(None,), dtype=tf.string, name=None), TensorSpec(shape=(None, 5), dtype=tf.float64, name=None))>"
            ]
          },
          "metadata": {},
          "execution_count": 44
        }
      ]
    },
    {
      "cell_type": "markdown",
      "source": [
        "### Model 1: Conv1D with token embedding"
      ],
      "metadata": {
        "id": "4UEFmISn7cnZ"
      }
    },
    {
      "cell_type": "code",
      "source": [
        "# Create 1D conv model to process sequence\n",
        "inputs = layers.Input(shape=(1,), dtype=tf.string)\n",
        "x = text_vectorizer(inputs) # text vectorization layer\n",
        "x = token_embed(x) # embedding layer\n",
        "x = layers.Conv1D(filters=64,\n",
        "                  kernel_size=5,\n",
        "                  activation='relu',\n",
        "                  padding='same',\n",
        "                  strides=1)(x) # Conv1D layer\n",
        "x = layers.GlobalMaxPool1D()(x) # Global Pooling Layer\n",
        "outputs = layers.Dense(num_classes, activation='softmax')(x)\n",
        "model_1 = tf.keras.Model(inputs, outputs, name='Model_1_Conv1D')\n",
        "\n",
        "# Compile the model\n",
        "model_1.compile(\n",
        "    loss='categorical_crossentropy',\n",
        "    optimizer=tf.keras.optimizers.Adam(),\n",
        "    metrics=['accuracy']\n",
        ")"
      ],
      "metadata": {
        "id": "4G-DGRUK7zSu"
      },
      "execution_count": null,
      "outputs": []
    },
    {
      "cell_type": "code",
      "source": [
        "# Get the summary of model\n",
        "model_1.summary()"
      ],
      "metadata": {
        "colab": {
          "base_uri": "https://localhost:8080/"
        },
        "id": "VKfELl0b-dvW",
        "outputId": "9b8e631b-83fa-4954-93c1-17b107d64b04"
      },
      "execution_count": null,
      "outputs": [
        {
          "output_type": "stream",
          "name": "stdout",
          "text": [
            "Model: \"Model_1_Conv1D\"\n",
            "_________________________________________________________________\n",
            " Layer (type)                Output Shape              Param #   \n",
            "=================================================================\n",
            " input_1 (InputLayer)        [(None, 1)]               0         \n",
            "                                                                 \n",
            " text_vectorization (TextVec  (None, 55)               0         \n",
            " torization)                                                     \n",
            "                                                                 \n",
            " token_embedding (Embedding)  (None, 55, 128)          8299648   \n",
            "                                                                 \n",
            " conv1d (Conv1D)             (None, 55, 64)            41024     \n",
            "                                                                 \n",
            " global_max_pooling1d (Globa  (None, 64)               0         \n",
            " lMaxPooling1D)                                                  \n",
            "                                                                 \n",
            " dense (Dense)               (None, 5)                 325       \n",
            "                                                                 \n",
            "=================================================================\n",
            "Total params: 8,340,997\n",
            "Trainable params: 8,340,997\n",
            "Non-trainable params: 0\n",
            "_________________________________________________________________\n"
          ]
        }
      ]
    },
    {
      "cell_type": "code",
      "source": [
        "# Fit the model\n",
        "history_model_1 = model_1.fit(train_dataset,\n",
        "                              steps_per_epoch=int(0.1*len(train_dataset)),\n",
        "                              epochs=5,\n",
        "                              validation_data=valid_dataset,\n",
        "                              validation_steps=int(0.1*len(valid_dataset))) # only validate on %10 of batches"
      ],
      "metadata": {
        "colab": {
          "base_uri": "https://localhost:8080/"
        },
        "id": "nmk1kGid-hpG",
        "outputId": "986d67eb-7676-47e7-9df8-1c8ee13525bf"
      },
      "execution_count": null,
      "outputs": [
        {
          "output_type": "stream",
          "name": "stdout",
          "text": [
            "Epoch 1/5\n",
            "562/562 [==============================] - 70s 122ms/step - loss: 0.8381 - accuracy: 0.6834 - val_loss: 0.5863 - val_accuracy: 0.7819\n",
            "Epoch 2/5\n",
            "562/562 [==============================] - 69s 122ms/step - loss: 0.5755 - accuracy: 0.7880 - val_loss: 0.5412 - val_accuracy: 0.7995\n",
            "Epoch 3/5\n",
            "562/562 [==============================] - 69s 123ms/step - loss: 0.5399 - accuracy: 0.8015 - val_loss: 0.5224 - val_accuracy: 0.8078\n",
            "Epoch 4/5\n",
            "562/562 [==============================] - 69s 122ms/step - loss: 0.5203 - accuracy: 0.8114 - val_loss: 0.5182 - val_accuracy: 0.8138\n",
            "Epoch 5/5\n",
            "562/562 [==============================] - 78s 138ms/step - loss: 0.5278 - accuracy: 0.8074 - val_loss: 0.4900 - val_accuracy: 0.8191\n"
          ]
        }
      ]
    },
    {
      "cell_type": "code",
      "source": [
        "# Evaluate model on the whole validation dataset\n",
        "model_1.evaluate(valid_dataset)"
      ],
      "metadata": {
        "colab": {
          "base_uri": "https://localhost:8080/"
        },
        "id": "JLq96w8n_yrO",
        "outputId": "2e4591d7-efa3-4ac8-c839-2d742cfdbad2"
      },
      "execution_count": null,
      "outputs": [
        {
          "output_type": "stream",
          "name": "stdout",
          "text": [
            "945/945 [==============================] - 6s 6ms/step - loss: 0.4932 - accuracy: 0.8200\n"
          ]
        },
        {
          "output_type": "execute_result",
          "data": {
            "text/plain": [
              "[0.4932171106338501, 0.8199722170829773]"
            ]
          },
          "metadata": {},
          "execution_count": 48
        }
      ]
    },
    {
      "cell_type": "code",
      "source": [
        "# Make predictions (model predicts predcition probabilities of each classes)\n",
        "model_1_preds_probs = model_1.predict(valid_dataset)\n",
        "model_1_preds_probs, model_1_preds_probs.shape"
      ],
      "metadata": {
        "colab": {
          "base_uri": "https://localhost:8080/"
        },
        "id": "Wet97_zzBKn-",
        "outputId": "afd5a9e3-6c10-4c65-e199-b61f4550d547"
      },
      "execution_count": null,
      "outputs": [
        {
          "output_type": "stream",
          "name": "stdout",
          "text": [
            "945/945 [==============================] - 6s 6ms/step\n"
          ]
        },
        {
          "output_type": "execute_result",
          "data": {
            "text/plain": [
              "(array([[6.36528790e-01, 1.94404393e-01, 2.76769185e-03, 1.40477538e-01,\n",
              "         2.58216616e-02],\n",
              "        [3.89293760e-01, 4.61242288e-01, 6.07221993e-03, 8.34139958e-02,\n",
              "         5.99777438e-02],\n",
              "        [2.35891670e-01, 6.72532711e-03, 5.16846031e-03, 7.51782894e-01,\n",
              "         4.31598513e-04],\n",
              "        ...,\n",
              "        [6.14829944e-04, 1.06000633e-03, 1.07714739e-02, 2.73441139e-04,\n",
              "         9.87280190e-01],\n",
              "        [1.71658471e-02, 5.33282518e-01, 1.33753745e-02, 9.69492644e-03,\n",
              "         4.26481307e-01],\n",
              "        [6.29841536e-02, 9.21710908e-01, 8.31322838e-03, 2.68709124e-03,\n",
              "         4.30450309e-03]], dtype=float32),\n",
              " (30212, 5))"
            ]
          },
          "metadata": {},
          "execution_count": 49
        }
      ]
    },
    {
      "cell_type": "code",
      "source": [
        "# Convert preds probs to classes\n",
        "model_1_preds = tf.argmax(model_1_preds_probs, axis=1)\n",
        "model_1_preds"
      ],
      "metadata": {
        "colab": {
          "base_uri": "https://localhost:8080/"
        },
        "id": "qbYqv9ADBfH9",
        "outputId": "ebf8913e-eb4e-439b-8386-8375a03750da"
      },
      "execution_count": null,
      "outputs": [
        {
          "output_type": "execute_result",
          "data": {
            "text/plain": [
              "<tf.Tensor: shape=(30212,), dtype=int64, numpy=array([0, 1, 3, ..., 4, 1, 1])>"
            ]
          },
          "metadata": {},
          "execution_count": 50
        }
      ]
    },
    {
      "cell_type": "code",
      "source": [
        "# Remind the class names\n",
        "class_names"
      ],
      "metadata": {
        "colab": {
          "base_uri": "https://localhost:8080/"
        },
        "id": "IlURxOHyCCxX",
        "outputId": "b7943d6b-7b4b-4c9f-a0b2-2242b5983cef"
      },
      "execution_count": null,
      "outputs": [
        {
          "output_type": "execute_result",
          "data": {
            "text/plain": [
              "array(['BACKGROUND', 'CONCLUSIONS', 'METHODS', 'OBJECTIVE', 'RESULTS'],\n",
              "      dtype=object)"
            ]
          },
          "metadata": {},
          "execution_count": 51
        }
      ]
    },
    {
      "cell_type": "code",
      "source": [
        "# Calculate model results\n",
        "model_1_results = calculate_results(y_true=val_labels_encoded,\n",
        "                                    y_pred=model_1_preds)\n",
        "model_1_results"
      ],
      "metadata": {
        "colab": {
          "base_uri": "https://localhost:8080/"
        },
        "id": "F4q10ezlCJe1",
        "outputId": "607100ed-83cd-42ec-cf91-911af4ee962b"
      },
      "execution_count": null,
      "outputs": [
        {
          "output_type": "execute_result",
          "data": {
            "text/plain": [
              "{'accuracy': 0.8199721964782206,\n",
              " 'precision': 0.8228456254140641,\n",
              " 'recall': 0.8199721964782206,\n",
              " 'f1': 0.8176644199459381}"
            ]
          },
          "metadata": {},
          "execution_count": 52
        }
      ]
    },
    {
      "cell_type": "code",
      "source": [
        "# Remind the baseline results\n",
        "baseline_results"
      ],
      "metadata": {
        "colab": {
          "base_uri": "https://localhost:8080/"
        },
        "id": "wu2NLRZ8CWXM",
        "outputId": "e6de3af4-d0a5-44e3-aa42-9e7e025f844f"
      },
      "execution_count": null,
      "outputs": [
        {
          "output_type": "execute_result",
          "data": {
            "text/plain": [
              "{'accuracy': 0.7218323844829869,\n",
              " 'precision': 0.7186466952323352,\n",
              " 'recall': 0.7218323844829869,\n",
              " 'f1': 0.6989250353450294}"
            ]
          },
          "metadata": {},
          "execution_count": 53
        }
      ]
    },
    {
      "cell_type": "markdown",
      "source": [
        "Hmm.. It looks we got the better results with the Conv1D model.."
      ],
      "metadata": {
        "id": "TPEvgJ6yCfds"
      }
    },
    {
      "cell_type": "markdown",
      "source": [
        "### Model 2: Feature extraction with pretrained token embedding\n"
      ],
      "metadata": {
        "id": "Wqe9gksdCd_D"
      }
    },
    {
      "cell_type": "code",
      "source": [
        "# Import model from tensorflow hub\n",
        "embed = hub.load('https://tfhub.dev/google/universal-sentence-encoder/4')"
      ],
      "metadata": {
        "id": "LD1kccPUFtyn"
      },
      "execution_count": null,
      "outputs": []
    },
    {
      "cell_type": "code",
      "source": [
        "# Let's look at the a single sample\n",
        "random_train_sentence = random.choice(train_sentences)\n",
        "print(f'Random sentence:\\n{random_train_sentence}\\n')\n",
        "embed_random_sentence = embed([random_train_sentence])\n",
        "print(f'Sentence after embedding:\\n{embed_random_sentence}\\n')\n",
        "print(f'Embed shape: {embed_random_sentence.shape}')"
      ],
      "metadata": {
        "colab": {
          "base_uri": "https://localhost:8080/"
        },
        "id": "MmGftsH6F_v6",
        "outputId": "e0dfa548-939c-4f4c-82e7-c11cb6c6712a"
      },
      "execution_count": null,
      "outputs": [
        {
          "output_type": "stream",
          "name": "stdout",
          "text": [
            "Random sentence:\n",
            "mesalamine did not reduce the rate of diverticulitis recurrence at week @ .\n",
            "\n",
            "Sentence after embedding:\n",
            "[[ 6.87584234e-03 -3.37069519e-02 -5.62382117e-03 -3.75189297e-02\n",
            "  -7.45348409e-02  4.93370146e-02  3.36413458e-02 -7.87063688e-02\n",
            "  -4.81404038e-03  8.76420289e-02  5.66740483e-02  4.83964495e-02\n",
            "  -3.50644775e-02  4.72294632e-03  1.70942326e-03  5.08806109e-02\n",
            "  -7.27316290e-02  4.40983661e-02 -3.26556526e-03  2.26788688e-02\n",
            "  -7.32949227e-02 -2.39137504e-02 -7.24456757e-02 -9.85898357e-03\n",
            "   1.09752184e-02  3.78163904e-02 -5.17245894e-03 -1.01131750e-02\n",
            "  -5.46576157e-02  1.23956585e-02  4.62837964e-02  9.23632607e-02\n",
            "  -2.86514722e-02 -3.78958434e-02 -1.30371517e-02  5.39225712e-02\n",
            "  -3.19953859e-02 -3.77141088e-02 -3.86520438e-02 -6.86831698e-02\n",
            "   4.59769331e-02  5.81579246e-02  6.11556582e-02  3.12908851e-02\n",
            "   2.42003463e-02  6.39659911e-02 -2.11212737e-03  3.61028090e-02\n",
            "   5.94929978e-02 -2.41674930e-02 -4.83139567e-02  3.25678177e-02\n",
            "  -2.08239760e-02  7.76355416e-02  6.60136268e-02  3.82582732e-02\n",
            "   6.07399195e-02  2.35400461e-02  3.31676640e-02  4.26615290e-02\n",
            "  -3.12083252e-02  4.59654704e-02  7.29952604e-02 -2.76684761e-03\n",
            "  -5.13259694e-02 -1.92654300e-02 -5.73963821e-02 -2.48929244e-02\n",
            "  -1.81782506e-02 -1.95705388e-02  2.44899970e-02 -8.64513814e-02\n",
            "   4.81003746e-02 -2.24924479e-02 -5.49507625e-02  3.73399220e-02\n",
            "   2.34501413e-03  4.56694402e-02 -5.36758266e-02 -5.64456321e-02\n",
            "  -6.41707182e-02  4.05686758e-02  3.92949395e-02 -8.22576284e-02\n",
            "  -1.56028122e-02 -4.46882062e-02  6.50242567e-02 -1.66315660e-02\n",
            "  -9.88193415e-03 -2.16126665e-02  3.03470604e-02 -2.16409732e-02\n",
            "   8.16491246e-02  6.14099726e-02  4.38545011e-02 -1.79713145e-02\n",
            "  -6.87990487e-02 -4.28401828e-02  1.08536510e-02 -3.36311832e-02\n",
            "  -3.80481817e-02  1.02174971e-02 -6.34006858e-02  3.65253575e-02\n",
            "   1.64210722e-02 -5.85460477e-02  8.96766037e-03  7.03644827e-02\n",
            "   4.77830600e-03 -4.92891632e-02  1.38262436e-02 -6.67475685e-02\n",
            "  -5.58486320e-02  2.31306646e-02  2.62675947e-03 -2.76756939e-02\n",
            "   2.16660858e-03 -9.14358497e-02  3.97090651e-02 -1.91970228e-03\n",
            "  -2.23444924e-02 -5.29243685e-02  3.16468738e-02  4.38008318e-03\n",
            "  -1.46138771e-02  2.78984029e-02  9.30032413e-03  7.92300925e-02\n",
            "   5.00589944e-02 -5.03601246e-02 -2.63066404e-02  9.43870842e-02\n",
            "   3.99031267e-02 -5.02336025e-02  1.69364605e-02 -7.25020766e-02\n",
            "   2.23633312e-02  3.46167162e-02  2.02303962e-03 -5.77820791e-03\n",
            "   1.45563381e-02 -3.14620025e-02 -7.59842470e-02  1.76593848e-03\n",
            "   3.60749178e-02 -5.25889769e-02  2.79934667e-02 -4.60258015e-02\n",
            "  -6.13350188e-03  5.69631979e-02 -8.43756497e-02  1.59813613e-02\n",
            "  -4.22173589e-02  4.70391884e-02  3.35984752e-02  6.07836135e-02\n",
            "  -3.12554240e-02 -2.39178948e-02 -3.77569385e-02 -3.22661772e-02\n",
            "   3.10889091e-02 -4.55557220e-02 -1.15251709e-02  9.98622039e-04\n",
            "   4.05952781e-02 -3.10026202e-02 -4.84499894e-02  6.34852052e-02\n",
            "  -3.69189382e-02  1.57835316e-02  4.70866375e-02 -9.54386368e-02\n",
            "   9.45471600e-03 -5.83753809e-02  6.16300711e-03  9.93136410e-03\n",
            "  -1.14383921e-02 -4.35723588e-02 -2.00996678e-02 -2.85273027e-02\n",
            "   5.89786023e-02  4.30244580e-02 -1.64756812e-02  7.24522676e-03\n",
            "  -5.03448537e-03  1.34858526e-02 -5.69827762e-03  7.88643677e-03\n",
            "   3.08795422e-02  3.47179398e-02  2.77990550e-02 -2.60231756e-02\n",
            "  -4.43070941e-02  6.22589737e-02  4.69657360e-03 -5.48364222e-02\n",
            "   6.86515570e-02 -4.79077473e-02  5.53869084e-03 -1.38859469e-02\n",
            "   2.71221232e-02 -1.94635317e-02  4.25903685e-02 -3.52500938e-02\n",
            "  -6.58454373e-02 -2.71658245e-02 -4.02787775e-02 -1.14929546e-02\n",
            "   1.92045746e-03  8.17643553e-02  1.23103242e-02  4.36137952e-02\n",
            "  -7.41068497e-02 -3.64626348e-02 -6.73877001e-02 -2.44323686e-02\n",
            "   9.24317613e-02 -2.34641768e-02  7.68843889e-02 -2.20666453e-02\n",
            "  -1.31553188e-02  3.68502922e-02  2.28781253e-02 -4.02205363e-02\n",
            "   6.67885542e-02 -2.10181363e-02  8.84067342e-02  2.38074176e-03\n",
            "   5.96559681e-02  9.22358781e-03 -6.43374696e-02  4.18752022e-02\n",
            "   1.91001110e-02 -8.53825584e-02  6.93060383e-02 -3.25734429e-02\n",
            "   6.11715503e-02  2.80864667e-02 -5.25463745e-02  3.84447575e-02\n",
            "   1.76843163e-02 -1.26649998e-02  4.92096134e-02  7.27378670e-03\n",
            "   6.45847619e-02  4.36260737e-02  7.33675435e-02 -5.22010140e-02\n",
            "  -3.53189558e-02 -6.92826658e-02  8.45990106e-02 -4.12372826e-03\n",
            "   2.22071707e-02 -3.40806283e-02  1.59489550e-02  1.73814967e-02\n",
            "   2.94316709e-02 -5.38261682e-02  3.42164412e-02  3.10232844e-02\n",
            "  -1.74328871e-02  4.44254978e-03 -6.30019382e-02  6.80965483e-02\n",
            "   6.37860596e-02  2.43290979e-02 -6.09239563e-02  4.37866375e-02\n",
            "  -2.29017884e-02  5.92775717e-02 -6.40595779e-02  4.94245328e-02\n",
            "  -3.37973423e-02 -4.31422628e-02 -3.57728824e-02 -6.28132895e-02\n",
            "  -7.03468695e-02  6.86113611e-02 -2.81049162e-02  4.27986728e-03\n",
            "   2.42943242e-02  5.44426031e-02 -1.21806385e-02  7.88312480e-02\n",
            "  -3.40441018e-02  9.97400656e-03  6.34260699e-02 -3.57844643e-02\n",
            "   4.26136516e-02  8.73644743e-03  6.82215840e-02 -5.36639765e-02\n",
            "   4.28028218e-02  5.23188747e-02 -2.13938784e-02  1.31139234e-02\n",
            "  -2.39566453e-02 -2.42015105e-02 -4.19526435e-02  3.98213714e-02\n",
            "  -3.42039727e-02  5.20494245e-02 -4.03208882e-02 -1.94258820e-02\n",
            "  -4.72985245e-02  3.54063548e-02  8.28705356e-03  4.13776599e-02\n",
            "   2.26557511e-03 -9.60429106e-03  5.40948845e-02 -8.17028359e-02\n",
            "   9.40368918e-04  2.00163648e-02  6.12558536e-02 -1.67239513e-02\n",
            "   4.37352881e-02 -2.74398029e-02 -1.19684534e-02  1.93634070e-02\n",
            "  -5.24285100e-02 -3.38341631e-02 -5.52182645e-02  5.55667244e-02\n",
            "   4.48528938e-02 -2.57359874e-02 -2.94180308e-02  1.97106510e-05\n",
            "  -8.50651190e-02  6.01571649e-02 -8.12387019e-02  9.77292284e-03\n",
            "  -3.09790932e-02 -2.37139482e-02  2.26263013e-02 -3.78996357e-02\n",
            "   1.90882515e-02 -2.90341629e-03 -6.90475553e-02  1.78241096e-02\n",
            "  -1.30209429e-02 -3.10617667e-02  3.47907357e-02  4.30092998e-02\n",
            "  -1.08506996e-03 -8.14544559e-02  3.28308828e-02 -4.13536392e-02\n",
            "  -1.75143883e-03 -2.72867735e-02 -8.03080946e-02 -4.18111216e-03\n",
            "   2.47278195e-02 -3.74518707e-02  5.57314679e-02  4.84278379e-03\n",
            "  -5.86606190e-02  2.78484896e-02 -4.96799983e-02  1.34225283e-02\n",
            "  -2.34680306e-02 -5.49153350e-02 -3.82185690e-02  4.69388627e-02\n",
            "   5.68686873e-02 -5.61662540e-02 -3.11161019e-02  8.25492889e-02\n",
            "   7.42787570e-02 -1.00900382e-02 -4.35244441e-02 -6.02485389e-02\n",
            "   6.32626237e-03 -1.68179572e-02  1.44452695e-02 -7.25124627e-02\n",
            "  -2.85000969e-02 -7.02295303e-02  1.71902440e-02  2.64911521e-02\n",
            "   4.96351682e-02  6.92070574e-02  2.30693500e-02 -4.31670845e-02\n",
            "   9.51941311e-02  1.03363730e-02  4.76361588e-02  3.91207412e-02\n",
            "  -8.71310662e-03 -2.96150800e-02  1.82566256e-03  5.74760661e-02\n",
            "   7.18438476e-02 -6.27112063e-03 -4.24156711e-02  5.16182706e-02\n",
            "  -4.89189290e-02 -7.37483129e-02 -2.46752016e-02 -7.63168633e-02\n",
            "  -2.76594353e-03 -4.35764007e-02 -2.87105385e-02  5.92007749e-02\n",
            "  -3.07042454e-03 -2.76607201e-02  3.03821359e-03  1.65577438e-02\n",
            "  -1.85078178e-02  6.27996027e-02 -4.04713936e-02  2.95523982e-02\n",
            "  -1.02736907e-04  1.60719603e-02  6.89518154e-02 -2.05812026e-02\n",
            "  -5.69637790e-02 -3.19740875e-03  6.18951395e-02 -3.14854756e-02\n",
            "   5.55050606e-03  3.63428728e-03 -5.50178178e-02 -2.65113078e-02\n",
            "  -7.57600293e-02 -5.68473004e-02 -6.23117387e-03 -3.43996026e-02\n",
            "  -1.50120566e-02 -4.86523248e-02 -9.58975125e-03 -8.29889029e-02\n",
            "   2.35343240e-02  9.61270407e-02 -7.47515634e-02 -9.39944852e-03\n",
            "   2.33455095e-02  2.50553228e-02 -3.31196412e-02  9.66348313e-03\n",
            "  -6.82705343e-02 -2.96702553e-02 -4.82030027e-02  5.81442565e-02\n",
            "   6.40385002e-02 -1.82991475e-02 -3.43357064e-02 -5.76522760e-02\n",
            "  -4.98862714e-02  1.44861052e-02  5.57450019e-02 -2.56232428e-03\n",
            "  -3.53697427e-02 -4.42479588e-02  1.45433946e-02 -7.23825991e-02\n",
            "  -2.53604949e-02  6.05447404e-02 -4.52682078e-02  2.38600634e-02\n",
            "   6.77625313e-02 -2.54538991e-02 -6.16532490e-02  5.44227920e-02\n",
            "  -4.88554947e-02  4.71748319e-03 -7.43528903e-02 -4.70352534e-04\n",
            "  -9.47258249e-03 -5.26392721e-02  3.07208803e-02  2.08389703e-02\n",
            "  -3.60508971e-02 -2.58991867e-02  2.87819821e-02  3.59049253e-02\n",
            "   6.95774192e-03  1.17956772e-02  4.07952890e-02  8.24232958e-03\n",
            "   4.27265055e-02  6.14861436e-02 -1.08592678e-02  3.97404656e-02\n",
            "  -6.89434707e-02  2.38290383e-03  1.60663892e-02 -4.32491004e-02\n",
            "  -5.89156523e-02  5.25342859e-02  6.81301504e-02  2.21875589e-02\n",
            "   2.84110066e-02 -2.10522916e-02  1.00273388e-02  2.81923860e-02\n",
            "   8.93903077e-02  2.80456338e-02  1.82296295e-04  2.18631197e-02\n",
            "   1.80970710e-02 -4.75904942e-02  4.49913070e-02  4.72433120e-02\n",
            "   8.62847418e-02 -9.31858048e-02 -5.27009666e-02  4.29433510e-02\n",
            "  -2.80772103e-03  1.94476848e-03  3.66737181e-03 -2.46837107e-03]]\n",
            "\n",
            "Embed shape: (1, 512)\n"
          ]
        }
      ]
    },
    {
      "cell_type": "code",
      "source": [
        "# Create a Keras Layer using the USE pretrained layer from tensorflow hub\n",
        "sentence_encoder_layer = hub.KerasLayer('https://tfhub.dev/google/universal-sentence-encoder/4',\n",
        "                                        input_shape=[],\n",
        "                                        dtype=tf.string,\n",
        "                                        trainable=False,\n",
        "                                        name='USE')"
      ],
      "metadata": {
        "id": "BlLcw88ZHVKc"
      },
      "execution_count": null,
      "outputs": []
    },
    {
      "cell_type": "code",
      "source": [
        "# Create a model using sequential API\n",
        "model_2 = tf.keras.Sequential([\n",
        "    sentence_encoder_layer,\n",
        "    layers.Dense(128, activation='relu'),\n",
        "    layers.Dense(num_classes, activation='softmax')\n",
        "])\n",
        "\n",
        "# Compile the model\n",
        "model_2.compile(\n",
        "    loss='categorical_crossentropy',\n",
        "    optimizer=tf.keras.optimizers.Adam(),\n",
        "    metrics=['accuracy']\n",
        ")"
      ],
      "metadata": {
        "id": "xSQtc3QpHuAU"
      },
      "execution_count": null,
      "outputs": []
    },
    {
      "cell_type": "code",
      "source": [
        "# Get the model summary\n",
        "model_2.summary()"
      ],
      "metadata": {
        "colab": {
          "base_uri": "https://localhost:8080/"
        },
        "id": "MN1IqQ_5JtxV",
        "outputId": "e0ee7a71-c49e-4d56-c871-e062f47f92b4"
      },
      "execution_count": null,
      "outputs": [
        {
          "output_type": "stream",
          "name": "stdout",
          "text": [
            "Model: \"sequential\"\n",
            "_________________________________________________________________\n",
            " Layer (type)                Output Shape              Param #   \n",
            "=================================================================\n",
            " USE (KerasLayer)            (None, 512)               256797824 \n",
            "                                                                 \n",
            " dense_1 (Dense)             (None, 128)               65664     \n",
            "                                                                 \n",
            " dense_2 (Dense)             (None, 5)                 645       \n",
            "                                                                 \n",
            "=================================================================\n",
            "Total params: 256,864,133\n",
            "Trainable params: 66,309\n",
            "Non-trainable params: 256,797,824\n",
            "_________________________________________________________________\n"
          ]
        }
      ]
    },
    {
      "cell_type": "code",
      "source": [
        "# Fit the model\n",
        "history_model_2 = model_2.fit(train_dataset,\n",
        "                              steps_per_epoch=int(0.1*len(train_dataset)),\n",
        "                              epochs=5,\n",
        "                              validation_data=valid_dataset,\n",
        "                              validation_steps=int(0.1*len(valid_dataset))) # only validate on %10 of batches"
      ],
      "metadata": {
        "colab": {
          "base_uri": "https://localhost:8080/"
        },
        "id": "Tldd72sOJxCD",
        "outputId": "24e21099-e5da-4c93-e92b-9bd2fb15c972"
      },
      "execution_count": null,
      "outputs": [
        {
          "output_type": "stream",
          "name": "stdout",
          "text": [
            "Epoch 1/5\n",
            "562/562 [==============================] - 13s 18ms/step - loss: 0.9167 - accuracy: 0.6514 - val_loss: 0.7971 - val_accuracy: 0.6892\n",
            "Epoch 2/5\n",
            "562/562 [==============================] - 8s 14ms/step - loss: 0.7674 - accuracy: 0.7037 - val_loss: 0.7528 - val_accuracy: 0.7074\n",
            "Epoch 3/5\n",
            "562/562 [==============================] - 9s 15ms/step - loss: 0.7495 - accuracy: 0.7132 - val_loss: 0.7367 - val_accuracy: 0.7118\n",
            "Epoch 4/5\n",
            "562/562 [==============================] - 9s 15ms/step - loss: 0.7149 - accuracy: 0.7266 - val_loss: 0.7072 - val_accuracy: 0.7320\n",
            "Epoch 5/5\n",
            "562/562 [==============================] - 9s 16ms/step - loss: 0.7226 - accuracy: 0.7234 - val_loss: 0.6879 - val_accuracy: 0.7347\n"
          ]
        }
      ]
    },
    {
      "cell_type": "code",
      "source": [
        "# Evaluate on the whole validation dataset\n",
        "model_2.evaluate(valid_dataset)"
      ],
      "metadata": {
        "colab": {
          "base_uri": "https://localhost:8080/"
        },
        "id": "s3lJ2nZwKDiy",
        "outputId": "89285a9d-b8a8-4ab7-e54a-a2820fb85aff"
      },
      "execution_count": null,
      "outputs": [
        {
          "output_type": "stream",
          "name": "stdout",
          "text": [
            "945/945 [==============================] - 11s 12ms/step - loss: 0.6955 - accuracy: 0.7346\n"
          ]
        },
        {
          "output_type": "execute_result",
          "data": {
            "text/plain": [
              "[0.6955354809761047, 0.7345756888389587]"
            ]
          },
          "metadata": {},
          "execution_count": 60
        }
      ]
    },
    {
      "cell_type": "code",
      "source": [
        "# Make some predictions with model 2\n",
        "model_2_preds_probs = model_2.predict(val_sentences)\n",
        "model_2_preds = tf.argmax(model_2_preds_probs, axis=1)\n",
        "model_2_preds"
      ],
      "metadata": {
        "colab": {
          "base_uri": "https://localhost:8080/"
        },
        "id": "k5ggEWK8PUJy",
        "outputId": "12a0e0f5-f73b-45eb-e3e8-8c230e8a85fe"
      },
      "execution_count": null,
      "outputs": [
        {
          "output_type": "stream",
          "name": "stdout",
          "text": [
            "945/945 [==============================] - 11s 12ms/step\n"
          ]
        },
        {
          "output_type": "execute_result",
          "data": {
            "text/plain": [
              "<tf.Tensor: shape=(30212,), dtype=int64, numpy=array([0, 1, 0, ..., 4, 4, 1])>"
            ]
          },
          "metadata": {},
          "execution_count": 61
        }
      ]
    },
    {
      "cell_type": "code",
      "source": [
        "# Calculate the results model 2\n",
        "model_2_results = calculate_results(y_true=val_labels_encoded,\n",
        "                                    y_pred=model_2_preds)\n",
        "model_2_results"
      ],
      "metadata": {
        "colab": {
          "base_uri": "https://localhost:8080/"
        },
        "id": "L-MQgIcAPsLQ",
        "outputId": "04a59d04-681c-4423-c54e-ee1177339989"
      },
      "execution_count": null,
      "outputs": [
        {
          "output_type": "execute_result",
          "data": {
            "text/plain": [
              "{'accuracy': 0.7345756652985569,\n",
              " 'precision': 0.7310698489596313,\n",
              " 'recall': 0.7345756652985569,\n",
              " 'f1': 0.7287286918702448}"
            ]
          },
          "metadata": {},
          "execution_count": 62
        }
      ]
    },
    {
      "cell_type": "markdown",
      "source": [
        "### Model 3: Conv1D with character embedding\n",
        "\n",
        "In the previous models, we work with word level embedding but now, we will use the character embedding."
      ],
      "metadata": {
        "id": "DzyTdsdwP5YY"
      }
    },
    {
      "cell_type": "code",
      "source": [
        "# Make function to split sentences into characters\n",
        "def split_chars(text):\n",
        "  return ' '.join(list(text))\n",
        "\n",
        "# Text splitting non-character-level sequence into characters\n",
        "split_chars(random_train_sentence)"
      ],
      "metadata": {
        "colab": {
          "base_uri": "https://localhost:8080/",
          "height": 36
        },
        "id": "bGnNDdGkTXZ-",
        "outputId": "0b5f5f9f-3ba8-47aa-90dc-484aa7ac5e76"
      },
      "execution_count": null,
      "outputs": [
        {
          "output_type": "execute_result",
          "data": {
            "text/plain": [
              "'m e s a l a m i n e   d i d   n o t   r e d u c e   t h e   r a t e   o f   d i v e r t i c u l i t i s   r e c u r r e n c e   a t   w e e k   @   .'"
            ],
            "application/vnd.google.colaboratory.intrinsic+json": {
              "type": "string"
            }
          },
          "metadata": {},
          "execution_count": 63
        }
      ]
    },
    {
      "cell_type": "code",
      "source": [
        "# Split sequnce-level data into character-level data splits\n",
        "train_chars = [split_chars(sentence) for sentence in train_sentences]\n",
        "val_chars = [split_chars(sentence) for sentence in val_sentences]\n",
        "test_chars = [split_chars(sentence) for sentence in test_sentences]\n",
        "\n",
        "# Check out the train chars\n",
        "train_chars[:2]"
      ],
      "metadata": {
        "colab": {
          "base_uri": "https://localhost:8080/"
        },
        "id": "w18bGd0_TvMq",
        "outputId": "572c2a59-792e-4f46-b8ef-fbd1a6c9f6d0"
      },
      "execution_count": null,
      "outputs": [
        {
          "output_type": "execute_result",
          "data": {
            "text/plain": [
              "['t o   i n v e s t i g a t e   t h e   e f f i c a c y   o f   @   w e e k s   o f   d a i l y   l o w - d o s e   o r a l   p r e d n i s o l o n e   i n   i m p r o v i n g   p a i n   ,   m o b i l i t y   ,   a n d   s y s t e m i c   l o w - g r a d e   i n f l a m m a t i o n   i n   t h e   s h o r t   t e r m   a n d   w h e t h e r   t h e   e f f e c t   w o u l d   b e   s u s t a i n e d   a t   @   w e e k s   i n   o l d e r   a d u l t s   w i t h   m o d e r a t e   t o   s e v e r e   k n e e   o s t e o a r t h r i t i s   (   o a   )   .',\n",
              " 'a   t o t a l   o f   @   p a t i e n t s   w i t h   p r i m a r y   k n e e   o a   w e r e   r a n d o m i z e d   @ : @   ;   @   r e c e i v e d   @   m g / d a y   o f   p r e d n i s o l o n e   a n d   @   r e c e i v e d   p l a c e b o   f o r   @   w e e k s   .']"
            ]
          },
          "metadata": {},
          "execution_count": 64
        }
      ]
    },
    {
      "cell_type": "code",
      "source": [
        "# What's the average character lengt\n",
        "chars_lens = [len(sentence) for sentence in train_sentences]\n",
        "mean_char_lens = np.mean(chars_lens)\n",
        "mean_char_lens"
      ],
      "metadata": {
        "colab": {
          "base_uri": "https://localhost:8080/"
        },
        "id": "A7Wa7lAeUc2U",
        "outputId": "470bf5fe-0e06-4929-c33e-cfe30d269fde"
      },
      "execution_count": null,
      "outputs": [
        {
          "output_type": "execute_result",
          "data": {
            "text/plain": [
              "149.3662574983337"
            ]
          },
          "metadata": {},
          "execution_count": 65
        }
      ]
    },
    {
      "cell_type": "code",
      "source": [
        "# Check the distribution of our sequences\n",
        "plt.hist(chars_lens, bins=30);"
      ],
      "metadata": {
        "colab": {
          "base_uri": "https://localhost:8080/",
          "height": 430
        },
        "id": "_3OS5gV3VInd",
        "outputId": "71627c7b-971b-4946-ec92-50fb9d49f4e4"
      },
      "execution_count": null,
      "outputs": [
        {
          "output_type": "display_data",
          "data": {
            "text/plain": [
              "<Figure size 640x480 with 1 Axes>"
            ],
            "image/png": "[encoded data removed]"
          },
          "metadata": {}
        }
      ]
    },
    {
      "cell_type": "code",
      "source": [
        "# Fin the what character length cover %95 of sequence\n",
        "output_seq_char_len = int(np.percentile(chars_lens, 95))\n",
        "output_seq_char_len"
      ],
      "metadata": {
        "colab": {
          "base_uri": "https://localhost:8080/"
        },
        "id": "V6pWPwmyVdCs",
        "outputId": "599e23ca-d49d-4dff-c103-a6b78cc71cf7"
      },
      "execution_count": null,
      "outputs": [
        {
          "output_type": "execute_result",
          "data": {
            "text/plain": [
              "290"
            ]
          },
          "metadata": {},
          "execution_count": 67
        }
      ]
    },
    {
      "cell_type": "code",
      "source": [
        "# Get all keyboard characters\n",
        "import string\n",
        "alphabet = string.ascii_lowercase + string.digits + string.punctuation\n",
        "alphabet"
      ],
      "metadata": {
        "colab": {
          "base_uri": "https://localhost:8080/",
          "height": 36
        },
        "id": "1CNioA3MV-Qe",
        "outputId": "f1f76314-bc35-4798-e062-e5c8185f89db"
      },
      "execution_count": null,
      "outputs": [
        {
          "output_type": "execute_result",
          "data": {
            "text/plain": [
              "'abcdefghijklmnopqrstuvwxyz0123456789!\"#$%&\\'()*+,-./:;<=>?@[\\\\]^_`{|}~'"
            ],
            "application/vnd.google.colaboratory.intrinsic+json": {
              "type": "string"
            }
          },
          "metadata": {},
          "execution_count": 68
        }
      ]
    },
    {
      "cell_type": "code",
      "source": [
        "# Create char level token vectorizer\n",
        "NUM_CHAR_TOKENS = len(alphabet) + 2 # add 2 for space and OOV token\n",
        "char_vectorizer = TextVectorization(max_tokens=NUM_CHAR_TOKENS,\n",
        "                                    output_sequence_length=output_seq_char_len,\n",
        "                                    # standardize=None, # set standardization=None  if you want to leave punctuation in\n",
        "                                    name='char_vectorizer')"
      ],
      "metadata": {
        "id": "Gh_jrBcWWzy7"
      },
      "execution_count": null,
      "outputs": []
    },
    {
      "cell_type": "code",
      "source": [
        "# Adapt character vectorizer to training character\n",
        "char_vectorizer.adapt(train_chars)"
      ],
      "metadata": {
        "id": "9NxbCVp6XsC9"
      },
      "execution_count": null,
      "outputs": []
    },
    {
      "cell_type": "code",
      "source": [
        "# Check character vocab stats\n",
        "char_vocab = char_vectorizer.get_vocabulary()\n",
        "print(f'Number of different characters in tha character vocab: {len(char_vocab)}')\n",
        "print(f'5 most common words: {char_vocab[:5]}')\n",
        "print(f'5 least common words: {char_vocab[-5:]}')"
      ],
      "metadata": {
        "colab": {
          "base_uri": "https://localhost:8080/"
        },
        "id": "iF1lmKNlX72C",
        "outputId": "31cb7b60-87f6-41ac-8444-d981a6b837ed"
      },
      "execution_count": null,
      "outputs": [
        {
          "output_type": "stream",
          "name": "stdout",
          "text": [
            "Number of different characters in tha character vocab: 28\n",
            "5 most common words: ['', '[UNK]', 'e', 't', 'i']\n",
            "5 least common words: ['k', 'x', 'z', 'q', 'j']\n"
          ]
        }
      ]
    },
    {
      "cell_type": "code",
      "source": [
        "# Test our character vectorization\n",
        "random_train_chars = random.choice(train_chars)\n",
        "print(f'Random chars before vectorization:\\n{random_train_chars}\\n')\n",
        "print(f'After char vectorization:\\n{char_vectorizer([random_train_chars])}\\n')\n",
        "print(f'Length of the vectorization:{len(char_vectorizer([random_train_chars])[0])}')"
      ],
      "metadata": {
        "colab": {
          "base_uri": "https://localhost:8080/"
        },
        "id": "RxLO5Y3NZfvi",
        "outputId": "1b202a53-8f27-4c07-c12c-2afa880e5d58"
      },
      "execution_count": null,
      "outputs": [
        {
          "output_type": "stream",
          "name": "stdout",
          "text": [
            "Random chars before vectorization:\n",
            "t h e   s t u d y   i n v o l v e d   @   a d o l e s c e n t s   ,   a g e d   @   t o   @   y e a r s   ,   e x p e r i e n c i n g   t m d   p a i n   a t   l e a s t   o n c e   a   w e e k   a n d   d i a g n o s e d   w i t h   m y o f a s c i a l   p a i n   i n   a c c o r d a n c e   w i t h   t h e   r e s e a r c h   d i a g n o s t i c   c r i t e r i a   f o r   t m d   .\n",
            "\n",
            "After char vectorization:\n",
            "[[ 3 13  2  9  3 16 10 19  4  6 21  7 12 21  2 10  5 10  7 12  2  9 11  2\n",
            "   6  3  9  5 18  2 10  3  7 19  2  5  8  9  2 24 14  2  8  4  2  6 11  4\n",
            "   6 18  3 15 10 14  5  4  6  5  3 12  2  5  9  3  7  6 11  2  5 20  2  2\n",
            "  23  5  6 10 10  4  5 18  6  7  9  2 10 20  4  3 13 15 19  7 17  5  9 11\n",
            "   4  5 12 14  5  4  6  4  6  5 11 11  7  8 10  5  6 11  2 20  4  3 13  3\n",
            "  13  2  8  2  9  2  5  8 11 13 10  4  5 18  6  7  9  3  4 11 11  8  4  3\n",
            "   2  8  4  5 17  7  8  3 15 10  0  0  0  0  0  0  0  0  0  0  0  0  0  0\n",
            "   0  0  0  0  0  0  0  0  0  0  0  0  0  0  0  0  0  0  0  0  0  0  0  0\n",
            "   0  0  0  0  0  0  0  0  0  0  0  0  0  0  0  0  0  0  0  0  0  0  0  0\n",
            "   0  0  0  0  0  0  0  0  0  0  0  0  0  0  0  0  0  0  0  0  0  0  0  0\n",
            "   0  0  0  0  0  0  0  0  0  0  0  0  0  0  0  0  0  0  0  0  0  0  0  0\n",
            "   0  0  0  0  0  0  0  0  0  0  0  0  0  0  0  0  0  0  0  0  0  0  0  0\n",
            "   0  0]]\n",
            "\n",
            "Length of the vectorization:290\n"
          ]
        }
      ]
    },
    {
      "cell_type": "code",
      "source": [
        "# Create char embedding layer\n",
        "char_embed = layers.Embedding(input_dim=len(char_vocab), # number of different charachters\n",
        "                              output_dim=25, # got this values from original paper\n",
        "                              mask_zero=True,\n",
        "                              name='char_embedding')"
      ],
      "metadata": {
        "id": "ZHsmEJSyahgx"
      },
      "execution_count": null,
      "outputs": []
    },
    {
      "cell_type": "code",
      "source": [
        "# Test out charachter embedding\n",
        "print(f'Charified text:\\n{random_train_chars}\\n')\n",
        "char_embed_example = char_embed(char_vectorizer([random_train_chars]))\n",
        "print(f'Embedded char:\\n{char_embed_example}\\n')\n",
        "print(f'Embedded char shape:{char_embed_example.shape}')"
      ],
      "metadata": {
        "colab": {
          "base_uri": "https://localhost:8080/"
        },
        "id": "mXmaF_XCfZRb",
        "outputId": "d51bc9ef-c978-4b7a-928d-47f277d6a675"
      },
      "execution_count": null,
      "outputs": [
        {
          "output_type": "stream",
          "name": "stdout",
          "text": [
            "Charified text:\n",
            "t h e   s t u d y   i n v o l v e d   @   a d o l e s c e n t s   ,   a g e d   @   t o   @   y e a r s   ,   e x p e r i e n c i n g   t m d   p a i n   a t   l e a s t   o n c e   a   w e e k   a n d   d i a g n o s e d   w i t h   m y o f a s c i a l   p a i n   i n   a c c o r d a n c e   w i t h   t h e   r e s e a r c h   d i a g n o s t i c   c r i t e r i a   f o r   t m d   .\n",
            "\n",
            "Embedded char:\n",
            "[[[-0.04998511 -0.04781717  0.02709534 ... -0.01029615  0.02491304\n",
            "   -0.00440888]\n",
            "  [-0.00909573  0.04899145 -0.0139753  ... -0.03226364 -0.01026207\n",
            "    0.01707273]\n",
            "  [ 0.0096324   0.03428027 -0.02268288 ... -0.0226135   0.0479678\n",
            "   -0.02859855]\n",
            "  ...\n",
            "  [-0.02495133 -0.01361205 -0.01700374 ...  0.04816261 -0.02245436\n",
            "    0.03102912]\n",
            "  [-0.02495133 -0.01361205 -0.01700374 ...  0.04816261 -0.02245436\n",
            "    0.03102912]\n",
            "  [-0.02495133 -0.01361205 -0.01700374 ...  0.04816261 -0.02245436\n",
            "    0.03102912]]]\n",
            "\n",
            "Embedded char shape:(1, 290, 25)\n"
          ]
        }
      ]
    },
    {
      "cell_type": "code",
      "source": [
        "# Build Conv1D model for character embeded data\n",
        "inputs = layers.Input(shape=(1,), dtype=tf.string)\n",
        "x = char_vectorizer(inputs) # text vectorization layer\n",
        "x = char_embed(x) # embedding layer\n",
        "x = layers.Conv1D(filters=64,\n",
        "                  kernel_size=5,\n",
        "                  activation='relu',\n",
        "                  padding='same',\n",
        "                  strides=1)(x) # Conv1D layer\n",
        "x = layers.GlobalMaxPool1D()(x) # Global Pooling Layer\n",
        "outputs = layers.Dense(num_classes, activation='softmax')(x)\n",
        "model_3 = tf.keras.Model(inputs, outputs, name='Model_3_Conv1D')\n",
        "\n",
        "# Compile the model\n",
        "model_3.compile(\n",
        "    loss='categorical_crossentropy',\n",
        "    optimizer=tf.keras.optimizers.Adam(),\n",
        "    metrics=['accuracy']\n",
        ")"
      ],
      "metadata": {
        "id": "Nspougj_f2p3"
      },
      "execution_count": null,
      "outputs": []
    },
    {
      "cell_type": "code",
      "source": [
        "# Get the model summary\n",
        "model_3.summary()"
      ],
      "metadata": {
        "colab": {
          "base_uri": "https://localhost:8080/"
        },
        "id": "ouyIxi-xhEre",
        "outputId": "fb1c2ce9-4c6b-43fb-f4c4-2e8ce62bf1b7"
      },
      "execution_count": null,
      "outputs": [
        {
          "output_type": "stream",
          "name": "stdout",
          "text": [
            "Model: \"Model_3_Conv1D\"\n",
            "_________________________________________________________________\n",
            " Layer (type)                Output Shape              Param #   \n",
            "=================================================================\n",
            " input_2 (InputLayer)        [(None, 1)]               0         \n",
            "                                                                 \n",
            " char_vectorizer (TextVector  (None, 290)              0         \n",
            " ization)                                                        \n",
            "                                                                 \n",
            " char_embedding (Embedding)  (None, 290, 25)           700       \n",
            "                                                                 \n",
            " conv1d_1 (Conv1D)           (None, 290, 64)           8064      \n",
            "                                                                 \n",
            " global_max_pooling1d_1 (Glo  (None, 64)               0         \n",
            " balMaxPooling1D)                                                \n",
            "                                                                 \n",
            " dense_3 (Dense)             (None, 5)                 325       \n",
            "                                                                 \n",
            "=================================================================\n",
            "Total params: 9,089\n",
            "Trainable params: 9,089\n",
            "Non-trainable params: 0\n",
            "_________________________________________________________________\n"
          ]
        }
      ]
    },
    {
      "cell_type": "code",
      "source": [
        "# Turn char data into TnesorFlow Datasets\n",
        "train_dataset_char = tf.data.Dataset.from_tensor_slices((train_chars, train_labels_one_hot))\n",
        "val_dataset_char = tf.data.Dataset.from_tensor_slices((val_chars, val_labels_one_hot))\n",
        "test_dataset_char = tf.data.Dataset.from_tensor_slices((test_chars, test_labels_one_hot))\n",
        "\n",
        "# Take the TensorSliceDataset's and turn them into prefected datasets\n",
        "train_dataset_char = train_dataset_char.batch(32).prefetch(tf.data.AUTOTUNE)\n",
        "val_dataset_char = val_dataset_char.batch(32).prefetch(tf.data.AUTOTUNE)\n",
        "test_dataset_char = test_dataset_char.batch(32).prefetch(tf.data.AUTOTUNE)\n",
        "\n",
        "train_dataset_char"
      ],
      "metadata": {
        "colab": {
          "base_uri": "https://localhost:8080/"
        },
        "id": "UjYJHV5Li82Y",
        "outputId": "26f9a9ec-fe90-418e-cfb5-38923e4cd675"
      },
      "execution_count": null,
      "outputs": [
        {
          "output_type": "execute_result",
          "data": {
            "text/plain": [
              "<_PrefetchDataset element_spec=(TensorSpec(shape=(None,), dtype=tf.string, name=None), TensorSpec(shape=(None, 5), dtype=tf.float64, name=None))>"
            ]
          },
          "metadata": {},
          "execution_count": 77
        }
      ]
    },
    {
      "cell_type": "code",
      "source": [
        "# Fit the model\n",
        "model_3_history = model_3.fit(train_dataset_char,\n",
        "                              steps_per_epoch=int(0.1*len(val_dataset_char)),\n",
        "                              epochs=5,\n",
        "                              validation_data=val_dataset_char,\n",
        "                              validation_steps=int(0.1*len(val_dataset_char)))"
      ],
      "metadata": {
        "colab": {
          "base_uri": "https://localhost:8080/"
        },
        "id": "xVPvSDNAhJ40",
        "outputId": "45291fd0-0adf-4445-ccec-775c166c3676"
      },
      "execution_count": null,
      "outputs": [
        {
          "output_type": "stream",
          "name": "stdout",
          "text": [
            "Epoch 1/5\n",
            "94/94 [==============================] - 4s 32ms/step - loss: 1.4748 - accuracy: 0.3926 - val_loss: 1.4412 - val_accuracy: 0.4252\n",
            "Epoch 2/5\n",
            "94/94 [==============================] - 4s 38ms/step - loss: 1.4124 - accuracy: 0.4531 - val_loss: 1.3523 - val_accuracy: 0.4305\n",
            "Epoch 3/5\n",
            "94/94 [==============================] - 3s 36ms/step - loss: 1.2993 - accuracy: 0.4598 - val_loss: 1.2239 - val_accuracy: 0.4987\n",
            "Epoch 4/5\n",
            "94/94 [==============================] - 3s 29ms/step - loss: 1.2029 - accuracy: 0.5166 - val_loss: 1.1376 - val_accuracy: 0.5332\n",
            "Epoch 5/5\n",
            "94/94 [==============================] - 3s 30ms/step - loss: 1.0986 - accuracy: 0.5522 - val_loss: 1.0759 - val_accuracy: 0.5608\n"
          ]
        }
      ]
    },
    {
      "cell_type": "code",
      "source": [
        "# Evaluate the model on whole validation data\n",
        "model_3.evaluate(val_dataset_char)"
      ],
      "metadata": {
        "colab": {
          "base_uri": "https://localhost:8080/"
        },
        "id": "ixi_lf9zmwYW",
        "outputId": "a97bbe7e-a6aa-4883-f078-11b281778a53"
      },
      "execution_count": null,
      "outputs": [
        {
          "output_type": "stream",
          "name": "stdout",
          "text": [
            "945/945 [==============================] - 7s 8ms/step - loss: 1.0811 - accuracy: 0.5651\n"
          ]
        },
        {
          "output_type": "execute_result",
          "data": {
            "text/plain": [
              "[1.0810884237289429, 0.565139651298523]"
            ]
          },
          "metadata": {},
          "execution_count": 79
        }
      ]
    },
    {
      "cell_type": "code",
      "source": [
        "# Make some predictions\n",
        "model_3_preds_probs = model_3.predict(val_chars)\n",
        "model_3_preds = tf.argmax(model_3_preds_probs, axis=1)\n",
        "model_3_preds"
      ],
      "metadata": {
        "colab": {
          "base_uri": "https://localhost:8080/"
        },
        "id": "U90n77_NiS-U",
        "outputId": "df9efabc-d461-4602-c9ef-35f0ec0f4977"
      },
      "execution_count": null,
      "outputs": [
        {
          "output_type": "stream",
          "name": "stdout",
          "text": [
            "945/945 [==============================] - 8s 8ms/step\n"
          ]
        },
        {
          "output_type": "execute_result",
          "data": {
            "text/plain": [
              "<tf.Tensor: shape=(30212,), dtype=int64, numpy=array([1, 1, 2, ..., 4, 2, 0])>"
            ]
          },
          "metadata": {},
          "execution_count": 80
        }
      ]
    },
    {
      "cell_type": "code",
      "source": [
        "# Calculate the results\n",
        "model_3_results = calculate_results(y_true=val_labels_encoded,\n",
        "                                    y_pred=model_3_preds)\n",
        "model_3_results"
      ],
      "metadata": {
        "colab": {
          "base_uri": "https://localhost:8080/"
        },
        "id": "Re-kedgAmuni",
        "outputId": "c310e300-d331-4609-a15e-a38412f59e61"
      },
      "execution_count": null,
      "outputs": [
        {
          "output_type": "execute_result",
          "data": {
            "text/plain": [
              "{'accuracy': 0.5651396795975109,\n",
              " 'precision': 0.5711138585759707,\n",
              " 'recall': 0.5651396795975109,\n",
              " 'f1': 0.5289657811259292}"
            ]
          },
          "metadata": {},
          "execution_count": 81
        }
      ]
    },
    {
      "cell_type": "markdown",
      "source": [
        "### Model 4: Combining pretrained token embeddings + character embenddings (hybrid)\n",
        "\n",
        "1. Create a token-level embedding model (similiar model_1)\n",
        "2. Create a character-level model (similiar model_3)\n",
        "3. Combine 1 and 2 with a concatenate (layers.Concatenate)\n",
        "4. Build a series of output layers\n",
        "5. Construct a model which takes token and character-level sequence as input and produces sequence label probabilities as output"
      ],
      "metadata": {
        "id": "eixkRydEnytQ"
      }
    },
    {
      "cell_type": "code",
      "source": [
        "# 1. Setup token inputs/model\n",
        "token_inputs = layers.Input(shape=[], dtype=tf.string, name='token_input')\n",
        "token_embeddings = sentence_encoder_layer(token_inputs)\n",
        "token_outputs = layers.Dense(128, activation='relu')(token_embeddings)\n",
        "token_model = tf.keras.Model(inputs=token_inputs,\n",
        "                             outputs=token_outputs)\n",
        "\n",
        "# 2. Setup char inputs/model\n",
        "char_inputs = layers.Input(shape=(1,), dtype=tf.string, name='char_input')\n",
        "char_vectors = char_vectorizer(char_inputs)\n",
        "char_embeddings = char_embed(char_vectors)\n",
        "char_bi_lstm = layers.Bidirectional(layers.LSTM(24))(char_embeddings)\n",
        "char_model = tf.keras.Model(inputs=char_inputs,\n",
        "                            outputs=char_bi_lstm)\n",
        "\n",
        "# 3. Concatenate token and char inputs (hybrid embedding)\n",
        "token_char_concat = layers.Concatenate(name='token_char_hybrid')([token_model.output, char_model.output])\n",
        "\n",
        "# 4. Create output layers - adding in Dropout\n",
        "combined_dropout = layers.Dropout(0.5)(token_char_concat)\n",
        "combined_dense = layers.Dense(128, activation='relu')(combined_dropout)\n",
        "final_dropout = layers.Dropout(0.5)(combined_dense)\n",
        "output_layer = layers.Dense(num_classes, activation='softmax')(final_dropout)\n",
        "\n",
        "# 5.Construct model with char and token inputs\n",
        "model_4 = tf.keras.Model(inputs=[token_model.input, char_model.input],\n",
        "                         outputs=output_layer,\n",
        "                         name='model_5_token_and_char_embedding')"
      ],
      "metadata": {
        "id": "7DhEzSfbAlEy"
      },
      "execution_count": null,
      "outputs": []
    },
    {
      "cell_type": "code",
      "source": [
        "# Get the summary of model 4\n",
        "model_4.summary()"
      ],
      "metadata": {
        "colab": {
          "base_uri": "https://localhost:8080/"
        },
        "id": "ZRuB5xsJF-ea",
        "outputId": "27fcab91-08f4-471e-a4d2-b390984cc9a6"
      },
      "execution_count": null,
      "outputs": [
        {
          "output_type": "stream",
          "name": "stdout",
          "text": [
            "Model: \"model_5_token_and_char_embedding\"\n",
            "__________________________________________________________________________________________________\n",
            " Layer (type)                   Output Shape         Param #     Connected to                     \n",
            "==================================================================================================\n",
            " char_input (InputLayer)        [(None, 1)]          0           []                               \n",
            "                                                                                                  \n",
            " token_input (InputLayer)       [(None,)]            0           []                               \n",
            "                                                                                                  \n",
            " char_vectorizer (TextVectoriza  (None, 290)         0           ['char_input[0][0]']             \n",
            " tion)                                                                                            \n",
            "                                                                                                  \n",
            " USE (KerasLayer)               (None, 512)          256797824   ['token_input[0][0]']            \n",
            "                                                                                                  \n",
            " char_embedding (Embedding)     (None, 290, 25)      700         ['char_vectorizer[1][0]']        \n",
            "                                                                                                  \n",
            " dense_4 (Dense)                (None, 128)          65664       ['USE[1][0]']                    \n",
            "                                                                                                  \n",
            " bidirectional (Bidirectional)  (None, 48)           9600        ['char_embedding[1][0]']         \n",
            "                                                                                                  \n",
            " token_char_hybrid (Concatenate  (None, 176)         0           ['dense_4[0][0]',                \n",
            " )                                                                'bidirectional[0][0]']          \n",
            "                                                                                                  \n",
            " dropout (Dropout)              (None, 176)          0           ['token_char_hybrid[0][0]']      \n",
            "                                                                                                  \n",
            " dense_5 (Dense)                (None, 128)          22656       ['dropout[0][0]']                \n",
            "                                                                                                  \n",
            " dropout_1 (Dropout)            (None, 128)          0           ['dense_5[0][0]']                \n",
            "                                                                                                  \n",
            " dense_6 (Dense)                (None, 5)            645         ['dropout_1[0][0]']              \n",
            "                                                                                                  \n",
            "==================================================================================================\n",
            "Total params: 256,897,089\n",
            "Trainable params: 99,265\n",
            "Non-trainable params: 256,797,824\n",
            "__________________________________________________________________________________________________\n"
          ]
        }
      ]
    },
    {
      "cell_type": "code",
      "source": [
        "# Plot hybrid token and character model\n",
        "from keras.utils import plot_model\n",
        "plot_model(model_4, show_shapes=True)"
      ],
      "metadata": {
        "colab": {
          "base_uri": "https://localhost:8080/",
          "height": 976
        },
        "id": "JIlzTYjcGWht",
        "outputId": "b076909c-ac46-4a42-cefc-3b4b326a5290"
      },
      "execution_count": null,
      "outputs": [
        {
          "output_type": "execute_result",
          "data": {
            "image/png": "[encoded data removed]",
            "text/plain": [
              "<IPython.core.display.Image object>"
            ]
          },
          "metadata": {},
          "execution_count": 84
        }
      ]
    },
    {
      "cell_type": "code",
      "source": [
        "# Compile token char model\n",
        "model_4.compile(\n",
        "    loss='categorical_crossentropy',\n",
        "    optimizer=tf.keras.optimizers.Adam(),\n",
        "    metrics=['accuracy']\n",
        ")"
      ],
      "metadata": {
        "id": "Cl-LvjOIGzJJ"
      },
      "execution_count": null,
      "outputs": []
    },
    {
      "cell_type": "code",
      "source": [
        "# Combine token and character data into tf.data Dataset\n",
        "train_token_char_data = tf.data.Dataset.from_tensor_slices((train_sentences, train_chars)) # make data\n",
        "train_token_char_labels = tf.data.Dataset.from_tensor_slices(train_labels_one_hot) # make labels\n",
        "train_token_char_dataset = tf.data.Dataset.zip((train_token_char_data, train_token_char_labels)) # combine data and labels\n",
        "\n",
        "# Prefetch and batch train data\n",
        "train_token_char_dataset = train_token_char_dataset.batch(32).prefetch(tf.data.AUTOTUNE)\n",
        "train_token_char_dataset"
      ],
      "metadata": {
        "colab": {
          "base_uri": "https://localhost:8080/"
        },
        "id": "6o19il9pIF-N",
        "outputId": "d7b80230-842c-43b5-a76b-b2f69fe6d390"
      },
      "execution_count": null,
      "outputs": [
        {
          "output_type": "execute_result",
          "data": {
            "text/plain": [
              "<_PrefetchDataset element_spec=((TensorSpec(shape=(None,), dtype=tf.string, name=None), TensorSpec(shape=(None,), dtype=tf.string, name=None)), TensorSpec(shape=(None, 5), dtype=tf.float64, name=None))>"
            ]
          },
          "metadata": {},
          "execution_count": 86
        }
      ]
    },
    {
      "cell_type": "code",
      "source": [
        "# Repat the above steps for our validation data\n",
        "val_token_char_data = tf.data.Dataset.from_tensor_slices((val_sentences, val_chars)) # make data\n",
        "val_token_char_labels = tf.data.Dataset.from_tensor_slices(val_labels_one_hot) # make labels\n",
        "val_token_char_dataset = tf.data.Dataset.zip((val_token_char_data, val_token_char_labels)) # combine data and labels\n",
        "\n",
        "# Prefetch and batch validation data\n",
        "val_token_char_dataset = val_token_char_dataset.batch(32).prefetch(tf.data.AUTOTUNE)\n",
        "val_token_char_dataset"
      ],
      "metadata": {
        "colab": {
          "base_uri": "https://localhost:8080/"
        },
        "id": "zSWciaWmKETt",
        "outputId": "1551ad07-547a-49ce-f181-d8649e9f62ca"
      },
      "execution_count": null,
      "outputs": [
        {
          "output_type": "execute_result",
          "data": {
            "text/plain": [
              "<_PrefetchDataset element_spec=((TensorSpec(shape=(None,), dtype=tf.string, name=None), TensorSpec(shape=(None,), dtype=tf.string, name=None)), TensorSpec(shape=(None, 5), dtype=tf.float64, name=None))>"
            ]
          },
          "metadata": {},
          "execution_count": 87
        }
      ]
    },
    {
      "cell_type": "code",
      "source": [
        "# Fit the model 4\n",
        "model_4_history = model_4.fit(train_token_char_dataset,\n",
        "                              steps_per_epoch=int(0.1*len(train_token_char_dataset)),\n",
        "                              epochs=5,\n",
        "                              validation_data=val_token_char_dataset,\n",
        "                              validation_steps=int(0.1*len(val_token_char_dataset)))"
      ],
      "metadata": {
        "colab": {
          "base_uri": "https://localhost:8080/"
        },
        "id": "Q2x9ldAbKqdI",
        "outputId": "47649cdf-121e-4991-bb10-b0365a4996f7"
      },
      "execution_count": null,
      "outputs": [
        {
          "output_type": "stream",
          "name": "stdout",
          "text": [
            "Epoch 1/5\n",
            "562/562 [==============================] - 207s 349ms/step - loss: 0.9859 - accuracy: 0.6098 - val_loss: 0.7793 - val_accuracy: 0.7001\n",
            "Epoch 2/5\n",
            "562/562 [==============================] - 199s 354ms/step - loss: 0.8006 - accuracy: 0.6945 - val_loss: 0.7135 - val_accuracy: 0.7277\n",
            "Epoch 3/5\n",
            "562/562 [==============================] - 197s 351ms/step - loss: 0.7740 - accuracy: 0.7062 - val_loss: 0.6864 - val_accuracy: 0.7420\n",
            "Epoch 4/5\n",
            "562/562 [==============================] - 192s 342ms/step - loss: 0.7389 - accuracy: 0.7198 - val_loss: 0.6671 - val_accuracy: 0.7507\n",
            "Epoch 5/5\n",
            "562/562 [==============================] - 195s 347ms/step - loss: 0.7515 - accuracy: 0.7154 - val_loss: 0.6535 - val_accuracy: 0.7533\n"
          ]
        }
      ]
    },
    {
      "cell_type": "code",
      "source": [
        "# Evaluate model on the whole validation data\n",
        "model_4.evaluate(val_token_char_dataset)"
      ],
      "metadata": {
        "colab": {
          "base_uri": "https://localhost:8080/"
        },
        "id": "_gLbzO-GLYdj",
        "outputId": "e4b428c8-40a0-496b-87b9-6eab30cb72c5"
      },
      "execution_count": null,
      "outputs": [
        {
          "output_type": "stream",
          "name": "stdout",
          "text": [
            "945/945 [==============================] - 70s 74ms/step - loss: 0.6628 - accuracy: 0.7484\n"
          ]
        },
        {
          "output_type": "execute_result",
          "data": {
            "text/plain": [
              "[0.662802517414093, 0.7483781576156616]"
            ]
          },
          "metadata": {},
          "execution_count": 89
        }
      ]
    },
    {
      "cell_type": "code",
      "source": [
        "# Make some prediction\n",
        "model_4_preds_probs = model_4.predict(val_token_char_dataset)\n",
        "model_4_preds_probs"
      ],
      "metadata": {
        "colab": {
          "base_uri": "https://localhost:8080/"
        },
        "id": "BF8u30iCNahb",
        "outputId": "0c39cf8c-96d9-4570-db35-42d0680affa5"
      },
      "execution_count": null,
      "outputs": [
        {
          "output_type": "stream",
          "name": "stdout",
          "text": [
            "945/945 [==============================] - 71s 72ms/step\n"
          ]
        },
        {
          "output_type": "execute_result",
          "data": {
            "text/plain": [
              "array([[6.4233845e-01, 1.7550169e-01, 4.2169555e-03, 1.7102519e-01,\n",
              "        6.9177952e-03],\n",
              "       [4.7632590e-01, 3.6379084e-01, 5.9694303e-03, 1.4889915e-01,\n",
              "        5.0145620e-03],\n",
              "       [3.1627977e-01, 5.9106983e-02, 1.1525817e-01, 4.6940321e-01,\n",
              "        3.9951846e-02],\n",
              "       ...,\n",
              "       [1.4395395e-04, 9.8888623e-04, 3.0997679e-02, 4.8833001e-05,\n",
              "        9.6782070e-01],\n",
              "       [3.3844656e-03, 1.7534481e-02, 4.9470943e-01, 1.5527105e-03,\n",
              "        4.8281890e-01],\n",
              "       [2.2570942e-01, 4.9647656e-01, 2.2980568e-01, 8.2588615e-03,\n",
              "        3.9749458e-02]], dtype=float32)"
            ]
          },
          "metadata": {},
          "execution_count": 90
        }
      ]
    },
    {
      "cell_type": "code",
      "source": [
        "# Convert prediction probabilities into classes\n",
        "model_4_preds = tf.argmax(model_4_preds_probs, axis=1)\n",
        "model_4_preds"
      ],
      "metadata": {
        "colab": {
          "base_uri": "https://localhost:8080/"
        },
        "id": "IHVip6Z_Nk36",
        "outputId": "4142bcfe-157a-49ef-bc1a-ef999785c47e"
      },
      "execution_count": null,
      "outputs": [
        {
          "output_type": "execute_result",
          "data": {
            "text/plain": [
              "<tf.Tensor: shape=(30212,), dtype=int64, numpy=array([0, 0, 3, ..., 4, 2, 1])>"
            ]
          },
          "metadata": {},
          "execution_count": 91
        }
      ]
    },
    {
      "cell_type": "code",
      "source": [
        "# Calculate the results\n",
        "model_4_results = calculate_results(y_true=val_labels_encoded,\n",
        "                                    y_pred=model_4_preds)\n",
        "model_4_results"
      ],
      "metadata": {
        "colab": {
          "base_uri": "https://localhost:8080/"
        },
        "id": "vAq1SyoXNuNz",
        "outputId": "faced0ac-4595-48e7-ef5a-520f9ecd043a"
      },
      "execution_count": null,
      "outputs": [
        {
          "output_type": "execute_result",
          "data": {
            "text/plain": [
              "{'accuracy': 0.7483781278962002,\n",
              " 'precision': 0.7462646864583286,\n",
              " 'recall': 0.7483781278962002,\n",
              " 'f1': 0.7426447347144924}"
            ]
          },
          "metadata": {},
          "execution_count": 92
        }
      ]
    },
    {
      "cell_type": "markdown",
      "source": [
        "### Model 5: Pretrained token embeddings + character embeddings + positional embeddings (line number)\n",
        "\n",
        "In our case we have line number and total line for each abstract. So, we will use both of them for positional embeddings."
      ],
      "metadata": {
        "id": "G1KRP3chOZHV"
      }
    },
    {
      "cell_type": "code",
      "source": [
        "# Lets remind the our dataframe\n",
        "train_df.head()"
      ],
      "metadata": {
        "colab": {
          "base_uri": "https://localhost:8080/",
          "height": 206
        },
        "id": "Qteum0HVRQVH",
        "outputId": "0fcbba66-59d6-4822-81f2-64136710138b"
      },
      "execution_count": null,
      "outputs": [
        {
          "output_type": "execute_result",
          "data": {
            "text/plain": [
              "   line_number     target                                               text  \\\n",
              "0            0  OBJECTIVE  to investigate the efficacy of @ weeks of dail...   \n",
              "1            1    METHODS  a total of @ patients with primary knee oa wer...   \n",
              "2            2    METHODS  outcome measures included pain reduction and i...   \n",
              "3            3    METHODS  pain was assessed using the visual analog pain...   \n",
              "4            4    METHODS  secondary outcome measures included the wester...   \n",
              "\n",
              "   total_lines  \n",
              "0           11  \n",
              "1           11  \n",
              "2           11  \n",
              "3           11  \n",
              "4           11  "
            ],
            "text/html": [
              "\n",
              "  <div id=\"df-fb276705-2b6c-4760-ab62-e25ed087872a\" class=\"colab-df-container\">\n",
              "    <div>\n",
              "<style scoped>\n",
              "    .dataframe tbody tr th:only-of-type {\n",
              "        vertical-align: middle;\n",
              "    }\n",
              "\n",
              "    .dataframe tbody tr th {\n",
              "        vertical-align: top;\n",
              "    }\n",
              "\n",
              "    .dataframe thead th {\n",
              "        text-align: right;\n",
              "    }\n",
              "</style>\n",
              "<table border=\"1\" class=\"dataframe\">\n",
              "  <thead>\n",
              "    <tr style=\"text-align: right;\">\n",
              "      <th></th>\n",
              "      <th>line_number</th>\n",
              "      <th>target</th>\n",
              "      <th>text</th>\n",
              "      <th>total_lines</th>\n",
              "    </tr>\n",
              "  </thead>\n",
              "  <tbody>\n",
              "    <tr>\n",
              "      <th>0</th>\n",
              "      <td>0</td>\n",
              "      <td>OBJECTIVE</td>\n",
              "      <td>to investigate the efficacy of @ weeks of dail...</td>\n",
              "      <td>11</td>\n",
              "    </tr>\n",
              "    <tr>\n",
              "      <th>1</th>\n",
              "      <td>1</td>\n",
              "      <td>METHODS</td>\n",
              "      <td>a total of @ patients with primary knee oa wer...</td>\n",
              "      <td>11</td>\n",
              "    </tr>\n",
              "    <tr>\n",
              "      <th>2</th>\n",
              "      <td>2</td>\n",
              "      <td>METHODS</td>\n",
              "      <td>outcome measures included pain reduction and i...</td>\n",
              "      <td>11</td>\n",
              "    </tr>\n",
              "    <tr>\n",
              "      <th>3</th>\n",
              "      <td>3</td>\n",
              "      <td>METHODS</td>\n",
              "      <td>pain was assessed using the visual analog pain...</td>\n",
              "      <td>11</td>\n",
              "    </tr>\n",
              "    <tr>\n",
              "      <th>4</th>\n",
              "      <td>4</td>\n",
              "      <td>METHODS</td>\n",
              "      <td>secondary outcome measures included the wester...</td>\n",
              "      <td>11</td>\n",
              "    </tr>\n",
              "  </tbody>\n",
              "</table>\n",
              "</div>\n",
              "    <div class=\"colab-df-buttons\">\n",
              "\n",
              "  <div class=\"colab-df-container\">\n",
              "    <button class=\"colab-df-convert\" onclick=\"convertToInteractive('df-fb276705-2b6c-4760-ab62-e25ed087872a')\"\n",
              "            title=\"Convert this dataframe to an interactive table.\"\n",
              "            style=\"display:none;\">\n",
              "\n",
              "  <svg xmlns=\"http://www.w3.org/2000/svg\" height=\"24px\" viewBox=\"0 -960 960 960\">\n",
              "    <path d=\"M120-120v-720h720v720H120Zm60-500h600v-160H180v160Zm220 220h160v-160H400v160Zm0 220h160v-160H400v160ZM180-400h160v-160H180v160Zm440 0h160v-160H620v160ZM180-180h160v-160H180v160Zm440 0h160v-160H620v160Z\"/>\n",
              "  </svg>\n",
              "    </button>\n",
              "\n",
              "  <style>\n",
              "    .colab-df-container {\n",
              "      display:flex;\n",
              "      gap: 12px;\n",
              "    }\n",
              "\n",
              "    .colab-df-convert {\n",
              "      background-color: #E8F0FE;\n",
              "      border: none;\n",
              "      border-radius: 50%;\n",
              "      cursor: pointer;\n",
              "      display: none;\n",
              "      fill: #1967D2;\n",
              "      height: 32px;\n",
              "      padding: 0 0 0 0;\n",
              "      width: 32px;\n",
              "    }\n",
              "\n",
              "    .colab-df-convert:hover {\n",
              "      background-color: #E2EBFA;\n",
              "      box-shadow: 0px 1px 2px rgba(60, 64, 67, 0.3), 0px 1px 3px 1px rgba(60, 64, 67, 0.15);\n",
              "      fill: #174EA6;\n",
              "    }\n",
              "\n",
              "    .colab-df-buttons div {\n",
              "      margin-bottom: 4px;\n",
              "    }\n",
              "\n",
              "    [theme=dark] .colab-df-convert {\n",
              "      background-color: #3B4455;\n",
              "      fill: #D2E3FC;\n",
              "    }\n",
              "\n",
              "    [theme=dark] .colab-df-convert:hover {\n",
              "      background-color: #434B5C;\n",
              "      box-shadow: 0px 1px 3px 1px rgba(0, 0, 0, 0.15);\n",
              "      filter: drop-shadow(0px 1px 2px rgba(0, 0, 0, 0.3));\n",
              "      fill: #FFFFFF;\n",
              "    }\n",
              "  </style>\n",
              "\n",
              "    <script>\n",
              "      const buttonEl =\n",
              "        document.querySelector('#df-fb276705-2b6c-4760-ab62-e25ed087872a button.colab-df-convert');\n",
              "      buttonEl.style.display =\n",
              "        google.colab.kernel.accessAllowed ? 'block' : 'none';\n",
              "\n",
              "      async function convertToInteractive(key) {\n",
              "        const element = document.querySelector('#df-fb276705-2b6c-4760-ab62-e25ed087872a');\n",
              "        const dataTable =\n",
              "          await google.colab.kernel.invokeFunction('convertToInteractive',\n",
              "                                                    [key], {});\n",
              "        if (!dataTable) return;\n",
              "\n",
              "        const docLinkHtml = 'Like what you see? Visit the ' +\n",
              "          '<a target=\"_blank\" href=https://colab.research.google.com/notebooks/data_table.ipynb>data table notebook</a>'\n",
              "          + ' to learn more about interactive tables.';\n",
              "        element.innerHTML = '';\n",
              "        dataTable['output_type'] = 'display_data';\n",
              "        await google.colab.output.renderOutput(dataTable, element);\n",
              "        const docLink = document.createElement('div');\n",
              "        docLink.innerHTML = docLinkHtml;\n",
              "        element.appendChild(docLink);\n",
              "      }\n",
              "    </script>\n",
              "  </div>\n",
              "\n",
              "\n",
              "<div id=\"df-c7916296-2c0a-41d8-b09b-998df7e43c4b\">\n",
              "  <button class=\"colab-df-quickchart\" onclick=\"quickchart('df-c7916296-2c0a-41d8-b09b-998df7e43c4b')\"\n",
              "            title=\"Suggest charts.\"\n",
              "            style=\"display:none;\">\n",
              "\n",
              "<svg xmlns=\"http://www.w3.org/2000/svg\" height=\"24px\"viewBox=\"0 0 24 24\"\n",
              "     width=\"24px\">\n",
              "    <g>\n",
              "        <path d=\"M19 3H5c-1.1 0-2 .9-2 2v14c0 1.1.9 2 2 2h14c1.1 0 2-.9 2-2V5c0-1.1-.9-2-2-2zM9 17H7v-7h2v7zm4 0h-2V7h2v10zm4 0h-2v-4h2v4z\"/>\n",
              "    </g>\n",
              "</svg>\n",
              "  </button>\n",
              "\n",
              "<style>\n",
              "  .colab-df-quickchart {\n",
              "      --bg-color: #E8F0FE;\n",
              "      --fill-color: #1967D2;\n",
              "      --hover-bg-color: #E2EBFA;\n",
              "      --hover-fill-color: #174EA6;\n",
              "      --disabled-fill-color: #AAA;\n",
              "      --disabled-bg-color: #DDD;\n",
              "  }\n",
              "\n",
              "  [theme=dark] .colab-df-quickchart {\n",
              "      --bg-color: #3B4455;\n",
              "      --fill-color: #D2E3FC;\n",
              "      --hover-bg-color: #434B5C;\n",
              "      --hover-fill-color: #FFFFFF;\n",
              "      --disabled-bg-color: #3B4455;\n",
              "      --disabled-fill-color: #666;\n",
              "  }\n",
              "\n",
              "  .colab-df-quickchart {\n",
              "    background-color: var(--bg-color);\n",
              "    border: none;\n",
              "    border-radius: 50%;\n",
              "    cursor: pointer;\n",
              "    display: none;\n",
              "    fill: var(--fill-color);\n",
              "    height: 32px;\n",
              "    padding: 0;\n",
              "    width: 32px;\n",
              "  }\n",
              "\n",
              "  .colab-df-quickchart:hover {\n",
              "    background-color: var(--hover-bg-color);\n",
              "    box-shadow: 0 1px 2px rgba(60, 64, 67, 0.3), 0 1px 3px 1px rgba(60, 64, 67, 0.15);\n",
              "    fill: var(--button-hover-fill-color);\n",
              "  }\n",
              "\n",
              "  .colab-df-quickchart-complete:disabled,\n",
              "  .colab-df-quickchart-complete:disabled:hover {\n",
              "    background-color: var(--disabled-bg-color);\n",
              "    fill: var(--disabled-fill-color);\n",
              "    box-shadow: none;\n",
              "  }\n",
              "\n",
              "  .colab-df-spinner {\n",
              "    border: 2px solid var(--fill-color);\n",
              "    border-color: transparent;\n",
              "    border-bottom-color: var(--fill-color);\n",
              "    animation:\n",
              "      spin 1s steps(1) infinite;\n",
              "  }\n",
              "\n",
              "  @keyframes spin {\n",
              "    0% {\n",
              "      border-color: transparent;\n",
              "      border-bottom-color: var(--fill-color);\n",
              "      border-left-color: var(--fill-color);\n",
              "    }\n",
              "    20% {\n",
              "      border-color: transparent;\n",
              "      border-left-color: var(--fill-color);\n",
              "      border-top-color: var(--fill-color);\n",
              "    }\n",
              "    30% {\n",
              "      border-color: transparent;\n",
              "      border-left-color: var(--fill-color);\n",
              "      border-top-color: var(--fill-color);\n",
              "      border-right-color: var(--fill-color);\n",
              "    }\n",
              "    40% {\n",
              "      border-color: transparent;\n",
              "      border-right-color: var(--fill-color);\n",
              "      border-top-color: var(--fill-color);\n",
              "    }\n",
              "    60% {\n",
              "      border-color: transparent;\n",
              "      border-right-color: var(--fill-color);\n",
              "    }\n",
              "    80% {\n",
              "      border-color: transparent;\n",
              "      border-right-color: var(--fill-color);\n",
              "      border-bottom-color: var(--fill-color);\n",
              "    }\n",
              "    90% {\n",
              "      border-color: transparent;\n",
              "      border-bottom-color: var(--fill-color);\n",
              "    }\n",
              "  }\n",
              "</style>\n",
              "\n",
              "  <script>\n",
              "    async function quickchart(key) {\n",
              "      const quickchartButtonEl =\n",
              "        document.querySelector('#' + key + ' button');\n",
              "      quickchartButtonEl.disabled = true;  // To prevent multiple clicks.\n",
              "      quickchartButtonEl.classList.add('colab-df-spinner');\n",
              "      try {\n",
              "        const charts = await google.colab.kernel.invokeFunction(\n",
              "            'suggestCharts', [key], {});\n",
              "      } catch (error) {\n",
              "        console.error('Error during call to suggestCharts:', error);\n",
              "      }\n",
              "      quickchartButtonEl.classList.remove('colab-df-spinner');\n",
              "      quickchartButtonEl.classList.add('colab-df-quickchart-complete');\n",
              "    }\n",
              "    (() => {\n",
              "      let quickchartButtonEl =\n",
              "        document.querySelector('#df-c7916296-2c0a-41d8-b09b-998df7e43c4b button');\n",
              "      quickchartButtonEl.style.display =\n",
              "        google.colab.kernel.accessAllowed ? 'block' : 'none';\n",
              "    })();\n",
              "  </script>\n",
              "</div>\n",
              "    </div>\n",
              "  </div>\n"
            ]
          },
          "metadata": {},
          "execution_count": 93
        }
      ]
    },
    {
      "cell_type": "markdown",
      "source": [
        "#### Create positional embeddings"
      ],
      "metadata": {
        "id": "pEDsNrs5ViXf"
      }
    },
    {
      "cell_type": "code",
      "source": [
        "# How many different line numbers are there?\n",
        "train_df['line_number'].value_counts()"
      ],
      "metadata": {
        "colab": {
          "base_uri": "https://localhost:8080/"
        },
        "id": "TUzq1Le2RRum",
        "outputId": "e8299cf0-f4b3-487e-fff0-7a87862bca0d"
      },
      "execution_count": null,
      "outputs": [
        {
          "output_type": "execute_result",
          "data": {
            "text/plain": [
              "0     15000\n",
              "1     15000\n",
              "2     15000\n",
              "3     15000\n",
              "4     14992\n",
              "5     14949\n",
              "6     14758\n",
              "7     14279\n",
              "8     13346\n",
              "9     11981\n",
              "10    10041\n",
              "11     7892\n",
              "12     5853\n",
              "13     4152\n",
              "14     2835\n",
              "15     1861\n",
              "16     1188\n",
              "17      751\n",
              "18      462\n",
              "19      286\n",
              "20      162\n",
              "21      101\n",
              "22       66\n",
              "23       33\n",
              "24       22\n",
              "25       14\n",
              "26        7\n",
              "27        4\n",
              "28        3\n",
              "29        1\n",
              "30        1\n",
              "Name: line_number, dtype: int64"
            ]
          },
          "metadata": {},
          "execution_count": 94
        }
      ]
    },
    {
      "cell_type": "code",
      "source": [
        "# Check the distribution of line number\n",
        "train_df['line_number'].plot.hist(bins=30);"
      ],
      "metadata": {
        "colab": {
          "base_uri": "https://localhost:8080/",
          "height": 430
        },
        "id": "VhUHTphQTNT5",
        "outputId": "57ebc176-530a-4117-fa8e-e4aa294ff02b"
      },
      "execution_count": null,
      "outputs": [
        {
          "output_type": "display_data",
          "data": {
            "text/plain": [
              "<Figure size 640x480 with 1 Axes>"
            ],
            "image/png": "[encoded data removed]"
          },
          "metadata": {}
        }
      ]
    },
    {
      "cell_type": "code",
      "source": [
        "# Use tensorflow to create one hot encoder tensors of our 'line_number' features\n",
        "train_line_numbers_one_hot = tf.one_hot(train_df['line_number'].to_numpy(), depth=15) # we dont wanna use 30 because line\n",
        "                                                                                      # number greater than 15's frequency is too low\n",
        "val_line_numbers_one_hot = tf.one_hot(val_df['line_number'].to_numpy(), depth=15)\n",
        "test_line_numbers_one_hot = tf.one_hot(test_df['line_number'].to_numpy(), depth=15)\n",
        "train_line_numbers_one_hot[:10], train_line_numbers_one_hot.shape"
      ],
      "metadata": {
        "colab": {
          "base_uri": "https://localhost:8080/"
        },
        "id": "yVwNd82aTpH6",
        "outputId": "308c7893-8d02-49b1-e2a5-c8ed5722ca35"
      },
      "execution_count": null,
      "outputs": [
        {
          "output_type": "execute_result",
          "data": {
            "text/plain": [
              "(<tf.Tensor: shape=(10, 15), dtype=float32, numpy=\n",
              " array([[1., 0., 0., 0., 0., 0., 0., 0., 0., 0., 0., 0., 0., 0., 0.],\n",
              "        [0., 1., 0., 0., 0., 0., 0., 0., 0., 0., 0., 0., 0., 0., 0.],\n",
              "        [0., 0., 1., 0., 0., 0., 0., 0., 0., 0., 0., 0., 0., 0., 0.],\n",
              "        [0., 0., 0., 1., 0., 0., 0., 0., 0., 0., 0., 0., 0., 0., 0.],\n",
              "        [0., 0., 0., 0., 1., 0., 0., 0., 0., 0., 0., 0., 0., 0., 0.],\n",
              "        [0., 0., 0., 0., 0., 1., 0., 0., 0., 0., 0., 0., 0., 0., 0.],\n",
              "        [0., 0., 0., 0., 0., 0., 1., 0., 0., 0., 0., 0., 0., 0., 0.],\n",
              "        [0., 0., 0., 0., 0., 0., 0., 1., 0., 0., 0., 0., 0., 0., 0.],\n",
              "        [0., 0., 0., 0., 0., 0., 0., 0., 1., 0., 0., 0., 0., 0., 0.],\n",
              "        [0., 0., 0., 0., 0., 0., 0., 0., 0., 1., 0., 0., 0., 0., 0.]],\n",
              "       dtype=float32)>,\n",
              " TensorShape([180040, 15]))"
            ]
          },
          "metadata": {},
          "execution_count": 96
        }
      ]
    },
    {
      "cell_type": "code",
      "source": [
        "# How many different total line are there?\n",
        "train_df['total_lines'].value_counts()"
      ],
      "metadata": {
        "colab": {
          "base_uri": "https://localhost:8080/"
        },
        "id": "O4wESkQjUVvb",
        "outputId": "12faea2a-efa9-4eff-ed8e-95bf69b04520"
      },
      "execution_count": null,
      "outputs": [
        {
          "output_type": "execute_result",
          "data": {
            "text/plain": [
              "11    24468\n",
              "10    23639\n",
              "12    22113\n",
              "9     19400\n",
              "13    18438\n",
              "14    14610\n",
              "8     12285\n",
              "15    10768\n",
              "7      7464\n",
              "16     7429\n",
              "17     5202\n",
              "6      3353\n",
              "18     3344\n",
              "19     2480\n",
              "20     1281\n",
              "5      1146\n",
              "21      770\n",
              "22      759\n",
              "23      264\n",
              "4       215\n",
              "24      200\n",
              "25      182\n",
              "26       81\n",
              "28       58\n",
              "3        32\n",
              "30       31\n",
              "27       28\n",
              "Name: total_lines, dtype: int64"
            ]
          },
          "metadata": {},
          "execution_count": 97
        }
      ]
    },
    {
      "cell_type": "code",
      "source": [
        "# Check out the distribution of total lines\n",
        "train_df['total_lines'].plot.hist(bins=25);"
      ],
      "metadata": {
        "colab": {
          "base_uri": "https://localhost:8080/",
          "height": 430
        },
        "id": "5xQ6SbqwVsdn",
        "outputId": "7d532e78-c93a-4012-b0b7-24d8d13e63bb"
      },
      "execution_count": null,
      "outputs": [
        {
          "output_type": "display_data",
          "data": {
            "text/plain": [
              "<Figure size 640x480 with 1 Axes>"
            ],
            "image/png": "[encoded data removed]"
          },
          "metadata": {}
        }
      ]
    },
    {
      "cell_type": "code",
      "source": [
        "# Use tensorflow to create one hot encoder tensors of our 'total_lines' features\n",
        "train_total_lines_one_hot = tf.one_hot(train_df['total_lines'].to_numpy(), depth=20)\n",
        "val_total_lines_one_hot = tf.one_hot(val_df['total_lines'].to_numpy(), depth=20)\n",
        "test_total_lines_one_hot = tf.one_hot(test_df['total_lines'].to_numpy(), depth=20)\n",
        "\n",
        "# Check out the train_total_lines_one_hot\n",
        "train_total_lines_one_hot[:10], train_total_lines_one_hot.shape"
      ],
      "metadata": {
        "colab": {
          "base_uri": "https://localhost:8080/"
        },
        "id": "WhWX2sbOV6ee",
        "outputId": "a66d9964-0984-4c52-d06b-7b08c3ccd77c"
      },
      "execution_count": null,
      "outputs": [
        {
          "output_type": "execute_result",
          "data": {
            "text/plain": [
              "(<tf.Tensor: shape=(10, 20), dtype=float32, numpy=\n",
              " array([[0., 0., 0., 0., 0., 0., 0., 0., 0., 0., 0., 1., 0., 0., 0., 0.,\n",
              "         0., 0., 0., 0.],\n",
              "        [0., 0., 0., 0., 0., 0., 0., 0., 0., 0., 0., 1., 0., 0., 0., 0.,\n",
              "         0., 0., 0., 0.],\n",
              "        [0., 0., 0., 0., 0., 0., 0., 0., 0., 0., 0., 1., 0., 0., 0., 0.,\n",
              "         0., 0., 0., 0.],\n",
              "        [0., 0., 0., 0., 0., 0., 0., 0., 0., 0., 0., 1., 0., 0., 0., 0.,\n",
              "         0., 0., 0., 0.],\n",
              "        [0., 0., 0., 0., 0., 0., 0., 0., 0., 0., 0., 1., 0., 0., 0., 0.,\n",
              "         0., 0., 0., 0.],\n",
              "        [0., 0., 0., 0., 0., 0., 0., 0., 0., 0., 0., 1., 0., 0., 0., 0.,\n",
              "         0., 0., 0., 0.],\n",
              "        [0., 0., 0., 0., 0., 0., 0., 0., 0., 0., 0., 1., 0., 0., 0., 0.,\n",
              "         0., 0., 0., 0.],\n",
              "        [0., 0., 0., 0., 0., 0., 0., 0., 0., 0., 0., 1., 0., 0., 0., 0.,\n",
              "         0., 0., 0., 0.],\n",
              "        [0., 0., 0., 0., 0., 0., 0., 0., 0., 0., 0., 1., 0., 0., 0., 0.,\n",
              "         0., 0., 0., 0.],\n",
              "        [0., 0., 0., 0., 0., 0., 0., 0., 0., 0., 0., 1., 0., 0., 0., 0.,\n",
              "         0., 0., 0., 0.]], dtype=float32)>,\n",
              " TensorShape([180040, 20]))"
            ]
          },
          "metadata": {},
          "execution_count": 99
        }
      ]
    },
    {
      "cell_type": "markdown",
      "source": [
        "Here are the steps for modelling:\n",
        "\n",
        "1. Create a token-level model\n",
        "2. Create a character-level model\n",
        "3. Create a model for the 'line_number' feature\n",
        "4. Create a model for the 'total_lines' feature\n",
        "5. Combine the outputs of 1 and 2 using tf.keras.layers.Concatenate\n",
        "6. Combine the outputs 3, 4 and 5 using tf.keras.layers.Concatenate\n",
        "7. Create an output layer to accept the tribried embedding and output label probabilities\n",
        "8. Combine the inputs 1, 2, 3, 4 and outputs of into a tf.keras.Model"
      ],
      "metadata": {
        "id": "-3DWpZ9KXXLA"
      }
    },
    {
      "cell_type": "code",
      "source": [
        "# 1. Token inputs\n",
        "token_inputs = layers.Input(shape=[], dtype='string', name='token_inputs')\n",
        "token_embeddings = sentence_encoder_layer(token_inputs)\n",
        "token_outputs = layers.Dense(128, activation='relu')(token_embeddings)\n",
        "token_model = tf.keras.Model(inputs=token_inputs,\n",
        "                             outputs=token_outputs)\n",
        "\n",
        "# 2. Char inputs\n",
        "char_inputs = layers.Input(shape=(1,), dtype=tf.string, name='char_input')\n",
        "char_vectors = char_vectorizer(char_inputs)\n",
        "char_embeddings = char_embed(char_vectors)\n",
        "char_bi_lstm = layers.Bidirectional(layers.LSTM(24))(char_embeddings)\n",
        "char_model = tf.keras.Model(inputs=char_inputs,\n",
        "                            outputs=char_bi_lstm)\n",
        "\n",
        "# 3. 'line_number' model\n",
        "line_number_inputs = layers.Input(shape=(15,), dtype=tf.float32, name='line_number_inputs')\n",
        "line_number_dense = layers.Dense(32, activation='relu')(line_number_inputs)\n",
        "line_number_model = tf.keras.Model(inputs=line_number_inputs,\n",
        "                                   outputs=line_number_dense)\n",
        "\n",
        "# 4. 'total_lines' model\n",
        "total_lines_inputs = layers.Input(shape=(20,), dtype=tf.float32, name='total_lines_inputs')\n",
        "total_lines_dense = layers.Dense(32, activation='relu')(total_lines_inputs)\n",
        "total_lines_model = tf.keras.Model(inputs=total_lines_inputs,\n",
        "                                   outputs=total_lines_dense)\n",
        "\n",
        "# 5. Combine token and char embeddings into a hybrid embedding\n",
        "combined_embeddings = layers.Concatenate(name='char_token_hybrid_embedding')([token_model.output,\n",
        "                                                                              char_model.output])\n",
        "z = layers.Dense(256, activation='relu')(combined_embeddings)\n",
        "z = layers.Dropout(0.5)(z)\n",
        "\n",
        "# 6. Combine positional embeddings with combined token and char embeddings\n",
        "tribrid_embeddings = layers.Concatenate(name='char_token_positional_embedding')([line_number_model.output,\n",
        "                                                                                 total_lines_model.output,\n",
        "                                                                                 z])\n",
        "\n",
        "# 7. Create output layer\n",
        "output_layer = layers.Dense(num_classes, activation='softmax', name='output_layer')(tribrid_embeddings)\n",
        "\n",
        "# 8. Put together model with all kinds of inputs\n",
        "model_5 = tf.keras.Model(inputs=[line_number_model.input,\n",
        "                                 total_lines_model.input,\n",
        "                                 token_model.input,\n",
        "                                 char_model.input,],\n",
        "                         outputs=output_layer)"
      ],
      "metadata": {
        "id": "QFanmfyEW8ez"
      },
      "execution_count": null,
      "outputs": []
    },
    {
      "cell_type": "code",
      "source": [
        "# Get the summary of model\n",
        "plot_model(model_5, show_shapes=True)"
      ],
      "metadata": {
        "colab": {
          "base_uri": "https://localhost:8080/",
          "height": 976
        },
        "id": "tEdb4bANc3tz",
        "outputId": "9715083a-643e-420f-8bf7-2037031a557e"
      },
      "execution_count": null,
      "outputs": [
        {
          "output_type": "execute_result",
          "data": {
            "image/png": "[encoded data removed]",
            "text/plain": [
              "<IPython.core.display.Image object>"
            ]
          },
          "metadata": {},
          "execution_count": 101
        }
      ]
    },
    {
      "cell_type": "markdown",
      "source": [
        "What is label smoothing?\n",
        "\n",
        "For example, if out model gets too confident on a single class (e.g. its prediction probability is really high), it may get stuck on that class and not consider other classes.\n",
        "\n",
        "Really confident: `[0.0, 0.0, 1.0, 0.0, 0.0]`\n",
        "\n",
        "What labels smoothing does is it assingns some of the value from the highest pred prob to other classes, in turn, hopefully improving generalization: `[0.01, 0.01, 0.96, 0.01, 0.01]`"
      ],
      "metadata": {
        "id": "s0AUcAkkgQaS"
      }
    },
    {
      "cell_type": "code",
      "source": [
        "# Compile the model 5\n",
        "model_5.compile(\n",
        "    loss=tf.keras.losses.CategoricalCrossentropy(label_smoothing=0.2), # helps prevent overfitting\n",
        "    optimizer=tf.keras.optimizers.Adam(),\n",
        "    metrics=['accuracy']\n",
        ")"
      ],
      "metadata": {
        "id": "LCsY3pNRegYU"
      },
      "execution_count": null,
      "outputs": []
    },
    {
      "cell_type": "markdown",
      "source": [
        "### Create tribrid embedding datasets using tf.data"
      ],
      "metadata": {
        "id": "ew3jXboUe5dM"
      }
    },
    {
      "cell_type": "code",
      "source": [
        "# Create training and validation datasets (with all four kidns of input data)\n",
        "train_char_token_pos_data = tf.data.Dataset.from_tensor_slices((train_line_numbers_one_hot,\n",
        "                                                                 train_total_lines_one_hot,\n",
        "                                                                 train_sentences,\n",
        "                                                                 train_chars))\n",
        "\n",
        "train_char_token_pos_labels = tf.data.Dataset.from_tensor_slices(train_labels_one_hot)\n",
        "train_char_token_pos_dataset = tf.data.Dataset.zip((train_char_token_pos_data, train_char_token_pos_labels))\n",
        "train_char_token_pos_dataset = train_char_token_pos_dataset.batch(32).prefetch(tf.data.AUTOTUNE)\n",
        "\n",
        "# Do same for validation dataset\n",
        "val_char_token_pos_data = tf.data.Dataset.from_tensor_slices((val_line_numbers_one_hot,\n",
        "                                                                 val_total_lines_one_hot,\n",
        "                                                                 val_sentences,\n",
        "                                                                 val_chars))\n",
        "\n",
        "val_char_token_pos_labels = tf.data.Dataset.from_tensor_slices(val_labels_one_hot)\n",
        "val_char_token_pos_dataset = tf.data.Dataset.zip((val_char_token_pos_data, val_char_token_pos_labels))\n",
        "val_char_token_pos_dataset = val_char_token_pos_dataset.batch(32).prefetch(tf.data.AUTOTUNE)"
      ],
      "metadata": {
        "id": "P3x5cPPmo5sC"
      },
      "execution_count": null,
      "outputs": []
    },
    {
      "cell_type": "code",
      "source": [
        "# Check out the datasets\n",
        "train_char_token_pos_dataset, val_char_token_pos_dataset"
      ],
      "metadata": {
        "colab": {
          "base_uri": "https://localhost:8080/"
        },
        "id": "EYQOInmvravZ",
        "outputId": "ed4c56aa-a357-4c10-e81e-7cd949021ed6"
      },
      "execution_count": null,
      "outputs": [
        {
          "output_type": "execute_result",
          "data": {
            "text/plain": [
              "(<_PrefetchDataset element_spec=((TensorSpec(shape=(None, 15), dtype=tf.float32, name=None), TensorSpec(shape=(None, 20), dtype=tf.float32, name=None), TensorSpec(shape=(None,), dtype=tf.string, name=None), TensorSpec(shape=(None,), dtype=tf.string, name=None)), TensorSpec(shape=(None, 5), dtype=tf.float64, name=None))>,\n",
              " <_PrefetchDataset element_spec=((TensorSpec(shape=(None, 15), dtype=tf.float32, name=None), TensorSpec(shape=(None, 20), dtype=tf.float32, name=None), TensorSpec(shape=(None,), dtype=tf.string, name=None), TensorSpec(shape=(None,), dtype=tf.string, name=None)), TensorSpec(shape=(None, 5), dtype=tf.float64, name=None))>)"
            ]
          },
          "metadata": {},
          "execution_count": 107
        }
      ]
    },
    {
      "cell_type": "code",
      "source": [
        "# Fit the model 5\n",
        "model_5_history = model_5.fit(train_char_token_pos_dataset,\n",
        "                              epochs=5,\n",
        "                              steps_per_epoch=int(0.1*len(train_char_token_pos_dataset)),\n",
        "                              validation_data=val_char_token_pos_dataset,\n",
        "                              validation_steps=int(0.1*len(val_char_token_pos_dataset)))"
      ],
      "metadata": {
        "colab": {
          "base_uri": "https://localhost:8080/"
        },
        "id": "UsJvhUzIsVNA",
        "outputId": "a42bd667-7843-4e20-8c42-0d4b9fe9ca9d"
      },
      "execution_count": null,
      "outputs": [
        {
          "output_type": "stream",
          "name": "stdout",
          "text": [
            "Epoch 1/5\n",
            "562/562 [==============================] - 210s 355ms/step - loss: 1.0898 - accuracy: 0.7309 - val_loss: 0.9816 - val_accuracy: 0.8065\n",
            "Epoch 2/5\n",
            "562/562 [==============================] - 197s 350ms/step - loss: 0.9673 - accuracy: 0.8134 - val_loss: 0.9484 - val_accuracy: 0.8275\n",
            "Epoch 3/5\n",
            "562/562 [==============================] - 200s 355ms/step - loss: 0.9499 - accuracy: 0.8248 - val_loss: 0.9391 - val_accuracy: 0.8308\n",
            "Epoch 4/5\n",
            "562/562 [==============================] - 201s 357ms/step - loss: 0.9398 - accuracy: 0.8357 - val_loss: 0.9294 - val_accuracy: 0.8378\n",
            "Epoch 5/5\n",
            "562/562 [==============================] - 196s 349ms/step - loss: 0.9361 - accuracy: 0.8363 - val_loss: 0.9231 - val_accuracy: 0.8424\n"
          ]
        }
      ]
    },
    {
      "cell_type": "code",
      "source": [
        "# Evaluate the model 5 on the whole dataset\n",
        "model_5.evaluate(val_char_token_pos_dataset)"
      ],
      "metadata": {
        "colab": {
          "base_uri": "https://localhost:8080/"
        },
        "id": "keHuX057tC3o",
        "outputId": "b90c14c9-6855-453e-a6ba-64f023969f06"
      },
      "execution_count": null,
      "outputs": [
        {
          "output_type": "stream",
          "name": "stdout",
          "text": [
            "945/945 [==============================] - 70s 74ms/step - loss: 0.9215 - accuracy: 0.8420\n"
          ]
        },
        {
          "output_type": "execute_result",
          "data": {
            "text/plain": [
              "[0.9215095639228821, 0.8419833183288574]"
            ]
          },
          "metadata": {},
          "execution_count": 109
        }
      ]
    },
    {
      "cell_type": "code",
      "source": [
        "# Make some predictions\n",
        "model_5_preds_probs = model_5.predict(val_char_token_pos_dataset)\n",
        "model_5_preds_probs"
      ],
      "metadata": {
        "colab": {
          "base_uri": "https://localhost:8080/"
        },
        "id": "4ce4Ke1wtRC4",
        "outputId": "e0c9b893-0774-43ec-95c9-d5e2f67eb3eb"
      },
      "execution_count": null,
      "outputs": [
        {
          "output_type": "stream",
          "name": "stdout",
          "text": [
            "945/945 [==============================] - 71s 72ms/step\n"
          ]
        },
        {
          "output_type": "execute_result",
          "data": {
            "text/plain": [
              "array([[0.6139137 , 0.07281225, 0.01486476, 0.27782932, 0.02058005],\n",
              "       [0.6302839 , 0.07696283, 0.06741206, 0.21339251, 0.01194873],\n",
              "       [0.37071502, 0.09863909, 0.1367931 , 0.33988115, 0.05397155],\n",
              "       ...,\n",
              "       [0.03176228, 0.05723918, 0.04252771, 0.02554984, 0.84292096],\n",
              "       [0.01960975, 0.34371316, 0.13035989, 0.02082761, 0.4854896 ],\n",
              "       [0.11017819, 0.7062286 , 0.09936967, 0.02056005, 0.06366358]],\n",
              "      dtype=float32)"
            ]
          },
          "metadata": {},
          "execution_count": 110
        }
      ]
    },
    {
      "cell_type": "code",
      "source": [
        "# Convert prediction probabilities into classes\n",
        "model_5_preds = tf.argmax(model_5_preds_probs, axis=1)\n",
        "model_5_preds"
      ],
      "metadata": {
        "colab": {
          "base_uri": "https://localhost:8080/"
        },
        "id": "ZgCs7eWTtc6n",
        "outputId": "2d023eac-baa7-4fdf-aa15-68a428d06c0e"
      },
      "execution_count": null,
      "outputs": [
        {
          "output_type": "execute_result",
          "data": {
            "text/plain": [
              "<tf.Tensor: shape=(30212,), dtype=int64, numpy=array([0, 0, 0, ..., 4, 4, 1])>"
            ]
          },
          "metadata": {},
          "execution_count": 111
        }
      ]
    },
    {
      "cell_type": "code",
      "source": [
        "# Calculate the model results\n",
        "model_5_results = calculate_results(y_true=val_labels_encoded,\n",
        "                                    y_pred=model_5_preds)\n",
        "model_5_results"
      ],
      "metadata": {
        "colab": {
          "base_uri": "https://localhost:8080/"
        },
        "id": "NOcV5WWctvG5",
        "outputId": "7ca8b83e-09d4-4e09-f294-86b63ded72ea"
      },
      "execution_count": null,
      "outputs": [
        {
          "output_type": "execute_result",
          "data": {
            "text/plain": [
              "{'accuracy': 0.8419833178869324,\n",
              " 'precision': 0.8437677709517305,\n",
              " 'recall': 0.8419833178869324,\n",
              " 'f1': 0.8387741095218846}"
            ]
          },
          "metadata": {},
          "execution_count": 113
        }
      ]
    },
    {
      "cell_type": "markdown",
      "source": [
        "## Compare model results"
      ],
      "metadata": {
        "id": "r9Ya1pWtujS3"
      }
    },
    {
      "cell_type": "code",
      "source": [
        "# Combine model results into a dataframe\n",
        "all_model_results = pd.DataFrame({\n",
        "    'model_0_baseline': baseline_results,\n",
        "    'model_1_custom_token_embedding': model_1_results,\n",
        "    'model_2_token_embedding': model_2_results,\n",
        "    'model_3_char_embedding': model_3_results,\n",
        "    'model_4_char_token_embedding': model_4_results,\n",
        "    'model_5_char_token_pos_embedding': model_5_results\n",
        "})\n",
        "\n",
        "all_model_results = all_model_results.transpose()\n",
        "all_model_results"
      ],
      "metadata": {
        "colab": {
          "base_uri": "https://localhost:8080/",
          "height": 237
        },
        "id": "foxBMK7fw5SL",
        "outputId": "a28b47a9-39f9-4552-a314-4a6f8b7c565d"
      },
      "execution_count": null,
      "outputs": [
        {
          "output_type": "execute_result",
          "data": {
            "text/plain": [
              "                                  accuracy  precision    recall        f1\n",
              "model_0_baseline                  0.721832   0.718647  0.721832  0.698925\n",
              "model_1_custom_token_embedding    0.819972   0.822846  0.819972  0.817664\n",
              "model_2_token_embedding           0.734576   0.731070  0.734576  0.728729\n",
              "model_3_char_embedding            0.565140   0.571114  0.565140  0.528966\n",
              "model_4_char_token_embedding      0.748378   0.746265  0.748378  0.742645\n",
              "model_5_char_token_pos_embedding  0.841983   0.843768  0.841983  0.838774"
            ],
            "text/html": [
              "\n",
              "  <div id=\"df-6ef5948d-1663-4723-8f0d-847c878240c4\" class=\"colab-df-container\">\n",
              "    <div>\n",
              "<style scoped>\n",
              "    .dataframe tbody tr th:only-of-type {\n",
              "        vertical-align: middle;\n",
              "    }\n",
              "\n",
              "    .dataframe tbody tr th {\n",
              "        vertical-align: top;\n",
              "    }\n",
              "\n",
              "    .dataframe thead th {\n",
              "        text-align: right;\n",
              "    }\n",
              "</style>\n",
              "<table border=\"1\" class=\"dataframe\">\n",
              "  <thead>\n",
              "    <tr style=\"text-align: right;\">\n",
              "      <th></th>\n",
              "      <th>accuracy</th>\n",
              "      <th>precision</th>\n",
              "      <th>recall</th>\n",
              "      <th>f1</th>\n",
              "    </tr>\n",
              "  </thead>\n",
              "  <tbody>\n",
              "    <tr>\n",
              "      <th>model_0_baseline</th>\n",
              "      <td>0.721832</td>\n",
              "      <td>0.718647</td>\n",
              "      <td>0.721832</td>\n",
              "      <td>0.698925</td>\n",
              "    </tr>\n",
              "    <tr>\n",
              "      <th>model_1_custom_token_embedding</th>\n",
              "      <td>0.819972</td>\n",
              "      <td>0.822846</td>\n",
              "      <td>0.819972</td>\n",
              "      <td>0.817664</td>\n",
              "    </tr>\n",
              "    <tr>\n",
              "      <th>model_2_token_embedding</th>\n",
              "      <td>0.734576</td>\n",
              "      <td>0.731070</td>\n",
              "      <td>0.734576</td>\n",
              "      <td>0.728729</td>\n",
              "    </tr>\n",
              "    <tr>\n",
              "      <th>model_3_char_embedding</th>\n",
              "      <td>0.565140</td>\n",
              "      <td>0.571114</td>\n",
              "      <td>0.565140</td>\n",
              "      <td>0.528966</td>\n",
              "    </tr>\n",
              "    <tr>\n",
              "      <th>model_4_char_token_embedding</th>\n",
              "      <td>0.748378</td>\n",
              "      <td>0.746265</td>\n",
              "      <td>0.748378</td>\n",
              "      <td>0.742645</td>\n",
              "    </tr>\n",
              "    <tr>\n",
              "      <th>model_5_char_token_pos_embedding</th>\n",
              "      <td>0.841983</td>\n",
              "      <td>0.843768</td>\n",
              "      <td>0.841983</td>\n",
              "      <td>0.838774</td>\n",
              "    </tr>\n",
              "  </tbody>\n",
              "</table>\n",
              "</div>\n",
              "    <div class=\"colab-df-buttons\">\n",
              "\n",
              "  <div class=\"colab-df-container\">\n",
              "    <button class=\"colab-df-convert\" onclick=\"convertToInteractive('df-6ef5948d-1663-4723-8f0d-847c878240c4')\"\n",
              "            title=\"Convert this dataframe to an interactive table.\"\n",
              "            style=\"display:none;\">\n",
              "\n",
              "  <svg xmlns=\"http://www.w3.org/2000/svg\" height=\"24px\" viewBox=\"0 -960 960 960\">\n",
              "    <path d=\"M120-120v-720h720v720H120Zm60-500h600v-160H180v160Zm220 220h160v-160H400v160Zm0 220h160v-160H400v160ZM180-400h160v-160H180v160Zm440 0h160v-160H620v160ZM180-180h160v-160H180v160Zm440 0h160v-160H620v160Z\"/>\n",
              "  </svg>\n",
              "    </button>\n",
              "\n",
              "  <style>\n",
              "    .colab-df-container {\n",
              "      display:flex;\n",
              "      gap: 12px;\n",
              "    }\n",
              "\n",
              "    .colab-df-convert {\n",
              "      background-color: #E8F0FE;\n",
              "      border: none;\n",
              "      border-radius: 50%;\n",
              "      cursor: pointer;\n",
              "      display: none;\n",
              "      fill: #1967D2;\n",
              "      height: 32px;\n",
              "      padding: 0 0 0 0;\n",
              "      width: 32px;\n",
              "    }\n",
              "\n",
              "    .colab-df-convert:hover {\n",
              "      background-color: #E2EBFA;\n",
              "      box-shadow: 0px 1px 2px rgba(60, 64, 67, 0.3), 0px 1px 3px 1px rgba(60, 64, 67, 0.15);\n",
              "      fill: #174EA6;\n",
              "    }\n",
              "\n",
              "    .colab-df-buttons div {\n",
              "      margin-bottom: 4px;\n",
              "    }\n",
              "\n",
              "    [theme=dark] .colab-df-convert {\n",
              "      background-color: #3B4455;\n",
              "      fill: #D2E3FC;\n",
              "    }\n",
              "\n",
              "    [theme=dark] .colab-df-convert:hover {\n",
              "      background-color: #434B5C;\n",
              "      box-shadow: 0px 1px 3px 1px rgba(0, 0, 0, 0.15);\n",
              "      filter: drop-shadow(0px 1px 2px rgba(0, 0, 0, 0.3));\n",
              "      fill: #FFFFFF;\n",
              "    }\n",
              "  </style>\n",
              "\n",
              "    <script>\n",
              "      const buttonEl =\n",
              "        document.querySelector('#df-6ef5948d-1663-4723-8f0d-847c878240c4 button.colab-df-convert');\n",
              "      buttonEl.style.display =\n",
              "        google.colab.kernel.accessAllowed ? 'block' : 'none';\n",
              "\n",
              "      async function convertToInteractive(key) {\n",
              "        const element = document.querySelector('#df-6ef5948d-1663-4723-8f0d-847c878240c4');\n",
              "        const dataTable =\n",
              "          await google.colab.kernel.invokeFunction('convertToInteractive',\n",
              "                                                    [key], {});\n",
              "        if (!dataTable) return;\n",
              "\n",
              "        const docLinkHtml = 'Like what you see? Visit the ' +\n",
              "          '<a target=\"_blank\" href=https://colab.research.google.com/notebooks/data_table.ipynb>data table notebook</a>'\n",
              "          + ' to learn more about interactive tables.';\n",
              "        element.innerHTML = '';\n",
              "        dataTable['output_type'] = 'display_data';\n",
              "        await google.colab.output.renderOutput(dataTable, element);\n",
              "        const docLink = document.createElement('div');\n",
              "        docLink.innerHTML = docLinkHtml;\n",
              "        element.appendChild(docLink);\n",
              "      }\n",
              "    </script>\n",
              "  </div>\n",
              "\n",
              "\n",
              "<div id=\"df-de8e8e63-8bc1-4750-9d11-f884692e4807\">\n",
              "  <button class=\"colab-df-quickchart\" onclick=\"quickchart('df-de8e8e63-8bc1-4750-9d11-f884692e4807')\"\n",
              "            title=\"Suggest charts.\"\n",
              "            style=\"display:none;\">\n",
              "\n",
              "<svg xmlns=\"http://www.w3.org/2000/svg\" height=\"24px\"viewBox=\"0 0 24 24\"\n",
              "     width=\"24px\">\n",
              "    <g>\n",
              "        <path d=\"M19 3H5c-1.1 0-2 .9-2 2v14c0 1.1.9 2 2 2h14c1.1 0 2-.9 2-2V5c0-1.1-.9-2-2-2zM9 17H7v-7h2v7zm4 0h-2V7h2v10zm4 0h-2v-4h2v4z\"/>\n",
              "    </g>\n",
              "</svg>\n",
              "  </button>\n",
              "\n",
              "<style>\n",
              "  .colab-df-quickchart {\n",
              "      --bg-color: #E8F0FE;\n",
              "      --fill-color: #1967D2;\n",
              "      --hover-bg-color: #E2EBFA;\n",
              "      --hover-fill-color: #174EA6;\n",
              "      --disabled-fill-color: #AAA;\n",
              "      --disabled-bg-color: #DDD;\n",
              "  }\n",
              "\n",
              "  [theme=dark] .colab-df-quickchart {\n",
              "      --bg-color: #3B4455;\n",
              "      --fill-color: #D2E3FC;\n",
              "      --hover-bg-color: #434B5C;\n",
              "      --hover-fill-color: #FFFFFF;\n",
              "      --disabled-bg-color: #3B4455;\n",
              "      --disabled-fill-color: #666;\n",
              "  }\n",
              "\n",
              "  .colab-df-quickchart {\n",
              "    background-color: var(--bg-color);\n",
              "    border: none;\n",
              "    border-radius: 50%;\n",
              "    cursor: pointer;\n",
              "    display: none;\n",
              "    fill: var(--fill-color);\n",
              "    height: 32px;\n",
              "    padding: 0;\n",
              "    width: 32px;\n",
              "  }\n",
              "\n",
              "  .colab-df-quickchart:hover {\n",
              "    background-color: var(--hover-bg-color);\n",
              "    box-shadow: 0 1px 2px rgba(60, 64, 67, 0.3), 0 1px 3px 1px rgba(60, 64, 67, 0.15);\n",
              "    fill: var(--button-hover-fill-color);\n",
              "  }\n",
              "\n",
              "  .colab-df-quickchart-complete:disabled,\n",
              "  .colab-df-quickchart-complete:disabled:hover {\n",
              "    background-color: var(--disabled-bg-color);\n",
              "    fill: var(--disabled-fill-color);\n",
              "    box-shadow: none;\n",
              "  }\n",
              "\n",
              "  .colab-df-spinner {\n",
              "    border: 2px solid var(--fill-color);\n",
              "    border-color: transparent;\n",
              "    border-bottom-color: var(--fill-color);\n",
              "    animation:\n",
              "      spin 1s steps(1) infinite;\n",
              "  }\n",
              "\n",
              "  @keyframes spin {\n",
              "    0% {\n",
              "      border-color: transparent;\n",
              "      border-bottom-color: var(--fill-color);\n",
              "      border-left-color: var(--fill-color);\n",
              "    }\n",
              "    20% {\n",
              "      border-color: transparent;\n",
              "      border-left-color: var(--fill-color);\n",
              "      border-top-color: var(--fill-color);\n",
              "    }\n",
              "    30% {\n",
              "      border-color: transparent;\n",
              "      border-left-color: var(--fill-color);\n",
              "      border-top-color: var(--fill-color);\n",
              "      border-right-color: var(--fill-color);\n",
              "    }\n",
              "    40% {\n",
              "      border-color: transparent;\n",
              "      border-right-color: var(--fill-color);\n",
              "      border-top-color: var(--fill-color);\n",
              "    }\n",
              "    60% {\n",
              "      border-color: transparent;\n",
              "      border-right-color: var(--fill-color);\n",
              "    }\n",
              "    80% {\n",
              "      border-color: transparent;\n",
              "      border-right-color: var(--fill-color);\n",
              "      border-bottom-color: var(--fill-color);\n",
              "    }\n",
              "    90% {\n",
              "      border-color: transparent;\n",
              "      border-bottom-color: var(--fill-color);\n",
              "    }\n",
              "  }\n",
              "</style>\n",
              "\n",
              "  <script>\n",
              "    async function quickchart(key) {\n",
              "      const quickchartButtonEl =\n",
              "        document.querySelector('#' + key + ' button');\n",
              "      quickchartButtonEl.disabled = true;  // To prevent multiple clicks.\n",
              "      quickchartButtonEl.classList.add('colab-df-spinner');\n",
              "      try {\n",
              "        const charts = await google.colab.kernel.invokeFunction(\n",
              "            'suggestCharts', [key], {});\n",
              "      } catch (error) {\n",
              "        console.error('Error during call to suggestCharts:', error);\n",
              "      }\n",
              "      quickchartButtonEl.classList.remove('colab-df-spinner');\n",
              "      quickchartButtonEl.classList.add('colab-df-quickchart-complete');\n",
              "    }\n",
              "    (() => {\n",
              "      let quickchartButtonEl =\n",
              "        document.querySelector('#df-de8e8e63-8bc1-4750-9d11-f884692e4807 button');\n",
              "      quickchartButtonEl.style.display =\n",
              "        google.colab.kernel.accessAllowed ? 'block' : 'none';\n",
              "    })();\n",
              "  </script>\n",
              "</div>\n",
              "    </div>\n",
              "  </div>\n"
            ]
          },
          "metadata": {},
          "execution_count": 114
        }
      ]
    },
    {
      "cell_type": "code",
      "source": [
        "# Plot and compare all model results\n",
        "all_model_results.plot(kind='bar', figsize=(10, 7)).legend(bbox_to_anchor=(1.0, 1.0));"
      ],
      "metadata": {
        "colab": {
          "base_uri": "https://localhost:8080/",
          "height": 845
        },
        "id": "yQXOy5pyxmCn",
        "outputId": "abcfde50-7c78-4917-c40a-54fe442034d2"
      },
      "execution_count": null,
      "outputs": [
        {
          "output_type": "display_data",
          "data": {
            "text/plain": [
              "<Figure size 1000x700 with 1 Axes>"
            ],
            "image/png": "[encoded data removed]"
          },
          "metadata": {}
        }
      ]
    },
    {
      "cell_type": "code",
      "source": [
        "# Sort models results by f1 score\n",
        "all_model_results.sort_values('f1')['f1'].plot(kind='bar', figsize=(10, 7));"
      ],
      "metadata": {
        "colab": {
          "base_uri": "https://localhost:8080/",
          "height": 845
        },
        "id": "m71SS0ssyS_J",
        "outputId": "c2b8328e-dafd-4aaa-912b-c7ec6e6c9753"
      },
      "execution_count": null,
      "outputs": [
        {
          "output_type": "display_data",
          "data": {
            "text/plain": [
              "<Figure size 1000x700 with 1 Axes>"
            ],
            "image/png": "[encoded data removed]"
          },
          "metadata": {}
        }
      ]
    },
    {
      "cell_type": "markdown",
      "source": [
        "## Sava and load model"
      ],
      "metadata": {
        "id": "hzsles4ty12S"
      }
    },
    {
      "cell_type": "code",
      "source": [
        "# Save the best performin model (model 5)\n",
        "model_5.save('skimlit_tribid_model')"
      ],
      "metadata": {
        "colab": {
          "base_uri": "https://localhost:8080/"
        },
        "id": "CB_9cEarzgDJ",
        "outputId": "c0d7bfad-9df9-43c7-ad8f-8c8811a915ae"
      },
      "execution_count": null,
      "outputs": [
        {
          "output_type": "stream",
          "name": "stderr",
          "text": [
            "WARNING:absl:Found untraced functions such as _update_step_xla, lstm_cell_4_layer_call_fn, lstm_cell_4_layer_call_and_return_conditional_losses, lstm_cell_5_layer_call_fn, lstm_cell_5_layer_call_and_return_conditional_losses while saving (showing 5 of 5). These functions will not be directly callable after loading.\n"
          ]
        }
      ]
    },
    {
      "cell_type": "code",
      "source": [
        "# Load in best performing model\n",
        "loaded_model = tf.keras.models.load_model('/content/skimlit_tribid_model')"
      ],
      "metadata": {
        "id": "NXBEiLXBzxlq"
      },
      "execution_count": null,
      "outputs": []
    },
    {
      "cell_type": "code",
      "source": [
        "# Make prediction with the loaded model on the validation set\n",
        "loaded_pred_probs = loaded_model.predict(val_char_token_pos_dataset)\n",
        "loaded_preds = tf.argmax(loaded_pred_probs, axis=1)\n",
        "loaded_preds"
      ],
      "metadata": {
        "colab": {
          "base_uri": "https://localhost:8080/"
        },
        "id": "A4-sUo4T0OsD",
        "outputId": "b0bc2a54-2a43-4f49-ff11-0583be6bcc53"
      },
      "execution_count": null,
      "outputs": [
        {
          "output_type": "stream",
          "name": "stdout",
          "text": [
            "945/945 [==============================] - 76s 77ms/step\n"
          ]
        },
        {
          "output_type": "execute_result",
          "data": {
            "text/plain": [
              "<tf.Tensor: shape=(30212,), dtype=int64, numpy=array([0, 0, 0, ..., 4, 4, 1])>"
            ]
          },
          "metadata": {},
          "execution_count": 125
        }
      ]
    },
    {
      "cell_type": "code",
      "source": [
        "# Calculate the results of loaded model\n",
        "loaded_model_results = calculate_results(y_true=val_labels_encoded,\n",
        "                                         y_pred=loaded_preds)\n",
        "loaded_model_results"
      ],
      "metadata": {
        "colab": {
          "base_uri": "https://localhost:8080/"
        },
        "id": "ULYWuHH00szd",
        "outputId": "627676a3-28f7-465a-e787-553767c11438"
      },
      "execution_count": null,
      "outputs": [
        {
          "output_type": "execute_result",
          "data": {
            "text/plain": [
              "{'accuracy': 0.8419833178869324,\n",
              " 'precision': 0.8437677709517305,\n",
              " 'recall': 0.8419833178869324,\n",
              " 'f1': 0.8387741095218846}"
            ]
          },
          "metadata": {},
          "execution_count": 126
        }
      ]
    },
    {
      "cell_type": "code",
      "source": [
        "# Remind the model 5 results\n",
        "model_5_results"
      ],
      "metadata": {
        "colab": {
          "base_uri": "https://localhost:8080/"
        },
        "id": "Wn--7zI91Fb1",
        "outputId": "111c32f0-374a-4190-9925-9bcb973189ea"
      },
      "execution_count": null,
      "outputs": [
        {
          "output_type": "execute_result",
          "data": {
            "text/plain": [
              "{'accuracy': 0.8419833178869324,\n",
              " 'precision': 0.8437677709517305,\n",
              " 'recall': 0.8419833178869324,\n",
              " 'f1': 0.8387741095218846}"
            ]
          },
          "metadata": {},
          "execution_count": 127
        }
      ]
    },
    {
      "cell_type": "code",
      "source": [
        "# Compare the results programatically\n",
        "model_5_results == loaded_model_results"
      ],
      "metadata": {
        "colab": {
          "base_uri": "https://localhost:8080/"
        },
        "id": "BKNqJpCr1bSZ",
        "outputId": "e28c5068-ded2-44b3-95ad-840255df344c"
      },
      "execution_count": null,
      "outputs": [
        {
          "output_type": "execute_result",
          "data": {
            "text/plain": [
              "True"
            ]
          },
          "metadata": {},
          "execution_count": 129
        }
      ]
    },
    {
      "cell_type": "markdown",
      "source": [
        "We got same results. Thats cool..\n"
      ],
      "metadata": {
        "id": "jLD0M-TB1P66"
      }
    }
  ]
}