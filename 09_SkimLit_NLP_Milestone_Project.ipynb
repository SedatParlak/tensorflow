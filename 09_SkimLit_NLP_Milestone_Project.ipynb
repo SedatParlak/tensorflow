{
  "nbformat": 4,
  "nbformat_minor": 0,
  "metadata": {
    "colab": {
      "provenance": [],
      "gpuType": "T4",
      "authorship_tag": "ABX9TyMBAhIi66LS6s8bw7WszQjn"
    },
    "kernelspec": {
      "name": "python3",
      "display_name": "Python 3"
    },
    "language_info": {
      "name": "python"
    },
    "accelerator": "GPU"
  },
  "cells": [
    {
      "cell_type": "markdown",
      "source": [
        "# Milestone Project 2: Skimlit 🧾🔥\n",
        "\n",
        "The purpose of this notebook is to build an NLP model to make reading medical abstracts easier.\n",
        "\n",
        "The paper we're replicating (the source of the dataset that we'll be uisng) is available here: https://arxiv.org/pdf/1710.06071.pdf\n",
        "\n",
        "And reading through the paper above, we see that the model architecture that they use to achieve their best results is avaliable here: https://arxiv.org/pdf/1612.05251.pdf"
      ],
      "metadata": {
        "id": "w1Tw3IAsXKi8"
      }
    },
    {
      "cell_type": "code",
      "source": [
        "# Imports\n",
        "import os\n",
        "import random\n",
        "import numpy as np\n",
        "import pandas as pd\n",
        "import matplotlib.pyplot as plt\n",
        "import tensorflow as tf\n",
        "import tensorflow_hub as hub\n",
        "from tensorflow.keras import layers\n",
        "from sklearn.preprocessing import OneHotEncoder, LabelEncoder\n",
        "\n",
        "print(tf.__version__)"
      ],
      "metadata": {
        "colab": {
          "base_uri": "https://localhost:8080/"
        },
        "id": "KXCG5CJ9AAiC",
        "outputId": "4cda43e9-4e58-4ff2-e1a6-ac624917ccf1"
      },
      "execution_count": 1,
      "outputs": [
        {
          "output_type": "stream",
          "name": "stdout",
          "text": [
            "2.12.0\n"
          ]
        }
      ]
    },
    {
      "cell_type": "markdown",
      "source": [
        "## Confirm access to a GPU"
      ],
      "metadata": {
        "id": "LEvBODCpXxK8"
      }
    },
    {
      "cell_type": "code",
      "source": [
        "!nvidia-smi -L"
      ],
      "metadata": {
        "colab": {
          "base_uri": "https://localhost:8080/"
        },
        "id": "6Yd0GRGHZYpn",
        "outputId": "ca03addd-ad1e-4e94-ca8d-9205a24fc37b"
      },
      "execution_count": 2,
      "outputs": [
        {
          "output_type": "stream",
          "name": "stdout",
          "text": [
            "GPU 0: Tesla T4 (UUID: GPU-51f71da6-ce2e-e129-50e1-a340da51d725)\n"
          ]
        }
      ]
    },
    {
      "cell_type": "markdown",
      "source": [
        "## Get the data\n",
        "\n",
        "Since we'll be replicating the paper above (PubMed 200k RCT), let's download the dataset ther used.\n",
        "\n",
        "We can download from the authours GitHub acount: https://github.com/Franck-Dernoncourt/pubmed-rct"
      ],
      "metadata": {
        "id": "TeZvmPvaZbTd"
      }
    },
    {
      "cell_type": "code",
      "source": [
        "!git clone https://github.com/Franck-Dernoncourt/pubmed-rct\n",
        "!ls pubmed-rct"
      ],
      "metadata": {
        "id": "AQf_3a1yadju",
        "colab": {
          "base_uri": "https://localhost:8080/"
        },
        "outputId": "481b2c2d-b5a0-4cc6-c1cd-ba79206f4760"
      },
      "execution_count": 3,
      "outputs": [
        {
          "output_type": "stream",
          "name": "stdout",
          "text": [
            "Cloning into 'pubmed-rct'...\n",
            "remote: Enumerating objects: 33, done.\u001b[K\n",
            "remote: Counting objects: 100% (8/8), done.\u001b[K\n",
            "remote: Compressing objects: 100% (3/3), done.\u001b[K\n",
            "remote: Total 33 (delta 5), reused 5 (delta 5), pack-reused 25\u001b[K\n",
            "Receiving objects: 100% (33/33), 177.08 MiB | 44.96 MiB/s, done.\n",
            "Resolving deltas: 100% (12/12), done.\n",
            "PubMed_200k_RCT\n",
            "PubMed_200k_RCT_numbers_replaced_with_at_sign\n",
            "PubMed_20k_RCT\n",
            "PubMed_20k_RCT_numbers_replaced_with_at_sign\n",
            "README.md\n"
          ]
        }
      ]
    },
    {
      "cell_type": "code",
      "source": [
        "# Check what files are in the PubMed_20K dataset\n",
        "!ls pubmed-rct/PubMed_20k_RCT_numbers_replaced_with_at_sign/"
      ],
      "metadata": {
        "colab": {
          "base_uri": "https://localhost:8080/"
        },
        "id": "RsjdviS49JgR",
        "outputId": "b8473984-fade-4e6a-acf7-619c0ebafaf3"
      },
      "execution_count": 4,
      "outputs": [
        {
          "output_type": "stream",
          "name": "stdout",
          "text": [
            "dev.txt  test.txt  train.txt\n"
          ]
        }
      ]
    },
    {
      "cell_type": "code",
      "source": [
        "# Start our experiments using the 20K dataset with numbers replaced by '@' sign\n",
        "data_dir = '/content/pubmed-rct/PubMed_20k_RCT_numbers_replaced_with_at_sign/'"
      ],
      "metadata": {
        "id": "KUflbSAz9-Rj"
      },
      "execution_count": 5,
      "outputs": []
    },
    {
      "cell_type": "code",
      "source": [
        "# Check all of the file name in the target directory\n",
        "filenames = [data_dir + filename for filename in os.listdir(data_dir)]\n",
        "filenames"
      ],
      "metadata": {
        "colab": {
          "base_uri": "https://localhost:8080/"
        },
        "id": "Ao5V8Uu6_6bg",
        "outputId": "f43b93ee-baa2-4c0f-a7fa-4af49b497fbb"
      },
      "execution_count": 6,
      "outputs": [
        {
          "output_type": "execute_result",
          "data": {
            "text/plain": [
              "['/content/pubmed-rct/PubMed_20k_RCT_numbers_replaced_with_at_sign/train.txt',\n",
              " '/content/pubmed-rct/PubMed_20k_RCT_numbers_replaced_with_at_sign/dev.txt',\n",
              " '/content/pubmed-rct/PubMed_20k_RCT_numbers_replaced_with_at_sign/test.txt']"
            ]
          },
          "metadata": {},
          "execution_count": 6
        }
      ]
    },
    {
      "cell_type": "markdown",
      "source": [
        "## Preprocess data\n",
        "\n",
        "We have got some data, now it is time to explore the data. (Become one with it)\n",
        "\n",
        "The best way to becoming one with data is visualize, visualize and visualize..\n",
        "\n",
        "Let's write a function to read in all of the lines of a target text file."
      ],
      "metadata": {
        "id": "glHo9p8cBBo-"
      }
    },
    {
      "cell_type": "code",
      "source": [
        "# Create a function to read the lines in the documents\n",
        "def get_lines(filename):\n",
        "  '''\n",
        "  Reads a text filename and return the all line as a list format\n",
        "\n",
        "  Args:\n",
        "    filename: a string containing the target filepath\n",
        "\n",
        "  Return:\n",
        "    A list of string with one string per line from the target filename.\n",
        "  '''\n",
        "\n",
        "  with open(filename) as f:\n",
        "    return f.readlines()"
      ],
      "metadata": {
        "id": "RhpsmxL-APj7"
      },
      "execution_count": 7,
      "outputs": []
    },
    {
      "cell_type": "code",
      "source": [
        "# Check the train path\n",
        "filenames[0]"
      ],
      "metadata": {
        "colab": {
          "base_uri": "https://localhost:8080/",
          "height": 36
        },
        "id": "09cig24PC03F",
        "outputId": "4809a810-539c-4dd1-9cfa-2e7ac80da23f"
      },
      "execution_count": 8,
      "outputs": [
        {
          "output_type": "execute_result",
          "data": {
            "text/plain": [
              "'/content/pubmed-rct/PubMed_20k_RCT_numbers_replaced_with_at_sign/train.txt'"
            ],
            "application/vnd.google.colaboratory.intrinsic+json": {
              "type": "string"
            }
          },
          "metadata": {},
          "execution_count": 8
        }
      ]
    },
    {
      "cell_type": "code",
      "source": [
        "# Let's read in the training lines\n",
        "train_lines = get_lines(filenames[0])\n",
        "train_lines[:44]"
      ],
      "metadata": {
        "colab": {
          "base_uri": "https://localhost:8080/"
        },
        "id": "dDvS-11VC00P",
        "outputId": "c271e4ef-bdd3-4419-e204-351514c3d698"
      },
      "execution_count": 9,
      "outputs": [
        {
          "output_type": "execute_result",
          "data": {
            "text/plain": [
              "['###24293578\\n',\n",
              " 'OBJECTIVE\\tTo investigate the efficacy of @ weeks of daily low-dose oral prednisolone in improving pain , mobility , and systemic low-grade inflammation in the short term and whether the effect would be sustained at @ weeks in older adults with moderate to severe knee osteoarthritis ( OA ) .\\n',\n",
              " 'METHODS\\tA total of @ patients with primary knee OA were randomized @:@ ; @ received @ mg/day of prednisolone and @ received placebo for @ weeks .\\n',\n",
              " 'METHODS\\tOutcome measures included pain reduction and improvement in function scores and systemic inflammation markers .\\n',\n",
              " 'METHODS\\tPain was assessed using the visual analog pain scale ( @-@ mm ) .\\n',\n",
              " 'METHODS\\tSecondary outcome measures included the Western Ontario and McMaster Universities Osteoarthritis Index scores , patient global assessment ( PGA ) of the severity of knee OA , and @-min walk distance ( @MWD ) .\\n',\n",
              " 'METHODS\\tSerum levels of interleukin @ ( IL-@ ) , IL-@ , tumor necrosis factor ( TNF ) - , and high-sensitivity C-reactive protein ( hsCRP ) were measured .\\n',\n",
              " 'RESULTS\\tThere was a clinically relevant reduction in the intervention group compared to the placebo group for knee pain , physical function , PGA , and @MWD at @ weeks .\\n',\n",
              " 'RESULTS\\tThe mean difference between treatment arms ( @ % CI ) was @ ( @-@ @ ) , p < @ ; @ ( @-@ @ ) , p < @ ; @ ( @-@ @ ) , p < @ ; and @ ( @-@ @ ) , p < @ , respectively .\\n',\n",
              " 'RESULTS\\tFurther , there was a clinically relevant reduction in the serum levels of IL-@ , IL-@ , TNF - , and hsCRP at @ weeks in the intervention group when compared to the placebo group .\\n',\n",
              " 'RESULTS\\tThese differences remained significant at @ weeks .\\n',\n",
              " 'RESULTS\\tThe Outcome Measures in Rheumatology Clinical Trials-Osteoarthritis Research Society International responder rate was @ % in the intervention group and @ % in the placebo group ( p < @ ) .\\n',\n",
              " 'CONCLUSIONS\\tLow-dose oral prednisolone had both a short-term and a longer sustained effect resulting in less knee pain , better physical function , and attenuation of systemic inflammation in older patients with knee OA ( ClinicalTrials.gov identifier NCT@ ) .\\n',\n",
              " '\\n',\n",
              " '###24854809\\n',\n",
              " 'BACKGROUND\\tEmotional eating is associated with overeating and the development of obesity .\\n',\n",
              " 'BACKGROUND\\tYet , empirical evidence for individual ( trait ) differences in emotional eating and cognitive mechanisms that contribute to eating during sad mood remain equivocal .\\n',\n",
              " 'OBJECTIVE\\tThe aim of this study was to test if attention bias for food moderates the effect of self-reported emotional eating during sad mood ( vs neutral mood ) on actual food intake .\\n',\n",
              " 'OBJECTIVE\\tIt was expected that emotional eating is predictive of elevated attention for food and higher food intake after an experimentally induced sad mood and that attentional maintenance on food predicts food intake during a sad versus a neutral mood .\\n',\n",
              " 'METHODS\\tParticipants ( N = @ ) were randomly assigned to one of the two experimental mood induction conditions ( sad/neutral ) .\\n',\n",
              " 'METHODS\\tAttentional biases for high caloric foods were measured by eye tracking during a visual probe task with pictorial food and neutral stimuli .\\n',\n",
              " 'METHODS\\tSelf-reported emotional eating was assessed with the Dutch Eating Behavior Questionnaire ( DEBQ ) and ad libitum food intake was tested by a disguised food offer .\\n',\n",
              " 'RESULTS\\tHierarchical multivariate regression modeling showed that self-reported emotional eating did not account for changes in attention allocation for food or food intake in either condition .\\n',\n",
              " 'RESULTS\\tYet , attention maintenance on food cues was significantly related to increased intake specifically in the neutral condition , but not in the sad mood condition .\\n',\n",
              " 'CONCLUSIONS\\tThe current findings show that self-reported emotional eating ( based on the DEBQ ) might not validly predict who overeats when sad , at least not in a laboratory setting with healthy women .\\n',\n",
              " 'CONCLUSIONS\\tResults further suggest that attention maintenance on food relates to eating motivation when in a neutral affective state , and might therefore be a cognitive mechanism contributing to increased food intake in general , but maybe not during sad mood .\\n',\n",
              " '\\n',\n",
              " '###25165090\\n',\n",
              " 'BACKGROUND\\tAlthough working smoke alarms halve deaths in residential fires , many households do not keep alarms operational .\\n',\n",
              " 'BACKGROUND\\tWe tested whether theory-based education increases alarm operability .\\n',\n",
              " 'METHODS\\tRandomised multiarm trial , with a single arm randomly selected for use each day , in low-income neighbourhoods in Maryland , USA .\\n',\n",
              " \"METHODS\\tIntervention arms : ( @ ) Full Education combining a health belief module with a social-cognitive theory module that provided hands-on practice installing alarm batteries and using the alarm 's hush button ; ( @ ) Hands-on Practice social-cognitive module supplemented by typical fire department education ; ( @ ) Current Norm receiving typical fire department education only .\\n\",\n",
              " 'METHODS\\tFour hundred and thirty-six homes recruited through churches or by knocking on doors in @-@ .\\n',\n",
              " 'METHODS\\tFollow-up visits checked alarm operability in @ homes ( @ % ) @-@ @ years after installation .\\n',\n",
              " 'METHODS\\tnumber of homes with working alarms defined as alarms with working batteries or hard-wired and number of working alarms per home .\\n',\n",
              " 'METHODS\\tRegressions controlled for alarm status preintervention ; demographics and beliefs about fire risks and alarm effectiveness .\\n',\n",
              " 'RESULTS\\tHomes in the Full Education and Practice arms were more likely to have a functioning smoke alarm at follow-up ( OR = @ , @ % CI @ to @ ) and had an average of @ more working alarms per home ( @ % CI @ to @ ) .\\n',\n",
              " 'RESULTS\\tWorking alarms per home rose @ % .\\n',\n",
              " 'RESULTS\\tFull Education and Practice had similar effectiveness ( p = @ on both outcome measures ) .\\n',\n",
              " 'CONCLUSIONS\\tWithout exceeding typical fire department installation time , installers can achieve greater smoke alarm operability .\\n',\n",
              " 'CONCLUSIONS\\tHands-on practice is key .\\n',\n",
              " 'CONCLUSIONS\\tTwo years after installation , for every three homes that received hands-on practice , one had an additional working alarm .\\n',\n",
              " 'BACKGROUND\\thttp://www.clinicaltrials.gov number NCT@ .\\n',\n",
              " '\\n']"
            ]
          },
          "metadata": {},
          "execution_count": 9
        }
      ]
    },
    {
      "cell_type": "code",
      "source": [
        "# Check the length of training lines\n",
        "len(train_lines)"
      ],
      "metadata": {
        "colab": {
          "base_uri": "https://localhost:8080/"
        },
        "id": "H2mtrlNtC0xl",
        "outputId": "85d2128e-b89a-4da1-a79b-841c4cce0419"
      },
      "execution_count": 10,
      "outputs": [
        {
          "output_type": "execute_result",
          "data": {
            "text/plain": [
              "210040"
            ]
          },
          "metadata": {},
          "execution_count": 10
        }
      ]
    },
    {
      "cell_type": "markdown",
      "source": [
        "Let's think about what kind of data representation is the best for our model..\n",
        "\n",
        "Get a single example from above: `'METHODS\\tOutcome measures included pain reduction and improvement in function scores and systemic inflammation markers .\\n'`\n",
        "\n",
        "Format I want for the model:\n",
        "    <br>[{'line_number': 3,\n",
        "    <br>'target': 'METHODS',\n",
        "    <br>'text': 'Outcome measures included pain reduction and improvement <br>in function scores and systemic inflammation markers .'\n",
        "    <br>'total_lines': 12 }]\n",
        "\n",
        "\n",
        "<br> Let's write a function for this format..."
      ],
      "metadata": {
        "id": "wlrGJrX3EazF"
      }
    },
    {
      "cell_type": "code",
      "source": [
        "def preprocess_text_with_line_numbers(filename):\n",
        "  '''\n",
        "  Returns a list of dictionaries of abstract line data.\n",
        "\n",
        "  Takes in filename, reads it contents and sorts through each line,\n",
        "  extracting things like the target label, the text of the sentence, how many\n",
        "  sentences are in the current abstract and what sentence number the target\n",
        "  line is.\n",
        "  '''\n",
        "  input_lines = get_lines(filename) # get all lines from filename\n",
        "  sublists = [] # Define an emptysublist\n",
        "  current_sublist = [] # Define an empty current sublist\n",
        "  # Divide the input lines and create sublists between '###ID' and '\\n'\n",
        "  for line in input_lines:\n",
        "    if line.startswith('###'):\n",
        "      pass\n",
        "    elif line.isspace():\n",
        "      sublists.append(current_sublist)\n",
        "      current_sublist = []\n",
        "    else:\n",
        "      current_sublist.append(line)\n",
        "  # Create an empty list for adding all dict\n",
        "  dict_list = []\n",
        "  # Loop through the sublist\n",
        "  for sub_list in sublists:\n",
        "    # Another loop for the each line\n",
        "    for index, per_line in enumerate(sub_list):\n",
        "      splited_per_line = per_line.strip().split('\\t')\n",
        "      # Create a dict and add all key and values\n",
        "      per_line_dict = {\n",
        "          'line_number': index,\n",
        "          'target': splited_per_line[0],\n",
        "          'text': splited_per_line[1].lower(),\n",
        "          'total_lines': len(sub_list) - 1\n",
        "      }\n",
        "      # Add the per line dictionary into dictionary list\n",
        "      dict_list.append(per_line_dict)\n",
        "\n",
        "  return dict_list"
      ],
      "metadata": {
        "id": "8VoUdjFuC0vC"
      },
      "execution_count": 11,
      "outputs": []
    },
    {
      "cell_type": "code",
      "source": [
        "# Get the data from file\n",
        "%%time\n",
        "train_samples = preprocess_text_with_line_numbers(data_dir + 'train.txt')\n",
        "val_samples = preprocess_text_with_line_numbers(data_dir + 'dev.txt') # dev is another name of validation\n",
        "test_samples = preprocess_text_with_line_numbers(data_dir + 'test.txt')\n",
        "print('Total number of train samples:', len(train_samples))\n",
        "print('Total number of validation samples:', len(val_samples))\n",
        "print('Total number of test samples:', len(test_samples))"
      ],
      "metadata": {
        "colab": {
          "base_uri": "https://localhost:8080/"
        },
        "id": "eza7CQKCnXbA",
        "outputId": "4908473f-cf6b-4d09-9c83-f0b07161344c"
      },
      "execution_count": 12,
      "outputs": [
        {
          "output_type": "stream",
          "name": "stdout",
          "text": [
            "Total number of train samples: 180040\n",
            "Total number of validation samples: 30212\n",
            "Total number of test samples: 30135\n",
            "CPU times: user 316 ms, sys: 77.3 ms, total: 393 ms\n",
            "Wall time: 396 ms\n"
          ]
        }
      ]
    },
    {
      "cell_type": "code",
      "source": [
        "# Check the first abstract of trainin data\n",
        "train_samples[:10]"
      ],
      "metadata": {
        "colab": {
          "base_uri": "https://localhost:8080/"
        },
        "id": "ZsPtBsSynXYi",
        "outputId": "64caee77-627e-4b5a-dc4c-950e1e03248f"
      },
      "execution_count": 13,
      "outputs": [
        {
          "output_type": "execute_result",
          "data": {
            "text/plain": [
              "[{'line_number': 0,\n",
              "  'target': 'OBJECTIVE',\n",
              "  'text': 'to investigate the efficacy of @ weeks of daily low-dose oral prednisolone in improving pain , mobility , and systemic low-grade inflammation in the short term and whether the effect would be sustained at @ weeks in older adults with moderate to severe knee osteoarthritis ( oa ) .',\n",
              "  'total_lines': 11},\n",
              " {'line_number': 1,\n",
              "  'target': 'METHODS',\n",
              "  'text': 'a total of @ patients with primary knee oa were randomized @:@ ; @ received @ mg/day of prednisolone and @ received placebo for @ weeks .',\n",
              "  'total_lines': 11},\n",
              " {'line_number': 2,\n",
              "  'target': 'METHODS',\n",
              "  'text': 'outcome measures included pain reduction and improvement in function scores and systemic inflammation markers .',\n",
              "  'total_lines': 11},\n",
              " {'line_number': 3,\n",
              "  'target': 'METHODS',\n",
              "  'text': 'pain was assessed using the visual analog pain scale ( @-@ mm ) .',\n",
              "  'total_lines': 11},\n",
              " {'line_number': 4,\n",
              "  'target': 'METHODS',\n",
              "  'text': 'secondary outcome measures included the western ontario and mcmaster universities osteoarthritis index scores , patient global assessment ( pga ) of the severity of knee oa , and @-min walk distance ( @mwd ) .',\n",
              "  'total_lines': 11},\n",
              " {'line_number': 5,\n",
              "  'target': 'METHODS',\n",
              "  'text': 'serum levels of interleukin @ ( il-@ ) , il-@ , tumor necrosis factor ( tnf ) - , and high-sensitivity c-reactive protein ( hscrp ) were measured .',\n",
              "  'total_lines': 11},\n",
              " {'line_number': 6,\n",
              "  'target': 'RESULTS',\n",
              "  'text': 'there was a clinically relevant reduction in the intervention group compared to the placebo group for knee pain , physical function , pga , and @mwd at @ weeks .',\n",
              "  'total_lines': 11},\n",
              " {'line_number': 7,\n",
              "  'target': 'RESULTS',\n",
              "  'text': 'the mean difference between treatment arms ( @ % ci ) was @ ( @-@ @ ) , p < @ ; @ ( @-@ @ ) , p < @ ; @ ( @-@ @ ) , p < @ ; and @ ( @-@ @ ) , p < @ , respectively .',\n",
              "  'total_lines': 11},\n",
              " {'line_number': 8,\n",
              "  'target': 'RESULTS',\n",
              "  'text': 'further , there was a clinically relevant reduction in the serum levels of il-@ , il-@ , tnf - , and hscrp at @ weeks in the intervention group when compared to the placebo group .',\n",
              "  'total_lines': 11},\n",
              " {'line_number': 9,\n",
              "  'target': 'RESULTS',\n",
              "  'text': 'these differences remained significant at @ weeks .',\n",
              "  'total_lines': 11}]"
            ]
          },
          "metadata": {},
          "execution_count": 13
        }
      ]
    },
    {
      "cell_type": "markdown",
      "source": [
        "Now, our data is the format of dictionary. To visualize it let's turn into it to pandas DataFrame.."
      ],
      "metadata": {
        "id": "brkUKY_HqdbG"
      }
    },
    {
      "cell_type": "code",
      "source": [
        "# Convert dictionary data to pandas DataFrame\n",
        "train_df = pd.DataFrame(train_samples)\n",
        "val_df = pd.DataFrame(val_samples)\n",
        "test_df = pd.DataFrame(test_samples)"
      ],
      "metadata": {
        "id": "DHhbpNCsqwHN"
      },
      "execution_count": 14,
      "outputs": []
    },
    {
      "cell_type": "code",
      "source": [
        "# Let's check out the firs 15 samples\n",
        "train_df.head(15)"
      ],
      "metadata": {
        "colab": {
          "base_uri": "https://localhost:8080/",
          "height": 519
        },
        "id": "8dqAKA1QrfRF",
        "outputId": "f2d896b5-e04b-4360-aad0-e83e28a9316f"
      },
      "execution_count": 15,
      "outputs": [
        {
          "output_type": "execute_result",
          "data": {
            "text/plain": [
              "    line_number       target  \\\n",
              "0             0    OBJECTIVE   \n",
              "1             1      METHODS   \n",
              "2             2      METHODS   \n",
              "3             3      METHODS   \n",
              "4             4      METHODS   \n",
              "5             5      METHODS   \n",
              "6             6      RESULTS   \n",
              "7             7      RESULTS   \n",
              "8             8      RESULTS   \n",
              "9             9      RESULTS   \n",
              "10           10      RESULTS   \n",
              "11           11  CONCLUSIONS   \n",
              "12            0   BACKGROUND   \n",
              "13            1   BACKGROUND   \n",
              "14            2    OBJECTIVE   \n",
              "\n",
              "                                                 text  total_lines  \n",
              "0   to investigate the efficacy of @ weeks of dail...           11  \n",
              "1   a total of @ patients with primary knee oa wer...           11  \n",
              "2   outcome measures included pain reduction and i...           11  \n",
              "3   pain was assessed using the visual analog pain...           11  \n",
              "4   secondary outcome measures included the wester...           11  \n",
              "5   serum levels of interleukin @ ( il-@ ) , il-@ ...           11  \n",
              "6   there was a clinically relevant reduction in t...           11  \n",
              "7   the mean difference between treatment arms ( @...           11  \n",
              "8   further , there was a clinically relevant redu...           11  \n",
              "9   these differences remained significant at @ we...           11  \n",
              "10  the outcome measures in rheumatology clinical ...           11  \n",
              "11  low-dose oral prednisolone had both a short-te...           11  \n",
              "12  emotional eating is associated with overeating...           10  \n",
              "13  yet , empirical evidence for individual ( trai...           10  \n",
              "14  the aim of this study was to test if attention...           10  "
            ],
            "text/html": [
              "\n",
              "  <div id=\"df-5afd2fed-b02f-48f9-9da9-4f9c1e9bed2c\" class=\"colab-df-container\">\n",
              "    <div>\n",
              "<style scoped>\n",
              "    .dataframe tbody tr th:only-of-type {\n",
              "        vertical-align: middle;\n",
              "    }\n",
              "\n",
              "    .dataframe tbody tr th {\n",
              "        vertical-align: top;\n",
              "    }\n",
              "\n",
              "    .dataframe thead th {\n",
              "        text-align: right;\n",
              "    }\n",
              "</style>\n",
              "<table border=\"1\" class=\"dataframe\">\n",
              "  <thead>\n",
              "    <tr style=\"text-align: right;\">\n",
              "      <th></th>\n",
              "      <th>line_number</th>\n",
              "      <th>target</th>\n",
              "      <th>text</th>\n",
              "      <th>total_lines</th>\n",
              "    </tr>\n",
              "  </thead>\n",
              "  <tbody>\n",
              "    <tr>\n",
              "      <th>0</th>\n",
              "      <td>0</td>\n",
              "      <td>OBJECTIVE</td>\n",
              "      <td>to investigate the efficacy of @ weeks of dail...</td>\n",
              "      <td>11</td>\n",
              "    </tr>\n",
              "    <tr>\n",
              "      <th>1</th>\n",
              "      <td>1</td>\n",
              "      <td>METHODS</td>\n",
              "      <td>a total of @ patients with primary knee oa wer...</td>\n",
              "      <td>11</td>\n",
              "    </tr>\n",
              "    <tr>\n",
              "      <th>2</th>\n",
              "      <td>2</td>\n",
              "      <td>METHODS</td>\n",
              "      <td>outcome measures included pain reduction and i...</td>\n",
              "      <td>11</td>\n",
              "    </tr>\n",
              "    <tr>\n",
              "      <th>3</th>\n",
              "      <td>3</td>\n",
              "      <td>METHODS</td>\n",
              "      <td>pain was assessed using the visual analog pain...</td>\n",
              "      <td>11</td>\n",
              "    </tr>\n",
              "    <tr>\n",
              "      <th>4</th>\n",
              "      <td>4</td>\n",
              "      <td>METHODS</td>\n",
              "      <td>secondary outcome measures included the wester...</td>\n",
              "      <td>11</td>\n",
              "    </tr>\n",
              "    <tr>\n",
              "      <th>5</th>\n",
              "      <td>5</td>\n",
              "      <td>METHODS</td>\n",
              "      <td>serum levels of interleukin @ ( il-@ ) , il-@ ...</td>\n",
              "      <td>11</td>\n",
              "    </tr>\n",
              "    <tr>\n",
              "      <th>6</th>\n",
              "      <td>6</td>\n",
              "      <td>RESULTS</td>\n",
              "      <td>there was a clinically relevant reduction in t...</td>\n",
              "      <td>11</td>\n",
              "    </tr>\n",
              "    <tr>\n",
              "      <th>7</th>\n",
              "      <td>7</td>\n",
              "      <td>RESULTS</td>\n",
              "      <td>the mean difference between treatment arms ( @...</td>\n",
              "      <td>11</td>\n",
              "    </tr>\n",
              "    <tr>\n",
              "      <th>8</th>\n",
              "      <td>8</td>\n",
              "      <td>RESULTS</td>\n",
              "      <td>further , there was a clinically relevant redu...</td>\n",
              "      <td>11</td>\n",
              "    </tr>\n",
              "    <tr>\n",
              "      <th>9</th>\n",
              "      <td>9</td>\n",
              "      <td>RESULTS</td>\n",
              "      <td>these differences remained significant at @ we...</td>\n",
              "      <td>11</td>\n",
              "    </tr>\n",
              "    <tr>\n",
              "      <th>10</th>\n",
              "      <td>10</td>\n",
              "      <td>RESULTS</td>\n",
              "      <td>the outcome measures in rheumatology clinical ...</td>\n",
              "      <td>11</td>\n",
              "    </tr>\n",
              "    <tr>\n",
              "      <th>11</th>\n",
              "      <td>11</td>\n",
              "      <td>CONCLUSIONS</td>\n",
              "      <td>low-dose oral prednisolone had both a short-te...</td>\n",
              "      <td>11</td>\n",
              "    </tr>\n",
              "    <tr>\n",
              "      <th>12</th>\n",
              "      <td>0</td>\n",
              "      <td>BACKGROUND</td>\n",
              "      <td>emotional eating is associated with overeating...</td>\n",
              "      <td>10</td>\n",
              "    </tr>\n",
              "    <tr>\n",
              "      <th>13</th>\n",
              "      <td>1</td>\n",
              "      <td>BACKGROUND</td>\n",
              "      <td>yet , empirical evidence for individual ( trai...</td>\n",
              "      <td>10</td>\n",
              "    </tr>\n",
              "    <tr>\n",
              "      <th>14</th>\n",
              "      <td>2</td>\n",
              "      <td>OBJECTIVE</td>\n",
              "      <td>the aim of this study was to test if attention...</td>\n",
              "      <td>10</td>\n",
              "    </tr>\n",
              "  </tbody>\n",
              "</table>\n",
              "</div>\n",
              "    <div class=\"colab-df-buttons\">\n",
              "\n",
              "  <div class=\"colab-df-container\">\n",
              "    <button class=\"colab-df-convert\" onclick=\"convertToInteractive('df-5afd2fed-b02f-48f9-9da9-4f9c1e9bed2c')\"\n",
              "            title=\"Convert this dataframe to an interactive table.\"\n",
              "            style=\"display:none;\">\n",
              "\n",
              "  <svg xmlns=\"http://www.w3.org/2000/svg\" height=\"24px\" viewBox=\"0 -960 960 960\">\n",
              "    <path d=\"M120-120v-720h720v720H120Zm60-500h600v-160H180v160Zm220 220h160v-160H400v160Zm0 220h160v-160H400v160ZM180-400h160v-160H180v160Zm440 0h160v-160H620v160ZM180-180h160v-160H180v160Zm440 0h160v-160H620v160Z\"/>\n",
              "  </svg>\n",
              "    </button>\n",
              "\n",
              "  <style>\n",
              "    .colab-df-container {\n",
              "      display:flex;\n",
              "      gap: 12px;\n",
              "    }\n",
              "\n",
              "    .colab-df-convert {\n",
              "      background-color: #E8F0FE;\n",
              "      border: none;\n",
              "      border-radius: 50%;\n",
              "      cursor: pointer;\n",
              "      display: none;\n",
              "      fill: #1967D2;\n",
              "      height: 32px;\n",
              "      padding: 0 0 0 0;\n",
              "      width: 32px;\n",
              "    }\n",
              "\n",
              "    .colab-df-convert:hover {\n",
              "      background-color: #E2EBFA;\n",
              "      box-shadow: 0px 1px 2px rgba(60, 64, 67, 0.3), 0px 1px 3px 1px rgba(60, 64, 67, 0.15);\n",
              "      fill: #174EA6;\n",
              "    }\n",
              "\n",
              "    .colab-df-buttons div {\n",
              "      margin-bottom: 4px;\n",
              "    }\n",
              "\n",
              "    [theme=dark] .colab-df-convert {\n",
              "      background-color: #3B4455;\n",
              "      fill: #D2E3FC;\n",
              "    }\n",
              "\n",
              "    [theme=dark] .colab-df-convert:hover {\n",
              "      background-color: #434B5C;\n",
              "      box-shadow: 0px 1px 3px 1px rgba(0, 0, 0, 0.15);\n",
              "      filter: drop-shadow(0px 1px 2px rgba(0, 0, 0, 0.3));\n",
              "      fill: #FFFFFF;\n",
              "    }\n",
              "  </style>\n",
              "\n",
              "    <script>\n",
              "      const buttonEl =\n",
              "        document.querySelector('#df-5afd2fed-b02f-48f9-9da9-4f9c1e9bed2c button.colab-df-convert');\n",
              "      buttonEl.style.display =\n",
              "        google.colab.kernel.accessAllowed ? 'block' : 'none';\n",
              "\n",
              "      async function convertToInteractive(key) {\n",
              "        const element = document.querySelector('#df-5afd2fed-b02f-48f9-9da9-4f9c1e9bed2c');\n",
              "        const dataTable =\n",
              "          await google.colab.kernel.invokeFunction('convertToInteractive',\n",
              "                                                    [key], {});\n",
              "        if (!dataTable) return;\n",
              "\n",
              "        const docLinkHtml = 'Like what you see? Visit the ' +\n",
              "          '<a target=\"_blank\" href=https://colab.research.google.com/notebooks/data_table.ipynb>data table notebook</a>'\n",
              "          + ' to learn more about interactive tables.';\n",
              "        element.innerHTML = '';\n",
              "        dataTable['output_type'] = 'display_data';\n",
              "        await google.colab.output.renderOutput(dataTable, element);\n",
              "        const docLink = document.createElement('div');\n",
              "        docLink.innerHTML = docLinkHtml;\n",
              "        element.appendChild(docLink);\n",
              "      }\n",
              "    </script>\n",
              "  </div>\n",
              "\n",
              "\n",
              "<div id=\"df-d8dd39ac-5c48-45b2-9527-45f864d72f2e\">\n",
              "  <button class=\"colab-df-quickchart\" onclick=\"quickchart('df-d8dd39ac-5c48-45b2-9527-45f864d72f2e')\"\n",
              "            title=\"Suggest charts.\"\n",
              "            style=\"display:none;\">\n",
              "\n",
              "<svg xmlns=\"http://www.w3.org/2000/svg\" height=\"24px\"viewBox=\"0 0 24 24\"\n",
              "     width=\"24px\">\n",
              "    <g>\n",
              "        <path d=\"M19 3H5c-1.1 0-2 .9-2 2v14c0 1.1.9 2 2 2h14c1.1 0 2-.9 2-2V5c0-1.1-.9-2-2-2zM9 17H7v-7h2v7zm4 0h-2V7h2v10zm4 0h-2v-4h2v4z\"/>\n",
              "    </g>\n",
              "</svg>\n",
              "  </button>\n",
              "\n",
              "<style>\n",
              "  .colab-df-quickchart {\n",
              "      --bg-color: #E8F0FE;\n",
              "      --fill-color: #1967D2;\n",
              "      --hover-bg-color: #E2EBFA;\n",
              "      --hover-fill-color: #174EA6;\n",
              "      --disabled-fill-color: #AAA;\n",
              "      --disabled-bg-color: #DDD;\n",
              "  }\n",
              "\n",
              "  [theme=dark] .colab-df-quickchart {\n",
              "      --bg-color: #3B4455;\n",
              "      --fill-color: #D2E3FC;\n",
              "      --hover-bg-color: #434B5C;\n",
              "      --hover-fill-color: #FFFFFF;\n",
              "      --disabled-bg-color: #3B4455;\n",
              "      --disabled-fill-color: #666;\n",
              "  }\n",
              "\n",
              "  .colab-df-quickchart {\n",
              "    background-color: var(--bg-color);\n",
              "    border: none;\n",
              "    border-radius: 50%;\n",
              "    cursor: pointer;\n",
              "    display: none;\n",
              "    fill: var(--fill-color);\n",
              "    height: 32px;\n",
              "    padding: 0;\n",
              "    width: 32px;\n",
              "  }\n",
              "\n",
              "  .colab-df-quickchart:hover {\n",
              "    background-color: var(--hover-bg-color);\n",
              "    box-shadow: 0 1px 2px rgba(60, 64, 67, 0.3), 0 1px 3px 1px rgba(60, 64, 67, 0.15);\n",
              "    fill: var(--button-hover-fill-color);\n",
              "  }\n",
              "\n",
              "  .colab-df-quickchart-complete:disabled,\n",
              "  .colab-df-quickchart-complete:disabled:hover {\n",
              "    background-color: var(--disabled-bg-color);\n",
              "    fill: var(--disabled-fill-color);\n",
              "    box-shadow: none;\n",
              "  }\n",
              "\n",
              "  .colab-df-spinner {\n",
              "    border: 2px solid var(--fill-color);\n",
              "    border-color: transparent;\n",
              "    border-bottom-color: var(--fill-color);\n",
              "    animation:\n",
              "      spin 1s steps(1) infinite;\n",
              "  }\n",
              "\n",
              "  @keyframes spin {\n",
              "    0% {\n",
              "      border-color: transparent;\n",
              "      border-bottom-color: var(--fill-color);\n",
              "      border-left-color: var(--fill-color);\n",
              "    }\n",
              "    20% {\n",
              "      border-color: transparent;\n",
              "      border-left-color: var(--fill-color);\n",
              "      border-top-color: var(--fill-color);\n",
              "    }\n",
              "    30% {\n",
              "      border-color: transparent;\n",
              "      border-left-color: var(--fill-color);\n",
              "      border-top-color: var(--fill-color);\n",
              "      border-right-color: var(--fill-color);\n",
              "    }\n",
              "    40% {\n",
              "      border-color: transparent;\n",
              "      border-right-color: var(--fill-color);\n",
              "      border-top-color: var(--fill-color);\n",
              "    }\n",
              "    60% {\n",
              "      border-color: transparent;\n",
              "      border-right-color: var(--fill-color);\n",
              "    }\n",
              "    80% {\n",
              "      border-color: transparent;\n",
              "      border-right-color: var(--fill-color);\n",
              "      border-bottom-color: var(--fill-color);\n",
              "    }\n",
              "    90% {\n",
              "      border-color: transparent;\n",
              "      border-bottom-color: var(--fill-color);\n",
              "    }\n",
              "  }\n",
              "</style>\n",
              "\n",
              "  <script>\n",
              "    async function quickchart(key) {\n",
              "      const quickchartButtonEl =\n",
              "        document.querySelector('#' + key + ' button');\n",
              "      quickchartButtonEl.disabled = true;  // To prevent multiple clicks.\n",
              "      quickchartButtonEl.classList.add('colab-df-spinner');\n",
              "      try {\n",
              "        const charts = await google.colab.kernel.invokeFunction(\n",
              "            'suggestCharts', [key], {});\n",
              "      } catch (error) {\n",
              "        console.error('Error during call to suggestCharts:', error);\n",
              "      }\n",
              "      quickchartButtonEl.classList.remove('colab-df-spinner');\n",
              "      quickchartButtonEl.classList.add('colab-df-quickchart-complete');\n",
              "    }\n",
              "    (() => {\n",
              "      let quickchartButtonEl =\n",
              "        document.querySelector('#df-d8dd39ac-5c48-45b2-9527-45f864d72f2e button');\n",
              "      quickchartButtonEl.style.display =\n",
              "        google.colab.kernel.accessAllowed ? 'block' : 'none';\n",
              "    })();\n",
              "  </script>\n",
              "</div>\n",
              "    </div>\n",
              "  </div>\n"
            ]
          },
          "metadata": {},
          "execution_count": 15
        }
      ]
    },
    {
      "cell_type": "code",
      "source": [
        "# Distribution of labels in trainin data\n",
        "train_df['target'].value_counts()"
      ],
      "metadata": {
        "colab": {
          "base_uri": "https://localhost:8080/"
        },
        "id": "lPEl5Jrdrl7l",
        "outputId": "d5fedf4e-b50e-4716-fa81-94ff03aa2646"
      },
      "execution_count": 16,
      "outputs": [
        {
          "output_type": "execute_result",
          "data": {
            "text/plain": [
              "METHODS        59353\n",
              "RESULTS        57953\n",
              "CONCLUSIONS    27168\n",
              "BACKGROUND     21727\n",
              "OBJECTIVE      13839\n",
              "Name: target, dtype: int64"
            ]
          },
          "metadata": {},
          "execution_count": 16
        }
      ]
    },
    {
      "cell_type": "code",
      "source": [
        "# Let's plot the distributions of labels in training data\n",
        "train_df['target'].value_counts().plot(kind='bar');"
      ],
      "metadata": {
        "colab": {
          "base_uri": "https://localhost:8080/",
          "height": 516
        },
        "id": "rqXboyzYtVIt",
        "outputId": "671a37ea-9b83-4ca5-a1a3-0ecfe223c592"
      },
      "execution_count": 17,
      "outputs": [
        {
          "output_type": "display_data",
          "data": {
            "text/plain": [
              "<Figure size 640x480 with 1 Axes>"
            ],
            "image/png": "[encoded data removed]"
          },
          "metadata": {}
        }
      ]
    },
    {
      "cell_type": "code",
      "source": [
        "# Check out the length of the lines\n",
        "train_df['total_lines'].plot(kind='hist', bins=25);"
      ],
      "metadata": {
        "colab": {
          "base_uri": "https://localhost:8080/",
          "height": 430
        },
        "id": "tJVD7lZysfmt",
        "outputId": "b26f7203-1606-4ef1-d344-9403e047bcf8"
      },
      "execution_count": 18,
      "outputs": [
        {
          "output_type": "display_data",
          "data": {
            "text/plain": [
              "<Figure size 640x480 with 1 Axes>"
            ],
            "image/png": "[encoded data removed]"
          },
          "metadata": {}
        }
      ]
    },
    {
      "cell_type": "markdown",
      "source": [
        "### Get the list of sentences"
      ],
      "metadata": {
        "id": "hLhoRu--uEHi"
      }
    },
    {
      "cell_type": "code",
      "source": [
        "# Convert text lines into lists\n",
        "train_sentences = train_df['text'].tolist()\n",
        "val_sentences = val_df['text'].tolist()\n",
        "test_sentences = test_df['text'].tolist()\n",
        "\n",
        "len(train_sentences), len(val_sentences), len(test_sentences)"
      ],
      "metadata": {
        "colab": {
          "base_uri": "https://localhost:8080/"
        },
        "id": "UZT73ME-uDmN",
        "outputId": "bca76af8-8ca7-49a6-8fec-591eb4fc5414"
      },
      "execution_count": 19,
      "outputs": [
        {
          "output_type": "execute_result",
          "data": {
            "text/plain": [
              "(180040, 30212, 30135)"
            ]
          },
          "metadata": {},
          "execution_count": 19
        }
      ]
    },
    {
      "cell_type": "code",
      "source": [
        "# View the 10 lines of training sentences\n",
        "train_sentences[:10]"
      ],
      "metadata": {
        "id": "t5AiYMCys8eT",
        "colab": {
          "base_uri": "https://localhost:8080/"
        },
        "outputId": "400f100a-2181-4455-dd33-b8f2dbb4f462"
      },
      "execution_count": 20,
      "outputs": [
        {
          "output_type": "execute_result",
          "data": {
            "text/plain": [
              "['to investigate the efficacy of @ weeks of daily low-dose oral prednisolone in improving pain , mobility , and systemic low-grade inflammation in the short term and whether the effect would be sustained at @ weeks in older adults with moderate to severe knee osteoarthritis ( oa ) .',\n",
              " 'a total of @ patients with primary knee oa were randomized @:@ ; @ received @ mg/day of prednisolone and @ received placebo for @ weeks .',\n",
              " 'outcome measures included pain reduction and improvement in function scores and systemic inflammation markers .',\n",
              " 'pain was assessed using the visual analog pain scale ( @-@ mm ) .',\n",
              " 'secondary outcome measures included the western ontario and mcmaster universities osteoarthritis index scores , patient global assessment ( pga ) of the severity of knee oa , and @-min walk distance ( @mwd ) .',\n",
              " 'serum levels of interleukin @ ( il-@ ) , il-@ , tumor necrosis factor ( tnf ) - , and high-sensitivity c-reactive protein ( hscrp ) were measured .',\n",
              " 'there was a clinically relevant reduction in the intervention group compared to the placebo group for knee pain , physical function , pga , and @mwd at @ weeks .',\n",
              " 'the mean difference between treatment arms ( @ % ci ) was @ ( @-@ @ ) , p < @ ; @ ( @-@ @ ) , p < @ ; @ ( @-@ @ ) , p < @ ; and @ ( @-@ @ ) , p < @ , respectively .',\n",
              " 'further , there was a clinically relevant reduction in the serum levels of il-@ , il-@ , tnf - , and hscrp at @ weeks in the intervention group when compared to the placebo group .',\n",
              " 'these differences remained significant at @ weeks .']"
            ]
          },
          "metadata": {},
          "execution_count": 20
        }
      ]
    },
    {
      "cell_type": "markdown",
      "source": [
        "## Making numeric labels (ML models require numeric labels)"
      ],
      "metadata": {
        "id": "rHfrGXcmN_lT"
      }
    },
    {
      "cell_type": "markdown",
      "source": [
        "### One hot encode labels"
      ],
      "metadata": {
        "id": "omNGVJAaRNA3"
      }
    },
    {
      "cell_type": "code",
      "source": [
        "# One hot encode labels\n",
        "one_hot_encoder = OneHotEncoder(sparse_output=False)\n",
        "train_labels_one_hot = one_hot_encoder.fit_transform(train_df['target'].to_numpy().reshape(-1, 1))\n",
        "val_labels_one_hot = one_hot_encoder.transform(val_df['target'].to_numpy().reshape(-1, 1))\n",
        "test_labels_one_hot = one_hot_encoder.transform(test_df['target'].to_numpy().reshape(-1, 1))\n",
        "\n",
        "# Check what one hot encoding look like\n",
        "train_labels_one_hot"
      ],
      "metadata": {
        "colab": {
          "base_uri": "https://localhost:8080/"
        },
        "id": "gPMw_iGgORYu",
        "outputId": "8d78ae15-69c1-42b7-fe5b-68c83a82e7b8"
      },
      "execution_count": 21,
      "outputs": [
        {
          "output_type": "execute_result",
          "data": {
            "text/plain": [
              "array([[0., 0., 0., 1., 0.],\n",
              "       [0., 0., 1., 0., 0.],\n",
              "       [0., 0., 1., 0., 0.],\n",
              "       ...,\n",
              "       [0., 0., 0., 0., 1.],\n",
              "       [0., 1., 0., 0., 0.],\n",
              "       [0., 1., 0., 0., 0.]])"
            ]
          },
          "metadata": {},
          "execution_count": 21
        }
      ]
    },
    {
      "cell_type": "markdown",
      "source": [
        "### Label encode labes"
      ],
      "metadata": {
        "id": "yL8bWmSXP55g"
      }
    },
    {
      "cell_type": "code",
      "source": [
        "# Extract labels ('target' columns) and encoed them into integers\n",
        "label_encoder = LabelEncoder()\n",
        "train_labels_encoded = label_encoder.fit_transform(train_df['target'].to_numpy())\n",
        "val_labels_encoded = label_encoder.fit_transform(val_df['target'].to_numpy())\n",
        "test_labels_encoded = label_encoder.fit_transform(test_df['target'].to_numpy())\n",
        "\n",
        "# Check what label encoding look like\n",
        "train_labels_encoded"
      ],
      "metadata": {
        "colab": {
          "base_uri": "https://localhost:8080/"
        },
        "id": "4j4pwSTwQ9de",
        "outputId": "9fd43caa-30c9-43e3-91b7-643dfb5c20f9"
      },
      "execution_count": 22,
      "outputs": [
        {
          "output_type": "execute_result",
          "data": {
            "text/plain": [
              "array([3, 2, 2, ..., 4, 1, 1])"
            ]
          },
          "metadata": {},
          "execution_count": 22
        }
      ]
    },
    {
      "cell_type": "code",
      "source": [
        "# Get class names and number of classes from LabelEncoder\n",
        "num_classes = len(label_encoder.classes_)\n",
        "class_names = label_encoder.classes_\n",
        "\n",
        "num_classes, class_names"
      ],
      "metadata": {
        "colab": {
          "base_uri": "https://localhost:8080/"
        },
        "id": "bA21aNnvR8gA",
        "outputId": "e87e1c3a-0050-4c9a-a6bd-74787232ed79"
      },
      "execution_count": 23,
      "outputs": [
        {
          "output_type": "execute_result",
          "data": {
            "text/plain": [
              "(5,\n",
              " array(['BACKGROUND', 'CONCLUSIONS', 'METHODS', 'OBJECTIVE', 'RESULTS'],\n",
              "       dtype=object))"
            ]
          },
          "metadata": {},
          "execution_count": 23
        }
      ]
    },
    {
      "cell_type": "markdown",
      "source": [
        "## A series of modelling experiments"
      ],
      "metadata": {
        "id": "BBwJBwPVV9Ak"
      }
    },
    {
      "cell_type": "markdown",
      "source": [
        "### Model 0: Getting a baseline (Naive Bayes with TF-IDF)"
      ],
      "metadata": {
        "id": "rJDmEwFdUSTy"
      }
    },
    {
      "cell_type": "code",
      "source": [
        "# Imports\n",
        "from sklearn.feature_extraction.text import TfidfVectorizer\n",
        "from sklearn.naive_bayes import MultinomialNB\n",
        "from sklearn.pipeline import Pipeline"
      ],
      "metadata": {
        "id": "w0mKdjtXS92j"
      },
      "execution_count": 24,
      "outputs": []
    },
    {
      "cell_type": "code",
      "source": [
        "# Create tokenization and modelling pipeline\n",
        "model_0 = Pipeline([\n",
        "    ('tfidf', TfidfVectorizer()),\n",
        "    ('clf', MultinomialNB())\n",
        "])"
      ],
      "metadata": {
        "id": "J8YfeVm-TFam"
      },
      "execution_count": 25,
      "outputs": []
    },
    {
      "cell_type": "code",
      "source": [
        "# Fit the model\n",
        "model_0.fit(X=train_df['text'],\n",
        "            y=train_labels_encoded)"
      ],
      "metadata": {
        "colab": {
          "base_uri": "https://localhost:8080/",
          "height": 125
        },
        "id": "RopSADGSUwcx",
        "outputId": "518e2402-410e-4f25-c7ec-62b982a89188"
      },
      "execution_count": 26,
      "outputs": [
        {
          "output_type": "execute_result",
          "data": {
            "text/plain": [
              "Pipeline(steps=[('tfidf', TfidfVectorizer()), ('clf', MultinomialNB())])"
            ],
            "text/html": [
              "<style>#sk-container-id-1 {color: black;background-color: white;}#sk-container-id-1 pre{padding: 0;}#sk-container-id-1 div.sk-toggleable {background-color: white;}#sk-container-id-1 label.sk-toggleable__label {cursor: pointer;display: block;width: 100%;margin-bottom: 0;padding: 0.3em;box-sizing: border-box;text-align: center;}#sk-container-id-1 label.sk-toggleable__label-arrow:before {content: \"▸\";float: left;margin-right: 0.25em;color: #696969;}#sk-container-id-1 label.sk-toggleable__label-arrow:hover:before {color: black;}#sk-container-id-1 div.sk-estimator:hover label.sk-toggleable__label-arrow:before {color: black;}#sk-container-id-1 div.sk-toggleable__content {max-height: 0;max-width: 0;overflow: hidden;text-align: left;background-color: #f0f8ff;}#sk-container-id-1 div.sk-toggleable__content pre {margin: 0.2em;color: black;border-radius: 0.25em;background-color: #f0f8ff;}#sk-container-id-1 input.sk-toggleable__control:checked~div.sk-toggleable__content {max-height: 200px;max-width: 100%;overflow: auto;}#sk-container-id-1 input.sk-toggleable__control:checked~label.sk-toggleable__label-arrow:before {content: \"▾\";}#sk-container-id-1 div.sk-estimator input.sk-toggleable__control:checked~label.sk-toggleable__label {background-color: #d4ebff;}#sk-container-id-1 div.sk-label input.sk-toggleable__control:checked~label.sk-toggleable__label {background-color: #d4ebff;}#sk-container-id-1 input.sk-hidden--visually {border: 0;clip: rect(1px 1px 1px 1px);clip: rect(1px, 1px, 1px, 1px);height: 1px;margin: -1px;overflow: hidden;padding: 0;position: absolute;width: 1px;}#sk-container-id-1 div.sk-estimator {font-family: monospace;background-color: #f0f8ff;border: 1px dotted black;border-radius: 0.25em;box-sizing: border-box;margin-bottom: 0.5em;}#sk-container-id-1 div.sk-estimator:hover {background-color: #d4ebff;}#sk-container-id-1 div.sk-parallel-item::after {content: \"\";width: 100%;border-bottom: 1px solid gray;flex-grow: 1;}#sk-container-id-1 div.sk-label:hover label.sk-toggleable__label {background-color: #d4ebff;}#sk-container-id-1 div.sk-serial::before {content: \"\";position: absolute;border-left: 1px solid gray;box-sizing: border-box;top: 0;bottom: 0;left: 50%;z-index: 0;}#sk-container-id-1 div.sk-serial {display: flex;flex-direction: column;align-items: center;background-color: white;padding-right: 0.2em;padding-left: 0.2em;position: relative;}#sk-container-id-1 div.sk-item {position: relative;z-index: 1;}#sk-container-id-1 div.sk-parallel {display: flex;align-items: stretch;justify-content: center;background-color: white;position: relative;}#sk-container-id-1 div.sk-item::before, #sk-container-id-1 div.sk-parallel-item::before {content: \"\";position: absolute;border-left: 1px solid gray;box-sizing: border-box;top: 0;bottom: 0;left: 50%;z-index: -1;}#sk-container-id-1 div.sk-parallel-item {display: flex;flex-direction: column;z-index: 1;position: relative;background-color: white;}#sk-container-id-1 div.sk-parallel-item:first-child::after {align-self: flex-end;width: 50%;}#sk-container-id-1 div.sk-parallel-item:last-child::after {align-self: flex-start;width: 50%;}#sk-container-id-1 div.sk-parallel-item:only-child::after {width: 0;}#sk-container-id-1 div.sk-dashed-wrapped {border: 1px dashed gray;margin: 0 0.4em 0.5em 0.4em;box-sizing: border-box;padding-bottom: 0.4em;background-color: white;}#sk-container-id-1 div.sk-label label {font-family: monospace;font-weight: bold;display: inline-block;line-height: 1.2em;}#sk-container-id-1 div.sk-label-container {text-align: center;}#sk-container-id-1 div.sk-container {/* jupyter's `normalize.less` sets `[hidden] { display: none; }` but bootstrap.min.css set `[hidden] { display: none !important; }` so we also need the `!important` here to be able to override the default hidden behavior on the sphinx rendered scikit-learn.org. See: https://github.com/scikit-learn/scikit-learn/issues/21755 */display: inline-block !important;position: relative;}#sk-container-id-1 div.sk-text-repr-fallback {display: none;}</style><div id=\"sk-container-id-1\" class=\"sk-top-container\"><div class=\"sk-text-repr-fallback\"><pre>Pipeline(steps=[(&#x27;tfidf&#x27;, TfidfVectorizer()), (&#x27;clf&#x27;, MultinomialNB())])</pre><b>In a Jupyter environment, please rerun this cell to show the HTML representation or trust the notebook. <br />On GitHub, the HTML representation is unable to render, please try loading this page with nbviewer.org.</b></div><div class=\"sk-container\" hidden><div class=\"sk-item sk-dashed-wrapped\"><div class=\"sk-label-container\"><div class=\"sk-label sk-toggleable\"><input class=\"sk-toggleable__control sk-hidden--visually\" id=\"sk-estimator-id-1\" type=\"checkbox\" ><label for=\"sk-estimator-id-1\" class=\"sk-toggleable__label sk-toggleable__label-arrow\">Pipeline</label><div class=\"sk-toggleable__content\"><pre>Pipeline(steps=[(&#x27;tfidf&#x27;, TfidfVectorizer()), (&#x27;clf&#x27;, MultinomialNB())])</pre></div></div></div><div class=\"sk-serial\"><div class=\"sk-item\"><div class=\"sk-estimator sk-toggleable\"><input class=\"sk-toggleable__control sk-hidden--visually\" id=\"sk-estimator-id-2\" type=\"checkbox\" ><label for=\"sk-estimator-id-2\" class=\"sk-toggleable__label sk-toggleable__label-arrow\">TfidfVectorizer</label><div class=\"sk-toggleable__content\"><pre>TfidfVectorizer()</pre></div></div></div><div class=\"sk-item\"><div class=\"sk-estimator sk-toggleable\"><input class=\"sk-toggleable__control sk-hidden--visually\" id=\"sk-estimator-id-3\" type=\"checkbox\" ><label for=\"sk-estimator-id-3\" class=\"sk-toggleable__label sk-toggleable__label-arrow\">MultinomialNB</label><div class=\"sk-toggleable__content\"><pre>MultinomialNB()</pre></div></div></div></div></div></div></div>"
            ]
          },
          "metadata": {},
          "execution_count": 26
        }
      ]
    },
    {
      "cell_type": "code",
      "source": [
        "# Evaluate baseline model\n",
        "baseline_score = model_0.score(X=val_df['text'],\n",
        "                               y=val_labels_encoded)\n",
        "print(f'Baseline model accuracy: %{baseline_score*100:.2f}')"
      ],
      "metadata": {
        "colab": {
          "base_uri": "https://localhost:8080/"
        },
        "id": "kQOrA3byVAgu",
        "outputId": "f12becca-2a2b-48ab-8228-c442cfd45726"
      },
      "execution_count": 27,
      "outputs": [
        {
          "output_type": "stream",
          "name": "stdout",
          "text": [
            "Baseline model accuracy: %72.18\n"
          ]
        }
      ]
    },
    {
      "cell_type": "code",
      "source": [
        "# Make predictions using our baseline model\n",
        "baseline_preds = model_0.predict(val_sentences)\n",
        "baseline_preds"
      ],
      "metadata": {
        "colab": {
          "base_uri": "https://localhost:8080/"
        },
        "id": "gC87dyL8XNgw",
        "outputId": "0bae39f8-ea87-4cf1-ec94-31480e730dd4"
      },
      "execution_count": 28,
      "outputs": [
        {
          "output_type": "execute_result",
          "data": {
            "text/plain": [
              "array([4, 1, 3, ..., 4, 4, 1])"
            ]
          },
          "metadata": {},
          "execution_count": 28
        }
      ]
    },
    {
      "cell_type": "code",
      "source": [
        "# Function to evaluate: accuracy, precision, recall, f1-score\n",
        "from sklearn.metrics import accuracy_score, precision_recall_fscore_support\n",
        "\n",
        "def calculate_results(y_true, y_pred):\n",
        "    \"\"\"\n",
        "    Calculate the model accuracy, precision, recall, f1-score of a binary classification model.\n",
        "    \"\"\"\n",
        "    # Calculate model accuracy\n",
        "    model_accuracy = accuracy_score(y_true, y_pred)\n",
        "    # Calculate model precision, recall and f1-score using \"weighted\" average\n",
        "    model_precision, model_recall, model_f1, _ = precision_recall_fscore_support(y_true, y_pred, average='weighted')\n",
        "    model_results = {\n",
        "        'accuracy': model_accuracy,\n",
        "        'precision': model_precision,\n",
        "        'recall': model_recall,\n",
        "        'f1': model_f1\n",
        "    }\n",
        "    return model_results"
      ],
      "metadata": {
        "id": "wN-9WzF6Y4ZA"
      },
      "execution_count": 29,
      "outputs": []
    },
    {
      "cell_type": "code",
      "source": [
        "# Get baseline results\n",
        "baseline_results = calculate_results(y_true=val_labels_encoded,\n",
        "                                     y_pred=baseline_preds)\n",
        "baseline_results"
      ],
      "metadata": {
        "colab": {
          "base_uri": "https://localhost:8080/"
        },
        "id": "ArKcwis9ZGdh",
        "outputId": "5ea65fea-1691-43c9-d7a0-1989ecd6c84b"
      },
      "execution_count": 30,
      "outputs": [
        {
          "output_type": "execute_result",
          "data": {
            "text/plain": [
              "{'accuracy': 0.7218323844829869,\n",
              " 'precision': 0.7186466952323352,\n",
              " 'recall': 0.7218323844829869,\n",
              " 'f1': 0.6989250353450294}"
            ]
          },
          "metadata": {},
          "execution_count": 30
        }
      ]
    },
    {
      "cell_type": "markdown",
      "source": [
        "### Text Vectorization and Embedding\n",
        "\n",
        "Preparing our data for deep sequence model. Before we start building deeper models, we've got to create vectorization and embedding layers."
      ],
      "metadata": {
        "id": "VjN5NjiiZbv4"
      }
    },
    {
      "cell_type": "code",
      "source": [
        "# How long is each sentence on average?\n",
        "sent_lens = [len(sentence.split()) for sentence in train_sentences]\n",
        "avg_sent_len = np.mean(sent_lens)\n",
        "avg_sent_len"
      ],
      "metadata": {
        "colab": {
          "base_uri": "https://localhost:8080/"
        },
        "id": "eiNXOwfGgVvE",
        "outputId": "5d64daf6-af74-402a-f153-9465176235d6"
      },
      "execution_count": 31,
      "outputs": [
        {
          "output_type": "execute_result",
          "data": {
            "text/plain": [
              "26.338269273494777"
            ]
          },
          "metadata": {},
          "execution_count": 31
        }
      ]
    },
    {
      "cell_type": "code",
      "source": [
        "# What's the distribution look like?\n",
        "plt.hist(sent_lens, bins=30);"
      ],
      "metadata": {
        "colab": {
          "base_uri": "https://localhost:8080/",
          "height": 430
        },
        "id": "eS3H_aTEhdcY",
        "outputId": "e5eaa55a-df08-464d-c4d8-e8172d841e9f"
      },
      "execution_count": 32,
      "outputs": [
        {
          "output_type": "display_data",
          "data": {
            "text/plain": [
              "<Figure size 640x480 with 1 Axes>"
            ],
            "image/png": "[encoded data removed]"
          },
          "metadata": {}
        }
      ]
    },
    {
      "cell_type": "code",
      "source": [
        "# How long of a sentence length covers %95 of examples?\n",
        "output_seq_len = np.percentile(sent_lens, 95)\n",
        "output_seq_len"
      ],
      "metadata": {
        "colab": {
          "base_uri": "https://localhost:8080/"
        },
        "id": "O6w94uAch356",
        "outputId": "f8f8c232-7e5e-4dbe-d856-884c7a69f280"
      },
      "execution_count": 33,
      "outputs": [
        {
          "output_type": "execute_result",
          "data": {
            "text/plain": [
              "55.0"
            ]
          },
          "metadata": {},
          "execution_count": 33
        }
      ]
    },
    {
      "cell_type": "code",
      "source": [
        "# Max sequence length in the training sentence\n",
        "max(sent_lens)"
      ],
      "metadata": {
        "colab": {
          "base_uri": "https://localhost:8080/"
        },
        "id": "ZBBd5yz1iefr",
        "outputId": "362d9abe-b5c1-492b-d568-5ed45b5c6df0"
      },
      "execution_count": 34,
      "outputs": [
        {
          "output_type": "execute_result",
          "data": {
            "text/plain": [
              "296"
            ]
          },
          "metadata": {},
          "execution_count": 34
        }
      ]
    },
    {
      "cell_type": "code",
      "source": [
        "# Create the text vectorization\n",
        "from tensorflow.keras.layers.experimental.preprocessing import TextVectorization\n",
        "\n",
        "text_vectorizer = TextVectorization(max_tokens=68000, # how many unique vocabulary we have. This value got from the original paper\n",
        "                                    output_sequence_length=int(output_seq_len))"
      ],
      "metadata": {
        "id": "SCsnLm28i6ma"
      },
      "execution_count": 35,
      "outputs": []
    },
    {
      "cell_type": "code",
      "source": [
        "# Fit the text vectorizer on the training data\n",
        "text_vectorizer.adapt(train_sentences)"
      ],
      "metadata": {
        "id": "qZtmqKqNmFfD"
      },
      "execution_count": 36,
      "outputs": []
    },
    {
      "cell_type": "code",
      "source": [
        "# Test out text vectorizer on random sentence\n",
        "target_sentence = random.choice(train_sentences)\n",
        "print(f'Random Sentence:\\n', target_sentence, 2*'\\n')\n",
        "print(f'Text Vectorization:\\n', text_vectorizer([target_sentence]))"
      ],
      "metadata": {
        "colab": {
          "base_uri": "https://localhost:8080/"
        },
        "id": "GuHwS-qhmPV8",
        "outputId": "29c69246-83c4-4c72-ea7c-dbe71bfd178b"
      },
      "execution_count": 37,
      "outputs": [
        {
          "output_type": "stream",
          "name": "stdout",
          "text": [
            "Random Sentence:\n",
            " compared with to in the same group , wbc , n , crp , esr , il-@ , pt , tt , and d-d all increased in the control group at t@-t@ ( p < @ ) ; aptt increased at t@-t@ ( p < @ ) ; fib increased at t@-t@ ( p < @ ) . \n",
            "\n",
            "\n",
            "Text Vectorization:\n",
            " tf.Tensor(\n",
            "[[   34     7     6     5     2   431    13  4981    40  1557  4204   460\n",
            "   2687  2017     3  5295    62    96     5     2    35    13    15  2017\n",
            "     14  8318    96    15  2017    14 12663    96    15  2017    14     0\n",
            "      0     0     0     0     0     0     0     0     0     0     0     0\n",
            "      0     0     0     0     0     0     0]], shape=(1, 55), dtype=int64)\n"
          ]
        }
      ]
    },
    {
      "cell_type": "code",
      "source": [
        "# How many words in our training vocabulary\n",
        "rct_20k_text_vocab = text_vectorizer.get_vocabulary()\n",
        "print(f'Number of words in vocab: {len(rct_20k_text_vocab)}')\n",
        "print(f'Most common words in vocab: {rct_20k_text_vocab[:5]}')\n",
        "print(f'Least common words in vocab: {rct_20k_text_vocab[-5:]}')"
      ],
      "metadata": {
        "colab": {
          "base_uri": "https://localhost:8080/"
        },
        "id": "GXgd0gCAm2j7",
        "outputId": "3ec4d6d7-d85a-4cf8-98f5-6e3a3ac1f8d8"
      },
      "execution_count": 38,
      "outputs": [
        {
          "output_type": "stream",
          "name": "stdout",
          "text": [
            "Number of words in vocab: 64841\n",
            "Most common words in vocab: ['', '[UNK]', 'the', 'and', 'of']\n",
            "Least common words in vocab: ['aainduced', 'aaigroup', 'aachener', 'aachen', 'aaacp']\n"
          ]
        }
      ]
    },
    {
      "cell_type": "code",
      "source": [
        "# Get the config of our text vectorizer\n",
        "text_vectorizer.get_config()"
      ],
      "metadata": {
        "colab": {
          "base_uri": "https://localhost:8080/"
        },
        "id": "Hs3Jcb6ioVNz",
        "outputId": "fd5f161f-fc81-4626-cf5d-2e60ff9fae61"
      },
      "execution_count": 39,
      "outputs": [
        {
          "output_type": "execute_result",
          "data": {
            "text/plain": [
              "{'name': 'text_vectorization',\n",
              " 'trainable': True,\n",
              " 'dtype': 'string',\n",
              " 'batch_input_shape': (None,),\n",
              " 'max_tokens': 68000,\n",
              " 'standardize': 'lower_and_strip_punctuation',\n",
              " 'split': 'whitespace',\n",
              " 'ngrams': None,\n",
              " 'output_mode': 'int',\n",
              " 'output_sequence_length': 55,\n",
              " 'pad_to_max_tokens': False,\n",
              " 'sparse': False,\n",
              " 'ragged': False,\n",
              " 'vocabulary': None,\n",
              " 'idf_weights': None,\n",
              " 'encoding': 'utf-8',\n",
              " 'vocabulary_size': 64841}"
            ]
          },
          "metadata": {},
          "execution_count": 39
        }
      ]
    },
    {
      "cell_type": "code",
      "source": [
        "# Creatin embedding layer\n",
        "token_embed = tf.keras.layers.Embedding(input_dim=len(rct_20k_text_vocab), # length of vocabulary\n",
        "                                      output_dim=128,\n",
        "                                      mask_zero=True,\n",
        "                                      name='token_embedding')"
      ],
      "metadata": {
        "id": "NC5RD_cBzYW8"
      },
      "execution_count": 40,
      "outputs": []
    },
    {
      "cell_type": "code",
      "source": [
        "# Show example embedding\n",
        "print(f'Sentence before vectorization:\\n{target_sentence}\\n')\n",
        "vectorized_sentence = text_vectorizer([target_sentence])\n",
        "print(f'Sentece after vectorization (before embedding):\\n{vectorized_sentence}\\n')\n",
        "embedded_sentence = token_embed(vectorized_sentence)\n",
        "print(f'Sentence after embedding:\\n{embedded_sentence}\\n')\n",
        "print(f'Embedded shape: {embedded_sentence.shape}')"
      ],
      "metadata": {
        "colab": {
          "base_uri": "https://localhost:8080/"
        },
        "id": "oHHQD6Zp18ms",
        "outputId": "03cf7311-889e-4f6f-89e7-ab8baeec2ded"
      },
      "execution_count": 41,
      "outputs": [
        {
          "output_type": "stream",
          "name": "stdout",
          "text": [
            "Sentence before vectorization:\n",
            "compared with to in the same group , wbc , n , crp , esr , il-@ , pt , tt , and d-d all increased in the control group at t@-t@ ( p < @ ) ; aptt increased at t@-t@ ( p < @ ) ; fib increased at t@-t@ ( p < @ ) .\n",
            "\n",
            "Sentece after vectorization (before embedding):\n",
            "[[   34     7     6     5     2   431    13  4981    40  1557  4204   460\n",
            "   2687  2017     3  5295    62    96     5     2    35    13    15  2017\n",
            "     14  8318    96    15  2017    14 12663    96    15  2017    14     0\n",
            "      0     0     0     0     0     0     0     0     0     0     0     0\n",
            "      0     0     0     0     0     0     0]]\n",
            "\n",
            "Sentence after embedding:\n",
            "[[[ 0.020259   -0.0198596   0.00974606 ... -0.00538184  0.03191398\n",
            "   -0.00374962]\n",
            "  [-0.00356015 -0.02916179 -0.024095   ...  0.01193199 -0.0189198\n",
            "    0.00614438]\n",
            "  [ 0.02232838  0.04841373  0.01755352 ...  0.03038212 -0.03181921\n",
            "    0.01374507]\n",
            "  ...\n",
            "  [-0.03723728  0.01515635 -0.02460109 ... -0.03192114 -0.04958051\n",
            "    0.00659575]\n",
            "  [-0.03723728  0.01515635 -0.02460109 ... -0.03192114 -0.04958051\n",
            "    0.00659575]\n",
            "  [-0.03723728  0.01515635 -0.02460109 ... -0.03192114 -0.04958051\n",
            "    0.00659575]]]\n",
            "\n",
            "Embedded shape: (1, 55, 128)\n"
          ]
        }
      ]
    },
    {
      "cell_type": "markdown",
      "source": [
        "### Creating datasets (making sure our data loads as fast as possible)\n",
        "\n",
        "We are going to setup our data as fast as possible with TensorFlow tf.data API, many of these steps discuss in the icluded next two resources:\n",
        "\n",
        "* https://www.tensorflow.org/guide/data_performance\n",
        "* https://www.tensorflow.org/guide/data"
      ],
      "metadata": {
        "id": "4YF35CY23frb"
      }
    },
    {
      "cell_type": "code",
      "source": [
        "# Turn our data into TensorFlow Datasets\n",
        "train_dataset = tf.data.Dataset.from_tensor_slices((train_sentences, train_labels_one_hot))\n",
        "valid_dataset = tf.data.Dataset.from_tensor_slices((val_sentences, val_labels_one_hot))\n",
        "test_dataset = tf.data.Dataset.from_tensor_slices((test_sentences, test_labels_one_hot))\n",
        "\n",
        "# Check the train dataset\n",
        "train_dataset"
      ],
      "metadata": {
        "colab": {
          "base_uri": "https://localhost:8080/"
        },
        "id": "b7uIE-434jLZ",
        "outputId": "2bb470db-1a9d-4c12-db15-951e0f6f2b02"
      },
      "execution_count": 42,
      "outputs": [
        {
          "output_type": "execute_result",
          "data": {
            "text/plain": [
              "<_TensorSliceDataset element_spec=(TensorSpec(shape=(), dtype=tf.string, name=None), TensorSpec(shape=(5,), dtype=tf.float64, name=None))>"
            ]
          },
          "metadata": {},
          "execution_count": 42
        }
      ]
    },
    {
      "cell_type": "code",
      "source": [
        "# Take the TensorSliceDataset's and turn them to prefected datasets\n",
        "train_dataset = train_dataset.batch(32).prefetch(tf.data.AUTOTUNE)\n",
        "valid_dataset = valid_dataset.batch(32).prefetch(tf.data.AUTOTUNE)\n",
        "test_dataset = test_dataset.batch(32).prefetch(tf.data.AUTOTUNE)\n",
        "\n",
        "# Check the train dataset\n",
        "train_dataset"
      ],
      "metadata": {
        "colab": {
          "base_uri": "https://localhost:8080/"
        },
        "id": "YBagrKB96Ehp",
        "outputId": "848213ac-f98b-4be9-95c4-c6a36ed70489"
      },
      "execution_count": 43,
      "outputs": [
        {
          "output_type": "execute_result",
          "data": {
            "text/plain": [
              "<_PrefetchDataset element_spec=(TensorSpec(shape=(None,), dtype=tf.string, name=None), TensorSpec(shape=(None, 5), dtype=tf.float64, name=None))>"
            ]
          },
          "metadata": {},
          "execution_count": 43
        }
      ]
    },
    {
      "cell_type": "markdown",
      "source": [
        "### Model 1: Conv1D with token embedding"
      ],
      "metadata": {
        "id": "4UEFmISn7cnZ"
      }
    },
    {
      "cell_type": "code",
      "source": [
        "# Create 1D conv model to process sequence\n",
        "inputs = layers.Input(shape=(1,), dtype=tf.string)\n",
        "x = text_vectorizer(inputs) # text vectorization layer\n",
        "x = token_embed(x) # embedding layer\n",
        "x = layers.Conv1D(filters=64,\n",
        "                  kernel_size=5,\n",
        "                  activation='relu',\n",
        "                  padding='same',\n",
        "                  strides=1)(x) # Conv1D layer\n",
        "x = layers.GlobalMaxPool1D()(x) # Global Pooling Layer\n",
        "outputs = layers.Dense(num_classes, activation='softmax')(x)\n",
        "model_1 = tf.keras.Model(inputs, outputs, name='Model_1_Conv1D')\n",
        "\n",
        "# Compile the model\n",
        "model_1.compile(\n",
        "    loss='categorical_crossentropy',\n",
        "    optimizer=tf.keras.optimizers.Adam(),\n",
        "    metrics=['accuracy']\n",
        ")"
      ],
      "metadata": {
        "id": "4G-DGRUK7zSu"
      },
      "execution_count": 44,
      "outputs": []
    },
    {
      "cell_type": "code",
      "source": [
        "# Get the summary of model\n",
        "model_1.summary()"
      ],
      "metadata": {
        "colab": {
          "base_uri": "https://localhost:8080/"
        },
        "id": "VKfELl0b-dvW",
        "outputId": "8987991f-5353-49d1-b2b1-8d703a7396a6"
      },
      "execution_count": 45,
      "outputs": [
        {
          "output_type": "stream",
          "name": "stdout",
          "text": [
            "Model: \"Model_1_Conv1D\"\n",
            "_________________________________________________________________\n",
            " Layer (type)                Output Shape              Param #   \n",
            "=================================================================\n",
            " input_1 (InputLayer)        [(None, 1)]               0         \n",
            "                                                                 \n",
            " text_vectorization (TextVec  (None, 55)               0         \n",
            " torization)                                                     \n",
            "                                                                 \n",
            " token_embedding (Embedding)  (None, 55, 128)          8299648   \n",
            "                                                                 \n",
            " conv1d (Conv1D)             (None, 55, 64)            41024     \n",
            "                                                                 \n",
            " global_max_pooling1d (Globa  (None, 64)               0         \n",
            " lMaxPooling1D)                                                  \n",
            "                                                                 \n",
            " dense (Dense)               (None, 5)                 325       \n",
            "                                                                 \n",
            "=================================================================\n",
            "Total params: 8,340,997\n",
            "Trainable params: 8,340,997\n",
            "Non-trainable params: 0\n",
            "_________________________________________________________________\n"
          ]
        }
      ]
    },
    {
      "cell_type": "code",
      "source": [
        "# Fit the model\n",
        "history_model_1 = model_1.fit(train_dataset,\n",
        "                              steps_per_epoch=int(0.1*len(train_dataset)),\n",
        "                              epochs=5,\n",
        "                              validation_data=valid_dataset,\n",
        "                              validation_steps=int(0.1*len(valid_dataset))) # only validate on %10 of batches"
      ],
      "metadata": {
        "colab": {
          "base_uri": "https://localhost:8080/"
        },
        "id": "nmk1kGid-hpG",
        "outputId": "844cb6d6-55c6-4c51-a6e6-dde4c715f105"
      },
      "execution_count": 46,
      "outputs": [
        {
          "output_type": "stream",
          "name": "stdout",
          "text": [
            "Epoch 1/5\n",
            "562/562 [==============================] - 43s 57ms/step - loss: 0.8315 - accuracy: 0.6818 - val_loss: 0.5838 - val_accuracy: 0.7859\n",
            "Epoch 2/5\n",
            "562/562 [==============================] - 8s 14ms/step - loss: 0.5758 - accuracy: 0.7896 - val_loss: 0.5374 - val_accuracy: 0.8032\n",
            "Epoch 3/5\n",
            "562/562 [==============================] - 5s 9ms/step - loss: 0.5420 - accuracy: 0.8023 - val_loss: 0.5233 - val_accuracy: 0.8108\n",
            "Epoch 4/5\n",
            "562/562 [==============================] - 4s 7ms/step - loss: 0.5225 - accuracy: 0.8077 - val_loss: 0.5247 - val_accuracy: 0.7959\n",
            "Epoch 5/5\n",
            "562/562 [==============================] - 6s 10ms/step - loss: 0.5299 - accuracy: 0.8077 - val_loss: 0.4990 - val_accuracy: 0.8145\n"
          ]
        }
      ]
    },
    {
      "cell_type": "code",
      "source": [
        "# Evaluate model on the whole validation dataset\n",
        "model_1.evaluate(valid_dataset)"
      ],
      "metadata": {
        "colab": {
          "base_uri": "https://localhost:8080/"
        },
        "id": "JLq96w8n_yrO",
        "outputId": "9eb3e040-4f84-459d-8187-82a404302d55"
      },
      "execution_count": 47,
      "outputs": [
        {
          "output_type": "stream",
          "name": "stdout",
          "text": [
            "945/945 [==============================] - 3s 3ms/step - loss: 0.4931 - accuracy: 0.8199\n"
          ]
        },
        {
          "output_type": "execute_result",
          "data": {
            "text/plain": [
              "[0.49310600757598877, 0.8198729157447815]"
            ]
          },
          "metadata": {},
          "execution_count": 47
        }
      ]
    },
    {
      "cell_type": "code",
      "source": [
        "# Make predictions (model predicts predcition probabilities of each classes)\n",
        "model_1_preds_probs = model_1.predict(valid_dataset)\n",
        "model_1_preds_probs, model_1_preds_probs.shape"
      ],
      "metadata": {
        "colab": {
          "base_uri": "https://localhost:8080/"
        },
        "id": "Wet97_zzBKn-",
        "outputId": "e5c06b38-dfbf-4465-f107-3cd71368bf69"
      },
      "execution_count": 48,
      "outputs": [
        {
          "output_type": "stream",
          "name": "stdout",
          "text": [
            "945/945 [==============================] - 3s 3ms/step\n"
          ]
        },
        {
          "output_type": "execute_result",
          "data": {
            "text/plain": [
              "(array([[6.5273470e-01, 2.4236152e-01, 4.4394545e-03, 7.9408675e-02,\n",
              "         2.1055628e-02],\n",
              "        [4.7187957e-01, 3.7786978e-01, 1.5397577e-02, 8.7784745e-02,\n",
              "         4.7068268e-02],\n",
              "        [3.5230881e-01, 1.3136351e-02, 1.0898199e-02, 6.2315208e-01,\n",
              "         5.0456863e-04],\n",
              "        ...,\n",
              "        [5.6836387e-04, 1.1736098e-03, 1.1893106e-02, 5.6063815e-04,\n",
              "         9.8580432e-01],\n",
              "        [3.7432846e-02, 6.3197064e-01, 4.4459939e-02, 1.5023536e-02,\n",
              "         2.7111298e-01],\n",
              "        [5.2156538e-02, 9.3871766e-01, 5.5756741e-03, 1.3966750e-03,\n",
              "         2.1535307e-03]], dtype=float32),\n",
              " (30212, 5))"
            ]
          },
          "metadata": {},
          "execution_count": 48
        }
      ]
    },
    {
      "cell_type": "code",
      "source": [
        "# Convert preds probs to classes\n",
        "model_1_preds = tf.argmax(model_1_preds_probs, axis=1)\n",
        "model_1_preds"
      ],
      "metadata": {
        "colab": {
          "base_uri": "https://localhost:8080/"
        },
        "id": "qbYqv9ADBfH9",
        "outputId": "90ec9e89-1dcf-44a3-998d-95beb9e3a27e"
      },
      "execution_count": 49,
      "outputs": [
        {
          "output_type": "execute_result",
          "data": {
            "text/plain": [
              "<tf.Tensor: shape=(30212,), dtype=int64, numpy=array([0, 0, 3, ..., 4, 1, 1])>"
            ]
          },
          "metadata": {},
          "execution_count": 49
        }
      ]
    },
    {
      "cell_type": "code",
      "source": [
        "# Remind the class names\n",
        "class_names"
      ],
      "metadata": {
        "colab": {
          "base_uri": "https://localhost:8080/"
        },
        "id": "IlURxOHyCCxX",
        "outputId": "944aeeff-601b-441c-9f7d-ad6afa6a5dfb"
      },
      "execution_count": 50,
      "outputs": [
        {
          "output_type": "execute_result",
          "data": {
            "text/plain": [
              "array(['BACKGROUND', 'CONCLUSIONS', 'METHODS', 'OBJECTIVE', 'RESULTS'],\n",
              "      dtype=object)"
            ]
          },
          "metadata": {},
          "execution_count": 50
        }
      ]
    },
    {
      "cell_type": "code",
      "source": [
        "# Calculate model results\n",
        "model_1_results = calculate_results(y_true=val_labels_encoded,\n",
        "                                    y_pred=model_1_preds)\n",
        "model_1_results"
      ],
      "metadata": {
        "colab": {
          "base_uri": "https://localhost:8080/"
        },
        "id": "F4q10ezlCJe1",
        "outputId": "0f36e443-85bb-4efa-9e56-1f5989c117e1"
      },
      "execution_count": 51,
      "outputs": [
        {
          "output_type": "execute_result",
          "data": {
            "text/plain": [
              "{'accuracy': 0.8198728981861512,\n",
              " 'precision': 0.821276335563568,\n",
              " 'recall': 0.8198728981861512,\n",
              " 'f1': 0.8171581227341933}"
            ]
          },
          "metadata": {},
          "execution_count": 51
        }
      ]
    },
    {
      "cell_type": "code",
      "source": [
        "# Remind the baseline results\n",
        "baseline_results"
      ],
      "metadata": {
        "colab": {
          "base_uri": "https://localhost:8080/"
        },
        "id": "wu2NLRZ8CWXM",
        "outputId": "814ccf7d-0f74-4d24-c38a-d56a6583c21b"
      },
      "execution_count": 52,
      "outputs": [
        {
          "output_type": "execute_result",
          "data": {
            "text/plain": [
              "{'accuracy': 0.7218323844829869,\n",
              " 'precision': 0.7186466952323352,\n",
              " 'recall': 0.7218323844829869,\n",
              " 'f1': 0.6989250353450294}"
            ]
          },
          "metadata": {},
          "execution_count": 52
        }
      ]
    },
    {
      "cell_type": "markdown",
      "source": [
        "Hmm.. It looks we got the better results with the Conv1D model.."
      ],
      "metadata": {
        "id": "TPEvgJ6yCfds"
      }
    },
    {
      "cell_type": "markdown",
      "source": [
        "### Model 2: Feature extraction with pretrained token embedding\n"
      ],
      "metadata": {
        "id": "Wqe9gksdCd_D"
      }
    },
    {
      "cell_type": "code",
      "source": [
        "# Import model from tensorflow hub\n",
        "embed = hub.load('https://tfhub.dev/google/universal-sentence-encoder/4')"
      ],
      "metadata": {
        "id": "LD1kccPUFtyn"
      },
      "execution_count": 53,
      "outputs": []
    },
    {
      "cell_type": "code",
      "source": [
        "# Let's look at the a single sample\n",
        "random_train_sentence = random.choice(train_sentences)\n",
        "print(f'Random sentence:\\n{random_train_sentence}\\n')\n",
        "embed_random_sentence = embed([random_train_sentence])\n",
        "print(f'Sentence after embedding:\\n{embed_random_sentence}\\n')\n",
        "print(f'Embed shape: {embed_random_sentence.shape}')"
      ],
      "metadata": {
        "colab": {
          "base_uri": "https://localhost:8080/"
        },
        "id": "MmGftsH6F_v6",
        "outputId": "2925df49-3731-4231-8124-cbfad6b527f5"
      },
      "execution_count": 54,
      "outputs": [
        {
          "output_type": "stream",
          "name": "stdout",
          "text": [
            "Random sentence:\n",
            "an age-stratified randomisation scheme with block size of eight was computer-generated off-site at who .\n",
            "\n",
            "Sentence after embedding:\n",
            "[[-0.02458564  0.01538178 -0.05023319 -0.07743996 -0.03054411 -0.02625775\n",
            "  -0.02222784 -0.00708562  0.06545324  0.0296578  -0.01180828  0.01639786\n",
            "  -0.01370932  0.07181063 -0.05310286  0.0431774   0.056851   -0.06474934\n",
            "  -0.01543516  0.0538184  -0.06558198  0.01025272 -0.01941259 -0.03791264\n",
            "   0.0410253  -0.02396726  0.03692624  0.04490997 -0.00282766 -0.00600081\n",
            "   0.04509862  0.04256104 -0.05069232  0.01996835 -0.05284223  0.06516568\n",
            "   0.00736484  0.09506199  0.06701929 -0.03105635 -0.00189964  0.08090448\n",
            "  -0.01125996 -0.01235563  0.04834697 -0.06826258 -0.0230772  -0.08646302\n",
            "  -0.00969529 -0.05736986 -0.06694382 -0.0078351   0.06105184 -0.02914419\n",
            "  -0.00342448 -0.06669825  0.00654416 -0.08499187  0.0603379  -0.07203679\n",
            "   0.01468512 -0.02753376 -0.04897115 -0.00704349 -0.07333113  0.02123682\n",
            "   0.03873011 -0.00335078  0.04095718 -0.00971946  0.02724482  0.04074574\n",
            "   0.05422826  0.05220298 -0.04305618  0.03284381 -0.03281484  0.00672274\n",
            "   0.08170708  0.0676946  -0.00538013 -0.05616871  0.02197771  0.01303828\n",
            "   0.00579944  0.07920931 -0.05424052  0.02886042  0.01545435  0.03879965\n",
            "  -0.00789795 -0.02996181  0.02093885  0.00672191  0.0025619  -0.00780374\n",
            "   0.03768273 -0.03036225 -0.02038726 -0.04010238 -0.01588969  0.05807393\n",
            "  -0.03046771 -0.00109289 -0.0525934  -0.08342681  0.04408142  0.0693622\n",
            "   0.00427326 -0.03374078  0.04650884 -0.0783489  -0.0203882  -0.01765961\n",
            "  -0.04007711  0.06609532 -0.07639794  0.05220524  0.01321474  0.03648753\n",
            "  -0.0487722  -0.04578693  0.01027065  0.03134235  0.06571953  0.02055114\n",
            "  -0.05625758  0.03144412  0.04046395  0.05184917  0.02223227  0.03825192\n",
            "   0.03609502 -0.02070265  0.01806279 -0.01489866  0.00950773  0.02063004\n",
            "  -0.01514839 -0.05846216  0.01070327  0.09551331 -0.0537465  -0.00546983\n",
            "   0.0755094  -0.05245169  0.02620759 -0.04983407 -0.06471127 -0.08621347\n",
            "  -0.04444896  0.00642728 -0.05378071  0.03218944  0.00653511  0.02770085\n",
            "  -0.02274382  0.00257393 -0.01898878  0.05831591  0.00537978 -0.02482221\n",
            "   0.00781741  0.00161116  0.0126389  -0.03496423 -0.00592446 -0.02080211\n",
            "   0.06574024 -0.01372451  0.03737193 -0.06912728  0.06915797  0.04947134\n",
            "  -0.01654958  0.02469078 -0.02024338 -0.00179651  0.001479    0.01502386\n",
            "   0.0841247  -0.02059516 -0.03793204 -0.01803971 -0.00177861 -0.00267649\n",
            "  -0.00939185 -0.03414913 -0.04085047  0.01495448 -0.05994836 -0.05506149\n",
            "  -0.05211922  0.02019562 -0.0283517   0.04331077  0.00465181  0.0507856\n",
            "   0.0292501  -0.03822933  0.06848519 -0.01973042 -0.03714084  0.00329158\n",
            "  -0.00942481 -0.03536529 -0.02086161  0.01963448  0.01905251 -0.02450375\n",
            "  -0.04858734 -0.05077193  0.04926888  0.07482822 -0.03467631 -0.05210184\n",
            "   0.03041003  0.00788292  0.00202654  0.01405472  0.03523105 -0.04624532\n",
            "   0.01762989 -0.03183456  0.05564986  0.04425865  0.06221269  0.08811922\n",
            "  -0.02917193 -0.00347114 -0.04217748  0.03432832 -0.04657567 -0.09126289\n",
            "   0.02610196  0.03867536  0.04596194 -0.07682613 -0.06313176  0.02612667\n",
            "   0.05396741 -0.02095596  0.00867262 -0.07594707 -0.05735648  0.03301485\n",
            "  -0.02497269 -0.01290608  0.09605425  0.03466503 -0.08122595  0.03089618\n",
            "  -0.00592293  0.07019126  0.07294334 -0.00524816  0.08866557 -0.05102378\n",
            "   0.02898095  0.0649787   0.04525292  0.08252965  0.04370972  0.01077018\n",
            "   0.01895259  0.06650226  0.06236807  0.05824749  0.07783892 -0.0561245\n",
            "  -0.04963433 -0.00937726 -0.00456736 -0.02544714 -0.05617886 -0.01208406\n",
            "   0.01830527 -0.04311996 -0.02490717  0.0396117  -0.03205894 -0.02902592\n",
            "   0.01182003 -0.0232302  -0.01129879 -0.06532609  0.0015814  -0.01708465\n",
            "   0.03374758 -0.0453687  -0.00969225 -0.00289666 -0.02401804  0.06497485\n",
            "  -0.05889589 -0.04158616  0.0237691   0.04508898  0.07889245 -0.03048965\n",
            "  -0.08370346  0.0117414  -0.06093976 -0.07871071 -0.04605627  0.02663734\n",
            "   0.01647663  0.02800167 -0.05607482 -0.01442349 -0.06197712 -0.03326163\n",
            "   0.03601996 -0.00855651 -0.07709118  0.0615026  -0.07873317 -0.08331016\n",
            "   0.02404617 -0.01457105  0.00583655  0.01509779 -0.07682679  0.02155489\n",
            "  -0.08066492  0.00428478 -0.04524019  0.06247269 -0.09165177  0.0389023\n",
            "  -0.06796364  0.00868849 -0.05158142 -0.03886659 -0.01849241  0.02443814\n",
            "  -0.00990609  0.01111036  0.00839783 -0.01586671 -0.01291384 -0.002005\n",
            "  -0.057788    0.04518909 -0.06617844  0.06203213  0.02805553 -0.06843468\n",
            "  -0.02003522  0.00589787 -0.05340886 -0.05471632  0.02908216 -0.03032628\n",
            "  -0.02952833 -0.00377454 -0.08354894 -0.04347814 -0.00392306 -0.0032437\n",
            "   0.04409     0.0369687   0.01404477  0.04119775 -0.05674512  0.03739398\n",
            "  -0.04962544  0.01766493  0.02327246  0.03208335 -0.09124249  0.02222621\n",
            "   0.02767681 -0.01672959  0.01079614  0.02995032 -0.03530641  0.01695921\n",
            "   0.07547248 -0.00098603  0.00543054  0.00567515 -0.03725695  0.03747565\n",
            "   0.03002774  0.0307906  -0.06421782 -0.04837647 -0.04674857  0.03139333\n",
            "  -0.01890086  0.00609937  0.04332029  0.00053955 -0.05047372 -0.04723622\n",
            "   0.03505567  0.05001498 -0.02237875 -0.08518331  0.00626962 -0.02603325\n",
            "  -0.05054732 -0.04605648 -0.01182919  0.00960136  0.00954773 -0.04501583\n",
            "  -0.03857178 -0.05053231 -0.03316796 -0.03701811 -0.06254756  0.09628181\n",
            "  -0.06358323  0.04390709 -0.0535517  -0.02221401  0.05684498  0.0645044\n",
            "   0.01276828  0.02214241 -0.00846577  0.03696506  0.05601251  0.00624039\n",
            "  -0.08505838  0.03452492 -0.04798718 -0.01882969 -0.08512996 -0.09138443\n",
            "  -0.09949964 -0.03430189 -0.06106098 -0.00100095  0.00662969  0.03080226\n",
            "  -0.05656219  0.00230562 -0.02352884 -0.03861582 -0.0456906   0.07788988\n",
            "   0.01947736 -0.06252901  0.07368369  0.02485482 -0.01453617 -0.05384324\n",
            "   0.02362201 -0.07517395  0.00937591 -0.05911543 -0.02671735  0.02207652\n",
            "   0.02500802 -0.0087739  -0.02988395 -0.03599078 -0.05473601 -0.05528879\n",
            "  -0.04082608  0.06575377 -0.03795861  0.02127328 -0.06111562  0.00569922\n",
            "   0.05061889  0.04324321  0.01404986  0.00177921 -0.02733881  0.06117103\n",
            "   0.02417356 -0.0541391  -0.01739637  0.05858785 -0.02647493 -0.02373124\n",
            "   0.01241407  0.00809555  0.02641354 -0.03212301  0.07460432 -0.03602648\n",
            "   0.08528694 -0.01949305 -0.02160936 -0.00506997  0.0414381   0.0609875\n",
            "   0.05143332 -0.06940252  0.0062619   0.02577919  0.00831219  0.02114215\n",
            "  -0.08534467 -0.01199508  0.04847031  0.01629456  0.01474346  0.0665016\n",
            "   0.06049817  0.0455961  -0.00159636  0.03138058 -0.05232726  0.07209396\n",
            "  -0.04795226  0.02556851]]\n",
            "\n",
            "Embed shape: (1, 512)\n"
          ]
        }
      ]
    },
    {
      "cell_type": "code",
      "source": [
        "# Create a Keras Layer using the USE pretrained layer from tensorflow hub\n",
        "sentence_encoder_layer = hub.KerasLayer('https://tfhub.dev/google/universal-sentence-encoder/4',\n",
        "                                        input_shape=[],\n",
        "                                        dtype=tf.string,\n",
        "                                        trainable=False,\n",
        "                                        name='USE')"
      ],
      "metadata": {
        "id": "BlLcw88ZHVKc"
      },
      "execution_count": 55,
      "outputs": []
    },
    {
      "cell_type": "code",
      "source": [
        "# Create a model using sequential API\n",
        "model_2 = tf.keras.Sequential([\n",
        "    sentence_encoder_layer,\n",
        "    layers.Dense(128, activation='relu'),\n",
        "    layers.Dense(num_classes, activation='softmax')\n",
        "])\n",
        "\n",
        "# Compile the model\n",
        "model_2.compile(\n",
        "    loss='categorical_crossentropy',\n",
        "    optimizer=tf.keras.optimizers.Adam(),\n",
        "    metrics=['accuracy']\n",
        ")"
      ],
      "metadata": {
        "id": "xSQtc3QpHuAU"
      },
      "execution_count": 56,
      "outputs": []
    },
    {
      "cell_type": "code",
      "source": [
        "# Get the model summary\n",
        "model_2.summary()"
      ],
      "metadata": {
        "colab": {
          "base_uri": "https://localhost:8080/"
        },
        "id": "MN1IqQ_5JtxV",
        "outputId": "0f824fb6-aa3e-4c8b-f17c-996a2b61c530"
      },
      "execution_count": 57,
      "outputs": [
        {
          "output_type": "stream",
          "name": "stdout",
          "text": [
            "Model: \"sequential\"\n",
            "_________________________________________________________________\n",
            " Layer (type)                Output Shape              Param #   \n",
            "=================================================================\n",
            " USE (KerasLayer)            (None, 512)               256797824 \n",
            "                                                                 \n",
            " dense_1 (Dense)             (None, 128)               65664     \n",
            "                                                                 \n",
            " dense_2 (Dense)             (None, 5)                 645       \n",
            "                                                                 \n",
            "=================================================================\n",
            "Total params: 256,864,133\n",
            "Trainable params: 66,309\n",
            "Non-trainable params: 256,797,824\n",
            "_________________________________________________________________\n"
          ]
        }
      ]
    },
    {
      "cell_type": "code",
      "source": [
        "# Fit the model\n",
        "history_model_2 = model_2.fit(train_dataset,\n",
        "                              steps_per_epoch=int(0.1*len(train_dataset)),\n",
        "                              epochs=5,\n",
        "                              validation_data=valid_dataset,\n",
        "                              validation_steps=int(0.1*len(valid_dataset))) # only validate on %10 of batches"
      ],
      "metadata": {
        "colab": {
          "base_uri": "https://localhost:8080/"
        },
        "id": "Tldd72sOJxCD",
        "outputId": "9e12a6ec-5eb1-4700-d570-73820694157b"
      },
      "execution_count": 58,
      "outputs": [
        {
          "output_type": "stream",
          "name": "stdout",
          "text": [
            "Epoch 1/5\n",
            "562/562 [==============================] - 11s 14ms/step - loss: 0.9185 - accuracy: 0.6492 - val_loss: 0.7957 - val_accuracy: 0.6915\n",
            "Epoch 2/5\n",
            "562/562 [==============================] - 7s 12ms/step - loss: 0.7709 - accuracy: 0.7003 - val_loss: 0.7554 - val_accuracy: 0.7031\n",
            "Epoch 3/5\n",
            "562/562 [==============================] - 8s 13ms/step - loss: 0.7552 - accuracy: 0.7107 - val_loss: 0.7394 - val_accuracy: 0.7114\n",
            "Epoch 4/5\n",
            "562/562 [==============================] - 7s 13ms/step - loss: 0.7213 - accuracy: 0.7235 - val_loss: 0.7125 - val_accuracy: 0.7254\n",
            "Epoch 5/5\n",
            "562/562 [==============================] - 7s 12ms/step - loss: 0.7281 - accuracy: 0.7211 - val_loss: 0.6912 - val_accuracy: 0.7317\n"
          ]
        }
      ]
    },
    {
      "cell_type": "code",
      "source": [
        "# Evaluate on the whole validation dataset\n",
        "model_2.evaluate(valid_dataset)"
      ],
      "metadata": {
        "colab": {
          "base_uri": "https://localhost:8080/"
        },
        "id": "s3lJ2nZwKDiy",
        "outputId": "22b32b46-c001-4bb7-d80c-575a8fff554c"
      },
      "execution_count": 59,
      "outputs": [
        {
          "output_type": "stream",
          "name": "stdout",
          "text": [
            "945/945 [==============================] - 10s 10ms/step - loss: 0.6997 - accuracy: 0.7332\n"
          ]
        },
        {
          "output_type": "execute_result",
          "data": {
            "text/plain": [
              "[0.699675977230072, 0.7331523895263672]"
            ]
          },
          "metadata": {},
          "execution_count": 59
        }
      ]
    },
    {
      "cell_type": "code",
      "source": [
        "# Make some predictions with model 2\n",
        "model_2_preds_probs = model_2.predict(val_sentences)\n",
        "model_2_preds = tf.argmax(model_2_preds_probs, axis=1)\n",
        "model_2_preds"
      ],
      "metadata": {
        "colab": {
          "base_uri": "https://localhost:8080/"
        },
        "id": "k5ggEWK8PUJy",
        "outputId": "445cb3fb-d797-49d8-bcd4-feb9edeef73a"
      },
      "execution_count": 60,
      "outputs": [
        {
          "output_type": "stream",
          "name": "stdout",
          "text": [
            "945/945 [==============================] - 10s 9ms/step\n"
          ]
        },
        {
          "output_type": "execute_result",
          "data": {
            "text/plain": [
              "<tf.Tensor: shape=(30212,), dtype=int64, numpy=array([0, 1, 3, ..., 4, 4, 1])>"
            ]
          },
          "metadata": {},
          "execution_count": 60
        }
      ]
    },
    {
      "cell_type": "code",
      "source": [
        "# Calculate the results model 2\n",
        "model_2_results = calculate_results(y_true=val_labels_encoded,\n",
        "                                    y_pred=model_2_preds)\n",
        "model_2_results"
      ],
      "metadata": {
        "colab": {
          "base_uri": "https://localhost:8080/"
        },
        "id": "L-MQgIcAPsLQ",
        "outputId": "beacd78f-f74e-4ce1-ddc7-05efe7ccf0bc"
      },
      "execution_count": 61,
      "outputs": [
        {
          "output_type": "execute_result",
          "data": {
            "text/plain": [
              "{'accuracy': 0.7331523897788959,\n",
              " 'precision': 0.7292150902847495,\n",
              " 'recall': 0.7331523897788959,\n",
              " 'f1': 0.7273826252403979}"
            ]
          },
          "metadata": {},
          "execution_count": 61
        }
      ]
    },
    {
      "cell_type": "markdown",
      "source": [
        "### Model 3: Conv1D with character embedding\n",
        "\n",
        "In the previous models, we work with word level embedding but now, we will use the character embedding."
      ],
      "metadata": {
        "id": "DzyTdsdwP5YY"
      }
    },
    {
      "cell_type": "code",
      "source": [
        "# Make function to split sentences into characters\n",
        "def split_chars(text):\n",
        "  return ' '.join(list(text))\n",
        "\n",
        "# Text splitting non-character-level sequence into characters\n",
        "split_chars(random_train_sentence)"
      ],
      "metadata": {
        "colab": {
          "base_uri": "https://localhost:8080/",
          "height": 53
        },
        "id": "bGnNDdGkTXZ-",
        "outputId": "5f2467c8-bb39-436b-c846-99c014d1d331"
      },
      "execution_count": 62,
      "outputs": [
        {
          "output_type": "execute_result",
          "data": {
            "text/plain": [
              "'a n   a g e - s t r a t i f i e d   r a n d o m i s a t i o n   s c h e m e   w i t h   b l o c k   s i z e   o f   e i g h t   w a s   c o m p u t e r - g e n e r a t e d   o f f - s i t e   a t   w h o   .'"
            ],
            "application/vnd.google.colaboratory.intrinsic+json": {
              "type": "string"
            }
          },
          "metadata": {},
          "execution_count": 62
        }
      ]
    },
    {
      "cell_type": "code",
      "source": [
        "# Split sequnce-level data into character-level data splits\n",
        "train_chars = [split_chars(sentence) for sentence in train_sentences]\n",
        "val_chars = [split_chars(sentence) for sentence in val_sentences]\n",
        "test_chars = [split_chars(sentence) for sentence in test_sentences]\n",
        "\n",
        "# Check out the train chars\n",
        "train_chars[:2]"
      ],
      "metadata": {
        "colab": {
          "base_uri": "https://localhost:8080/"
        },
        "id": "w18bGd0_TvMq",
        "outputId": "7365ab8a-3b25-4856-8b56-bfebf838c9f4"
      },
      "execution_count": 63,
      "outputs": [
        {
          "output_type": "execute_result",
          "data": {
            "text/plain": [
              "['t o   i n v e s t i g a t e   t h e   e f f i c a c y   o f   @   w e e k s   o f   d a i l y   l o w - d o s e   o r a l   p r e d n i s o l o n e   i n   i m p r o v i n g   p a i n   ,   m o b i l i t y   ,   a n d   s y s t e m i c   l o w - g r a d e   i n f l a m m a t i o n   i n   t h e   s h o r t   t e r m   a n d   w h e t h e r   t h e   e f f e c t   w o u l d   b e   s u s t a i n e d   a t   @   w e e k s   i n   o l d e r   a d u l t s   w i t h   m o d e r a t e   t o   s e v e r e   k n e e   o s t e o a r t h r i t i s   (   o a   )   .',\n",
              " 'a   t o t a l   o f   @   p a t i e n t s   w i t h   p r i m a r y   k n e e   o a   w e r e   r a n d o m i z e d   @ : @   ;   @   r e c e i v e d   @   m g / d a y   o f   p r e d n i s o l o n e   a n d   @   r e c e i v e d   p l a c e b o   f o r   @   w e e k s   .']"
            ]
          },
          "metadata": {},
          "execution_count": 63
        }
      ]
    },
    {
      "cell_type": "code",
      "source": [
        "# What's the average character lengt\n",
        "chars_lens = [len(sentence) for sentence in train_sentences]\n",
        "mean_char_lens = np.mean(chars_lens)\n",
        "mean_char_lens"
      ],
      "metadata": {
        "colab": {
          "base_uri": "https://localhost:8080/"
        },
        "id": "A7Wa7lAeUc2U",
        "outputId": "9738ef83-7bd7-4a3b-d286-b5dfe2237ba1"
      },
      "execution_count": 64,
      "outputs": [
        {
          "output_type": "execute_result",
          "data": {
            "text/plain": [
              "149.3662574983337"
            ]
          },
          "metadata": {},
          "execution_count": 64
        }
      ]
    },
    {
      "cell_type": "code",
      "source": [
        "# Check the distribution of our sequences\n",
        "plt.hist(chars_lens, bins=30);"
      ],
      "metadata": {
        "colab": {
          "base_uri": "https://localhost:8080/",
          "height": 430
        },
        "id": "_3OS5gV3VInd",
        "outputId": "542302f9-b387-4540-c0ea-1d24cf5751d2"
      },
      "execution_count": 65,
      "outputs": [
        {
          "output_type": "display_data",
          "data": {
            "text/plain": [
              "<Figure size 640x480 with 1 Axes>"
            ],
            "image/png": "[encoded data removed]"
          },
          "metadata": {}
        }
      ]
    },
    {
      "cell_type": "code",
      "source": [
        "# Fin the what character length cover %95 of sequence\n",
        "output_seq_char_len = int(np.percentile(chars_lens, 95))\n",
        "output_seq_char_len"
      ],
      "metadata": {
        "colab": {
          "base_uri": "https://localhost:8080/"
        },
        "id": "V6pWPwmyVdCs",
        "outputId": "d10d553b-a931-4c23-943e-57219a8481e9"
      },
      "execution_count": 66,
      "outputs": [
        {
          "output_type": "execute_result",
          "data": {
            "text/plain": [
              "290"
            ]
          },
          "metadata": {},
          "execution_count": 66
        }
      ]
    },
    {
      "cell_type": "code",
      "source": [
        "# Get all keyboard characters\n",
        "import string\n",
        "alphabet = string.ascii_lowercase + string.digits + string.punctuation\n",
        "alphabet"
      ],
      "metadata": {
        "colab": {
          "base_uri": "https://localhost:8080/",
          "height": 36
        },
        "id": "1CNioA3MV-Qe",
        "outputId": "bfaed93f-8d30-40cd-dcca-bcaed0d1c9e6"
      },
      "execution_count": 67,
      "outputs": [
        {
          "output_type": "execute_result",
          "data": {
            "text/plain": [
              "'abcdefghijklmnopqrstuvwxyz0123456789!\"#$%&\\'()*+,-./:;<=>?@[\\\\]^_`{|}~'"
            ],
            "application/vnd.google.colaboratory.intrinsic+json": {
              "type": "string"
            }
          },
          "metadata": {},
          "execution_count": 67
        }
      ]
    },
    {
      "cell_type": "code",
      "source": [
        "# Create char level token vectorizer\n",
        "NUM_CHAR_TOKENS = len(alphabet) + 2 # add 2 for space and OOV token\n",
        "char_vectorizer = TextVectorization(max_tokens=NUM_CHAR_TOKENS,\n",
        "                                    output_sequence_length=output_seq_char_len,\n",
        "                                    # standardize=None, # set standardization=None  if you want to leave punctuation in\n",
        "                                    name='char_vectorizer')"
      ],
      "metadata": {
        "id": "Gh_jrBcWWzy7"
      },
      "execution_count": 68,
      "outputs": []
    },
    {
      "cell_type": "code",
      "source": [
        "# Adapt character vectorizer to training character\n",
        "char_vectorizer.adapt(train_chars)"
      ],
      "metadata": {
        "id": "9NxbCVp6XsC9"
      },
      "execution_count": 69,
      "outputs": []
    },
    {
      "cell_type": "code",
      "source": [
        "# Check character vocab stats\n",
        "char_vocab = char_vectorizer.get_vocabulary()\n",
        "print(f'Number of different characters in tha character vocab: {len(char_vocab)}')\n",
        "print(f'5 most common words: {char_vocab[:5]}')\n",
        "print(f'5 least common words: {char_vocab[-5:]}')"
      ],
      "metadata": {
        "colab": {
          "base_uri": "https://localhost:8080/"
        },
        "id": "iF1lmKNlX72C",
        "outputId": "060056f2-13e8-49b7-89f3-c1b700eb0c8d"
      },
      "execution_count": 70,
      "outputs": [
        {
          "output_type": "stream",
          "name": "stdout",
          "text": [
            "Number of different characters in tha character vocab: 28\n",
            "5 most common words: ['', '[UNK]', 'e', 't', 'i']\n",
            "5 least common words: ['k', 'x', 'z', 'q', 'j']\n"
          ]
        }
      ]
    },
    {
      "cell_type": "code",
      "source": [
        "# Test our character vectorization\n",
        "random_train_chars = random.choice(train_chars)\n",
        "print(f'Random chars before vectorization:\\n{random_train_chars}\\n')\n",
        "print(f'After char vectorization:\\n{char_vectorizer([random_train_chars])}\\n')\n",
        "print(f'Length of the vectorization:{len(char_vectorizer([random_train_chars])[0])}')"
      ],
      "metadata": {
        "colab": {
          "base_uri": "https://localhost:8080/"
        },
        "id": "RxLO5Y3NZfvi",
        "outputId": "dca533e4-641d-4455-ad44-088c7243ac8d"
      },
      "execution_count": 71,
      "outputs": [
        {
          "output_type": "stream",
          "name": "stdout",
          "text": [
            "Random chars before vectorization:\n",
            "a   s i g n i f i c a n t   p o s i t i v e   c o r r e l a t i o n   (   r   =   @   ,   p   <   @   )   b e t w e e n   k n o w l e d g e   s c o r e s   a n d   b e h a v i o r   s c o r e s   w a s   o b s e r v e d   .\n",
            "\n",
            "After char vectorization:\n",
            "[[ 5  9  4 18  6  4 17  4 11  5  6  3 14  7  9  4  3  4 21  2 11  7  8  8\n",
            "   2 12  5  3  4  7  6  8 14 22  2  3 20  2  2  6 23  6  7 20 12  2 10 18\n",
            "   2  9 11  7  8  2  9  5  6 10 22  2 13  5 21  4  7  8  9 11  7  8  2  9\n",
            "  20  5  9  7 22  9  2  8 21  2 10  0  0  0  0  0  0  0  0  0  0  0  0  0\n",
            "   0  0  0  0  0  0  0  0  0  0  0  0  0  0  0  0  0  0  0  0  0  0  0  0\n",
            "   0  0  0  0  0  0  0  0  0  0  0  0  0  0  0  0  0  0  0  0  0  0  0  0\n",
            "   0  0  0  0  0  0  0  0  0  0  0  0  0  0  0  0  0  0  0  0  0  0  0  0\n",
            "   0  0  0  0  0  0  0  0  0  0  0  0  0  0  0  0  0  0  0  0  0  0  0  0\n",
            "   0  0  0  0  0  0  0  0  0  0  0  0  0  0  0  0  0  0  0  0  0  0  0  0\n",
            "   0  0  0  0  0  0  0  0  0  0  0  0  0  0  0  0  0  0  0  0  0  0  0  0\n",
            "   0  0  0  0  0  0  0  0  0  0  0  0  0  0  0  0  0  0  0  0  0  0  0  0\n",
            "   0  0  0  0  0  0  0  0  0  0  0  0  0  0  0  0  0  0  0  0  0  0  0  0\n",
            "   0  0]]\n",
            "\n",
            "Length of the vectorization:290\n"
          ]
        }
      ]
    },
    {
      "cell_type": "code",
      "source": [
        "# Create char embedding layer\n",
        "char_embed = layers.Embedding(input_dim=len(char_vocab), # number of different charachters\n",
        "                              output_dim=25, # got this values from original paper\n",
        "                              mask_zero=True,\n",
        "                              name='char_embedding')"
      ],
      "metadata": {
        "id": "ZHsmEJSyahgx"
      },
      "execution_count": 72,
      "outputs": []
    },
    {
      "cell_type": "code",
      "source": [
        "# Test out charachter embedding\n",
        "print(f'Charified text:\\n{random_train_chars}\\n')\n",
        "char_embed_example = char_embed(char_vectorizer([random_train_chars]))\n",
        "print(f'Embedded char:\\n{char_embed_example}\\n')\n",
        "print(f'Embedded char shape:{char_embed_example.shape}')"
      ],
      "metadata": {
        "colab": {
          "base_uri": "https://localhost:8080/"
        },
        "id": "mXmaF_XCfZRb",
        "outputId": "e2aa71cc-100d-44df-a609-2f4367ccd019"
      },
      "execution_count": 73,
      "outputs": [
        {
          "output_type": "stream",
          "name": "stdout",
          "text": [
            "Charified text:\n",
            "a   s i g n i f i c a n t   p o s i t i v e   c o r r e l a t i o n   (   r   =   @   ,   p   <   @   )   b e t w e e n   k n o w l e d g e   s c o r e s   a n d   b e h a v i o r   s c o r e s   w a s   o b s e r v e d   .\n",
            "\n",
            "Embedded char:\n",
            "[[[ 0.03624261 -0.01055781  0.00943837 ...  0.03501329  0.02960912\n",
            "    0.04301048]\n",
            "  [-0.01882263  0.04849602 -0.02233435 ... -0.02568499 -0.01175529\n",
            "    0.02897188]\n",
            "  [-0.0361715   0.02259393 -0.02021216 ... -0.02381377 -0.00417192\n",
            "   -0.01762808]\n",
            "  ...\n",
            "  [-0.0270293  -0.02509948  0.0422591  ... -0.0384859  -0.01886392\n",
            "   -0.03260605]\n",
            "  [-0.0270293  -0.02509948  0.0422591  ... -0.0384859  -0.01886392\n",
            "   -0.03260605]\n",
            "  [-0.0270293  -0.02509948  0.0422591  ... -0.0384859  -0.01886392\n",
            "   -0.03260605]]]\n",
            "\n",
            "Embedded char shape:(1, 290, 25)\n"
          ]
        }
      ]
    },
    {
      "cell_type": "code",
      "source": [
        "# Build Conv1D model for character embeded data\n",
        "inputs = layers.Input(shape=(1,), dtype=tf.string)\n",
        "x = char_vectorizer(inputs) # text vectorization layer\n",
        "x = char_embed(x) # embedding layer\n",
        "x = layers.Conv1D(filters=64,\n",
        "                  kernel_size=5,\n",
        "                  activation='relu',\n",
        "                  padding='same',\n",
        "                  strides=1)(x) # Conv1D layer\n",
        "x = layers.GlobalMaxPool1D()(x) # Global Pooling Layer\n",
        "outputs = layers.Dense(num_classes, activation='softmax')(x)\n",
        "model_3 = tf.keras.Model(inputs, outputs, name='Model_3_Conv1D')\n",
        "\n",
        "# Compile the model\n",
        "model_3.compile(\n",
        "    loss='categorical_crossentropy',\n",
        "    optimizer=tf.keras.optimizers.Adam(),\n",
        "    metrics=['accuracy']\n",
        ")"
      ],
      "metadata": {
        "id": "Nspougj_f2p3"
      },
      "execution_count": 74,
      "outputs": []
    },
    {
      "cell_type": "code",
      "source": [
        "# Get the model summary\n",
        "model_3.summary()"
      ],
      "metadata": {
        "colab": {
          "base_uri": "https://localhost:8080/"
        },
        "id": "ouyIxi-xhEre",
        "outputId": "601ad4a0-ac09-4d81-8f15-f9780af80507"
      },
      "execution_count": 75,
      "outputs": [
        {
          "output_type": "stream",
          "name": "stdout",
          "text": [
            "Model: \"Model_3_Conv1D\"\n",
            "_________________________________________________________________\n",
            " Layer (type)                Output Shape              Param #   \n",
            "=================================================================\n",
            " input_2 (InputLayer)        [(None, 1)]               0         \n",
            "                                                                 \n",
            " char_vectorizer (TextVector  (None, 290)              0         \n",
            " ization)                                                        \n",
            "                                                                 \n",
            " char_embedding (Embedding)  (None, 290, 25)           700       \n",
            "                                                                 \n",
            " conv1d_1 (Conv1D)           (None, 290, 64)           8064      \n",
            "                                                                 \n",
            " global_max_pooling1d_1 (Glo  (None, 64)               0         \n",
            " balMaxPooling1D)                                                \n",
            "                                                                 \n",
            " dense_3 (Dense)             (None, 5)                 325       \n",
            "                                                                 \n",
            "=================================================================\n",
            "Total params: 9,089\n",
            "Trainable params: 9,089\n",
            "Non-trainable params: 0\n",
            "_________________________________________________________________\n"
          ]
        }
      ]
    },
    {
      "cell_type": "code",
      "source": [
        "# Turn char data into TnesorFlow Datasets\n",
        "train_dataset_char = tf.data.Dataset.from_tensor_slices((train_chars, train_labels_one_hot))\n",
        "val_dataset_char = tf.data.Dataset.from_tensor_slices((val_chars, val_labels_one_hot))\n",
        "test_dataset_char = tf.data.Dataset.from_tensor_slices((test_chars, test_labels_one_hot))\n",
        "\n",
        "# Take the TensorSliceDataset's and turn them into prefected datasets\n",
        "train_dataset_char = train_dataset_char.batch(32).prefetch(tf.data.AUTOTUNE)\n",
        "val_dataset_char = val_dataset_char.batch(32).prefetch(tf.data.AUTOTUNE)\n",
        "test_dataset_char = test_dataset_char.batch(32).prefetch(tf.data.AUTOTUNE)\n",
        "\n",
        "train_dataset_char"
      ],
      "metadata": {
        "colab": {
          "base_uri": "https://localhost:8080/"
        },
        "id": "UjYJHV5Li82Y",
        "outputId": "b08029dd-584d-4a22-cc74-ce80b7151162"
      },
      "execution_count": 76,
      "outputs": [
        {
          "output_type": "execute_result",
          "data": {
            "text/plain": [
              "<_PrefetchDataset element_spec=(TensorSpec(shape=(None,), dtype=tf.string, name=None), TensorSpec(shape=(None, 5), dtype=tf.float64, name=None))>"
            ]
          },
          "metadata": {},
          "execution_count": 76
        }
      ]
    },
    {
      "cell_type": "code",
      "source": [
        "# Fit the model\n",
        "model_3_history = model_3.fit(train_dataset_char,\n",
        "                              steps_per_epoch=int(0.1*len(val_dataset_char)),\n",
        "                              epochs=5,\n",
        "                              validation_data=val_dataset_char,\n",
        "                              validation_steps=int(0.1*len(val_dataset_char)))"
      ],
      "metadata": {
        "colab": {
          "base_uri": "https://localhost:8080/"
        },
        "id": "xVPvSDNAhJ40",
        "outputId": "139a3568-d593-4bcb-a25b-bc07461fcaea"
      },
      "execution_count": 77,
      "outputs": [
        {
          "output_type": "stream",
          "name": "stdout",
          "text": [
            "Epoch 1/5\n",
            "94/94 [==============================] - 2s 14ms/step - loss: 1.4891 - accuracy: 0.3617 - val_loss: 1.4403 - val_accuracy: 0.4325\n",
            "Epoch 2/5\n",
            "94/94 [==============================] - 1s 8ms/step - loss: 1.4147 - accuracy: 0.4475 - val_loss: 1.3638 - val_accuracy: 0.4269\n",
            "Epoch 3/5\n",
            "94/94 [==============================] - 1s 8ms/step - loss: 1.3157 - accuracy: 0.4528 - val_loss: 1.2449 - val_accuracy: 0.4910\n",
            "Epoch 4/5\n",
            "94/94 [==============================] - 1s 8ms/step - loss: 1.2187 - accuracy: 0.5110 - val_loss: 1.1477 - val_accuracy: 0.5439\n",
            "Epoch 5/5\n",
            "94/94 [==============================] - 1s 8ms/step - loss: 1.1043 - accuracy: 0.5628 - val_loss: 1.0837 - val_accuracy: 0.5658\n"
          ]
        }
      ]
    },
    {
      "cell_type": "code",
      "source": [
        "# Evaluate the model on whole validation data\n",
        "model_3.evaluate(val_dataset_char)"
      ],
      "metadata": {
        "colab": {
          "base_uri": "https://localhost:8080/"
        },
        "id": "ixi_lf9zmwYW",
        "outputId": "c8c41f12-eb7a-40fc-ea2a-e79f0e28235c"
      },
      "execution_count": 78,
      "outputs": [
        {
          "output_type": "stream",
          "name": "stdout",
          "text": [
            "945/945 [==============================] - 4s 4ms/step - loss: 1.0881 - accuracy: 0.5663\n"
          ]
        },
        {
          "output_type": "execute_result",
          "data": {
            "text/plain": [
              "[1.0881471633911133, 0.5662650465965271]"
            ]
          },
          "metadata": {},
          "execution_count": 78
        }
      ]
    },
    {
      "cell_type": "code",
      "source": [
        "# Make some predictions\n",
        "model_3_preds_probs = model_3.predict(val_chars)\n",
        "model_3_preds = tf.argmax(model_3_preds_probs, axis=1)\n",
        "model_3_preds"
      ],
      "metadata": {
        "colab": {
          "base_uri": "https://localhost:8080/"
        },
        "id": "U90n77_NiS-U",
        "outputId": "2f9a858c-ba9d-4c94-df80-9e4a0f201f96"
      },
      "execution_count": 79,
      "outputs": [
        {
          "output_type": "stream",
          "name": "stdout",
          "text": [
            "945/945 [==============================] - 3s 3ms/step\n"
          ]
        },
        {
          "output_type": "execute_result",
          "data": {
            "text/plain": [
              "<tf.Tensor: shape=(30212,), dtype=int64, numpy=array([1, 1, 2, ..., 4, 4, 0])>"
            ]
          },
          "metadata": {},
          "execution_count": 79
        }
      ]
    },
    {
      "cell_type": "code",
      "source": [
        "# Calculate the results\n",
        "model_3_results = calculate_results(y_true=val_labels_encoded,\n",
        "                                    y_pred=model_3_preds)\n",
        "model_3_results"
      ],
      "metadata": {
        "colab": {
          "base_uri": "https://localhost:8080/"
        },
        "id": "Re-kedgAmuni",
        "outputId": "1e533e83-4188-4102-fffa-6a3e5a9d364e"
      },
      "execution_count": 80,
      "outputs": [
        {
          "output_type": "execute_result",
          "data": {
            "text/plain": [
              "{'accuracy': 0.5662650602409639,\n",
              " 'precision': 0.5613553569047796,\n",
              " 'recall': 0.5662650602409639,\n",
              " 'f1': 0.5291198439291218}"
            ]
          },
          "metadata": {},
          "execution_count": 80
        }
      ]
    },
    {
      "cell_type": "markdown",
      "source": [
        "### Model 4: Combining pretrained token embeddings + character embenddings (hybrid)\n",
        "\n",
        "1. Create a token-level embedding model (similiar model_1)\n",
        "2. Create a character-level model (similiar model_3)\n",
        "3. Combine 1 and 2 with a concatenate (layers.Concatenate)\n",
        "4. Build a series of output layers\n",
        "5. Construct a model which takes token and character-level sequence as input and produces sequence label probabilities as output"
      ],
      "metadata": {
        "id": "eixkRydEnytQ"
      }
    },
    {
      "cell_type": "code",
      "source": [
        "# 1. Setup token inputs/model\n",
        "token_inputs = layers.Input(shape=[], dtype=tf.string, name='token_input')\n",
        "token_embeddings = sentence_encoder_layer(token_inputs)\n",
        "token_outputs = layers.Dense(128, activation='relu')(token_embeddings)\n",
        "token_model = tf.keras.Model(inputs=token_inputs,\n",
        "                             outputs=token_outputs)\n",
        "\n",
        "# 2. Setup char inputs/model\n",
        "char_inputs = layers.Input(shape=(1,), dtype=tf.string, name='char_input')\n",
        "char_vectors = char_vectorizer(char_inputs)\n",
        "char_embeddings = char_embed(char_vectors)\n",
        "char_bi_lstm = layers.Bidirectional(layers.LSTM(24))(char_embeddings)\n",
        "char_model = tf.keras.Model(inputs=char_inputs,\n",
        "                            outputs=char_bi_lstm)\n",
        "\n",
        "# 3. Concatenate token and char inputs (hybrid embedding)\n",
        "token_char_concat = layers.Concatenate(name='token_char_hybrid')([token_model.output, char_model.output])\n",
        "\n",
        "# 4. Create output layers - adding in Dropout\n",
        "combined_dropout = layers.Dropout(0.5)(token_char_concat)\n",
        "combined_dense = layers.Dense(128, activation='relu')(combined_dropout)\n",
        "final_dropout = layers.Dropout(0.5)(combined_dense)\n",
        "output_layer = layers.Dense(num_classes, activation='softmax')(final_dropout)\n",
        "\n",
        "# 5.Construct model with char and token inputs\n",
        "model_4 = tf.keras.Model(inputs=[token_model.input, char_model.input],\n",
        "                         outputs=output_layer,\n",
        "                         name='model_5_token_and_char_embedding')"
      ],
      "metadata": {
        "id": "7DhEzSfbAlEy"
      },
      "execution_count": 100,
      "outputs": []
    },
    {
      "cell_type": "code",
      "source": [
        "# Get the summary of model 4\n",
        "model_4.summary()"
      ],
      "metadata": {
        "colab": {
          "base_uri": "https://localhost:8080/"
        },
        "id": "ZRuB5xsJF-ea",
        "outputId": "0baa00c7-1803-44dd-d745-0ee96967a1ab"
      },
      "execution_count": 101,
      "outputs": [
        {
          "output_type": "stream",
          "name": "stdout",
          "text": [
            "Model: \"model_5_token_and_char_embedding\"\n",
            "__________________________________________________________________________________________________\n",
            " Layer (type)                   Output Shape         Param #     Connected to                     \n",
            "==================================================================================================\n",
            " char_input (InputLayer)        [(None, 1)]          0           []                               \n",
            "                                                                                                  \n",
            " token_input (InputLayer)       [(None,)]            0           []                               \n",
            "                                                                                                  \n",
            " char_vectorizer (TextVectoriza  (None, 290)         0           ['char_input[0][0]']             \n",
            " tion)                                                                                            \n",
            "                                                                                                  \n",
            " USE (KerasLayer)               (None, 512)          256797824   ['token_input[0][0]']            \n",
            "                                                                                                  \n",
            " char_embedding (Embedding)     (None, 290, 25)      700         ['char_vectorizer[4][0]']        \n",
            "                                                                                                  \n",
            " dense_14 (Dense)               (None, 128)          65664       ['USE[5][0]']                    \n",
            "                                                                                                  \n",
            " bidirectional_3 (Bidirectional  (None, 48)          9600        ['char_embedding[4][0]']         \n",
            " )                                                                                                \n",
            "                                                                                                  \n",
            " token_char_hybrid (Concatenate  (None, 176)         0           ['dense_14[0][0]',               \n",
            " )                                                                'bidirectional_3[0][0]']        \n",
            "                                                                                                  \n",
            " dropout_6 (Dropout)            (None, 176)          0           ['token_char_hybrid[0][0]']      \n",
            "                                                                                                  \n",
            " dense_15 (Dense)               (None, 128)          22656       ['dropout_6[0][0]']              \n",
            "                                                                                                  \n",
            " dropout_7 (Dropout)            (None, 128)          0           ['dense_15[0][0]']               \n",
            "                                                                                                  \n",
            " dense_16 (Dense)               (None, 5)            645         ['dropout_7[0][0]']              \n",
            "                                                                                                  \n",
            "==================================================================================================\n",
            "Total params: 256,897,089\n",
            "Trainable params: 99,265\n",
            "Non-trainable params: 256,797,824\n",
            "__________________________________________________________________________________________________\n"
          ]
        }
      ]
    },
    {
      "cell_type": "code",
      "source": [
        "# Plot hybrid token and character model\n",
        "from keras.utils import plot_model\n",
        "plot_model(model_4, show_shapes=True)"
      ],
      "metadata": {
        "colab": {
          "base_uri": "https://localhost:8080/",
          "height": 976
        },
        "id": "JIlzTYjcGWht",
        "outputId": "2d4ca514-7ce2-4119-a582-096e72cd066e"
      },
      "execution_count": 102,
      "outputs": [
        {
          "output_type": "execute_result",
          "data": {
            "image/png": "[encoded data removed]",
            "text/plain": [
              "<IPython.core.display.Image object>"
            ]
          },
          "metadata": {},
          "execution_count": 102
        }
      ]
    },
    {
      "cell_type": "code",
      "source": [
        "# Compile token char model\n",
        "model_4.compile(\n",
        "    loss='categorical_crossentropy',\n",
        "    optimizer=tf.keras.optimizers.Adam(),\n",
        "    metrics=['accuracy']\n",
        ")"
      ],
      "metadata": {
        "id": "Cl-LvjOIGzJJ"
      },
      "execution_count": 103,
      "outputs": []
    },
    {
      "cell_type": "code",
      "source": [
        "# Combine token and character data into tf.data Dataset\n",
        "train_token_char_data = tf.data.Dataset.from_tensor_slices((train_sentences, train_chars)) # make data\n",
        "train_token_char_labels = tf.data.Dataset.from_tensor_slices(train_labels_one_hot) # make labels\n",
        "train_token_char_dataset = tf.data.Dataset.zip((train_token_char_data, train_token_char_labels)) # combine data and labels\n",
        "\n",
        "# Prefetch and batch train data\n",
        "train_token_char_dataset = train_token_char_dataset.batch(32).prefetch(tf.data.AUTOTUNE)\n",
        "train_token_char_dataset"
      ],
      "metadata": {
        "colab": {
          "base_uri": "https://localhost:8080/"
        },
        "id": "6o19il9pIF-N",
        "outputId": "f5f0ef8f-a1c1-49f6-b4ee-b2aae85ee7d4"
      },
      "execution_count": 104,
      "outputs": [
        {
          "output_type": "execute_result",
          "data": {
            "text/plain": [
              "<_PrefetchDataset element_spec=((TensorSpec(shape=(None,), dtype=tf.string, name=None), TensorSpec(shape=(None,), dtype=tf.string, name=None)), TensorSpec(shape=(None, 5), dtype=tf.float64, name=None))>"
            ]
          },
          "metadata": {},
          "execution_count": 104
        }
      ]
    },
    {
      "cell_type": "code",
      "source": [
        "# Repat the above steps for our validation data\n",
        "val_token_char_data = tf.data.Dataset.from_tensor_slices((val_sentences, val_chars)) # make data\n",
        "val_token_char_labels = tf.data.Dataset.from_tensor_slices(val_labels_one_hot) # make labels\n",
        "val_token_char_dataset = tf.data.Dataset.zip((val_token_char_data, val_token_char_labels)) # combine data and labels\n",
        "\n",
        "# Prefetch and batch validation data\n",
        "val_token_char_dataset = val_token_char_dataset.batch(32).prefetch(tf.data.AUTOTUNE)\n",
        "val_token_char_dataset"
      ],
      "metadata": {
        "colab": {
          "base_uri": "https://localhost:8080/"
        },
        "id": "zSWciaWmKETt",
        "outputId": "e8436186-cb5f-43b4-8f05-351eb5955f86"
      },
      "execution_count": 105,
      "outputs": [
        {
          "output_type": "execute_result",
          "data": {
            "text/plain": [
              "<_PrefetchDataset element_spec=((TensorSpec(shape=(None,), dtype=tf.string, name=None), TensorSpec(shape=(None,), dtype=tf.string, name=None)), TensorSpec(shape=(None, 5), dtype=tf.float64, name=None))>"
            ]
          },
          "metadata": {},
          "execution_count": 105
        }
      ]
    },
    {
      "cell_type": "code",
      "source": [
        "# Fit the model 4\n",
        "model_4_history = model_4.fit(train_token_char_dataset,\n",
        "                              steps_per_epoch=int(0.1*len(train_token_char_dataset)),\n",
        "                              epochs=5,\n",
        "                              validation_data=val_token_char_dataset,\n",
        "                              validation_steps=int(0.1*len(val_token_char_dataset)))"
      ],
      "metadata": {
        "colab": {
          "base_uri": "https://localhost:8080/"
        },
        "id": "Q2x9ldAbKqdI",
        "outputId": "dc4a01c0-c676-49b1-e701-53d850f28192"
      },
      "execution_count": 106,
      "outputs": [
        {
          "output_type": "stream",
          "name": "stdout",
          "text": [
            "Epoch 1/5\n",
            "562/562 [==============================] - 39s 51ms/step - loss: 0.9705 - accuracy: 0.6118 - val_loss: 0.7655 - val_accuracy: 0.7035\n",
            "Epoch 2/5\n",
            "562/562 [==============================] - 25s 45ms/step - loss: 0.7939 - accuracy: 0.6897 - val_loss: 0.7106 - val_accuracy: 0.7304\n",
            "Epoch 3/5\n",
            "562/562 [==============================] - 23s 41ms/step - loss: 0.7680 - accuracy: 0.7089 - val_loss: 0.6859 - val_accuracy: 0.7417\n",
            "Epoch 4/5\n",
            "562/562 [==============================] - 26s 47ms/step - loss: 0.7366 - accuracy: 0.7221 - val_loss: 0.6650 - val_accuracy: 0.7573\n",
            "Epoch 5/5\n",
            "562/562 [==============================] - 25s 44ms/step - loss: 0.7468 - accuracy: 0.7160 - val_loss: 0.6551 - val_accuracy: 0.7470\n"
          ]
        }
      ]
    },
    {
      "cell_type": "code",
      "source": [
        "# Evaluate model on the whole validation data\n",
        "model_4.evaluate(val_token_char_dataset)"
      ],
      "metadata": {
        "colab": {
          "base_uri": "https://localhost:8080/"
        },
        "id": "_gLbzO-GLYdj",
        "outputId": "e7cae4c7-d78c-4e4b-ae7c-bdd0fde32ef5"
      },
      "execution_count": 107,
      "outputs": [
        {
          "output_type": "stream",
          "name": "stdout",
          "text": [
            "945/945 [==============================] - 18s 19ms/step - loss: 0.6626 - accuracy: 0.7456\n"
          ]
        },
        {
          "output_type": "execute_result",
          "data": {
            "text/plain": [
              "[0.662582516670227, 0.7456308603286743]"
            ]
          },
          "metadata": {},
          "execution_count": 107
        }
      ]
    },
    {
      "cell_type": "code",
      "source": [
        "# Make some prediction\n",
        "model_4_preds_probs = model_4.predict(val_token_char_dataset)\n",
        "model_4_preds_probs"
      ],
      "metadata": {
        "colab": {
          "base_uri": "https://localhost:8080/"
        },
        "id": "BF8u30iCNahb",
        "outputId": "9151933d-1f9f-405a-8cca-d70b5165a591"
      },
      "execution_count": 111,
      "outputs": [
        {
          "output_type": "stream",
          "name": "stdout",
          "text": [
            "945/945 [==============================] - 17s 18ms/step\n"
          ]
        },
        {
          "output_type": "execute_result",
          "data": {
            "text/plain": [
              "array([[4.82008904e-01, 2.92412996e-01, 8.17998685e-03, 2.04710662e-01,\n",
              "        1.26874875e-02],\n",
              "       [3.63635242e-01, 4.97206658e-01, 6.17121160e-03, 1.26755416e-01,\n",
              "        6.23146072e-03],\n",
              "       [3.18921715e-01, 8.86091664e-02, 1.37929037e-01, 4.12202060e-01,\n",
              "        4.23380844e-02],\n",
              "       ...,\n",
              "       [6.91966154e-04, 3.77399917e-03, 5.85372336e-02, 1.97586385e-04,\n",
              "        9.36799228e-01],\n",
              "       [7.10435351e-03, 2.78310515e-02, 4.42740053e-01, 3.67917703e-03,\n",
              "        5.18645346e-01],\n",
              "       [1.82400942e-01, 5.36143661e-01, 2.18850955e-01, 1.14171384e-02,\n",
              "        5.11873700e-02]], dtype=float32)"
            ]
          },
          "metadata": {},
          "execution_count": 111
        }
      ]
    },
    {
      "cell_type": "code",
      "source": [
        "# Convert prediction probabilities into classes\n",
        "model_4_preds = tf.argmax(model_4_preds_probs, axis=1)\n",
        "model_4_preds"
      ],
      "metadata": {
        "colab": {
          "base_uri": "https://localhost:8080/"
        },
        "id": "IHVip6Z_Nk36",
        "outputId": "58243556-acfc-4cee-96ac-f96b599a0116"
      },
      "execution_count": 112,
      "outputs": [
        {
          "output_type": "execute_result",
          "data": {
            "text/plain": [
              "<tf.Tensor: shape=(30212,), dtype=int64, numpy=array([0, 1, 3, ..., 4, 4, 1])>"
            ]
          },
          "metadata": {},
          "execution_count": 112
        }
      ]
    },
    {
      "cell_type": "code",
      "source": [
        "# Calculate the results\n",
        "model_4_results = calculate_results(y_true=val_labels_encoded,\n",
        "                                    y_pred=model_4_preds)\n",
        "model_4_results"
      ],
      "metadata": {
        "colab": {
          "base_uri": "https://localhost:8080/"
        },
        "id": "vAq1SyoXNuNz",
        "outputId": "4684cf1c-f6f1-4803-81c5-774791d1be00"
      },
      "execution_count": 115,
      "outputs": [
        {
          "output_type": "execute_result",
          "data": {
            "text/plain": [
              "{'accuracy': 0.7456308751489474,\n",
              " 'precision': 0.7423146234243302,\n",
              " 'recall': 0.7456308751489474,\n",
              " 'f1': 0.739784894222652}"
            ]
          },
          "metadata": {},
          "execution_count": 115
        }
      ]
    },
    {
      "cell_type": "code",
      "source": [],
      "metadata": {
        "id": "G1KRP3chOZHV"
      },
      "execution_count": null,
      "outputs": []
    }
  ]
}