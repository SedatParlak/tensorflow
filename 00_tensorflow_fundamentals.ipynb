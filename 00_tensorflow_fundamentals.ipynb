{
 "cells": [
  {
   "cell_type": "markdown",
   "metadata": {
    "toc": true
   },
   "source": [
    "<h1>Table of Contents<span class=\"tocSkip\"></span></h1>\n",
    "<div class=\"toc\"><ul class=\"toc-item\"><li><span><a href=\"#In-this-notebook,-We-will-discover-fundamentals-of-tensors-with-TensorFlow.\" data-toc-modified-id=\"In-this-notebook,-We-will-discover-fundamentals-of-tensors-with-TensorFlow.-1\"><span class=\"toc-item-num\">1&nbsp;&nbsp;</span>In this notebook, We will discover fundamentals of tensors with TensorFlow.</a></span><ul class=\"toc-item\"><li><span><a href=\"#Introduction-to-Tensors\" data-toc-modified-id=\"Introduction-to-Tensors-1.1\"><span class=\"toc-item-num\">1.1&nbsp;&nbsp;</span>Introduction to Tensors</a></span><ul class=\"toc-item\"><li><span><a href=\"#Creating-tensors-with-'tf.Variable'\" data-toc-modified-id=\"Creating-tensors-with-'tf.Variable'-1.1.1\"><span class=\"toc-item-num\">1.1.1&nbsp;&nbsp;</span>Creating tensors with 'tf.Variable'</a></span></li><li><span><a href=\"#Creating-random-tensors\" data-toc-modified-id=\"Creating-random-tensors-1.1.2\"><span class=\"toc-item-num\">1.1.2&nbsp;&nbsp;</span>Creating random tensors</a></span></li><li><span><a href=\"#Suffle-the-order-of-elements-in-a-tensor\" data-toc-modified-id=\"Suffle-the-order-of-elements-in-a-tensor-1.1.3\"><span class=\"toc-item-num\">1.1.3&nbsp;&nbsp;</span>Suffle the order of elements in a tensor</a></span></li><li><span><a href=\"#Other-ways-to-make-tensors\" data-toc-modified-id=\"Other-ways-to-make-tensors-1.1.4\"><span class=\"toc-item-num\">1.1.4&nbsp;&nbsp;</span>Other ways to make tensors</a></span></li><li><span><a href=\"#Turn-Numpy-arrays-into-tensors\" data-toc-modified-id=\"Turn-Numpy-arrays-into-tensors-1.1.5\"><span class=\"toc-item-num\">1.1.5&nbsp;&nbsp;</span>Turn Numpy arrays into tensors</a></span></li><li><span><a href=\"#Getting-information-from-tensors\" data-toc-modified-id=\"Getting-information-from-tensors-1.1.6\"><span class=\"toc-item-num\">1.1.6&nbsp;&nbsp;</span>Getting information from tensors</a></span></li><li><span><a href=\"#Tensor-Indexing\" data-toc-modified-id=\"Tensor-Indexing-1.1.7\"><span class=\"toc-item-num\">1.1.7&nbsp;&nbsp;</span>Tensor Indexing</a></span></li><li><span><a href=\"#Manipulating-tensors-(tensors-operations)\" data-toc-modified-id=\"Manipulating-tensors-(tensors-operations)-1.1.8\"><span class=\"toc-item-num\">1.1.8&nbsp;&nbsp;</span>Manipulating tensors (tensors operations)</a></span></li><li><span><a href=\"#Changing-datatype-of-a-tensor\" data-toc-modified-id=\"Changing-datatype-of-a-tensor-1.1.9\"><span class=\"toc-item-num\">1.1.9&nbsp;&nbsp;</span>Changing datatype of a tensor</a></span></li><li><span><a href=\"#Aggregating-tensors\" data-toc-modified-id=\"Aggregating-tensors-1.1.10\"><span class=\"toc-item-num\">1.1.10&nbsp;&nbsp;</span>Aggregating tensors</a></span></li><li><span><a href=\"#Find-the-positional-maximum-and-minumum\" data-toc-modified-id=\"Find-the-positional-maximum-and-minumum-1.1.11\"><span class=\"toc-item-num\">1.1.11&nbsp;&nbsp;</span>Find the positional maximum and minumum</a></span></li><li><span><a href=\"#Squeezing-tensor-(removing-all-single-dimension)\" data-toc-modified-id=\"Squeezing-tensor-(removing-all-single-dimension)-1.1.12\"><span class=\"toc-item-num\">1.1.12&nbsp;&nbsp;</span>Squeezing tensor (removing all single dimension)</a></span></li><li><span><a href=\"#One-hot-encoding-tensors\" data-toc-modified-id=\"One-hot-encoding-tensors-1.1.13\"><span class=\"toc-item-num\">1.1.13&nbsp;&nbsp;</span>One-hot encoding tensors</a></span></li><li><span><a href=\"#Squaring,-log,-square-root\" data-toc-modified-id=\"Squaring,-log,-square-root-1.1.14\"><span class=\"toc-item-num\">1.1.14&nbsp;&nbsp;</span>Squaring, log, square root</a></span></li><li><span><a href=\"#Tensors-and-Numpy\" data-toc-modified-id=\"Tensors-and-Numpy-1.1.15\"><span class=\"toc-item-num\">1.1.15&nbsp;&nbsp;</span>Tensors and Numpy</a></span></li><li><span><a href=\"#Finding-access-to-CPUs\" data-toc-modified-id=\"Finding-access-to-CPUs-1.1.16\"><span class=\"toc-item-num\">1.1.16&nbsp;&nbsp;</span>Finding access to CPUs</a></span></li><li><span><a href=\"#Exercises\" data-toc-modified-id=\"Exercises-1.1.17\"><span class=\"toc-item-num\">1.1.17&nbsp;&nbsp;</span>Exercises</a></span></li></ul></li></ul></li></ul></div>"
   ]
  },
  {
   "cell_type": "markdown",
   "metadata": {
    "id": "XlqMeUQxtlbr"
   },
   "source": [
    "# In this notebook, We will discover fundamentals of tensors with TensorFlow.\n",
    "\n",
    "More specifally, we are going to cover:\n",
    "* Introduction to tensors\n",
    "* Getting information from tensors\n",
    "* Manipulating tensors\n",
    "* Tensors & Numpy\n",
    "* Using @tf.function (a way to speed up your Python functions)\n",
    "* Using GPU's with Tensorflow (or TPU's)\n",
    "* Exercises\n",
    "\n",
    "\n"
   ]
  },
  {
   "cell_type": "markdown",
   "metadata": {
    "id": "ano9ELVbu1Ck"
   },
   "source": [
    "## Introduction to Tensors"
   ]
  },
  {
   "cell_type": "code",
   "execution_count": null,
   "metadata": {
    "colab": {
     "base_uri": "https://localhost:8080/"
    },
    "id": "YgX-drYoxzyu",
    "outputId": "600d20a3-f920-41f9-cdd6-299a2971c3c4"
   },
   "outputs": [
    {
     "name": "stdout",
     "output_type": "stream",
     "text": [
      "2.12.0\n"
     ]
    }
   ],
   "source": [
    "# Import tensorflow and check version\n",
    "import tensorflow as tf\n",
    "print(tf.__version__)"
   ]
  },
  {
   "cell_type": "code",
   "execution_count": null,
   "metadata": {
    "colab": {
     "base_uri": "https://localhost:8080/"
    },
    "id": "xCw_mHOFyG0E",
    "outputId": "3e69142e-9040-46d2-88ed-68bd315b8338"
   },
   "outputs": [
    {
     "data": {
      "text/plain": [
       "<tf.Tensor: shape=(), dtype=int32, numpy=7>"
      ]
     },
     "execution_count": 3,
     "metadata": {},
     "output_type": "execute_result"
    }
   ],
   "source": [
    "# Create tensors with tf.constant()\n",
    "scalar = tf.constant(7)\n",
    "scalar"
   ]
  },
  {
   "cell_type": "code",
   "execution_count": null,
   "metadata": {
    "colab": {
     "base_uri": "https://localhost:8080/"
    },
    "id": "86bb1KH1zenY",
    "outputId": "6d3ba5b7-7ec8-4410-b522-ef2e7c41579d"
   },
   "outputs": [
    {
     "data": {
      "text/plain": [
       "0"
      ]
     },
     "execution_count": 4,
     "metadata": {},
     "output_type": "execute_result"
    }
   ],
   "source": [
    "# Check the number of dimension of a tensor (ndim stands for number of dimensions)\n",
    "scalar.ndim"
   ]
  },
  {
   "cell_type": "code",
   "execution_count": null,
   "metadata": {
    "colab": {
     "base_uri": "https://localhost:8080/"
    },
    "id": "zXxeK01z0JmH",
    "outputId": "ccee6229-7c42-483e-970a-5ef9267e21be"
   },
   "outputs": [
    {
     "data": {
      "text/plain": [
       "<tf.Tensor: shape=(4,), dtype=int32, numpy=array([10,  5,  9,  1], dtype=int32)>"
      ]
     },
     "execution_count": 5,
     "metadata": {},
     "output_type": "execute_result"
    }
   ],
   "source": [
    "# Create a vector\n",
    "vector = tf.constant([10, 5, 9, 1])\n",
    "vector"
   ]
  },
  {
   "cell_type": "code",
   "execution_count": null,
   "metadata": {
    "colab": {
     "base_uri": "https://localhost:8080/"
    },
    "id": "swDbGeKC0pzu",
    "outputId": "9763c37b-7b06-48ec-da67-7f6dccc0a893"
   },
   "outputs": [
    {
     "data": {
      "text/plain": [
       "1"
      ]
     },
     "execution_count": 6,
     "metadata": {},
     "output_type": "execute_result"
    }
   ],
   "source": [
    "# Check the dimension of vector\n",
    "vector.ndim"
   ]
  },
  {
   "cell_type": "code",
   "execution_count": null,
   "metadata": {
    "colab": {
     "base_uri": "https://localhost:8080/"
    },
    "id": "f9EJvJKl1Onm",
    "outputId": "1009eeab-a409-4606-c378-4ef23b23621f"
   },
   "outputs": [
    {
     "data": {
      "text/plain": [
       "<tf.Tensor: shape=(2, 2), dtype=int32, numpy=\n",
       "array([[10,  7],\n",
       "       [ 7, 10]], dtype=int32)>"
      ]
     },
     "execution_count": 7,
     "metadata": {},
     "output_type": "execute_result"
    }
   ],
   "source": [
    "# Create a matrix\n",
    "matrix = tf.constant([[10, 7],\n",
    "                      [7, 10]])\n",
    "matrix"
   ]
  },
  {
   "cell_type": "code",
   "execution_count": null,
   "metadata": {
    "colab": {
     "base_uri": "https://localhost:8080/"
    },
    "id": "y1RUlpkK1epD",
    "outputId": "dd5486eb-e37f-4c27-a846-58ab02f4bddb"
   },
   "outputs": [
    {
     "data": {
      "text/plain": [
       "2"
      ]
     },
     "execution_count": 8,
     "metadata": {},
     "output_type": "execute_result"
    }
   ],
   "source": [
    "# Check the dimension of matrix\n",
    "matrix.ndim"
   ]
  },
  {
   "cell_type": "code",
   "execution_count": null,
   "metadata": {
    "colab": {
     "base_uri": "https://localhost:8080/"
    },
    "id": "Fgog_G431guy",
    "outputId": "42dc31d3-c6b9-4813-e7ef-d9fa75f3019f"
   },
   "outputs": [
    {
     "data": {
      "text/plain": [
       "<tf.Tensor: shape=(3, 2), dtype=float16, numpy=\n",
       "array([[10. ,  7. ],\n",
       "       [ 3.2,  5. ],\n",
       "       [ 8.1,  2.1]], dtype=float16)>"
      ]
     },
     "execution_count": 9,
     "metadata": {},
     "output_type": "execute_result"
    }
   ],
   "source": [
    "# Create another matrix\n",
    "another_matrix = tf.constant([[10., 7.],\n",
    "                              [3.2, 5.],\n",
    "                              [8.1, 2.1]], dtype=tf.float16) # specify data with dtype parameter\n",
    "another_matrix"
   ]
  },
  {
   "cell_type": "code",
   "execution_count": null,
   "metadata": {
    "colab": {
     "base_uri": "https://localhost:8080/"
    },
    "id": "0wb0ka4o25cJ",
    "outputId": "f0ec3b02-d310-45ce-8771-296a6ea5c58f"
   },
   "outputs": [
    {
     "data": {
      "text/plain": [
       "2"
      ]
     },
     "execution_count": 10,
     "metadata": {},
     "output_type": "execute_result"
    }
   ],
   "source": [
    "# Check the dimension of anorher matrix\n",
    "another_matrix.ndim"
   ]
  },
  {
   "cell_type": "code",
   "execution_count": null,
   "metadata": {
    "colab": {
     "base_uri": "https://localhost:8080/"
    },
    "id": "9FdlMAJg3Fo4",
    "outputId": "332711ab-8127-49aa-fb47-f2c84ab8ce24"
   },
   "outputs": [
    {
     "data": {
      "text/plain": [
       "<tf.Tensor: shape=(3, 2, 3), dtype=int32, numpy=\n",
       "array([[[ 1,  2,  3],\n",
       "        [ 4,  5,  6]],\n",
       "\n",
       "       [[ 7,  8,  9],\n",
       "        [10, 11, 12]],\n",
       "\n",
       "       [[13, 14, 15],\n",
       "        [16, 17, 18]]], dtype=int32)>"
      ]
     },
     "execution_count": 11,
     "metadata": {},
     "output_type": "execute_result"
    }
   ],
   "source": [
    "# Create a tensor\n",
    "tensor = tf.constant([[[1, 2, 3],\n",
    "                       [4, 5, 6]],\n",
    "                      [[7, 8, 9],\n",
    "                       [10, 11, 12]],\n",
    "                      [[13, 14, 15],\n",
    "                       [16, 17, 18]]])\n",
    "tensor"
   ]
  },
  {
   "cell_type": "code",
   "execution_count": null,
   "metadata": {
    "colab": {
     "base_uri": "https://localhost:8080/"
    },
    "id": "FA3tZR3O4OWW",
    "outputId": "3df02f2f-2a53-45f4-af45-0ca9e123203a"
   },
   "outputs": [
    {
     "data": {
      "text/plain": [
       "3"
      ]
     },
     "execution_count": 12,
     "metadata": {},
     "output_type": "execute_result"
    }
   ],
   "source": [
    "# Check the dimension of tensor\n",
    "tensor.ndim"
   ]
  },
  {
   "cell_type": "markdown",
   "metadata": {
    "id": "4-sqPrxG4lei"
   },
   "source": [
    "What we've covered so for:\n",
    "* Scalar: a single number\n",
    "* Vector: a number with direction (e.g. wind speed and direction)\n",
    "* Matrix: a 2-dimensional array of numbers\n",
    "* Tensor: a n-dimensional array of numbers (When n can be any number. 0 dimensinal tensor is a scalar, 1 dimensional tensor is a vector, 2 dimensional tensor is a matrix)"
   ]
  },
  {
   "cell_type": "markdown",
   "metadata": {
    "id": "KhR_ENQE53p_"
   },
   "source": [
    "### Creating tensors with 'tf.Variable'"
   ]
  },
  {
   "cell_type": "code",
   "execution_count": null,
   "metadata": {
    "colab": {
     "base_uri": "https://localhost:8080/"
    },
    "id": "2mygyxWF79Xk",
    "outputId": "77ba10ff-caec-46c9-9e31-638c60209c6f"
   },
   "outputs": [
    {
     "data": {
      "text/plain": [
       "(<tf.Variable 'Variable:0' shape=(2,) dtype=int32, numpy=array([10,  7], dtype=int32)>,\n",
       " <tf.Tensor: shape=(2,), dtype=int32, numpy=array([10,  7], dtype=int32)>)"
      ]
     },
     "execution_count": 13,
     "metadata": {},
     "output_type": "execute_result"
    }
   ],
   "source": [
    "# Create the same tensors with tf.Variable() as above\n",
    "changeable_tensor = tf.Variable([10, 7]) # be careful we used tf.Variable\n",
    "unchangeable_tensor = tf.constant([10, 7]) # be careful we used tf.constant\n",
    "changeable_tensor, unchangeable_tensor"
   ]
  },
  {
   "cell_type": "code",
   "execution_count": null,
   "metadata": {
    "colab": {
     "base_uri": "https://localhost:8080/",
     "height": 183
    },
    "id": "Y-z7K-VdACqD",
    "outputId": "faa0482d-d20a-4b8a-889b-1ccd8c71717c"
   },
   "outputs": [
    {
     "ename": "TypeError",
     "evalue": "ignored",
     "output_type": "error",
     "traceback": [
      "\u001b[0;31m---------------------------------------------------------------------------\u001b[0m",
      "\u001b[0;31mTypeError\u001b[0m                                 Traceback (most recent call last)",
      "\u001b[0;32m<ipython-input-14-fdf0d76c1403>\u001b[0m in \u001b[0;36m<cell line: 2>\u001b[0;34m()\u001b[0m\n\u001b[1;32m      1\u001b[0m \u001b[0;31m# Let's try change one of the element in changeable tensor\u001b[0m\u001b[0;34m\u001b[0m\u001b[0;34m\u001b[0m\u001b[0m\n\u001b[0;32m----> 2\u001b[0;31m \u001b[0mchangeable_tensor\u001b[0m\u001b[0;34m[\u001b[0m\u001b[0;36m0\u001b[0m\u001b[0;34m]\u001b[0m \u001b[0;34m=\u001b[0m \u001b[0;36m5\u001b[0m\u001b[0;34m\u001b[0m\u001b[0;34m\u001b[0m\u001b[0m\n\u001b[0m",
      "\u001b[0;31mTypeError\u001b[0m: 'ResourceVariable' object does not support item assignment"
     ]
    }
   ],
   "source": [
    "# Let's try change one of the element in changeable tensor\n",
    "changeable_tensor[0] = 5"
   ]
  },
  {
   "cell_type": "code",
   "execution_count": null,
   "metadata": {
    "colab": {
     "base_uri": "https://localhost:8080/"
    },
    "id": "-9DcKbKlCwPO",
    "outputId": "e50a9c67-8d23-4a20-a75d-3ebe6c1507c1"
   },
   "outputs": [
    {
     "data": {
      "text/plain": [
       "<tf.Variable 'Variable:0' shape=(2,) dtype=int32, numpy=array([7, 7], dtype=int32)>"
      ]
     },
     "execution_count": 15,
     "metadata": {},
     "output_type": "execute_result"
    }
   ],
   "source": [
    "# How about we try .assing()\n",
    "changeable_tensor[0].assign(7)\n",
    "changeable_tensor"
   ]
  },
  {
   "cell_type": "code",
   "execution_count": null,
   "metadata": {
    "colab": {
     "base_uri": "https://localhost:8080/",
     "height": 305
    },
    "id": "uMEHMx50DF7Z",
    "outputId": "76a90fca-cdff-484b-ac62-9a16d3760b9a"
   },
   "outputs": [
    {
     "ename": "AttributeError",
     "evalue": "ignored",
     "output_type": "error",
     "traceback": [
      "\u001b[0;31m---------------------------------------------------------------------------\u001b[0m",
      "\u001b[0;31mAttributeError\u001b[0m                            Traceback (most recent call last)",
      "\u001b[0;32m<ipython-input-16-9ba3cd100180>\u001b[0m in \u001b[0;36m<cell line: 2>\u001b[0;34m()\u001b[0m\n\u001b[1;32m      1\u001b[0m \u001b[0;31m# Let's try to change one element of unchangeable tensor\u001b[0m\u001b[0;34m\u001b[0m\u001b[0;34m\u001b[0m\u001b[0m\n\u001b[0;32m----> 2\u001b[0;31m \u001b[0munchangeable_tensor\u001b[0m\u001b[0;34m[\u001b[0m\u001b[0;36m0\u001b[0m\u001b[0;34m]\u001b[0m\u001b[0;34m.\u001b[0m\u001b[0massign\u001b[0m\u001b[0;34m(\u001b[0m\u001b[0;36m7\u001b[0m\u001b[0;34m)\u001b[0m\u001b[0;34m\u001b[0m\u001b[0;34m\u001b[0m\u001b[0m\n\u001b[0m",
      "\u001b[0;32m/usr/local/lib/python3.9/dist-packages/tensorflow/python/framework/ops.py\u001b[0m in \u001b[0;36m__getattr__\u001b[0;34m(self, name)\u001b[0m\n\u001b[1;32m    442\u001b[0m         \u001b[0mnp_config\u001b[0m\u001b[0;34m.\u001b[0m\u001b[0menable_numpy_behavior\u001b[0m\u001b[0;34m(\u001b[0m\u001b[0;34m)\u001b[0m\u001b[0;34m\u001b[0m\u001b[0;34m\u001b[0m\u001b[0m\n\u001b[1;32m    443\u001b[0m       \"\"\")\n\u001b[0;32m--> 444\u001b[0;31m     \u001b[0mself\u001b[0m\u001b[0;34m.\u001b[0m\u001b[0m__getattribute__\u001b[0m\u001b[0;34m(\u001b[0m\u001b[0mname\u001b[0m\u001b[0;34m)\u001b[0m\u001b[0;34m\u001b[0m\u001b[0;34m\u001b[0m\u001b[0m\n\u001b[0m\u001b[1;32m    445\u001b[0m \u001b[0;34m\u001b[0m\u001b[0m\n\u001b[1;32m    446\u001b[0m   \u001b[0;34m@\u001b[0m\u001b[0mstaticmethod\u001b[0m\u001b[0;34m\u001b[0m\u001b[0;34m\u001b[0m\u001b[0m\n",
      "\u001b[0;31mAttributeError\u001b[0m: 'tensorflow.python.framework.ops.EagerTensor' object has no attribute 'assign'"
     ]
    }
   ],
   "source": [
    "# Let's try to change one element of unchangeable tensor\n",
    "unchangeable_tensor[0].assign(7)"
   ]
  },
  {
   "cell_type": "markdown",
   "metadata": {
    "id": "u3GcFoRyD3n3"
   },
   "source": [
    "What we covered:\n",
    "* We can not change constant tensors\n",
    "* But if we use tf.Variable to create a tensor, we can change them with .assing()"
   ]
  },
  {
   "cell_type": "markdown",
   "metadata": {
    "id": "E-FmxFHFETei"
   },
   "source": [
    "### Creating random tensors"
   ]
  },
  {
   "cell_type": "markdown",
   "metadata": {
    "id": "GVa0lmIqFPBn"
   },
   "source": [
    "Random tensors are tensors of some abitrary size which contain random numbers."
   ]
  },
  {
   "cell_type": "code",
   "execution_count": null,
   "metadata": {
    "colab": {
     "base_uri": "https://localhost:8080/"
    },
    "id": "eg5v4qDUGSzv",
    "outputId": "5a93d807-e1bd-439b-9780-1ca8adc46216"
   },
   "outputs": [
    {
     "data": {
      "text/plain": [
       "(<tf.Tensor: shape=(3, 2), dtype=float32, numpy=\n",
       " array([[-0.7565803 , -0.06854702],\n",
       "        [ 0.07595026, -1.2573844 ],\n",
       "        [-0.23193763, -1.8107855 ]], dtype=float32)>,\n",
       " <tf.Tensor: shape=(3, 2), dtype=float32, numpy=\n",
       " array([[-0.7565803 , -0.06854702],\n",
       "        [ 0.07595026, -1.2573844 ],\n",
       "        [-0.23193763, -1.8107855 ]], dtype=float32)>,\n",
       " <tf.Tensor: shape=(3, 2), dtype=bool, numpy=\n",
       " array([[ True,  True],\n",
       "        [ True,  True],\n",
       "        [ True,  True]])>)"
      ]
     },
     "execution_count": 17,
     "metadata": {},
     "output_type": "execute_result"
    }
   ],
   "source": [
    "# Create two random (but same) tensor\n",
    "random_1 = tf.random.Generator.from_seed(42)\n",
    "random_1 = random_1.normal(shape=(3, 2))\n",
    "random_2 = tf.random.Generator.from_seed(42)\n",
    "random_2 = random_2.normal(shape=(3, 2))\n",
    "\n",
    "# Are they equal?\n",
    "random_1, random_2, random_1 == random_2"
   ]
  },
  {
   "cell_type": "markdown",
   "metadata": {
    "id": "B28lG-FTGk-x"
   },
   "source": [
    "### Suffle the order of elements in a tensor"
   ]
  },
  {
   "cell_type": "code",
   "execution_count": null,
   "metadata": {
    "colab": {
     "base_uri": "https://localhost:8080/"
    },
    "id": "ruzA8SbvIxwz",
    "outputId": "526e56f1-3528-44c4-fb26-f220a37b903b"
   },
   "outputs": [
    {
     "data": {
      "text/plain": [
       "<tf.Tensor: shape=(3, 2), dtype=int32, numpy=\n",
       "array([[10,  7],\n",
       "       [ 5,  4],\n",
       "       [ 8,  2]], dtype=int32)>"
      ]
     },
     "execution_count": 4,
     "metadata": {},
     "output_type": "execute_result"
    }
   ],
   "source": [
    "# Shuffle tensor (valuable for when you want to shuffle your data so the inherent learning)\n",
    "not_shuffled = tf.constant([[10, 7],\n",
    "                            [5, 4],\n",
    "                            [8, 2]])\n",
    "# Shuffle non-shuffled tensor\n",
    "tf.random.shuffle(not_shuffled)"
   ]
  },
  {
   "cell_type": "code",
   "execution_count": null,
   "metadata": {
    "colab": {
     "base_uri": "https://localhost:8080/"
    },
    "id": "Fl2Tsua4JnEA",
    "outputId": "17f91c82-8821-40e5-c7ea-cb54ed803d5d"
   },
   "outputs": [
    {
     "data": {
      "text/plain": [
       "<tf.Tensor: shape=(3, 2), dtype=int32, numpy=\n",
       "array([[10,  7],\n",
       "       [ 5,  4],\n",
       "       [ 8,  2]], dtype=int32)>"
      ]
     },
     "execution_count": 19,
     "metadata": {},
     "output_type": "execute_result"
    }
   ],
   "source": [
    "# Shuffle non-shuffled tensor but this option is return constantly same results because of seed.\n",
    "tf.random.set_seed(42)\n",
    "tf.random.shuffle(not_shuffled, seed=42)"
   ]
  },
  {
   "cell_type": "markdown",
   "metadata": {
    "id": "N8NJP2E8MCui"
   },
   "source": [
    "⛏ **Exercise:** Read through TensorFlow documentaion on random seed generation: https://www.tensorflow.org/api_docs/python/tf/random/set_seed and practice writing 4 random tensors and shuffle them."
   ]
  },
  {
   "cell_type": "code",
   "execution_count": null,
   "metadata": {
    "colab": {
     "base_uri": "https://localhost:8080/"
    },
    "id": "jiArYhde5zo6",
    "outputId": "b3bec2a3-f1a5-4f93-e64f-e562216624cc"
   },
   "outputs": [
    {
     "data": {
      "text/plain": [
       "<tf.Tensor: shape=(3, 2), dtype=int32, numpy=\n",
       "array([[ 5,  4],\n",
       "       [ 8,  2],\n",
       "       [10,  7]], dtype=int32)>"
      ]
     },
     "execution_count": 20,
     "metadata": {},
     "output_type": "execute_result"
    }
   ],
   "source": [
    "# If neither the global seed nor the operation seed is set: A randomly picked seed is used for this op.\n",
    "\n",
    "tf.random.shuffle(not_shuffled)"
   ]
  },
  {
   "cell_type": "code",
   "execution_count": null,
   "metadata": {
    "colab": {
     "base_uri": "https://localhost:8080/"
    },
    "id": "d1Gdft2k5zke",
    "outputId": "88df2322-dc91-4798-f951-04ed8a5cce71"
   },
   "outputs": [
    {
     "data": {
      "text/plain": [
       "<tf.Tensor: shape=(3, 2), dtype=int32, numpy=\n",
       "array([[ 5,  4],\n",
       "       [ 8,  2],\n",
       "       [10,  7]], dtype=int32)>"
      ]
     },
     "execution_count": 21,
     "metadata": {},
     "output_type": "execute_result"
    }
   ],
   "source": [
    "# If the global seed is set, but the operation seed is not: The system deterministically picks an operation seed in \n",
    "# conjunction with the global seed so that it gets a unique random sequence. Within the same version of tensorflow and user code, \n",
    "# this sequence is deterministic. However across different versions, this sequence might change. If the code depends on particular seeds to work, \n",
    "# specify both global and operation-level seeds explicitly.\n",
    "\n",
    "tf.random.set_seed(42) # global level random seed \n",
    "tf.random.shuffle(not_shuffled) "
   ]
  },
  {
   "cell_type": "code",
   "execution_count": null,
   "metadata": {
    "colab": {
     "base_uri": "https://localhost:8080/"
    },
    "id": "-etpcopy5zTL",
    "outputId": "55973927-9c62-4f60-d01e-e0f1021426e6"
   },
   "outputs": [
    {
     "data": {
      "text/plain": [
       "<tf.Tensor: shape=(3, 2), dtype=int32, numpy=\n",
       "array([[ 5,  4],\n",
       "       [10,  7],\n",
       "       [ 8,  2]], dtype=int32)>"
      ]
     },
     "execution_count": 9,
     "metadata": {},
     "output_type": "execute_result"
    }
   ],
   "source": [
    "# If the operation seed is set, but the global seed is not set: A default global seed and the specified operation seed are used to determine the random sequence.\n",
    "\n",
    "tf.random.shuffle(not_shuffled, seed=42) # operational level random seed"
   ]
  },
  {
   "cell_type": "code",
   "execution_count": null,
   "metadata": {
    "colab": {
     "base_uri": "https://localhost:8080/"
    },
    "id": "3wzuH902NIIA",
    "outputId": "6bb498bf-5e47-4718-ca45-af6d875a8ca6"
   },
   "outputs": [
    {
     "data": {
      "text/plain": [
       "<tf.Tensor: shape=(3, 2), dtype=int32, numpy=\n",
       "array([[10,  7],\n",
       "       [ 5,  4],\n",
       "       [ 8,  2]], dtype=int32)>"
      ]
     },
     "execution_count": 23,
     "metadata": {},
     "output_type": "execute_result"
    }
   ],
   "source": [
    "# If both the global and the operation seed are set: Both seeds are used in conjunction to determine the random sequence.\n",
    "\n",
    "tf.random.set_seed(42) # global level random seed \n",
    "tf.random.shuffle(not_shuffled, seed=42) # operational level random seed"
   ]
  },
  {
   "cell_type": "markdown",
   "metadata": {
    "id": "UKCVm3Ev4tzC"
   },
   "source": [
    "### Other ways to make tensors"
   ]
  },
  {
   "cell_type": "code",
   "execution_count": null,
   "metadata": {
    "colab": {
     "base_uri": "https://localhost:8080/"
    },
    "id": "VOd289EIsq4q",
    "outputId": "387a38aa-4f8d-428b-c449-0c228d64752a"
   },
   "outputs": [
    {
     "data": {
      "text/plain": [
       "<tf.Tensor: shape=(10, 7), dtype=float32, numpy=\n",
       "array([[1., 1., 1., 1., 1., 1., 1.],\n",
       "       [1., 1., 1., 1., 1., 1., 1.],\n",
       "       [1., 1., 1., 1., 1., 1., 1.],\n",
       "       [1., 1., 1., 1., 1., 1., 1.],\n",
       "       [1., 1., 1., 1., 1., 1., 1.],\n",
       "       [1., 1., 1., 1., 1., 1., 1.],\n",
       "       [1., 1., 1., 1., 1., 1., 1.],\n",
       "       [1., 1., 1., 1., 1., 1., 1.],\n",
       "       [1., 1., 1., 1., 1., 1., 1.],\n",
       "       [1., 1., 1., 1., 1., 1., 1.]], dtype=float32)>"
      ]
     },
     "execution_count": 24,
     "metadata": {},
     "output_type": "execute_result"
    }
   ],
   "source": [
    "# Create a tensor of all one\n",
    "tf.ones([10, 7])"
   ]
  },
  {
   "cell_type": "code",
   "execution_count": null,
   "metadata": {
    "colab": {
     "base_uri": "https://localhost:8080/"
    },
    "id": "hnCqv6UFt9ND",
    "outputId": "ff78edd4-b089-4dc7-baad-fcf0e593d201"
   },
   "outputs": [
    {
     "data": {
      "text/plain": [
       "<tf.Tensor: shape=(10, 7), dtype=float32, numpy=\n",
       "array([[3., 3., 3., 3., 3., 3., 3.],\n",
       "       [3., 3., 3., 3., 3., 3., 3.],\n",
       "       [3., 3., 3., 3., 3., 3., 3.],\n",
       "       [3., 3., 3., 3., 3., 3., 3.],\n",
       "       [3., 3., 3., 3., 3., 3., 3.],\n",
       "       [3., 3., 3., 3., 3., 3., 3.],\n",
       "       [3., 3., 3., 3., 3., 3., 3.],\n",
       "       [3., 3., 3., 3., 3., 3., 3.],\n",
       "       [3., 3., 3., 3., 3., 3., 3.],\n",
       "       [3., 3., 3., 3., 3., 3., 3.]], dtype=float32)>"
      ]
     },
     "execution_count": 25,
     "metadata": {},
     "output_type": "execute_result"
    }
   ],
   "source": [
    "3 * tf.ones([10, 7])"
   ]
  },
  {
   "cell_type": "code",
   "execution_count": null,
   "metadata": {
    "colab": {
     "base_uri": "https://localhost:8080/"
    },
    "id": "A5ZV3_XQtSbC",
    "outputId": "d3f4696d-f525-49e1-9f38-f431657d7ee6"
   },
   "outputs": [
    {
     "data": {
      "text/plain": [
       "<tf.Tensor: shape=(3, 6), dtype=float32, numpy=\n",
       "array([[0., 0., 0., 0., 0., 0.],\n",
       "       [0., 0., 0., 0., 0., 0.],\n",
       "       [0., 0., 0., 0., 0., 0.]], dtype=float32)>"
      ]
     },
     "execution_count": 26,
     "metadata": {},
     "output_type": "execute_result"
    }
   ],
   "source": [
    "# Create a tensor of all zeros\n",
    "tf.zeros(shape=(3, 6))"
   ]
  },
  {
   "cell_type": "markdown",
   "metadata": {
    "id": "5oxoNy7tuQ7H"
   },
   "source": [
    "### Turn Numpy arrays into tensors\n",
    "\n",
    "The main difference between the Numpy arrays and TensorFlows tensors is that tensors can be run on a GPU (much faster than numerical computing)"
   ]
  },
  {
   "cell_type": "code",
   "execution_count": null,
   "metadata": {
    "colab": {
     "base_uri": "https://localhost:8080/"
    },
    "id": "TXTAq1cCtmNZ",
    "outputId": "438ec23b-cbf2-416c-e254-fd7f4099633b"
   },
   "outputs": [
    {
     "data": {
      "text/plain": [
       "array([ 1,  2,  3,  4,  5,  6,  7,  8,  9, 10, 11, 12, 13, 14, 15, 16, 17,\n",
       "       18, 19, 20, 21, 22, 23, 24], dtype=int32)"
      ]
     },
     "execution_count": 27,
     "metadata": {},
     "output_type": "execute_result"
    }
   ],
   "source": [
    "# You can also turn Numpy arrays into tensors\n",
    "import numpy as np\n",
    "numpy_A = np.arange(1, 25, dtype=np.int32) # Create numpy array between 1 and 25\n",
    "numpy_A\n",
    "\n",
    "# X = tf.constant(some_matrix) # Capital for matrix or tensor\n",
    "# y = tf.constant(vector) # Non-capital for tensor"
   ]
  },
  {
   "cell_type": "code",
   "execution_count": null,
   "metadata": {
    "colab": {
     "base_uri": "https://localhost:8080/"
    },
    "id": "WP0sAk0RuJ-w",
    "outputId": "baecf9bc-bc0b-45f2-8e7d-bbf6d6407989"
   },
   "outputs": [
    {
     "data": {
      "text/plain": [
       "(<tf.Tensor: shape=(24,), dtype=int32, numpy=\n",
       " array([ 1,  2,  3,  4,  5,  6,  7,  8,  9, 10, 11, 12, 13, 14, 15, 16, 17,\n",
       "        18, 19, 20, 21, 22, 23, 24], dtype=int32)>,\n",
       " <tf.Tensor: shape=(3, 4, 2), dtype=int32, numpy=\n",
       " array([[[ 1,  2],\n",
       "         [ 3,  4],\n",
       "         [ 5,  6],\n",
       "         [ 7,  8]],\n",
       " \n",
       "        [[ 9, 10],\n",
       "         [11, 12],\n",
       "         [13, 14],\n",
       "         [15, 16]],\n",
       " \n",
       "        [[17, 18],\n",
       "         [19, 20],\n",
       "         [21, 22],\n",
       "         [23, 24]]], dtype=int32)>)"
      ]
     },
     "execution_count": 28,
     "metadata": {},
     "output_type": "execute_result"
    }
   ],
   "source": [
    "# Turn numpy_A array into tensor and also we can change the shape\n",
    "A = tf.constant(numpy_A)\n",
    "B = tf.constant(numpy_A, shape=(3, 4, 2))\n",
    "\n",
    "A, B"
   ]
  },
  {
   "cell_type": "markdown",
   "metadata": {
    "id": "FY__2Xv3wCMP"
   },
   "source": [
    "### Getting information from tensors\n",
    "\n",
    "When dealing with tensors, you probably want to be aware of following attributes:\n",
    "* Shape\n",
    "* Rank\n",
    "* Axis or dimension\n",
    "* Size"
   ]
  },
  {
   "cell_type": "code",
   "execution_count": null,
   "metadata": {
    "colab": {
     "base_uri": "https://localhost:8080/"
    },
    "id": "ftlHNkYaxL9W",
    "outputId": "ae3884cf-10ca-49e6-f05f-e2dfa5e1a38e"
   },
   "outputs": [
    {
     "data": {
      "text/plain": [
       "<tf.Tensor: shape=(2, 3, 4, 5), dtype=float32, numpy=\n",
       "array([[[[0., 0., 0., 0., 0.],\n",
       "         [0., 0., 0., 0., 0.],\n",
       "         [0., 0., 0., 0., 0.],\n",
       "         [0., 0., 0., 0., 0.]],\n",
       "\n",
       "        [[0., 0., 0., 0., 0.],\n",
       "         [0., 0., 0., 0., 0.],\n",
       "         [0., 0., 0., 0., 0.],\n",
       "         [0., 0., 0., 0., 0.]],\n",
       "\n",
       "        [[0., 0., 0., 0., 0.],\n",
       "         [0., 0., 0., 0., 0.],\n",
       "         [0., 0., 0., 0., 0.],\n",
       "         [0., 0., 0., 0., 0.]]],\n",
       "\n",
       "\n",
       "       [[[0., 0., 0., 0., 0.],\n",
       "         [0., 0., 0., 0., 0.],\n",
       "         [0., 0., 0., 0., 0.],\n",
       "         [0., 0., 0., 0., 0.]],\n",
       "\n",
       "        [[0., 0., 0., 0., 0.],\n",
       "         [0., 0., 0., 0., 0.],\n",
       "         [0., 0., 0., 0., 0.],\n",
       "         [0., 0., 0., 0., 0.]],\n",
       "\n",
       "        [[0., 0., 0., 0., 0.],\n",
       "         [0., 0., 0., 0., 0.],\n",
       "         [0., 0., 0., 0., 0.],\n",
       "         [0., 0., 0., 0., 0.]]]], dtype=float32)>"
      ]
     },
     "execution_count": 29,
     "metadata": {},
     "output_type": "execute_result"
    }
   ],
   "source": [
    "rank_4_tensor = tf.zeros(shape=(2, 3, 4, 5))\n",
    "rank_4_tensor"
   ]
  },
  {
   "cell_type": "code",
   "execution_count": null,
   "metadata": {
    "colab": {
     "base_uri": "https://localhost:8080/"
    },
    "id": "3lFs9rsd1YE3",
    "outputId": "8a76feb2-f6fd-41cd-fb5a-7fb2b924b607"
   },
   "outputs": [
    {
     "data": {
      "text/plain": [
       "(4, TensorShape([2, 3, 4, 5]), <tf.Tensor: shape=(), dtype=int32, numpy=120>)"
      ]
     },
     "execution_count": 30,
     "metadata": {},
     "output_type": "execute_result"
    }
   ],
   "source": [
    "rank_4_tensor.ndim, rank_4_tensor.shape, tf.size(rank_4_tensor)"
   ]
  },
  {
   "cell_type": "code",
   "execution_count": null,
   "metadata": {
    "colab": {
     "base_uri": "https://localhost:8080/"
    },
    "id": "MfhotGcT2dCi",
    "outputId": "648b90a8-8ee7-4972-b15f-10e0b051166c"
   },
   "outputs": [
    {
     "name": "stdout",
     "output_type": "stream",
     "text": [
      "Datatype of every element: <dtype: 'float32'>\n",
      "Number of dimension: 4\n",
      "Shape of tensor: (2, 3, 4, 5)\n",
      "Element along the 0 axis: 2\n",
      "Element along the last axis: 5\n",
      "Total number of elements of tensor: 120\n"
     ]
    }
   ],
   "source": [
    "# Get various attributes of our tensor \n",
    "print('Datatype of every element:', rank_4_tensor.dtype)\n",
    "print('Number of dimension:', rank_4_tensor.ndim)\n",
    "print('Shape of tensor:', rank_4_tensor.shape)\n",
    "print('Element along the 0 axis:', rank_4_tensor.shape[0])\n",
    "print('Element along the last axis:', rank_4_tensor.shape[-1])\n",
    "print('Total number of elements of tensor:', tf.size(rank_4_tensor).numpy())"
   ]
  },
  {
   "cell_type": "markdown",
   "metadata": {
    "id": "K-8Y49KP2tBI"
   },
   "source": [
    "### Tensor Indexing\n",
    "\n",
    "Tensors can be indexed just like a Python lists."
   ]
  },
  {
   "cell_type": "code",
   "execution_count": null,
   "metadata": {
    "colab": {
     "base_uri": "https://localhost:8080/"
    },
    "id": "l6tszrhd9xS_",
    "outputId": "b30c1611-70c1-435e-a268-71a402642830"
   },
   "outputs": [
    {
     "data": {
      "text/plain": [
       "[1, 2]"
      ]
     },
     "execution_count": 32,
     "metadata": {},
     "output_type": "execute_result"
    }
   ],
   "source": [
    "some_list = [1, 2, 3, 4, 5, 6]\n",
    "some_list[0:2]"
   ]
  },
  {
   "cell_type": "code",
   "execution_count": null,
   "metadata": {
    "colab": {
     "base_uri": "https://localhost:8080/"
    },
    "id": "g_3ZfxEL29Xw",
    "outputId": "5d0eee14-5014-4997-8d6d-67a47f1fce2e"
   },
   "outputs": [
    {
     "data": {
      "text/plain": [
       "<tf.Tensor: shape=(2, 2, 2, 2), dtype=float32, numpy=\n",
       "array([[[[0., 0.],\n",
       "         [0., 0.]],\n",
       "\n",
       "        [[0., 0.],\n",
       "         [0., 0.]]],\n",
       "\n",
       "\n",
       "       [[[0., 0.],\n",
       "         [0., 0.]],\n",
       "\n",
       "        [[0., 0.],\n",
       "         [0., 0.]]]], dtype=float32)>"
      ]
     },
     "execution_count": 33,
     "metadata": {},
     "output_type": "execute_result"
    }
   ],
   "source": [
    "# Get the first 2 elements of each dimension\n",
    "rank_4_tensor[:2, :2, :2, :2]"
   ]
  },
  {
   "cell_type": "code",
   "execution_count": null,
   "metadata": {
    "colab": {
     "base_uri": "https://localhost:8080/"
    },
    "id": "2wzo5pho9sZm",
    "outputId": "a8b3741e-a5ea-4282-9435-754862dd5ea9"
   },
   "outputs": [
    {
     "data": {
      "text/plain": [
       "<tf.Tensor: shape=(1, 1, 1, 5), dtype=float32, numpy=array([[[[0., 0., 0., 0., 0.]]]], dtype=float32)>"
      ]
     },
     "execution_count": 34,
     "metadata": {},
     "output_type": "execute_result"
    }
   ],
   "source": [
    "# Get the first element from each dimension from each index except for the final one\n",
    "rank_4_tensor[:1, :1, :1, :]"
   ]
  },
  {
   "cell_type": "code",
   "execution_count": null,
   "metadata": {
    "colab": {
     "base_uri": "https://localhost:8080/"
    },
    "id": "9WA_abH__aCA",
    "outputId": "7079bd6d-8bc3-4b38-ba8e-7becab40443e"
   },
   "outputs": [
    {
     "data": {
      "text/plain": [
       "(2, TensorShape([2, 2]))"
      ]
     },
     "execution_count": 35,
     "metadata": {},
     "output_type": "execute_result"
    }
   ],
   "source": [
    "# Create a 2 rank tensor (2 dimension)\n",
    "rank_2_tensor = tf.constant([[10, 7],\n",
    "                             [3, 4]])\n",
    "\n",
    "rank_2_tensor.ndim, rank_2_tensor.shape"
   ]
  },
  {
   "cell_type": "code",
   "execution_count": null,
   "metadata": {
    "colab": {
     "base_uri": "https://localhost:8080/"
    },
    "id": "Mv-jCqP7A2o_",
    "outputId": "f76bd2cc-1142-4638-b0a6-855837f32831"
   },
   "outputs": [
    {
     "data": {
      "text/plain": [
       "<tf.Tensor: shape=(2, 2), dtype=int32, numpy=\n",
       "array([[10,  7],\n",
       "       [ 3,  4]], dtype=int32)>"
      ]
     },
     "execution_count": 36,
     "metadata": {},
     "output_type": "execute_result"
    }
   ],
   "source": [
    "rank_2_tensor"
   ]
  },
  {
   "cell_type": "code",
   "execution_count": null,
   "metadata": {
    "id": "N6bpc8SBAqxC"
   },
   "outputs": [],
   "source": [
    "# Get the last item of each of our rank 2 tensor"
   ]
  },
  {
   "cell_type": "code",
   "execution_count": null,
   "metadata": {
    "colab": {
     "base_uri": "https://localhost:8080/"
    },
    "id": "SrORBLaYA1ur",
    "outputId": "7e95abbf-a0a3-4607-d527-1d346ee16f08"
   },
   "outputs": [
    {
     "data": {
      "text/plain": [
       "<tf.Tensor: shape=(2, 1), dtype=int32, numpy=\n",
       "array([[10],\n",
       "       [ 3]], dtype=int32)>"
      ]
     },
     "execution_count": 38,
     "metadata": {},
     "output_type": "execute_result"
    }
   ],
   "source": [
    "rank_2_tensor[:, :-1]"
   ]
  },
  {
   "cell_type": "code",
   "execution_count": null,
   "metadata": {
    "colab": {
     "base_uri": "https://localhost:8080/"
    },
    "id": "Lyvl7J5_A90z",
    "outputId": "3d4b6ee6-0c0b-4248-f802-0e3a515d53c6"
   },
   "outputs": [
    {
     "data": {
      "text/plain": [
       "<tf.Tensor: shape=(2, 2, 1), dtype=int32, numpy=\n",
       "array([[[10],\n",
       "        [ 7]],\n",
       "\n",
       "       [[ 3],\n",
       "        [ 4]]], dtype=int32)>"
      ]
     },
     "execution_count": 39,
     "metadata": {},
     "output_type": "execute_result"
    }
   ],
   "source": [
    "# Add in extra dimension to our rank 2 tensor\n",
    "rank_3_tensor = rank_2_tensor[..., tf.newaxis]\n",
    "rank_3_tensor"
   ]
  },
  {
   "cell_type": "code",
   "execution_count": null,
   "metadata": {
    "colab": {
     "base_uri": "https://localhost:8080/"
    },
    "id": "a75rMoY_Bi59",
    "outputId": "9a42e507-c109-4cca-fde5-4895d1000e88"
   },
   "outputs": [
    {
     "data": {
      "text/plain": [
       "<tf.Tensor: shape=(2, 2, 1), dtype=int32, numpy=\n",
       "array([[[10],\n",
       "        [ 7]],\n",
       "\n",
       "       [[ 3],\n",
       "        [ 4]]], dtype=int32)>"
      ]
     },
     "execution_count": 40,
     "metadata": {},
     "output_type": "execute_result"
    }
   ],
   "source": [
    "# Alternative to tf.newaxis\n",
    "tf.expand_dims(rank_2_tensor, axis=-1) # -1 means expand the final axis"
   ]
  },
  {
   "cell_type": "code",
   "execution_count": null,
   "metadata": {
    "colab": {
     "base_uri": "https://localhost:8080/"
    },
    "id": "k6DtBlfsCWOT",
    "outputId": "eae969c2-46be-4301-8747-ad40d2f78ebd"
   },
   "outputs": [
    {
     "data": {
      "text/plain": [
       "<tf.Tensor: shape=(1, 2, 2), dtype=int32, numpy=\n",
       "array([[[10,  7],\n",
       "        [ 3,  4]]], dtype=int32)>"
      ]
     },
     "execution_count": 41,
     "metadata": {},
     "output_type": "execute_result"
    }
   ],
   "source": [
    "tf.expand_dims(rank_2_tensor, axis=0) # 0 means expand the first axis"
   ]
  },
  {
   "cell_type": "markdown",
   "metadata": {
    "id": "JueomMNFCrh2"
   },
   "source": [
    "### Manipulating tensors (tensors operations)\n",
    "\n",
    "**Basic operations**\n",
    "`+`, `-`, `*`, `/`"
   ]
  },
  {
   "cell_type": "code",
   "execution_count": null,
   "metadata": {
    "colab": {
     "base_uri": "https://localhost:8080/"
    },
    "id": "9OWf4siPCwbG",
    "outputId": "a55d58a0-64ef-41de-fe2f-6e25345c8107"
   },
   "outputs": [
    {
     "data": {
      "text/plain": [
       "<tf.Tensor: shape=(2, 2), dtype=int32, numpy=\n",
       "array([[20, 17],\n",
       "       [13, 14]], dtype=int32)>"
      ]
     },
     "execution_count": 42,
     "metadata": {},
     "output_type": "execute_result"
    }
   ],
   "source": [
    "# You can add values to tensors using the addition operation\n",
    "tensor = tf.constant([[10, 7],\n",
    "                      [3, 4]])\n",
    "\n",
    "tensor + 10"
   ]
  },
  {
   "cell_type": "code",
   "execution_count": null,
   "metadata": {
    "colab": {
     "base_uri": "https://localhost:8080/"
    },
    "id": "vqwZnsAQEYwi",
    "outputId": "4a98e82d-ac38-45c3-b785-5de6ab1925e5"
   },
   "outputs": [
    {
     "data": {
      "text/plain": [
       "<tf.Tensor: shape=(2, 2), dtype=int32, numpy=\n",
       "array([[10,  7],\n",
       "       [ 3,  4]], dtype=int32)>"
      ]
     },
     "execution_count": 43,
     "metadata": {},
     "output_type": "execute_result"
    }
   ],
   "source": [
    "# Be aware original tensor is unchanged\n",
    "tensor"
   ]
  },
  {
   "cell_type": "code",
   "execution_count": null,
   "metadata": {
    "colab": {
     "base_uri": "https://localhost:8080/"
    },
    "id": "jlGYFCYREkeF",
    "outputId": "c2b03de0-0274-491e-c1ec-908a68c7d289"
   },
   "outputs": [
    {
     "data": {
      "text/plain": [
       "<tf.Tensor: shape=(2, 2), dtype=int32, numpy=\n",
       "array([[100,  70],\n",
       "       [ 30,  40]], dtype=int32)>"
      ]
     },
     "execution_count": 44,
     "metadata": {},
     "output_type": "execute_result"
    }
   ],
   "source": [
    "# Multiplication also works\n",
    "10 * tensor"
   ]
  },
  {
   "cell_type": "code",
   "execution_count": null,
   "metadata": {
    "colab": {
     "base_uri": "https://localhost:8080/"
    },
    "id": "7fm-oVAnFAQb",
    "outputId": "fbffdef5-7b04-47aa-cc96-68211d68377f"
   },
   "outputs": [
    {
     "data": {
      "text/plain": [
       "<tf.Tensor: shape=(2, 2), dtype=int32, numpy=\n",
       "array([[0, 3],\n",
       "       [7, 6]], dtype=int32)>"
      ]
     },
     "execution_count": 45,
     "metadata": {},
     "output_type": "execute_result"
    }
   ],
   "source": [
    "# Substraction\n",
    "10 - tensor"
   ]
  },
  {
   "cell_type": "code",
   "execution_count": null,
   "metadata": {
    "colab": {
     "base_uri": "https://localhost:8080/"
    },
    "id": "jnUSVH17FIJS",
    "outputId": "11a9accb-143d-41dd-f2d5-8b3042926098"
   },
   "outputs": [
    {
     "data": {
      "text/plain": [
       "<tf.Tensor: shape=(2, 2), dtype=float64, numpy=\n",
       "array([[1. , 0.7],\n",
       "       [0.3, 0.4]])>"
      ]
     },
     "execution_count": 46,
     "metadata": {},
     "output_type": "execute_result"
    }
   ],
   "source": [
    "# Division\n",
    "tensor / 10"
   ]
  },
  {
   "cell_type": "code",
   "execution_count": null,
   "metadata": {
    "colab": {
     "base_uri": "https://localhost:8080/"
    },
    "id": "mYsBukVhFPJ5",
    "outputId": "3fcfd6ea-b8e5-4798-a74c-3d67da4db66f"
   },
   "outputs": [
    {
     "data": {
      "text/plain": [
       "<tf.Tensor: shape=(2, 2), dtype=int32, numpy=\n",
       "array([[100,  70],\n",
       "       [ 30,  40]], dtype=int32)>"
      ]
     },
     "execution_count": 47,
     "metadata": {},
     "output_type": "execute_result"
    }
   ],
   "source": [
    "# We can use tensorflow built-in function too\n",
    "tf.multiply(tensor, 10)"
   ]
  },
  {
   "cell_type": "markdown",
   "metadata": {
    "id": "5G7Fom8FFkKh"
   },
   "source": [
    "**Matrix Multiplication**\n",
    "\n",
    "In machine learning, matrix multiplication is one of the most common tensor operation.\n",
    "\n",
    "Resource: https://www.mathsisfun.com/algebra/matrix-multiplying.html"
   ]
  },
  {
   "cell_type": "code",
   "execution_count": null,
   "metadata": {
    "colab": {
     "base_uri": "https://localhost:8080/"
    },
    "id": "wkp3BC0GOSc6",
    "outputId": "fe54363f-ecd9-4d9d-a853-e7c9c32a5826"
   },
   "outputs": [
    {
     "data": {
      "text/plain": [
       "<tf.Tensor: shape=(2, 2), dtype=int32, numpy=\n",
       "array([[10,  7],\n",
       "       [ 3,  4]], dtype=int32)>"
      ]
     },
     "execution_count": 48,
     "metadata": {},
     "output_type": "execute_result"
    }
   ],
   "source": [
    "tensor"
   ]
  },
  {
   "cell_type": "code",
   "execution_count": null,
   "metadata": {
    "colab": {
     "base_uri": "https://localhost:8080/"
    },
    "id": "AMi8o9nIGXba",
    "outputId": "986a289d-af0b-4127-d052-836a8fbed2c4"
   },
   "outputs": [
    {
     "data": {
      "text/plain": [
       "<tf.Tensor: shape=(2, 2), dtype=int32, numpy=\n",
       "array([[121,  98],\n",
       "       [ 42,  37]], dtype=int32)>"
      ]
     },
     "execution_count": 49,
     "metadata": {},
     "output_type": "execute_result"
    }
   ],
   "source": [
    "# Matrix multiplication in tensorflow\n",
    "tf.matmul(tensor, tensor)"
   ]
  },
  {
   "cell_type": "code",
   "execution_count": null,
   "metadata": {
    "colab": {
     "base_uri": "https://localhost:8080/"
    },
    "id": "NXAUPVmWOJbT",
    "outputId": "59c56e4f-b630-41b1-e295-82b2745f5b34"
   },
   "outputs": [
    {
     "data": {
      "text/plain": [
       "<tf.Tensor: shape=(2, 2), dtype=int32, numpy=\n",
       "array([[121,  98],\n",
       "       [ 42,  37]], dtype=int32)>"
      ]
     },
     "execution_count": 50,
     "metadata": {},
     "output_type": "execute_result"
    }
   ],
   "source": [
    "# Matrix multiplication with python operator (it gives us same result as above)\n",
    "tensor @ tensor"
   ]
  },
  {
   "cell_type": "code",
   "execution_count": null,
   "metadata": {
    "colab": {
     "base_uri": "https://localhost:8080/"
    },
    "id": "I35sVNtbO6qQ",
    "outputId": "dfdeace4-197a-4715-c567-7b5851a68360"
   },
   "outputs": [
    {
     "data": {
      "text/plain": [
       "<tf.Tensor: shape=(2, 2), dtype=int32, numpy=\n",
       "array([[100,  49],\n",
       "       [  9,  16]], dtype=int32)>"
      ]
     },
     "execution_count": 51,
     "metadata": {},
     "output_type": "execute_result"
    }
   ],
   "source": [
    "# Be aware (tensor * tensor) doesnt give us same result because '*' operator only multiply elements each other and this is not matrix multiplication\n",
    "tensor * tensor"
   ]
  },
  {
   "cell_type": "code",
   "execution_count": null,
   "metadata": {
    "colab": {
     "base_uri": "https://localhost:8080/"
    },
    "id": "eTIybP4OPQyc",
    "outputId": "82cbf862-fd2d-4e01-a851-7f17c5d0ea76"
   },
   "outputs": [
    {
     "data": {
      "text/plain": [
       "(<tf.Tensor: shape=(3, 2), dtype=int32, numpy=\n",
       " array([[1, 2],\n",
       "        [3, 4],\n",
       "        [5, 6]], dtype=int32)>,\n",
       " <tf.Tensor: shape=(3, 2), dtype=int32, numpy=\n",
       " array([[ 7,  8],\n",
       "        [ 9, 10],\n",
       "        [11, 12]], dtype=int32)>)"
      ]
     },
     "execution_count": 52,
     "metadata": {},
     "output_type": "execute_result"
    }
   ],
   "source": [
    "# Create (3, 2) tensor\n",
    "X = tf.constant([[1, 2],\n",
    "                 [3, 4],\n",
    "                 [5, 6]])\n",
    "# Create another (3, 2) tensor\n",
    "Y = tf.constant([[7, 8],\n",
    "                 [9, 10],\n",
    "                 [11, 12]])\n",
    "\n",
    "X, Y"
   ]
  },
  {
   "cell_type": "code",
   "execution_count": null,
   "metadata": {
    "colab": {
     "base_uri": "https://localhost:8080/",
     "height": 329
    },
    "id": "Z49Lhab0QjFq",
    "outputId": "856d94a1-df42-4dd5-b3d9-73ab301a9461"
   },
   "outputs": [
    {
     "ename": "InvalidArgumentError",
     "evalue": "ignored",
     "output_type": "error",
     "traceback": [
      "\u001b[0;31m---------------------------------------------------------------------------\u001b[0m",
      "\u001b[0;31mInvalidArgumentError\u001b[0m                      Traceback (most recent call last)",
      "\u001b[0;32m<ipython-input-53-32b138ac07cc>\u001b[0m in \u001b[0;36m<cell line: 2>\u001b[0;34m()\u001b[0m\n\u001b[1;32m      1\u001b[0m \u001b[0;31m# Try to matrix multiply tensors of same shape\u001b[0m\u001b[0;34m\u001b[0m\u001b[0;34m\u001b[0m\u001b[0m\n\u001b[0;32m----> 2\u001b[0;31m \u001b[0mtf\u001b[0m\u001b[0;34m.\u001b[0m\u001b[0mmatmul\u001b[0m\u001b[0;34m(\u001b[0m\u001b[0mX\u001b[0m\u001b[0;34m,\u001b[0m \u001b[0mY\u001b[0m\u001b[0;34m)\u001b[0m\u001b[0;34m\u001b[0m\u001b[0;34m\u001b[0m\u001b[0m\n\u001b[0m",
      "\u001b[0;32m/usr/local/lib/python3.9/dist-packages/tensorflow/python/util/traceback_utils.py\u001b[0m in \u001b[0;36merror_handler\u001b[0;34m(*args, **kwargs)\u001b[0m\n\u001b[1;32m    151\u001b[0m     \u001b[0;32mexcept\u001b[0m \u001b[0mException\u001b[0m \u001b[0;32mas\u001b[0m \u001b[0me\u001b[0m\u001b[0;34m:\u001b[0m\u001b[0;34m\u001b[0m\u001b[0;34m\u001b[0m\u001b[0m\n\u001b[1;32m    152\u001b[0m       \u001b[0mfiltered_tb\u001b[0m \u001b[0;34m=\u001b[0m \u001b[0m_process_traceback_frames\u001b[0m\u001b[0;34m(\u001b[0m\u001b[0me\u001b[0m\u001b[0;34m.\u001b[0m\u001b[0m__traceback__\u001b[0m\u001b[0;34m)\u001b[0m\u001b[0;34m\u001b[0m\u001b[0;34m\u001b[0m\u001b[0m\n\u001b[0;32m--> 153\u001b[0;31m       \u001b[0;32mraise\u001b[0m \u001b[0me\u001b[0m\u001b[0;34m.\u001b[0m\u001b[0mwith_traceback\u001b[0m\u001b[0;34m(\u001b[0m\u001b[0mfiltered_tb\u001b[0m\u001b[0;34m)\u001b[0m \u001b[0;32mfrom\u001b[0m \u001b[0;32mNone\u001b[0m\u001b[0;34m\u001b[0m\u001b[0;34m\u001b[0m\u001b[0m\n\u001b[0m\u001b[1;32m    154\u001b[0m     \u001b[0;32mfinally\u001b[0m\u001b[0;34m:\u001b[0m\u001b[0;34m\u001b[0m\u001b[0;34m\u001b[0m\u001b[0m\n\u001b[1;32m    155\u001b[0m       \u001b[0;32mdel\u001b[0m \u001b[0mfiltered_tb\u001b[0m\u001b[0;34m\u001b[0m\u001b[0;34m\u001b[0m\u001b[0m\n",
      "\u001b[0;32m/usr/local/lib/python3.9/dist-packages/tensorflow/python/framework/ops.py\u001b[0m in \u001b[0;36mraise_from_not_ok_status\u001b[0;34m(e, name)\u001b[0m\n\u001b[1;32m   7213\u001b[0m \u001b[0;32mdef\u001b[0m \u001b[0mraise_from_not_ok_status\u001b[0m\u001b[0;34m(\u001b[0m\u001b[0me\u001b[0m\u001b[0;34m,\u001b[0m \u001b[0mname\u001b[0m\u001b[0;34m)\u001b[0m\u001b[0;34m:\u001b[0m\u001b[0;34m\u001b[0m\u001b[0;34m\u001b[0m\u001b[0m\n\u001b[1;32m   7214\u001b[0m   \u001b[0me\u001b[0m\u001b[0;34m.\u001b[0m\u001b[0mmessage\u001b[0m \u001b[0;34m+=\u001b[0m \u001b[0;34m(\u001b[0m\u001b[0;34m\" name: \"\u001b[0m \u001b[0;34m+\u001b[0m \u001b[0mname\u001b[0m \u001b[0;32mif\u001b[0m \u001b[0mname\u001b[0m \u001b[0;32mis\u001b[0m \u001b[0;32mnot\u001b[0m \u001b[0;32mNone\u001b[0m \u001b[0;32melse\u001b[0m \u001b[0;34m\"\"\u001b[0m\u001b[0;34m)\u001b[0m\u001b[0;34m\u001b[0m\u001b[0;34m\u001b[0m\u001b[0m\n\u001b[0;32m-> 7215\u001b[0;31m   \u001b[0;32mraise\u001b[0m \u001b[0mcore\u001b[0m\u001b[0;34m.\u001b[0m\u001b[0m_status_to_exception\u001b[0m\u001b[0;34m(\u001b[0m\u001b[0me\u001b[0m\u001b[0;34m)\u001b[0m \u001b[0;32mfrom\u001b[0m \u001b[0;32mNone\u001b[0m  \u001b[0;31m# pylint: disable=protected-access\u001b[0m\u001b[0;34m\u001b[0m\u001b[0;34m\u001b[0m\u001b[0m\n\u001b[0m\u001b[1;32m   7216\u001b[0m \u001b[0;34m\u001b[0m\u001b[0m\n\u001b[1;32m   7217\u001b[0m \u001b[0;34m\u001b[0m\u001b[0m\n",
      "\u001b[0;31mInvalidArgumentError\u001b[0m: {{function_node __wrapped__MatMul_device_/job:localhost/replica:0/task:0/device:CPU:0}} Matrix size-incompatible: In[0]: [3,2], In[1]: [3,2] [Op:MatMul]"
     ]
    }
   ],
   "source": [
    "# Try to matrix multiply tensors of same shape\n",
    "tf.matmul(X, Y)"
   ]
  },
  {
   "cell_type": "markdown",
   "metadata": {
    "id": "k0Slx9-XSOyb"
   },
   "source": [
    "\n",
    "There are two rules our tensors (or matrices) need to fulfil if we are going to matrix multiplication:\n",
    "1. The inner dimension must match\n",
    "2. The resulting matrix has the shape of the outer dimension\n",
    "\n",
    "\n",
    "![image.png](data:image/png;base64,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)"
   ]
  },
  {
   "cell_type": "code",
   "execution_count": null,
   "metadata": {
    "colab": {
     "base_uri": "https://localhost:8080/"
    },
    "id": "beXax1RLTgbD",
    "outputId": "855b4210-a799-4c0d-af8d-6331046095fd"
   },
   "outputs": [
    {
     "data": {
      "text/plain": [
       "<tf.Tensor: shape=(2, 3), dtype=int32, numpy=\n",
       "array([[ 7,  8,  9],\n",
       "       [10, 11, 12]], dtype=int32)>"
      ]
     },
     "execution_count": 54,
     "metadata": {},
     "output_type": "execute_result"
    }
   ],
   "source": [
    "# Let's change shape of Y\n",
    "Y = tf.reshape(Y, [2, 3])\n",
    "Y\n",
    "# Now inner shape of X and Y is same and we can multiply them."
   ]
  },
  {
   "cell_type": "code",
   "execution_count": null,
   "metadata": {
    "colab": {
     "base_uri": "https://localhost:8080/"
    },
    "id": "Rtu5dCIIVqzP",
    "outputId": "58174306-15da-4951-f9d5-9958e3c3fd3a"
   },
   "outputs": [
    {
     "data": {
      "text/plain": [
       "<tf.Tensor: shape=(3, 3), dtype=int32, numpy=\n",
       "array([[ 27,  30,  33],\n",
       "       [ 61,  68,  75],\n",
       "       [ 95, 106, 117]], dtype=int32)>"
      ]
     },
     "execution_count": 55,
     "metadata": {},
     "output_type": "execute_result"
    }
   ],
   "source": [
    "# Matrix multiplication X and Y\n",
    "tf.matmul(X, Y)"
   ]
  },
  {
   "cell_type": "code",
   "execution_count": null,
   "metadata": {
    "colab": {
     "base_uri": "https://localhost:8080/"
    },
    "id": "eES3VihUVv4z",
    "outputId": "c452159d-ec66-4884-8b4a-586e97f66fe7"
   },
   "outputs": [
    {
     "data": {
      "text/plain": [
       "(<tf.Tensor: shape=(3, 2), dtype=int32, numpy=\n",
       " array([[1, 2],\n",
       "        [3, 4],\n",
       "        [5, 6]], dtype=int32)>,\n",
       " <tf.Tensor: shape=(2, 3), dtype=int32, numpy=\n",
       " array([[1, 3, 5],\n",
       "        [2, 4, 6]], dtype=int32)>)"
      ]
     },
     "execution_count": 56,
     "metadata": {},
     "output_type": "execute_result"
    }
   ],
   "source": [
    "# Transpoze matrix\n",
    "X, tf.transpose(X)"
   ]
  },
  {
   "cell_type": "markdown",
   "metadata": {
    "id": "L74deKF1XXFR"
   },
   "source": [
    "**The dot product**\n",
    "\n",
    "The matrix multiplication also referred as dot product.\n",
    "\n",
    "You can perform matrix multiplication using;\n",
    "* `tf.matmul(tensor1, tensor2)`\n",
    "* `tf.tensordot(tensor1, tensor2)`\n",
    "* `@`"
   ]
  },
  {
   "cell_type": "code",
   "execution_count": null,
   "metadata": {
    "id": "qg8SWhoxbIAf"
   },
   "outputs": [],
   "source": [
    "# Create (3, 2) tensor\n",
    "X = tf.constant([[1, 2],\n",
    "                 [3, 4],\n",
    "                 [5, 6]])\n",
    "# Create another (3, 2) tensor\n",
    "Y = tf.constant([[7, 8],\n",
    "                 [9, 10],\n",
    "                 [11, 12]])"
   ]
  },
  {
   "cell_type": "code",
   "execution_count": null,
   "metadata": {
    "id": "wpgfaipCb78f"
   },
   "outputs": [],
   "source": [
    "# Perform the dot product on X and Y (requires X or Y to be transposed) "
   ]
  },
  {
   "cell_type": "code",
   "execution_count": null,
   "metadata": {
    "colab": {
     "base_uri": "https://localhost:8080/"
    },
    "id": "9m5Tdm5pcLO0",
    "outputId": "44c674f7-4958-43f1-d180-30d8b4cc2a75"
   },
   "outputs": [
    {
     "data": {
      "text/plain": [
       "<tf.Tensor: shape=(2, 2), dtype=int32, numpy=\n",
       "array([[ 89,  98],\n",
       "       [116, 128]], dtype=int32)>"
      ]
     },
     "execution_count": 59,
     "metadata": {},
     "output_type": "execute_result"
    }
   ],
   "source": [
    "tf.tensordot(tf.transpose(X), Y, axes=1)"
   ]
  },
  {
   "cell_type": "code",
   "execution_count": null,
   "metadata": {
    "colab": {
     "base_uri": "https://localhost:8080/"
    },
    "id": "nX2WURaMceLV",
    "outputId": "33c7c534-4288-4864-ec24-ee1befaff28c"
   },
   "outputs": [
    {
     "data": {
      "text/plain": [
       "<tf.Tensor: shape=(3, 3), dtype=int32, numpy=\n",
       "array([[ 23,  29,  35],\n",
       "       [ 53,  67,  81],\n",
       "       [ 83, 105, 127]], dtype=int32)>"
      ]
     },
     "execution_count": 60,
     "metadata": {},
     "output_type": "execute_result"
    }
   ],
   "source": [
    "# Perform matrix multiplication between X and transposed Y\n",
    "tf.matmul(X, tf.transpose(Y))"
   ]
  },
  {
   "cell_type": "code",
   "execution_count": null,
   "metadata": {
    "colab": {
     "base_uri": "https://localhost:8080/"
    },
    "id": "8IVGBpBAdmFT",
    "outputId": "30521731-0e60-46cc-8a88-d5c377d946b2"
   },
   "outputs": [
    {
     "data": {
      "text/plain": [
       "<tf.Tensor: shape=(3, 3), dtype=int32, numpy=\n",
       "array([[ 27,  30,  33],\n",
       "       [ 61,  68,  75],\n",
       "       [ 95, 106, 117]], dtype=int32)>"
      ]
     },
     "execution_count": 61,
     "metadata": {},
     "output_type": "execute_result"
    }
   ],
   "source": [
    "# Perform matrix multiplication between X and reshaped Y\n",
    "tf.matmul(X, tf.reshape(Y, shape=(2, 3)))"
   ]
  },
  {
   "cell_type": "code",
   "execution_count": null,
   "metadata": {
    "colab": {
     "base_uri": "https://localhost:8080/"
    },
    "id": "D9ixChKBdv9R",
    "outputId": "269517cf-3663-449e-80c3-5443bfb3ff11"
   },
   "outputs": [
    {
     "name": "stdout",
     "output_type": "stream",
     "text": [
      "Normal Y:\n",
      "tf.Tensor(\n",
      "[[ 7  8]\n",
      " [ 9 10]\n",
      " [11 12]], shape=(3, 2), dtype=int32) \n",
      "\n",
      "Reshaped Y:\n",
      "tf.Tensor(\n",
      "[[ 7  8  9]\n",
      " [10 11 12]], shape=(2, 3), dtype=int32) \n",
      "\n",
      "Transposed Y:\n",
      "tf.Tensor(\n",
      "[[ 7  9 11]\n",
      " [ 8 10 12]], shape=(2, 3), dtype=int32)\n"
     ]
    }
   ],
   "source": [
    "# Check the values Y, reshaped Y and transposed Y\n",
    "print('Normal Y:')\n",
    "print(Y, '\\n')\n",
    "\n",
    "print('Reshaped Y:')\n",
    "print(tf.reshape(Y, shape=(2, 3)), '\\n')\n",
    "\n",
    "print('Transposed Y:')\n",
    "print(tf.transpose(Y))"
   ]
  },
  {
   "cell_type": "markdown",
   "metadata": {
    "id": "wUxVs_j4e4G_"
   },
   "source": [
    "Generally,when performing matrix multiplication on two tensors, one of the axes doesn't line up, you will transpoze (rather than reshape) one of the tensors to get satisfy the matrix multiplication."
   ]
  },
  {
   "cell_type": "markdown",
   "metadata": {
    "id": "Zs1RPHnEiR9r"
   },
   "source": [
    "### Changing datatype of a tensor"
   ]
  },
  {
   "cell_type": "code",
   "execution_count": null,
   "metadata": {
    "colab": {
     "base_uri": "https://localhost:8080/"
    },
    "id": "X35Ol2leieuG",
    "outputId": "54967be8-9d33-4e53-ab70-a2f8e105628a"
   },
   "outputs": [
    {
     "data": {
      "text/plain": [
       "tf.float32"
      ]
     },
     "execution_count": 63,
     "metadata": {},
     "output_type": "execute_result"
    }
   ],
   "source": [
    "# Create new tensor with default datatype\n",
    "B = tf.constant([1.7 , 7.4])\n",
    "B.dtype"
   ]
  },
  {
   "cell_type": "code",
   "execution_count": null,
   "metadata": {
    "colab": {
     "base_uri": "https://localhost:8080/"
    },
    "id": "UphK9c-zujOI",
    "outputId": "1e9878c6-d959-4bee-de3a-c3537d910079"
   },
   "outputs": [
    {
     "data": {
      "text/plain": [
       "tf.int32"
      ]
     },
     "execution_count": 64,
     "metadata": {},
     "output_type": "execute_result"
    }
   ],
   "source": [
    "# Create new tensor with default datatype\n",
    "C = tf.constant([10, 7])\n",
    "C.dtype"
   ]
  },
  {
   "cell_type": "code",
   "execution_count": null,
   "metadata": {
    "colab": {
     "base_uri": "https://localhost:8080/"
    },
    "id": "k9OO3UbBuxHi",
    "outputId": "964a1bc5-6664-46cd-b2eb-d38b44cc3151"
   },
   "outputs": [
    {
     "data": {
      "text/plain": [
       "<tf.Tensor: shape=(2,), dtype=float16, numpy=array([1.7, 7.4], dtype=float16)>"
      ]
     },
     "execution_count": 65,
     "metadata": {},
     "output_type": "execute_result"
    }
   ],
   "source": [
    "# Change from float32 to float16 (reduce precision)\n",
    "D = tf.cast(B, dtype=tf.float16)\n",
    "D"
   ]
  },
  {
   "cell_type": "code",
   "execution_count": null,
   "metadata": {
    "colab": {
     "base_uri": "https://localhost:8080/"
    },
    "id": "PT3ghJFowLtp",
    "outputId": "4d28e58e-79fa-429f-cae0-1f1dc500d37c"
   },
   "outputs": [
    {
     "data": {
      "text/plain": [
       "<tf.Tensor: shape=(2,), dtype=float16, numpy=array([10.,  7.], dtype=float16)>"
      ]
     },
     "execution_count": 66,
     "metadata": {},
     "output_type": "execute_result"
    }
   ],
   "source": [
    "# Change from int32 to float16\n",
    "E = tf.cast(C, dtype=tf.float16)\n",
    "E"
   ]
  },
  {
   "cell_type": "markdown",
   "metadata": {
    "id": "C9AOLWlow3P-"
   },
   "source": [
    "### Aggregating tensors\n",
    "\n",
    "Aggregatin tensors: considering them from multiple values down to a smaller amount of value"
   ]
  },
  {
   "cell_type": "code",
   "execution_count": null,
   "metadata": {
    "colab": {
     "base_uri": "https://localhost:8080/"
    },
    "id": "hDQREJGeyMpc",
    "outputId": "a2532438-ff49-433f-e42c-ab28f9448cbe"
   },
   "outputs": [
    {
     "data": {
      "text/plain": [
       "(<tf.Tensor: shape=(2,), dtype=int32, numpy=array([-10,  -7], dtype=int32)>,\n",
       " <tf.Tensor: shape=(2,), dtype=int32, numpy=array([10,  7], dtype=int32)>)"
      ]
     },
     "execution_count": 67,
     "metadata": {},
     "output_type": "execute_result"
    }
   ],
   "source": [
    "# Get the absolute values\n",
    "F = tf.constant([-10, -7])\n",
    "F, tf.abs(F)"
   ]
  },
  {
   "cell_type": "markdown",
   "metadata": {
    "id": "mxS4-9q9yoWE"
   },
   "source": [
    "Let's go through the following aggregating:\n",
    "* Get the minumum of the tensor\n",
    "* Get the maximum of the tensor\n",
    "* Get the mean of the tensor\n",
    "* Get the sum of the tensor"
   ]
  },
  {
   "cell_type": "code",
   "execution_count": null,
   "metadata": {
    "colab": {
     "base_uri": "https://localhost:8080/"
    },
    "id": "pRLaZQT9zpgR",
    "outputId": "834c2d8b-bbe6-4cdd-8143-be6ab6d5456b"
   },
   "outputs": [
    {
     "data": {
      "text/plain": [
       "<tf.Tensor: shape=(3, 8), dtype=int64, numpy=\n",
       "array([[ 1,  2,  3,  4,  5,  6,  7,  8],\n",
       "       [ 9, 10, 11, 12, 13, 14, 15, 16],\n",
       "       [17, 18, 19, 20, 21, 22, 23, 24]])>"
      ]
     },
     "execution_count": 68,
     "metadata": {},
     "output_type": "execute_result"
    }
   ],
   "source": [
    "# Create a tensor from Numpy array\n",
    "numpy_arr = np.arange(1, 25)\n",
    "X = tf.constant(numpy_arr, shape=(3, 8))\n",
    "X"
   ]
  },
  {
   "cell_type": "code",
   "execution_count": null,
   "metadata": {
    "colab": {
     "base_uri": "https://localhost:8080/"
    },
    "id": "biFEbrvV0CmS",
    "outputId": "2df8a783-e1d9-4332-9e45-d73900dc3d8a"
   },
   "outputs": [
    {
     "data": {
      "text/plain": [
       "24"
      ]
     },
     "execution_count": 69,
     "metadata": {},
     "output_type": "execute_result"
    }
   ],
   "source": [
    "# Get the maximum of tensor X\n",
    "tf.reduce_max(X).numpy()"
   ]
  },
  {
   "cell_type": "code",
   "execution_count": null,
   "metadata": {
    "colab": {
     "base_uri": "https://localhost:8080/"
    },
    "id": "mS_AEgbG0XHs",
    "outputId": "d3b6cfc3-845f-46d8-ee33-a660e7713ea4"
   },
   "outputs": [
    {
     "data": {
      "text/plain": [
       "1"
      ]
     },
     "execution_count": 70,
     "metadata": {},
     "output_type": "execute_result"
    }
   ],
   "source": [
    "# Get the minumum of tensor X\n",
    "tf.reduce_min(X).numpy()"
   ]
  },
  {
   "cell_type": "code",
   "execution_count": null,
   "metadata": {
    "colab": {
     "base_uri": "https://localhost:8080/"
    },
    "id": "p9w5TB0t0mC5",
    "outputId": "e11ca978-4a7e-4565-8950-62c5e50fb5bf"
   },
   "outputs": [
    {
     "data": {
      "text/plain": [
       "12"
      ]
     },
     "execution_count": 71,
     "metadata": {},
     "output_type": "execute_result"
    }
   ],
   "source": [
    "# Get the mean of tensor X\n",
    "tf.reduce_mean(X).numpy()"
   ]
  },
  {
   "cell_type": "code",
   "execution_count": null,
   "metadata": {
    "colab": {
     "base_uri": "https://localhost:8080/"
    },
    "id": "FUGw6pdz04ab",
    "outputId": "93fc6e80-2908-48f2-e259-ea2c4cdedcc1"
   },
   "outputs": [
    {
     "data": {
      "text/plain": [
       "300"
      ]
     },
     "execution_count": 72,
     "metadata": {},
     "output_type": "execute_result"
    }
   ],
   "source": [
    "# Get the sum of tensor X\n",
    "tf.reduce_sum(X).numpy()"
   ]
  },
  {
   "cell_type": "code",
   "execution_count": null,
   "metadata": {
    "colab": {
     "base_uri": "https://localhost:8080/"
    },
    "id": "UhNC2J8x0_Qv",
    "outputId": "3c5df61a-f222-4175-9708-d99b5f190b29"
   },
   "outputs": [
    {
     "data": {
      "text/plain": [
       "<tf.Tensor: shape=(), dtype=float64, numpy=47.916666666666664>"
      ]
     },
     "execution_count": 73,
     "metadata": {},
     "output_type": "execute_result"
    }
   ],
   "source": [
    "# Get the variance of tensor X\n",
    "tf.math.reduce_variance(tf.cast(X, dtype=tf.float64))"
   ]
  },
  {
   "cell_type": "code",
   "execution_count": null,
   "metadata": {
    "colab": {
     "base_uri": "https://localhost:8080/"
    },
    "id": "0EzkzvWx16Bs",
    "outputId": "dc0accde-3f45-4322-d084-c9d674c7e6df"
   },
   "outputs": [
    {
     "data": {
      "text/plain": [
       "<tf.Tensor: shape=(), dtype=float64, numpy=6.922186552431729>"
      ]
     },
     "execution_count": 74,
     "metadata": {},
     "output_type": "execute_result"
    }
   ],
   "source": [
    "# Get the std of tensor X\n",
    "tf.math.reduce_std(tf.cast(X, dtype=tf.float64))"
   ]
  },
  {
   "cell_type": "markdown",
   "metadata": {
    "id": "NmaEUq7-2j_z"
   },
   "source": [
    "### Find the positional maximum and minumum"
   ]
  },
  {
   "cell_type": "code",
   "execution_count": null,
   "metadata": {
    "colab": {
     "base_uri": "https://localhost:8080/"
    },
    "id": "kp2q0n_b5DSI",
    "outputId": "a18fa260-d924-438b-d19c-30e8059fc49d"
   },
   "outputs": [
    {
     "data": {
      "text/plain": [
       "<tf.Tensor: shape=(50,), dtype=float32, numpy=\n",
       "array([0.6645621 , 0.44100678, 0.3528825 , 0.46448255, 0.03366041,\n",
       "       0.68467236, 0.74011743, 0.8724445 , 0.22632635, 0.22319686,\n",
       "       0.3103881 , 0.7223358 , 0.13318717, 0.5480639 , 0.5746088 ,\n",
       "       0.8996835 , 0.00946367, 0.5212307 , 0.6345445 , 0.1993283 ,\n",
       "       0.72942245, 0.54583454, 0.10756552, 0.6767061 , 0.6602763 ,\n",
       "       0.33695042, 0.60141766, 0.21062577, 0.8527372 , 0.44062173,\n",
       "       0.9485276 , 0.23752594, 0.81179297, 0.5263394 , 0.494308  ,\n",
       "       0.21612847, 0.8457197 , 0.8718841 , 0.3083862 , 0.6868038 ,\n",
       "       0.23764038, 0.7817228 , 0.9671384 , 0.06870162, 0.79873943,\n",
       "       0.66028714, 0.5871513 , 0.16461694, 0.7381023 , 0.32054043],\n",
       "      dtype=float32)>"
      ]
     },
     "execution_count": 75,
     "metadata": {},
     "output_type": "execute_result"
    }
   ],
   "source": [
    "# Creating a tensor for finding positional maximum and minumum\n",
    "tf.random.set_seed(42)\n",
    "random_tensor = tf.random.uniform(shape=[50])\n",
    "random_tensor"
   ]
  },
  {
   "cell_type": "code",
   "execution_count": null,
   "metadata": {
    "colab": {
     "base_uri": "https://localhost:8080/"
    },
    "id": "KN35v9qX6ftT",
    "outputId": "1c9a9670-8815-421b-fa5c-cb0727349edb"
   },
   "outputs": [
    {
     "data": {
      "text/plain": [
       "42"
      ]
     },
     "execution_count": 76,
     "metadata": {},
     "output_type": "execute_result"
    }
   ],
   "source": [
    "# Find the positional maximum\n",
    "tf.argmax(random_tensor).numpy()"
   ]
  },
  {
   "cell_type": "code",
   "execution_count": null,
   "metadata": {
    "colab": {
     "base_uri": "https://localhost:8080/"
    },
    "id": "B93Rxjei79Kn",
    "outputId": "2ba0854a-dab1-4fe8-934c-c923a7dd3ab2"
   },
   "outputs": [
    {
     "data": {
      "text/plain": [
       "0.9671384"
      ]
     },
     "execution_count": 77,
     "metadata": {},
     "output_type": "execute_result"
    }
   ],
   "source": [
    "# Index on our largest value position\n",
    "random_tensor[tf.argmax(random_tensor)].numpy()"
   ]
  },
  {
   "cell_type": "code",
   "execution_count": null,
   "metadata": {
    "colab": {
     "base_uri": "https://localhost:8080/"
    },
    "id": "jV4mRXj38yuL",
    "outputId": "6a5ed88e-705a-417a-c404-3d5c04d4f728"
   },
   "outputs": [
    {
     "data": {
      "text/plain": [
       "<tf.Tensor: shape=(), dtype=float32, numpy=0.9671384>"
      ]
     },
     "execution_count": 78,
     "metadata": {},
     "output_type": "execute_result"
    }
   ],
   "source": [
    "# Find the max value in tensor\n",
    "tf.reduce_max(random_tensor)"
   ]
  },
  {
   "cell_type": "code",
   "execution_count": null,
   "metadata": {
    "colab": {
     "base_uri": "https://localhost:8080/"
    },
    "id": "oeCps8wU85Ik",
    "outputId": "3e8805e4-491e-42b9-f3b2-c4b9c1ae2661"
   },
   "outputs": [
    {
     "data": {
      "text/plain": [
       "<tf.Tensor: shape=(), dtype=bool, numpy=True>"
      ]
     },
     "execution_count": 79,
     "metadata": {},
     "output_type": "execute_result"
    }
   ],
   "source": [
    "# Check equality\n",
    "tf.reduce_max(random_tensor) == random_tensor[tf.argmax(random_tensor)].numpy()"
   ]
  },
  {
   "cell_type": "code",
   "execution_count": null,
   "metadata": {
    "colab": {
     "base_uri": "https://localhost:8080/"
    },
    "id": "vuY0Ct5r7Tig",
    "outputId": "a4b8e5eb-ffc0-4493-c571-b5a4e2dd9698"
   },
   "outputs": [
    {
     "data": {
      "text/plain": [
       "16"
      ]
     },
     "execution_count": 80,
     "metadata": {},
     "output_type": "execute_result"
    }
   ],
   "source": [
    "# Find the positional minumum\n",
    "tf.argmin(random_tensor).numpy()"
   ]
  },
  {
   "cell_type": "code",
   "execution_count": null,
   "metadata": {
    "colab": {
     "base_uri": "https://localhost:8080/"
    },
    "id": "Y9p85wI87smI",
    "outputId": "ede55583-c7ac-4e11-d643-76ddced40573"
   },
   "outputs": [
    {
     "data": {
      "text/plain": [
       "0.009463668"
      ]
     },
     "execution_count": 81,
     "metadata": {},
     "output_type": "execute_result"
    }
   ],
   "source": [
    "# Index on our smallest value position\n",
    "random_tensor[tf.argmin(random_tensor)].numpy()"
   ]
  },
  {
   "cell_type": "markdown",
   "metadata": {
    "id": "GAEmoPcR8T6g"
   },
   "source": [
    "### Squeezing tensor (removing all single dimension)"
   ]
  },
  {
   "cell_type": "code",
   "execution_count": null,
   "metadata": {
    "colab": {
     "base_uri": "https://localhost:8080/"
    },
    "id": "BDQCfvimaWL1",
    "outputId": "f83d410c-abef-4894-c7dd-557c14342030"
   },
   "outputs": [
    {
     "data": {
      "text/plain": [
       "<tf.Tensor: shape=(1, 1, 1, 1, 50), dtype=float32, numpy=\n",
       "array([[[[[0.6645621 , 0.44100678, 0.3528825 , 0.46448255, 0.03366041,\n",
       "           0.68467236, 0.74011743, 0.8724445 , 0.22632635, 0.22319686,\n",
       "           0.3103881 , 0.7223358 , 0.13318717, 0.5480639 , 0.5746088 ,\n",
       "           0.8996835 , 0.00946367, 0.5212307 , 0.6345445 , 0.1993283 ,\n",
       "           0.72942245, 0.54583454, 0.10756552, 0.6767061 , 0.6602763 ,\n",
       "           0.33695042, 0.60141766, 0.21062577, 0.8527372 , 0.44062173,\n",
       "           0.9485276 , 0.23752594, 0.81179297, 0.5263394 , 0.494308  ,\n",
       "           0.21612847, 0.8457197 , 0.8718841 , 0.3083862 , 0.6868038 ,\n",
       "           0.23764038, 0.7817228 , 0.9671384 , 0.06870162, 0.79873943,\n",
       "           0.66028714, 0.5871513 , 0.16461694, 0.7381023 , 0.32054043]]]]],\n",
       "      dtype=float32)>"
      ]
     },
     "execution_count": 83,
     "metadata": {},
     "output_type": "execute_result"
    }
   ],
   "source": [
    "# Create a tensor to get started\n",
    "tf.random.set_seed(42)\n",
    "G = tf.constant(tf.random.uniform(shape=[50]), shape=(1, 1, 1, 1, 50))\n",
    "G"
   ]
  },
  {
   "cell_type": "code",
   "execution_count": null,
   "metadata": {
    "colab": {
     "base_uri": "https://localhost:8080/"
    },
    "id": "Qnh15QYya2sM",
    "outputId": "709b4eac-62db-4152-d377-605bfb5a0c91"
   },
   "outputs": [
    {
     "data": {
      "text/plain": [
       "<tf.Tensor: shape=(50,), dtype=float32, numpy=\n",
       "array([0.6645621 , 0.44100678, 0.3528825 , 0.46448255, 0.03366041,\n",
       "       0.68467236, 0.74011743, 0.8724445 , 0.22632635, 0.22319686,\n",
       "       0.3103881 , 0.7223358 , 0.13318717, 0.5480639 , 0.5746088 ,\n",
       "       0.8996835 , 0.00946367, 0.5212307 , 0.6345445 , 0.1993283 ,\n",
       "       0.72942245, 0.54583454, 0.10756552, 0.6767061 , 0.6602763 ,\n",
       "       0.33695042, 0.60141766, 0.21062577, 0.8527372 , 0.44062173,\n",
       "       0.9485276 , 0.23752594, 0.81179297, 0.5263394 , 0.494308  ,\n",
       "       0.21612847, 0.8457197 , 0.8718841 , 0.3083862 , 0.6868038 ,\n",
       "       0.23764038, 0.7817228 , 0.9671384 , 0.06870162, 0.79873943,\n",
       "       0.66028714, 0.5871513 , 0.16461694, 0.7381023 , 0.32054043],\n",
       "      dtype=float32)>"
      ]
     },
     "execution_count": 84,
     "metadata": {},
     "output_type": "execute_result"
    }
   ],
   "source": [
    "# Squeezing tensor\n",
    "G_squeezed = tf.squeeze(G)\n",
    "G_squeezed"
   ]
  },
  {
   "cell_type": "markdown",
   "metadata": {
    "id": "vNf44LDuberW"
   },
   "source": [
    "### One-hot encoding tensors"
   ]
  },
  {
   "cell_type": "code",
   "execution_count": null,
   "metadata": {
    "colab": {
     "base_uri": "https://localhost:8080/"
    },
    "id": "GBJ4j4nqbxLF",
    "outputId": "4e629956-b253-4579-b9d5-963c701931c9"
   },
   "outputs": [
    {
     "data": {
      "text/plain": [
       "<tf.Tensor: shape=(4, 4), dtype=float32, numpy=\n",
       "array([[1., 0., 0., 0.],\n",
       "       [0., 1., 0., 0.],\n",
       "       [0., 0., 1., 0.],\n",
       "       [0., 0., 0., 1.]], dtype=float32)>"
      ]
     },
     "execution_count": 85,
     "metadata": {},
     "output_type": "execute_result"
    }
   ],
   "source": [
    "# Create a list of indices\n",
    "some_list = [0, 1, 2, 3]\n",
    "\n",
    "# One hot encode\n",
    "tf.one_hot(some_list, depth=4)"
   ]
  },
  {
   "cell_type": "code",
   "execution_count": null,
   "metadata": {
    "colab": {
     "base_uri": "https://localhost:8080/"
    },
    "id": "hOUZJo2zcvQQ",
    "outputId": "ba9da6bc-244e-4e65-f896-0983a98de887"
   },
   "outputs": [
    {
     "data": {
      "text/plain": [
       "<tf.Tensor: shape=(4, 4), dtype=string, numpy=\n",
       "array([[b'O', b'X', b'X', b'X'],\n",
       "       [b'X', b'O', b'X', b'X'],\n",
       "       [b'X', b'X', b'O', b'X'],\n",
       "       [b'X', b'X', b'X', b'O']], dtype=object)>"
      ]
     },
     "execution_count": 86,
     "metadata": {},
     "output_type": "execute_result"
    }
   ],
   "source": [
    "# Specify custom value for one hot encoding\n",
    "tf.one_hot(some_list, depth=4, on_value='O', off_value='X')"
   ]
  },
  {
   "cell_type": "markdown",
   "metadata": {
    "id": "S_NUDXqRd1Nc"
   },
   "source": [
    "### Squaring, log, square root"
   ]
  },
  {
   "cell_type": "code",
   "execution_count": null,
   "metadata": {
    "colab": {
     "base_uri": "https://localhost:8080/"
    },
    "id": "7Ow3a2BOe4tB",
    "outputId": "27dd7b5b-716c-4590-c13e-e7b74e7dc117"
   },
   "outputs": [
    {
     "data": {
      "text/plain": [
       "<tf.Tensor: shape=(9,), dtype=int32, numpy=array([1, 2, 3, 4, 5, 6, 7, 8, 9], dtype=int32)>"
      ]
     },
     "execution_count": 88,
     "metadata": {},
     "output_type": "execute_result"
    }
   ],
   "source": [
    "# Create new tensor\n",
    "H = tf.range(1, 10)\n",
    "H"
   ]
  },
  {
   "cell_type": "code",
   "execution_count": null,
   "metadata": {
    "colab": {
     "base_uri": "https://localhost:8080/"
    },
    "id": "giOVpS1LfCpt",
    "outputId": "09b3c113-f911-4c65-8b80-b85f8cb81afe"
   },
   "outputs": [
    {
     "data": {
      "text/plain": [
       "<tf.Tensor: shape=(9,), dtype=int32, numpy=array([ 1,  4,  9, 16, 25, 36, 49, 64, 81], dtype=int32)>"
      ]
     },
     "execution_count": 89,
     "metadata": {},
     "output_type": "execute_result"
    }
   ],
   "source": [
    "# Square tensor H\n",
    "tf.square(H)"
   ]
  },
  {
   "cell_type": "code",
   "execution_count": null,
   "metadata": {
    "colab": {
     "base_uri": "https://localhost:8080/"
    },
    "id": "TM62yRCrfO10",
    "outputId": "e97f968d-b45f-4db5-8fed-d02d04121cdc"
   },
   "outputs": [
    {
     "data": {
      "text/plain": [
       "<tf.Tensor: shape=(9,), dtype=float32, numpy=\n",
       "array([0.99999994, 0.7071067 , 0.57735026, 0.49999997, 0.4472136 ,\n",
       "       0.40824828, 0.37796447, 0.35355335, 0.33333334], dtype=float32)>"
      ]
     },
     "execution_count": 93,
     "metadata": {},
     "output_type": "execute_result"
    }
   ],
   "source": [
    "# Root square\n",
    "tf.math.rsqrt(tf.cast(H, dtype=tf.float32))"
   ]
  },
  {
   "cell_type": "code",
   "execution_count": null,
   "metadata": {
    "colab": {
     "base_uri": "https://localhost:8080/"
    },
    "id": "tfqkzFoGfc5Y",
    "outputId": "2fce9b13-ce2c-458b-faac-073eb5eec8ff"
   },
   "outputs": [
    {
     "data": {
      "text/plain": [
       "<tf.Tensor: shape=(9,), dtype=float32, numpy=\n",
       "array([0.       , 0.6931472, 1.0986123, 1.3862944, 1.609438 , 1.7917595,\n",
       "       1.9459102, 2.0794415, 2.1972246], dtype=float32)>"
      ]
     },
     "execution_count": 95,
     "metadata": {},
     "output_type": "execute_result"
    }
   ],
   "source": [
    "# Find the log\n",
    "tf.math.log(tf.cast(H, dtype=tf.float32))"
   ]
  },
  {
   "cell_type": "markdown",
   "metadata": {
    "id": "LmVD0gVngHm1"
   },
   "source": [
    "### Tensors and Numpy\n",
    "\n",
    "Tensorflow interact beautifully with Numpy.\n",
    "\n",
    "**Note:** One the main difference between tensors and numpy arrays is that tensors can be run on GPU and TPU. That's why tensors are much faster than numpy arrays."
   ]
  },
  {
   "cell_type": "code",
   "execution_count": null,
   "metadata": {
    "colab": {
     "base_uri": "https://localhost:8080/"
    },
    "id": "u4BGv7l7gjyC",
    "outputId": "b3f83979-a6c9-4ec5-8b09-b7cb5798fd19"
   },
   "outputs": [
    {
     "data": {
      "text/plain": [
       "<tf.Tensor: shape=(3,), dtype=float64, numpy=array([0.7, 0.1, 2.5])>"
      ]
     },
     "execution_count": 96,
     "metadata": {},
     "output_type": "execute_result"
    }
   ],
   "source": [
    "# Create a tensor directly from Numpy array\n",
    "J = tf.constant(np.array([0.7, 0.1, 2.5]))\n",
    "J"
   ]
  },
  {
   "cell_type": "code",
   "execution_count": null,
   "metadata": {
    "colab": {
     "base_uri": "https://localhost:8080/"
    },
    "id": "oMwPBCp4hXT4",
    "outputId": "8fe59c8e-e60d-4184-c73d-2c9d2e6556c3"
   },
   "outputs": [
    {
     "data": {
      "text/plain": [
       "(array([0.7, 0.1, 2.5]), numpy.ndarray)"
      ]
     },
     "execution_count": 98,
     "metadata": {},
     "output_type": "execute_result"
    }
   ],
   "source": [
    "# Convert tensor J to numpy array\n",
    "np.array(J), type(np.array(J))"
   ]
  },
  {
   "cell_type": "code",
   "execution_count": null,
   "metadata": {
    "colab": {
     "base_uri": "https://localhost:8080/"
    },
    "id": "2aiOX9wEhf0c",
    "outputId": "7e35e7a0-9de3-48f5-9024-e59a02b8c5ee"
   },
   "outputs": [
    {
     "data": {
      "text/plain": [
       "(array([0.7, 0.1, 2.5]), numpy.ndarray)"
      ]
     },
     "execution_count": 99,
     "metadata": {},
     "output_type": "execute_result"
    }
   ],
   "source": [
    "# Convert tensor J to numpy array\n",
    "J.numpy(), type(J.numpy())"
   ]
  },
  {
   "cell_type": "markdown",
   "metadata": {
    "id": "r5V8M7QChzWR"
   },
   "source": [
    "### Finding access to CPUs"
   ]
  },
  {
   "cell_type": "code",
   "execution_count": null,
   "metadata": {
    "colab": {
     "base_uri": "https://localhost:8080/"
    },
    "id": "fYVXbC-kjp_2",
    "outputId": "8f69a834-c0d2-4a05-9ddb-ddc2e032e335"
   },
   "outputs": [
    {
     "data": {
      "text/plain": [
       "[LogicalDevice(name='/device:GPU:0', device_type='GPU')]"
      ]
     },
     "execution_count": 3,
     "metadata": {},
     "output_type": "execute_result"
    }
   ],
   "source": [
    "tf.config.list_logical_devices('GPU')"
   ]
  },
  {
   "cell_type": "code",
   "execution_count": 1,
   "metadata": {
    "colab": {
     "base_uri": "https://localhost:8080/"
    },
    "id": "KlHOCRZJkQIO",
    "outputId": "e3be3c65-2b09-4557-b979-3b2be15ea1c6"
   },
   "outputs": [
    {
     "name": "stdout",
     "output_type": "stream",
     "text": [
      "Wed Apr 12 21:57:21 2023       \n",
      "+-----------------------------------------------------------------------------+\n",
      "| NVIDIA-SMI 512.89       Driver Version: 512.89       CUDA Version: 11.6     |\n",
      "|-------------------------------+----------------------+----------------------+\n",
      "| GPU  Name            TCC/WDDM | Bus-Id        Disp.A | Volatile Uncorr. ECC |\n",
      "| Fan  Temp  Perf  Pwr:Usage/Cap|         Memory-Usage | GPU-Util  Compute M. |\n",
      "|                               |                      |               MIG M. |\n",
      "|===============================+======================+======================|\n",
      "|   0  NVIDIA GeForce ... WDDM  | 00000000:01:00.0 Off |                  N/A |\n",
      "| N/A   45C    P8     9W /  N/A |      0MiB /  4096MiB |      0%      Default |\n",
      "|                               |                      |                  N/A |\n",
      "+-------------------------------+----------------------+----------------------+\n",
      "                                                                               \n",
      "+-----------------------------------------------------------------------------+\n",
      "| Processes:                                                                  |\n",
      "|  GPU   GI   CI        PID   Type   Process name                  GPU Memory |\n",
      "|        ID   ID                                                   Usage      |\n",
      "|=============================================================================|\n",
      "|  No running processes found                                                 |\n",
      "+-----------------------------------------------------------------------------+\n"
     ]
    }
   ],
   "source": [
    "!nvidia-smi"
   ]
  },
  {
   "cell_type": "markdown",
   "metadata": {
    "id": "r5V8M7QChzWR"
   },
   "source": [
    "### Exercises"
   ]
  },
  {
   "cell_type": "markdown",
   "metadata": {},
   "source": [
    "https://github.com/SedatParlak/tensorflow/blob/main/00_tensorflow_fundamentals_exercise.ipynb"
   ]
  }
 ],
 "metadata": {
  "accelerator": "GPU",
  "colab": {
   "provenance": []
  },
  "gpuClass": "standard",
  "kernelspec": {
   "display_name": "Python 3 (ipykernel)",
   "language": "python",
   "name": "python3"
  },
  "language_info": {
   "codemirror_mode": {
    "name": "ipython",
    "version": 3
   },
   "file_extension": ".py",
   "mimetype": "text/x-python",
   "name": "python",
   "nbconvert_exporter": "python",
   "pygments_lexer": "ipython3",
   "version": "3.9.13"
  },
  "toc": {
   "base_numbering": 1,
   "nav_menu": {},
   "number_sections": true,
   "sideBar": false,
   "skip_h1_title": false,
   "title_cell": "Table of Contents",
   "title_sidebar": "Contents",
   "toc_cell": true,
   "toc_position": {
    "height": "476px",
    "left": "1190px",
    "top": "110.525px",
    "width": "307.2px"
   },
   "toc_section_display": false,
   "toc_window_display": true
  }
 },
 "nbformat": 4,
 "nbformat_minor": 1
}
