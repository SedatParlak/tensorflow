{
  "nbformat": 4,
  "nbformat_minor": 0,
  "metadata": {
    "colab": {
      "provenance": [],
      "authorship_tag": "ABX9TyPy1xN2MPSjDFys/KEZ4Khe"
    },
    "kernelspec": {
      "name": "python3",
      "display_name": "Python 3"
    },
    "language_info": {
      "name": "python"
    }
  },
  "cells": [
    {
      "cell_type": "markdown",
      "source": [
        "# Tensorflow Fundamentals - Exercises 🛠"
      ],
      "metadata": {
        "id": "YbzxTyqEDzCs"
      }
    },
    {
      "cell_type": "code",
      "source": [
        "import numpy as np\n",
        "import tensorflow as tf\n",
        "\n",
        "print(tf.__version__)"
      ],
      "metadata": {
        "colab": {
          "base_uri": "https://localhost:8080/"
        },
        "id": "om9x_DiYB_gt",
        "outputId": "c783cc07-f88d-4c84-d16f-d563dd8eafaf"
      },
      "execution_count": 13,
      "outputs": [
        {
          "output_type": "stream",
          "name": "stdout",
          "text": [
            "2.12.0\n"
          ]
        }
      ]
    },
    {
      "cell_type": "markdown",
      "source": [
        "### 1) Create a vector, scalar, matrix and tensor with values of your choosing using tf.constant()"
      ],
      "metadata": {
        "id": "aZszFWmMDsC-"
      }
    },
    {
      "cell_type": "code",
      "execution_count": 11,
      "metadata": {
        "colab": {
          "base_uri": "https://localhost:8080/"
        },
        "id": "6OJFPR4s-Rl9",
        "outputId": "83b037a3-8d24-4392-d553-5cff45b0fd59"
      },
      "outputs": [
        {
          "output_type": "execute_result",
          "data": {
            "text/plain": [
              "<tf.Tensor: shape=(), dtype=int32, numpy=11>"
            ]
          },
          "metadata": {},
          "execution_count": 11
        }
      ],
      "source": [
        "# Create a scalar\n",
        "scalar = tf.constant(11)\n",
        "scalar"
      ]
    },
    {
      "cell_type": "code",
      "source": [
        "# Create a vector\n",
        "vector = tf.constant(np.arange(start=1, stop=20, step=2))\n",
        "vector"
      ],
      "metadata": {
        "colab": {
          "base_uri": "https://localhost:8080/"
        },
        "id": "5KTcYxvyCQai",
        "outputId": "c21a62ed-ef23-4948-c5c5-3e927fbe6338"
      },
      "execution_count": 17,
      "outputs": [
        {
          "output_type": "execute_result",
          "data": {
            "text/plain": [
              "<tf.Tensor: shape=(10,), dtype=int64, numpy=array([ 1,  3,  5,  7,  9, 11, 13, 15, 17, 19])>"
            ]
          },
          "metadata": {},
          "execution_count": 17
        }
      ]
    },
    {
      "cell_type": "code",
      "source": [
        "# Create a matrix\n",
        "matrix = tf.constant(np.random.randint(1, 100, size=(5, 7)))\n",
        "matrix"
      ],
      "metadata": {
        "colab": {
          "base_uri": "https://localhost:8080/"
        },
        "id": "2M8JfJPmEZBb",
        "outputId": "6d9afdb7-2b9b-4584-e260-da71b7544225"
      },
      "execution_count": 26,
      "outputs": [
        {
          "output_type": "execute_result",
          "data": {
            "text/plain": [
              "<tf.Tensor: shape=(5, 7), dtype=int64, numpy=\n",
              "array([[97,  9, 58, 24, 11, 87,  6],\n",
              "       [91, 19, 50, 39, 89,  1, 80],\n",
              "       [ 9, 39, 63, 40, 95, 67, 63],\n",
              "       [99, 54, 64, 63, 96, 58, 58],\n",
              "       [84, 72, 83, 92, 23, 60, 46]])>"
            ]
          },
          "metadata": {},
          "execution_count": 26
        }
      ]
    },
    {
      "cell_type": "code",
      "source": [
        "# Create a tensor\n",
        "tensor = tf.constant(np.random.randint(1, 100, size=(2, 3, 4)))\n",
        "tensor"
      ],
      "metadata": {
        "colab": {
          "base_uri": "https://localhost:8080/"
        },
        "id": "s88L5mk1FCOz",
        "outputId": "4256919a-94df-43c9-b1dd-734c313e9477"
      },
      "execution_count": 28,
      "outputs": [
        {
          "output_type": "execute_result",
          "data": {
            "text/plain": [
              "<tf.Tensor: shape=(2, 3, 4), dtype=int64, numpy=\n",
              "array([[[47, 69, 89, 13],\n",
              "        [73, 97, 81,  3],\n",
              "        [74, 46, 22, 76]],\n",
              "\n",
              "       [[60, 89, 22,  6],\n",
              "        [ 3, 25,  7, 70],\n",
              "        [ 7, 94, 67,  9]]])>"
            ]
          },
          "metadata": {},
          "execution_count": 28
        }
      ]
    },
    {
      "cell_type": "markdown",
      "source": [
        "### 2) Find the shape, rank, dtype and size of the tensors you created in 1."
      ],
      "metadata": {
        "id": "IJcdZzaaFxrD"
      }
    },
    {
      "cell_type": "code",
      "source": [
        "print('Tensor shape:', tensor.shape)\n",
        "print('Tensor rank: ', tensor.ndim)\n",
        "print('Tensor dtype: ', tensor.dtype)\n",
        "print('Tensor size: ', tf.size(tensor).numpy())"
      ],
      "metadata": {
        "colab": {
          "base_uri": "https://localhost:8080/"
        },
        "id": "zNMRXLOdGDRa",
        "outputId": "e343bc4a-f012-4e8a-876c-21cbc1563bab"
      },
      "execution_count": 40,
      "outputs": [
        {
          "output_type": "stream",
          "name": "stdout",
          "text": [
            "Tensor shape: (2, 3, 4)\n",
            "Tensor rank:  3\n",
            "Tensor dtype:  <dtype: 'int64'>\n",
            "Tensor size:  24\n"
          ]
        }
      ]
    },
    {
      "cell_type": "markdown",
      "source": [
        "### 3) Create two tensors containing random values between 0 and 1 with shape [5, 300]."
      ],
      "metadata": {
        "id": "V5JWI6hVGK-7"
      }
    },
    {
      "cell_type": "code",
      "source": [
        "tf.random.set_seed(42)\n",
        "\n",
        "tensor_1 = tf.random.uniform(minval=0, maxval=1, shape=[5, 300])\n",
        "tensor_2 = tf.random.uniform(minval=0, maxval=1, shape=[5, 300])\n",
        "\n",
        "tensor_1, tensor_2"
      ],
      "metadata": {
        "colab": {
          "base_uri": "https://localhost:8080/"
        },
        "id": "j0V1z5ZCHNMi",
        "outputId": "dfa4ff46-f101-4e60-b276-a00b5a4b964f"
      },
      "execution_count": 53,
      "outputs": [
        {
          "output_type": "execute_result",
          "data": {
            "text/plain": [
              "(<tf.Tensor: shape=(5, 300), dtype=float32, numpy=\n",
              " array([[0.6645621 , 0.44100678, 0.3528825 , ..., 0.31410468, 0.7593535 ,\n",
              "         0.03699052],\n",
              "        [0.532024  , 0.29129946, 0.10571766, ..., 0.54052293, 0.31425726,\n",
              "         0.2200619 ],\n",
              "        [0.08404207, 0.03614604, 0.97732127, ..., 0.21516645, 0.9786098 ,\n",
              "         0.00726748],\n",
              "        [0.7396945 , 0.6653172 , 0.0787828 , ..., 0.7117733 , 0.07013571,\n",
              "         0.9409125 ],\n",
              "        [0.15861344, 0.12024033, 0.27218235, ..., 0.8824879 , 0.1432488 ,\n",
              "         0.44135118]], dtype=float32)>,\n",
              " <tf.Tensor: shape=(5, 300), dtype=float32, numpy=\n",
              " array([[0.68789124, 0.48447883, 0.9309944 , ..., 0.6920762 , 0.33180213,\n",
              "         0.9212563 ],\n",
              "        [0.27369928, 0.10631859, 0.6218617 , ..., 0.4382149 , 0.30427706,\n",
              "         0.51477313],\n",
              "        [0.00920248, 0.37280262, 0.8177401 , ..., 0.56786287, 0.49201214,\n",
              "         0.9892651 ],\n",
              "        [0.88608265, 0.08672249, 0.12160683, ..., 0.91770685, 0.72545695,\n",
              "         0.8280058 ],\n",
              "        [0.36690474, 0.9200133 , 0.9646884 , ..., 0.69012   , 0.7137332 ,\n",
              "         0.2584542 ]], dtype=float32)>)"
            ]
          },
          "metadata": {},
          "execution_count": 53
        }
      ]
    },
    {
      "cell_type": "markdown",
      "source": [
        "### 4) Multiply the two tensors you created in 3 using matrix multiplication."
      ],
      "metadata": {
        "id": "W8uoPU1mH0Nz"
      }
    },
    {
      "cell_type": "code",
      "source": [
        "# Matrix multiplication with matmul\n",
        "print('First matrix shape:', tensor_1.shape)\n",
        "print('Second matrix shape:', tensor_2.shape, '\\n')\n",
        "\n",
        "final_tensor_matmul = tf.matmul(tensor_1, tf.transpose(tensor_2))\n",
        "print(final_tensor_matmul, '\\n')\n",
        "print('Matrix shape after multiplication:', final_tensor_matmul.shape)"
      ],
      "metadata": {
        "colab": {
          "base_uri": "https://localhost:8080/"
        },
        "id": "4tz43XhfI8UC",
        "outputId": "97eeba63-edb9-4c47-ea5d-f95137f341e7"
      },
      "execution_count": 65,
      "outputs": [
        {
          "output_type": "stream",
          "name": "stdout",
          "text": [
            "First matrix shape: (5, 300)\n",
            "Second matrix shape: (5, 300) \n",
            "\n",
            "tf.Tensor(\n",
            "[[80.33345  73.40498  77.159615 73.98369  80.90053 ]\n",
            " [75.146355 68.80437  74.24302  71.841835 75.60206 ]\n",
            " [79.7594   75.644554 77.797585 74.74873  80.559845]\n",
            " [75.08526  69.064064 74.30776  72.27616  76.05669 ]\n",
            " [85.05688  74.26627  78.00687  74.88679  83.13417 ]], shape=(5, 5), dtype=float32) \n",
            "\n",
            "Matrix shape after multiplication: (5, 5)\n"
          ]
        }
      ]
    },
    {
      "cell_type": "markdown",
      "source": [
        "### 5) Multiply the two tensors you created in 3 using dot product."
      ],
      "metadata": {
        "id": "3EbLuUxBJbNi"
      }
    },
    {
      "cell_type": "code",
      "source": [
        "# Matrix multiplication with dotprpduct\n",
        "print('First matrix shape:', tensor_1.shape)\n",
        "print('Second matrix shape:', tensor_2.shape, '\\n')\n",
        "\n",
        "final_tensor_dot = tf.tensordot(tensor_1, tf.transpose(tensor_2), axes=1)\n",
        "print(final_tensor_dot, '\\n')\n",
        "print('Matrix shape after multiplication:', final_tensor_dot.shape)"
      ],
      "metadata": {
        "colab": {
          "base_uri": "https://localhost:8080/"
        },
        "id": "IuUsvpCHK2tT",
        "outputId": "5f90a25b-67f8-4b2f-8063-1be6eee10bff"
      },
      "execution_count": 66,
      "outputs": [
        {
          "output_type": "stream",
          "name": "stdout",
          "text": [
            "First matrix shape: (5, 300)\n",
            "Second matrix shape: (5, 300) \n",
            "\n",
            "tf.Tensor(\n",
            "[[80.33345  73.40498  77.159615 73.98369  80.90053 ]\n",
            " [75.146355 68.80437  74.24302  71.841835 75.60206 ]\n",
            " [79.7594   75.644554 77.797585 74.74873  80.559845]\n",
            " [75.08526  69.064064 74.30776  72.27616  76.05669 ]\n",
            " [85.05688  74.26627  78.00687  74.88679  83.13417 ]], shape=(5, 5), dtype=float32) \n",
            "\n",
            "Matrix shape after multiplication: (5, 5)\n"
          ]
        }
      ]
    },
    {
      "cell_type": "markdown",
      "source": [
        "### 6) Create a tensor with random values between 0 and 1 with shape [224, 224, 3]."
      ],
      "metadata": {
        "id": "JJaQsx9CLfWS"
      }
    },
    {
      "cell_type": "code",
      "source": [
        "X = tf.random.uniform(minval=0, maxval=1, shape=(224, 224, 3))\n",
        "X"
      ],
      "metadata": {
        "colab": {
          "base_uri": "https://localhost:8080/"
        },
        "id": "HYA_ebhHNAYi",
        "outputId": "c7980238-5b04-419d-ba89-14930bb52cd5"
      },
      "execution_count": 69,
      "outputs": [
        {
          "output_type": "execute_result",
          "data": {
            "text/plain": [
              "<tf.Tensor: shape=(224, 224, 3), dtype=float32, numpy=\n",
              "array([[[7.4023080e-01, 3.3938193e-01, 5.6925058e-01],\n",
              "        [4.4811392e-01, 2.9285502e-01, 4.2600560e-01],\n",
              "        [6.2890387e-01, 6.9106102e-01, 3.0925727e-01],\n",
              "        ...,\n",
              "        [9.1063976e-04, 6.9863999e-01, 1.7180574e-01],\n",
              "        [6.7542684e-01, 8.3492923e-01, 3.9038682e-01],\n",
              "        [2.3664141e-01, 6.2239432e-01, 1.0117912e-01]],\n",
              "\n",
              "       [[9.7064960e-01, 5.4594779e-01, 7.6819682e-01],\n",
              "        [2.6893330e-01, 2.6959443e-01, 2.8982997e-01],\n",
              "        [2.9215467e-01, 1.7108858e-01, 6.5597153e-01],\n",
              "        ...,\n",
              "        [9.5621395e-01, 5.4591870e-01, 5.3843534e-01],\n",
              "        [9.8861516e-01, 1.5786767e-01, 6.1375093e-01],\n",
              "        [7.2668612e-01, 6.1637163e-03, 1.6534305e-01]],\n",
              "\n",
              "       [[6.4095867e-01, 7.6697862e-01, 3.0138540e-01],\n",
              "        [1.5474892e-01, 1.7183411e-01, 2.7192724e-01],\n",
              "        [3.1211805e-01, 6.1451709e-01, 4.3001354e-01],\n",
              "        ...,\n",
              "        [8.4168065e-01, 5.0247252e-01, 2.8834987e-01],\n",
              "        [3.3173549e-01, 4.5103800e-01, 6.7354202e-02],\n",
              "        [1.0118127e-01, 4.2389810e-01, 6.8379509e-01]],\n",
              "\n",
              "       ...,\n",
              "\n",
              "       [[1.8096626e-01, 8.5838544e-01, 3.4178734e-02],\n",
              "        [5.9386420e-01, 3.8502932e-01, 8.7150073e-01],\n",
              "        [1.0209656e-01, 3.7833798e-01, 1.1331165e-01],\n",
              "        ...,\n",
              "        [8.5692227e-01, 4.2525017e-01, 3.6130440e-01],\n",
              "        [5.2397156e-01, 1.3922489e-01, 2.2725856e-01],\n",
              "        [9.1044855e-01, 9.1889143e-02, 1.5898192e-01]],\n",
              "\n",
              "       [[6.5610647e-02, 1.5236783e-01, 7.9822493e-01],\n",
              "        [3.0753601e-01, 4.3507314e-01, 7.9526460e-01],\n",
              "        [8.3535135e-01, 3.8671303e-01, 4.4709980e-01],\n",
              "        ...,\n",
              "        [6.8944788e-01, 6.5163302e-01, 9.1498744e-01],\n",
              "        [3.2730651e-01, 4.3430209e-01, 8.7547708e-01],\n",
              "        [1.8118513e-01, 6.4113998e-01, 4.3338275e-01]],\n",
              "\n",
              "       [[4.1520441e-01, 1.7824161e-01, 9.2302203e-02],\n",
              "        [4.3809581e-01, 4.6262145e-01, 3.8647270e-01],\n",
              "        [4.6021819e-02, 7.6314330e-02, 3.2944894e-01],\n",
              "        ...,\n",
              "        [3.7793708e-01, 8.7314355e-01, 5.2063870e-01],\n",
              "        [7.3511279e-01, 7.9594767e-01, 8.2211494e-02],\n",
              "        [9.7483528e-01, 8.2736588e-01, 7.6870322e-01]]], dtype=float32)>"
            ]
          },
          "metadata": {},
          "execution_count": 69
        }
      ]
    },
    {
      "cell_type": "markdown",
      "source": [
        "### 7) Find the min and max values of the tensor you created in 6 along the first axis."
      ],
      "metadata": {
        "id": "NEomZOCtNONj"
      }
    },
    {
      "cell_type": "code",
      "source": [
        "# Find min value of tensor\n",
        "print('Minumum value of tensor:', tf.reduce_min(X).numpy())\n",
        "print('Maximum value of tensor:', tf.reduce_max(X).numpy())"
      ],
      "metadata": {
        "colab": {
          "base_uri": "https://localhost:8080/"
        },
        "id": "Q3k54NZ7Njki",
        "outputId": "3fecb89c-94d1-4294-db2f-e1b6445d2fd4"
      },
      "execution_count": 80,
      "outputs": [
        {
          "output_type": "stream",
          "name": "stdout",
          "text": [
            "Minumum value of tensor: 1.0967255e-05\n",
            "Maximum value of tensor: 0.9999902\n"
          ]
        }
      ]
    },
    {
      "cell_type": "markdown",
      "source": [
        "### 8) Created a tensor with random values of shape [1, 224, 224, 3] then squeeze it to change the shape to [224, 224, 3]"
      ],
      "metadata": {
        "id": "cRcfT2GsNz87"
      }
    },
    {
      "cell_type": "code",
      "source": [
        "Y = tf.random.uniform(minval=0, maxval=1, shape=(1, 224, 224, 3))\n",
        "print('Tensor shape before squeezing:', Y.shape)"
      ],
      "metadata": {
        "colab": {
          "base_uri": "https://localhost:8080/"
        },
        "id": "TU708yQlZbl7",
        "outputId": "1ce0b411-8bb1-4f9b-e204-939cb24b6f34"
      },
      "execution_count": 88,
      "outputs": [
        {
          "output_type": "stream",
          "name": "stdout",
          "text": [
            "Tensor shape before squeezing: (1, 224, 224, 3)\n"
          ]
        }
      ]
    },
    {
      "cell_type": "code",
      "source": [
        "Y_squeezed = tf.squeeze(Y)\n",
        "print('Tensor shape before squeezing:', Y_squeezed.shape)"
      ],
      "metadata": {
        "colab": {
          "base_uri": "https://localhost:8080/"
        },
        "id": "FczgK6nUZo4k",
        "outputId": "e2f8c04b-3bc2-4701-f4eb-4e8fdd08dbdc"
      },
      "execution_count": 89,
      "outputs": [
        {
          "output_type": "stream",
          "name": "stdout",
          "text": [
            "Tensor shape before squeezing: (224, 224, 3)\n"
          ]
        }
      ]
    },
    {
      "cell_type": "markdown",
      "source": [
        "### 9) Create a tensor with shape [10] using your own choice of values, then find the index which has the maximum value."
      ],
      "metadata": {
        "id": "PIbCPyV4Z-Kc"
      }
    },
    {
      "cell_type": "code",
      "source": [
        "Z = tf.constant([1, 9, 8, 14, 7, 3, 0, 2, 0.01, 4])\n",
        "Z"
      ],
      "metadata": {
        "colab": {
          "base_uri": "https://localhost:8080/"
        },
        "id": "8okBul-kbHv7",
        "outputId": "f33c7883-6a4d-46f5-e2c3-8ae7788fd64e"
      },
      "execution_count": 102,
      "outputs": [
        {
          "output_type": "execute_result",
          "data": {
            "text/plain": [
              "<tf.Tensor: shape=(10,), dtype=float32, numpy=\n",
              "array([1.0e+00, 9.0e+00, 8.0e+00, 1.4e+01, 7.0e+00, 3.0e+00, 0.0e+00,\n",
              "       2.0e+00, 1.0e-02, 4.0e+00], dtype=float32)>"
            ]
          },
          "metadata": {},
          "execution_count": 102
        }
      ]
    },
    {
      "cell_type": "code",
      "source": [
        "# Find positional max\n",
        "print('Positional max:', tf.argmax(Z).numpy())\n",
        "\n",
        "# Find positional min\n",
        "print('Positional max:', tf.argmin(Z).numpy())"
      ],
      "metadata": {
        "colab": {
          "base_uri": "https://localhost:8080/"
        },
        "id": "TAJC_FBmbXDc",
        "outputId": "6973d832-0620-475e-f8da-b104b690b696"
      },
      "execution_count": 103,
      "outputs": [
        {
          "output_type": "stream",
          "name": "stdout",
          "text": [
            "Positional max: 3\n",
            "Positional max: 6\n"
          ]
        }
      ]
    },
    {
      "cell_type": "markdown",
      "source": [
        "### 10) One-hot encode the tensor you created in 9."
      ],
      "metadata": {
        "id": "Sd0iPX86b82c"
      }
    },
    {
      "cell_type": "code",
      "source": [
        "tf.one_hot(tf.cast(Z, dtype=tf.int32) , depth=10)"
      ],
      "metadata": {
        "colab": {
          "base_uri": "https://localhost:8080/"
        },
        "id": "-SKrNoVkcYFL",
        "outputId": "b5c00811-204a-46ef-a23e-35fa76b87b8a"
      },
      "execution_count": 106,
      "outputs": [
        {
          "output_type": "execute_result",
          "data": {
            "text/plain": [
              "<tf.Tensor: shape=(10, 10), dtype=float32, numpy=\n",
              "array([[0., 1., 0., 0., 0., 0., 0., 0., 0., 0.],\n",
              "       [0., 0., 0., 0., 0., 0., 0., 0., 0., 1.],\n",
              "       [0., 0., 0., 0., 0., 0., 0., 0., 1., 0.],\n",
              "       [0., 0., 0., 0., 0., 0., 0., 0., 0., 0.],\n",
              "       [0., 0., 0., 0., 0., 0., 0., 1., 0., 0.],\n",
              "       [0., 0., 0., 1., 0., 0., 0., 0., 0., 0.],\n",
              "       [1., 0., 0., 0., 0., 0., 0., 0., 0., 0.],\n",
              "       [0., 0., 1., 0., 0., 0., 0., 0., 0., 0.],\n",
              "       [1., 0., 0., 0., 0., 0., 0., 0., 0., 0.],\n",
              "       [0., 0., 0., 0., 1., 0., 0., 0., 0., 0.]], dtype=float32)>"
            ]
          },
          "metadata": {},
          "execution_count": 106
        }
      ]
    }
  ]
}