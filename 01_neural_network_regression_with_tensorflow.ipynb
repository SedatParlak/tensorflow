{
  "cells": [
    {
      "cell_type": "markdown",
      "metadata": {
        "id": "LcyshQVV0tsD"
      },
      "source": [
        "# Introduction to Regression with Neural Network in TensorFlow"
      ]
    },
    {
      "cell_type": "markdown",
      "metadata": {
        "id": "tfmMQ1w72x3J"
      },
      "source": [
        "There are many definition for a regression problem but in our case, we're going to simplfy it: prediction a numerical variable based on combination of other variables. Even shorter, predicting a number..."
      ]
    },
    {
      "cell_type": "code",
      "execution_count": null,
      "metadata": {
        "colab": {
          "background_save": true,
          "base_uri": "https://localhost:8080/"
        },
        "id": "8v1QKjt_3xBB",
        "outputId": "4eab7a49-7fdc-401c-bb49-06593696404f"
      },
      "outputs": [
        {
          "name": "stdout",
          "output_type": "stream",
          "text": [
            "2.12.0\n"
          ]
        }
      ],
      "source": [
        "# import tensorflow\n",
        "import tensorflow as tf\n",
        "print(tf.__version__)\n",
        "\n",
        "# import numpy and matplotlib\n",
        "import numpy as np\n",
        "import matplotlib.pyplot as plt"
      ]
    },
    {
      "cell_type": "markdown",
      "metadata": {
        "id": "UDLnkL8p4UQ_"
      },
      "source": [
        "## Creating data to view and fit"
      ]
    },
    {
      "cell_type": "code",
      "execution_count": null,
      "metadata": {
        "colab": {
          "background_save": true,
          "base_uri": "https://localhost:8080/",
          "height": 454
        },
        "id": "RuQAeUbN4tYO",
        "outputId": "99706c53-7b67-4436-f959-e6707f95ed86"
      },
      "outputs": [
        {
          "data": {
            "image/png": "[encoded data removed]",
            "text/plain": [
              "<Figure size 640x480 with 1 Axes>"
            ]
          },
          "metadata": {},
          "output_type": "display_data"
        }
      ],
      "source": [
        "# Create features\n",
        "X = np.array([-7.0, -4.0, -1.0, 2.0, 5.0, 8.0, 11.0, 14.0])\n",
        "\n",
        "# Create labels\n",
        "y = np.array([3.0, 6.0, 9.0, 12.0, 15.0, 18.0, 21.0, 24.0])\n",
        "\n",
        "# Visualize features and labels\n",
        "plt.scatter(X, y)\n",
        "plt.xlabel('X')\n",
        "plt.ylabel('y')\n",
        "plt.show()"
      ]
    },
    {
      "cell_type": "code",
      "execution_count": null,
      "metadata": {
        "colab": {
          "background_save": true,
          "base_uri": "https://localhost:8080/"
        },
        "id": "Jn3mgVDT5RgW",
        "outputId": "027c3027-2aa8-42f2-bafd-26dfbb908397"
      },
      "outputs": [
        {
          "data": {
            "text/plain": [
              "array([ True,  True,  True,  True,  True,  True,  True,  True])"
            ]
          },
          "execution_count": 3,
          "metadata": {},
          "output_type": "execute_result"
        }
      ],
      "source": [
        "y == X + 10"
      ]
    },
    {
      "cell_type": "markdown",
      "metadata": {
        "id": "J-xaVhtv60EW"
      },
      "source": [
        "## Input and output shapes"
      ]
    },
    {
      "cell_type": "code",
      "execution_count": null,
      "metadata": {
        "colab": {
          "background_save": true,
          "base_uri": "https://localhost:8080/"
        },
        "id": "6-3TQvFy7-fn",
        "outputId": "0f41d594-8b87-40cd-d5ac-41e247e09348"
      },
      "outputs": [
        {
          "data": {
            "text/plain": [
              "((8,), (8,))"
            ]
          },
          "execution_count": 4,
          "metadata": {},
          "output_type": "execute_result"
        }
      ],
      "source": [
        "# Let's check the input and output shape (Note that these shapes are not correct one)\n",
        "input_shape = X.shape\n",
        "output_shape = y.shape\n",
        "\n",
        "input_shape, output_shape"
      ]
    },
    {
      "cell_type": "code",
      "execution_count": null,
      "metadata": {
        "colab": {
          "background_save": true,
          "base_uri": "https://localhost:8080/"
        },
        "id": "6b666i2M-IKA",
        "outputId": "dc7edf9d-ffdf-478f-83ac-77c9b899e00e"
      },
      "outputs": [
        {
          "data": {
            "text/plain": [
              "((), ())"
            ]
          },
          "execution_count": 5,
          "metadata": {},
          "output_type": "execute_result"
        }
      ],
      "source": [
        "# Let's check another input and output shape (Note that these shapes are not correct one)\n",
        "input_shape = X[0].shape\n",
        "output_shape = y[0].shape\n",
        "\n",
        "input_shape, output_shape"
      ]
    },
    {
      "cell_type": "markdown",
      "metadata": {
        "id": "utrAueJD-gku"
      },
      "source": [
        "As you see above, it seems our inputs and outputs have no shape. Let's turn numpy arrays to tensors for finding correct shape."
      ]
    },
    {
      "cell_type": "code",
      "execution_count": null,
      "metadata": {
        "colab": {
          "background_save": true,
          "base_uri": "https://localhost:8080/"
        },
        "id": "U_UJVgHt-gLA",
        "outputId": "8503fd88-6a0f-467a-d3c1-270704a9a04b"
      },
      "outputs": [
        {
          "data": {
            "text/plain": [
              "(<tf.Tensor: shape=(8,), dtype=float64, numpy=array([-7., -4., -1.,  2.,  5.,  8., 11., 14.])>,\n",
              " <tf.Tensor: shape=(8,), dtype=float64, numpy=array([ 3.,  6.,  9., 12., 15., 18., 21., 24.])>)"
            ]
          },
          "execution_count": 6,
          "metadata": {},
          "output_type": "execute_result"
        }
      ],
      "source": [
        "# Turn numpy array to tensors\n",
        "X = tf.constant(X)\n",
        "y = tf.constant(y)\n",
        "\n",
        "X, y"
      ]
    },
    {
      "cell_type": "code",
      "execution_count": null,
      "metadata": {
        "colab": {
          "background_save": true,
          "base_uri": "https://localhost:8080/"
        },
        "id": "vFqJ795t-ew7",
        "outputId": "d9bff2ad-ea93-4b8c-caaa-7131aa2d7f0e"
      },
      "outputs": [
        {
          "data": {
            "text/plain": [
              "(TensorShape([]), TensorShape([]))"
            ]
          },
          "execution_count": 7,
          "metadata": {},
          "output_type": "execute_result"
        }
      ],
      "source": [
        "# Check tensor shapes\n",
        "input_shape = X[0].shape\n",
        "output_shape = y[0].shape\n",
        "\n",
        "input_shape, output_shape"
      ]
    },
    {
      "cell_type": "markdown",
      "metadata": {
        "id": "2u-0fs24pmpF"
      },
      "source": [
        "## Steps in modelling with Tensorflow\n",
        "\n",
        "1. **Creating a model** - define input and output layer, as well as the hidden layers of deep learning model.\n",
        "2. **Compiling  a model** - define the loss function (in other words, the function which tells our model how wrong it is) and optimizer (tells our model how to improve the patterns its learning) and evaluation metrics (what we can use to interpret the performanse of our model)\n",
        "3. **Fitting a model** - letting the model try to find patterns features and labels"
      ]
    },
    {
      "cell_type": "code",
      "execution_count": null,
      "metadata": {
        "colab": {
          "background_save": true,
          "base_uri": "https://localhost:8080/"
        },
        "id": "aVaI2_oeDYyn",
        "outputId": "325c0d6a-6723-44dc-81b9-ab0282be2318"
      },
      "outputs": [
        {
          "name": "stdout",
          "output_type": "stream",
          "text": [
            "Epoch 1/5\n",
            "1/1 [==============================] - 5s 5s/step - loss: 8.0771 - mae: 8.0771\n",
            "Epoch 2/5\n",
            "1/1 [==============================] - 0s 14ms/step - loss: 7.9446 - mae: 7.9446\n",
            "Epoch 3/5\n",
            "1/1 [==============================] - 0s 13ms/step - loss: 7.8121 - mae: 7.8121\n",
            "Epoch 4/5\n",
            "1/1 [==============================] - 0s 11ms/step - loss: 7.6796 - mae: 7.6796\n",
            "Epoch 5/5\n",
            "1/1 [==============================] - 0s 11ms/step - loss: 7.5471 - mae: 7.5471\n"
          ]
        },
        {
          "data": {
            "text/plain": [
              "<keras.callbacks.History at 0x7f8b637994c0>"
            ]
          },
          "execution_count": 8,
          "metadata": {},
          "output_type": "execute_result"
        }
      ],
      "source": [
        "# set random seed\n",
        "tf.random.set_seed(42)\n",
        "\n",
        "# 1. Create a model using Sequential API\n",
        "model = tf.keras.Sequential([\n",
        "    tf.keras.layers.Dense(1)\n",
        "])\n",
        "\n",
        "# 2. Compiling a model\n",
        "model.compile(\n",
        "    loss=tf.keras.losses.mae, # mae short for mean absolute error\n",
        "    optimizer=tf.keras.optimizers.SGD(), # SGD short for stochastic gradient descent\n",
        "    metrics=['mae']\n",
        ")\n",
        "\n",
        "# 3. Fit the model\n",
        "model.fit(tf.expand_dims(X, axis=-1), y, epochs=5)"
      ]
    },
    {
      "cell_type": "code",
      "execution_count": null,
      "metadata": {
        "colab": {
          "background_save": true,
          "base_uri": "https://localhost:8080/"
        },
        "id": "eoQxKdpKhTgO",
        "outputId": "3d0a3dd9-62f3-4f19-fef8-c5c08ea26a07"
      },
      "outputs": [
        {
          "data": {
            "text/plain": [
              "(<tf.Tensor: shape=(8,), dtype=float64, numpy=array([-7., -4., -1.,  2.,  5.,  8., 11., 14.])>,\n",
              " <tf.Tensor: shape=(8,), dtype=float64, numpy=array([ 3.,  6.,  9., 12., 15., 18., 21., 24.])>)"
            ]
          },
          "execution_count": 9,
          "metadata": {},
          "output_type": "execute_result"
        }
      ],
      "source": [
        "# Check X and y\n",
        "X, y"
      ]
    },
    {
      "cell_type": "code",
      "execution_count": null,
      "metadata": {
        "colab": {
          "background_save": true,
          "base_uri": "https://localhost:8080/"
        },
        "id": "AKi0_0R8ncy0",
        "outputId": "9806ae23-d40b-4430-ba2d-a7fb8699df59"
      },
      "outputs": [
        {
          "name": "stdout",
          "output_type": "stream",
          "text": [
            "1/1 [==============================] - 0s 122ms/step\n"
          ]
        },
        {
          "data": {
            "text/plain": [
              "array([[29.364626]], dtype=float32)"
            ]
          },
          "execution_count": 10,
          "metadata": {},
          "output_type": "execute_result"
        }
      ],
      "source": [
        "# Try to make a prediction using our model\n",
        "model.predict([17.0])"
      ]
    },
    {
      "cell_type": "markdown",
      "metadata": {
        "id": "1zZP0IgNoJxW"
      },
      "source": [
        "Our expection for 17.0 is 20.68 but model prediction is -23.68. This is so bad prediction."
      ]
    },
    {
      "cell_type": "markdown",
      "metadata": {
        "id": "kTyxRAcVniMV"
      },
      "source": [
        "## Improving Model\n",
        "\n",
        "We can improve our model, by altering the steps we took to create a model.\n",
        "\n",
        "1. **Creating a model** - Here we might add more layers, increase the number of hidden units (called neuron) within each of the hidden layers, change the activation function of each layer\n",
        "2. **Compiling a model** - Here we might change the optimization function or perhaps the learning rate of the optimization function\n",
        "3. **Fitting a model** - Here we might change the number of epoch (leave it training for longer) or more data (give the model more example to learn from)"
      ]
    },
    {
      "cell_type": "markdown",
      "metadata": {
        "id": "k4u4Bo4WxJj3"
      },
      "source": [
        "### Increasing number of epoch"
      ]
    },
    {
      "cell_type": "code",
      "execution_count": null,
      "metadata": {
        "colab": {
          "background_save": true,
          "base_uri": "https://localhost:8080/"
        },
        "id": "Bi_JOvMdwMLj",
        "outputId": "dda3f867-b5c9-42ca-8454-88c15a37bec0"
      },
      "outputs": [
        {
          "name": "stdout",
          "output_type": "stream",
          "text": [
            "Epoch 1/100\n",
            "1/1 [==============================] - 1s 548ms/step - loss: 19.8287 - mae: 19.8287\n",
            "Epoch 2/100\n",
            "1/1 [==============================] - 0s 11ms/step - loss: 19.5474 - mae: 19.5474\n",
            "Epoch 3/100\n",
            "1/1 [==============================] - 0s 13ms/step - loss: 19.2662 - mae: 19.2662\n",
            "Epoch 4/100\n",
            "1/1 [==============================] - 0s 12ms/step - loss: 18.9849 - mae: 18.9849\n",
            "Epoch 5/100\n",
            "1/1 [==============================] - 0s 11ms/step - loss: 18.7037 - mae: 18.7037\n",
            "Epoch 6/100\n",
            "1/1 [==============================] - 0s 11ms/step - loss: 18.4224 - mae: 18.4224\n",
            "Epoch 7/100\n",
            "1/1 [==============================] - 0s 13ms/step - loss: 18.1412 - mae: 18.1412\n",
            "Epoch 8/100\n",
            "1/1 [==============================] - 0s 13ms/step - loss: 17.8599 - mae: 17.8599\n",
            "Epoch 9/100\n",
            "1/1 [==============================] - 0s 16ms/step - loss: 17.5787 - mae: 17.5787\n",
            "Epoch 10/100\n",
            "1/1 [==============================] - 0s 11ms/step - loss: 17.2974 - mae: 17.2974\n",
            "Epoch 11/100\n",
            "1/1 [==============================] - 0s 15ms/step - loss: 17.0162 - mae: 17.0162\n",
            "Epoch 12/100\n",
            "1/1 [==============================] - 0s 14ms/step - loss: 16.7349 - mae: 16.7349\n",
            "Epoch 13/100\n",
            "1/1 [==============================] - 0s 13ms/step - loss: 16.4537 - mae: 16.4537\n",
            "Epoch 14/100\n",
            "1/1 [==============================] - 0s 12ms/step - loss: 16.1724 - mae: 16.1724\n",
            "Epoch 15/100\n",
            "1/1 [==============================] - 0s 16ms/step - loss: 15.8912 - mae: 15.8912\n",
            "Epoch 16/100\n",
            "1/1 [==============================] - 0s 11ms/step - loss: 15.6099 - mae: 15.6099\n",
            "Epoch 17/100\n",
            "1/1 [==============================] - 0s 12ms/step - loss: 15.3287 - mae: 15.3287\n",
            "Epoch 18/100\n",
            "1/1 [==============================] - 0s 10ms/step - loss: 15.0474 - mae: 15.0474\n",
            "Epoch 19/100\n",
            "1/1 [==============================] - 0s 16ms/step - loss: 14.7766 - mae: 14.7766\n",
            "Epoch 20/100\n",
            "1/1 [==============================] - 0s 14ms/step - loss: 14.6441 - mae: 14.6441\n",
            "Epoch 21/100\n",
            "1/1 [==============================] - 0s 12ms/step - loss: 14.5116 - mae: 14.5116\n",
            "Epoch 22/100\n",
            "1/1 [==============================] - 0s 14ms/step - loss: 14.3791 - mae: 14.3791\n",
            "Epoch 23/100\n",
            "1/1 [==============================] - 0s 12ms/step - loss: 14.2466 - mae: 14.2466\n",
            "Epoch 24/100\n",
            "1/1 [==============================] - 0s 11ms/step - loss: 14.1141 - mae: 14.1141\n",
            "Epoch 25/100\n",
            "1/1 [==============================] - 0s 13ms/step - loss: 13.9816 - mae: 13.9816\n",
            "Epoch 26/100\n",
            "1/1 [==============================] - 0s 12ms/step - loss: 13.8491 - mae: 13.8491\n",
            "Epoch 27/100\n",
            "1/1 [==============================] - 0s 12ms/step - loss: 13.7166 - mae: 13.7166\n",
            "Epoch 28/100\n",
            "1/1 [==============================] - 0s 11ms/step - loss: 13.5841 - mae: 13.5841\n",
            "Epoch 29/100\n",
            "1/1 [==============================] - 0s 11ms/step - loss: 13.4516 - mae: 13.4516\n",
            "Epoch 30/100\n",
            "1/1 [==============================] - 0s 12ms/step - loss: 13.3191 - mae: 13.3191\n",
            "Epoch 31/100\n",
            "1/1 [==============================] - 0s 11ms/step - loss: 13.1866 - mae: 13.1866\n",
            "Epoch 32/100\n",
            "1/1 [==============================] - 0s 12ms/step - loss: 13.0541 - mae: 13.0541\n",
            "Epoch 33/100\n",
            "1/1 [==============================] - 0s 12ms/step - loss: 12.9216 - mae: 12.9216\n",
            "Epoch 34/100\n",
            "1/1 [==============================] - 0s 11ms/step - loss: 12.7891 - mae: 12.7891\n",
            "Epoch 35/100\n",
            "1/1 [==============================] - 0s 13ms/step - loss: 12.6566 - mae: 12.6566\n",
            "Epoch 36/100\n",
            "1/1 [==============================] - 0s 20ms/step - loss: 12.5241 - mae: 12.5241\n",
            "Epoch 37/100\n",
            "1/1 [==============================] - 0s 13ms/step - loss: 12.3916 - mae: 12.3916\n",
            "Epoch 38/100\n",
            "1/1 [==============================] - 0s 17ms/step - loss: 12.2591 - mae: 12.2591\n",
            "Epoch 39/100\n",
            "1/1 [==============================] - 0s 13ms/step - loss: 12.1266 - mae: 12.1266\n",
            "Epoch 40/100\n",
            "1/1 [==============================] - 0s 9ms/step - loss: 11.9941 - mae: 11.9941\n",
            "Epoch 41/100\n",
            "1/1 [==============================] - 0s 11ms/step - loss: 11.8616 - mae: 11.8616\n",
            "Epoch 42/100\n",
            "1/1 [==============================] - 0s 11ms/step - loss: 11.7291 - mae: 11.7291\n",
            "Epoch 43/100\n",
            "1/1 [==============================] - 0s 11ms/step - loss: 11.5966 - mae: 11.5966\n",
            "Epoch 44/100\n",
            "1/1 [==============================] - 0s 12ms/step - loss: 11.4641 - mae: 11.4641\n",
            "Epoch 45/100\n",
            "1/1 [==============================] - 0s 15ms/step - loss: 11.3316 - mae: 11.3316\n",
            "Epoch 46/100\n",
            "1/1 [==============================] - 0s 13ms/step - loss: 11.1991 - mae: 11.1991\n",
            "Epoch 47/100\n",
            "1/1 [==============================] - 0s 13ms/step - loss: 11.0666 - mae: 11.0666\n",
            "Epoch 48/100\n",
            "1/1 [==============================] - 0s 12ms/step - loss: 10.9341 - mae: 10.9341\n",
            "Epoch 49/100\n",
            "1/1 [==============================] - 0s 9ms/step - loss: 10.8016 - mae: 10.8016\n",
            "Epoch 50/100\n",
            "1/1 [==============================] - 0s 14ms/step - loss: 10.6691 - mae: 10.6691\n",
            "Epoch 51/100\n",
            "1/1 [==============================] - 0s 12ms/step - loss: 10.5366 - mae: 10.5366\n",
            "Epoch 52/100\n",
            "1/1 [==============================] - 0s 11ms/step - loss: 10.4041 - mae: 10.4041\n",
            "Epoch 53/100\n",
            "1/1 [==============================] - 0s 10ms/step - loss: 10.2716 - mae: 10.2716\n",
            "Epoch 54/100\n",
            "1/1 [==============================] - 0s 11ms/step - loss: 10.1391 - mae: 10.1391\n",
            "Epoch 55/100\n",
            "1/1 [==============================] - 0s 11ms/step - loss: 10.0066 - mae: 10.0066\n",
            "Epoch 56/100\n",
            "1/1 [==============================] - 0s 11ms/step - loss: 9.8741 - mae: 9.8741\n",
            "Epoch 57/100\n",
            "1/1 [==============================] - 0s 18ms/step - loss: 9.7416 - mae: 9.7416\n",
            "Epoch 58/100\n",
            "1/1 [==============================] - 0s 12ms/step - loss: 9.6091 - mae: 9.6091\n",
            "Epoch 59/100\n",
            "1/1 [==============================] - 0s 11ms/step - loss: 9.4766 - mae: 9.4766\n",
            "Epoch 60/100\n",
            "1/1 [==============================] - 0s 16ms/step - loss: 9.3441 - mae: 9.3441\n",
            "Epoch 61/100\n",
            "1/1 [==============================] - 0s 11ms/step - loss: 9.2116 - mae: 9.2116\n",
            "Epoch 62/100\n",
            "1/1 [==============================] - 0s 13ms/step - loss: 9.0791 - mae: 9.0791\n",
            "Epoch 63/100\n",
            "1/1 [==============================] - 0s 11ms/step - loss: 8.9466 - mae: 8.9466\n",
            "Epoch 64/100\n",
            "1/1 [==============================] - 0s 11ms/step - loss: 8.8141 - mae: 8.8141\n",
            "Epoch 65/100\n",
            "1/1 [==============================] - 0s 13ms/step - loss: 8.6816 - mae: 8.6816\n",
            "Epoch 66/100\n",
            "1/1 [==============================] - 0s 13ms/step - loss: 8.5491 - mae: 8.5491\n",
            "Epoch 67/100\n",
            "1/1 [==============================] - 0s 13ms/step - loss: 8.4166 - mae: 8.4166\n",
            "Epoch 68/100\n",
            "1/1 [==============================] - 0s 12ms/step - loss: 8.2841 - mae: 8.2841\n",
            "Epoch 69/100\n",
            "1/1 [==============================] - 0s 13ms/step - loss: 8.1516 - mae: 8.1516\n",
            "Epoch 70/100\n",
            "1/1 [==============================] - 0s 13ms/step - loss: 8.0191 - mae: 8.0191\n",
            "Epoch 71/100\n",
            "1/1 [==============================] - 0s 12ms/step - loss: 7.8866 - mae: 7.8866\n",
            "Epoch 72/100\n",
            "1/1 [==============================] - 0s 12ms/step - loss: 7.7541 - mae: 7.7541\n",
            "Epoch 73/100\n",
            "1/1 [==============================] - 0s 12ms/step - loss: 7.6216 - mae: 7.6216\n",
            "Epoch 74/100\n",
            "1/1 [==============================] - 0s 12ms/step - loss: 7.4891 - mae: 7.4891\n",
            "Epoch 75/100\n",
            "1/1 [==============================] - 0s 12ms/step - loss: 7.3566 - mae: 7.3566\n",
            "Epoch 76/100\n",
            "1/1 [==============================] - 0s 11ms/step - loss: 7.2241 - mae: 7.2241\n",
            "Epoch 77/100\n",
            "1/1 [==============================] - 0s 10ms/step - loss: 7.0916 - mae: 7.0916\n",
            "Epoch 78/100\n",
            "1/1 [==============================] - 0s 16ms/step - loss: 6.9591 - mae: 6.9591\n",
            "Epoch 79/100\n",
            "1/1 [==============================] - 0s 13ms/step - loss: 6.9488 - mae: 6.9488\n",
            "Epoch 80/100\n",
            "1/1 [==============================] - 0s 12ms/step - loss: 6.9431 - mae: 6.9431\n",
            "Epoch 81/100\n",
            "1/1 [==============================] - 0s 14ms/step - loss: 6.9375 - mae: 6.9375\n",
            "Epoch 82/100\n",
            "1/1 [==============================] - 0s 10ms/step - loss: 6.9319 - mae: 6.9319\n",
            "Epoch 83/100\n",
            "1/1 [==============================] - 0s 12ms/step - loss: 6.9263 - mae: 6.9263\n",
            "Epoch 84/100\n",
            "1/1 [==============================] - 0s 12ms/step - loss: 6.9206 - mae: 6.9206\n",
            "Epoch 85/100\n",
            "1/1 [==============================] - 0s 11ms/step - loss: 6.9150 - mae: 6.9150\n",
            "Epoch 86/100\n",
            "1/1 [==============================] - 0s 14ms/step - loss: 6.9094 - mae: 6.9094\n",
            "Epoch 87/100\n",
            "1/1 [==============================] - 0s 14ms/step - loss: 6.9038 - mae: 6.9038\n",
            "Epoch 88/100\n",
            "1/1 [==============================] - 0s 14ms/step - loss: 6.8981 - mae: 6.8981\n",
            "Epoch 89/100\n",
            "1/1 [==============================] - 0s 14ms/step - loss: 6.8925 - mae: 6.8925\n",
            "Epoch 90/100\n",
            "1/1 [==============================] - 0s 12ms/step - loss: 6.8869 - mae: 6.8869\n",
            "Epoch 91/100\n",
            "1/1 [==============================] - 0s 11ms/step - loss: 6.8813 - mae: 6.8813\n",
            "Epoch 92/100\n",
            "1/1 [==============================] - 0s 11ms/step - loss: 6.8756 - mae: 6.8756\n",
            "Epoch 93/100\n",
            "1/1 [==============================] - 0s 13ms/step - loss: 6.8700 - mae: 6.8700\n",
            "Epoch 94/100\n",
            "1/1 [==============================] - 0s 10ms/step - loss: 6.8644 - mae: 6.8644\n",
            "Epoch 95/100\n",
            "1/1 [==============================] - 0s 11ms/step - loss: 6.8587 - mae: 6.8587\n",
            "Epoch 96/100\n",
            "1/1 [==============================] - 0s 15ms/step - loss: 6.8531 - mae: 6.8531\n",
            "Epoch 97/100\n",
            "1/1 [==============================] - 0s 14ms/step - loss: 6.8475 - mae: 6.8475\n",
            "Epoch 98/100\n",
            "1/1 [==============================] - 0s 17ms/step - loss: 6.8419 - mae: 6.8419\n",
            "Epoch 99/100\n",
            "1/1 [==============================] - 0s 10ms/step - loss: 6.8363 - mae: 6.8363\n",
            "Epoch 100/100\n",
            "1/1 [==============================] - 0s 12ms/step - loss: 6.8306 - mae: 6.8306\n"
          ]
        },
        {
          "data": {
            "text/plain": [
              "<keras.callbacks.History at 0x7f8b637032b0>"
            ]
          },
          "execution_count": 11,
          "metadata": {},
          "output_type": "execute_result"
        }
      ],
      "source": [
        "# Let's rebuild model (increasing number of epoch)\n",
        "\n",
        "# 1. Create a model using Sequential API\n",
        "model = tf.keras.Sequential([\n",
        "    tf.keras.layers.Dense(1)\n",
        "])\n",
        "\n",
        "# 2. Compiling a model\n",
        "model.compile(\n",
        "    loss=tf.keras.losses.mae, # mae short for mean absolute error\n",
        "    optimizer=tf.keras.optimizers.SGD(), # SGD short for stochastic gradient descent\n",
        "    metrics=['mae']\n",
        ")\n",
        "\n",
        "# 3. Fit the model\n",
        "model.fit(tf.expand_dims(X, axis=-1), y, epochs=100)"
      ]
    },
    {
      "cell_type": "code",
      "execution_count": null,
      "metadata": {
        "colab": {
          "background_save": true,
          "base_uri": "https://localhost:8080/"
        },
        "id": "h8O7Wj--wZjS",
        "outputId": "6328c206-027e-4c87-dedc-75bb5f28032b"
      },
      "outputs": [
        {
          "data": {
            "text/plain": [
              "(<tf.Tensor: shape=(8,), dtype=float64, numpy=array([-7., -4., -1.,  2.,  5.,  8., 11., 14.])>,\n",
              " <tf.Tensor: shape=(8,), dtype=float64, numpy=array([ 3.,  6.,  9., 12., 15., 18., 21., 24.])>)"
            ]
          },
          "execution_count": 12,
          "metadata": {},
          "output_type": "execute_result"
        }
      ],
      "source": [
        "# Remind X and y\n",
        "X, y"
      ]
    },
    {
      "cell_type": "code",
      "execution_count": null,
      "metadata": {
        "colab": {
          "background_save": true,
          "base_uri": "https://localhost:8080/"
        },
        "id": "XYtsooJdwMG8",
        "outputId": "e4531033-f7f4-4315-fd99-0c1f45493b8f"
      },
      "outputs": [
        {
          "name": "stdout",
          "output_type": "stream",
          "text": [
            "1/1 [==============================] - 0s 91ms/step\n"
          ]
        },
        {
          "data": {
            "text/plain": [
              "array([[29.743635]], dtype=float32)"
            ]
          },
          "execution_count": 13,
          "metadata": {},
          "output_type": "execute_result"
        }
      ],
      "source": [
        "# Let's make a new prediction\n",
        "model.predict([17.0])"
      ]
    },
    {
      "cell_type": "markdown",
      "metadata": {
        "id": "0QOofSnrwnDT"
      },
      "source": [
        "Our expection is 27 and model prediction is 26.60. This is better and close than before."
      ]
    },
    {
      "cell_type": "markdown",
      "metadata": {
        "id": "jE4gt4ePxQy7"
      },
      "source": [
        "### Adding more hidden layers with 100 neuron"
      ]
    },
    {
      "cell_type": "code",
      "execution_count": null,
      "metadata": {
        "colab": {
          "background_save": true,
          "base_uri": "https://localhost:8080/"
        },
        "id": "XHz90iinobiX",
        "outputId": "f70f47c0-1c40-4d3d-fa28-78694da48c06"
      },
      "outputs": [
        {
          "name": "stdout",
          "output_type": "stream",
          "text": [
            "Epoch 1/100\n",
            "1/1 [==============================] - 1s 1s/step - loss: 13.8049 - mae: 13.8049\n",
            "Epoch 2/100\n",
            "1/1 [==============================] - 0s 11ms/step - loss: 13.4241 - mae: 13.4241\n",
            "Epoch 3/100\n",
            "1/1 [==============================] - 0s 11ms/step - loss: 13.0571 - mae: 13.0571\n",
            "Epoch 4/100\n",
            "1/1 [==============================] - 0s 11ms/step - loss: 12.7196 - mae: 12.7196\n",
            "Epoch 5/100\n",
            "1/1 [==============================] - 0s 11ms/step - loss: 12.3550 - mae: 12.3550\n",
            "Epoch 6/100\n",
            "1/1 [==============================] - 0s 12ms/step - loss: 11.9356 - mae: 11.9356\n",
            "Epoch 7/100\n",
            "1/1 [==============================] - 0s 11ms/step - loss: 11.4671 - mae: 11.4671\n",
            "Epoch 8/100\n",
            "1/1 [==============================] - 0s 11ms/step - loss: 10.9353 - mae: 10.9353\n",
            "Epoch 9/100\n",
            "1/1 [==============================] - 0s 12ms/step - loss: 10.2892 - mae: 10.2892\n",
            "Epoch 10/100\n",
            "1/1 [==============================] - 0s 11ms/step - loss: 9.4856 - mae: 9.4856\n",
            "Epoch 11/100\n",
            "1/1 [==============================] - 0s 13ms/step - loss: 8.4477 - mae: 8.4477\n",
            "Epoch 12/100\n",
            "1/1 [==============================] - 0s 11ms/step - loss: 7.0790 - mae: 7.0790\n",
            "Epoch 13/100\n",
            "1/1 [==============================] - 0s 11ms/step - loss: 5.2732 - mae: 5.2732\n",
            "Epoch 14/100\n",
            "1/1 [==============================] - 0s 12ms/step - loss: 3.9208 - mae: 3.9208\n",
            "Epoch 15/100\n",
            "1/1 [==============================] - 0s 12ms/step - loss: 3.9993 - mae: 3.9993\n",
            "Epoch 16/100\n",
            "1/1 [==============================] - 0s 11ms/step - loss: 3.9291 - mae: 3.9291\n",
            "Epoch 17/100\n",
            "1/1 [==============================] - 0s 12ms/step - loss: 3.9518 - mae: 3.9518\n",
            "Epoch 18/100\n",
            "1/1 [==============================] - 0s 10ms/step - loss: 3.9381 - mae: 3.9381\n",
            "Epoch 19/100\n",
            "1/1 [==============================] - 0s 11ms/step - loss: 3.9033 - mae: 3.9033\n",
            "Epoch 20/100\n",
            "1/1 [==============================] - 0s 13ms/step - loss: 3.9491 - mae: 3.9491\n",
            "Epoch 21/100\n",
            "1/1 [==============================] - 0s 12ms/step - loss: 3.8500 - mae: 3.8500\n",
            "Epoch 22/100\n",
            "1/1 [==============================] - 0s 12ms/step - loss: 3.9625 - mae: 3.9625\n",
            "Epoch 23/100\n",
            "1/1 [==============================] - 0s 18ms/step - loss: 3.7957 - mae: 3.7957\n",
            "Epoch 24/100\n",
            "1/1 [==============================] - 0s 13ms/step - loss: 3.9766 - mae: 3.9766\n",
            "Epoch 25/100\n",
            "1/1 [==============================] - 0s 12ms/step - loss: 3.7708 - mae: 3.7708\n",
            "Epoch 26/100\n",
            "1/1 [==============================] - 0s 11ms/step - loss: 3.9755 - mae: 3.9755\n",
            "Epoch 27/100\n",
            "1/1 [==============================] - 0s 11ms/step - loss: 3.8252 - mae: 3.8252\n",
            "Epoch 28/100\n",
            "1/1 [==============================] - 0s 11ms/step - loss: 3.8713 - mae: 3.8713\n",
            "Epoch 29/100\n",
            "1/1 [==============================] - 0s 12ms/step - loss: 3.8408 - mae: 3.8408\n",
            "Epoch 30/100\n",
            "1/1 [==============================] - 0s 12ms/step - loss: 3.8135 - mae: 3.8135\n",
            "Epoch 31/100\n",
            "1/1 [==============================] - 0s 13ms/step - loss: 3.8578 - mae: 3.8578\n",
            "Epoch 32/100\n",
            "1/1 [==============================] - 0s 11ms/step - loss: 3.7545 - mae: 3.7545\n",
            "Epoch 33/100\n",
            "1/1 [==============================] - 0s 12ms/step - loss: 3.8756 - mae: 3.8756\n",
            "Epoch 34/100\n",
            "1/1 [==============================] - 0s 12ms/step - loss: 3.6929 - mae: 3.6929\n",
            "Epoch 35/100\n",
            "1/1 [==============================] - 0s 12ms/step - loss: 3.8945 - mae: 3.8945\n",
            "Epoch 36/100\n",
            "1/1 [==============================] - 0s 13ms/step - loss: 3.6978 - mae: 3.6978\n",
            "Epoch 37/100\n",
            "1/1 [==============================] - 0s 13ms/step - loss: 3.8145 - mae: 3.8145\n",
            "Epoch 38/100\n",
            "1/1 [==============================] - 0s 11ms/step - loss: 3.7539 - mae: 3.7539\n",
            "Epoch 39/100\n",
            "1/1 [==============================] - 0s 11ms/step - loss: 3.7512 - mae: 3.7512\n",
            "Epoch 40/100\n",
            "1/1 [==============================] - 0s 11ms/step - loss: 3.7737 - mae: 3.7737\n",
            "Epoch 41/100\n",
            "1/1 [==============================] - 0s 11ms/step - loss: 3.6847 - mae: 3.6847\n",
            "Epoch 42/100\n",
            "1/1 [==============================] - 0s 11ms/step - loss: 3.7991 - mae: 3.7991\n",
            "Epoch 43/100\n",
            "1/1 [==============================] - 0s 11ms/step - loss: 3.6171 - mae: 3.6171\n",
            "Epoch 44/100\n",
            "1/1 [==============================] - 0s 11ms/step - loss: 3.8221 - mae: 3.8221\n",
            "Epoch 45/100\n",
            "1/1 [==============================] - 0s 11ms/step - loss: 3.6238 - mae: 3.6238\n",
            "Epoch 46/100\n",
            "1/1 [==============================] - 0s 12ms/step - loss: 3.7889 - mae: 3.7889\n",
            "Epoch 47/100\n",
            "1/1 [==============================] - 0s 12ms/step - loss: 3.6838 - mae: 3.6838\n",
            "Epoch 48/100\n",
            "1/1 [==============================] - 0s 13ms/step - loss: 3.6674 - mae: 3.6674\n",
            "Epoch 49/100\n",
            "1/1 [==============================] - 0s 12ms/step - loss: 3.7101 - mae: 3.7101\n",
            "Epoch 50/100\n",
            "1/1 [==============================] - 0s 13ms/step - loss: 3.5970 - mae: 3.5970\n",
            "Epoch 51/100\n",
            "1/1 [==============================] - 0s 15ms/step - loss: 3.7350 - mae: 3.7350\n",
            "Epoch 52/100\n",
            "1/1 [==============================] - 0s 11ms/step - loss: 3.5439 - mae: 3.5439\n",
            "Epoch 53/100\n",
            "1/1 [==============================] - 0s 10ms/step - loss: 3.7327 - mae: 3.7327\n",
            "Epoch 54/100\n",
            "1/1 [==============================] - 0s 11ms/step - loss: 3.6065 - mae: 3.6065\n",
            "Epoch 55/100\n",
            "1/1 [==============================] - 0s 11ms/step - loss: 3.6365 - mae: 3.6365\n",
            "Epoch 56/100\n",
            "1/1 [==============================] - 0s 14ms/step - loss: 3.6311 - mae: 3.6311\n",
            "Epoch 57/100\n",
            "1/1 [==============================] - 0s 17ms/step - loss: 3.5605 - mae: 3.5605\n",
            "Epoch 58/100\n",
            "1/1 [==============================] - 0s 13ms/step - loss: 3.6606 - mae: 3.6606\n",
            "Epoch 59/100\n",
            "1/1 [==============================] - 0s 14ms/step - loss: 3.4838 - mae: 3.4838\n",
            "Epoch 60/100\n",
            "1/1 [==============================] - 0s 14ms/step - loss: 3.6902 - mae: 3.6902\n",
            "Epoch 61/100\n",
            "1/1 [==============================] - 0s 15ms/step - loss: 3.4999 - mae: 3.4999\n",
            "Epoch 62/100\n",
            "1/1 [==============================] - 0s 14ms/step - loss: 3.6113 - mae: 3.6113\n",
            "Epoch 63/100\n",
            "1/1 [==============================] - 0s 14ms/step - loss: 3.5276 - mae: 3.5276\n",
            "Epoch 64/100\n",
            "1/1 [==============================] - 0s 14ms/step - loss: 3.5333 - mae: 3.5333\n",
            "Epoch 65/100\n",
            "1/1 [==============================] - 0s 17ms/step - loss: 3.5571 - mae: 3.5571\n",
            "Epoch 66/100\n",
            "1/1 [==============================] - 0s 13ms/step - loss: 3.4641 - mae: 3.4641\n",
            "Epoch 67/100\n",
            "1/1 [==============================] - 0s 12ms/step - loss: 3.6273 - mae: 3.6273\n",
            "Epoch 68/100\n",
            "1/1 [==============================] - 0s 11ms/step - loss: 3.4426 - mae: 3.4426\n",
            "Epoch 69/100\n",
            "1/1 [==============================] - 0s 11ms/step - loss: 3.5473 - mae: 3.5473\n",
            "Epoch 70/100\n",
            "1/1 [==============================] - 0s 12ms/step - loss: 3.4747 - mae: 3.4747\n",
            "Epoch 71/100\n",
            "1/1 [==============================] - 0s 14ms/step - loss: 3.4638 - mae: 3.4638\n",
            "Epoch 72/100\n",
            "1/1 [==============================] - 0s 14ms/step - loss: 3.5060 - mae: 3.5060\n",
            "Epoch 73/100\n",
            "1/1 [==============================] - 0s 12ms/step - loss: 3.3775 - mae: 3.3775\n",
            "Epoch 74/100\n",
            "1/1 [==============================] - 0s 14ms/step - loss: 3.5392 - mae: 3.5392\n",
            "Epoch 75/100\n",
            "1/1 [==============================] - 0s 12ms/step - loss: 3.3583 - mae: 3.3583\n",
            "Epoch 76/100\n",
            "1/1 [==============================] - 0s 16ms/step - loss: 3.5108 - mae: 3.5108\n",
            "Epoch 77/100\n",
            "1/1 [==============================] - 0s 10ms/step - loss: 3.4280 - mae: 3.4280\n",
            "Epoch 78/100\n",
            "1/1 [==============================] - 0s 11ms/step - loss: 3.3793 - mae: 3.3793\n",
            "Epoch 79/100\n",
            "1/1 [==============================] - 0s 11ms/step - loss: 3.4608 - mae: 3.4608\n",
            "Epoch 80/100\n",
            "1/1 [==============================] - 0s 15ms/step - loss: 3.2862 - mae: 3.2862\n",
            "Epoch 81/100\n",
            "1/1 [==============================] - 0s 16ms/step - loss: 3.4952 - mae: 3.4952\n",
            "Epoch 82/100\n",
            "1/1 [==============================] - 0s 16ms/step - loss: 3.3149 - mae: 3.3149\n",
            "Epoch 83/100\n",
            "1/1 [==============================] - 0s 15ms/step - loss: 3.3942 - mae: 3.3942\n",
            "Epoch 84/100\n",
            "1/1 [==============================] - 0s 11ms/step - loss: 3.3491 - mae: 3.3491\n",
            "Epoch 85/100\n",
            "1/1 [==============================] - 0s 11ms/step - loss: 3.2973 - mae: 3.2973\n",
            "Epoch 86/100\n",
            "1/1 [==============================] - 0s 11ms/step - loss: 3.3844 - mae: 3.3844\n",
            "Epoch 87/100\n",
            "1/1 [==============================] - 0s 11ms/step - loss: 3.2274 - mae: 3.2274\n",
            "Epoch 88/100\n",
            "1/1 [==============================] - 0s 11ms/step - loss: 3.3751 - mae: 3.3751\n",
            "Epoch 89/100\n",
            "1/1 [==============================] - 0s 11ms/step - loss: 3.2853 - mae: 3.2853\n",
            "Epoch 90/100\n",
            "1/1 [==============================] - 0s 12ms/step - loss: 3.2776 - mae: 3.2776\n",
            "Epoch 91/100\n",
            "1/1 [==============================] - 0s 11ms/step - loss: 3.3197 - mae: 3.3197\n",
            "Epoch 92/100\n",
            "1/1 [==============================] - 0s 13ms/step - loss: 3.1725 - mae: 3.1725\n",
            "Epoch 93/100\n",
            "1/1 [==============================] - 0s 13ms/step - loss: 3.3600 - mae: 3.3600\n",
            "Epoch 94/100\n",
            "1/1 [==============================] - 0s 12ms/step - loss: 3.1869 - mae: 3.1869\n",
            "Epoch 95/100\n",
            "1/1 [==============================] - 0s 11ms/step - loss: 3.2666 - mae: 3.2666\n",
            "Epoch 96/100\n",
            "1/1 [==============================] - 0s 14ms/step - loss: 3.2614 - mae: 3.2614\n",
            "Epoch 97/100\n",
            "1/1 [==============================] - 0s 11ms/step - loss: 3.1442 - mae: 3.1442\n",
            "Epoch 98/100\n",
            "1/1 [==============================] - 0s 12ms/step - loss: 3.2977 - mae: 3.2977\n",
            "Epoch 99/100\n",
            "1/1 [==============================] - 0s 11ms/step - loss: 3.1311 - mae: 3.1311\n",
            "Epoch 100/100\n",
            "1/1 [==============================] - 0s 13ms/step - loss: 3.2286 - mae: 3.2286\n"
          ]
        },
        {
          "data": {
            "text/plain": [
              "<keras.callbacks.History at 0x7f8b6189bf40>"
            ]
          },
          "execution_count": 14,
          "metadata": {},
          "output_type": "execute_result"
        }
      ],
      "source": [
        "# Let's rebuild model\n",
        "\n",
        "# 1. Create a model \n",
        "model = tf.keras.Sequential([\n",
        "    tf.keras.layers.Dense(100, activation='relu'),\n",
        "    tf.keras.layers.Dense(100, activation='relu'),\n",
        "    tf.keras.layers.Dense(100, activation='relu'),\n",
        "    tf.keras.layers.Dense(1)\n",
        "])\n",
        "\n",
        "# 2. Compiling model\n",
        "model.compile(\n",
        "    loss=tf.keras.losses.mae,\n",
        "    optimizer=tf.keras.optimizers.SGD(),\n",
        "    metrics=['mae']\n",
        ")\n",
        "\n",
        "# 3. Fit the model\n",
        "model.fit(tf.expand_dims(X, axis=-1), y, epochs=100)"
      ]
    },
    {
      "cell_type": "code",
      "execution_count": null,
      "metadata": {
        "colab": {
          "background_save": true,
          "base_uri": "https://localhost:8080/"
        },
        "id": "vImeya344s2T",
        "outputId": "265e5e66-35c9-4a32-af9f-05d38c8e9d1e"
      },
      "outputs": [
        {
          "data": {
            "text/plain": [
              "(<tf.Tensor: shape=(8,), dtype=float64, numpy=array([-7., -4., -1.,  2.,  5.,  8., 11., 14.])>,\n",
              " <tf.Tensor: shape=(8,), dtype=float64, numpy=array([ 3.,  6.,  9., 12., 15., 18., 21., 24.])>)"
            ]
          },
          "execution_count": 15,
          "metadata": {},
          "output_type": "execute_result"
        }
      ],
      "source": [
        "# Let's remind our data\n",
        "X, y"
      ]
    },
    {
      "cell_type": "code",
      "execution_count": null,
      "metadata": {
        "colab": {
          "background_save": true,
          "base_uri": "https://localhost:8080/"
        },
        "id": "Z4maNOdd4szb",
        "outputId": "0810229c-704e-412d-e617-d8cb4ad3eac6"
      },
      "outputs": [
        {
          "name": "stdout",
          "output_type": "stream",
          "text": [
            "1/1 [==============================] - 0s 117ms/step\n"
          ]
        },
        {
          "data": {
            "text/plain": [
              "array([[32.572174]], dtype=float32)"
            ]
          },
          "execution_count": 16,
          "metadata": {},
          "output_type": "execute_result"
        }
      ],
      "source": [
        "# Making a prediction\n",
        "model.predict([17.0])"
      ]
    },
    {
      "cell_type": "markdown",
      "metadata": {
        "id": "MaQzIYwi4swu"
      },
      "source": [
        "This prediction is worse than before. The model may have been overfitting."
      ]
    },
    {
      "cell_type": "markdown",
      "metadata": {
        "id": "7Twzbb1q4suE"
      },
      "source": [
        "### Change the optimization function\n",
        "\n",
        "Our optimization function is Stochastic Gradient Descent, let's make it Adam and see what will happen."
      ]
    },
    {
      "cell_type": "code",
      "execution_count": null,
      "metadata": {
        "colab": {
          "background_save": true,
          "base_uri": "https://localhost:8080/"
        },
        "id": "u1bw5qU44sre",
        "outputId": "4c920a4b-a3e4-4fa5-b3bd-8369d6eec3aa"
      },
      "outputs": [
        {
          "name": "stdout",
          "output_type": "stream",
          "text": [
            "Epoch 1/100\n",
            "1/1 [==============================] - 2s 2s/step - loss: 14.0337 - mae: 14.0337\n",
            "Epoch 2/100\n",
            "1/1 [==============================] - 0s 12ms/step - loss: 13.6656 - mae: 13.6656\n",
            "Epoch 3/100\n",
            "1/1 [==============================] - 0s 12ms/step - loss: 13.3149 - mae: 13.3149\n",
            "Epoch 4/100\n",
            "1/1 [==============================] - 0s 11ms/step - loss: 12.9742 - mae: 12.9742\n",
            "Epoch 5/100\n",
            "1/1 [==============================] - 0s 12ms/step - loss: 12.6576 - mae: 12.6576\n",
            "Epoch 6/100\n",
            "1/1 [==============================] - 0s 11ms/step - loss: 12.3634 - mae: 12.3634\n",
            "Epoch 7/100\n",
            "1/1 [==============================] - 0s 12ms/step - loss: 12.0719 - mae: 12.0719\n",
            "Epoch 8/100\n",
            "1/1 [==============================] - 0s 12ms/step - loss: 11.7828 - mae: 11.7828\n",
            "Epoch 9/100\n",
            "1/1 [==============================] - 0s 11ms/step - loss: 11.4840 - mae: 11.4840\n",
            "Epoch 10/100\n",
            "1/1 [==============================] - 0s 11ms/step - loss: 11.2189 - mae: 11.2189\n",
            "Epoch 11/100\n",
            "1/1 [==============================] - 0s 11ms/step - loss: 10.9891 - mae: 10.9891\n",
            "Epoch 12/100\n",
            "1/1 [==============================] - 0s 11ms/step - loss: 10.7488 - mae: 10.7488\n",
            "Epoch 13/100\n",
            "1/1 [==============================] - 0s 11ms/step - loss: 10.4935 - mae: 10.4935\n",
            "Epoch 14/100\n",
            "1/1 [==============================] - 0s 13ms/step - loss: 10.2177 - mae: 10.2177\n",
            "Epoch 15/100\n",
            "1/1 [==============================] - 0s 11ms/step - loss: 9.9252 - mae: 9.9252\n",
            "Epoch 16/100\n",
            "1/1 [==============================] - 0s 12ms/step - loss: 9.6148 - mae: 9.6148\n",
            "Epoch 17/100\n",
            "1/1 [==============================] - 0s 11ms/step - loss: 9.2817 - mae: 9.2817\n",
            "Epoch 18/100\n",
            "1/1 [==============================] - 0s 11ms/step - loss: 8.9208 - mae: 8.9208\n",
            "Epoch 19/100\n",
            "1/1 [==============================] - 0s 11ms/step - loss: 8.5370 - mae: 8.5370\n",
            "Epoch 20/100\n",
            "1/1 [==============================] - 0s 12ms/step - loss: 8.1357 - mae: 8.1357\n",
            "Epoch 21/100\n",
            "1/1 [==============================] - 0s 12ms/step - loss: 7.7052 - mae: 7.7052\n",
            "Epoch 22/100\n",
            "1/1 [==============================] - 0s 11ms/step - loss: 7.2470 - mae: 7.2470\n",
            "Epoch 23/100\n",
            "1/1 [==============================] - 0s 11ms/step - loss: 6.7606 - mae: 6.7606\n",
            "Epoch 24/100\n",
            "1/1 [==============================] - 0s 11ms/step - loss: 6.2463 - mae: 6.2463\n",
            "Epoch 25/100\n",
            "1/1 [==============================] - 0s 12ms/step - loss: 5.6972 - mae: 5.6972\n",
            "Epoch 26/100\n",
            "1/1 [==============================] - 0s 12ms/step - loss: 5.1159 - mae: 5.1159\n",
            "Epoch 27/100\n",
            "1/1 [==============================] - 0s 11ms/step - loss: 4.5069 - mae: 4.5069\n",
            "Epoch 28/100\n",
            "1/1 [==============================] - 0s 11ms/step - loss: 4.0826 - mae: 4.0826\n",
            "Epoch 29/100\n",
            "1/1 [==============================] - 0s 11ms/step - loss: 3.8953 - mae: 3.8953\n",
            "Epoch 30/100\n",
            "1/1 [==============================] - 0s 15ms/step - loss: 4.0242 - mae: 4.0242\n",
            "Epoch 31/100\n",
            "1/1 [==============================] - 0s 15ms/step - loss: 4.1361 - mae: 4.1361\n",
            "Epoch 32/100\n",
            "1/1 [==============================] - 0s 13ms/step - loss: 4.2309 - mae: 4.2309\n",
            "Epoch 33/100\n",
            "1/1 [==============================] - 0s 13ms/step - loss: 4.4517 - mae: 4.4517\n",
            "Epoch 34/100\n",
            "1/1 [==============================] - 0s 11ms/step - loss: 4.5945 - mae: 4.5945\n",
            "Epoch 35/100\n",
            "1/1 [==============================] - 0s 13ms/step - loss: 4.6581 - mae: 4.6581\n",
            "Epoch 36/100\n",
            "1/1 [==============================] - 0s 11ms/step - loss: 4.6516 - mae: 4.6516\n",
            "Epoch 37/100\n",
            "1/1 [==============================] - 0s 11ms/step - loss: 4.5852 - mae: 4.5852\n",
            "Epoch 38/100\n",
            "1/1 [==============================] - 0s 11ms/step - loss: 4.4678 - mae: 4.4678\n",
            "Epoch 39/100\n",
            "1/1 [==============================] - 0s 11ms/step - loss: 4.3084 - mae: 4.3084\n",
            "Epoch 40/100\n",
            "1/1 [==============================] - 0s 11ms/step - loss: 4.1337 - mae: 4.1337\n",
            "Epoch 41/100\n",
            "1/1 [==============================] - 0s 11ms/step - loss: 4.0577 - mae: 4.0577\n",
            "Epoch 42/100\n",
            "1/1 [==============================] - 0s 11ms/step - loss: 3.9809 - mae: 3.9809\n",
            "Epoch 43/100\n",
            "1/1 [==============================] - 0s 12ms/step - loss: 3.9042 - mae: 3.9042\n",
            "Epoch 44/100\n",
            "1/1 [==============================] - 0s 12ms/step - loss: 3.8284 - mae: 3.8284\n",
            "Epoch 45/100\n",
            "1/1 [==============================] - 0s 12ms/step - loss: 3.7556 - mae: 3.7556\n",
            "Epoch 46/100\n",
            "1/1 [==============================] - 0s 12ms/step - loss: 3.7522 - mae: 3.7522\n",
            "Epoch 47/100\n",
            "1/1 [==============================] - 0s 12ms/step - loss: 3.8043 - mae: 3.8043\n",
            "Epoch 48/100\n",
            "1/1 [==============================] - 0s 11ms/step - loss: 3.8412 - mae: 3.8412\n",
            "Epoch 49/100\n",
            "1/1 [==============================] - 0s 12ms/step - loss: 3.8628 - mae: 3.8628\n",
            "Epoch 50/100\n",
            "1/1 [==============================] - 0s 12ms/step - loss: 3.8708 - mae: 3.8708\n",
            "Epoch 51/100\n",
            "1/1 [==============================] - 0s 13ms/step - loss: 3.8659 - mae: 3.8659\n",
            "Epoch 52/100\n",
            "1/1 [==============================] - 0s 10ms/step - loss: 3.8495 - mae: 3.8495\n",
            "Epoch 53/100\n",
            "1/1 [==============================] - 0s 11ms/step - loss: 3.8222 - mae: 3.8222\n",
            "Epoch 54/100\n",
            "1/1 [==============================] - 0s 11ms/step - loss: 3.7845 - mae: 3.7845\n",
            "Epoch 55/100\n",
            "1/1 [==============================] - 0s 11ms/step - loss: 3.7371 - mae: 3.7371\n",
            "Epoch 56/100\n",
            "1/1 [==============================] - 0s 11ms/step - loss: 3.6865 - mae: 3.6865\n",
            "Epoch 57/100\n",
            "1/1 [==============================] - 0s 12ms/step - loss: 3.6188 - mae: 3.6188\n",
            "Epoch 58/100\n",
            "1/1 [==============================] - 0s 12ms/step - loss: 3.6527 - mae: 3.6527\n",
            "Epoch 59/100\n",
            "1/1 [==============================] - 0s 12ms/step - loss: 3.6797 - mae: 3.6797\n",
            "Epoch 60/100\n",
            "1/1 [==============================] - 0s 12ms/step - loss: 3.6958 - mae: 3.6958\n",
            "Epoch 61/100\n",
            "1/1 [==============================] - 0s 12ms/step - loss: 3.7017 - mae: 3.7017\n",
            "Epoch 62/100\n",
            "1/1 [==============================] - 0s 11ms/step - loss: 3.6981 - mae: 3.6981\n",
            "Epoch 63/100\n",
            "1/1 [==============================] - 0s 11ms/step - loss: 3.6867 - mae: 3.6867\n",
            "Epoch 64/100\n",
            "1/1 [==============================] - 0s 12ms/step - loss: 3.6672 - mae: 3.6672\n",
            "Epoch 65/100\n",
            "1/1 [==============================] - 0s 12ms/step - loss: 3.6407 - mae: 3.6407\n",
            "Epoch 66/100\n",
            "1/1 [==============================] - 0s 13ms/step - loss: 3.6188 - mae: 3.6188\n",
            "Epoch 67/100\n",
            "1/1 [==============================] - 0s 14ms/step - loss: 3.5786 - mae: 3.5786\n",
            "Epoch 68/100\n",
            "1/1 [==============================] - 0s 11ms/step - loss: 3.5410 - mae: 3.5410\n",
            "Epoch 69/100\n",
            "1/1 [==============================] - 0s 15ms/step - loss: 3.5003 - mae: 3.5003\n",
            "Epoch 70/100\n",
            "1/1 [==============================] - 0s 12ms/step - loss: 3.5282 - mae: 3.5282\n",
            "Epoch 71/100\n",
            "1/1 [==============================] - 0s 12ms/step - loss: 3.5467 - mae: 3.5467\n",
            "Epoch 72/100\n",
            "1/1 [==============================] - 0s 11ms/step - loss: 3.5447 - mae: 3.5447\n",
            "Epoch 73/100\n",
            "1/1 [==============================] - 0s 12ms/step - loss: 3.5273 - mae: 3.5273\n",
            "Epoch 74/100\n",
            "1/1 [==============================] - 0s 13ms/step - loss: 3.4943 - mae: 3.4943\n",
            "Epoch 75/100\n",
            "1/1 [==============================] - 0s 13ms/step - loss: 3.4598 - mae: 3.4598\n",
            "Epoch 76/100\n",
            "1/1 [==============================] - 0s 13ms/step - loss: 3.4210 - mae: 3.4210\n",
            "Epoch 77/100\n",
            "1/1 [==============================] - 0s 12ms/step - loss: 3.4318 - mae: 3.4318\n",
            "Epoch 78/100\n",
            "1/1 [==============================] - 0s 12ms/step - loss: 3.4326 - mae: 3.4326\n",
            "Epoch 79/100\n",
            "1/1 [==============================] - 0s 11ms/step - loss: 3.4246 - mae: 3.4246\n",
            "Epoch 80/100\n",
            "1/1 [==============================] - 0s 11ms/step - loss: 3.4076 - mae: 3.4076\n",
            "Epoch 81/100\n",
            "1/1 [==============================] - 0s 9ms/step - loss: 3.3837 - mae: 3.3837\n",
            "Epoch 82/100\n",
            "1/1 [==============================] - 0s 10ms/step - loss: 3.3529 - mae: 3.3529\n",
            "Epoch 83/100\n",
            "1/1 [==============================] - 0s 10ms/step - loss: 3.3306 - mae: 3.3306\n",
            "Epoch 84/100\n",
            "1/1 [==============================] - 0s 16ms/step - loss: 3.3257 - mae: 3.3257\n",
            "Epoch 85/100\n",
            "1/1 [==============================] - 0s 10ms/step - loss: 3.3079 - mae: 3.3079\n",
            "Epoch 86/100\n",
            "1/1 [==============================] - 0s 17ms/step - loss: 3.2761 - mae: 3.2761\n",
            "Epoch 87/100\n",
            "1/1 [==============================] - 0s 11ms/step - loss: 3.2670 - mae: 3.2670\n",
            "Epoch 88/100\n",
            "1/1 [==============================] - 0s 11ms/step - loss: 3.2501 - mae: 3.2501\n",
            "Epoch 89/100\n",
            "1/1 [==============================] - 0s 12ms/step - loss: 3.2283 - mae: 3.2283\n",
            "Epoch 90/100\n",
            "1/1 [==============================] - 0s 14ms/step - loss: 3.2049 - mae: 3.2049\n",
            "Epoch 91/100\n",
            "1/1 [==============================] - 0s 15ms/step - loss: 3.1809 - mae: 3.1809\n",
            "Epoch 92/100\n",
            "1/1 [==============================] - 0s 13ms/step - loss: 3.1706 - mae: 3.1706\n",
            "Epoch 93/100\n",
            "1/1 [==============================] - 0s 11ms/step - loss: 3.1507 - mae: 3.1507\n",
            "Epoch 94/100\n",
            "1/1 [==============================] - 0s 15ms/step - loss: 3.1212 - mae: 3.1212\n",
            "Epoch 95/100\n",
            "1/1 [==============================] - 0s 12ms/step - loss: 3.0867 - mae: 3.0867\n",
            "Epoch 96/100\n",
            "1/1 [==============================] - 0s 12ms/step - loss: 3.0935 - mae: 3.0935\n",
            "Epoch 97/100\n",
            "1/1 [==============================] - 0s 12ms/step - loss: 3.0580 - mae: 3.0580\n",
            "Epoch 98/100\n",
            "1/1 [==============================] - 0s 12ms/step - loss: 3.0200 - mae: 3.0200\n",
            "Epoch 99/100\n",
            "1/1 [==============================] - 0s 11ms/step - loss: 3.0192 - mae: 3.0192\n",
            "Epoch 100/100\n",
            "1/1 [==============================] - 0s 12ms/step - loss: 3.0095 - mae: 3.0095\n"
          ]
        },
        {
          "data": {
            "text/plain": [
              "<keras.callbacks.History at 0x7f8b60474df0>"
            ]
          },
          "execution_count": 17,
          "metadata": {},
          "output_type": "execute_result"
        }
      ],
      "source": [
        "# Let's rebuild model\n",
        "\n",
        "# 1. Create a model \n",
        "model = tf.keras.Sequential([\n",
        "    tf.keras.layers.Dense(100, activation='relu'),\n",
        "    tf.keras.layers.Dense(100, activation='relu'),\n",
        "    tf.keras.layers.Dense(100, activation='relu'),\n",
        "    tf.keras.layers.Dense(1)\n",
        "])\n",
        "\n",
        "# 2. Compiling model\n",
        "model.compile(\n",
        "    loss=tf.keras.losses.mae,\n",
        "    optimizer=tf.keras.optimizers.Adam(),\n",
        "    metrics=['mae']\n",
        ")\n",
        "\n",
        "# 3. Fit the model\n",
        "model.fit(tf.expand_dims(X, axis=-1), y, epochs=100)"
      ]
    },
    {
      "cell_type": "code",
      "execution_count": null,
      "metadata": {
        "colab": {
          "background_save": true,
          "base_uri": "https://localhost:8080/"
        },
        "id": "g5WKa2WK6F1s",
        "outputId": "7249a267-f22f-4428-a929-f3219803ac1f"
      },
      "outputs": [
        {
          "data": {
            "text/plain": [
              "(<tf.Tensor: shape=(8,), dtype=float64, numpy=array([-7., -4., -1.,  2.,  5.,  8., 11., 14.])>,\n",
              " <tf.Tensor: shape=(8,), dtype=float64, numpy=array([ 3.,  6.,  9., 12., 15., 18., 21., 24.])>)"
            ]
          },
          "execution_count": 18,
          "metadata": {},
          "output_type": "execute_result"
        }
      ],
      "source": [
        "# Remind data\n",
        "X, y"
      ]
    },
    {
      "cell_type": "code",
      "execution_count": null,
      "metadata": {
        "colab": {
          "background_save": true,
          "base_uri": "https://localhost:8080/"
        },
        "id": "SORLDr9U4so-",
        "outputId": "3a4ac25a-59ca-4403-81a5-fab17002f41e"
      },
      "outputs": [
        {
          "name": "stdout",
          "output_type": "stream",
          "text": [
            "1/1 [==============================] - 0s 81ms/step\n"
          ]
        },
        {
          "data": {
            "text/plain": [
              "array([[31.799389]], dtype=float32)"
            ]
          },
          "execution_count": 19,
          "metadata": {},
          "output_type": "execute_result"
        }
      ],
      "source": [
        "# Making a prediction\n",
        "model.predict([17.0])"
      ]
    },
    {
      "cell_type": "markdown",
      "metadata": {
        "id": "ygdIVYde6SZm"
      },
      "source": [
        "### Change the learning rate\n",
        "\n",
        "Learning rate's default parameter is 0.001 for Adam optimizer. Let's make it 0.01"
      ]
    },
    {
      "cell_type": "code",
      "execution_count": null,
      "metadata": {
        "colab": {
          "background_save": true,
          "base_uri": "https://localhost:8080/"
        },
        "id": "sVTn5bRf6SRn",
        "outputId": "7f9b1e32-e794-4ef9-96f7-e17bcc1892a4"
      },
      "outputs": [
        {
          "name": "stdout",
          "output_type": "stream",
          "text": [
            "Epoch 1/100\n",
            "1/1 [==============================] - 1s 1s/step - loss: 13.1254 - mae: 13.1254\n",
            "Epoch 2/100\n",
            "1/1 [==============================] - 0s 12ms/step - loss: 10.8695 - mae: 10.8695\n",
            "Epoch 3/100\n",
            "1/1 [==============================] - 0s 12ms/step - loss: 8.1470 - mae: 8.1470\n",
            "Epoch 4/100\n",
            "1/1 [==============================] - 0s 12ms/step - loss: 4.1712 - mae: 4.1712\n",
            "Epoch 5/100\n",
            "1/1 [==============================] - 0s 11ms/step - loss: 7.1831 - mae: 7.1831\n",
            "Epoch 6/100\n",
            "1/1 [==============================] - 0s 12ms/step - loss: 6.6215 - mae: 6.6215\n",
            "Epoch 7/100\n",
            "1/1 [==============================] - 0s 11ms/step - loss: 4.8670 - mae: 4.8670\n",
            "Epoch 8/100\n",
            "1/1 [==============================] - 0s 11ms/step - loss: 3.8507 - mae: 3.8507\n",
            "Epoch 9/100\n",
            "1/1 [==============================] - 0s 11ms/step - loss: 4.8601 - mae: 4.8601\n",
            "Epoch 10/100\n",
            "1/1 [==============================] - 0s 13ms/step - loss: 5.1175 - mae: 5.1175\n",
            "Epoch 11/100\n",
            "1/1 [==============================] - 0s 12ms/step - loss: 4.5121 - mae: 4.5121\n",
            "Epoch 12/100\n",
            "1/1 [==============================] - 0s 15ms/step - loss: 3.6956 - mae: 3.6956\n",
            "Epoch 13/100\n",
            "1/1 [==============================] - 0s 15ms/step - loss: 3.9702 - mae: 3.9702\n",
            "Epoch 14/100\n",
            "1/1 [==============================] - 0s 15ms/step - loss: 4.4123 - mae: 4.4123\n",
            "Epoch 15/100\n",
            "1/1 [==============================] - 0s 12ms/step - loss: 4.2788 - mae: 4.2788\n",
            "Epoch 16/100\n",
            "1/1 [==============================] - 0s 12ms/step - loss: 3.7330 - mae: 3.7330\n",
            "Epoch 17/100\n",
            "1/1 [==============================] - 0s 12ms/step - loss: 3.4992 - mae: 3.4992\n",
            "Epoch 18/100\n",
            "1/1 [==============================] - 0s 11ms/step - loss: 3.4056 - mae: 3.4056\n",
            "Epoch 19/100\n",
            "1/1 [==============================] - 0s 11ms/step - loss: 3.4347 - mae: 3.4347\n",
            "Epoch 20/100\n",
            "1/1 [==============================] - 0s 11ms/step - loss: 3.3051 - mae: 3.3051\n",
            "Epoch 21/100\n",
            "1/1 [==============================] - 0s 12ms/step - loss: 3.0154 - mae: 3.0154\n",
            "Epoch 22/100\n",
            "1/1 [==============================] - 0s 12ms/step - loss: 3.0280 - mae: 3.0280\n",
            "Epoch 23/100\n",
            "1/1 [==============================] - 0s 11ms/step - loss: 3.2027 - mae: 3.2027\n",
            "Epoch 24/100\n",
            "1/1 [==============================] - 0s 11ms/step - loss: 2.7172 - mae: 2.7172\n",
            "Epoch 25/100\n",
            "1/1 [==============================] - 0s 11ms/step - loss: 2.4077 - mae: 2.4077\n",
            "Epoch 26/100\n",
            "1/1 [==============================] - 0s 12ms/step - loss: 2.3935 - mae: 2.3935\n",
            "Epoch 27/100\n",
            "1/1 [==============================] - 0s 12ms/step - loss: 2.0192 - mae: 2.0192\n",
            "Epoch 28/100\n",
            "1/1 [==============================] - 0s 12ms/step - loss: 2.0172 - mae: 2.0172\n",
            "Epoch 29/100\n",
            "1/1 [==============================] - 0s 13ms/step - loss: 1.6020 - mae: 1.6020\n",
            "Epoch 30/100\n",
            "1/1 [==============================] - 0s 11ms/step - loss: 1.2954 - mae: 1.2954\n",
            "Epoch 31/100\n",
            "1/1 [==============================] - 0s 12ms/step - loss: 1.3111 - mae: 1.3111\n",
            "Epoch 32/100\n",
            "1/1 [==============================] - 0s 11ms/step - loss: 0.7806 - mae: 0.7806\n",
            "Epoch 33/100\n",
            "1/1 [==============================] - 0s 11ms/step - loss: 1.1278 - mae: 1.1278\n",
            "Epoch 34/100\n",
            "1/1 [==============================] - 0s 11ms/step - loss: 1.0110 - mae: 1.0110\n",
            "Epoch 35/100\n",
            "1/1 [==============================] - 0s 13ms/step - loss: 0.8654 - mae: 0.8654\n",
            "Epoch 36/100\n",
            "1/1 [==============================] - 0s 12ms/step - loss: 1.4875 - mae: 1.4875\n",
            "Epoch 37/100\n",
            "1/1 [==============================] - 0s 11ms/step - loss: 1.0082 - mae: 1.0082\n",
            "Epoch 38/100\n",
            "1/1 [==============================] - 0s 12ms/step - loss: 1.0089 - mae: 1.0089\n",
            "Epoch 39/100\n",
            "1/1 [==============================] - 0s 12ms/step - loss: 1.1923 - mae: 1.1923\n",
            "Epoch 40/100\n",
            "1/1 [==============================] - 0s 12ms/step - loss: 0.3535 - mae: 0.3535\n",
            "Epoch 41/100\n",
            "1/1 [==============================] - 0s 11ms/step - loss: 1.6668 - mae: 1.6668\n",
            "Epoch 42/100\n",
            "1/1 [==============================] - 0s 12ms/step - loss: 1.6902 - mae: 1.6902\n",
            "Epoch 43/100\n",
            "1/1 [==============================] - 0s 12ms/step - loss: 0.8179 - mae: 0.8179\n",
            "Epoch 44/100\n",
            "1/1 [==============================] - 0s 12ms/step - loss: 1.3169 - mae: 1.3169\n",
            "Epoch 45/100\n",
            "1/1 [==============================] - 0s 11ms/step - loss: 1.4373 - mae: 1.4373\n",
            "Epoch 46/100\n",
            "1/1 [==============================] - 0s 11ms/step - loss: 0.6770 - mae: 0.6770\n",
            "Epoch 47/100\n",
            "1/1 [==============================] - 0s 11ms/step - loss: 1.4721 - mae: 1.4721\n",
            "Epoch 48/100\n",
            "1/1 [==============================] - 0s 13ms/step - loss: 1.7549 - mae: 1.7549\n",
            "Epoch 49/100\n",
            "1/1 [==============================] - 0s 12ms/step - loss: 0.8524 - mae: 0.8524\n",
            "Epoch 50/100\n",
            "1/1 [==============================] - 0s 13ms/step - loss: 0.9619 - mae: 0.9619\n",
            "Epoch 51/100\n",
            "1/1 [==============================] - 0s 11ms/step - loss: 1.2414 - mae: 1.2414\n",
            "Epoch 52/100\n",
            "1/1 [==============================] - 0s 12ms/step - loss: 0.5088 - mae: 0.5088\n",
            "Epoch 53/100\n",
            "1/1 [==============================] - 0s 12ms/step - loss: 1.1865 - mae: 1.1865\n",
            "Epoch 54/100\n",
            "1/1 [==============================] - 0s 12ms/step - loss: 1.5701 - mae: 1.5701\n",
            "Epoch 55/100\n",
            "1/1 [==============================] - 0s 12ms/step - loss: 0.7493 - mae: 0.7493\n",
            "Epoch 56/100\n",
            "1/1 [==============================] - 0s 12ms/step - loss: 0.9519 - mae: 0.9519\n",
            "Epoch 57/100\n",
            "1/1 [==============================] - 0s 11ms/step - loss: 1.5703 - mae: 1.5703\n",
            "Epoch 58/100\n",
            "1/1 [==============================] - 0s 12ms/step - loss: 1.3146 - mae: 1.3146\n",
            "Epoch 59/100\n",
            "1/1 [==============================] - 0s 12ms/step - loss: 0.4349 - mae: 0.4349\n",
            "Epoch 60/100\n",
            "1/1 [==============================] - 0s 12ms/step - loss: 0.8906 - mae: 0.8906\n",
            "Epoch 61/100\n",
            "1/1 [==============================] - 0s 12ms/step - loss: 0.9831 - mae: 0.9831\n",
            "Epoch 62/100\n",
            "1/1 [==============================] - 0s 11ms/step - loss: 0.2892 - mae: 0.2892\n",
            "Epoch 63/100\n",
            "1/1 [==============================] - 0s 12ms/step - loss: 0.6365 - mae: 0.6365\n",
            "Epoch 64/100\n",
            "1/1 [==============================] - 0s 12ms/step - loss: 0.4275 - mae: 0.4275\n",
            "Epoch 65/100\n",
            "1/1 [==============================] - 0s 12ms/step - loss: 0.8078 - mae: 0.8078\n",
            "Epoch 66/100\n",
            "1/1 [==============================] - 0s 12ms/step - loss: 0.9055 - mae: 0.9055\n",
            "Epoch 67/100\n",
            "1/1 [==============================] - 0s 13ms/step - loss: 0.1892 - mae: 0.1892\n",
            "Epoch 68/100\n",
            "1/1 [==============================] - 0s 11ms/step - loss: 0.8044 - mae: 0.8044\n",
            "Epoch 69/100\n",
            "1/1 [==============================] - 0s 13ms/step - loss: 0.8890 - mae: 0.8890\n",
            "Epoch 70/100\n",
            "1/1 [==============================] - 0s 11ms/step - loss: 0.3122 - mae: 0.3122\n",
            "Epoch 71/100\n",
            "1/1 [==============================] - 0s 18ms/step - loss: 0.9923 - mae: 0.9923\n",
            "Epoch 72/100\n",
            "1/1 [==============================] - 0s 13ms/step - loss: 1.2214 - mae: 1.2214\n",
            "Epoch 73/100\n",
            "1/1 [==============================] - 0s 14ms/step - loss: 0.6167 - mae: 0.6167\n",
            "Epoch 74/100\n",
            "1/1 [==============================] - 0s 12ms/step - loss: 1.1001 - mae: 1.1001\n",
            "Epoch 75/100\n",
            "1/1 [==============================] - 0s 15ms/step - loss: 1.4409 - mae: 1.4409\n",
            "Epoch 76/100\n",
            "1/1 [==============================] - 0s 14ms/step - loss: 1.1017 - mae: 1.1017\n",
            "Epoch 77/100\n",
            "1/1 [==============================] - 0s 13ms/step - loss: 0.3216 - mae: 0.3216\n",
            "Epoch 78/100\n",
            "1/1 [==============================] - 0s 15ms/step - loss: 1.0677 - mae: 1.0677\n",
            "Epoch 79/100\n",
            "1/1 [==============================] - 0s 12ms/step - loss: 1.0142 - mae: 1.0142\n",
            "Epoch 80/100\n",
            "1/1 [==============================] - 0s 12ms/step - loss: 0.2683 - mae: 0.2683\n",
            "Epoch 81/100\n",
            "1/1 [==============================] - 0s 12ms/step - loss: 0.9055 - mae: 0.9055\n",
            "Epoch 82/100\n",
            "1/1 [==============================] - 0s 12ms/step - loss: 0.9050 - mae: 0.9050\n",
            "Epoch 83/100\n",
            "1/1 [==============================] - 0s 12ms/step - loss: 0.2591 - mae: 0.2591\n",
            "Epoch 84/100\n",
            "1/1 [==============================] - 0s 11ms/step - loss: 0.9281 - mae: 0.9281\n",
            "Epoch 85/100\n",
            "1/1 [==============================] - 0s 13ms/step - loss: 1.0010 - mae: 1.0010\n",
            "Epoch 86/100\n",
            "1/1 [==============================] - 0s 12ms/step - loss: 0.3213 - mae: 0.3213\n",
            "Epoch 87/100\n",
            "1/1 [==============================] - 0s 12ms/step - loss: 1.1862 - mae: 1.1862\n",
            "Epoch 88/100\n",
            "1/1 [==============================] - 0s 12ms/step - loss: 1.7458 - mae: 1.7458\n",
            "Epoch 89/100\n",
            "1/1 [==============================] - 0s 13ms/step - loss: 1.6245 - mae: 1.6245\n",
            "Epoch 90/100\n",
            "1/1 [==============================] - 0s 15ms/step - loss: 0.8824 - mae: 0.8824\n",
            "Epoch 91/100\n",
            "1/1 [==============================] - 0s 13ms/step - loss: 0.4999 - mae: 0.4999\n",
            "Epoch 92/100\n",
            "1/1 [==============================] - 0s 13ms/step - loss: 0.8884 - mae: 0.8884\n",
            "Epoch 93/100\n",
            "1/1 [==============================] - 0s 13ms/step - loss: 0.4579 - mae: 0.4579\n",
            "Epoch 94/100\n",
            "1/1 [==============================] - 0s 12ms/step - loss: 0.8480 - mae: 0.8480\n",
            "Epoch 95/100\n",
            "1/1 [==============================] - 0s 13ms/step - loss: 1.0525 - mae: 1.0525\n",
            "Epoch 96/100\n",
            "1/1 [==============================] - 0s 12ms/step - loss: 0.6300 - mae: 0.6300\n",
            "Epoch 97/100\n",
            "1/1 [==============================] - 0s 12ms/step - loss: 0.5738 - mae: 0.5738\n",
            "Epoch 98/100\n",
            "1/1 [==============================] - 0s 12ms/step - loss: 0.6951 - mae: 0.6951\n",
            "Epoch 99/100\n",
            "1/1 [==============================] - 0s 13ms/step - loss: 0.1694 - mae: 0.1694\n",
            "Epoch 100/100\n",
            "1/1 [==============================] - 0s 15ms/step - loss: 0.6228 - mae: 0.6228\n"
          ]
        },
        {
          "data": {
            "text/plain": [
              "<keras.callbacks.History at 0x7f8b602facd0>"
            ]
          },
          "execution_count": 20,
          "metadata": {},
          "output_type": "execute_result"
        }
      ],
      "source": [
        "# Let's rebuild model\n",
        "\n",
        "# 1. Create a model \n",
        "model = tf.keras.Sequential([\n",
        "    tf.keras.layers.Dense(100, activation='relu'),\n",
        "    tf.keras.layers.Dense(100, activation='relu'),\n",
        "    tf.keras.layers.Dense(100, activation='relu'),\n",
        "    tf.keras.layers.Dense(1)\n",
        "])\n",
        "\n",
        "# 2. Compiling model\n",
        "model.compile(\n",
        "    loss=tf.keras.losses.mae,\n",
        "    optimizer=tf.keras.optimizers.Adam(learning_rate=0.01),\n",
        "    metrics=['mae']\n",
        ")\n",
        "\n",
        "# 3. Fit the model\n",
        "model.fit(tf.expand_dims(X, axis=-1), y, epochs=100)"
      ]
    },
    {
      "cell_type": "code",
      "execution_count": null,
      "metadata": {
        "colab": {
          "background_save": true,
          "base_uri": "https://localhost:8080/"
        },
        "id": "OY2ducXx6SPc",
        "outputId": "15680ca2-8db1-44fb-f025-484e998dfc77"
      },
      "outputs": [
        {
          "data": {
            "text/plain": [
              "(<tf.Tensor: shape=(8,), dtype=float64, numpy=array([-7., -4., -1.,  2.,  5.,  8., 11., 14.])>,\n",
              " <tf.Tensor: shape=(8,), dtype=float64, numpy=array([ 3.,  6.,  9., 12., 15., 18., 21., 24.])>)"
            ]
          },
          "execution_count": 21,
          "metadata": {},
          "output_type": "execute_result"
        }
      ],
      "source": [
        "# Remind the data\n",
        "X, y"
      ]
    },
    {
      "cell_type": "code",
      "execution_count": null,
      "metadata": {
        "colab": {
          "background_save": true,
          "base_uri": "https://localhost:8080/"
        },
        "id": "BoczlBnp6SMu",
        "outputId": "82cb209f-c476-42ee-f0b5-2098668ec3dc"
      },
      "outputs": [
        {
          "name": "stderr",
          "output_type": "stream",
          "text": [
            "WARNING:tensorflow:5 out of the last 5 calls to <function Model.make_predict_function.<locals>.predict_function at 0x7f8b60370d30> triggered tf.function retracing. Tracing is expensive and the excessive number of tracings could be due to (1) creating @tf.function repeatedly in a loop, (2) passing tensors with different shapes, (3) passing Python objects instead of tensors. For (1), please define your @tf.function outside of the loop. For (2), @tf.function has reduce_retracing=True option that can avoid unnecessary retracing. For (3), please refer to https://www.tensorflow.org/guide/function#controlling_retracing and https://www.tensorflow.org/api_docs/python/tf/function for  more details.\n"
          ]
        },
        {
          "name": "stdout",
          "output_type": "stream",
          "text": [
            "1/1 [==============================] - 0s 75ms/step\n"
          ]
        },
        {
          "data": {
            "text/plain": [
              "array([[26.732338]], dtype=float32)"
            ]
          },
          "execution_count": 22,
          "metadata": {},
          "output_type": "execute_result"
        }
      ],
      "source": [
        "# Make a prediction\n",
        "model.predict([17.0])"
      ]
    },
    {
      "cell_type": "markdown",
      "metadata": {
        "id": "Bscu82sZ6R7k"
      },
      "source": [
        "Woowww.. It's look the best prediction.."
      ]
    },
    {
      "cell_type": "markdown",
      "metadata": {
        "id": "bwsdnptQ2iFC"
      },
      "source": [
        "### Common ways to improve a deep model\n",
        "\n",
        "* Adding more hidden layers\n",
        "* Adding more neurons\n",
        "* Change the activation function\n",
        "* Change the optimization function\n",
        "* Change the learning rate\n",
        "* Fitting for longer (increase number of epoch)\n",
        "* Fitting on more data"
      ]
    },
    {
      "cell_type": "markdown",
      "metadata": {
        "id": "_SPSH0Nc4rqr"
      },
      "source": [
        "## Evaluating a model\n",
        "\n",
        "In practice, a typical workflow  you'll go through when building neural networks is:\n",
        "\n",
        "```\n",
        "Build a model -> Fit it -> Evaluate it -> Tweak a model -> Fit it -> Evaluate it -> Tweak a model -> Fit it -> Evaluate it -> Tweak a model -> Fit it -> Evaluate it ```"
      ]
    },
    {
      "cell_type": "markdown",
      "metadata": {
        "id": "JGDJcr2P8A5R"
      },
      "source": [
        "When it comes to evaluation. There are 3 words you memorized:\n",
        "\n",
        "> 'Visualize, Visualize, Visualize...'\n",
        "\n",
        "It is a good idea to visualize:\n",
        "* The data - What data are we working with? What does it look like?\n",
        "* The model itself - What does model look like?\n",
        "* Traning of a model - How does a model perform while it learns?\n",
        "* Prediction of the model -  How do the predictions of a model line up aganist the truth?"
      ]
    },
    {
      "cell_type": "code",
      "execution_count": null,
      "metadata": {
        "colab": {
          "background_save": true,
          "base_uri": "https://localhost:8080/"
        },
        "id": "P2nA42oGlEgv",
        "outputId": "8fc14597-2e86-4f12-a9d4-202eabe3eb4c"
      },
      "outputs": [
        {
          "data": {
            "text/plain": [
              "<tf.Tensor: shape=(50,), dtype=int32, numpy=\n",
              "array([-100,  -96,  -92,  -88,  -84,  -80,  -76,  -72,  -68,  -64,  -60,\n",
              "        -56,  -52,  -48,  -44,  -40,  -36,  -32,  -28,  -24,  -20,  -16,\n",
              "        -12,   -8,   -4,    0,    4,    8,   12,   16,   20,   24,   28,\n",
              "         32,   36,   40,   44,   48,   52,   56,   60,   64,   68,   72,\n",
              "         76,   80,   84,   88,   92,   96], dtype=int32)>"
            ]
          },
          "execution_count": 23,
          "metadata": {},
          "output_type": "execute_result"
        }
      ],
      "source": [
        "# Make a bigger dataset\n",
        "X = tf.range(-100, 100, 4)\n",
        "X"
      ]
    },
    {
      "cell_type": "code",
      "execution_count": null,
      "metadata": {
        "colab": {
          "background_save": true,
          "base_uri": "https://localhost:8080/"
        },
        "id": "IgWEHAe7lG3C",
        "outputId": "4ff06379-96a4-4698-c2f5-6fb494c58617"
      },
      "outputs": [
        {
          "data": {
            "text/plain": [
              "<tf.Tensor: shape=(50,), dtype=int32, numpy=\n",
              "array([-90, -86, -82, -78, -74, -70, -66, -62, -58, -54, -50, -46, -42,\n",
              "       -38, -34, -30, -26, -22, -18, -14, -10,  -6,  -2,   2,   6,  10,\n",
              "        14,  18,  22,  26,  30,  34,  38,  42,  46,  50,  54,  58,  62,\n",
              "        66,  70,  74,  78,  82,  86,  90,  94,  98, 102, 106], dtype=int32)>"
            ]
          },
          "execution_count": 24,
          "metadata": {},
          "output_type": "execute_result"
        }
      ],
      "source": [
        "# make labels for dataset\n",
        "y = X + 10\n",
        "y"
      ]
    },
    {
      "cell_type": "code",
      "execution_count": null,
      "metadata": {
        "colab": {
          "background_save": true,
          "base_uri": "https://localhost:8080/",
          "height": 449
        },
        "id": "O33QBoDPmIC3",
        "outputId": "8acce8b4-cf8f-42aa-b0f5-91f3aee29512"
      },
      "outputs": [
        {
          "data": {
            "image/png": "[encoded data removed]",
            "text/plain": [
              "<Figure size 640x480 with 1 Axes>"
            ]
          },
          "metadata": {},
          "output_type": "display_data"
        }
      ],
      "source": [
        "# Plot data\n",
        "plt.scatter(X, y)\n",
        "plt.xlabel('X')\n",
        "plt.ylabel('y')\n",
        "plt.show()"
      ]
    },
    {
      "cell_type": "markdown",
      "metadata": {
        "id": "uDbreGfPmWUP"
      },
      "source": [
        "### The three sets\n",
        "\n",
        "* **Train set** - The model learns from this data, which is typically 70-80% of total data\n",
        "* **Validation set** - The model gets tuned on this data which is typically 10-15% of total data\n",
        "* **Test set** - The model gets evaulated on this data to test what is has learned, which is typically 10-15% of total data\n"
      ]
    },
    {
      "cell_type": "code",
      "execution_count": null,
      "metadata": {
        "colab": {
          "background_save": true,
          "base_uri": "https://localhost:8080/"
        },
        "id": "HdLMPbdeurWr",
        "outputId": "9a20f47f-97f9-4e7e-fec8-04df2ac3f1ea"
      },
      "outputs": [
        {
          "data": {
            "text/plain": [
              "50"
            ]
          },
          "execution_count": 26,
          "metadata": {},
          "output_type": "execute_result"
        }
      ],
      "source": [
        "# Check the lenth of how many data we have\n",
        "len(X)"
      ]
    },
    {
      "cell_type": "code",
      "execution_count": null,
      "metadata": {
        "colab": {
          "background_save": true,
          "base_uri": "https://localhost:8080/"
        },
        "id": "KPe_rfukw3BO",
        "outputId": "da0eaf9c-c96f-4bac-e77a-eb08c2f3372b"
      },
      "outputs": [
        {
          "data": {
            "text/plain": [
              "(40, 10)"
            ]
          },
          "execution_count": 27,
          "metadata": {},
          "output_type": "execute_result"
        }
      ],
      "source": [
        "# Split the data into train and test set\n",
        "X_train = X[:40] # first 40 are train samples (80% of our data)\n",
        "y_train = y[:40]\n",
        "            \n",
        "X_test = X[40:] # last 10 are test samples (20% of our data)\n",
        "y_test = y[40:]\n",
        "\n",
        "len(X_train), len(X_test)"
      ]
    },
    {
      "cell_type": "markdown",
      "metadata": {
        "id": "M7yCs5iVyP43"
      },
      "source": [
        "### Visualizing data \n",
        "\n",
        "Now we've got our data in train and test sets. Let's visualize it again."
      ]
    },
    {
      "cell_type": "code",
      "execution_count": null,
      "metadata": {
        "colab": {
          "background_save": true,
          "base_uri": "https://localhost:8080/",
          "height": 449
        },
        "id": "6zKkqtH5zH3v",
        "outputId": "5c2610f2-e916-4acc-d167-76562067f3f6"
      },
      "outputs": [
        {
          "data": {
            "image/png": "[encoded data removed]",
            "text/plain": [
              "<Figure size 640x480 with 1 Axes>"
            ]
          },
          "metadata": {},
          "output_type": "display_data"
        }
      ],
      "source": [
        "# plot training data in blue\n",
        "plt.scatter(X_train, y_train, c='b', label='train-set')\n",
        "# plot test data in red\n",
        "plt.scatter(X_test, y_test, c='r', label='test-set')\n",
        "# show legend\n",
        "plt.legend()\n",
        "plt.xlabel('X')\n",
        "plt.ylabel('y')\n",
        "plt.show()"
      ]
    },
    {
      "cell_type": "code",
      "execution_count": null,
      "metadata": {
        "colab": {
          "background_save": true
        },
        "id": "6PIqmS7BzY1t"
      },
      "outputs": [],
      "source": [
        "# Let's build a neural network for our data\n",
        "\n",
        "# 1.Create a model\n",
        "model = tf.keras.Sequential([\n",
        "    tf.keras.layers.Dense(1)\n",
        "])\n",
        "\n",
        "# 2.Compiling model\n",
        "model.compile(\n",
        "    loss=tf.keras.losses.mae,\n",
        "    optimizer=tf.keras.optimizers.SGD(),\n",
        "    metrics=['mae']\n",
        ")\n",
        "\n",
        "# 3.Fit the model\n",
        "# model.fit(tf.expand_dims(X, axis=-1), y, epochs=100) # Pass this part and check what will happen if we summary the model"
      ]
    },
    {
      "cell_type": "markdown",
      "metadata": {
        "id": "vS0c9GOzAbPF"
      },
      "source": [
        "### Visulazing the model\n"
      ]
    },
    {
      "cell_type": "code",
      "execution_count": null,
      "metadata": {
        "colab": {
          "background_save": true,
          "base_uri": "https://localhost:8080/",
          "height": 287
        },
        "id": "6zyT7yn5AVit",
        "outputId": "86525f96-11e5-467c-d7e8-578a339f2e16"
      },
      "outputs": [
        {
          "ename": "ValueError",
          "evalue": "ignored",
          "output_type": "error",
          "traceback": [
            "\u001b[0;31m---------------------------------------------------------------------------\u001b[0m",
            "\u001b[0;31mValueError\u001b[0m                                Traceback (most recent call last)",
            "\u001b[0;32m<ipython-input-30-5f15418b3570>\u001b[0m in \u001b[0;36m<cell line: 1>\u001b[0;34m()\u001b[0m\n\u001b[0;32m----> 1\u001b[0;31m \u001b[0mmodel\u001b[0m\u001b[0;34m.\u001b[0m\u001b[0msummary\u001b[0m\u001b[0;34m(\u001b[0m\u001b[0;34m)\u001b[0m\u001b[0;34m\u001b[0m\u001b[0;34m\u001b[0m\u001b[0m\n\u001b[0m",
            "\u001b[0;32m/usr/local/lib/python3.9/dist-packages/keras/engine/training.py\u001b[0m in \u001b[0;36msummary\u001b[0;34m(self, line_length, positions, print_fn, expand_nested, show_trainable, layer_range)\u001b[0m\n\u001b[1;32m   3227\u001b[0m         \"\"\"\n\u001b[1;32m   3228\u001b[0m         \u001b[0;32mif\u001b[0m \u001b[0;32mnot\u001b[0m \u001b[0mself\u001b[0m\u001b[0;34m.\u001b[0m\u001b[0mbuilt\u001b[0m\u001b[0;34m:\u001b[0m\u001b[0;34m\u001b[0m\u001b[0;34m\u001b[0m\u001b[0m\n\u001b[0;32m-> 3229\u001b[0;31m             raise ValueError(\n\u001b[0m\u001b[1;32m   3230\u001b[0m                 \u001b[0;34m\"This model has not yet been built. \"\u001b[0m\u001b[0;34m\u001b[0m\u001b[0;34m\u001b[0m\u001b[0m\n\u001b[1;32m   3231\u001b[0m                 \u001b[0;34m\"Build the model first by calling `build()` or by calling \"\u001b[0m\u001b[0;34m\u001b[0m\u001b[0;34m\u001b[0m\u001b[0m\n",
            "\u001b[0;31mValueError\u001b[0m: This model has not yet been built. Build the model first by calling `build()` or by calling the model on a batch of data."
          ]
        }
      ],
      "source": [
        "model.summary()"
      ]
    },
    {
      "cell_type": "code",
      "execution_count": null,
      "metadata": {
        "colab": {
          "background_save": true
        },
        "id": "SsPjpAsYAj9d"
      },
      "outputs": [],
      "source": [
        "# Let's create a model which builds automatically by defining the input_shape argument\n",
        "tf.random.set_seed(42)\n",
        "\n",
        "# 1. Create a model (same as above we just add input_shape in Dense)\n",
        "model = tf.keras.Sequential([\n",
        "    tf.keras.layers.Dense(15, input_shape=[1], name='input_layer'),\n",
        "    tf.keras.layers.Dense(1, name='output_layer')\n",
        "], name='model_1')\n",
        "\n",
        "# 2. Compiling model\n",
        "model.compile(\n",
        "    loss=tf.keras.losses.mae,\n",
        "    optimizer=tf.keras.optimizers.SGD(),\n",
        "    metrics=['mae']\n",
        ")"
      ]
    },
    {
      "cell_type": "code",
      "execution_count": null,
      "metadata": {
        "colab": {
          "background_save": true
        },
        "id": "W5oh5OXxDTAT"
      },
      "outputs": [],
      "source": [
        "model.summary()"
      ]
    },
    {
      "cell_type": "markdown",
      "metadata": {
        "id": "gO2Hw6UnDqMK"
      },
      "source": [
        "Woww. Its work, now. But, what does it mean?\n",
        "\n",
        "* **Total params** - Total number of parameters in the model\n",
        "* **Trainable params** - These are the parameters that model can update as it trains.\n",
        "* **Non-traianble params** - These are the parameters that model can not update (this is typical when you bring in already learn parameters from other models during transfer learning)"
      ]
    },
    {
      "cell_type": "code",
      "execution_count": null,
      "metadata": {
        "colab": {
          "background_save": true
        },
        "id": "1FXHOOZeH-_w"
      },
      "outputs": [],
      "source": [
        "# Fit the model with training data\n",
        "model.fit(tf.expand_dims(X_train, axis=-1), y_train, epochs=100, verbose=0) # verbose=0 means that dont show the progress bar as output"
      ]
    },
    {
      "cell_type": "code",
      "execution_count": null,
      "metadata": {
        "colab": {
          "background_save": true
        },
        "id": "rwG_wSE3RWLG"
      },
      "outputs": [],
      "source": [
        "# Get the summary of the model\n",
        "model.summary()"
      ]
    },
    {
      "cell_type": "code",
      "execution_count": null,
      "metadata": {
        "colab": {
          "background_save": true
        },
        "id": "7-CFunf0NGrA"
      },
      "outputs": [],
      "source": [
        "from tensorflow.keras.utils import plot_model\n",
        "\n",
        "plot_model(model=model, show_shapes=True)"
      ]
    },
    {
      "cell_type": "markdown",
      "metadata": {
        "id": "m5tFEImVOhZh"
      },
      "source": [
        "### Visulazing our model's predictions\n",
        "\n",
        "To visualize the predictions, it is good idea to plot them against the truth labels.\n",
        "\n",
        "We generally call this as `y_preds`, `y_test` and `y_true`"
      ]
    },
    {
      "cell_type": "code",
      "execution_count": null,
      "metadata": {
        "colab": {
          "background_save": true
        },
        "id": "6dmUAyDAQ-2B"
      },
      "outputs": [],
      "source": [
        "# Make some predictions\n",
        "y_pred = model.predict(X_test)\n",
        "y_pred"
      ]
    },
    {
      "cell_type": "code",
      "execution_count": null,
      "metadata": {
        "colab": {
          "background_save": true
        },
        "id": "mUaiAu1kSbsF"
      },
      "outputs": [],
      "source": [
        "# Let's create a plotting function\n",
        "def plot_prediction(train_data=X_train, train_labels=y_train, \n",
        "     test_data=X_test, test_labels=y_test, predictions=y_pred):\n",
        "  \n",
        "  '''Ploting train data, test data and compare predictions with actual values'''\n",
        "\n",
        "  # Plot training data in blue\n",
        "  plt.scatter(train_data, train_labels, c='b', label='Training data')\n",
        "  # Plot test data in green\n",
        "  plt.scatter(test_data, test_labels, c='g', label='Test data')\n",
        "  # Plot model in red\n",
        "  plt.scatter(test_data, predictions, c='r', label='Prediction')\n",
        "  # Show legend and plot\n",
        "  plt.legend()\n",
        "  plt.show()"
      ]
    },
    {
      "cell_type": "code",
      "execution_count": null,
      "metadata": {
        "colab": {
          "background_save": true
        },
        "id": "HTyT20V0StaZ"
      },
      "outputs": [],
      "source": [
        "plot_prediction(train_data=X_train,\n",
        "                train_labels=y_train,\n",
        "                test_data=X_test,\n",
        "                test_labels=y_test,\n",
        "                predictions=y_pred)"
      ]
    },
    {
      "cell_type": "markdown",
      "metadata": {
        "id": "plsHq7VJV6FC"
      },
      "source": [
        "### Evaluating our model's predictions with regression evaluation metrics\n",
        "\n",
        "Depending problem you are working on, there will be different evaluation metrics to evaluate your model's performance.\n",
        "\n",
        "There are two main metrics for regression problem:\n",
        "* MAE - mean absolute error, on average, how wrong is each of model's predictions\n",
        "* MSE - mean square error, 'square the average errors'"
      ]
    },
    {
      "cell_type": "code",
      "execution_count": null,
      "metadata": {
        "colab": {
          "background_save": true
        },
        "id": "QwdPED17XEGR"
      },
      "outputs": [],
      "source": [
        "  # Evaluate the model on the test set\n",
        "  model.evaluate(X_test, y_test)"
      ]
    },
    {
      "cell_type": "code",
      "execution_count": null,
      "metadata": {
        "colab": {
          "background_save": true
        },
        "id": "ZSjtT6U1XFi8"
      },
      "outputs": [],
      "source": [
        "# Calculate the mean absolute error\n",
        "mae = tf.keras.losses.mean_absolute_error(y_true=y_test, \n",
        "                                    y_pred=tf.squeeze(y_pred)) # we used tf.squeeze for y_pred becase shape of y_pred is not same with y_test\n",
        "mae"
      ]
    },
    {
      "cell_type": "code",
      "execution_count": null,
      "metadata": {
        "colab": {
          "background_save": true
        },
        "id": "6O7sljtjrKr4"
      },
      "outputs": [],
      "source": [
        "# Calculate the mean square error\n",
        "mse = tf.keras.losses.mean_squared_error(y_true=y_test, \n",
        "                                    y_pred=tf.squeeze(y_pred))\n",
        "mse"
      ]
    },
    {
      "cell_type": "code",
      "execution_count": null,
      "metadata": {
        "colab": {
          "background_save": true
        },
        "id": "CpjbyUaZr-gg"
      },
      "outputs": [],
      "source": [
        "# Make some functions to reuse MAE and MSE\n",
        "def mae(y_true, y_pred):\n",
        "  return tf.keras.losses.mean_absolute_error(y_true, tf.squeeze(y_pred)).numpy()\n",
        "\n",
        "def mse(y_true, y_pred):\n",
        "  return tf.keras.losses.mean_squared_error(y_true, tf.squeeze(y_pred)).numpy()"
      ]
    },
    {
      "cell_type": "code",
      "execution_count": null,
      "metadata": {
        "colab": {
          "background_save": true
        },
        "id": "AFz_O7B0ufog"
      },
      "outputs": [],
      "source": [
        "# MAE and MSE\n",
        "print(f'Mean Absolute Error (MAE): {mae(y_test, y_pred)}')\n",
        "print(f'Mean Square Error (MSE): {mse(y_test, y_pred)}')"
      ]
    },
    {
      "cell_type": "markdown",
      "metadata": {
        "id": "qfI6iHOgumRI"
      },
      "source": [
        "### Running experiments to improve model\n",
        "\n",
        "\n",
        "Build a model -> Fit it -> Evaluate it -> Tweak it -> Fit it -> Evaluate it -> tweak it -> Evaluate it\n",
        "\n",
        "\n",
        "1. Get more data - get more examples for your model to train on.\n",
        "2. Make your model larger (using more complex model) - this might come in the form more layers on more neoron\n",
        "3. Train for longer - give your model more of a chance to find patterns in the data\n",
        "\n",
        "Let's do 3 modelling experiments:\n",
        "\n",
        "1. `model_1` - same as the original model, 1 layer, trained for 100 eepochs\n",
        "2. `model_2` - 2 layers, trained for 100 epochs\n",
        "3. `model_3` - 2 layers, trained for 500 epochs\n",
        "\n",
        "**Build `model_1`**"
      ]
    },
    {
      "cell_type": "code",
      "execution_count": null,
      "metadata": {
        "colab": {
          "background_save": true
        },
        "id": "iZqzUBMeu07Y"
      },
      "outputs": [],
      "source": [
        "# set random seed\n",
        "tf.random.set_seed(42)\n",
        "\n",
        "# 1. Create the model\n",
        "model_1 = tf.keras.Sequential([\n",
        "    tf.keras.layers.Dense(1)\n",
        "])\n",
        "\n",
        "# 2. Compile the model\n",
        "model_1.compile(\n",
        "     loss=tf.keras.losses.mae,\n",
        "     optimizer=tf.keras.optimizers.SGD(),\n",
        "     metrics=['mae']\n",
        ")\n",
        "\n",
        "# 3. Fit the model\n",
        "model_1.fit(tf.expand_dims(X_train, axis=-1), y_train, epochs=100)"
      ]
    },
    {
      "cell_type": "code",
      "execution_count": null,
      "metadata": {
        "colab": {
          "background_save": true
        },
        "id": "S8LEnanay0q_"
      },
      "outputs": [],
      "source": [
        "# Make and plot prediction for model_1\n",
        "y_pred_1 = model_1.predict(X_test)\n",
        "plot_prediction(train_data=X_train,\n",
        "                train_labels=y_train,\n",
        "                test_data=X_test,\n",
        "                test_labels=y_test,\n",
        "                predictions=y_pred_1)"
      ]
    },
    {
      "cell_type": "code",
      "execution_count": null,
      "metadata": {
        "colab": {
          "background_save": true
        },
        "id": "bxez890PzoR4"
      },
      "outputs": [],
      "source": [
        "# Calculate evaluation metrics for model_!\n",
        "print('Mean Absolute Error (MAE):', mae(y_test, y_pred_1))\n",
        "print('Mean Square Error (MSE):', mse(y_test, y_pred_1))"
      ]
    },
    {
      "cell_type": "markdown",
      "metadata": {
        "id": "CuA5n2uh0gXY"
      },
      "source": [
        "**Build `model_2`**\n",
        "\n",
        "* 2 layers, trained for 100 epochs"
      ]
    },
    {
      "cell_type": "code",
      "execution_count": null,
      "metadata": {
        "colab": {
          "background_save": true
        },
        "id": "Q9r6xJ-42Bwf"
      },
      "outputs": [],
      "source": [
        "# Set random seed\n",
        "tf.random.set_seed(42)\n",
        "\n",
        "# 1. Create the model\n",
        "model_2 = tf.keras.Sequential([\n",
        "    tf.keras.layers.Dense(10),\n",
        "    tf.keras.layers.Dense(1)\n",
        "])\n",
        "\n",
        "# 2. Compile the model\n",
        "model_2.compile(\n",
        "     loss=tf.keras.losses.mae,\n",
        "     optimizer=tf.keras.optimizers.SGD(),\n",
        "     metrics=['mae']\n",
        ")\n",
        "\n",
        "# 3. Fit the model\n",
        "model_2.fit(tf.expand_dims(X_train, axis=-1), y_train, epochs=100)"
      ]
    },
    {
      "cell_type": "code",
      "execution_count": null,
      "metadata": {
        "colab": {
          "background_save": true
        },
        "id": "xQaEsmok2aqf"
      },
      "outputs": [],
      "source": [
        "# Make and plot predictions\n",
        "y_pred_2 = model_2.predict(X_test)\n",
        "plot_prediction(predictions=y_pred_2)"
      ]
    },
    {
      "cell_type": "code",
      "execution_count": null,
      "metadata": {
        "colab": {
          "background_save": true
        },
        "id": "MVnY6_3J2lQw"
      },
      "outputs": [],
      "source": [
        "# Calculate evaluation metrics for model_2\n",
        "print('Mean Absolute Error (MAE):', mae(y_test, y_pred_2))\n",
        "print('Mean Square Error (MSE):', mse(y_test, y_pred_2))"
      ]
    },
    {
      "cell_type": "markdown",
      "metadata": {
        "id": "TS9rpAT623hP"
      },
      "source": [
        "**Build `model_3`**\n",
        "\n",
        "* 2 layers, trained for 500 epochs"
      ]
    },
    {
      "cell_type": "code",
      "execution_count": null,
      "metadata": {
        "colab": {
          "background_save": true
        },
        "id": "DxX_zGoO4OOg"
      },
      "outputs": [],
      "source": [
        "# Set random seed\n",
        "tf.random.set_seed(42)\n",
        "\n",
        "# 1. Create the model\n",
        "model_3 = tf.keras.Sequential([\n",
        "    tf.keras.layers.Dense(10),\n",
        "    tf.keras.layers.Dense(1)\n",
        "])\n",
        "\n",
        "# 2. Compile the model\n",
        "model_3.compile(\n",
        "     loss=tf.keras.losses.mae,\n",
        "     optimizer=tf.keras.optimizers.SGD(),\n",
        "     metrics=['mae']\n",
        ")\n",
        "\n",
        "# 3. Fit the model\n",
        "model_3.fit(tf.expand_dims(X_train, axis=-1), y_train, epochs=500, verbose=0)"
      ]
    },
    {
      "cell_type": "code",
      "execution_count": null,
      "metadata": {
        "colab": {
          "background_save": true
        },
        "id": "g_uKIl7G4UsH"
      },
      "outputs": [],
      "source": [
        "# Make and plot predictions\n",
        "y_pred_3 = model_3.predict(X_test)\n",
        "plot_prediction(predictions=y_pred_3)"
      ]
    },
    {
      "cell_type": "code",
      "execution_count": null,
      "metadata": {
        "colab": {
          "background_save": true
        },
        "id": "elemI1h-5knv"
      },
      "outputs": [],
      "source": [
        "# Calculate evaluation metrics for model_3\n",
        "print('Mean Absolute Error (MAE):', mae(y_test, y_pred_3))\n",
        "print('Mean Square Error (MSE):', mse(y_test, y_pred_3))"
      ]
    },
    {
      "cell_type": "markdown",
      "metadata": {
        "id": "sgFljk1Y4jMP"
      },
      "source": [
        "We get very poor predictions for model_3 because we trained to much our model and model overfit."
      ]
    },
    {
      "cell_type": "markdown",
      "metadata": {
        "id": "ceQnWiVv50HP"
      },
      "source": [
        "## Comparing the results of our experiments\n",
        "\n",
        "We've run a few experiments, let's compare the results."
      ]
    },
    {
      "cell_type": "code",
      "execution_count": null,
      "metadata": {
        "colab": {
          "background_save": true
        },
        "id": "KvcYWtUI6TJY"
      },
      "outputs": [],
      "source": [
        "# Let's compare our model's results using pandas DataFrame\n",
        "import pandas as pd\n",
        "\n",
        "# model results\n",
        "model_results = [['model_1', mae(y_test, y_pred_1), mse(y_test, y_pred_1)], \n",
        "                 ['model_2', mae(y_test, y_pred_2), mse(y_test, y_pred_2)], \n",
        "                 ['model_3', mae(y_test, y_pred_3), mse(y_test, y_pred_3)]]\n",
        "\n",
        "# Create a dataframe and add results in it\n",
        "results_df = pd.DataFrame(model_results, columns=['models', 'MAE', 'MSE'])\n",
        "results_df.head()"
      ]
    },
    {
      "cell_type": "markdown",
      "metadata": {
        "id": "Mu4hGuB19O0k"
      },
      "source": [
        "Looks like model_2 performed the best."
      ]
    },
    {
      "cell_type": "code",
      "execution_count": null,
      "metadata": {
        "colab": {
          "background_save": true
        },
        "id": "LOiLcidk7t9Y"
      },
      "outputs": [],
      "source": [
        " # model summaray\n",
        " model_2.summary()"
      ]
    },
    {
      "cell_type": "markdown",
      "metadata": {
        "id": "Aohxegp78-1H"
      },
      "source": [
        "Note: One of our main goals should be to minimize the time between our experiments. The more experiments we do, the more things we will figure out which doenst work and in turni get closer to figureing out what does work. "
      ]
    },
    {
      "cell_type": "markdown",
      "metadata": {
        "id": "etXclvyp-QTp"
      },
      "source": [
        "## Tracking your experiments\n",
        "\n",
        "One really good habit in machine learning modelling is to track the results of your experiments.\n",
        "\n",
        "And when doing so, it can be tedious if you are running lots of experiments. \n",
        "\n",
        "Luckly, there are tools to help us.\n",
        "\n",
        "* TensorBoard - a component of the tensorflow library to help track modelling experiments.\n",
        "* Wights & Biases - a tool for tracking all of kinds of machine learning experiments\n"
      ]
    },
    {
      "cell_type": "markdown",
      "metadata": {
        "id": "d-M-sY_i-cAn"
      },
      "source": [
        "## Saving our models\n",
        "\n",
        "Saving model allows us to use models out of Colab such as web application or mobile app etc.\n",
        "\n",
        "There are two main formats we can save our model's:\n",
        "1. The SavedModel format\n",
        "2. The HDF5 format"
      ]
    },
    {
      "cell_type": "code",
      "execution_count": null,
      "metadata": {
        "colab": {
          "background_save": true
        },
        "id": "XczmN8H1_uua"
      },
      "outputs": [],
      "source": [
        "# Save model using the SavedModel format\n",
        "model_2.save('SavedModel_format') "
      ]
    },
    {
      "cell_type": "code",
      "execution_count": null,
      "metadata": {
        "colab": {
          "background_save": true
        },
        "id": "3Rh69i0jESW7"
      },
      "outputs": [],
      "source": [
        "# Save model using the HDF5 format\n",
        "model_2.save('HDF5_format.h5')"
      ]
    },
    {
      "cell_type": "markdown",
      "metadata": {
        "id": "P_eYiwYeFheV"
      },
      "source": [
        "## Loading in saved model"
      ]
    },
    {
      "cell_type": "code",
      "execution_count": null,
      "metadata": {
        "colab": {
          "background_save": true
        },
        "id": "AuT8e6teFxJv"
      },
      "outputs": [],
      "source": [
        "# Load in the SavedModel format model\n",
        "loaded_SavedModel_format = tf.keras.models.load_model('/content/SavedModel_format')\n",
        "loaded_SavedModel_format.summary()"
      ]
    },
    {
      "cell_type": "code",
      "execution_count": null,
      "metadata": {
        "colab": {
          "background_save": true
        },
        "id": "QUOiuZqNGhL3"
      },
      "outputs": [],
      "source": [
        "# Compare model_2 predictions with SavedModel predictions\n",
        "print('Model_2 predictions:', model_2.predict(X_test), '\\n')\n",
        "print('SavedModel predictions:', loaded_SavedModel_format.predict(X_test))"
      ]
    },
    {
      "cell_type": "code",
      "execution_count": null,
      "metadata": {
        "colab": {
          "background_save": true
        },
        "id": "q7-gkCyfG_pu"
      },
      "outputs": [],
      "source": [
        "# Load in the .h5 format model\n",
        "loaded_h5_model = tf.keras.models.load_model('/content/HDF5_format.h5')"
      ]
    },
    {
      "cell_type": "code",
      "execution_count": null,
      "metadata": {
        "colab": {
          "background_save": true
        },
        "id": "6wvIF1YYIxTB"
      },
      "outputs": [],
      "source": [
        "# Compare model_2 predictions with loaded_h5_model predictions\n",
        "print('Model_2 predictions:', model_2.predict(X_test), '\\n')\n",
        "print('HDF5 predictions:', loaded_h5_model.predict(X_test))"
      ]
    },
    {
      "cell_type": "markdown",
      "metadata": {
        "id": "Nu2_mOwmNrCu"
      },
      "source": [
        "## A Larger Example - Medical Cost Personal Datasets\n",
        "\n",
        "* Resource: https://www.kaggle.com/datasets/mirichoi0218/insurance\n",
        "* Raw csv file: https://raw.githubusercontent.com/stedy/Machine-Learning-with-R-datasets/master/insurance.csv"
      ]
    },
    {
      "cell_type": "code",
      "execution_count": null,
      "metadata": {
        "colab": {
          "background_save": true
        },
        "id": "CCVyelNLOhLf"
      },
      "outputs": [],
      "source": [
        "# Import required libraries\n",
        "import tensorflow as tf\n",
        "import pandas as pd\n",
        "import matplotlib.pyplot as plt\n",
        "from sklearn.model_selection import train_test_split\n",
        "\n",
        "# Read insurance dataset\n",
        "df = pd.read_csv('https://raw.githubusercontent.com/stedy/Machine-Learning-with-R-datasets/master/insurance.csv')\n",
        "\n",
        "# Let's look first five rows\n",
        "df.head()"
      ]
    },
    {
      "cell_type": "code",
      "execution_count": null,
      "metadata": {
        "colab": {
          "background_save": true
        },
        "id": "1CVeCN8hQV3t"
      },
      "outputs": [],
      "source": [
        "# Dataframe info \n",
        "df.info()"
      ]
    },
    {
      "cell_type": "code",
      "execution_count": null,
      "metadata": {
        "colab": {
          "background_save": true
        },
        "id": "0rSW1NCsSAFO"
      },
      "outputs": [],
      "source": [
        "# Let's try one-hot encode our data\n",
        "df_one_hot = pd.get_dummies(df, prefix=['sex', 'smoker', 'region'], drop_first=True)\n",
        "df_one_hot.head()"
      ]
    },
    {
      "cell_type": "code",
      "execution_count": null,
      "metadata": {
        "colab": {
          "background_save": true
        },
        "id": "2dE_9RB0Ssct"
      },
      "outputs": [],
      "source": [
        " # Create X & y values (features and labels)\n",
        " X = df_one_hot.drop('charges', axis=1)\n",
        " y = df_one_hot['charges']"
      ]
    },
    {
      "cell_type": "code",
      "execution_count": null,
      "metadata": {
        "colab": {
          "background_save": true
        },
        "id": "niXBL2hxVlhO"
      },
      "outputs": [],
      "source": [
        "# View X\n",
        "X.head()"
      ]
    },
    {
      "cell_type": "code",
      "execution_count": null,
      "metadata": {
        "colab": {
          "background_save": true
        },
        "id": "2NxrExUhVlem"
      },
      "outputs": [],
      "source": [
        "# View y\n",
        "y.head()"
      ]
    },
    {
      "cell_type": "code",
      "execution_count": null,
      "metadata": {
        "colab": {
          "background_save": true
        },
        "id": "5ovO_xNZU0FO"
      },
      "outputs": [],
      "source": [
        " # Create training and test sets\n",
        " X_train, X_test, y_train, y_test = train_test_split(X, y, test_size=0.2, random_state=42)\n",
        "\n",
        " print('Total data size:', len(X))\n",
        " print('Train data size:', len(X_train))\n",
        " print('Test data size:', len(X_test))"
      ]
    },
    {
      "cell_type": "code",
      "execution_count": null,
      "metadata": {
        "colab": {
          "background_save": true
        },
        "id": "f-lCOykBUxIF"
      },
      "outputs": [],
      "source": [
        " # Build a neural network\n",
        "\n",
        " # Set random seed\n",
        " tf.random.set_seed(42)\n",
        "\n",
        " # 1. Create a model\n",
        " model = tf.keras.Sequential([\n",
        "     tf.keras.layers.Dense(1),\n",
        "     tf.keras.layers.Dense(1)\n",
        " ])\n",
        "\n",
        " # 2. Model compiling\n",
        " model.compile(\n",
        "     loss=tf.keras.losses.mae,\n",
        "     optimizer=tf.keras.optimizers.SGD(),\n",
        "     metrics = ['mae']\n",
        " )\n",
        "\n",
        " # 3. Fit the model\n",
        " model.fit(X_train, y_train, epochs=100, verbose=0)"
      ]
    },
    {
      "cell_type": "code",
      "execution_count": null,
      "metadata": {
        "colab": {
          "background_save": true
        },
        "id": "XbJxU0y0Y_hV"
      },
      "outputs": [],
      "source": [
        "# Check the results of the model on the test data\n",
        "model.evaluate(X_test, y_test)"
      ]
    },
    {
      "cell_type": "code",
      "execution_count": null,
      "metadata": {
        "colab": {
          "background_save": true
        },
        "id": "sZRDpKdMbkWW"
      },
      "outputs": [],
      "source": [
        "# Let's check the mean and median of test data\n",
        "y_test.median(), y_test.mean()"
      ]
    },
    {
      "cell_type": "markdown",
      "metadata": {
        "id": "WU92nROZbawy"
      },
      "source": [
        "If we check the mean and median of the y value we can see that our predictions are so poor. Let's try to improve our model.\n",
        "\n",
        "To try improve our model, we'll run 2 experiments:\n",
        "1. Add an extra layer with mode hidden units\n",
        "2. Train for longer"
      ]
    },
    {
      "cell_type": "code",
      "execution_count": null,
      "metadata": {
        "colab": {
          "background_save": true
        },
        "id": "FWkJLJnBcCHZ"
      },
      "outputs": [],
      "source": [
        "# Set random seed\n",
        "tf.random.set_seed(42)\n",
        "\n",
        "# 1. Create the model\n",
        "insurance_model_1 =  tf.keras.Sequential([\n",
        "    tf.keras.layers.Dense(100),\n",
        "    tf.keras.layers.Dense(10),\n",
        "    tf.keras.layers.Dense(1)\n",
        "])\n",
        "\n",
        "# 2. Compile the model\n",
        "insurance_model_1.compile(\n",
        "    loss=tf.keras.losses.mae,\n",
        "    optimizer=tf.keras.optimizers.Adam(),\n",
        "    metrics=['mae']\n",
        ")\n",
        "\n",
        "# 3. Fit the model\n",
        "history_1 = insurance_model_1.fit(X_train, y_train, epochs=100, verbose=0)"
      ]
    },
    {
      "cell_type": "code",
      "execution_count": null,
      "metadata": {
        "colab": {
          "background_save": true
        },
        "id": "-RnI2HdiOnly"
      },
      "outputs": [],
      "source": [
        "# plot the training loss and validation loss\n",
        "plt.plot(history_1.history['loss'])\n",
        "plt.title('Model Loss')\n",
        "plt.ylabel('Loss')\n",
        "plt.xlabel('Epoch')\n",
        "plt.show()"
      ]
    },
    {
      "cell_type": "code",
      "execution_count": null,
      "metadata": {
        "colab": {
          "background_save": true
        },
        "id": "A4lkwNUSJm2B"
      },
      "outputs": [],
      "source": [
        "# Evaluate insurance_model_1\n",
        "insurance_model_1.evaluate(X_test, y_test)"
      ]
    },
    {
      "cell_type": "code",
      "execution_count": null,
      "metadata": {
        "colab": {
          "background_save": true
        },
        "id": "Qu41dmm5KQbw"
      },
      "outputs": [],
      "source": [
        "# Same as above only we decrease the epochs\n",
        "\n",
        "# Set random seed\n",
        "tf.random.set_seed(42)\n",
        "\n",
        "# 1. Create the model\n",
        "insurance_model_2 =  tf.keras.Sequential([\n",
        "    tf.keras.layers.Dense(100),\n",
        "    tf.keras.layers.Dense(10),\n",
        "    tf.keras.layers.Dense(1)\n",
        "])\n",
        "\n",
        "# 2. Compile the model\n",
        "insurance_model_2.compile(\n",
        "    loss=tf.keras.losses.mae,\n",
        "    optimizer=tf.keras.optimizers.Adam(),\n",
        "    metrics=['mae']\n",
        ")\n",
        "\n",
        "# 3. Fit the model\n",
        "history_2 = insurance_model_2.fit(X_train, y_train, epochs=200, verbose=0)"
      ]
    },
    {
      "cell_type": "code",
      "execution_count": null,
      "metadata": {
        "colab": {
          "background_save": true
        },
        "id": "INjVQK5RQwYY"
      },
      "outputs": [],
      "source": [
        "# plot the training loss and validation loss\n",
        "plt.plot(history_2.history['loss'])\n",
        "plt.title('Model Loss')\n",
        "plt.ylabel('Loss')\n",
        "plt.xlabel('Epoch')\n",
        "plt.show()"
      ]
    },
    {
      "cell_type": "code",
      "execution_count": null,
      "metadata": {
        "colab": {
          "background_save": true
        },
        "id": "QXnBMKynMkx5"
      },
      "outputs": [],
      "source": [
        "# Evaluate insurance_model_2\n",
        "insurance_model_2.evaluate(X_test, y_test)"
      ]
    },
    {
      "cell_type": "markdown",
      "metadata": {
        "id": "sPHlNtFsOIwI"
      },
      "source": [
        "As you see above, we improved our model but now, we should think that how long we train our model. It depends on the problem we are working on. There in no exact solution. But TensorFlow has a solution and it is called the [EarlyStopping Callback](https://www.tensorflow.org/api_docs/python/tf/keras/callbacks/EarlyStopping)"
      ]
    },
    {
      "cell_type": "markdown",
      "metadata": {
        "id": "HkM_nT6FUMt2"
      },
      "source": [
        "## Preprocessing data (normalization and standardization)\n",
        "\n",
        "What is normalization? \n",
        "\n",
        "The answer: [Normalization and Standardization](https://scikit-learn.org/stable/modules/preprocessing.html)\n",
        "\n",
        "In terms of scaling values, neural networks tend to prefer normalization. If you are not sure on which one use, try both and see which performs better."
      ]
    },
    {
      "cell_type": "markdown",
      "metadata": {
        "id": "EIFf40wXj04A"
      },
      "source": [
        "Let's reimport our data and make preprocessing"
      ]
    },
    {
      "cell_type": "code",
      "execution_count": null,
      "metadata": {
        "colab": {
          "background_save": true
        },
        "id": "bBvZ-X5Pjms5"
      },
      "outputs": [],
      "source": [
        "# Read insurance dataset\n",
        "df = pd.read_csv('https://raw.githubusercontent.com/stedy/Machine-Learning-with-R-datasets/master/insurance.csv')\n",
        "\n",
        "# firs five row\n",
        "df.head()"
      ]
    },
    {
      "cell_type": "code",
      "execution_count": null,
      "metadata": {
        "colab": {
          "background_save": true
        },
        "id": "PQv9iZfMhRwr"
      },
      "outputs": [],
      "source": [
        "# import neccessary classes from sklearn\n",
        "from sklearn.compose import make_column_transformer\n",
        "from sklearn.preprocessing import MinMaxScaler"
      ]
    },
    {
      "cell_type": "code",
      "execution_count": null,
      "metadata": {
        "colab": {
          "background_save": true
        },
        "id": "dh1MBBETV_6l"
      },
      "outputs": [],
      "source": [
        "# Create a column transformer\n",
        "ct = make_column_transformer(\n",
        "    (MinMaxScaler(), ['age', 'bmi', 'children']), # turn all values in between 0 and 1 \n",
        "    (OneHotEncoder(handle_unknown='ignore', drop='first'), ['sex', 'smoker', 'region'])\n",
        ")"
      ]
    },
    {
      "cell_type": "code",
      "execution_count": null,
      "metadata": {
        "colab": {
          "background_save": true
        },
        "id": "sEo-2P8FhPaf"
      },
      "outputs": [],
      "source": [
        "# Create X and y (features and labes)\n",
        "X = df.drop('charges', axis=1)\n",
        "y = df['charges']"
      ]
    },
    {
      "cell_type": "code",
      "execution_count": null,
      "metadata": {
        "colab": {
          "background_save": true
        },
        "id": "2lRobiDpkki_"
      },
      "outputs": [],
      "source": [
        "# Split data to train and test\n",
        "X_train, X_test, y_train, y_test = train_test_split(X, y, test_size=0.2, random_state=42)"
      ]
    },
    {
      "cell_type": "code",
      "execution_count": null,
      "metadata": {
        "colab": {
          "background_save": true
        },
        "id": "agO5f6C4pyic"
      },
      "outputs": [],
      "source": [
        "# Fit the column transform to our training data\n",
        "ct.fit(X_train)\n",
        "\n",
        "# Transform training and test data with normalization (MinMaxScaler) and OneHotEncoder\n",
        "X_train_normal = ct.transform(X_train)\n",
        "X_test_normal = ct.transform(X_test)"
      ]
    },
    {
      "cell_type": "code",
      "execution_count": null,
      "metadata": {
        "colab": {
          "background_save": true
        },
        "id": "hEiZ89CWsIw6"
      },
      "outputs": [],
      "source": [
        "# Check the data what look like\n",
        "X_train_normal[0]"
      ]
    },
    {
      "cell_type": "markdown",
      "metadata": {
        "id": "GUyL6mFAsqGh"
      },
      "source": [
        "Now, our data has been normalized and one hot encoded. Let's build a neural network model with our nomalized data."
      ]
    },
    {
      "cell_type": "code",
      "execution_count": null,
      "metadata": {
        "colab": {
          "background_save": true
        },
        "id": "-abW2JFXtTBP"
      },
      "outputs": [],
      "source": [
        "# Set random seed\n",
        "tf.random.set_seed(42)\n",
        "\n",
        "# 1. Create the model\n",
        "insurance_model_3 =  tf.keras.Sequential([\n",
        "    tf.keras.layers.Dense(100),\n",
        "    tf.keras.layers.Dense(10),\n",
        "    tf.keras.layers.Dense(1)\n",
        "])\n",
        "\n",
        "# 2. Compile the model\n",
        "insurance_model_3.compile(\n",
        "    loss=tf.keras.losses.mae,\n",
        "    optimizer=tf.keras.optimizers.Adam(),\n",
        "    metrics=['mae']\n",
        ")\n",
        "\n",
        "# 3. Fit the model\n",
        "history_3 = insurance_model_3.fit(X_train_normal, y_train, epochs=200, verbose=0)"
      ]
    },
    {
      "cell_type": "code",
      "execution_count": null,
      "metadata": {
        "colab": {
          "background_save": true
        },
        "id": "A3nz1lusuc3Z"
      },
      "outputs": [],
      "source": [
        "# plot the training loss and validation loss\n",
        "plt.plot(history_3.history['loss'])\n",
        "plt.title('Model Loss')\n",
        "plt.ylabel('Loss')\n",
        "plt.xlabel('Epoch')\n",
        "plt.show()"
      ]
    },
    {
      "cell_type": "code",
      "execution_count": null,
      "metadata": {
        "colab": {
          "background_save": true
        },
        "id": "RZHoo00Augop"
      },
      "outputs": [],
      "source": [
        "# Model evaluation\n",
        "insurance_model_3.evaluate(X_test_normal, y_test)"
      ]
    },
    {
      "cell_type": "markdown",
      "metadata": {
        "id": "n1asHwEtvH3Y"
      },
      "source": [
        "Insurance model 2 resulst:\n",
        "* 9/9 [==============================] - 0s 2ms/step - loss: 3440.0859 - mae: 3440.0859\n",
        "\n",
        "Result after normalization:\n",
        "* 9/9 [==============================] - 0s 2ms/step - loss: 3244.9829 - mae: 3244.9829"
      ]
    }
  ],
  "metadata": {
    "accelerator": "GPU",
    "colab": {
      "toc_visible": true,
      "provenance": [],
      "authorship_tag": "ABX9TyNrDoCHQCKTgYWBL9HxJuIH"
    },
    "gpuClass": "standard",
    "kernelspec": {
      "display_name": "Python 3",
      "name": "python3"
    },
    "language_info": {
      "name": "python"
    }
  },
  "nbformat": 4,
  "nbformat_minor": 0
}