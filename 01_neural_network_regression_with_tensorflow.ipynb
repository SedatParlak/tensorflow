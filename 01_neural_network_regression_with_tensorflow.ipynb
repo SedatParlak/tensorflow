{
  "nbformat": 4,
  "nbformat_minor": 0,
  "metadata": {
    "colab": {
      "provenance": [],
      "authorship_tag": "ABX9TyN0cxzJXt45Hgd49AiVVLs6",
      "include_colab_link": true
    },
    "kernelspec": {
      "name": "python3",
      "display_name": "Python 3"
    },
    "language_info": {
      "name": "python"
    },
    "accelerator": "GPU",
    "gpuClass": "standard"
  },
  "cells": [
    {
      "cell_type": "markdown",
      "metadata": {
        "id": "view-in-github",
        "colab_type": "text"
      },
      "source": [
        "<a href=\"https://colab.research.google.com/github/SedatParlak/tensorflow/blob/main/01_neural_network_regression_with_tensorflow.ipynb\" target=\"_parent\"><img src=\"https://colab.research.google.com/assets/colab-badge.svg\" alt=\"Open In Colab\"/></a>"
      ]
    },
    {
      "cell_type": "markdown",
      "source": [
        "# Introduction to Regression with Neural Network in TensorFlow"
      ],
      "metadata": {
        "id": "LcyshQVV0tsD"
      }
    },
    {
      "cell_type": "markdown",
      "source": [
        "There are many definition for a regression problem but in our case, we're going to simplfy it: prediction a numerical variable based on combination of other variables. Even shorter, predicting a number..."
      ],
      "metadata": {
        "id": "tfmMQ1w72x3J"
      }
    },
    {
      "cell_type": "code",
      "source": [
        "# import tensorflow\n",
        "import tensorflow as tf\n",
        "print(tf.__version__)\n",
        "\n",
        "# import numpy and matplotlib\n",
        "import numpy as np\n",
        "import matplotlib.pyplot as plt"
      ],
      "metadata": {
        "id": "8v1QKjt_3xBB",
        "colab": {
          "base_uri": "https://localhost:8080/"
        },
        "outputId": "ae8cf306-91d4-4747-90be-7b60263821cd"
      },
      "execution_count": null,
      "outputs": [
        {
          "output_type": "stream",
          "name": "stdout",
          "text": [
            "2.12.0\n"
          ]
        }
      ]
    },
    {
      "cell_type": "markdown",
      "source": [
        "## Creating data to view and fit"
      ],
      "metadata": {
        "id": "UDLnkL8p4UQ_"
      }
    },
    {
      "cell_type": "code",
      "source": [
        "# Create features\n",
        "X = np.array([-7.0, -4.0, -1.0, 2.0, 5.0, 8.0, 11.0, 14.0])\n",
        "\n",
        "# Create labels\n",
        "y = np.array([3.0, 6.0, 9.0, 12.0, 15.0, 18.0, 21.0, 24.0])\n",
        "\n",
        "# Visualize features and labels\n",
        "plt.scatter(X, y)\n",
        "plt.xlabel('X')\n",
        "plt.ylabel('y')\n",
        "plt.show()"
      ],
      "metadata": {
        "id": "RuQAeUbN4tYO",
        "colab": {
          "base_uri": "https://localhost:8080/",
          "height": 454
        },
        "outputId": "82f3ef20-0b4d-44de-a343-a2fb03e6c029"
      },
      "execution_count": null,
      "outputs": [
        {
          "output_type": "display_data",
          "data": {
            "text/plain": [
              "<Figure size 640x480 with 1 Axes>"
            ],
            "image/png": "[encoded data removed]"
          },
          "metadata": {}
        }
      ]
    },
    {
      "cell_type": "code",
      "source": [
        "y == X + 10"
      ],
      "metadata": {
        "id": "Jn3mgVDT5RgW",
        "colab": {
          "base_uri": "https://localhost:8080/"
        },
        "outputId": "5bbf96ca-edf8-4790-ed34-9a38dc0fcadd"
      },
      "execution_count": null,
      "outputs": [
        {
          "output_type": "execute_result",
          "data": {
            "text/plain": [
              "array([ True,  True,  True,  True,  True,  True,  True,  True])"
            ]
          },
          "metadata": {},
          "execution_count": 262
        }
      ]
    },
    {
      "cell_type": "markdown",
      "source": [
        "## Input and output shapes"
      ],
      "metadata": {
        "id": "J-xaVhtv60EW"
      }
    },
    {
      "cell_type": "code",
      "source": [
        "# Let's check the input and output shape (Note that these shapes are not correct one)\n",
        "input_shape = X.shape\n",
        "output_shape = y.shape\n",
        "\n",
        "input_shape, output_shape"
      ],
      "metadata": {
        "id": "6-3TQvFy7-fn",
        "colab": {
          "base_uri": "https://localhost:8080/"
        },
        "outputId": "0d803c60-c1ee-430f-d186-c5b8d2a241ad"
      },
      "execution_count": null,
      "outputs": [
        {
          "output_type": "execute_result",
          "data": {
            "text/plain": [
              "((8,), (8,))"
            ]
          },
          "metadata": {},
          "execution_count": 263
        }
      ]
    },
    {
      "cell_type": "code",
      "source": [
        "# Let's check another input and output shape (Note that these shapes are not correct one)\n",
        "input_shape = X[0].shape\n",
        "output_shape = y[0].shape\n",
        "\n",
        "input_shape, output_shape"
      ],
      "metadata": {
        "colab": {
          "base_uri": "https://localhost:8080/"
        },
        "id": "6b666i2M-IKA",
        "outputId": "77bd9d70-5464-41bf-ad7b-e9ff53ab8559"
      },
      "execution_count": null,
      "outputs": [
        {
          "output_type": "execute_result",
          "data": {
            "text/plain": [
              "((), ())"
            ]
          },
          "metadata": {},
          "execution_count": 264
        }
      ]
    },
    {
      "cell_type": "markdown",
      "source": [
        "As you see above, it seems our inputs and outputs have no shape. Let's turn numpy arrays to tensors for finding correct shape."
      ],
      "metadata": {
        "id": "utrAueJD-gku"
      }
    },
    {
      "cell_type": "code",
      "source": [
        "# Turn numpy array to tensors\n",
        "X = tf.constant(X)\n",
        "y = tf.constant(y)\n",
        "\n",
        "X, y"
      ],
      "metadata": {
        "colab": {
          "base_uri": "https://localhost:8080/"
        },
        "id": "U_UJVgHt-gLA",
        "outputId": "c66b3d92-4911-4ee8-a30b-dd8fd7cb947d"
      },
      "execution_count": null,
      "outputs": [
        {
          "output_type": "execute_result",
          "data": {
            "text/plain": [
              "(<tf.Tensor: shape=(8,), dtype=float64, numpy=array([-7., -4., -1.,  2.,  5.,  8., 11., 14.])>,\n",
              " <tf.Tensor: shape=(8,), dtype=float64, numpy=array([ 3.,  6.,  9., 12., 15., 18., 21., 24.])>)"
            ]
          },
          "metadata": {},
          "execution_count": 265
        }
      ]
    },
    {
      "cell_type": "code",
      "source": [
        "# Check tensor shapes\n",
        "input_shape = X[0].shape\n",
        "output_shape = y[0].shape\n",
        "\n",
        "input_shape, output_shape"
      ],
      "metadata": {
        "colab": {
          "base_uri": "https://localhost:8080/"
        },
        "id": "vFqJ795t-ew7",
        "outputId": "8f297e19-04f5-4214-c068-cb202084201b"
      },
      "execution_count": null,
      "outputs": [
        {
          "output_type": "execute_result",
          "data": {
            "text/plain": [
              "(TensorShape([]), TensorShape([]))"
            ]
          },
          "metadata": {},
          "execution_count": 266
        }
      ]
    },
    {
      "cell_type": "markdown",
      "source": [
        "## Steps in modelling with Tensorflow\n",
        "\n",
        "1. **Creating a model** - define input and output layer, as well as the hidden layers of deep learning model.\n",
        "2. **Compiling  a model** - define the loss function (in other words, the function which tells our model how wrong it is) and optimizer (tells our model how to improve the patterns its learning) and evaluation metrics (what we can use to interpret the performanse of our model)\n",
        "3. **Fitting a model** - letting the model try to find patterns features and labels"
      ],
      "metadata": {
        "id": "2u-0fs24pmpF"
      }
    },
    {
      "cell_type": "code",
      "source": [
        "# set random seed\n",
        "tf.random.set_seed(42)\n",
        "\n",
        "# 1. Create a model using Sequential API\n",
        "model = tf.keras.Sequential([\n",
        "    tf.keras.layers.Dense(1)\n",
        "])\n",
        "\n",
        "# 2. Compiling a model\n",
        "model.compile(\n",
        "    loss=tf.keras.losses.mae, # mae short for mean absolute error\n",
        "    optimizer=tf.keras.optimizers.SGD(), # SGD short for stochastic gradient descent\n",
        "    metrics=['mae']\n",
        ")\n",
        "\n",
        "# 3. Fit the model\n",
        "model.fit(tf.expand_dims(X, axis=-1), y, epochs=5)"
      ],
      "metadata": {
        "id": "aVaI2_oeDYyn",
        "colab": {
          "base_uri": "https://localhost:8080/"
        },
        "outputId": "b3fe69ae-c5ca-457f-d4f5-1a4cf7387ba5"
      },
      "execution_count": null,
      "outputs": [
        {
          "output_type": "stream",
          "name": "stdout",
          "text": [
            "Epoch 1/5\n",
            "1/1 [==============================] - 0s 340ms/step - loss: 9.8632 - mae: 9.8632\n",
            "Epoch 2/5\n",
            "1/1 [==============================] - 0s 12ms/step - loss: 9.7307 - mae: 9.7307\n",
            "Epoch 3/5\n",
            "1/1 [==============================] - 0s 11ms/step - loss: 9.5982 - mae: 9.5982\n",
            "Epoch 4/5\n",
            "1/1 [==============================] - 0s 14ms/step - loss: 9.4657 - mae: 9.4657\n",
            "Epoch 5/5\n",
            "1/1 [==============================] - 0s 11ms/step - loss: 9.3332 - mae: 9.3332\n"
          ]
        },
        {
          "output_type": "execute_result",
          "data": {
            "text/plain": [
              "<keras.callbacks.History at 0x7f8c30ed7df0>"
            ]
          },
          "metadata": {},
          "execution_count": 267
        }
      ]
    },
    {
      "cell_type": "code",
      "source": [
        "# Check X and y\n",
        "X, y"
      ],
      "metadata": {
        "colab": {
          "base_uri": "https://localhost:8080/"
        },
        "id": "eoQxKdpKhTgO",
        "outputId": "d46e2fec-8ae9-4268-aa35-2b457830ca03"
      },
      "execution_count": null,
      "outputs": [
        {
          "output_type": "execute_result",
          "data": {
            "text/plain": [
              "(<tf.Tensor: shape=(8,), dtype=float64, numpy=array([-7., -4., -1.,  2.,  5.,  8., 11., 14.])>,\n",
              " <tf.Tensor: shape=(8,), dtype=float64, numpy=array([ 3.,  6.,  9., 12., 15., 18., 21., 24.])>)"
            ]
          },
          "metadata": {},
          "execution_count": 268
        }
      ]
    },
    {
      "cell_type": "code",
      "source": [
        "# Try to make a prediction using our model\n",
        "model.predict([17.0])"
      ],
      "metadata": {
        "colab": {
          "base_uri": "https://localhost:8080/"
        },
        "id": "AKi0_0R8ncy0",
        "outputId": "2bd0038e-ab30-4fc1-da51-21df6c8fb49b"
      },
      "execution_count": null,
      "outputs": [
        {
          "output_type": "stream",
          "name": "stdout",
          "text": [
            "1/1 [==============================] - 0s 66ms/step\n"
          ]
        },
        {
          "output_type": "execute_result",
          "data": {
            "text/plain": [
              "array([[20.689644]], dtype=float32)"
            ]
          },
          "metadata": {},
          "execution_count": 269
        }
      ]
    },
    {
      "cell_type": "markdown",
      "source": [
        "Our expection for 17.0 is 20.68 but model prediction is -23.68. This is so bad prediction."
      ],
      "metadata": {
        "id": "1zZP0IgNoJxW"
      }
    },
    {
      "cell_type": "markdown",
      "source": [
        "## Improving Model\n",
        "\n",
        "We can improve our model, by altering the steps we took to create a model.\n",
        "\n",
        "1. **Creating a model** - Here we might add more layers, increase the number of hidden units (called neuron) within each of the hidden layers, change the activation function of each layer\n",
        "2. **Compiling a model** - Here we might change the optimization function or perhaps the learning rate of the optimization function\n",
        "3. **Fitting a model** - Here we might change the number of epoch (leave it training for longer) or more data (give the model more example to learn from)"
      ],
      "metadata": {
        "id": "kTyxRAcVniMV"
      }
    },
    {
      "cell_type": "markdown",
      "source": [
        "### Increasing number of epoch"
      ],
      "metadata": {
        "id": "k4u4Bo4WxJj3"
      }
    },
    {
      "cell_type": "code",
      "source": [
        "# Let's rebuild model (increasing number of epoch)\n",
        "\n",
        "# 1. Create a model using Sequential API\n",
        "model = tf.keras.Sequential([\n",
        "    tf.keras.layers.Dense(1)\n",
        "])\n",
        "\n",
        "# 2. Compiling a model\n",
        "model.compile(\n",
        "    loss=tf.keras.losses.mae, # mae short for mean absolute error\n",
        "    optimizer=tf.keras.optimizers.SGD(), # SGD short for stochastic gradient descent\n",
        "    metrics=['mae']\n",
        ")\n",
        "\n",
        "# 3. Fit the model\n",
        "model.fit(tf.expand_dims(X, axis=-1), y, epochs=100)"
      ],
      "metadata": {
        "colab": {
          "base_uri": "https://localhost:8080/"
        },
        "id": "Bi_JOvMdwMLj",
        "outputId": "ab76d8c7-63a1-4571-f26c-0fb290c9d1d4"
      },
      "execution_count": null,
      "outputs": [
        {
          "output_type": "stream",
          "name": "stdout",
          "text": [
            "Epoch 1/100\n",
            "1/1 [==============================] - 0s 323ms/step - loss: 13.3409 - mae: 13.3409\n",
            "Epoch 2/100\n",
            "1/1 [==============================] - 0s 11ms/step - loss: 13.2084 - mae: 13.2084\n",
            "Epoch 3/100\n",
            "1/1 [==============================] - 0s 9ms/step - loss: 13.0759 - mae: 13.0759\n",
            "Epoch 4/100\n",
            "1/1 [==============================] - 0s 10ms/step - loss: 12.9434 - mae: 12.9434\n",
            "Epoch 5/100\n",
            "1/1 [==============================] - 0s 9ms/step - loss: 12.8109 - mae: 12.8109\n",
            "Epoch 6/100\n",
            "1/1 [==============================] - 0s 9ms/step - loss: 12.6784 - mae: 12.6784\n",
            "Epoch 7/100\n",
            "1/1 [==============================] - 0s 9ms/step - loss: 12.5459 - mae: 12.5459\n",
            "Epoch 8/100\n",
            "1/1 [==============================] - 0s 9ms/step - loss: 12.4134 - mae: 12.4134\n",
            "Epoch 9/100\n",
            "1/1 [==============================] - 0s 9ms/step - loss: 12.2809 - mae: 12.2809\n",
            "Epoch 10/100\n",
            "1/1 [==============================] - 0s 10ms/step - loss: 12.1484 - mae: 12.1484\n",
            "Epoch 11/100\n",
            "1/1 [==============================] - 0s 9ms/step - loss: 12.0159 - mae: 12.0159\n",
            "Epoch 12/100\n",
            "1/1 [==============================] - 0s 9ms/step - loss: 11.8834 - mae: 11.8834\n",
            "Epoch 13/100\n",
            "1/1 [==============================] - 0s 9ms/step - loss: 11.7509 - mae: 11.7509\n",
            "Epoch 14/100\n",
            "1/1 [==============================] - 0s 9ms/step - loss: 11.6184 - mae: 11.6184\n",
            "Epoch 15/100\n",
            "1/1 [==============================] - 0s 9ms/step - loss: 11.4859 - mae: 11.4859\n",
            "Epoch 16/100\n",
            "1/1 [==============================] - 0s 9ms/step - loss: 11.3534 - mae: 11.3534\n",
            "Epoch 17/100\n",
            "1/1 [==============================] - 0s 9ms/step - loss: 11.2209 - mae: 11.2209\n",
            "Epoch 18/100\n",
            "1/1 [==============================] - 0s 9ms/step - loss: 11.0884 - mae: 11.0884\n",
            "Epoch 19/100\n",
            "1/1 [==============================] - 0s 9ms/step - loss: 10.9559 - mae: 10.9559\n",
            "Epoch 20/100\n",
            "1/1 [==============================] - 0s 9ms/step - loss: 10.8234 - mae: 10.8234\n",
            "Epoch 21/100\n",
            "1/1 [==============================] - 0s 9ms/step - loss: 10.6909 - mae: 10.6909\n",
            "Epoch 22/100\n",
            "1/1 [==============================] - 0s 9ms/step - loss: 10.5584 - mae: 10.5584\n",
            "Epoch 23/100\n",
            "1/1 [==============================] - 0s 10ms/step - loss: 10.4259 - mae: 10.4259\n",
            "Epoch 24/100\n",
            "1/1 [==============================] - 0s 10ms/step - loss: 10.2934 - mae: 10.2934\n",
            "Epoch 25/100\n",
            "1/1 [==============================] - 0s 10ms/step - loss: 10.1609 - mae: 10.1609\n",
            "Epoch 26/100\n",
            "1/1 [==============================] - 0s 10ms/step - loss: 10.0284 - mae: 10.0284\n",
            "Epoch 27/100\n",
            "1/1 [==============================] - 0s 10ms/step - loss: 9.8959 - mae: 9.8959\n",
            "Epoch 28/100\n",
            "1/1 [==============================] - 0s 10ms/step - loss: 9.7634 - mae: 9.7634\n",
            "Epoch 29/100\n",
            "1/1 [==============================] - 0s 9ms/step - loss: 9.6309 - mae: 9.6309\n",
            "Epoch 30/100\n",
            "1/1 [==============================] - 0s 9ms/step - loss: 9.4984 - mae: 9.4984\n",
            "Epoch 31/100\n",
            "1/1 [==============================] - 0s 9ms/step - loss: 9.3659 - mae: 9.3659\n",
            "Epoch 32/100\n",
            "1/1 [==============================] - 0s 9ms/step - loss: 9.2334 - mae: 9.2334\n",
            "Epoch 33/100\n",
            "1/1 [==============================] - 0s 9ms/step - loss: 9.1009 - mae: 9.1009\n",
            "Epoch 34/100\n",
            "1/1 [==============================] - 0s 10ms/step - loss: 8.9684 - mae: 8.9684\n",
            "Epoch 35/100\n",
            "1/1 [==============================] - 0s 13ms/step - loss: 8.8359 - mae: 8.8359\n",
            "Epoch 36/100\n",
            "1/1 [==============================] - 0s 9ms/step - loss: 8.7034 - mae: 8.7034\n",
            "Epoch 37/100\n",
            "1/1 [==============================] - 0s 10ms/step - loss: 8.5709 - mae: 8.5709\n",
            "Epoch 38/100\n",
            "1/1 [==============================] - 0s 10ms/step - loss: 8.4384 - mae: 8.4384\n",
            "Epoch 39/100\n",
            "1/1 [==============================] - 0s 9ms/step - loss: 8.3059 - mae: 8.3059\n",
            "Epoch 40/100\n",
            "1/1 [==============================] - 0s 9ms/step - loss: 8.1734 - mae: 8.1734\n",
            "Epoch 41/100\n",
            "1/1 [==============================] - 0s 9ms/step - loss: 8.0409 - mae: 8.0409\n",
            "Epoch 42/100\n",
            "1/1 [==============================] - 0s 9ms/step - loss: 7.9084 - mae: 7.9084\n",
            "Epoch 43/100\n",
            "1/1 [==============================] - 0s 9ms/step - loss: 7.7759 - mae: 7.7759\n",
            "Epoch 44/100\n",
            "1/1 [==============================] - 0s 10ms/step - loss: 7.6434 - mae: 7.6434\n",
            "Epoch 45/100\n",
            "1/1 [==============================] - 0s 9ms/step - loss: 7.5109 - mae: 7.5109\n",
            "Epoch 46/100\n",
            "1/1 [==============================] - 0s 9ms/step - loss: 7.3784 - mae: 7.3784\n",
            "Epoch 47/100\n",
            "1/1 [==============================] - 0s 9ms/step - loss: 7.2459 - mae: 7.2459\n",
            "Epoch 48/100\n",
            "1/1 [==============================] - 0s 9ms/step - loss: 7.1475 - mae: 7.1475\n",
            "Epoch 49/100\n",
            "1/1 [==============================] - 0s 9ms/step - loss: 7.1419 - mae: 7.1419\n",
            "Epoch 50/100\n",
            "1/1 [==============================] - 0s 9ms/step - loss: 7.1363 - mae: 7.1363\n",
            "Epoch 51/100\n",
            "1/1 [==============================] - 0s 9ms/step - loss: 7.1306 - mae: 7.1306\n",
            "Epoch 52/100\n",
            "1/1 [==============================] - 0s 10ms/step - loss: 7.1250 - mae: 7.1250\n",
            "Epoch 53/100\n",
            "1/1 [==============================] - 0s 10ms/step - loss: 7.1194 - mae: 7.1194\n",
            "Epoch 54/100\n",
            "1/1 [==============================] - 0s 11ms/step - loss: 7.1138 - mae: 7.1138\n",
            "Epoch 55/100\n",
            "1/1 [==============================] - 0s 9ms/step - loss: 7.1081 - mae: 7.1081\n",
            "Epoch 56/100\n",
            "1/1 [==============================] - 0s 9ms/step - loss: 7.1025 - mae: 7.1025\n",
            "Epoch 57/100\n",
            "1/1 [==============================] - 0s 9ms/step - loss: 7.0969 - mae: 7.0969\n",
            "Epoch 58/100\n",
            "1/1 [==============================] - 0s 9ms/step - loss: 7.0913 - mae: 7.0913\n",
            "Epoch 59/100\n",
            "1/1 [==============================] - 0s 10ms/step - loss: 7.0856 - mae: 7.0856\n",
            "Epoch 60/100\n",
            "1/1 [==============================] - 0s 9ms/step - loss: 7.0800 - mae: 7.0800\n",
            "Epoch 61/100\n",
            "1/1 [==============================] - 0s 8ms/step - loss: 7.0744 - mae: 7.0744\n",
            "Epoch 62/100\n",
            "1/1 [==============================] - 0s 14ms/step - loss: 7.0688 - mae: 7.0688\n",
            "Epoch 63/100\n",
            "1/1 [==============================] - 0s 11ms/step - loss: 7.0631 - mae: 7.0631\n",
            "Epoch 64/100\n",
            "1/1 [==============================] - 0s 8ms/step - loss: 7.0575 - mae: 7.0575\n",
            "Epoch 65/100\n",
            "1/1 [==============================] - 0s 8ms/step - loss: 7.0519 - mae: 7.0519\n",
            "Epoch 66/100\n",
            "1/1 [==============================] - 0s 9ms/step - loss: 7.0463 - mae: 7.0463\n",
            "Epoch 67/100\n",
            "1/1 [==============================] - 0s 9ms/step - loss: 7.0406 - mae: 7.0406\n",
            "Epoch 68/100\n",
            "1/1 [==============================] - 0s 10ms/step - loss: 7.0350 - mae: 7.0350\n",
            "Epoch 69/100\n",
            "1/1 [==============================] - 0s 15ms/step - loss: 7.0294 - mae: 7.0294\n",
            "Epoch 70/100\n",
            "1/1 [==============================] - 0s 9ms/step - loss: 7.0238 - mae: 7.0238\n",
            "Epoch 71/100\n",
            "1/1 [==============================] - 0s 14ms/step - loss: 7.0181 - mae: 7.0181\n",
            "Epoch 72/100\n",
            "1/1 [==============================] - 0s 11ms/step - loss: 7.0125 - mae: 7.0125\n",
            "Epoch 73/100\n",
            "1/1 [==============================] - 0s 10ms/step - loss: 7.0069 - mae: 7.0069\n",
            "Epoch 74/100\n",
            "1/1 [==============================] - 0s 10ms/step - loss: 7.0012 - mae: 7.0012\n",
            "Epoch 75/100\n",
            "1/1 [==============================] - 0s 10ms/step - loss: 6.9956 - mae: 6.9956\n",
            "Epoch 76/100\n",
            "1/1 [==============================] - 0s 9ms/step - loss: 6.9900 - mae: 6.9900\n",
            "Epoch 77/100\n",
            "1/1 [==============================] - 0s 10ms/step - loss: 6.9844 - mae: 6.9844\n",
            "Epoch 78/100\n",
            "1/1 [==============================] - 0s 11ms/step - loss: 6.9788 - mae: 6.9788\n",
            "Epoch 79/100\n",
            "1/1 [==============================] - 0s 10ms/step - loss: 6.9731 - mae: 6.9731\n",
            "Epoch 80/100\n",
            "1/1 [==============================] - 0s 9ms/step - loss: 6.9675 - mae: 6.9675\n",
            "Epoch 81/100\n",
            "1/1 [==============================] - 0s 10ms/step - loss: 6.9619 - mae: 6.9619\n",
            "Epoch 82/100\n",
            "1/1 [==============================] - 0s 9ms/step - loss: 6.9563 - mae: 6.9563\n",
            "Epoch 83/100\n",
            "1/1 [==============================] - 0s 10ms/step - loss: 6.9506 - mae: 6.9506\n",
            "Epoch 84/100\n",
            "1/1 [==============================] - 0s 10ms/step - loss: 6.9450 - mae: 6.9450\n",
            "Epoch 85/100\n",
            "1/1 [==============================] - 0s 9ms/step - loss: 6.9394 - mae: 6.9394\n",
            "Epoch 86/100\n",
            "1/1 [==============================] - 0s 10ms/step - loss: 6.9338 - mae: 6.9338\n",
            "Epoch 87/100\n",
            "1/1 [==============================] - 0s 10ms/step - loss: 6.9281 - mae: 6.9281\n",
            "Epoch 88/100\n",
            "1/1 [==============================] - 0s 9ms/step - loss: 6.9225 - mae: 6.9225\n",
            "Epoch 89/100\n",
            "1/1 [==============================] - 0s 9ms/step - loss: 6.9169 - mae: 6.9169\n",
            "Epoch 90/100\n",
            "1/1 [==============================] - 0s 9ms/step - loss: 6.9113 - mae: 6.9113\n",
            "Epoch 91/100\n",
            "1/1 [==============================] - 0s 9ms/step - loss: 6.9056 - mae: 6.9056\n",
            "Epoch 92/100\n",
            "1/1 [==============================] - 0s 9ms/step - loss: 6.9000 - mae: 6.9000\n",
            "Epoch 93/100\n",
            "1/1 [==============================] - 0s 9ms/step - loss: 6.8944 - mae: 6.8944\n",
            "Epoch 94/100\n",
            "1/1 [==============================] - 0s 9ms/step - loss: 6.8888 - mae: 6.8888\n",
            "Epoch 95/100\n",
            "1/1 [==============================] - 0s 10ms/step - loss: 6.8831 - mae: 6.8831\n",
            "Epoch 96/100\n",
            "1/1 [==============================] - 0s 9ms/step - loss: 6.8775 - mae: 6.8775\n",
            "Epoch 97/100\n",
            "1/1 [==============================] - 0s 9ms/step - loss: 6.8719 - mae: 6.8719\n",
            "Epoch 98/100\n",
            "1/1 [==============================] - 0s 10ms/step - loss: 6.8663 - mae: 6.8663\n",
            "Epoch 99/100\n",
            "1/1 [==============================] - 0s 9ms/step - loss: 6.8606 - mae: 6.8606\n",
            "Epoch 100/100\n",
            "1/1 [==============================] - 0s 9ms/step - loss: 6.8550 - mae: 6.8550\n"
          ]
        },
        {
          "output_type": "execute_result",
          "data": {
            "text/plain": [
              "<keras.callbacks.History at 0x7f8c30fdb1c0>"
            ]
          },
          "metadata": {},
          "execution_count": 274
        }
      ]
    },
    {
      "cell_type": "code",
      "source": [
        "# Remind X and y\n",
        "X, y"
      ],
      "metadata": {
        "colab": {
          "base_uri": "https://localhost:8080/"
        },
        "id": "h8O7Wj--wZjS",
        "outputId": "ff81022c-0ff7-438e-ccfa-a3abf6c23c8b"
      },
      "execution_count": null,
      "outputs": [
        {
          "output_type": "execute_result",
          "data": {
            "text/plain": [
              "(<tf.Tensor: shape=(8,), dtype=float64, numpy=array([-7., -4., -1.,  2.,  5.,  8., 11., 14.])>,\n",
              " <tf.Tensor: shape=(8,), dtype=float64, numpy=array([ 3.,  6.,  9., 12., 15., 18., 21., 24.])>)"
            ]
          },
          "metadata": {},
          "execution_count": 275
        }
      ]
    },
    {
      "cell_type": "code",
      "source": [
        "# Let's make a new prediction\n",
        "model.predict([17.0])"
      ],
      "metadata": {
        "colab": {
          "base_uri": "https://localhost:8080/"
        },
        "id": "XYtsooJdwMG8",
        "outputId": "7fd078f6-faae-49eb-d104-9883873e3957"
      },
      "execution_count": null,
      "outputs": [
        {
          "output_type": "stream",
          "name": "stdout",
          "text": [
            "1/1 [==============================] - 0s 66ms/step\n"
          ]
        },
        {
          "output_type": "execute_result",
          "data": {
            "text/plain": [
              "array([[29.60528]], dtype=float32)"
            ]
          },
          "metadata": {},
          "execution_count": 276
        }
      ]
    },
    {
      "cell_type": "markdown",
      "source": [
        "Our expection is 27 and model prediction is 26.60. This is better and close than before."
      ],
      "metadata": {
        "id": "0QOofSnrwnDT"
      }
    },
    {
      "cell_type": "markdown",
      "source": [
        "### Adding more hidden layers with 100 neuron"
      ],
      "metadata": {
        "id": "jE4gt4ePxQy7"
      }
    },
    {
      "cell_type": "code",
      "source": [
        "# Let's rebuild model\n",
        "\n",
        "# 1. Create a model \n",
        "model = tf.keras.Sequential([\n",
        "    tf.keras.layers.Dense(100, activation='relu'),\n",
        "    tf.keras.layers.Dense(100, activation='relu'),\n",
        "    tf.keras.layers.Dense(100, activation='relu'),\n",
        "    tf.keras.layers.Dense(1)\n",
        "])\n",
        "\n",
        "# 2. Compiling model\n",
        "model.compile(\n",
        "    loss=tf.keras.losses.mae,\n",
        "    optimizer=tf.keras.optimizers.SGD(),\n",
        "    metrics=['mae']\n",
        ")\n",
        "\n",
        "# 3. Fit the model\n",
        "model.fit(tf.expand_dims(X, axis=-1), y, epochs=100)"
      ],
      "metadata": {
        "id": "XHz90iinobiX",
        "outputId": "1229edc9-d03b-4f44-c5bc-82acc80f24f3",
        "colab": {
          "base_uri": "https://localhost:8080/"
        }
      },
      "execution_count": null,
      "outputs": [
        {
          "output_type": "stream",
          "name": "stdout",
          "text": [
            "Epoch 1/100\n",
            "1/1 [==============================] - 1s 835ms/step - loss: 13.6388 - mae: 13.6388\n",
            "Epoch 2/100\n",
            "1/1 [==============================] - 0s 17ms/step - loss: 12.9795 - mae: 12.9795\n",
            "Epoch 3/100\n",
            "1/1 [==============================] - 0s 10ms/step - loss: 12.3783 - mae: 12.3783\n",
            "Epoch 4/100\n",
            "1/1 [==============================] - 0s 10ms/step - loss: 11.8217 - mae: 11.8217\n",
            "Epoch 5/100\n",
            "1/1 [==============================] - 0s 10ms/step - loss: 11.2377 - mae: 11.2377\n",
            "Epoch 6/100\n",
            "1/1 [==============================] - 0s 10ms/step - loss: 10.5454 - mae: 10.5454\n",
            "Epoch 7/100\n",
            "1/1 [==============================] - 0s 10ms/step - loss: 9.6637 - mae: 9.6637\n",
            "Epoch 8/100\n",
            "1/1 [==============================] - 0s 10ms/step - loss: 8.5641 - mae: 8.5641\n",
            "Epoch 9/100\n",
            "1/1 [==============================] - 0s 10ms/step - loss: 7.1431 - mae: 7.1431\n",
            "Epoch 10/100\n",
            "1/1 [==============================] - 0s 10ms/step - loss: 5.2338 - mae: 5.2338\n",
            "Epoch 11/100\n",
            "1/1 [==============================] - 0s 9ms/step - loss: 4.3006 - mae: 4.3006\n",
            "Epoch 12/100\n",
            "1/1 [==============================] - 0s 11ms/step - loss: 4.0720 - mae: 4.0720\n",
            "Epoch 13/100\n",
            "1/1 [==============================] - 0s 11ms/step - loss: 4.1565 - mae: 4.1565\n",
            "Epoch 14/100\n",
            "1/1 [==============================] - 0s 11ms/step - loss: 4.0131 - mae: 4.0131\n",
            "Epoch 15/100\n",
            "1/1 [==============================] - 0s 11ms/step - loss: 3.9543 - mae: 3.9543\n",
            "Epoch 16/100\n",
            "1/1 [==============================] - 0s 11ms/step - loss: 4.0144 - mae: 4.0144\n",
            "Epoch 17/100\n",
            "1/1 [==============================] - 0s 10ms/step - loss: 3.8635 - mae: 3.8635\n",
            "Epoch 18/100\n",
            "1/1 [==============================] - 0s 11ms/step - loss: 4.0316 - mae: 4.0316\n",
            "Epoch 19/100\n",
            "1/1 [==============================] - 0s 10ms/step - loss: 3.8276 - mae: 3.8276\n",
            "Epoch 20/100\n",
            "1/1 [==============================] - 0s 10ms/step - loss: 4.0238 - mae: 4.0238\n",
            "Epoch 21/100\n",
            "1/1 [==============================] - 0s 10ms/step - loss: 3.8714 - mae: 3.8714\n",
            "Epoch 22/100\n",
            "1/1 [==============================] - 0s 10ms/step - loss: 3.9542 - mae: 3.9542\n",
            "Epoch 23/100\n",
            "1/1 [==============================] - 0s 10ms/step - loss: 3.8879 - mae: 3.8879\n",
            "Epoch 24/100\n",
            "1/1 [==============================] - 0s 10ms/step - loss: 3.9006 - mae: 3.9006\n",
            "Epoch 25/100\n",
            "1/1 [==============================] - 0s 11ms/step - loss: 3.9063 - mae: 3.9063\n",
            "Epoch 26/100\n",
            "1/1 [==============================] - 0s 10ms/step - loss: 3.8454 - mae: 3.8454\n",
            "Epoch 27/100\n",
            "1/1 [==============================] - 0s 10ms/step - loss: 3.9259 - mae: 3.9259\n",
            "Epoch 28/100\n",
            "1/1 [==============================] - 0s 10ms/step - loss: 3.7884 - mae: 3.7884\n",
            "Epoch 29/100\n",
            "1/1 [==============================] - 0s 10ms/step - loss: 3.9467 - mae: 3.9467\n",
            "Epoch 30/100\n",
            "1/1 [==============================] - 0s 10ms/step - loss: 3.7487 - mae: 3.7487\n",
            "Epoch 31/100\n",
            "1/1 [==============================] - 0s 9ms/step - loss: 3.9533 - mae: 3.9533\n",
            "Epoch 32/100\n",
            "1/1 [==============================] - 0s 11ms/step - loss: 3.7952 - mae: 3.7952\n",
            "Epoch 33/100\n",
            "1/1 [==============================] - 0s 10ms/step - loss: 3.8646 - mae: 3.8646\n",
            "Epoch 34/100\n",
            "1/1 [==============================] - 0s 10ms/step - loss: 3.8161 - mae: 3.8161\n",
            "Epoch 35/100\n",
            "1/1 [==============================] - 0s 10ms/step - loss: 3.8048 - mae: 3.8048\n",
            "Epoch 36/100\n",
            "1/1 [==============================] - 0s 9ms/step - loss: 3.8382 - mae: 3.8382\n",
            "Epoch 37/100\n",
            "1/1 [==============================] - 0s 9ms/step - loss: 3.7427 - mae: 3.7427\n",
            "Epoch 38/100\n",
            "1/1 [==============================] - 0s 9ms/step - loss: 3.8617 - mae: 3.8617\n",
            "Epoch 39/100\n",
            "1/1 [==============================] - 0s 10ms/step - loss: 3.6788 - mae: 3.6788\n",
            "Epoch 40/100\n",
            "1/1 [==============================] - 0s 10ms/step - loss: 3.8864 - mae: 3.8864\n",
            "Epoch 41/100\n",
            "1/1 [==============================] - 0s 10ms/step - loss: 3.6912 - mae: 3.6912\n",
            "Epoch 42/100\n",
            "1/1 [==============================] - 0s 10ms/step - loss: 3.8380 - mae: 3.8380\n",
            "Epoch 43/100\n",
            "1/1 [==============================] - 0s 10ms/step - loss: 3.7405 - mae: 3.7405\n",
            "Epoch 44/100\n",
            "1/1 [==============================] - 0s 10ms/step - loss: 3.7392 - mae: 3.7392\n",
            "Epoch 45/100\n",
            "1/1 [==============================] - 0s 10ms/step - loss: 3.7652 - mae: 3.7652\n",
            "Epoch 46/100\n",
            "1/1 [==============================] - 0s 11ms/step - loss: 3.6708 - mae: 3.6708\n",
            "Epoch 47/100\n",
            "1/1 [==============================] - 0s 11ms/step - loss: 3.7899 - mae: 3.7899\n",
            "Epoch 48/100\n",
            "1/1 [==============================] - 0s 11ms/step - loss: 3.6021 - mae: 3.6021\n",
            "Epoch 49/100\n",
            "1/1 [==============================] - 0s 11ms/step - loss: 3.8023 - mae: 3.8023\n",
            "Epoch 50/100\n",
            "1/1 [==============================] - 0s 11ms/step - loss: 3.6276 - mae: 3.6276\n",
            "Epoch 51/100\n",
            "1/1 [==============================] - 0s 10ms/step - loss: 3.7414 - mae: 3.7414\n",
            "Epoch 52/100\n",
            "1/1 [==============================] - 0s 14ms/step - loss: 3.6814 - mae: 3.6814\n",
            "Epoch 53/100\n",
            "1/1 [==============================] - 0s 17ms/step - loss: 3.6471 - mae: 3.6471\n",
            "Epoch 54/100\n",
            "1/1 [==============================] - 0s 12ms/step - loss: 3.7065 - mae: 3.7065\n",
            "Epoch 55/100\n",
            "1/1 [==============================] - 0s 12ms/step - loss: 3.5704 - mae: 3.5704\n",
            "Epoch 56/100\n",
            "1/1 [==============================] - 0s 15ms/step - loss: 3.7344 - mae: 3.7344\n",
            "Epoch 57/100\n",
            "1/1 [==============================] - 0s 12ms/step - loss: 3.5482 - mae: 3.5482\n",
            "Epoch 58/100\n",
            "1/1 [==============================] - 0s 12ms/step - loss: 3.6980 - mae: 3.6980\n",
            "Epoch 59/100\n",
            "1/1 [==============================] - 0s 11ms/step - loss: 3.5761 - mae: 3.5761\n",
            "Epoch 60/100\n",
            "1/1 [==============================] - 0s 15ms/step - loss: 3.6260 - mae: 3.6260\n",
            "Epoch 61/100\n",
            "1/1 [==============================] - 0s 14ms/step - loss: 3.6062 - mae: 3.6062\n",
            "Epoch 62/100\n",
            "1/1 [==============================] - 0s 14ms/step - loss: 3.5498 - mae: 3.5498\n",
            "Epoch 63/100\n",
            "1/1 [==============================] - 0s 12ms/step - loss: 3.6364 - mae: 3.6364\n",
            "Epoch 64/100\n",
            "1/1 [==============================] - 0s 14ms/step - loss: 3.4735 - mae: 3.4735\n",
            "Epoch 65/100\n",
            "1/1 [==============================] - 0s 11ms/step - loss: 3.6975 - mae: 3.6975\n",
            "Epoch 66/100\n",
            "1/1 [==============================] - 0s 9ms/step - loss: 3.5106 - mae: 3.5106\n",
            "Epoch 67/100\n",
            "1/1 [==============================] - 0s 13ms/step - loss: 3.5758 - mae: 3.5758\n",
            "Epoch 68/100\n",
            "1/1 [==============================] - 0s 11ms/step - loss: 3.5395 - mae: 3.5395\n",
            "Epoch 69/100\n",
            "1/1 [==============================] - 0s 12ms/step - loss: 3.4939 - mae: 3.4939\n",
            "Epoch 70/100\n",
            "1/1 [==============================] - 0s 10ms/step - loss: 3.5690 - mae: 3.5690\n",
            "Epoch 71/100\n",
            "1/1 [==============================] - 0s 10ms/step - loss: 3.4094 - mae: 3.4094\n",
            "Epoch 72/100\n",
            "1/1 [==============================] - 0s 10ms/step - loss: 3.6000 - mae: 3.6000\n",
            "Epoch 73/100\n",
            "1/1 [==============================] - 0s 14ms/step - loss: 3.4195 - mae: 3.4195\n",
            "Epoch 74/100\n",
            "1/1 [==============================] - 0s 12ms/step - loss: 3.5300 - mae: 3.5300\n",
            "Epoch 75/100\n",
            "1/1 [==============================] - 0s 11ms/step - loss: 3.4843 - mae: 3.4843\n",
            "Epoch 76/100\n",
            "1/1 [==============================] - 0s 11ms/step - loss: 3.4239 - mae: 3.4239\n",
            "Epoch 77/100\n",
            "1/1 [==============================] - 0s 10ms/step - loss: 3.5147 - mae: 3.5147\n",
            "Epoch 78/100\n",
            "1/1 [==============================] - 0s 10ms/step - loss: 3.3396 - mae: 3.3396\n",
            "Epoch 79/100\n",
            "1/1 [==============================] - 0s 10ms/step - loss: 3.5320 - mae: 3.5320\n",
            "Epoch 80/100\n",
            "1/1 [==============================] - 0s 11ms/step - loss: 3.3700 - mae: 3.3700\n",
            "Epoch 81/100\n",
            "1/1 [==============================] - 0s 10ms/step - loss: 3.4472 - mae: 3.4472\n",
            "Epoch 82/100\n",
            "1/1 [==============================] - 0s 10ms/step - loss: 3.4026 - mae: 3.4026\n",
            "Epoch 83/100\n",
            "1/1 [==============================] - 0s 10ms/step - loss: 3.3575 - mae: 3.3575\n",
            "Epoch 84/100\n",
            "1/1 [==============================] - 0s 11ms/step - loss: 3.4356 - mae: 3.4356\n",
            "Epoch 85/100\n",
            "1/1 [==============================] - 0s 10ms/step - loss: 3.2660 - mae: 3.2660\n",
            "Epoch 86/100\n",
            "1/1 [==============================] - 0s 10ms/step - loss: 3.4725 - mae: 3.4725\n",
            "Epoch 87/100\n",
            "1/1 [==============================] - 0s 10ms/step - loss: 3.2968 - mae: 3.2968\n",
            "Epoch 88/100\n",
            "1/1 [==============================] - 0s 11ms/step - loss: 3.3516 - mae: 3.3516\n",
            "Epoch 89/100\n",
            "1/1 [==============================] - 0s 10ms/step - loss: 3.3650 - mae: 3.3650\n",
            "Epoch 90/100\n",
            "1/1 [==============================] - 0s 10ms/step - loss: 3.2555 - mae: 3.2555\n",
            "Epoch 91/100\n",
            "1/1 [==============================] - 0s 10ms/step - loss: 3.3992 - mae: 3.3992\n",
            "Epoch 92/100\n",
            "1/1 [==============================] - 0s 10ms/step - loss: 3.2274 - mae: 3.2274\n",
            "Epoch 93/100\n",
            "1/1 [==============================] - 0s 12ms/step - loss: 3.3525 - mae: 3.3525\n",
            "Epoch 94/100\n",
            "1/1 [==============================] - 0s 12ms/step - loss: 3.2611 - mae: 3.2611\n",
            "Epoch 95/100\n",
            "1/1 [==============================] - 0s 11ms/step - loss: 3.2553 - mae: 3.2553\n",
            "Epoch 96/100\n",
            "1/1 [==============================] - 0s 13ms/step - loss: 3.2981 - mae: 3.2981\n",
            "Epoch 97/100\n",
            "1/1 [==============================] - 0s 13ms/step - loss: 3.1538 - mae: 3.1538\n",
            "Epoch 98/100\n",
            "1/1 [==============================] - 0s 12ms/step - loss: 3.3372 - mae: 3.3372\n",
            "Epoch 99/100\n",
            "1/1 [==============================] - 0s 9ms/step - loss: 3.1722 - mae: 3.1722\n",
            "Epoch 100/100\n",
            "1/1 [==============================] - 0s 8ms/step - loss: 3.2277 - mae: 3.2277\n"
          ]
        },
        {
          "output_type": "execute_result",
          "data": {
            "text/plain": [
              "<keras.callbacks.History at 0x7f8c277e12e0>"
            ]
          },
          "metadata": {},
          "execution_count": 277
        }
      ]
    },
    {
      "cell_type": "code",
      "source": [
        "# Let's remind our data\n",
        "X, y"
      ],
      "metadata": {
        "colab": {
          "base_uri": "https://localhost:8080/"
        },
        "id": "vImeya344s2T",
        "outputId": "4188b2ad-fa92-4e55-980a-f9c319400fcf"
      },
      "execution_count": null,
      "outputs": [
        {
          "output_type": "execute_result",
          "data": {
            "text/plain": [
              "(<tf.Tensor: shape=(8,), dtype=float64, numpy=array([-7., -4., -1.,  2.,  5.,  8., 11., 14.])>,\n",
              " <tf.Tensor: shape=(8,), dtype=float64, numpy=array([ 3.,  6.,  9., 12., 15., 18., 21., 24.])>)"
            ]
          },
          "metadata": {},
          "execution_count": 278
        }
      ]
    },
    {
      "cell_type": "code",
      "source": [
        "# Making a prediction\n",
        "model.predict([17.0])"
      ],
      "metadata": {
        "colab": {
          "base_uri": "https://localhost:8080/"
        },
        "id": "Z4maNOdd4szb",
        "outputId": "479db822-3888-40f2-c6cc-918bd3c7353f"
      },
      "execution_count": null,
      "outputs": [
        {
          "output_type": "stream",
          "name": "stdout",
          "text": [
            "1/1 [==============================] - 0s 91ms/step\n"
          ]
        },
        {
          "output_type": "execute_result",
          "data": {
            "text/plain": [
              "array([[33.03018]], dtype=float32)"
            ]
          },
          "metadata": {},
          "execution_count": 279
        }
      ]
    },
    {
      "cell_type": "markdown",
      "source": [
        "This prediction is worse than before. The model may have been overfitting."
      ],
      "metadata": {
        "id": "MaQzIYwi4swu"
      }
    },
    {
      "cell_type": "markdown",
      "source": [
        "### Change the optimization function\n",
        "\n",
        "Our optimization function is Stochastic Gradient Descent, let's make it Adam and see what will happen."
      ],
      "metadata": {
        "id": "7Twzbb1q4suE"
      }
    },
    {
      "cell_type": "code",
      "source": [
        "# Let's rebuild model\n",
        "\n",
        "# 1. Create a model \n",
        "model = tf.keras.Sequential([\n",
        "    tf.keras.layers.Dense(100, activation='relu'),\n",
        "    tf.keras.layers.Dense(100, activation='relu'),\n",
        "    tf.keras.layers.Dense(100, activation='relu'),\n",
        "    tf.keras.layers.Dense(1)\n",
        "])\n",
        "\n",
        "# 2. Compiling model\n",
        "model.compile(\n",
        "    loss=tf.keras.losses.mae,\n",
        "    optimizer=tf.keras.optimizers.Adam(),\n",
        "    metrics=['mae']\n",
        ")\n",
        "\n",
        "# 3. Fit the model\n",
        "model.fit(tf.expand_dims(X, axis=-1), y, epochs=100)"
      ],
      "metadata": {
        "colab": {
          "base_uri": "https://localhost:8080/"
        },
        "id": "u1bw5qU44sre",
        "outputId": "c188847b-5335-46fb-9252-4d7433c061b2"
      },
      "execution_count": null,
      "outputs": [
        {
          "output_type": "stream",
          "name": "stdout",
          "text": [
            "Epoch 1/100\n",
            "1/1 [==============================] - 1s 1s/step - loss: 13.5813 - mae: 13.5813\n",
            "Epoch 2/100\n",
            "1/1 [==============================] - 0s 13ms/step - loss: 13.1610 - mae: 13.1610\n",
            "Epoch 3/100\n",
            "1/1 [==============================] - 0s 15ms/step - loss: 12.7825 - mae: 12.7825\n",
            "Epoch 4/100\n",
            "1/1 [==============================] - 0s 14ms/step - loss: 12.4126 - mae: 12.4126\n",
            "Epoch 5/100\n",
            "1/1 [==============================] - 0s 11ms/step - loss: 12.0682 - mae: 12.0682\n",
            "Epoch 6/100\n",
            "1/1 [==============================] - 0s 11ms/step - loss: 11.7311 - mae: 11.7311\n",
            "Epoch 7/100\n",
            "1/1 [==============================] - 0s 10ms/step - loss: 11.3921 - mae: 11.3921\n",
            "Epoch 8/100\n",
            "1/1 [==============================] - 0s 10ms/step - loss: 11.0480 - mae: 11.0480\n",
            "Epoch 9/100\n",
            "1/1 [==============================] - 0s 12ms/step - loss: 10.6959 - mae: 10.6959\n",
            "Epoch 10/100\n",
            "1/1 [==============================] - 0s 15ms/step - loss: 10.3262 - mae: 10.3262\n",
            "Epoch 11/100\n",
            "1/1 [==============================] - 0s 10ms/step - loss: 9.9365 - mae: 9.9365\n",
            "Epoch 12/100\n",
            "1/1 [==============================] - 0s 10ms/step - loss: 9.5289 - mae: 9.5289\n",
            "Epoch 13/100\n",
            "1/1 [==============================] - 0s 12ms/step - loss: 9.0999 - mae: 9.0999\n",
            "Epoch 14/100\n",
            "1/1 [==============================] - 0s 12ms/step - loss: 8.7230 - mae: 8.7230\n",
            "Epoch 15/100\n",
            "1/1 [==============================] - 0s 13ms/step - loss: 8.3455 - mae: 8.3455\n",
            "Epoch 16/100\n",
            "1/1 [==============================] - 0s 10ms/step - loss: 7.9440 - mae: 7.9440\n",
            "Epoch 17/100\n",
            "1/1 [==============================] - 0s 13ms/step - loss: 7.5147 - mae: 7.5147\n",
            "Epoch 18/100\n",
            "1/1 [==============================] - 0s 11ms/step - loss: 7.0557 - mae: 7.0557\n",
            "Epoch 19/100\n",
            "1/1 [==============================] - 0s 12ms/step - loss: 6.5649 - mae: 6.5649\n",
            "Epoch 20/100\n",
            "1/1 [==============================] - 0s 12ms/step - loss: 6.0417 - mae: 6.0417\n",
            "Epoch 21/100\n",
            "1/1 [==============================] - 0s 10ms/step - loss: 5.4836 - mae: 5.4836\n",
            "Epoch 22/100\n",
            "1/1 [==============================] - 0s 10ms/step - loss: 4.8951 - mae: 4.8951\n",
            "Epoch 23/100\n",
            "1/1 [==============================] - 0s 10ms/step - loss: 4.2756 - mae: 4.2756\n",
            "Epoch 24/100\n",
            "1/1 [==============================] - 0s 10ms/step - loss: 4.0300 - mae: 4.0300\n",
            "Epoch 25/100\n",
            "1/1 [==============================] - 0s 11ms/step - loss: 3.9896 - mae: 3.9896\n",
            "Epoch 26/100\n",
            "1/1 [==============================] - 0s 10ms/step - loss: 4.1250 - mae: 4.1250\n",
            "Epoch 27/100\n",
            "1/1 [==============================] - 0s 10ms/step - loss: 4.2431 - mae: 4.2431\n",
            "Epoch 28/100\n",
            "1/1 [==============================] - 0s 10ms/step - loss: 4.4342 - mae: 4.4342\n",
            "Epoch 29/100\n",
            "1/1 [==============================] - 0s 10ms/step - loss: 4.6234 - mae: 4.6234\n",
            "Epoch 30/100\n",
            "1/1 [==============================] - 0s 10ms/step - loss: 4.7301 - mae: 4.7301\n",
            "Epoch 31/100\n",
            "1/1 [==============================] - 0s 10ms/step - loss: 4.7633 - mae: 4.7633\n",
            "Epoch 32/100\n",
            "1/1 [==============================] - 0s 10ms/step - loss: 4.7326 - mae: 4.7326\n",
            "Epoch 33/100\n",
            "1/1 [==============================] - 0s 10ms/step - loss: 4.6456 - mae: 4.6456\n",
            "Epoch 34/100\n",
            "1/1 [==============================] - 0s 10ms/step - loss: 4.5129 - mae: 4.5129\n",
            "Epoch 35/100\n",
            "1/1 [==============================] - 0s 10ms/step - loss: 4.3420 - mae: 4.3420\n",
            "Epoch 36/100\n",
            "1/1 [==============================] - 0s 11ms/step - loss: 4.1886 - mae: 4.1886\n",
            "Epoch 37/100\n",
            "1/1 [==============================] - 0s 13ms/step - loss: 4.1099 - mae: 4.1099\n",
            "Epoch 38/100\n",
            "1/1 [==============================] - 0s 13ms/step - loss: 4.0325 - mae: 4.0325\n",
            "Epoch 39/100\n",
            "1/1 [==============================] - 0s 14ms/step - loss: 3.9562 - mae: 3.9562\n",
            "Epoch 40/100\n",
            "1/1 [==============================] - 0s 11ms/step - loss: 3.8810 - mae: 3.8810\n",
            "Epoch 41/100\n",
            "1/1 [==============================] - 0s 15ms/step - loss: 3.8065 - mae: 3.8065\n",
            "Epoch 42/100\n",
            "1/1 [==============================] - 0s 18ms/step - loss: 3.8522 - mae: 3.8522\n",
            "Epoch 43/100\n",
            "1/1 [==============================] - 0s 12ms/step - loss: 3.9065 - mae: 3.9065\n",
            "Epoch 44/100\n",
            "1/1 [==============================] - 0s 12ms/step - loss: 3.9439 - mae: 3.9439\n",
            "Epoch 45/100\n",
            "1/1 [==============================] - 0s 11ms/step - loss: 3.9665 - mae: 3.9665\n",
            "Epoch 46/100\n",
            "1/1 [==============================] - 0s 12ms/step - loss: 3.9750 - mae: 3.9750\n",
            "Epoch 47/100\n",
            "1/1 [==============================] - 0s 11ms/step - loss: 3.9719 - mae: 3.9719\n",
            "Epoch 48/100\n",
            "1/1 [==============================] - 0s 11ms/step - loss: 3.9579 - mae: 3.9579\n",
            "Epoch 49/100\n",
            "1/1 [==============================] - 0s 12ms/step - loss: 3.9348 - mae: 3.9348\n",
            "Epoch 50/100\n",
            "1/1 [==============================] - 0s 14ms/step - loss: 3.9023 - mae: 3.9023\n",
            "Epoch 51/100\n",
            "1/1 [==============================] - 0s 11ms/step - loss: 3.8613 - mae: 3.8613\n",
            "Epoch 52/100\n",
            "1/1 [==============================] - 0s 14ms/step - loss: 3.8129 - mae: 3.8129\n",
            "Epoch 53/100\n",
            "1/1 [==============================] - 0s 12ms/step - loss: 3.7690 - mae: 3.7690\n",
            "Epoch 54/100\n",
            "1/1 [==============================] - 0s 11ms/step - loss: 3.6945 - mae: 3.6945\n",
            "Epoch 55/100\n",
            "1/1 [==============================] - 0s 10ms/step - loss: 3.6740 - mae: 3.6740\n",
            "Epoch 56/100\n",
            "1/1 [==============================] - 0s 12ms/step - loss: 3.7005 - mae: 3.7005\n",
            "Epoch 57/100\n",
            "1/1 [==============================] - 0s 11ms/step - loss: 3.7169 - mae: 3.7169\n",
            "Epoch 58/100\n",
            "1/1 [==============================] - 0s 10ms/step - loss: 3.7236 - mae: 3.7236\n",
            "Epoch 59/100\n",
            "1/1 [==============================] - 0s 10ms/step - loss: 3.7224 - mae: 3.7224\n",
            "Epoch 60/100\n",
            "1/1 [==============================] - 0s 11ms/step - loss: 3.7116 - mae: 3.7116\n",
            "Epoch 61/100\n",
            "1/1 [==============================] - 0s 11ms/step - loss: 3.7069 - mae: 3.7069\n",
            "Epoch 62/100\n",
            "1/1 [==============================] - 0s 11ms/step - loss: 3.6743 - mae: 3.6743\n",
            "Epoch 63/100\n",
            "1/1 [==============================] - 0s 12ms/step - loss: 3.6490 - mae: 3.6490\n",
            "Epoch 64/100\n",
            "1/1 [==============================] - 0s 19ms/step - loss: 3.6194 - mae: 3.6194\n",
            "Epoch 65/100\n",
            "1/1 [==============================] - 0s 15ms/step - loss: 3.5845 - mae: 3.5845\n",
            "Epoch 66/100\n",
            "1/1 [==============================] - 0s 16ms/step - loss: 3.5681 - mae: 3.5681\n",
            "Epoch 67/100\n",
            "1/1 [==============================] - 0s 13ms/step - loss: 3.5784 - mae: 3.5784\n",
            "Epoch 68/100\n",
            "1/1 [==============================] - 0s 11ms/step - loss: 3.5711 - mae: 3.5711\n",
            "Epoch 69/100\n",
            "1/1 [==============================] - 0s 11ms/step - loss: 3.5451 - mae: 3.5451\n",
            "Epoch 70/100\n",
            "1/1 [==============================] - 0s 11ms/step - loss: 3.5034 - mae: 3.5034\n",
            "Epoch 71/100\n",
            "1/1 [==============================] - 0s 10ms/step - loss: 3.5254 - mae: 3.5254\n",
            "Epoch 72/100\n",
            "1/1 [==============================] - 0s 14ms/step - loss: 3.5286 - mae: 3.5286\n",
            "Epoch 73/100\n",
            "1/1 [==============================] - 0s 12ms/step - loss: 3.5273 - mae: 3.5273\n",
            "Epoch 74/100\n",
            "1/1 [==============================] - 0s 13ms/step - loss: 3.5146 - mae: 3.5146\n",
            "Epoch 75/100\n",
            "1/1 [==============================] - 0s 12ms/step - loss: 3.4933 - mae: 3.4933\n",
            "Epoch 76/100\n",
            "1/1 [==============================] - 0s 12ms/step - loss: 3.4646 - mae: 3.4646\n",
            "Epoch 77/100\n",
            "1/1 [==============================] - 0s 13ms/step - loss: 3.4254 - mae: 3.4254\n",
            "Epoch 78/100\n",
            "1/1 [==============================] - 0s 13ms/step - loss: 3.4131 - mae: 3.4131\n",
            "Epoch 79/100\n",
            "1/1 [==============================] - 0s 16ms/step - loss: 3.4082 - mae: 3.4082\n",
            "Epoch 80/100\n",
            "1/1 [==============================] - 0s 16ms/step - loss: 3.3768 - mae: 3.3768\n",
            "Epoch 81/100\n",
            "1/1 [==============================] - 0s 16ms/step - loss: 3.3467 - mae: 3.3467\n",
            "Epoch 82/100\n",
            "1/1 [==============================] - 0s 14ms/step - loss: 3.3367 - mae: 3.3367\n",
            "Epoch 83/100\n",
            "1/1 [==============================] - 0s 11ms/step - loss: 3.3126 - mae: 3.3126\n",
            "Epoch 84/100\n",
            "1/1 [==============================] - 0s 11ms/step - loss: 3.2835 - mae: 3.2835\n",
            "Epoch 85/100\n",
            "1/1 [==============================] - 0s 13ms/step - loss: 3.2601 - mae: 3.2601\n",
            "Epoch 86/100\n",
            "1/1 [==============================] - 0s 11ms/step - loss: 3.2302 - mae: 3.2302\n",
            "Epoch 87/100\n",
            "1/1 [==============================] - 0s 10ms/step - loss: 3.2214 - mae: 3.2214\n",
            "Epoch 88/100\n",
            "1/1 [==============================] - 0s 10ms/step - loss: 3.2029 - mae: 3.2029\n",
            "Epoch 89/100\n",
            "1/1 [==============================] - 0s 11ms/step - loss: 3.1789 - mae: 3.1789\n",
            "Epoch 90/100\n",
            "1/1 [==============================] - 0s 13ms/step - loss: 3.1405 - mae: 3.1405\n",
            "Epoch 91/100\n",
            "1/1 [==============================] - 0s 10ms/step - loss: 3.0966 - mae: 3.0966\n",
            "Epoch 92/100\n",
            "1/1 [==============================] - 0s 11ms/step - loss: 3.0675 - mae: 3.0675\n",
            "Epoch 93/100\n",
            "1/1 [==============================] - 0s 10ms/step - loss: 3.0814 - mae: 3.0814\n",
            "Epoch 94/100\n",
            "1/1 [==============================] - 0s 9ms/step - loss: 3.0424 - mae: 3.0424\n",
            "Epoch 95/100\n",
            "1/1 [==============================] - 0s 10ms/step - loss: 3.0083 - mae: 3.0083\n",
            "Epoch 96/100\n",
            "1/1 [==============================] - 0s 10ms/step - loss: 2.9595 - mae: 2.9595\n",
            "Epoch 97/100\n",
            "1/1 [==============================] - 0s 10ms/step - loss: 2.9709 - mae: 2.9709\n",
            "Epoch 98/100\n",
            "1/1 [==============================] - 0s 12ms/step - loss: 2.9450 - mae: 2.9450\n",
            "Epoch 99/100\n",
            "1/1 [==============================] - 0s 10ms/step - loss: 2.8749 - mae: 2.8749\n",
            "Epoch 100/100\n",
            "1/1 [==============================] - 0s 10ms/step - loss: 2.8614 - mae: 2.8614\n"
          ]
        },
        {
          "output_type": "execute_result",
          "data": {
            "text/plain": [
              "<keras.callbacks.History at 0x7f8c30f33790>"
            ]
          },
          "metadata": {},
          "execution_count": 280
        }
      ]
    },
    {
      "cell_type": "code",
      "source": [
        "# Remind data\n",
        "X, y"
      ],
      "metadata": {
        "colab": {
          "base_uri": "https://localhost:8080/"
        },
        "id": "g5WKa2WK6F1s",
        "outputId": "8b555191-8f56-4f7a-832f-109706fd7920"
      },
      "execution_count": null,
      "outputs": [
        {
          "output_type": "execute_result",
          "data": {
            "text/plain": [
              "(<tf.Tensor: shape=(8,), dtype=float64, numpy=array([-7., -4., -1.,  2.,  5.,  8., 11., 14.])>,\n",
              " <tf.Tensor: shape=(8,), dtype=float64, numpy=array([ 3.,  6.,  9., 12., 15., 18., 21., 24.])>)"
            ]
          },
          "metadata": {},
          "execution_count": 281
        }
      ]
    },
    {
      "cell_type": "code",
      "source": [
        "# Making a prediction\n",
        "model.predict([17.0])"
      ],
      "metadata": {
        "colab": {
          "base_uri": "https://localhost:8080/"
        },
        "id": "SORLDr9U4so-",
        "outputId": "0ed28069-3464-4cd2-b404-a1cf5a0ae956"
      },
      "execution_count": null,
      "outputs": [
        {
          "output_type": "stream",
          "name": "stdout",
          "text": [
            "1/1 [==============================] - 0s 91ms/step\n"
          ]
        },
        {
          "output_type": "execute_result",
          "data": {
            "text/plain": [
              "array([[31.864826]], dtype=float32)"
            ]
          },
          "metadata": {},
          "execution_count": 282
        }
      ]
    },
    {
      "cell_type": "markdown",
      "source": [
        "### Change the learning rate\n",
        "\n",
        "Learning rate's default parameter is 0.001 for Adam optimizer. Let's make it 0.01"
      ],
      "metadata": {
        "id": "ygdIVYde6SZm"
      }
    },
    {
      "cell_type": "code",
      "source": [
        "# Let's rebuild model\n",
        "\n",
        "# 1. Create a model \n",
        "model = tf.keras.Sequential([\n",
        "    tf.keras.layers.Dense(100, activation='relu'),\n",
        "    tf.keras.layers.Dense(100, activation='relu'),\n",
        "    tf.keras.layers.Dense(100, activation='relu'),\n",
        "    tf.keras.layers.Dense(1)\n",
        "])\n",
        "\n",
        "# 2. Compiling model\n",
        "model.compile(\n",
        "    loss=tf.keras.losses.mae,\n",
        "    optimizer=tf.keras.optimizers.Adam(learning_rate=0.01),\n",
        "    metrics=['mae']\n",
        ")\n",
        "\n",
        "# 3. Fit the model\n",
        "model.fit(tf.expand_dims(X, axis=-1), y, epochs=100)"
      ],
      "metadata": {
        "colab": {
          "base_uri": "https://localhost:8080/"
        },
        "id": "sVTn5bRf6SRn",
        "outputId": "da00b12a-2de2-4cb9-9e12-24e0994be5e2"
      },
      "execution_count": null,
      "outputs": [
        {
          "output_type": "stream",
          "name": "stdout",
          "text": [
            "Epoch 1/100\n",
            "1/1 [==============================] - 1s 911ms/step - loss: 13.5473 - mae: 13.5473\n",
            "Epoch 2/100\n",
            "1/1 [==============================] - 0s 10ms/step - loss: 11.3887 - mae: 11.3887\n",
            "Epoch 3/100\n",
            "1/1 [==============================] - 0s 10ms/step - loss: 8.7860 - mae: 8.7860\n",
            "Epoch 4/100\n",
            "1/1 [==============================] - 0s 10ms/step - loss: 5.3476 - mae: 5.3476\n",
            "Epoch 5/100\n",
            "1/1 [==============================] - 0s 13ms/step - loss: 5.2646 - mae: 5.2646\n",
            "Epoch 6/100\n",
            "1/1 [==============================] - 0s 10ms/step - loss: 6.6080 - mae: 6.6080\n",
            "Epoch 7/100\n",
            "1/1 [==============================] - 0s 13ms/step - loss: 5.8028 - mae: 5.8028\n",
            "Epoch 8/100\n",
            "1/1 [==============================] - 0s 13ms/step - loss: 4.4337 - mae: 4.4337\n",
            "Epoch 9/100\n",
            "1/1 [==============================] - 0s 15ms/step - loss: 3.7989 - mae: 3.7989\n",
            "Epoch 10/100\n",
            "1/1 [==============================] - 0s 14ms/step - loss: 4.6800 - mae: 4.6800\n",
            "Epoch 11/100\n",
            "1/1 [==============================] - 0s 12ms/step - loss: 4.8258 - mae: 4.8258\n",
            "Epoch 12/100\n",
            "1/1 [==============================] - 0s 14ms/step - loss: 4.1790 - mae: 4.1790\n",
            "Epoch 13/100\n",
            "1/1 [==============================] - 0s 15ms/step - loss: 3.5797 - mae: 3.5797\n",
            "Epoch 14/100\n",
            "1/1 [==============================] - 0s 15ms/step - loss: 3.6946 - mae: 3.6946\n",
            "Epoch 15/100\n",
            "1/1 [==============================] - 0s 11ms/step - loss: 4.0729 - mae: 4.0729\n",
            "Epoch 16/100\n",
            "1/1 [==============================] - 0s 11ms/step - loss: 4.0309 - mae: 4.0309\n",
            "Epoch 17/100\n",
            "1/1 [==============================] - 0s 11ms/step - loss: 3.5200 - mae: 3.5200\n",
            "Epoch 18/100\n",
            "1/1 [==============================] - 0s 12ms/step - loss: 3.2686 - mae: 3.2686\n",
            "Epoch 19/100\n",
            "1/1 [==============================] - 0s 13ms/step - loss: 3.1510 - mae: 3.1510\n",
            "Epoch 20/100\n",
            "1/1 [==============================] - 0s 12ms/step - loss: 3.1373 - mae: 3.1373\n",
            "Epoch 21/100\n",
            "1/1 [==============================] - 0s 12ms/step - loss: 2.9378 - mae: 2.9378\n",
            "Epoch 22/100\n",
            "1/1 [==============================] - 0s 12ms/step - loss: 2.5578 - mae: 2.5578\n",
            "Epoch 23/100\n",
            "1/1 [==============================] - 0s 12ms/step - loss: 2.4144 - mae: 2.4144\n",
            "Epoch 24/100\n",
            "1/1 [==============================] - 0s 12ms/step - loss: 2.2321 - mae: 2.2321\n",
            "Epoch 25/100\n",
            "1/1 [==============================] - 0s 12ms/step - loss: 1.8526 - mae: 1.8526\n",
            "Epoch 26/100\n",
            "1/1 [==============================] - 0s 12ms/step - loss: 1.8528 - mae: 1.8528\n",
            "Epoch 27/100\n",
            "1/1 [==============================] - 0s 12ms/step - loss: 1.7507 - mae: 1.7507\n",
            "Epoch 28/100\n",
            "1/1 [==============================] - 0s 12ms/step - loss: 1.1329 - mae: 1.1329\n",
            "Epoch 29/100\n",
            "1/1 [==============================] - 0s 12ms/step - loss: 0.7769 - mae: 0.7769\n",
            "Epoch 30/100\n",
            "1/1 [==============================] - 0s 12ms/step - loss: 1.0546 - mae: 1.0546\n",
            "Epoch 31/100\n",
            "1/1 [==============================] - 0s 11ms/step - loss: 1.4498 - mae: 1.4498\n",
            "Epoch 32/100\n",
            "1/1 [==============================] - 0s 11ms/step - loss: 0.5854 - mae: 0.5854\n",
            "Epoch 33/100\n",
            "1/1 [==============================] - 0s 12ms/step - loss: 1.4624 - mae: 1.4624\n",
            "Epoch 34/100\n",
            "1/1 [==============================] - 0s 13ms/step - loss: 1.4321 - mae: 1.4321\n",
            "Epoch 35/100\n",
            "1/1 [==============================] - 0s 12ms/step - loss: 0.6578 - mae: 0.6578\n",
            "Epoch 36/100\n",
            "1/1 [==============================] - 0s 12ms/step - loss: 0.2648 - mae: 0.2648\n",
            "Epoch 37/100\n",
            "1/1 [==============================] - 0s 11ms/step - loss: 0.8693 - mae: 0.8693\n",
            "Epoch 38/100\n",
            "1/1 [==============================] - 0s 12ms/step - loss: 0.4249 - mae: 0.4249\n",
            "Epoch 39/100\n",
            "1/1 [==============================] - 0s 11ms/step - loss: 1.0799 - mae: 1.0799\n",
            "Epoch 40/100\n",
            "1/1 [==============================] - 0s 13ms/step - loss: 0.1849 - mae: 0.1849\n",
            "Epoch 41/100\n",
            "1/1 [==============================] - 0s 11ms/step - loss: 2.0765 - mae: 2.0765\n",
            "Epoch 42/100\n",
            "1/1 [==============================] - 0s 11ms/step - loss: 2.1979 - mae: 2.1979\n",
            "Epoch 43/100\n",
            "1/1 [==============================] - 0s 11ms/step - loss: 0.6979 - mae: 0.6979\n",
            "Epoch 44/100\n",
            "1/1 [==============================] - 0s 11ms/step - loss: 1.8475 - mae: 1.8475\n",
            "Epoch 45/100\n",
            "1/1 [==============================] - 0s 11ms/step - loss: 2.7606 - mae: 2.7606\n",
            "Epoch 46/100\n",
            "1/1 [==============================] - 0s 11ms/step - loss: 2.6779 - mae: 2.6779\n",
            "Epoch 47/100\n",
            "1/1 [==============================] - 0s 11ms/step - loss: 1.6722 - mae: 1.6722\n",
            "Epoch 48/100\n",
            "1/1 [==============================] - 0s 11ms/step - loss: 0.4044 - mae: 0.4044\n",
            "Epoch 49/100\n",
            "1/1 [==============================] - 0s 11ms/step - loss: 1.2146 - mae: 1.2146\n",
            "Epoch 50/100\n",
            "1/1 [==============================] - 0s 10ms/step - loss: 0.7293 - mae: 0.7293\n",
            "Epoch 51/100\n",
            "1/1 [==============================] - 0s 10ms/step - loss: 0.9379 - mae: 0.9379\n",
            "Epoch 52/100\n",
            "1/1 [==============================] - 0s 11ms/step - loss: 1.2620 - mae: 1.2620\n",
            "Epoch 53/100\n",
            "1/1 [==============================] - 0s 11ms/step - loss: 0.7080 - mae: 0.7080\n",
            "Epoch 54/100\n",
            "1/1 [==============================] - 0s 11ms/step - loss: 0.8152 - mae: 0.8152\n",
            "Epoch 55/100\n",
            "1/1 [==============================] - 0s 11ms/step - loss: 1.2012 - mae: 1.2012\n",
            "Epoch 56/100\n",
            "1/1 [==============================] - 0s 15ms/step - loss: 0.4615 - mae: 0.4615\n",
            "Epoch 57/100\n",
            "1/1 [==============================] - 0s 13ms/step - loss: 1.1442 - mae: 1.1442\n",
            "Epoch 58/100\n",
            "1/1 [==============================] - 0s 13ms/step - loss: 1.6434 - mae: 1.6434\n",
            "Epoch 59/100\n",
            "1/1 [==============================] - 0s 11ms/step - loss: 1.2522 - mae: 1.2522\n",
            "Epoch 60/100\n",
            "1/1 [==============================] - 0s 10ms/step - loss: 0.2507 - mae: 0.2507\n",
            "Epoch 61/100\n",
            "1/1 [==============================] - 0s 10ms/step - loss: 1.9477 - mae: 1.9477\n",
            "Epoch 62/100\n",
            "1/1 [==============================] - 0s 10ms/step - loss: 2.5482 - mae: 2.5482\n",
            "Epoch 63/100\n",
            "1/1 [==============================] - 0s 13ms/step - loss: 1.9533 - mae: 1.9533\n",
            "Epoch 64/100\n",
            "1/1 [==============================] - 0s 10ms/step - loss: 0.6651 - mae: 0.6651\n",
            "Epoch 65/100\n",
            "1/1 [==============================] - 0s 11ms/step - loss: 1.5671 - mae: 1.5671\n",
            "Epoch 66/100\n",
            "1/1 [==============================] - 0s 11ms/step - loss: 2.4041 - mae: 2.4041\n",
            "Epoch 67/100\n",
            "1/1 [==============================] - 0s 11ms/step - loss: 2.4697 - mae: 2.4697\n",
            "Epoch 68/100\n",
            "1/1 [==============================] - 0s 11ms/step - loss: 1.8928 - mae: 1.8928\n",
            "Epoch 69/100\n",
            "1/1 [==============================] - 0s 11ms/step - loss: 0.7803 - mae: 0.7803\n",
            "Epoch 70/100\n",
            "1/1 [==============================] - 0s 11ms/step - loss: 1.2205 - mae: 1.2205\n",
            "Epoch 71/100\n",
            "1/1 [==============================] - 0s 11ms/step - loss: 2.0448 - mae: 2.0448\n",
            "Epoch 72/100\n",
            "1/1 [==============================] - 0s 11ms/step - loss: 1.7771 - mae: 1.7771\n",
            "Epoch 73/100\n",
            "1/1 [==============================] - 0s 11ms/step - loss: 0.6985 - mae: 0.6985\n",
            "Epoch 74/100\n",
            "1/1 [==============================] - 0s 11ms/step - loss: 1.0913 - mae: 1.0913\n",
            "Epoch 75/100\n",
            "1/1 [==============================] - 0s 10ms/step - loss: 1.8006 - mae: 1.8006\n",
            "Epoch 76/100\n",
            "1/1 [==============================] - 0s 10ms/step - loss: 1.7812 - mae: 1.7812\n",
            "Epoch 77/100\n",
            "1/1 [==============================] - 0s 11ms/step - loss: 1.1194 - mae: 1.1194\n",
            "Epoch 78/100\n",
            "1/1 [==============================] - 0s 12ms/step - loss: 0.2648 - mae: 0.2648\n",
            "Epoch 79/100\n",
            "1/1 [==============================] - 0s 12ms/step - loss: 1.1567 - mae: 1.1567\n",
            "Epoch 80/100\n",
            "1/1 [==============================] - 0s 11ms/step - loss: 1.1661 - mae: 1.1661\n",
            "Epoch 81/100\n",
            "1/1 [==============================] - 0s 12ms/step - loss: 0.3131 - mae: 0.3131\n",
            "Epoch 82/100\n",
            "1/1 [==============================] - 0s 12ms/step - loss: 1.1751 - mae: 1.1751\n",
            "Epoch 83/100\n",
            "1/1 [==============================] - 0s 12ms/step - loss: 1.7818 - mae: 1.7818\n",
            "Epoch 84/100\n",
            "1/1 [==============================] - 0s 12ms/step - loss: 1.7215 - mae: 1.7215\n",
            "Epoch 85/100\n",
            "1/1 [==============================] - 0s 11ms/step - loss: 1.0412 - mae: 1.0412\n",
            "Epoch 86/100\n",
            "1/1 [==============================] - 0s 11ms/step - loss: 0.3151 - mae: 0.3151\n",
            "Epoch 87/100\n",
            "1/1 [==============================] - 0s 12ms/step - loss: 0.8421 - mae: 0.8421\n",
            "Epoch 88/100\n",
            "1/1 [==============================] - 0s 11ms/step - loss: 0.5016 - mae: 0.5016\n",
            "Epoch 89/100\n",
            "1/1 [==============================] - 0s 11ms/step - loss: 0.6908 - mae: 0.6908\n",
            "Epoch 90/100\n",
            "1/1 [==============================] - 0s 11ms/step - loss: 0.9781 - mae: 0.9781\n",
            "Epoch 91/100\n",
            "1/1 [==============================] - 0s 11ms/step - loss: 0.6889 - mae: 0.6889\n",
            "Epoch 92/100\n",
            "1/1 [==============================] - 0s 11ms/step - loss: 0.4080 - mae: 0.4080\n",
            "Epoch 93/100\n",
            "1/1 [==============================] - 0s 12ms/step - loss: 0.5676 - mae: 0.5676\n",
            "Epoch 94/100\n",
            "1/1 [==============================] - 0s 12ms/step - loss: 0.1191 - mae: 0.1191\n",
            "Epoch 95/100\n",
            "1/1 [==============================] - 0s 11ms/step - loss: 0.5684 - mae: 0.5684\n",
            "Epoch 96/100\n",
            "1/1 [==============================] - 0s 11ms/step - loss: 0.4377 - mae: 0.4377\n",
            "Epoch 97/100\n",
            "1/1 [==============================] - 0s 11ms/step - loss: 0.3576 - mae: 0.3576\n",
            "Epoch 98/100\n",
            "1/1 [==============================] - 0s 11ms/step - loss: 0.3819 - mae: 0.3819\n",
            "Epoch 99/100\n",
            "1/1 [==============================] - 0s 10ms/step - loss: 0.3314 - mae: 0.3314\n",
            "Epoch 100/100\n",
            "1/1 [==============================] - 0s 10ms/step - loss: 0.2237 - mae: 0.2237\n"
          ]
        },
        {
          "output_type": "execute_result",
          "data": {
            "text/plain": [
              "<keras.callbacks.History at 0x7f8c2997e370>"
            ]
          },
          "metadata": {},
          "execution_count": 283
        }
      ]
    },
    {
      "cell_type": "code",
      "source": [
        "# Remind the data\n",
        "X, y"
      ],
      "metadata": {
        "colab": {
          "base_uri": "https://localhost:8080/"
        },
        "id": "OY2ducXx6SPc",
        "outputId": "c85f12ed-576a-445d-b8f1-a2988b7b3c9e"
      },
      "execution_count": null,
      "outputs": [
        {
          "output_type": "execute_result",
          "data": {
            "text/plain": [
              "(<tf.Tensor: shape=(8,), dtype=float64, numpy=array([-7., -4., -1.,  2.,  5.,  8., 11., 14.])>,\n",
              " <tf.Tensor: shape=(8,), dtype=float64, numpy=array([ 3.,  6.,  9., 12., 15., 18., 21., 24.])>)"
            ]
          },
          "metadata": {},
          "execution_count": 284
        }
      ]
    },
    {
      "cell_type": "code",
      "source": [
        "# Make a prediction\n",
        "model.predict([17.0])"
      ],
      "metadata": {
        "colab": {
          "base_uri": "https://localhost:8080/"
        },
        "id": "BoczlBnp6SMu",
        "outputId": "112bd2b4-ac80-4a2b-94ca-c0659c0de161"
      },
      "execution_count": null,
      "outputs": [
        {
          "output_type": "stream",
          "name": "stdout",
          "text": [
            "1/1 [==============================] - 0s 89ms/step\n"
          ]
        },
        {
          "output_type": "execute_result",
          "data": {
            "text/plain": [
              "array([[28.542944]], dtype=float32)"
            ]
          },
          "metadata": {},
          "execution_count": 285
        }
      ]
    },
    {
      "cell_type": "markdown",
      "source": [
        "Woowww.. It's look the best prediction.."
      ],
      "metadata": {
        "id": "Bscu82sZ6R7k"
      }
    },
    {
      "cell_type": "markdown",
      "source": [
        "### Common ways to improve a deep model\n",
        "\n",
        "* Adding more hidden layers\n",
        "* Adding more neurons\n",
        "* Change the activation function\n",
        "* Change the optimization function\n",
        "* Change the learning rate\n",
        "* Fitting for longer (increase number of epoch)\n",
        "* Fitting on more data"
      ],
      "metadata": {
        "id": "bwsdnptQ2iFC"
      }
    },
    {
      "cell_type": "markdown",
      "source": [
        "## Evaluating a model\n",
        "\n",
        "In practice, a typical workflow  you'll go through when building neural networks is:\n",
        "\n",
        "```\n",
        "Build a model -> Fit it -> Evaluate it -> Tweak a model -> Fit it -> Evaluate it -> Tweak a model -> Fit it -> Evaluate it -> Tweak a model -> Fit it -> Evaluate it ```"
      ],
      "metadata": {
        "id": "_SPSH0Nc4rqr"
      }
    },
    {
      "cell_type": "markdown",
      "source": [
        "When it comes to evaluation. There are 3 words you memorized:\n",
        "\n",
        "> 'Visualize, Visualize, Visualize...'\n",
        "\n",
        "It is a good idea to visualize:\n",
        "* The data - What data are we working with? What does it look like?\n",
        "* The model itself - What does model look like?\n",
        "* Traning of a model - How does a model perform while it learns?\n",
        "* Prediction of the model -  How do the predictions of a model line up aganist the truth?"
      ],
      "metadata": {
        "id": "JGDJcr2P8A5R"
      }
    },
    {
      "cell_type": "code",
      "source": [
        "# Make a bigger dataset\n",
        "X = tf.range(-100, 100, 4)\n",
        "X"
      ],
      "metadata": {
        "colab": {
          "base_uri": "https://localhost:8080/"
        },
        "id": "P2nA42oGlEgv",
        "outputId": "a062283a-dc25-4dc9-9f52-36dc73a4cc60"
      },
      "execution_count": null,
      "outputs": [
        {
          "output_type": "execute_result",
          "data": {
            "text/plain": [
              "<tf.Tensor: shape=(50,), dtype=int32, numpy=\n",
              "array([-100,  -96,  -92,  -88,  -84,  -80,  -76,  -72,  -68,  -64,  -60,\n",
              "        -56,  -52,  -48,  -44,  -40,  -36,  -32,  -28,  -24,  -20,  -16,\n",
              "        -12,   -8,   -4,    0,    4,    8,   12,   16,   20,   24,   28,\n",
              "         32,   36,   40,   44,   48,   52,   56,   60,   64,   68,   72,\n",
              "         76,   80,   84,   88,   92,   96], dtype=int32)>"
            ]
          },
          "metadata": {},
          "execution_count": 286
        }
      ]
    },
    {
      "cell_type": "code",
      "source": [
        "# make labels for dataset\n",
        "y = X + 10\n",
        "y"
      ],
      "metadata": {
        "colab": {
          "base_uri": "https://localhost:8080/"
        },
        "id": "IgWEHAe7lG3C",
        "outputId": "cbe43629-0c5a-409a-e29b-6ddc88a3aa67"
      },
      "execution_count": null,
      "outputs": [
        {
          "output_type": "execute_result",
          "data": {
            "text/plain": [
              "<tf.Tensor: shape=(50,), dtype=int32, numpy=\n",
              "array([-90, -86, -82, -78, -74, -70, -66, -62, -58, -54, -50, -46, -42,\n",
              "       -38, -34, -30, -26, -22, -18, -14, -10,  -6,  -2,   2,   6,  10,\n",
              "        14,  18,  22,  26,  30,  34,  38,  42,  46,  50,  54,  58,  62,\n",
              "        66,  70,  74,  78,  82,  86,  90,  94,  98, 102, 106], dtype=int32)>"
            ]
          },
          "metadata": {},
          "execution_count": 287
        }
      ]
    },
    {
      "cell_type": "code",
      "source": [
        "# Plot data\n",
        "plt.scatter(X, y)\n",
        "plt.xlabel('X')\n",
        "plt.ylabel('y')\n",
        "plt.show()"
      ],
      "metadata": {
        "colab": {
          "base_uri": "https://localhost:8080/",
          "height": 449
        },
        "id": "O33QBoDPmIC3",
        "outputId": "9bbcb879-6039-4117-d94f-1ad13aa17eaf"
      },
      "execution_count": null,
      "outputs": [
        {
          "output_type": "display_data",
          "data": {
            "text/plain": [
              "<Figure size 640x480 with 1 Axes>"
            ],
            "image/png": "[encoded data removed]"
          },
          "metadata": {}
        }
      ]
    },
    {
      "cell_type": "markdown",
      "source": [
        "### The three sets\n",
        "\n",
        "* **Train set** - The model learns from this data, which is typically 70-80% of total data\n",
        "* **Validation set** - The model gets tuned on this data which is typically 10-15% of total data\n",
        "* **Test set** - The model gets evaulated on this data to test what is has learned, which is typically 10-15% of total data\n"
      ],
      "metadata": {
        "id": "uDbreGfPmWUP"
      }
    },
    {
      "cell_type": "code",
      "source": [
        "# Check the lenth of how many data we have\n",
        "len(X)"
      ],
      "metadata": {
        "colab": {
          "base_uri": "https://localhost:8080/"
        },
        "id": "HdLMPbdeurWr",
        "outputId": "b9677331-8f6f-41e3-afff-ff8294f30dce"
      },
      "execution_count": null,
      "outputs": [
        {
          "output_type": "execute_result",
          "data": {
            "text/plain": [
              "50"
            ]
          },
          "metadata": {},
          "execution_count": 289
        }
      ]
    },
    {
      "cell_type": "code",
      "source": [
        "# Split the data into train and test set\n",
        "X_train = X[:40] # first 40 are train samples (80% of our data)\n",
        "y_train = y[:40]\n",
        "            \n",
        "X_test = X[40:] # last 10 are test samples (20% of our data)\n",
        "y_test = y[40:]\n",
        "\n",
        "len(X_train), len(X_test)"
      ],
      "metadata": {
        "colab": {
          "base_uri": "https://localhost:8080/"
        },
        "id": "KPe_rfukw3BO",
        "outputId": "01881ac3-7a61-41d7-ffc9-8100a8f48d28"
      },
      "execution_count": null,
      "outputs": [
        {
          "output_type": "execute_result",
          "data": {
            "text/plain": [
              "(40, 10)"
            ]
          },
          "metadata": {},
          "execution_count": 290
        }
      ]
    },
    {
      "cell_type": "markdown",
      "source": [
        "### Visualizing data \n",
        "\n",
        "Now we've got our data in train and test sets. Let's visualize it again."
      ],
      "metadata": {
        "id": "M7yCs5iVyP43"
      }
    },
    {
      "cell_type": "code",
      "source": [
        "# plot training data in blue\n",
        "plt.scatter(X_train, y_train, c='b', label='train-set')\n",
        "# plot test data in red\n",
        "plt.scatter(X_test, y_test, c='r', label='test-set')\n",
        "# show legend\n",
        "plt.legend()\n",
        "plt.xlabel('X')\n",
        "plt.ylabel('y')\n",
        "plt.show()"
      ],
      "metadata": {
        "colab": {
          "base_uri": "https://localhost:8080/",
          "height": 449
        },
        "id": "6zKkqtH5zH3v",
        "outputId": "d1c09e98-05b1-4243-88a8-a2818b0f9e65"
      },
      "execution_count": null,
      "outputs": [
        {
          "output_type": "display_data",
          "data": {
            "text/plain": [
              "<Figure size 640x480 with 1 Axes>"
            ],
            "image/png": "[encoded data removed]"
          },
          "metadata": {}
        }
      ]
    },
    {
      "cell_type": "code",
      "source": [
        "# Let's build a neural network for our data\n",
        "\n",
        "# 1.Create a model\n",
        "model = tf.keras.Sequential([\n",
        "    tf.keras.layers.Dense(1)\n",
        "])\n",
        "\n",
        "# 2.Compiling model\n",
        "model.compile(\n",
        "    loss=tf.keras.losses.mae,\n",
        "    optimizer=tf.keras.optimizers.SGD(),\n",
        "    metrics=['mae']\n",
        ")\n",
        "\n",
        "# 3.Fit the model\n",
        "# model.fit(tf.expand_dims(X, axis=-1), y, epochs=100) # Pass this part and check what will happen if we summary the model"
      ],
      "metadata": {
        "id": "6PIqmS7BzY1t"
      },
      "execution_count": null,
      "outputs": []
    },
    {
      "cell_type": "markdown",
      "source": [
        "### Visulazing the model\n"
      ],
      "metadata": {
        "id": "vS0c9GOzAbPF"
      }
    },
    {
      "cell_type": "code",
      "source": [
        "model.summary()"
      ],
      "metadata": {
        "colab": {
          "base_uri": "https://localhost:8080/",
          "height": 287
        },
        "id": "6zyT7yn5AVit",
        "outputId": "fa78788e-edd8-4e18-84f1-9f239edbf52d"
      },
      "execution_count": null,
      "outputs": [
        {
          "output_type": "error",
          "ename": "ValueError",
          "evalue": "ignored",
          "traceback": [
            "\u001b[0;31m---------------------------------------------------------------------------\u001b[0m",
            "\u001b[0;31mValueError\u001b[0m                                Traceback (most recent call last)",
            "\u001b[0;32m<ipython-input-293-5f15418b3570>\u001b[0m in \u001b[0;36m<cell line: 1>\u001b[0;34m()\u001b[0m\n\u001b[0;32m----> 1\u001b[0;31m \u001b[0mmodel\u001b[0m\u001b[0;34m.\u001b[0m\u001b[0msummary\u001b[0m\u001b[0;34m(\u001b[0m\u001b[0;34m)\u001b[0m\u001b[0;34m\u001b[0m\u001b[0;34m\u001b[0m\u001b[0m\n\u001b[0m",
            "\u001b[0;32m/usr/local/lib/python3.9/dist-packages/keras/engine/training.py\u001b[0m in \u001b[0;36msummary\u001b[0;34m(self, line_length, positions, print_fn, expand_nested, show_trainable, layer_range)\u001b[0m\n\u001b[1;32m   3227\u001b[0m         \"\"\"\n\u001b[1;32m   3228\u001b[0m         \u001b[0;32mif\u001b[0m \u001b[0;32mnot\u001b[0m \u001b[0mself\u001b[0m\u001b[0;34m.\u001b[0m\u001b[0mbuilt\u001b[0m\u001b[0;34m:\u001b[0m\u001b[0;34m\u001b[0m\u001b[0;34m\u001b[0m\u001b[0m\n\u001b[0;32m-> 3229\u001b[0;31m             raise ValueError(\n\u001b[0m\u001b[1;32m   3230\u001b[0m                 \u001b[0;34m\"This model has not yet been built. \"\u001b[0m\u001b[0;34m\u001b[0m\u001b[0;34m\u001b[0m\u001b[0m\n\u001b[1;32m   3231\u001b[0m                 \u001b[0;34m\"Build the model first by calling `build()` or by calling \"\u001b[0m\u001b[0;34m\u001b[0m\u001b[0;34m\u001b[0m\u001b[0m\n",
            "\u001b[0;31mValueError\u001b[0m: This model has not yet been built. Build the model first by calling `build()` or by calling the model on a batch of data."
          ]
        }
      ]
    },
    {
      "cell_type": "code",
      "source": [
        "# Let's create a model which builds automatically by defining the input_shape argument\n",
        "tf.random.set_seed(42)\n",
        "\n",
        "# 1. Create a model (same as above we just add input_shape in Dense)\n",
        "model = tf.keras.Sequential([\n",
        "    tf.keras.layers.Dense(15, input_shape=[1], name='input_layer'),\n",
        "    tf.keras.layers.Dense(1, name='output_layer')\n",
        "], name='model_1')\n",
        "\n",
        "# 2. Compiling model\n",
        "model.compile(\n",
        "    loss=tf.keras.losses.mae,\n",
        "    optimizer=tf.keras.optimizers.SGD(),\n",
        "    metrics=['mae']\n",
        ")"
      ],
      "metadata": {
        "id": "SsPjpAsYAj9d"
      },
      "execution_count": null,
      "outputs": []
    },
    {
      "cell_type": "code",
      "source": [
        "model.summary()"
      ],
      "metadata": {
        "colab": {
          "base_uri": "https://localhost:8080/"
        },
        "id": "W5oh5OXxDTAT",
        "outputId": "3ae73d1b-9948-4122-93d8-38cf6cf1f483"
      },
      "execution_count": null,
      "outputs": [
        {
          "output_type": "stream",
          "name": "stdout",
          "text": [
            "Model: \"model_1\"\n",
            "_________________________________________________________________\n",
            " Layer (type)                Output Shape              Param #   \n",
            "=================================================================\n",
            " input_layer (Dense)         (None, 15)                30        \n",
            "                                                                 \n",
            " output_layer (Dense)        (None, 1)                 16        \n",
            "                                                                 \n",
            "=================================================================\n",
            "Total params: 46\n",
            "Trainable params: 46\n",
            "Non-trainable params: 0\n",
            "_________________________________________________________________\n"
          ]
        }
      ]
    },
    {
      "cell_type": "markdown",
      "source": [
        "Woww. Its work, now. But, what does it mean?\n",
        "\n",
        "* **Total params** - Total number of parameters in the model\n",
        "* **Trainable params** - These are the parameters that model can update as it trains.\n",
        "* **Non-traianble params** - These are the parameters that model can not update (this is typical when you bring in already learn parameters from other models during transfer learning)"
      ],
      "metadata": {
        "id": "gO2Hw6UnDqMK"
      }
    },
    {
      "cell_type": "code",
      "source": [
        "# Fit the model with training data\n",
        "model.fit(tf.expand_dims(X_train, axis=-1), y_train, epochs=100, verbose=0) # verbose=0 means that dont show the progress bar as output"
      ],
      "metadata": {
        "colab": {
          "base_uri": "https://localhost:8080/"
        },
        "id": "1FXHOOZeH-_w",
        "outputId": "8239fa3e-1177-48c3-848c-9a758c7d5ce9"
      },
      "execution_count": null,
      "outputs": [
        {
          "output_type": "execute_result",
          "data": {
            "text/plain": [
              "<keras.callbacks.History at 0x7f8c27ebe7c0>"
            ]
          },
          "metadata": {},
          "execution_count": 296
        }
      ]
    },
    {
      "cell_type": "code",
      "source": [
        "# Get the summary of the model\n",
        "model.summary()"
      ],
      "metadata": {
        "id": "rwG_wSE3RWLG",
        "colab": {
          "base_uri": "https://localhost:8080/"
        },
        "outputId": "41f56460-2ff8-419c-cc1d-dc657ec2001d"
      },
      "execution_count": null,
      "outputs": [
        {
          "output_type": "stream",
          "name": "stdout",
          "text": [
            "Model: \"model_1\"\n",
            "_________________________________________________________________\n",
            " Layer (type)                Output Shape              Param #   \n",
            "=================================================================\n",
            " input_layer (Dense)         (None, 15)                30        \n",
            "                                                                 \n",
            " output_layer (Dense)        (None, 1)                 16        \n",
            "                                                                 \n",
            "=================================================================\n",
            "Total params: 46\n",
            "Trainable params: 46\n",
            "Non-trainable params: 0\n",
            "_________________________________________________________________\n"
          ]
        }
      ]
    },
    {
      "cell_type": "code",
      "source": [
        "from tensorflow.keras.utils import plot_model\n",
        "\n",
        "plot_model(model=model, show_shapes=True)"
      ],
      "metadata": {
        "colab": {
          "base_uri": "https://localhost:8080/",
          "height": 312
        },
        "id": "7-CFunf0NGrA",
        "outputId": "5e522c35-1629-459a-8890-6d7bd464849d"
      },
      "execution_count": null,
      "outputs": [
        {
          "output_type": "execute_result",
          "data": {
            "image/png": "[encoded data removed]",
            "text/plain": [
              "<IPython.core.display.Image object>"
            ]
          },
          "metadata": {},
          "execution_count": 298
        }
      ]
    },
    {
      "cell_type": "markdown",
      "source": [
        "### Visulazing our model's predictions\n",
        "\n",
        "To visualize the predictions, it is good idea to plot them against the truth labels.\n",
        "\n",
        "We generally call this as `y_preds`, `y_test` and `y_true`"
      ],
      "metadata": {
        "id": "m5tFEImVOhZh"
      }
    },
    {
      "cell_type": "code",
      "source": [
        "# Make some predictions\n",
        "y_pred = model.predict(X_test)\n",
        "y_pred"
      ],
      "metadata": {
        "colab": {
          "base_uri": "https://localhost:8080/"
        },
        "id": "6dmUAyDAQ-2B",
        "outputId": "c121ab3e-27d6-4aa2-8436-a3e80addacfa"
      },
      "execution_count": null,
      "outputs": [
        {
          "output_type": "stream",
          "name": "stdout",
          "text": [
            "1/1 [==============================] - 0s 57ms/step\n"
          ]
        },
        {
          "output_type": "execute_result",
          "data": {
            "text/plain": [
              "array([[ 76.53106 ],\n",
              "       [ 81.5165  ],\n",
              "       [ 86.501945],\n",
              "       [ 91.48739 ],\n",
              "       [ 96.47283 ],\n",
              "       [101.458275],\n",
              "       [106.44372 ],\n",
              "       [111.42917 ],\n",
              "       [116.4146  ],\n",
              "       [121.40005 ]], dtype=float32)"
            ]
          },
          "metadata": {},
          "execution_count": 299
        }
      ]
    },
    {
      "cell_type": "code",
      "source": [
        "# Let's create a plotting function\n",
        "def plot_prediction(train_data=X_train, train_labels=y_train, \n",
        "     test_data=X_test, test_labels=y_test, predictions=y_pred):\n",
        "  \n",
        "  '''Ploting train data, test data and compare predictions with actual values'''\n",
        "\n",
        "  # Plot training data in blue\n",
        "  plt.scatter(train_data, train_labels, c='b', label='Training data')\n",
        "  # Plot test data in green\n",
        "  plt.scatter(test_data, test_labels, c='g', label='Test data')\n",
        "  # Plot model in red\n",
        "  plt.scatter(test_data, predictions, c='r', label='Prediction')\n",
        "  # Show legend and plot\n",
        "  plt.legend()\n",
        "  plt.show()"
      ],
      "metadata": {
        "id": "mUaiAu1kSbsF"
      },
      "execution_count": null,
      "outputs": []
    },
    {
      "cell_type": "code",
      "source": [
        "plot_prediction(train_data=X_train,\n",
        "                train_labels=y_train,\n",
        "                test_data=X_test,\n",
        "                test_labels=y_test,\n",
        "                predictions=y_pred)"
      ],
      "metadata": {
        "colab": {
          "base_uri": "https://localhost:8080/",
          "height": 430
        },
        "id": "HTyT20V0StaZ",
        "outputId": "7855f78d-db51-4b67-de2b-21cf612575f5"
      },
      "execution_count": null,
      "outputs": [
        {
          "output_type": "display_data",
          "data": {
            "text/plain": [
              "<Figure size 640x480 with 1 Axes>"
            ],
            "image/png": "[encoded data removed]"
          },
          "metadata": {}
        }
      ]
    },
    {
      "cell_type": "markdown",
      "source": [
        "### Evaluating our model's predictions with regression evaluation metrics\n",
        "\n",
        "Depending problem you are working on, there will be different evaluation metrics to evaluate your model's performance.\n",
        "\n",
        "There are two main metrics for regression problem:\n",
        "* MAE - mean absolute error, on average, how wrong is each of model's predictions\n",
        "* MSE - mean square error, 'square the average errors'"
      ],
      "metadata": {
        "id": "plsHq7VJV6FC"
      }
    },
    {
      "cell_type": "code",
      "source": [
        "  # Evaluate the model on the test set\n",
        "  model.evaluate(X_test, y_test)"
      ],
      "metadata": {
        "id": "QwdPED17XEGR",
        "colab": {
          "base_uri": "https://localhost:8080/"
        },
        "outputId": "a59eff0d-57a9-42dd-e82a-80e5b3e29a77"
      },
      "execution_count": null,
      "outputs": [
        {
          "output_type": "stream",
          "name": "stdout",
          "text": [
            "1/1 [==============================] - 0s 123ms/step - loss: 10.9656 - mae: 10.9656\n"
          ]
        },
        {
          "output_type": "execute_result",
          "data": {
            "text/plain": [
              "[10.965551376342773, 10.965551376342773]"
            ]
          },
          "metadata": {},
          "execution_count": 302
        }
      ]
    },
    {
      "cell_type": "code",
      "source": [
        "# Calculate the mean absolute error\n",
        "mae = tf.keras.losses.mean_absolute_error(y_true=y_test, \n",
        "                                    y_pred=tf.squeeze(y_pred)) # we used tf.squeeze for y_pred becase shape of y_pred is not same with y_test\n",
        "mae"
      ],
      "metadata": {
        "colab": {
          "base_uri": "https://localhost:8080/"
        },
        "id": "ZSjtT6U1XFi8",
        "outputId": "fbdbd291-942e-488e-8b71-79e374477252"
      },
      "execution_count": null,
      "outputs": [
        {
          "output_type": "execute_result",
          "data": {
            "text/plain": [
              "<tf.Tensor: shape=(), dtype=float32, numpy=10.965553>"
            ]
          },
          "metadata": {},
          "execution_count": 303
        }
      ]
    },
    {
      "cell_type": "code",
      "source": [
        "# Calculate the mean square error\n",
        "mse = tf.keras.losses.mean_squared_error(y_true=y_test, \n",
        "                                    y_pred=tf.squeeze(y_pred))\n",
        "mse"
      ],
      "metadata": {
        "colab": {
          "base_uri": "https://localhost:8080/"
        },
        "id": "6O7sljtjrKr4",
        "outputId": "fc90b632-64cd-4e60-c947-974b20bb1e4c"
      },
      "execution_count": null,
      "outputs": [
        {
          "output_type": "execute_result",
          "data": {
            "text/plain": [
              "<tf.Tensor: shape=(), dtype=float32, numpy=128.25491>"
            ]
          },
          "metadata": {},
          "execution_count": 304
        }
      ]
    },
    {
      "cell_type": "code",
      "source": [
        "# Make some functions to reuse MAE and MSE\n",
        "def mae(y_true, y_pred):\n",
        "  return tf.keras.losses.mean_absolute_error(y_true, tf.squeeze(y_pred)).numpy()\n",
        "\n",
        "def mse(y_true, y_pred):\n",
        "  return tf.keras.losses.mean_squared_error(y_true, tf.squeeze(y_pred)).numpy()"
      ],
      "metadata": {
        "id": "CpjbyUaZr-gg"
      },
      "execution_count": null,
      "outputs": []
    },
    {
      "cell_type": "code",
      "source": [
        "# MAE and MSE\n",
        "print(f'Mean Absolute Error (MAE): {mae(y_test, y_pred)}')\n",
        "print(f'Mean Square Error (MSE): {mse(y_test, y_pred)}')"
      ],
      "metadata": {
        "colab": {
          "base_uri": "https://localhost:8080/"
        },
        "id": "AFz_O7B0ufog",
        "outputId": "97b0b750-c0f0-4ff9-d748-7fc0adebd3b6"
      },
      "execution_count": null,
      "outputs": [
        {
          "output_type": "stream",
          "name": "stdout",
          "text": [
            "Mean Absolute Error (MAE): 10.965553283691406\n",
            "Mean Square Error (MSE): 128.25491333007812\n"
          ]
        }
      ]
    },
    {
      "cell_type": "markdown",
      "source": [
        "### Running experiments to improve model\n",
        "\n",
        "``` \n",
        "Build a model -> Fit it -> Evaluate it -> Tweak it -> Fit it -> Evaluate it -> tweak it -> Evaluate it\n",
        "```\n",
        "\n",
        "1. Get more data - get more examples for your model to train on.\n",
        "2. Make your model larger (using more complex model) - this might come in the form more layers on more neoron\n",
        "3. Train for longer - give your model more of a chance to find patterns in the data\n",
        "\n",
        "Let's do 3 modelling experiments:\n",
        "\n",
        "1. `model_1` - same as the original model, 1 layer, trained for 100 eepochs\n",
        "2. `model_2` - 2 layers, trained for 100 epochs\n",
        "3. `model_3` - 2 layers, trained for 500 epochs\n",
        "\n",
        "**Build `model_1`**"
      ],
      "metadata": {
        "id": "qfI6iHOgumRI"
      }
    },
    {
      "cell_type": "code",
      "source": [
        "# set random seed\n",
        "tf.random.set_seed(42)\n",
        "\n",
        "# 1. Create the model\n",
        "model_1 = tf.keras.Sequential([\n",
        "    tf.keras.layers.Dense(1)\n",
        "])\n",
        "\n",
        "# 2. Compile the model\n",
        "model_1.compile(\n",
        "     loss=tf.keras.losses.mae,\n",
        "     optimizer=tf.keras.optimizers.SGD(),\n",
        "     metrics=['mae']\n",
        ")\n",
        "\n",
        "# 3. Fit the model\n",
        "model_1.fit(tf.expand_dims(X_train, axis=-1), y_train, epochs=100)"
      ],
      "metadata": {
        "colab": {
          "base_uri": "https://localhost:8080/"
        },
        "id": "iZqzUBMeu07Y",
        "outputId": "7a6348ba-2fb9-4b50-85b5-2739f76ebe34"
      },
      "execution_count": null,
      "outputs": [
        {
          "output_type": "stream",
          "name": "stdout",
          "text": [
            "Epoch 1/100\n",
            "2/2 [==============================] - 0s 12ms/step - loss: 86.3113 - mae: 86.3113\n",
            "Epoch 2/100\n",
            "2/2 [==============================] - 0s 11ms/step - loss: 50.8558 - mae: 50.8558\n",
            "Epoch 3/100\n",
            "2/2 [==============================] - 0s 9ms/step - loss: 15.7725 - mae: 15.7725\n",
            "Epoch 4/100\n",
            "2/2 [==============================] - 0s 8ms/step - loss: 8.3484 - mae: 8.3484\n",
            "Epoch 5/100\n",
            "2/2 [==============================] - 0s 6ms/step - loss: 11.1574 - mae: 11.1574\n",
            "Epoch 6/100\n",
            "2/2 [==============================] - 0s 8ms/step - loss: 10.3048 - mae: 10.3048\n",
            "Epoch 7/100\n",
            "2/2 [==============================] - 0s 8ms/step - loss: 9.3048 - mae: 9.3048\n",
            "Epoch 8/100\n",
            "2/2 [==============================] - 0s 7ms/step - loss: 9.2144 - mae: 9.2144\n",
            "Epoch 9/100\n",
            "2/2 [==============================] - 0s 7ms/step - loss: 11.8645 - mae: 11.8645\n",
            "Epoch 10/100\n",
            "2/2 [==============================] - 0s 8ms/step - loss: 13.8039 - mae: 13.8039\n",
            "Epoch 11/100\n",
            "2/2 [==============================] - 0s 7ms/step - loss: 11.9030 - mae: 11.9030\n",
            "Epoch 12/100\n",
            "2/2 [==============================] - 0s 9ms/step - loss: 16.3003 - mae: 16.3003\n",
            "Epoch 13/100\n",
            "2/2 [==============================] - 0s 7ms/step - loss: 11.8756 - mae: 11.8756\n",
            "Epoch 14/100\n",
            "2/2 [==============================] - 0s 7ms/step - loss: 13.7750 - mae: 13.7750\n",
            "Epoch 15/100\n",
            "2/2 [==============================] - 0s 6ms/step - loss: 11.1590 - mae: 11.1590\n",
            "Epoch 16/100\n",
            "2/2 [==============================] - 0s 7ms/step - loss: 8.6418 - mae: 8.6418\n",
            "Epoch 17/100\n",
            "2/2 [==============================] - 0s 7ms/step - loss: 13.8450 - mae: 13.8450\n",
            "Epoch 18/100\n",
            "2/2 [==============================] - 0s 7ms/step - loss: 11.7192 - mae: 11.7192\n",
            "Epoch 19/100\n",
            "2/2 [==============================] - 0s 8ms/step - loss: 17.6534 - mae: 17.6534\n",
            "Epoch 20/100\n",
            "2/2 [==============================] - 0s 7ms/step - loss: 14.7900 - mae: 14.7900\n",
            "Epoch 21/100\n",
            "2/2 [==============================] - 0s 6ms/step - loss: 10.7199 - mae: 10.7199\n",
            "Epoch 22/100\n",
            "2/2 [==============================] - 0s 6ms/step - loss: 8.4543 - mae: 8.4543\n",
            "Epoch 23/100\n",
            "2/2 [==============================] - 0s 9ms/step - loss: 9.8692 - mae: 9.8692\n",
            "Epoch 24/100\n",
            "2/2 [==============================] - 0s 9ms/step - loss: 15.9093 - mae: 15.9093\n",
            "Epoch 25/100\n",
            "2/2 [==============================] - 0s 11ms/step - loss: 12.3039 - mae: 12.3039\n",
            "Epoch 26/100\n",
            "2/2 [==============================] - 0s 11ms/step - loss: 13.4686 - mae: 13.4686\n",
            "Epoch 27/100\n",
            "2/2 [==============================] - 0s 7ms/step - loss: 10.8609 - mae: 10.8609\n",
            "Epoch 28/100\n",
            "2/2 [==============================] - 0s 7ms/step - loss: 13.1771 - mae: 13.1771\n",
            "Epoch 29/100\n",
            "2/2 [==============================] - 0s 7ms/step - loss: 9.5877 - mae: 9.5877\n",
            "Epoch 30/100\n",
            "2/2 [==============================] - 0s 7ms/step - loss: 16.8484 - mae: 16.8484\n",
            "Epoch 31/100\n",
            "2/2 [==============================] - 0s 7ms/step - loss: 23.2013 - mae: 23.2013\n",
            "Epoch 32/100\n",
            "2/2 [==============================] - 0s 7ms/step - loss: 7.3299 - mae: 7.3299\n",
            "Epoch 33/100\n",
            "2/2 [==============================] - 0s 8ms/step - loss: 10.5023 - mae: 10.5023\n",
            "Epoch 34/100\n",
            "2/2 [==============================] - 0s 9ms/step - loss: 9.7891 - mae: 9.7891\n",
            "Epoch 35/100\n",
            "2/2 [==============================] - 0s 9ms/step - loss: 8.3969 - mae: 8.3969\n",
            "Epoch 36/100\n",
            "2/2 [==============================] - 0s 7ms/step - loss: 8.5425 - mae: 8.5425\n",
            "Epoch 37/100\n",
            "2/2 [==============================] - 0s 8ms/step - loss: 8.6001 - mae: 8.6001\n",
            "Epoch 38/100\n",
            "2/2 [==============================] - 0s 7ms/step - loss: 9.2448 - mae: 9.2448\n",
            "Epoch 39/100\n",
            "2/2 [==============================] - 0s 7ms/step - loss: 10.1482 - mae: 10.1482\n",
            "Epoch 40/100\n",
            "2/2 [==============================] - 0s 8ms/step - loss: 9.7527 - mae: 9.7527\n",
            "Epoch 41/100\n",
            "2/2 [==============================] - 0s 8ms/step - loss: 8.1074 - mae: 8.1074\n",
            "Epoch 42/100\n",
            "2/2 [==============================] - 0s 7ms/step - loss: 10.4675 - mae: 10.4675\n",
            "Epoch 43/100\n",
            "2/2 [==============================] - 0s 8ms/step - loss: 7.9822 - mae: 7.9822\n",
            "Epoch 44/100\n",
            "2/2 [==============================] - 0s 8ms/step - loss: 17.5460 - mae: 17.5460\n",
            "Epoch 45/100\n",
            "2/2 [==============================] - 0s 7ms/step - loss: 13.3903 - mae: 13.3903\n",
            "Epoch 46/100\n",
            "2/2 [==============================] - 0s 7ms/step - loss: 8.1315 - mae: 8.1315\n",
            "Epoch 47/100\n",
            "2/2 [==============================] - 0s 11ms/step - loss: 8.8774 - mae: 8.8774\n",
            "Epoch 48/100\n",
            "2/2 [==============================] - 0s 8ms/step - loss: 10.2270 - mae: 10.2270\n",
            "Epoch 49/100\n",
            "2/2 [==============================] - 0s 8ms/step - loss: 7.1129 - mae: 7.1129\n",
            "Epoch 50/100\n",
            "2/2 [==============================] - 0s 8ms/step - loss: 9.1234 - mae: 9.1234\n",
            "Epoch 51/100\n",
            "2/2 [==============================] - 0s 6ms/step - loss: 10.6262 - mae: 10.6262\n",
            "Epoch 52/100\n",
            "2/2 [==============================] - 0s 7ms/step - loss: 15.3800 - mae: 15.3800\n",
            "Epoch 53/100\n",
            "2/2 [==============================] - 0s 6ms/step - loss: 14.3827 - mae: 14.3827\n",
            "Epoch 54/100\n",
            "2/2 [==============================] - 0s 8ms/step - loss: 21.7466 - mae: 21.7466\n",
            "Epoch 55/100\n",
            "2/2 [==============================] - 0s 8ms/step - loss: 15.9033 - mae: 15.9033\n",
            "Epoch 56/100\n",
            "2/2 [==============================] - 0s 8ms/step - loss: 10.3840 - mae: 10.3840\n",
            "Epoch 57/100\n",
            "2/2 [==============================] - 0s 7ms/step - loss: 9.7444 - mae: 9.7444\n",
            "Epoch 58/100\n",
            "2/2 [==============================] - 0s 10ms/step - loss: 9.0406 - mae: 9.0406\n",
            "Epoch 59/100\n",
            "2/2 [==============================] - 0s 11ms/step - loss: 10.2921 - mae: 10.2921\n",
            "Epoch 60/100\n",
            "2/2 [==============================] - 0s 7ms/step - loss: 8.1644 - mae: 8.1644\n",
            "Epoch 61/100\n",
            "2/2 [==============================] - 0s 10ms/step - loss: 10.0081 - mae: 10.0081\n",
            "Epoch 62/100\n",
            "2/2 [==============================] - 0s 8ms/step - loss: 7.0847 - mae: 7.0847\n",
            "Epoch 63/100\n",
            "2/2 [==============================] - 0s 9ms/step - loss: 8.5790 - mae: 8.5790\n",
            "Epoch 64/100\n",
            "2/2 [==============================] - 0s 8ms/step - loss: 9.1634 - mae: 9.1634\n",
            "Epoch 65/100\n",
            "2/2 [==============================] - 0s 10ms/step - loss: 10.3407 - mae: 10.3407\n",
            "Epoch 66/100\n",
            "2/2 [==============================] - 0s 8ms/step - loss: 15.8481 - mae: 15.8481\n",
            "Epoch 67/100\n",
            "2/2 [==============================] - 0s 8ms/step - loss: 10.1930 - mae: 10.1930\n",
            "Epoch 68/100\n",
            "2/2 [==============================] - 0s 15ms/step - loss: 9.1108 - mae: 9.1108\n",
            "Epoch 69/100\n",
            "2/2 [==============================] - 0s 11ms/step - loss: 12.7232 - mae: 12.7232\n",
            "Epoch 70/100\n",
            "2/2 [==============================] - 0s 9ms/step - loss: 8.9011 - mae: 8.9011\n",
            "Epoch 71/100\n",
            "2/2 [==============================] - 0s 9ms/step - loss: 9.8675 - mae: 9.8675\n",
            "Epoch 72/100\n",
            "2/2 [==============================] - 0s 8ms/step - loss: 9.9255 - mae: 9.9255\n",
            "Epoch 73/100\n",
            "2/2 [==============================] - 0s 10ms/step - loss: 12.3186 - mae: 12.3186\n",
            "Epoch 74/100\n",
            "2/2 [==============================] - 0s 9ms/step - loss: 10.7348 - mae: 10.7348\n",
            "Epoch 75/100\n",
            "2/2 [==============================] - 0s 8ms/step - loss: 9.5744 - mae: 9.5744\n",
            "Epoch 76/100\n",
            "2/2 [==============================] - 0s 12ms/step - loss: 11.0240 - mae: 11.0240\n",
            "Epoch 77/100\n",
            "2/2 [==============================] - 0s 9ms/step - loss: 11.0976 - mae: 11.0976\n",
            "Epoch 78/100\n",
            "2/2 [==============================] - 0s 7ms/step - loss: 11.5829 - mae: 11.5829\n",
            "Epoch 79/100\n",
            "2/2 [==============================] - 0s 8ms/step - loss: 15.6218 - mae: 15.6218\n",
            "Epoch 80/100\n",
            "2/2 [==============================] - 0s 8ms/step - loss: 11.5955 - mae: 11.5955\n",
            "Epoch 81/100\n",
            "2/2 [==============================] - 0s 7ms/step - loss: 9.4809 - mae: 9.4809\n",
            "Epoch 82/100\n",
            "2/2 [==============================] - 0s 7ms/step - loss: 12.5833 - mae: 12.5833\n",
            "Epoch 83/100\n",
            "2/2 [==============================] - 0s 7ms/step - loss: 8.1833 - mae: 8.1833\n",
            "Epoch 84/100\n",
            "2/2 [==============================] - 0s 10ms/step - loss: 7.5545 - mae: 7.5545\n",
            "Epoch 85/100\n",
            "2/2 [==============================] - 0s 11ms/step - loss: 9.7371 - mae: 9.7371\n",
            "Epoch 86/100\n",
            "2/2 [==============================] - 0s 10ms/step - loss: 9.0472 - mae: 9.0472\n",
            "Epoch 87/100\n",
            "2/2 [==============================] - 0s 7ms/step - loss: 11.6769 - mae: 11.6769\n",
            "Epoch 88/100\n",
            "2/2 [==============================] - 0s 7ms/step - loss: 10.2768 - mae: 10.2768\n",
            "Epoch 89/100\n",
            "2/2 [==============================] - 0s 8ms/step - loss: 6.7591 - mae: 6.7591\n",
            "Epoch 90/100\n",
            "2/2 [==============================] - 0s 7ms/step - loss: 8.1168 - mae: 8.1168\n",
            "Epoch 91/100\n",
            "2/2 [==============================] - 0s 7ms/step - loss: 6.7613 - mae: 6.7613\n",
            "Epoch 92/100\n",
            "2/2 [==============================] - 0s 8ms/step - loss: 10.2059 - mae: 10.2059\n",
            "Epoch 93/100\n",
            "2/2 [==============================] - 0s 7ms/step - loss: 7.5883 - mae: 7.5883\n",
            "Epoch 94/100\n",
            "2/2 [==============================] - 0s 9ms/step - loss: 9.2176 - mae: 9.2176\n",
            "Epoch 95/100\n",
            "2/2 [==============================] - 0s 8ms/step - loss: 10.7738 - mae: 10.7738\n",
            "Epoch 96/100\n",
            "2/2 [==============================] - 0s 8ms/step - loss: 10.3790 - mae: 10.3790\n",
            "Epoch 97/100\n",
            "2/2 [==============================] - 0s 7ms/step - loss: 7.6474 - mae: 7.6474\n",
            "Epoch 98/100\n",
            "2/2 [==============================] - 0s 8ms/step - loss: 8.5898 - mae: 8.5898\n",
            "Epoch 99/100\n",
            "2/2 [==============================] - 0s 8ms/step - loss: 9.3620 - mae: 9.3620\n",
            "Epoch 100/100\n",
            "2/2 [==============================] - 0s 9ms/step - loss: 8.8243 - mae: 8.8243\n"
          ]
        },
        {
          "output_type": "execute_result",
          "data": {
            "text/plain": [
              "<keras.callbacks.History at 0x7f8c308005e0>"
            ]
          },
          "metadata": {},
          "execution_count": 307
        }
      ]
    },
    {
      "cell_type": "code",
      "source": [
        "# Make and plot prediction for model_1\n",
        "y_pred_1 = model_1.predict(X_test)\n",
        "plot_prediction(train_data=X_train,\n",
        "                train_labels=y_train,\n",
        "                test_data=X_test,\n",
        "                test_labels=y_test,\n",
        "                predictions=y_pred_1)"
      ],
      "metadata": {
        "colab": {
          "base_uri": "https://localhost:8080/",
          "height": 447
        },
        "id": "S8LEnanay0q_",
        "outputId": "6c1e9c10-4679-4f65-b5db-9f412ac5e278"
      },
      "execution_count": null,
      "outputs": [
        {
          "output_type": "stream",
          "name": "stdout",
          "text": [
            "1/1 [==============================] - 0s 50ms/step\n"
          ]
        },
        {
          "output_type": "display_data",
          "data": {
            "text/plain": [
              "<Figure size 640x480 with 1 Axes>"
            ],
            "image/png": "[encoded data removed]"
          },
          "metadata": {}
        }
      ]
    },
    {
      "cell_type": "code",
      "source": [
        "# Calculate evaluation metrics for model_!\n",
        "print('Mean Absolute Error (MAE):', mae(y_test, y_pred_1))\n",
        "print('Mean Square Error (MSE):', mse(y_test, y_pred_1))"
      ],
      "metadata": {
        "colab": {
          "base_uri": "https://localhost:8080/"
        },
        "id": "bxez890PzoR4",
        "outputId": "4ea30ff0-94b7-41eb-ec84-bb3852d0f2b4"
      },
      "execution_count": null,
      "outputs": [
        {
          "output_type": "stream",
          "name": "stdout",
          "text": [
            "Mean Absolute Error (MAE): 8.359485\n",
            "Mean Square Error (MSE): 76.20581\n"
          ]
        }
      ]
    },
    {
      "cell_type": "markdown",
      "source": [
        "**Build `model_2`**\n",
        "\n",
        "* 2 layers, trained for 100 epochs"
      ],
      "metadata": {
        "id": "CuA5n2uh0gXY"
      }
    },
    {
      "cell_type": "code",
      "source": [
        "# Set random seed\n",
        "tf.random.set_seed(42)\n",
        "\n",
        "# 1. Create the model\n",
        "model_2 = tf.keras.Sequential([\n",
        "    tf.keras.layers.Dense(10),\n",
        "    tf.keras.layers.Dense(1)\n",
        "])\n",
        "\n",
        "# 2. Compile the model\n",
        "model_2.compile(\n",
        "     loss=tf.keras.losses.mae,\n",
        "     optimizer=tf.keras.optimizers.SGD(),\n",
        "     metrics=['mae']\n",
        ")\n",
        "\n",
        "# 3. Fit the model\n",
        "model_2.fit(tf.expand_dims(X_train, axis=-1), y_train, epochs=100)"
      ],
      "metadata": {
        "colab": {
          "base_uri": "https://localhost:8080/"
        },
        "id": "Q9r6xJ-42Bwf",
        "outputId": "39239f62-084e-4788-cee8-dab95dd1b773"
      },
      "execution_count": null,
      "outputs": [
        {
          "output_type": "stream",
          "name": "stdout",
          "text": [
            "Epoch 1/100\n",
            "2/2 [==============================] - 1s 15ms/step - loss: 33.2887 - mae: 33.2887\n",
            "Epoch 2/100\n",
            "2/2 [==============================] - 0s 7ms/step - loss: 24.8354 - mae: 24.8354\n",
            "Epoch 3/100\n",
            "2/2 [==============================] - 0s 7ms/step - loss: 30.7663 - mae: 30.7663\n",
            "Epoch 4/100\n",
            "2/2 [==============================] - 0s 7ms/step - loss: 24.2276 - mae: 24.2276\n",
            "Epoch 5/100\n",
            "2/2 [==============================] - 0s 7ms/step - loss: 14.3932 - mae: 14.3932\n",
            "Epoch 6/100\n",
            "2/2 [==============================] - 0s 7ms/step - loss: 11.4808 - mae: 11.4808\n",
            "Epoch 7/100\n",
            "2/2 [==============================] - 0s 7ms/step - loss: 12.5119 - mae: 12.5119\n",
            "Epoch 8/100\n",
            "2/2 [==============================] - 0s 7ms/step - loss: 10.9772 - mae: 10.9772\n",
            "Epoch 9/100\n",
            "2/2 [==============================] - 0s 7ms/step - loss: 39.0729 - mae: 39.0729\n",
            "Epoch 10/100\n",
            "2/2 [==============================] - 0s 7ms/step - loss: 26.6454 - mae: 26.6454\n",
            "Epoch 11/100\n",
            "2/2 [==============================] - 0s 10ms/step - loss: 11.7916 - mae: 11.7916\n",
            "Epoch 12/100\n",
            "2/2 [==============================] - 0s 7ms/step - loss: 23.5428 - mae: 23.5428\n",
            "Epoch 13/100\n",
            "2/2 [==============================] - 0s 7ms/step - loss: 21.2216 - mae: 21.2216\n",
            "Epoch 14/100\n",
            "2/2 [==============================] - 0s 9ms/step - loss: 23.6912 - mae: 23.6912\n",
            "Epoch 15/100\n",
            "2/2 [==============================] - 0s 15ms/step - loss: 15.7638 - mae: 15.7638\n",
            "Epoch 16/100\n",
            "2/2 [==============================] - 0s 10ms/step - loss: 10.4367 - mae: 10.4367\n",
            "Epoch 17/100\n",
            "2/2 [==============================] - 0s 12ms/step - loss: 19.6828 - mae: 19.6828\n",
            "Epoch 18/100\n",
            "2/2 [==============================] - 0s 7ms/step - loss: 13.3120 - mae: 13.3120\n",
            "Epoch 19/100\n",
            "2/2 [==============================] - 0s 6ms/step - loss: 16.0957 - mae: 16.0957\n",
            "Epoch 20/100\n",
            "2/2 [==============================] - 0s 10ms/step - loss: 10.2153 - mae: 10.2153\n",
            "Epoch 21/100\n",
            "2/2 [==============================] - 0s 6ms/step - loss: 13.7703 - mae: 13.7703\n",
            "Epoch 22/100\n",
            "2/2 [==============================] - 0s 8ms/step - loss: 22.0190 - mae: 22.0190\n",
            "Epoch 23/100\n",
            "2/2 [==============================] - 0s 8ms/step - loss: 10.4448 - mae: 10.4448\n",
            "Epoch 24/100\n",
            "2/2 [==============================] - 0s 8ms/step - loss: 15.7277 - mae: 15.7277\n",
            "Epoch 25/100\n",
            "2/2 [==============================] - 0s 8ms/step - loss: 14.8864 - mae: 14.8864\n",
            "Epoch 26/100\n",
            "2/2 [==============================] - 0s 7ms/step - loss: 19.4958 - mae: 19.4958\n",
            "Epoch 27/100\n",
            "2/2 [==============================] - 0s 7ms/step - loss: 11.3713 - mae: 11.3713\n",
            "Epoch 28/100\n",
            "2/2 [==============================] - 0s 8ms/step - loss: 28.6052 - mae: 28.6052\n",
            "Epoch 29/100\n",
            "2/2 [==============================] - 0s 8ms/step - loss: 9.2450 - mae: 9.2450\n",
            "Epoch 30/100\n",
            "2/2 [==============================] - 0s 10ms/step - loss: 29.4468 - mae: 29.4468\n",
            "Epoch 31/100\n",
            "2/2 [==============================] - 0s 8ms/step - loss: 53.3754 - mae: 53.3754\n",
            "Epoch 32/100\n",
            "2/2 [==============================] - 0s 6ms/step - loss: 9.4749 - mae: 9.4749\n",
            "Epoch 33/100\n",
            "2/2 [==============================] - 0s 7ms/step - loss: 12.0518 - mae: 12.0518\n",
            "Epoch 34/100\n",
            "2/2 [==============================] - 0s 7ms/step - loss: 23.3188 - mae: 23.3188\n",
            "Epoch 35/100\n",
            "2/2 [==============================] - 0s 6ms/step - loss: 11.8330 - mae: 11.8330\n",
            "Epoch 36/100\n",
            "2/2 [==============================] - 0s 7ms/step - loss: 21.8002 - mae: 21.8002\n",
            "Epoch 37/100\n",
            "2/2 [==============================] - 0s 9ms/step - loss: 11.1430 - mae: 11.1430\n",
            "Epoch 38/100\n",
            "2/2 [==============================] - 0s 10ms/step - loss: 12.7463 - mae: 12.7463\n",
            "Epoch 39/100\n",
            "2/2 [==============================] - 0s 7ms/step - loss: 11.6078 - mae: 11.6078\n",
            "Epoch 40/100\n",
            "2/2 [==============================] - 0s 7ms/step - loss: 19.2908 - mae: 19.2908\n",
            "Epoch 41/100\n",
            "2/2 [==============================] - 0s 10ms/step - loss: 10.9799 - mae: 10.9799\n",
            "Epoch 42/100\n",
            "2/2 [==============================] - 0s 7ms/step - loss: 9.3054 - mae: 9.3054\n",
            "Epoch 43/100\n",
            "2/2 [==============================] - 0s 8ms/step - loss: 9.5940 - mae: 9.5940\n",
            "Epoch 44/100\n",
            "2/2 [==============================] - 0s 9ms/step - loss: 28.0189 - mae: 28.0189\n",
            "Epoch 45/100\n",
            "2/2 [==============================] - 0s 8ms/step - loss: 11.2907 - mae: 11.2907\n",
            "Epoch 46/100\n",
            "2/2 [==============================] - 0s 8ms/step - loss: 14.0848 - mae: 14.0848\n",
            "Epoch 47/100\n",
            "2/2 [==============================] - 0s 8ms/step - loss: 13.4963 - mae: 13.4963\n",
            "Epoch 48/100\n",
            "2/2 [==============================] - 0s 6ms/step - loss: 17.3303 - mae: 17.3303\n",
            "Epoch 49/100\n",
            "2/2 [==============================] - 0s 7ms/step - loss: 9.5207 - mae: 9.5207\n",
            "Epoch 50/100\n",
            "2/2 [==============================] - 0s 7ms/step - loss: 13.7153 - mae: 13.7153\n",
            "Epoch 51/100\n",
            "2/2 [==============================] - 0s 7ms/step - loss: 11.5631 - mae: 11.5631\n",
            "Epoch 52/100\n",
            "2/2 [==============================] - 0s 7ms/step - loss: 30.2492 - mae: 30.2492\n",
            "Epoch 53/100\n",
            "2/2 [==============================] - 0s 8ms/step - loss: 13.7407 - mae: 13.7407\n",
            "Epoch 54/100\n",
            "2/2 [==============================] - 0s 8ms/step - loss: 26.4645 - mae: 26.4645\n",
            "Epoch 55/100\n",
            "2/2 [==============================] - 0s 7ms/step - loss: 26.0570 - mae: 26.0570\n",
            "Epoch 56/100\n",
            "2/2 [==============================] - 0s 10ms/step - loss: 11.2455 - mae: 11.2455\n",
            "Epoch 57/100\n",
            "2/2 [==============================] - 0s 8ms/step - loss: 13.2277 - mae: 13.2277\n",
            "Epoch 58/100\n",
            "2/2 [==============================] - 0s 8ms/step - loss: 9.8749 - mae: 9.8749\n",
            "Epoch 59/100\n",
            "2/2 [==============================] - 0s 10ms/step - loss: 13.4226 - mae: 13.4226\n",
            "Epoch 60/100\n",
            "2/2 [==============================] - 0s 7ms/step - loss: 10.9417 - mae: 10.9417\n",
            "Epoch 61/100\n",
            "2/2 [==============================] - 0s 7ms/step - loss: 13.5700 - mae: 13.5700\n",
            "Epoch 62/100\n",
            "2/2 [==============================] - 0s 7ms/step - loss: 17.9040 - mae: 17.9040\n",
            "Epoch 63/100\n",
            "2/2 [==============================] - 0s 7ms/step - loss: 8.7408 - mae: 8.7408\n",
            "Epoch 64/100\n",
            "2/2 [==============================] - 0s 7ms/step - loss: 16.1571 - mae: 16.1571\n",
            "Epoch 65/100\n",
            "2/2 [==============================] - 0s 9ms/step - loss: 10.7510 - mae: 10.7510\n",
            "Epoch 66/100\n",
            "2/2 [==============================] - 0s 7ms/step - loss: 22.2174 - mae: 22.2174\n",
            "Epoch 67/100\n",
            "2/2 [==============================] - 0s 8ms/step - loss: 10.2750 - mae: 10.2750\n",
            "Epoch 68/100\n",
            "2/2 [==============================] - 0s 7ms/step - loss: 13.4870 - mae: 13.4870\n",
            "Epoch 69/100\n",
            "2/2 [==============================] - 0s 7ms/step - loss: 11.4431 - mae: 11.4431\n",
            "Epoch 70/100\n",
            "2/2 [==============================] - 0s 8ms/step - loss: 13.6294 - mae: 13.6294\n",
            "Epoch 71/100\n",
            "2/2 [==============================] - 0s 8ms/step - loss: 15.6486 - mae: 15.6486\n",
            "Epoch 72/100\n",
            "2/2 [==============================] - 0s 7ms/step - loss: 11.8622 - mae: 11.8622\n",
            "Epoch 73/100\n",
            "2/2 [==============================] - 0s 7ms/step - loss: 16.6476 - mae: 16.6476\n",
            "Epoch 74/100\n",
            "2/2 [==============================] - 0s 7ms/step - loss: 24.1891 - mae: 24.1891\n",
            "Epoch 75/100\n",
            "2/2 [==============================] - 0s 9ms/step - loss: 9.6406 - mae: 9.6406\n",
            "Epoch 76/100\n",
            "2/2 [==============================] - 0s 8ms/step - loss: 12.4948 - mae: 12.4948\n",
            "Epoch 77/100\n",
            "2/2 [==============================] - 0s 8ms/step - loss: 16.7481 - mae: 16.7481\n",
            "Epoch 78/100\n",
            "2/2 [==============================] - 0s 8ms/step - loss: 9.0875 - mae: 9.0875\n",
            "Epoch 79/100\n",
            "2/2 [==============================] - 0s 8ms/step - loss: 24.0790 - mae: 24.0790\n",
            "Epoch 80/100\n",
            "2/2 [==============================] - 0s 10ms/step - loss: 26.8815 - mae: 26.8815\n",
            "Epoch 81/100\n",
            "2/2 [==============================] - 0s 8ms/step - loss: 11.7458 - mae: 11.7458\n",
            "Epoch 82/100\n",
            "2/2 [==============================] - 0s 9ms/step - loss: 11.9928 - mae: 11.9928\n",
            "Epoch 83/100\n",
            "2/2 [==============================] - 0s 7ms/step - loss: 17.3807 - mae: 17.3807\n",
            "Epoch 84/100\n",
            "2/2 [==============================] - 0s 7ms/step - loss: 7.2679 - mae: 7.2679\n",
            "Epoch 85/100\n",
            "2/2 [==============================] - 0s 6ms/step - loss: 14.9383 - mae: 14.9383\n",
            "Epoch 86/100\n",
            "2/2 [==============================] - 0s 9ms/step - loss: 15.2667 - mae: 15.2667\n",
            "Epoch 87/100\n",
            "2/2 [==============================] - 0s 12ms/step - loss: 19.0635 - mae: 19.0635\n",
            "Epoch 88/100\n",
            "2/2 [==============================] - 0s 16ms/step - loss: 29.9453 - mae: 29.9453\n",
            "Epoch 89/100\n",
            "2/2 [==============================] - 0s 10ms/step - loss: 10.2053 - mae: 10.2053\n",
            "Epoch 90/100\n",
            "2/2 [==============================] - 0s 11ms/step - loss: 21.6189 - mae: 21.6189\n",
            "Epoch 91/100\n",
            "2/2 [==============================] - 0s 10ms/step - loss: 10.6064 - mae: 10.6064\n",
            "Epoch 92/100\n",
            "2/2 [==============================] - 0s 12ms/step - loss: 18.4795 - mae: 18.4795\n",
            "Epoch 93/100\n",
            "2/2 [==============================] - 0s 10ms/step - loss: 7.4318 - mae: 7.4318\n",
            "Epoch 94/100\n",
            "2/2 [==============================] - 0s 8ms/step - loss: 17.8075 - mae: 17.8075\n",
            "Epoch 95/100\n",
            "2/2 [==============================] - 0s 8ms/step - loss: 11.1514 - mae: 11.1514\n",
            "Epoch 96/100\n",
            "2/2 [==============================] - 0s 8ms/step - loss: 19.5032 - mae: 19.5032\n",
            "Epoch 97/100\n",
            "2/2 [==============================] - 0s 8ms/step - loss: 12.5297 - mae: 12.5297\n",
            "Epoch 98/100\n",
            "2/2 [==============================] - 0s 8ms/step - loss: 10.3162 - mae: 10.3162\n",
            "Epoch 99/100\n",
            "2/2 [==============================] - 0s 8ms/step - loss: 13.8560 - mae: 13.8560\n",
            "Epoch 100/100\n",
            "2/2 [==============================] - 0s 8ms/step - loss: 20.1652 - mae: 20.1652\n"
          ]
        },
        {
          "output_type": "execute_result",
          "data": {
            "text/plain": [
              "<keras.callbacks.History at 0x7f8c27e92700>"
            ]
          },
          "metadata": {},
          "execution_count": 310
        }
      ]
    },
    {
      "cell_type": "code",
      "source": [
        "# Make and plot predictions\n",
        "y_pred_2 = model_2.predict(X_test)\n",
        "plot_prediction(predictions=y_pred_2)"
      ],
      "metadata": {
        "colab": {
          "base_uri": "https://localhost:8080/",
          "height": 447
        },
        "id": "xQaEsmok2aqf",
        "outputId": "505ef9fc-e2d4-4ea3-b1d8-0481f484641b"
      },
      "execution_count": null,
      "outputs": [
        {
          "output_type": "stream",
          "name": "stdout",
          "text": [
            "1/1 [==============================] - 0s 58ms/step\n"
          ]
        },
        {
          "output_type": "display_data",
          "data": {
            "text/plain": [
              "<Figure size 640x480 with 1 Axes>"
            ],
            "image/png": "[encoded data removed]"
          },
          "metadata": {}
        }
      ]
    },
    {
      "cell_type": "code",
      "source": [
        "# Calculate evaluation metrics for model_2\n",
        "print('Mean Absolute Error (MAE):', mae(y_test, y_pred_2))\n",
        "print('Mean Square Error (MSE):', mse(y_test, y_pred_2))"
      ],
      "metadata": {
        "colab": {
          "base_uri": "https://localhost:8080/"
        },
        "id": "MVnY6_3J2lQw",
        "outputId": "10b208ab-161c-4186-d119-8d4094e26142"
      },
      "execution_count": null,
      "outputs": [
        {
          "output_type": "stream",
          "name": "stdout",
          "text": [
            "Mean Absolute Error (MAE): 2.9985268\n",
            "Mean Square Error (MSE): 11.753682\n"
          ]
        }
      ]
    },
    {
      "cell_type": "markdown",
      "source": [
        "**Build `model_3`**\n",
        "\n",
        "* 2 layers, trained for 500 epochs"
      ],
      "metadata": {
        "id": "TS9rpAT623hP"
      }
    },
    {
      "cell_type": "code",
      "source": [
        "# Set random seed\n",
        "tf.random.set_seed(42)\n",
        "\n",
        "# 1. Create the model\n",
        "model_3 = tf.keras.Sequential([\n",
        "    tf.keras.layers.Dense(10),\n",
        "    tf.keras.layers.Dense(1)\n",
        "])\n",
        "\n",
        "# 2. Compile the model\n",
        "model_3.compile(\n",
        "     loss=tf.keras.losses.mae,\n",
        "     optimizer=tf.keras.optimizers.SGD(),\n",
        "     metrics=['mae']\n",
        ")\n",
        "\n",
        "# 3. Fit the model\n",
        "model_3.fit(tf.expand_dims(X_train, axis=-1), y_train, epochs=500, verbose=0)"
      ],
      "metadata": {
        "colab": {
          "base_uri": "https://localhost:8080/"
        },
        "id": "DxX_zGoO4OOg",
        "outputId": "37c89d3a-70d8-46b4-a9a1-17869de268a8"
      },
      "execution_count": null,
      "outputs": [
        {
          "output_type": "execute_result",
          "data": {
            "text/plain": [
              "<keras.callbacks.History at 0x7f8c298453a0>"
            ]
          },
          "metadata": {},
          "execution_count": 313
        }
      ]
    },
    {
      "cell_type": "code",
      "source": [
        "# Make and plot predictions\n",
        "y_pred_3 = model_3.predict(X_test)\n",
        "plot_prediction(predictions=y_pred_3)"
      ],
      "metadata": {
        "colab": {
          "base_uri": "https://localhost:8080/",
          "height": 447
        },
        "id": "g_uKIl7G4UsH",
        "outputId": "8b66d2bc-b739-48fa-c7d5-36b0c97b80cb"
      },
      "execution_count": null,
      "outputs": [
        {
          "output_type": "stream",
          "name": "stdout",
          "text": [
            "1/1 [==============================] - 0s 57ms/step\n"
          ]
        },
        {
          "output_type": "display_data",
          "data": {
            "text/plain": [
              "<Figure size 640x480 with 1 Axes>"
            ],
            "image/png": "[encoded data removed]"
          },
          "metadata": {}
        }
      ]
    },
    {
      "cell_type": "code",
      "source": [
        "# Calculate evaluation metrics for model_3\n",
        "print('Mean Absolute Error (MAE):', mae(y_test, y_pred_3))\n",
        "print('Mean Square Error (MSE):', mse(y_test, y_pred_3))"
      ],
      "metadata": {
        "colab": {
          "base_uri": "https://localhost:8080/"
        },
        "id": "elemI1h-5knv",
        "outputId": "1e9e9912-e89c-477a-e856-7bbede5948e3"
      },
      "execution_count": null,
      "outputs": [
        {
          "output_type": "stream",
          "name": "stdout",
          "text": [
            "Mean Absolute Error (MAE): 67.66497\n",
            "Mean Square Error (MSE): 4662.641\n"
          ]
        }
      ]
    },
    {
      "cell_type": "markdown",
      "source": [
        "We get very poor predictions for model_3 because we trained to much our model and model overfit."
      ],
      "metadata": {
        "id": "sgFljk1Y4jMP"
      }
    },
    {
      "cell_type": "markdown",
      "source": [
        "## Comparing the results of our experiments\n",
        "\n",
        "We've run a few experiments, let's compare the results."
      ],
      "metadata": {
        "id": "ceQnWiVv50HP"
      }
    },
    {
      "cell_type": "code",
      "source": [
        "# Let's compare our model's results using pandas DataFrame\n",
        "import pandas as pd\n",
        "\n",
        "# model results\n",
        "model_results = [['model_1', mae(y_test, y_pred_1), mse(y_test, y_pred_1)], \n",
        "                 ['model_2', mae(y_test, y_pred_2), mse(y_test, y_pred_2)], \n",
        "                 ['model_3', mae(y_test, y_pred_3), mse(y_test, y_pred_3)]]\n",
        "\n",
        "# Create a dataframe and add results in it\n",
        "results_df = pd.DataFrame(model_results, columns=['models', 'MAE', 'MSE'])\n",
        "results_df.head()"
      ],
      "metadata": {
        "colab": {
          "base_uri": "https://localhost:8080/",
          "height": 143
        },
        "id": "KvcYWtUI6TJY",
        "outputId": "8b572073-fc1a-4b65-bfa4-9673194affaf"
      },
      "execution_count": null,
      "outputs": [
        {
          "output_type": "execute_result",
          "data": {
            "text/plain": [
              "    models        MAE          MSE\n",
              "0  model_1   8.359485    76.205811\n",
              "1  model_2   2.998527    11.753682\n",
              "2  model_3  67.664970  4662.641113"
            ],
            "text/html": [
              "\n",
              "  <div id=\"df-2c98fb7a-f0bd-41da-9b20-c2f0eade8e92\">\n",
              "    <div class=\"colab-df-container\">\n",
              "      <div>\n",
              "<style scoped>\n",
              "    .dataframe tbody tr th:only-of-type {\n",
              "        vertical-align: middle;\n",
              "    }\n",
              "\n",
              "    .dataframe tbody tr th {\n",
              "        vertical-align: top;\n",
              "    }\n",
              "\n",
              "    .dataframe thead th {\n",
              "        text-align: right;\n",
              "    }\n",
              "</style>\n",
              "<table border=\"1\" class=\"dataframe\">\n",
              "  <thead>\n",
              "    <tr style=\"text-align: right;\">\n",
              "      <th></th>\n",
              "      <th>models</th>\n",
              "      <th>MAE</th>\n",
              "      <th>MSE</th>\n",
              "    </tr>\n",
              "  </thead>\n",
              "  <tbody>\n",
              "    <tr>\n",
              "      <th>0</th>\n",
              "      <td>model_1</td>\n",
              "      <td>8.359485</td>\n",
              "      <td>76.205811</td>\n",
              "    </tr>\n",
              "    <tr>\n",
              "      <th>1</th>\n",
              "      <td>model_2</td>\n",
              "      <td>2.998527</td>\n",
              "      <td>11.753682</td>\n",
              "    </tr>\n",
              "    <tr>\n",
              "      <th>2</th>\n",
              "      <td>model_3</td>\n",
              "      <td>67.664970</td>\n",
              "      <td>4662.641113</td>\n",
              "    </tr>\n",
              "  </tbody>\n",
              "</table>\n",
              "</div>\n",
              "      <button class=\"colab-df-convert\" onclick=\"convertToInteractive('df-2c98fb7a-f0bd-41da-9b20-c2f0eade8e92')\"\n",
              "              title=\"Convert this dataframe to an interactive table.\"\n",
              "              style=\"display:none;\">\n",
              "        \n",
              "  <svg xmlns=\"http://www.w3.org/2000/svg\" height=\"24px\"viewBox=\"0 0 24 24\"\n",
              "       width=\"24px\">\n",
              "    <path d=\"M0 0h24v24H0V0z\" fill=\"none\"/>\n",
              "    <path d=\"M18.56 5.44l.94 2.06.94-2.06 2.06-.94-2.06-.94-.94-2.06-.94 2.06-2.06.94zm-11 1L8.5 8.5l.94-2.06 2.06-.94-2.06-.94L8.5 2.5l-.94 2.06-2.06.94zm10 10l.94 2.06.94-2.06 2.06-.94-2.06-.94-.94-2.06-.94 2.06-2.06.94z\"/><path d=\"M17.41 7.96l-1.37-1.37c-.4-.4-.92-.59-1.43-.59-.52 0-1.04.2-1.43.59L10.3 9.45l-7.72 7.72c-.78.78-.78 2.05 0 2.83L4 21.41c.39.39.9.59 1.41.59.51 0 1.02-.2 1.41-.59l7.78-7.78 2.81-2.81c.8-.78.8-2.07 0-2.86zM5.41 20L4 18.59l7.72-7.72 1.47 1.35L5.41 20z\"/>\n",
              "  </svg>\n",
              "      </button>\n",
              "      \n",
              "  <style>\n",
              "    .colab-df-container {\n",
              "      display:flex;\n",
              "      flex-wrap:wrap;\n",
              "      gap: 12px;\n",
              "    }\n",
              "\n",
              "    .colab-df-convert {\n",
              "      background-color: #E8F0FE;\n",
              "      border: none;\n",
              "      border-radius: 50%;\n",
              "      cursor: pointer;\n",
              "      display: none;\n",
              "      fill: #1967D2;\n",
              "      height: 32px;\n",
              "      padding: 0 0 0 0;\n",
              "      width: 32px;\n",
              "    }\n",
              "\n",
              "    .colab-df-convert:hover {\n",
              "      background-color: #E2EBFA;\n",
              "      box-shadow: 0px 1px 2px rgba(60, 64, 67, 0.3), 0px 1px 3px 1px rgba(60, 64, 67, 0.15);\n",
              "      fill: #174EA6;\n",
              "    }\n",
              "\n",
              "    [theme=dark] .colab-df-convert {\n",
              "      background-color: #3B4455;\n",
              "      fill: #D2E3FC;\n",
              "    }\n",
              "\n",
              "    [theme=dark] .colab-df-convert:hover {\n",
              "      background-color: #434B5C;\n",
              "      box-shadow: 0px 1px 3px 1px rgba(0, 0, 0, 0.15);\n",
              "      filter: drop-shadow(0px 1px 2px rgba(0, 0, 0, 0.3));\n",
              "      fill: #FFFFFF;\n",
              "    }\n",
              "  </style>\n",
              "\n",
              "      <script>\n",
              "        const buttonEl =\n",
              "          document.querySelector('#df-2c98fb7a-f0bd-41da-9b20-c2f0eade8e92 button.colab-df-convert');\n",
              "        buttonEl.style.display =\n",
              "          google.colab.kernel.accessAllowed ? 'block' : 'none';\n",
              "\n",
              "        async function convertToInteractive(key) {\n",
              "          const element = document.querySelector('#df-2c98fb7a-f0bd-41da-9b20-c2f0eade8e92');\n",
              "          const dataTable =\n",
              "            await google.colab.kernel.invokeFunction('convertToInteractive',\n",
              "                                                     [key], {});\n",
              "          if (!dataTable) return;\n",
              "\n",
              "          const docLinkHtml = 'Like what you see? Visit the ' +\n",
              "            '<a target=\"_blank\" href=https://colab.research.google.com/notebooks/data_table.ipynb>data table notebook</a>'\n",
              "            + ' to learn more about interactive tables.';\n",
              "          element.innerHTML = '';\n",
              "          dataTable['output_type'] = 'display_data';\n",
              "          await google.colab.output.renderOutput(dataTable, element);\n",
              "          const docLink = document.createElement('div');\n",
              "          docLink.innerHTML = docLinkHtml;\n",
              "          element.appendChild(docLink);\n",
              "        }\n",
              "      </script>\n",
              "    </div>\n",
              "  </div>\n",
              "  "
            ]
          },
          "metadata": {},
          "execution_count": 316
        }
      ]
    },
    {
      "cell_type": "markdown",
      "source": [
        "Looks like model_2 performed the best."
      ],
      "metadata": {
        "id": "Mu4hGuB19O0k"
      }
    },
    {
      "cell_type": "code",
      "source": [
        " # model summaray\n",
        " model_2.summary()"
      ],
      "metadata": {
        "colab": {
          "base_uri": "https://localhost:8080/"
        },
        "id": "LOiLcidk7t9Y",
        "outputId": "d38e7fbc-f669-4c4c-a5a8-80e2ada50234"
      },
      "execution_count": null,
      "outputs": [
        {
          "output_type": "stream",
          "name": "stdout",
          "text": [
            "Model: \"sequential_61\"\n",
            "_________________________________________________________________\n",
            " Layer (type)                Output Shape              Param #   \n",
            "=================================================================\n",
            " dense_157 (Dense)           (None, 10)                20        \n",
            "                                                                 \n",
            " dense_158 (Dense)           (None, 1)                 11        \n",
            "                                                                 \n",
            "=================================================================\n",
            "Total params: 31\n",
            "Trainable params: 31\n",
            "Non-trainable params: 0\n",
            "_________________________________________________________________\n"
          ]
        }
      ]
    },
    {
      "cell_type": "markdown",
      "source": [
        "Note: One of our main goals should be to minimize the time between our experiments. The more experiments we do, the more things we will figure out which doenst work and in turni get closer to figureing out what does work. "
      ],
      "metadata": {
        "id": "Aohxegp78-1H"
      }
    },
    {
      "cell_type": "markdown",
      "source": [
        "## Tracking your experiments\n",
        "\n",
        "One really good habit in machine learning modelling is to track the results of your experiments.\n",
        "\n",
        "And when doing so, it can be tedious if you are running lots of experiments. \n",
        "\n",
        "Luckly, there are tools to help us.\n",
        "\n",
        "* TensorBoard - a component of the tensorflow library to help track modelling experiments.\n",
        "* Wights & Biases - a tool for tracking all of kinds of machine learning experiments\n"
      ],
      "metadata": {
        "id": "etXclvyp-QTp"
      }
    },
    {
      "cell_type": "markdown",
      "source": [
        "## Saving our models\n",
        "\n",
        "Saving model allows us to use models out of Colab such as web application or mobile app etc.\n",
        "\n",
        "There are two main formats we can save our model's:\n",
        "1. The SavedModel format\n",
        "2. The HDF5 format"
      ],
      "metadata": {
        "id": "d-M-sY_i-cAn"
      }
    },
    {
      "cell_type": "code",
      "source": [
        "# Save model using the SavedModel format\n",
        "model_2.save('SavedModel_format') "
      ],
      "metadata": {
        "colab": {
          "base_uri": "https://localhost:8080/"
        },
        "id": "XczmN8H1_uua",
        "outputId": "135cbe12-3012-4825-8f61-cd4af7cf00c4"
      },
      "execution_count": null,
      "outputs": [
        {
          "output_type": "stream",
          "name": "stderr",
          "text": [
            "WARNING:absl:Found untraced functions such as _update_step_xla while saving (showing 1 of 1). These functions will not be directly callable after loading.\n"
          ]
        }
      ]
    },
    {
      "cell_type": "code",
      "source": [
        "# Save model using the HDF5 format\n",
        "model_2.save('HDF5_format.h5')"
      ],
      "metadata": {
        "id": "3Rh69i0jESW7"
      },
      "execution_count": null,
      "outputs": []
    },
    {
      "cell_type": "markdown",
      "source": [
        "## Loading in saved model"
      ],
      "metadata": {
        "id": "P_eYiwYeFheV"
      }
    },
    {
      "cell_type": "code",
      "source": [
        "# Load in the SavedModel format model\n",
        "loaded_SavedModel_format = tf.keras.models.load_model('/content/SavedModel_format')\n",
        "loaded_SavedModel_format.summary()"
      ],
      "metadata": {
        "id": "AuT8e6teFxJv",
        "colab": {
          "base_uri": "https://localhost:8080/"
        },
        "outputId": "63b39ad6-236f-416e-b820-d98e5ec37977"
      },
      "execution_count": null,
      "outputs": [
        {
          "output_type": "stream",
          "name": "stdout",
          "text": [
            "Model: \"sequential_61\"\n",
            "_________________________________________________________________\n",
            " Layer (type)                Output Shape              Param #   \n",
            "=================================================================\n",
            " dense_157 (Dense)           (None, 10)                20        \n",
            "                                                                 \n",
            " dense_158 (Dense)           (None, 1)                 11        \n",
            "                                                                 \n",
            "=================================================================\n",
            "Total params: 31\n",
            "Trainable params: 31\n",
            "Non-trainable params: 0\n",
            "_________________________________________________________________\n"
          ]
        }
      ]
    },
    {
      "cell_type": "code",
      "source": [
        "# Compare model_2 predictions with SavedModel predictions\n",
        "print('Model_2 predictions:', model_2.predict(X_test), '\\n')\n",
        "print('SavedModel predictions:', loaded_SavedModel_format.predict(X_test))"
      ],
      "metadata": {
        "colab": {
          "base_uri": "https://localhost:8080/"
        },
        "id": "QUOiuZqNGhL3",
        "outputId": "c80ae215-8d1b-454e-ae90-9614c84044ba"
      },
      "execution_count": null,
      "outputs": [
        {
          "output_type": "stream",
          "name": "stdout",
          "text": [
            "1/1 [==============================] - 0s 37ms/step\n",
            "Model_2 predictions: [[ 70.39453 ]\n",
            " [ 74.97321 ]\n",
            " [ 79.55187 ]\n",
            " [ 84.13053 ]\n",
            " [ 88.7092  ]\n",
            " [ 93.287865]\n",
            " [ 97.86652 ]\n",
            " [102.44518 ]\n",
            " [107.02384 ]\n",
            " [111.60251 ]] \n",
            "\n",
            "1/1 [==============================] - 0s 55ms/step\n",
            "SavedModel predictions: [[ 70.39453 ]\n",
            " [ 74.97321 ]\n",
            " [ 79.55187 ]\n",
            " [ 84.13053 ]\n",
            " [ 88.7092  ]\n",
            " [ 93.287865]\n",
            " [ 97.86652 ]\n",
            " [102.44518 ]\n",
            " [107.02384 ]\n",
            " [111.60251 ]]\n"
          ]
        }
      ]
    },
    {
      "cell_type": "code",
      "source": [
        "# Load in the .h5 format model\n",
        "loaded_h5_model = tf.keras.models.load_model('/content/HDF5_format.h5')"
      ],
      "metadata": {
        "id": "q7-gkCyfG_pu"
      },
      "execution_count": null,
      "outputs": []
    },
    {
      "cell_type": "code",
      "source": [
        "# Compare model_2 predictions with loaded_h5_model predictions\n",
        "print('Model_2 predictions:', model_2.predict(X_test), '\\n')\n",
        "print('HDF5 predictions:', loaded_h5_model.predict(X_test))"
      ],
      "metadata": {
        "colab": {
          "base_uri": "https://localhost:8080/"
        },
        "id": "6wvIF1YYIxTB",
        "outputId": "da2afe33-d47d-453d-f8f7-1570af2fb760"
      },
      "execution_count": null,
      "outputs": [
        {
          "output_type": "stream",
          "name": "stdout",
          "text": [
            "1/1 [==============================] - 0s 21ms/step\n",
            "Model_2 predictions: [[ 70.39453 ]\n",
            " [ 74.97321 ]\n",
            " [ 79.55187 ]\n",
            " [ 84.13053 ]\n",
            " [ 88.7092  ]\n",
            " [ 93.287865]\n",
            " [ 97.86652 ]\n",
            " [102.44518 ]\n",
            " [107.02384 ]\n",
            " [111.60251 ]] \n",
            "\n",
            "1/1 [==============================] - 0s 57ms/step\n",
            "HDF5 predictions: [[ 70.39453 ]\n",
            " [ 74.97321 ]\n",
            " [ 79.55187 ]\n",
            " [ 84.13053 ]\n",
            " [ 88.7092  ]\n",
            " [ 93.287865]\n",
            " [ 97.86652 ]\n",
            " [102.44518 ]\n",
            " [107.02384 ]\n",
            " [111.60251 ]]\n"
          ]
        }
      ]
    },
    {
      "cell_type": "markdown",
      "source": [
        "## A Larger Example - Medical Cost Personal Datasets\n",
        "\n",
        "* Resource: https://www.kaggle.com/datasets/mirichoi0218/insurance\n",
        "* Raw csv file: https://raw.githubusercontent.com/stedy/Machine-Learning-with-R-datasets/master/insurance.csv"
      ],
      "metadata": {
        "id": "Nu2_mOwmNrCu"
      }
    },
    {
      "cell_type": "code",
      "source": [
        "# Import required libraries\n",
        "import tensorflow as tf\n",
        "import pandas as pd\n",
        "import matplotlib.pyplot as plt\n",
        "from sklearn.model_selection import train_test_split\n",
        "\n",
        "# Read insurance dataset\n",
        "df = pd.read_csv('https://raw.githubusercontent.com/stedy/Machine-Learning-with-R-datasets/master/insurance.csv')\n",
        "\n",
        "# Let's look first five rows\n",
        "df.head()"
      ],
      "metadata": {
        "colab": {
          "base_uri": "https://localhost:8080/",
          "height": 206
        },
        "id": "CCVyelNLOhLf",
        "outputId": "acdf3302-788f-4ec4-c0de-d369a02118c5"
      },
      "execution_count": null,
      "outputs": [
        {
          "output_type": "execute_result",
          "data": {
            "text/plain": [
              "   age     sex     bmi  children smoker     region      charges\n",
              "0   19  female  27.900         0    yes  southwest  16884.92400\n",
              "1   18    male  33.770         1     no  southeast   1725.55230\n",
              "2   28    male  33.000         3     no  southeast   4449.46200\n",
              "3   33    male  22.705         0     no  northwest  21984.47061\n",
              "4   32    male  28.880         0     no  northwest   3866.85520"
            ],
            "text/html": [
              "\n",
              "  <div id=\"df-5b76dc7b-c8c0-4c98-b7bc-d7e0532a30ce\">\n",
              "    <div class=\"colab-df-container\">\n",
              "      <div>\n",
              "<style scoped>\n",
              "    .dataframe tbody tr th:only-of-type {\n",
              "        vertical-align: middle;\n",
              "    }\n",
              "\n",
              "    .dataframe tbody tr th {\n",
              "        vertical-align: top;\n",
              "    }\n",
              "\n",
              "    .dataframe thead th {\n",
              "        text-align: right;\n",
              "    }\n",
              "</style>\n",
              "<table border=\"1\" class=\"dataframe\">\n",
              "  <thead>\n",
              "    <tr style=\"text-align: right;\">\n",
              "      <th></th>\n",
              "      <th>age</th>\n",
              "      <th>sex</th>\n",
              "      <th>bmi</th>\n",
              "      <th>children</th>\n",
              "      <th>smoker</th>\n",
              "      <th>region</th>\n",
              "      <th>charges</th>\n",
              "    </tr>\n",
              "  </thead>\n",
              "  <tbody>\n",
              "    <tr>\n",
              "      <th>0</th>\n",
              "      <td>19</td>\n",
              "      <td>female</td>\n",
              "      <td>27.900</td>\n",
              "      <td>0</td>\n",
              "      <td>yes</td>\n",
              "      <td>southwest</td>\n",
              "      <td>16884.92400</td>\n",
              "    </tr>\n",
              "    <tr>\n",
              "      <th>1</th>\n",
              "      <td>18</td>\n",
              "      <td>male</td>\n",
              "      <td>33.770</td>\n",
              "      <td>1</td>\n",
              "      <td>no</td>\n",
              "      <td>southeast</td>\n",
              "      <td>1725.55230</td>\n",
              "    </tr>\n",
              "    <tr>\n",
              "      <th>2</th>\n",
              "      <td>28</td>\n",
              "      <td>male</td>\n",
              "      <td>33.000</td>\n",
              "      <td>3</td>\n",
              "      <td>no</td>\n",
              "      <td>southeast</td>\n",
              "      <td>4449.46200</td>\n",
              "    </tr>\n",
              "    <tr>\n",
              "      <th>3</th>\n",
              "      <td>33</td>\n",
              "      <td>male</td>\n",
              "      <td>22.705</td>\n",
              "      <td>0</td>\n",
              "      <td>no</td>\n",
              "      <td>northwest</td>\n",
              "      <td>21984.47061</td>\n",
              "    </tr>\n",
              "    <tr>\n",
              "      <th>4</th>\n",
              "      <td>32</td>\n",
              "      <td>male</td>\n",
              "      <td>28.880</td>\n",
              "      <td>0</td>\n",
              "      <td>no</td>\n",
              "      <td>northwest</td>\n",
              "      <td>3866.85520</td>\n",
              "    </tr>\n",
              "  </tbody>\n",
              "</table>\n",
              "</div>\n",
              "      <button class=\"colab-df-convert\" onclick=\"convertToInteractive('df-5b76dc7b-c8c0-4c98-b7bc-d7e0532a30ce')\"\n",
              "              title=\"Convert this dataframe to an interactive table.\"\n",
              "              style=\"display:none;\">\n",
              "        \n",
              "  <svg xmlns=\"http://www.w3.org/2000/svg\" height=\"24px\"viewBox=\"0 0 24 24\"\n",
              "       width=\"24px\">\n",
              "    <path d=\"M0 0h24v24H0V0z\" fill=\"none\"/>\n",
              "    <path d=\"M18.56 5.44l.94 2.06.94-2.06 2.06-.94-2.06-.94-.94-2.06-.94 2.06-2.06.94zm-11 1L8.5 8.5l.94-2.06 2.06-.94-2.06-.94L8.5 2.5l-.94 2.06-2.06.94zm10 10l.94 2.06.94-2.06 2.06-.94-2.06-.94-.94-2.06-.94 2.06-2.06.94z\"/><path d=\"M17.41 7.96l-1.37-1.37c-.4-.4-.92-.59-1.43-.59-.52 0-1.04.2-1.43.59L10.3 9.45l-7.72 7.72c-.78.78-.78 2.05 0 2.83L4 21.41c.39.39.9.59 1.41.59.51 0 1.02-.2 1.41-.59l7.78-7.78 2.81-2.81c.8-.78.8-2.07 0-2.86zM5.41 20L4 18.59l7.72-7.72 1.47 1.35L5.41 20z\"/>\n",
              "  </svg>\n",
              "      </button>\n",
              "      \n",
              "  <style>\n",
              "    .colab-df-container {\n",
              "      display:flex;\n",
              "      flex-wrap:wrap;\n",
              "      gap: 12px;\n",
              "    }\n",
              "\n",
              "    .colab-df-convert {\n",
              "      background-color: #E8F0FE;\n",
              "      border: none;\n",
              "      border-radius: 50%;\n",
              "      cursor: pointer;\n",
              "      display: none;\n",
              "      fill: #1967D2;\n",
              "      height: 32px;\n",
              "      padding: 0 0 0 0;\n",
              "      width: 32px;\n",
              "    }\n",
              "\n",
              "    .colab-df-convert:hover {\n",
              "      background-color: #E2EBFA;\n",
              "      box-shadow: 0px 1px 2px rgba(60, 64, 67, 0.3), 0px 1px 3px 1px rgba(60, 64, 67, 0.15);\n",
              "      fill: #174EA6;\n",
              "    }\n",
              "\n",
              "    [theme=dark] .colab-df-convert {\n",
              "      background-color: #3B4455;\n",
              "      fill: #D2E3FC;\n",
              "    }\n",
              "\n",
              "    [theme=dark] .colab-df-convert:hover {\n",
              "      background-color: #434B5C;\n",
              "      box-shadow: 0px 1px 3px 1px rgba(0, 0, 0, 0.15);\n",
              "      filter: drop-shadow(0px 1px 2px rgba(0, 0, 0, 0.3));\n",
              "      fill: #FFFFFF;\n",
              "    }\n",
              "  </style>\n",
              "\n",
              "      <script>\n",
              "        const buttonEl =\n",
              "          document.querySelector('#df-5b76dc7b-c8c0-4c98-b7bc-d7e0532a30ce button.colab-df-convert');\n",
              "        buttonEl.style.display =\n",
              "          google.colab.kernel.accessAllowed ? 'block' : 'none';\n",
              "\n",
              "        async function convertToInteractive(key) {\n",
              "          const element = document.querySelector('#df-5b76dc7b-c8c0-4c98-b7bc-d7e0532a30ce');\n",
              "          const dataTable =\n",
              "            await google.colab.kernel.invokeFunction('convertToInteractive',\n",
              "                                                     [key], {});\n",
              "          if (!dataTable) return;\n",
              "\n",
              "          const docLinkHtml = 'Like what you see? Visit the ' +\n",
              "            '<a target=\"_blank\" href=https://colab.research.google.com/notebooks/data_table.ipynb>data table notebook</a>'\n",
              "            + ' to learn more about interactive tables.';\n",
              "          element.innerHTML = '';\n",
              "          dataTable['output_type'] = 'display_data';\n",
              "          await google.colab.output.renderOutput(dataTable, element);\n",
              "          const docLink = document.createElement('div');\n",
              "          docLink.innerHTML = docLinkHtml;\n",
              "          element.appendChild(docLink);\n",
              "        }\n",
              "      </script>\n",
              "    </div>\n",
              "  </div>\n",
              "  "
            ]
          },
          "metadata": {},
          "execution_count": 324
        }
      ]
    },
    {
      "cell_type": "code",
      "source": [
        "# Dataframe info \n",
        "df.info()"
      ],
      "metadata": {
        "colab": {
          "base_uri": "https://localhost:8080/"
        },
        "id": "1CVeCN8hQV3t",
        "outputId": "bc066cf5-3d42-4b75-8f04-0e4c2a9163af"
      },
      "execution_count": null,
      "outputs": [
        {
          "output_type": "stream",
          "name": "stdout",
          "text": [
            "<class 'pandas.core.frame.DataFrame'>\n",
            "RangeIndex: 1338 entries, 0 to 1337\n",
            "Data columns (total 7 columns):\n",
            " #   Column    Non-Null Count  Dtype  \n",
            "---  ------    --------------  -----  \n",
            " 0   age       1338 non-null   int64  \n",
            " 1   sex       1338 non-null   object \n",
            " 2   bmi       1338 non-null   float64\n",
            " 3   children  1338 non-null   int64  \n",
            " 4   smoker    1338 non-null   object \n",
            " 5   region    1338 non-null   object \n",
            " 6   charges   1338 non-null   float64\n",
            "dtypes: float64(2), int64(2), object(3)\n",
            "memory usage: 73.3+ KB\n"
          ]
        }
      ]
    },
    {
      "cell_type": "code",
      "source": [
        "# Let's try one-hot encode our data\n",
        "df_one_hot = pd.get_dummies(df, prefix=['sex', 'smoker', 'region'], drop_first=True)\n",
        "df_one_hot.head()"
      ],
      "metadata": {
        "colab": {
          "base_uri": "https://localhost:8080/",
          "height": 206
        },
        "id": "0rSW1NCsSAFO",
        "outputId": "9f920215-076e-42c7-f134-5b5854fb1c14"
      },
      "execution_count": null,
      "outputs": [
        {
          "output_type": "execute_result",
          "data": {
            "text/plain": [
              "   age     bmi  children      charges  sex_male  smoker_yes  region_northwest  \\\n",
              "0   19  27.900         0  16884.92400         0           1                 0   \n",
              "1   18  33.770         1   1725.55230         1           0                 0   \n",
              "2   28  33.000         3   4449.46200         1           0                 0   \n",
              "3   33  22.705         0  21984.47061         1           0                 1   \n",
              "4   32  28.880         0   3866.85520         1           0                 1   \n",
              "\n",
              "   region_southeast  region_southwest  \n",
              "0                 0                 1  \n",
              "1                 1                 0  \n",
              "2                 1                 0  \n",
              "3                 0                 0  \n",
              "4                 0                 0  "
            ],
            "text/html": [
              "\n",
              "  <div id=\"df-34c460f4-a58f-4843-83eb-cf9a8763364d\">\n",
              "    <div class=\"colab-df-container\">\n",
              "      <div>\n",
              "<style scoped>\n",
              "    .dataframe tbody tr th:only-of-type {\n",
              "        vertical-align: middle;\n",
              "    }\n",
              "\n",
              "    .dataframe tbody tr th {\n",
              "        vertical-align: top;\n",
              "    }\n",
              "\n",
              "    .dataframe thead th {\n",
              "        text-align: right;\n",
              "    }\n",
              "</style>\n",
              "<table border=\"1\" class=\"dataframe\">\n",
              "  <thead>\n",
              "    <tr style=\"text-align: right;\">\n",
              "      <th></th>\n",
              "      <th>age</th>\n",
              "      <th>bmi</th>\n",
              "      <th>children</th>\n",
              "      <th>charges</th>\n",
              "      <th>sex_male</th>\n",
              "      <th>smoker_yes</th>\n",
              "      <th>region_northwest</th>\n",
              "      <th>region_southeast</th>\n",
              "      <th>region_southwest</th>\n",
              "    </tr>\n",
              "  </thead>\n",
              "  <tbody>\n",
              "    <tr>\n",
              "      <th>0</th>\n",
              "      <td>19</td>\n",
              "      <td>27.900</td>\n",
              "      <td>0</td>\n",
              "      <td>16884.92400</td>\n",
              "      <td>0</td>\n",
              "      <td>1</td>\n",
              "      <td>0</td>\n",
              "      <td>0</td>\n",
              "      <td>1</td>\n",
              "    </tr>\n",
              "    <tr>\n",
              "      <th>1</th>\n",
              "      <td>18</td>\n",
              "      <td>33.770</td>\n",
              "      <td>1</td>\n",
              "      <td>1725.55230</td>\n",
              "      <td>1</td>\n",
              "      <td>0</td>\n",
              "      <td>0</td>\n",
              "      <td>1</td>\n",
              "      <td>0</td>\n",
              "    </tr>\n",
              "    <tr>\n",
              "      <th>2</th>\n",
              "      <td>28</td>\n",
              "      <td>33.000</td>\n",
              "      <td>3</td>\n",
              "      <td>4449.46200</td>\n",
              "      <td>1</td>\n",
              "      <td>0</td>\n",
              "      <td>0</td>\n",
              "      <td>1</td>\n",
              "      <td>0</td>\n",
              "    </tr>\n",
              "    <tr>\n",
              "      <th>3</th>\n",
              "      <td>33</td>\n",
              "      <td>22.705</td>\n",
              "      <td>0</td>\n",
              "      <td>21984.47061</td>\n",
              "      <td>1</td>\n",
              "      <td>0</td>\n",
              "      <td>1</td>\n",
              "      <td>0</td>\n",
              "      <td>0</td>\n",
              "    </tr>\n",
              "    <tr>\n",
              "      <th>4</th>\n",
              "      <td>32</td>\n",
              "      <td>28.880</td>\n",
              "      <td>0</td>\n",
              "      <td>3866.85520</td>\n",
              "      <td>1</td>\n",
              "      <td>0</td>\n",
              "      <td>1</td>\n",
              "      <td>0</td>\n",
              "      <td>0</td>\n",
              "    </tr>\n",
              "  </tbody>\n",
              "</table>\n",
              "</div>\n",
              "      <button class=\"colab-df-convert\" onclick=\"convertToInteractive('df-34c460f4-a58f-4843-83eb-cf9a8763364d')\"\n",
              "              title=\"Convert this dataframe to an interactive table.\"\n",
              "              style=\"display:none;\">\n",
              "        \n",
              "  <svg xmlns=\"http://www.w3.org/2000/svg\" height=\"24px\"viewBox=\"0 0 24 24\"\n",
              "       width=\"24px\">\n",
              "    <path d=\"M0 0h24v24H0V0z\" fill=\"none\"/>\n",
              "    <path d=\"M18.56 5.44l.94 2.06.94-2.06 2.06-.94-2.06-.94-.94-2.06-.94 2.06-2.06.94zm-11 1L8.5 8.5l.94-2.06 2.06-.94-2.06-.94L8.5 2.5l-.94 2.06-2.06.94zm10 10l.94 2.06.94-2.06 2.06-.94-2.06-.94-.94-2.06-.94 2.06-2.06.94z\"/><path d=\"M17.41 7.96l-1.37-1.37c-.4-.4-.92-.59-1.43-.59-.52 0-1.04.2-1.43.59L10.3 9.45l-7.72 7.72c-.78.78-.78 2.05 0 2.83L4 21.41c.39.39.9.59 1.41.59.51 0 1.02-.2 1.41-.59l7.78-7.78 2.81-2.81c.8-.78.8-2.07 0-2.86zM5.41 20L4 18.59l7.72-7.72 1.47 1.35L5.41 20z\"/>\n",
              "  </svg>\n",
              "      </button>\n",
              "      \n",
              "  <style>\n",
              "    .colab-df-container {\n",
              "      display:flex;\n",
              "      flex-wrap:wrap;\n",
              "      gap: 12px;\n",
              "    }\n",
              "\n",
              "    .colab-df-convert {\n",
              "      background-color: #E8F0FE;\n",
              "      border: none;\n",
              "      border-radius: 50%;\n",
              "      cursor: pointer;\n",
              "      display: none;\n",
              "      fill: #1967D2;\n",
              "      height: 32px;\n",
              "      padding: 0 0 0 0;\n",
              "      width: 32px;\n",
              "    }\n",
              "\n",
              "    .colab-df-convert:hover {\n",
              "      background-color: #E2EBFA;\n",
              "      box-shadow: 0px 1px 2px rgba(60, 64, 67, 0.3), 0px 1px 3px 1px rgba(60, 64, 67, 0.15);\n",
              "      fill: #174EA6;\n",
              "    }\n",
              "\n",
              "    [theme=dark] .colab-df-convert {\n",
              "      background-color: #3B4455;\n",
              "      fill: #D2E3FC;\n",
              "    }\n",
              "\n",
              "    [theme=dark] .colab-df-convert:hover {\n",
              "      background-color: #434B5C;\n",
              "      box-shadow: 0px 1px 3px 1px rgba(0, 0, 0, 0.15);\n",
              "      filter: drop-shadow(0px 1px 2px rgba(0, 0, 0, 0.3));\n",
              "      fill: #FFFFFF;\n",
              "    }\n",
              "  </style>\n",
              "\n",
              "      <script>\n",
              "        const buttonEl =\n",
              "          document.querySelector('#df-34c460f4-a58f-4843-83eb-cf9a8763364d button.colab-df-convert');\n",
              "        buttonEl.style.display =\n",
              "          google.colab.kernel.accessAllowed ? 'block' : 'none';\n",
              "\n",
              "        async function convertToInteractive(key) {\n",
              "          const element = document.querySelector('#df-34c460f4-a58f-4843-83eb-cf9a8763364d');\n",
              "          const dataTable =\n",
              "            await google.colab.kernel.invokeFunction('convertToInteractive',\n",
              "                                                     [key], {});\n",
              "          if (!dataTable) return;\n",
              "\n",
              "          const docLinkHtml = 'Like what you see? Visit the ' +\n",
              "            '<a target=\"_blank\" href=https://colab.research.google.com/notebooks/data_table.ipynb>data table notebook</a>'\n",
              "            + ' to learn more about interactive tables.';\n",
              "          element.innerHTML = '';\n",
              "          dataTable['output_type'] = 'display_data';\n",
              "          await google.colab.output.renderOutput(dataTable, element);\n",
              "          const docLink = document.createElement('div');\n",
              "          docLink.innerHTML = docLinkHtml;\n",
              "          element.appendChild(docLink);\n",
              "        }\n",
              "      </script>\n",
              "    </div>\n",
              "  </div>\n",
              "  "
            ]
          },
          "metadata": {},
          "execution_count": 326
        }
      ]
    },
    {
      "cell_type": "code",
      "source": [
        " # Create X & y values (features and labels)\n",
        " X = df_one_hot.drop('charges', axis=1)\n",
        " y = df_one_hot['charges']"
      ],
      "metadata": {
        "id": "2dE_9RB0Ssct"
      },
      "execution_count": null,
      "outputs": []
    },
    {
      "cell_type": "code",
      "source": [
        "# View X\n",
        "X.head()"
      ],
      "metadata": {
        "colab": {
          "base_uri": "https://localhost:8080/",
          "height": 206
        },
        "id": "niXBL2hxVlhO",
        "outputId": "95702bbb-53c0-4cf3-9f5f-b316b4e062bc"
      },
      "execution_count": null,
      "outputs": [
        {
          "output_type": "execute_result",
          "data": {
            "text/plain": [
              "   age     bmi  children  sex_male  smoker_yes  region_northwest  \\\n",
              "0   19  27.900         0         0           1                 0   \n",
              "1   18  33.770         1         1           0                 0   \n",
              "2   28  33.000         3         1           0                 0   \n",
              "3   33  22.705         0         1           0                 1   \n",
              "4   32  28.880         0         1           0                 1   \n",
              "\n",
              "   region_southeast  region_southwest  \n",
              "0                 0                 1  \n",
              "1                 1                 0  \n",
              "2                 1                 0  \n",
              "3                 0                 0  \n",
              "4                 0                 0  "
            ],
            "text/html": [
              "\n",
              "  <div id=\"df-9d8f76e9-de33-410e-b1f2-5fc40c933f0a\">\n",
              "    <div class=\"colab-df-container\">\n",
              "      <div>\n",
              "<style scoped>\n",
              "    .dataframe tbody tr th:only-of-type {\n",
              "        vertical-align: middle;\n",
              "    }\n",
              "\n",
              "    .dataframe tbody tr th {\n",
              "        vertical-align: top;\n",
              "    }\n",
              "\n",
              "    .dataframe thead th {\n",
              "        text-align: right;\n",
              "    }\n",
              "</style>\n",
              "<table border=\"1\" class=\"dataframe\">\n",
              "  <thead>\n",
              "    <tr style=\"text-align: right;\">\n",
              "      <th></th>\n",
              "      <th>age</th>\n",
              "      <th>bmi</th>\n",
              "      <th>children</th>\n",
              "      <th>sex_male</th>\n",
              "      <th>smoker_yes</th>\n",
              "      <th>region_northwest</th>\n",
              "      <th>region_southeast</th>\n",
              "      <th>region_southwest</th>\n",
              "    </tr>\n",
              "  </thead>\n",
              "  <tbody>\n",
              "    <tr>\n",
              "      <th>0</th>\n",
              "      <td>19</td>\n",
              "      <td>27.900</td>\n",
              "      <td>0</td>\n",
              "      <td>0</td>\n",
              "      <td>1</td>\n",
              "      <td>0</td>\n",
              "      <td>0</td>\n",
              "      <td>1</td>\n",
              "    </tr>\n",
              "    <tr>\n",
              "      <th>1</th>\n",
              "      <td>18</td>\n",
              "      <td>33.770</td>\n",
              "      <td>1</td>\n",
              "      <td>1</td>\n",
              "      <td>0</td>\n",
              "      <td>0</td>\n",
              "      <td>1</td>\n",
              "      <td>0</td>\n",
              "    </tr>\n",
              "    <tr>\n",
              "      <th>2</th>\n",
              "      <td>28</td>\n",
              "      <td>33.000</td>\n",
              "      <td>3</td>\n",
              "      <td>1</td>\n",
              "      <td>0</td>\n",
              "      <td>0</td>\n",
              "      <td>1</td>\n",
              "      <td>0</td>\n",
              "    </tr>\n",
              "    <tr>\n",
              "      <th>3</th>\n",
              "      <td>33</td>\n",
              "      <td>22.705</td>\n",
              "      <td>0</td>\n",
              "      <td>1</td>\n",
              "      <td>0</td>\n",
              "      <td>1</td>\n",
              "      <td>0</td>\n",
              "      <td>0</td>\n",
              "    </tr>\n",
              "    <tr>\n",
              "      <th>4</th>\n",
              "      <td>32</td>\n",
              "      <td>28.880</td>\n",
              "      <td>0</td>\n",
              "      <td>1</td>\n",
              "      <td>0</td>\n",
              "      <td>1</td>\n",
              "      <td>0</td>\n",
              "      <td>0</td>\n",
              "    </tr>\n",
              "  </tbody>\n",
              "</table>\n",
              "</div>\n",
              "      <button class=\"colab-df-convert\" onclick=\"convertToInteractive('df-9d8f76e9-de33-410e-b1f2-5fc40c933f0a')\"\n",
              "              title=\"Convert this dataframe to an interactive table.\"\n",
              "              style=\"display:none;\">\n",
              "        \n",
              "  <svg xmlns=\"http://www.w3.org/2000/svg\" height=\"24px\"viewBox=\"0 0 24 24\"\n",
              "       width=\"24px\">\n",
              "    <path d=\"M0 0h24v24H0V0z\" fill=\"none\"/>\n",
              "    <path d=\"M18.56 5.44l.94 2.06.94-2.06 2.06-.94-2.06-.94-.94-2.06-.94 2.06-2.06.94zm-11 1L8.5 8.5l.94-2.06 2.06-.94-2.06-.94L8.5 2.5l-.94 2.06-2.06.94zm10 10l.94 2.06.94-2.06 2.06-.94-2.06-.94-.94-2.06-.94 2.06-2.06.94z\"/><path d=\"M17.41 7.96l-1.37-1.37c-.4-.4-.92-.59-1.43-.59-.52 0-1.04.2-1.43.59L10.3 9.45l-7.72 7.72c-.78.78-.78 2.05 0 2.83L4 21.41c.39.39.9.59 1.41.59.51 0 1.02-.2 1.41-.59l7.78-7.78 2.81-2.81c.8-.78.8-2.07 0-2.86zM5.41 20L4 18.59l7.72-7.72 1.47 1.35L5.41 20z\"/>\n",
              "  </svg>\n",
              "      </button>\n",
              "      \n",
              "  <style>\n",
              "    .colab-df-container {\n",
              "      display:flex;\n",
              "      flex-wrap:wrap;\n",
              "      gap: 12px;\n",
              "    }\n",
              "\n",
              "    .colab-df-convert {\n",
              "      background-color: #E8F0FE;\n",
              "      border: none;\n",
              "      border-radius: 50%;\n",
              "      cursor: pointer;\n",
              "      display: none;\n",
              "      fill: #1967D2;\n",
              "      height: 32px;\n",
              "      padding: 0 0 0 0;\n",
              "      width: 32px;\n",
              "    }\n",
              "\n",
              "    .colab-df-convert:hover {\n",
              "      background-color: #E2EBFA;\n",
              "      box-shadow: 0px 1px 2px rgba(60, 64, 67, 0.3), 0px 1px 3px 1px rgba(60, 64, 67, 0.15);\n",
              "      fill: #174EA6;\n",
              "    }\n",
              "\n",
              "    [theme=dark] .colab-df-convert {\n",
              "      background-color: #3B4455;\n",
              "      fill: #D2E3FC;\n",
              "    }\n",
              "\n",
              "    [theme=dark] .colab-df-convert:hover {\n",
              "      background-color: #434B5C;\n",
              "      box-shadow: 0px 1px 3px 1px rgba(0, 0, 0, 0.15);\n",
              "      filter: drop-shadow(0px 1px 2px rgba(0, 0, 0, 0.3));\n",
              "      fill: #FFFFFF;\n",
              "    }\n",
              "  </style>\n",
              "\n",
              "      <script>\n",
              "        const buttonEl =\n",
              "          document.querySelector('#df-9d8f76e9-de33-410e-b1f2-5fc40c933f0a button.colab-df-convert');\n",
              "        buttonEl.style.display =\n",
              "          google.colab.kernel.accessAllowed ? 'block' : 'none';\n",
              "\n",
              "        async function convertToInteractive(key) {\n",
              "          const element = document.querySelector('#df-9d8f76e9-de33-410e-b1f2-5fc40c933f0a');\n",
              "          const dataTable =\n",
              "            await google.colab.kernel.invokeFunction('convertToInteractive',\n",
              "                                                     [key], {});\n",
              "          if (!dataTable) return;\n",
              "\n",
              "          const docLinkHtml = 'Like what you see? Visit the ' +\n",
              "            '<a target=\"_blank\" href=https://colab.research.google.com/notebooks/data_table.ipynb>data table notebook</a>'\n",
              "            + ' to learn more about interactive tables.';\n",
              "          element.innerHTML = '';\n",
              "          dataTable['output_type'] = 'display_data';\n",
              "          await google.colab.output.renderOutput(dataTable, element);\n",
              "          const docLink = document.createElement('div');\n",
              "          docLink.innerHTML = docLinkHtml;\n",
              "          element.appendChild(docLink);\n",
              "        }\n",
              "      </script>\n",
              "    </div>\n",
              "  </div>\n",
              "  "
            ]
          },
          "metadata": {},
          "execution_count": 328
        }
      ]
    },
    {
      "cell_type": "code",
      "source": [
        "# View y\n",
        "y.head()"
      ],
      "metadata": {
        "colab": {
          "base_uri": "https://localhost:8080/"
        },
        "id": "2NxrExUhVlem",
        "outputId": "13fafc45-c902-45dc-8000-abf20cee75f5"
      },
      "execution_count": null,
      "outputs": [
        {
          "output_type": "execute_result",
          "data": {
            "text/plain": [
              "0    16884.92400\n",
              "1     1725.55230\n",
              "2     4449.46200\n",
              "3    21984.47061\n",
              "4     3866.85520\n",
              "Name: charges, dtype: float64"
            ]
          },
          "metadata": {},
          "execution_count": 329
        }
      ]
    },
    {
      "cell_type": "code",
      "source": [
        " # Create training and test sets\n",
        " X_train, X_test, y_train, y_test = train_test_split(X, y, test_size=0.2, random_state=42)\n",
        "\n",
        " print('Total data size:', len(X))\n",
        " print('Train data size:', len(X_train))\n",
        " print('Test data size:', len(X_test))"
      ],
      "metadata": {
        "colab": {
          "base_uri": "https://localhost:8080/"
        },
        "id": "5ovO_xNZU0FO",
        "outputId": "a77ceb79-14c3-47e2-fd6b-c8b595ddb1ce"
      },
      "execution_count": null,
      "outputs": [
        {
          "output_type": "stream",
          "name": "stdout",
          "text": [
            "Total data size: 1338\n",
            "Train data size: 1070\n",
            "Test data size: 268\n"
          ]
        }
      ]
    },
    {
      "cell_type": "code",
      "source": [
        " # Build a neural network\n",
        "\n",
        " # Set random seed\n",
        " tf.random.set_seed(42)\n",
        "\n",
        " # 1. Create a model\n",
        " model = tf.keras.Sequential([\n",
        "     tf.keras.layers.Dense(1),\n",
        "     tf.keras.layers.Dense(1)\n",
        " ])\n",
        "\n",
        " # 2. Model compiling\n",
        " model.compile(\n",
        "     loss=tf.keras.losses.mae,\n",
        "     optimizer=tf.keras.optimizers.SGD(),\n",
        "     metrics = ['mae']\n",
        " )\n",
        "\n",
        " # 3. Fit the model\n",
        " model.fit(X_train, y_train, epochs=100, verbose=0)"
      ],
      "metadata": {
        "colab": {
          "base_uri": "https://localhost:8080/"
        },
        "id": "f-lCOykBUxIF",
        "outputId": "706539f9-2e19-4325-c623-e17f17ae68d3"
      },
      "execution_count": null,
      "outputs": [
        {
          "output_type": "execute_result",
          "data": {
            "text/plain": [
              "<keras.callbacks.History at 0x7f8c323bc8b0>"
            ]
          },
          "metadata": {},
          "execution_count": 331
        }
      ]
    },
    {
      "cell_type": "code",
      "source": [
        "# Check the results of the model on the test data\n",
        "model.evaluate(X_test, y_test)"
      ],
      "metadata": {
        "colab": {
          "base_uri": "https://localhost:8080/"
        },
        "id": "XbJxU0y0Y_hV",
        "outputId": "194faa42-be47-4714-fc0a-1ee51cedbde7"
      },
      "execution_count": null,
      "outputs": [
        {
          "output_type": "stream",
          "name": "stdout",
          "text": [
            "9/9 [==============================] - 0s 3ms/step - loss: 7286.5190 - mae: 7286.5190\n"
          ]
        },
        {
          "output_type": "execute_result",
          "data": {
            "text/plain": [
              "[7286.51904296875, 7286.51904296875]"
            ]
          },
          "metadata": {},
          "execution_count": 332
        }
      ]
    },
    {
      "cell_type": "code",
      "source": [
        "# Let's check the mean and median of test data\n",
        "y_test.median(), y_test.mean()"
      ],
      "metadata": {
        "colab": {
          "base_uri": "https://localhost:8080/"
        },
        "id": "sZRDpKdMbkWW",
        "outputId": "64aac992-8888-40e1-d609-b2731204de70"
      },
      "execution_count": null,
      "outputs": [
        {
          "output_type": "execute_result",
          "data": {
            "text/plain": [
              "(8487.8803, 12968.317062869404)"
            ]
          },
          "metadata": {},
          "execution_count": 333
        }
      ]
    },
    {
      "cell_type": "markdown",
      "source": [
        "If we check the mean and median of the y value we can see that our predictions are so poor. Let's try to improve our model.\n",
        "\n",
        "To try improve our model, we'll run 2 experiments:\n",
        "1. Add an extra layer with mode hidden units\n",
        "2. Train for longer"
      ],
      "metadata": {
        "id": "WU92nROZbawy"
      }
    },
    {
      "cell_type": "code",
      "source": [
        "# Set random seed\n",
        "tf.random.set_seed(42)\n",
        "\n",
        "# 1. Create the model\n",
        "insurance_model_1 =  tf.keras.Sequential([\n",
        "    tf.keras.layers.Dense(100),\n",
        "    tf.keras.layers.Dense(10),\n",
        "    tf.keras.layers.Dense(1)\n",
        "])\n",
        "\n",
        "# 2. Compile the model\n",
        "insurance_model_1.compile(\n",
        "    loss=tf.keras.losses.mae,\n",
        "    optimizer=tf.keras.optimizers.Adam(),\n",
        "    metrics=['mae']\n",
        ")\n",
        "\n",
        "# 3. Fit the model\n",
        "history_1 = insurance_model_1.fit(X_train, y_train, epochs=100, verbose=0)"
      ],
      "metadata": {
        "id": "FWkJLJnBcCHZ"
      },
      "execution_count": null,
      "outputs": []
    },
    {
      "cell_type": "code",
      "source": [
        "# plot the training loss and validation loss\n",
        "plt.plot(history_1.history['loss'])\n",
        "plt.title('Model Loss')\n",
        "plt.ylabel('Loss')\n",
        "plt.xlabel('Epoch')\n",
        "plt.show()"
      ],
      "metadata": {
        "colab": {
          "base_uri": "https://localhost:8080/",
          "height": 472
        },
        "id": "-RnI2HdiOnly",
        "outputId": "85ad8cba-5be1-4f3c-9d9f-8a395e583703"
      },
      "execution_count": null,
      "outputs": [
        {
          "output_type": "display_data",
          "data": {
            "text/plain": [
              "<Figure size 640x480 with 1 Axes>"
            ],
            "image/png": "[encoded data removed]"
          },
          "metadata": {}
        }
      ]
    },
    {
      "cell_type": "code",
      "source": [
        "# Evaluate insurance_model_1\n",
        "insurance_model_1.evaluate(X_test, y_test)"
      ],
      "metadata": {
        "colab": {
          "base_uri": "https://localhost:8080/"
        },
        "id": "A4lkwNUSJm2B",
        "outputId": "fe9385f0-8237-4ff4-d924-7ad602534b01"
      },
      "execution_count": null,
      "outputs": [
        {
          "output_type": "stream",
          "name": "stdout",
          "text": [
            "9/9 [==============================] - 0s 2ms/step - loss: 5956.2251 - mae: 5956.2251\n"
          ]
        },
        {
          "output_type": "execute_result",
          "data": {
            "text/plain": [
              "[5956.22509765625, 5956.22509765625]"
            ]
          },
          "metadata": {},
          "execution_count": 336
        }
      ]
    },
    {
      "cell_type": "code",
      "source": [
        "# Same as above only we decrease the epochs\n",
        "\n",
        "# Set random seed\n",
        "tf.random.set_seed(42)\n",
        "\n",
        "# 1. Create the model\n",
        "insurance_model_2 =  tf.keras.Sequential([\n",
        "    tf.keras.layers.Dense(100),\n",
        "    tf.keras.layers.Dense(10),\n",
        "    tf.keras.layers.Dense(1)\n",
        "])\n",
        "\n",
        "# 2. Compile the model\n",
        "insurance_model_2.compile(\n",
        "    loss=tf.keras.losses.mae,\n",
        "    optimizer=tf.keras.optimizers.Adam(),\n",
        "    metrics=['mae']\n",
        ")\n",
        "\n",
        "# 3. Fit the model\n",
        "history_2 = insurance_model_2.fit(X_train, y_train, epochs=200, verbose=0)"
      ],
      "metadata": {
        "id": "Qu41dmm5KQbw"
      },
      "execution_count": null,
      "outputs": []
    },
    {
      "cell_type": "code",
      "source": [
        "# plot the training loss and validation loss\n",
        "plt.plot(history_2.history['loss'])\n",
        "plt.title('Model Loss')\n",
        "plt.ylabel('Loss')\n",
        "plt.xlabel('Epoch')\n",
        "plt.show()"
      ],
      "metadata": {
        "colab": {
          "base_uri": "https://localhost:8080/",
          "height": 472
        },
        "id": "INjVQK5RQwYY",
        "outputId": "87be188a-95a6-45ba-8f9a-29fb5c272e9f"
      },
      "execution_count": null,
      "outputs": [
        {
          "output_type": "display_data",
          "data": {
            "text/plain": [
              "<Figure size 640x480 with 1 Axes>"
            ],
            "image/png": "[encoded data removed]"
          },
          "metadata": {}
        }
      ]
    },
    {
      "cell_type": "code",
      "source": [
        "# Evaluate insurance_model_2\n",
        "insurance_model_2.evaluate(X_test, y_test)"
      ],
      "metadata": {
        "colab": {
          "base_uri": "https://localhost:8080/"
        },
        "id": "QXnBMKynMkx5",
        "outputId": "e959c55a-cba3-4368-a0ae-4fcc27b42696"
      },
      "execution_count": null,
      "outputs": [
        {
          "output_type": "stream",
          "name": "stdout",
          "text": [
            "9/9 [==============================] - 0s 2ms/step - loss: 3440.0859 - mae: 3440.0859\n"
          ]
        },
        {
          "output_type": "execute_result",
          "data": {
            "text/plain": [
              "[3440.0859375, 3440.0859375]"
            ]
          },
          "metadata": {},
          "execution_count": 339
        }
      ]
    },
    {
      "cell_type": "markdown",
      "source": [
        "As you see above, we improved our model but now, we should think that how long we train our model. It depends on the problem we are working on. There in no exact solution. But TensorFlow has a solution and it is called the [EarlyStopping Callback](https://www.tensorflow.org/api_docs/python/tf/keras/callbacks/EarlyStopping)"
      ],
      "metadata": {
        "id": "sPHlNtFsOIwI"
      }
    },
    {
      "cell_type": "markdown",
      "source": [
        "## Preprocessing data (normalization and standardization)\n",
        "\n",
        "What is normalization? \n",
        "\n",
        "The answer: [Normalization and Standardization](https://scikit-learn.org/stable/modules/preprocessing.html)\n",
        "\n",
        "In terms of scaling values, neural networks tend to prefer normalization. If you are not sure on which one use, try both and see which performs better."
      ],
      "metadata": {
        "id": "HkM_nT6FUMt2"
      }
    },
    {
      "cell_type": "markdown",
      "source": [
        "Let's reimport our data and make preprocessing"
      ],
      "metadata": {
        "id": "EIFf40wXj04A"
      }
    },
    {
      "cell_type": "code",
      "source": [
        "# Read insurance dataset\n",
        "df = pd.read_csv('https://raw.githubusercontent.com/stedy/Machine-Learning-with-R-datasets/master/insurance.csv')\n",
        "\n",
        "# firs five row\n",
        "df.head()"
      ],
      "metadata": {
        "colab": {
          "base_uri": "https://localhost:8080/",
          "height": 206
        },
        "id": "bBvZ-X5Pjms5",
        "outputId": "610a1201-36c9-444d-9289-9f9bc506f642"
      },
      "execution_count": null,
      "outputs": [
        {
          "output_type": "execute_result",
          "data": {
            "text/plain": [
              "   age     sex     bmi  children smoker     region      charges\n",
              "0   19  female  27.900         0    yes  southwest  16884.92400\n",
              "1   18    male  33.770         1     no  southeast   1725.55230\n",
              "2   28    male  33.000         3     no  southeast   4449.46200\n",
              "3   33    male  22.705         0     no  northwest  21984.47061\n",
              "4   32    male  28.880         0     no  northwest   3866.85520"
            ],
            "text/html": [
              "\n",
              "  <div id=\"df-58ea2477-7cbd-4939-9da9-74e2b4f4537c\">\n",
              "    <div class=\"colab-df-container\">\n",
              "      <div>\n",
              "<style scoped>\n",
              "    .dataframe tbody tr th:only-of-type {\n",
              "        vertical-align: middle;\n",
              "    }\n",
              "\n",
              "    .dataframe tbody tr th {\n",
              "        vertical-align: top;\n",
              "    }\n",
              "\n",
              "    .dataframe thead th {\n",
              "        text-align: right;\n",
              "    }\n",
              "</style>\n",
              "<table border=\"1\" class=\"dataframe\">\n",
              "  <thead>\n",
              "    <tr style=\"text-align: right;\">\n",
              "      <th></th>\n",
              "      <th>age</th>\n",
              "      <th>sex</th>\n",
              "      <th>bmi</th>\n",
              "      <th>children</th>\n",
              "      <th>smoker</th>\n",
              "      <th>region</th>\n",
              "      <th>charges</th>\n",
              "    </tr>\n",
              "  </thead>\n",
              "  <tbody>\n",
              "    <tr>\n",
              "      <th>0</th>\n",
              "      <td>19</td>\n",
              "      <td>female</td>\n",
              "      <td>27.900</td>\n",
              "      <td>0</td>\n",
              "      <td>yes</td>\n",
              "      <td>southwest</td>\n",
              "      <td>16884.92400</td>\n",
              "    </tr>\n",
              "    <tr>\n",
              "      <th>1</th>\n",
              "      <td>18</td>\n",
              "      <td>male</td>\n",
              "      <td>33.770</td>\n",
              "      <td>1</td>\n",
              "      <td>no</td>\n",
              "      <td>southeast</td>\n",
              "      <td>1725.55230</td>\n",
              "    </tr>\n",
              "    <tr>\n",
              "      <th>2</th>\n",
              "      <td>28</td>\n",
              "      <td>male</td>\n",
              "      <td>33.000</td>\n",
              "      <td>3</td>\n",
              "      <td>no</td>\n",
              "      <td>southeast</td>\n",
              "      <td>4449.46200</td>\n",
              "    </tr>\n",
              "    <tr>\n",
              "      <th>3</th>\n",
              "      <td>33</td>\n",
              "      <td>male</td>\n",
              "      <td>22.705</td>\n",
              "      <td>0</td>\n",
              "      <td>no</td>\n",
              "      <td>northwest</td>\n",
              "      <td>21984.47061</td>\n",
              "    </tr>\n",
              "    <tr>\n",
              "      <th>4</th>\n",
              "      <td>32</td>\n",
              "      <td>male</td>\n",
              "      <td>28.880</td>\n",
              "      <td>0</td>\n",
              "      <td>no</td>\n",
              "      <td>northwest</td>\n",
              "      <td>3866.85520</td>\n",
              "    </tr>\n",
              "  </tbody>\n",
              "</table>\n",
              "</div>\n",
              "      <button class=\"colab-df-convert\" onclick=\"convertToInteractive('df-58ea2477-7cbd-4939-9da9-74e2b4f4537c')\"\n",
              "              title=\"Convert this dataframe to an interactive table.\"\n",
              "              style=\"display:none;\">\n",
              "        \n",
              "  <svg xmlns=\"http://www.w3.org/2000/svg\" height=\"24px\"viewBox=\"0 0 24 24\"\n",
              "       width=\"24px\">\n",
              "    <path d=\"M0 0h24v24H0V0z\" fill=\"none\"/>\n",
              "    <path d=\"M18.56 5.44l.94 2.06.94-2.06 2.06-.94-2.06-.94-.94-2.06-.94 2.06-2.06.94zm-11 1L8.5 8.5l.94-2.06 2.06-.94-2.06-.94L8.5 2.5l-.94 2.06-2.06.94zm10 10l.94 2.06.94-2.06 2.06-.94-2.06-.94-.94-2.06-.94 2.06-2.06.94z\"/><path d=\"M17.41 7.96l-1.37-1.37c-.4-.4-.92-.59-1.43-.59-.52 0-1.04.2-1.43.59L10.3 9.45l-7.72 7.72c-.78.78-.78 2.05 0 2.83L4 21.41c.39.39.9.59 1.41.59.51 0 1.02-.2 1.41-.59l7.78-7.78 2.81-2.81c.8-.78.8-2.07 0-2.86zM5.41 20L4 18.59l7.72-7.72 1.47 1.35L5.41 20z\"/>\n",
              "  </svg>\n",
              "      </button>\n",
              "      \n",
              "  <style>\n",
              "    .colab-df-container {\n",
              "      display:flex;\n",
              "      flex-wrap:wrap;\n",
              "      gap: 12px;\n",
              "    }\n",
              "\n",
              "    .colab-df-convert {\n",
              "      background-color: #E8F0FE;\n",
              "      border: none;\n",
              "      border-radius: 50%;\n",
              "      cursor: pointer;\n",
              "      display: none;\n",
              "      fill: #1967D2;\n",
              "      height: 32px;\n",
              "      padding: 0 0 0 0;\n",
              "      width: 32px;\n",
              "    }\n",
              "\n",
              "    .colab-df-convert:hover {\n",
              "      background-color: #E2EBFA;\n",
              "      box-shadow: 0px 1px 2px rgba(60, 64, 67, 0.3), 0px 1px 3px 1px rgba(60, 64, 67, 0.15);\n",
              "      fill: #174EA6;\n",
              "    }\n",
              "\n",
              "    [theme=dark] .colab-df-convert {\n",
              "      background-color: #3B4455;\n",
              "      fill: #D2E3FC;\n",
              "    }\n",
              "\n",
              "    [theme=dark] .colab-df-convert:hover {\n",
              "      background-color: #434B5C;\n",
              "      box-shadow: 0px 1px 3px 1px rgba(0, 0, 0, 0.15);\n",
              "      filter: drop-shadow(0px 1px 2px rgba(0, 0, 0, 0.3));\n",
              "      fill: #FFFFFF;\n",
              "    }\n",
              "  </style>\n",
              "\n",
              "      <script>\n",
              "        const buttonEl =\n",
              "          document.querySelector('#df-58ea2477-7cbd-4939-9da9-74e2b4f4537c button.colab-df-convert');\n",
              "        buttonEl.style.display =\n",
              "          google.colab.kernel.accessAllowed ? 'block' : 'none';\n",
              "\n",
              "        async function convertToInteractive(key) {\n",
              "          const element = document.querySelector('#df-58ea2477-7cbd-4939-9da9-74e2b4f4537c');\n",
              "          const dataTable =\n",
              "            await google.colab.kernel.invokeFunction('convertToInteractive',\n",
              "                                                     [key], {});\n",
              "          if (!dataTable) return;\n",
              "\n",
              "          const docLinkHtml = 'Like what you see? Visit the ' +\n",
              "            '<a target=\"_blank\" href=https://colab.research.google.com/notebooks/data_table.ipynb>data table notebook</a>'\n",
              "            + ' to learn more about interactive tables.';\n",
              "          element.innerHTML = '';\n",
              "          dataTable['output_type'] = 'display_data';\n",
              "          await google.colab.output.renderOutput(dataTable, element);\n",
              "          const docLink = document.createElement('div');\n",
              "          docLink.innerHTML = docLinkHtml;\n",
              "          element.appendChild(docLink);\n",
              "        }\n",
              "      </script>\n",
              "    </div>\n",
              "  </div>\n",
              "  "
            ]
          },
          "metadata": {},
          "execution_count": 340
        }
      ]
    },
    {
      "cell_type": "code",
      "source": [
        "# import neccessary classes from sklearn\n",
        "from sklearn.compose import make_column_transformer\n",
        "from sklearn.preprocessing import MinMaxScaler"
      ],
      "metadata": {
        "id": "PQv9iZfMhRwr"
      },
      "execution_count": null,
      "outputs": []
    },
    {
      "cell_type": "code",
      "source": [
        "# Create a column transformer\n",
        "ct = make_column_transformer(\n",
        "    (MinMaxScaler(), ['age', 'bmi', 'children']), # turn all values in between 0 and 1 \n",
        "    (OneHotEncoder(handle_unknown='ignore', drop='first'), ['sex', 'smoker', 'region'])\n",
        ")"
      ],
      "metadata": {
        "id": "dh1MBBETV_6l"
      },
      "execution_count": null,
      "outputs": []
    },
    {
      "cell_type": "code",
      "source": [
        "# Create X and y (features and labes)\n",
        "X = df.drop('charges', axis=1)\n",
        "y = df['charges']"
      ],
      "metadata": {
        "id": "sEo-2P8FhPaf"
      },
      "execution_count": null,
      "outputs": []
    },
    {
      "cell_type": "code",
      "source": [
        "# Split data to train and test\n",
        "X_train, X_test, y_train, y_test = train_test_split(X, y, test_size=0.2, random_state=42)"
      ],
      "metadata": {
        "id": "2lRobiDpkki_"
      },
      "execution_count": null,
      "outputs": []
    },
    {
      "cell_type": "code",
      "source": [
        "# Fit the column transform to our training data\n",
        "ct.fit(X_train)\n",
        "\n",
        "# Transform training and test data with normalization (MinMaxScaler) and OneHotEncoder\n",
        "X_train_normal = ct.transform(X_train)\n",
        "X_test_normal = ct.transform(X_test)"
      ],
      "metadata": {
        "id": "agO5f6C4pyic"
      },
      "execution_count": null,
      "outputs": []
    },
    {
      "cell_type": "code",
      "source": [
        "# Check the data what look like\n",
        "X_train_normal[0]"
      ],
      "metadata": {
        "id": "hEiZ89CWsIw6",
        "colab": {
          "base_uri": "https://localhost:8080/"
        },
        "outputId": "57ca0b51-fd8d-4397-d959-3ba1a578c039"
      },
      "execution_count": null,
      "outputs": [
        {
          "output_type": "execute_result",
          "data": {
            "text/plain": [
              "array([0.60869565, 0.10734463, 0.4       , 0.        , 0.        ,\n",
              "       1.        , 0.        , 0.        ])"
            ]
          },
          "metadata": {},
          "execution_count": 346
        }
      ]
    },
    {
      "cell_type": "markdown",
      "source": [
        "Now, our data has been normalized and one hot encoded. Let's build a neural network model with our nomalized data."
      ],
      "metadata": {
        "id": "GUyL6mFAsqGh"
      }
    },
    {
      "cell_type": "code",
      "source": [
        "# Set random seed\n",
        "tf.random.set_seed(42)\n",
        "\n",
        "# 1. Create the model\n",
        "insurance_model_3 =  tf.keras.Sequential([\n",
        "    tf.keras.layers.Dense(100),\n",
        "    tf.keras.layers.Dense(10),\n",
        "    tf.keras.layers.Dense(1)\n",
        "])\n",
        "\n",
        "# 2. Compile the model\n",
        "insurance_model_3.compile(\n",
        "    loss=tf.keras.losses.mae,\n",
        "    optimizer=tf.keras.optimizers.Adam(),\n",
        "    metrics=['mae']\n",
        ")\n",
        "\n",
        "# 3. Fit the model\n",
        "history_3 = insurance_model_3.fit(X_train_normal, y_train, epochs=200, verbose=0)"
      ],
      "metadata": {
        "id": "-abW2JFXtTBP"
      },
      "execution_count": null,
      "outputs": []
    },
    {
      "cell_type": "code",
      "source": [
        "# plot the training loss and validation loss\n",
        "plt.plot(history_3.history['loss'])\n",
        "plt.title('Model Loss')\n",
        "plt.ylabel('Loss')\n",
        "plt.xlabel('Epoch')\n",
        "plt.show()"
      ],
      "metadata": {
        "colab": {
          "base_uri": "https://localhost:8080/",
          "height": 472
        },
        "id": "A3nz1lusuc3Z",
        "outputId": "263e74fa-1996-41c4-985c-b51d93887f26"
      },
      "execution_count": null,
      "outputs": [
        {
          "output_type": "display_data",
          "data": {
            "text/plain": [
              "<Figure size 640x480 with 1 Axes>"
            ],
            "image/png": "[encoded data removed]"
          },
          "metadata": {}
        }
      ]
    },
    {
      "cell_type": "code",
      "source": [
        "# Model evaluation\n",
        "insurance_model_3.evaluate(X_test_normal, y_test)"
      ],
      "metadata": {
        "colab": {
          "base_uri": "https://localhost:8080/"
        },
        "id": "RZHoo00Augop",
        "outputId": "6922c13c-6448-4d29-f5b8-10d42406decc"
      },
      "execution_count": null,
      "outputs": [
        {
          "output_type": "stream",
          "name": "stdout",
          "text": [
            "9/9 [==============================] - 0s 2ms/step - loss: 3239.3560 - mae: 3239.3560\n"
          ]
        },
        {
          "output_type": "execute_result",
          "data": {
            "text/plain": [
              "[3239.35595703125, 3239.35595703125]"
            ]
          },
          "metadata": {},
          "execution_count": 349
        }
      ]
    },
    {
      "cell_type": "markdown",
      "source": [
        "Insurance model 2 resulst:\n",
        "* 9/9 [==============================] - 0s 2ms/step - loss: 3440.0859 - mae: 3440.0859\n",
        "\n",
        "Result after normalization:\n",
        "* 9/9 [==============================] - 0s 2ms/step - loss: 3244.9829 - mae: 3244.9829"
      ],
      "metadata": {
        "id": "n1asHwEtvH3Y"
      }
    }
  ]
}