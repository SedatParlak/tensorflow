{
  "nbformat": 4,
  "nbformat_minor": 0,
  "metadata": {
    "colab": {
      "provenance": [],
      "toc_visible": true,
      "authorship_tag": "ABX9TyOKce3ZClKDh/vR3pH2znNd"
    },
    "kernelspec": {
      "name": "python3",
      "display_name": "Python 3"
    },
    "language_info": {
      "name": "python"
    },
    "accelerator": "GPU",
    "gpuClass": "standard"
  },
  "cells": [
    {
      "cell_type": "markdown",
      "source": [
        "# Introduction to Regression with Neural Network in TensorFlow"
      ],
      "metadata": {
        "id": "LcyshQVV0tsD"
      }
    },
    {
      "cell_type": "markdown",
      "source": [
        "There are many definition for a regression problem but in our case, we're going to simplfy it: prediction a numerical variable based on combination of other variables. Even shorter, predicting a number..."
      ],
      "metadata": {
        "id": "tfmMQ1w72x3J"
      }
    },
    {
      "cell_type": "code",
      "source": [
        "# import tensorflow\n",
        "import tensorflow as tf\n",
        "print(tf.__version__)\n",
        "\n",
        "# import numpy and matplotlib\n",
        "import numpy as np\n",
        "import matplotlib.pyplot as plt"
      ],
      "metadata": {
        "id": "8v1QKjt_3xBB",
        "colab": {
          "base_uri": "https://localhost:8080/"
        },
        "outputId": "7dedffef-f282-4914-82b3-d5fbb348d05e"
      },
      "execution_count": null,
      "outputs": [
        {
          "output_type": "stream",
          "name": "stdout",
          "text": [
            "2.12.0\n"
          ]
        }
      ]
    },
    {
      "cell_type": "markdown",
      "source": [
        "## Creating data to view and fit"
      ],
      "metadata": {
        "id": "UDLnkL8p4UQ_"
      }
    },
    {
      "cell_type": "code",
      "source": [
        "# Create features\n",
        "X = np.array([-7.0, -4.0, -1.0, 2.0, 5.0, 8.0, 11.0, 14.0])\n",
        "\n",
        "# Create labels\n",
        "y = np.array([3.0, 6.0, 9.0, 12.0, 15.0, 18.0, 21.0, 24.0])\n",
        "\n",
        "# Visualize features and labels\n",
        "plt.scatter(X, y)\n",
        "plt.xlabel('X')\n",
        "plt.ylabel('y')\n",
        "plt.show()"
      ],
      "metadata": {
        "id": "RuQAeUbN4tYO",
        "colab": {
          "base_uri": "https://localhost:8080/",
          "height": 454
        },
        "outputId": "7638fc4c-45bf-47fa-9cb1-f8eb596f57a5"
      },
      "execution_count": null,
      "outputs": [
        {
          "output_type": "display_data",
          "data": {
            "text/plain": [
              "<Figure size 640x480 with 1 Axes>"
            ],
            "image/png": "[encoded data removed]"
          },
          "metadata": {}
        }
      ]
    },
    {
      "cell_type": "code",
      "source": [
        "y == X + 10"
      ],
      "metadata": {
        "id": "Jn3mgVDT5RgW",
        "colab": {
          "base_uri": "https://localhost:8080/"
        },
        "outputId": "b8887e87-e572-4ce4-8398-72985a4be17a"
      },
      "execution_count": null,
      "outputs": [
        {
          "output_type": "execute_result",
          "data": {
            "text/plain": [
              "array([ True,  True,  True,  True,  True,  True,  True,  True])"
            ]
          },
          "metadata": {},
          "execution_count": 3
        }
      ]
    },
    {
      "cell_type": "markdown",
      "source": [
        "## Input and output shapes"
      ],
      "metadata": {
        "id": "J-xaVhtv60EW"
      }
    },
    {
      "cell_type": "code",
      "source": [
        "# Let's check the input and output shape (Note that these shapes are not correct one)\n",
        "input_shape = X.shape\n",
        "output_shape = y.shape\n",
        "\n",
        "input_shape, output_shape"
      ],
      "metadata": {
        "id": "6-3TQvFy7-fn",
        "colab": {
          "base_uri": "https://localhost:8080/"
        },
        "outputId": "269e1ff9-4be8-423f-b886-394c29b937ee"
      },
      "execution_count": null,
      "outputs": [
        {
          "output_type": "execute_result",
          "data": {
            "text/plain": [
              "((8,), (8,))"
            ]
          },
          "metadata": {},
          "execution_count": 4
        }
      ]
    },
    {
      "cell_type": "code",
      "source": [
        "# Let's check another input and output shape (Note that these shapes are not correct one)\n",
        "input_shape = X[0].shape\n",
        "output_shape = y[0].shape\n",
        "\n",
        "input_shape, output_shape"
      ],
      "metadata": {
        "colab": {
          "base_uri": "https://localhost:8080/"
        },
        "id": "6b666i2M-IKA",
        "outputId": "8966be06-1b5d-4260-a319-473d645694f9"
      },
      "execution_count": null,
      "outputs": [
        {
          "output_type": "execute_result",
          "data": {
            "text/plain": [
              "((), ())"
            ]
          },
          "metadata": {},
          "execution_count": 5
        }
      ]
    },
    {
      "cell_type": "markdown",
      "source": [
        "As you see above, it seems our inputs and outputs have no shape. Let's turn numpy arrays to tensors for finding correct shape."
      ],
      "metadata": {
        "id": "utrAueJD-gku"
      }
    },
    {
      "cell_type": "code",
      "source": [
        "# Turn numpy array to tensors\n",
        "X = tf.constant(X)\n",
        "y = tf.constant(y)\n",
        "\n",
        "X, y"
      ],
      "metadata": {
        "colab": {
          "base_uri": "https://localhost:8080/"
        },
        "id": "U_UJVgHt-gLA",
        "outputId": "2ed91600-a23e-47dc-d798-cf2cfaefc5a7"
      },
      "execution_count": null,
      "outputs": [
        {
          "output_type": "execute_result",
          "data": {
            "text/plain": [
              "(<tf.Tensor: shape=(8,), dtype=float64, numpy=array([-7., -4., -1.,  2.,  5.,  8., 11., 14.])>,\n",
              " <tf.Tensor: shape=(8,), dtype=float64, numpy=array([ 3.,  6.,  9., 12., 15., 18., 21., 24.])>)"
            ]
          },
          "metadata": {},
          "execution_count": 6
        }
      ]
    },
    {
      "cell_type": "code",
      "source": [
        "# Check tensor shapes\n",
        "input_shape = X[0].shape\n",
        "output_shape = y[0].shape\n",
        "\n",
        "input_shape, output_shape"
      ],
      "metadata": {
        "colab": {
          "base_uri": "https://localhost:8080/"
        },
        "id": "vFqJ795t-ew7",
        "outputId": "804d87e1-53af-4d78-ad5e-77f6a196218c"
      },
      "execution_count": null,
      "outputs": [
        {
          "output_type": "execute_result",
          "data": {
            "text/plain": [
              "(TensorShape([]), TensorShape([]))"
            ]
          },
          "metadata": {},
          "execution_count": 7
        }
      ]
    },
    {
      "cell_type": "markdown",
      "source": [
        "## Steps in modelling with Tensorflow\n",
        "\n",
        "1. **Creating a model** - define input and output layer, as well as the hidden layers of deep learning model.\n",
        "2. **Compiling  a model** - define the loss function (in other words, the function which tells our model how wrong it is) and optimizer (tells our model how to improve the patterns its learning) and evaluation metrics (what we can use to interpret the performanse of our model)\n",
        "3. **Fitting a model** - letting the model try to find patterns features and labels\n",
        "\n",
        "![image.png](data:image/png;base64,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)"
      ],
      "metadata": {
        "id": "u17pnP7jBh1b"
      }
    },
    {
      "cell_type": "code",
      "source": [
        "# set random seed\n",
        "tf.random.set_seed(42)\n",
        "\n",
        "# 1. Create a model using Sequential API\n",
        "model = tf.keras.Sequential([\n",
        "    tf.keras.layers.Dense(1)\n",
        "])\n",
        "\n",
        "# 2. Compiling a model\n",
        "model.compile(\n",
        "    loss=tf.keras.losses.mae, # mae short for mean absolute error\n",
        "    optimizer=tf.keras.optimizers.SGD(), # SGD short for stochastic gradient descent\n",
        "    metrics=['mae']\n",
        ")\n",
        "\n",
        "# 3. Fit the model\n",
        "model.fit(tf.expand_dims(X, axis=-1), y, epochs=5)"
      ],
      "metadata": {
        "id": "aVaI2_oeDYyn",
        "colab": {
          "base_uri": "https://localhost:8080/"
        },
        "outputId": "c7e35988-5825-469a-f28c-526563e3ed74"
      },
      "execution_count": null,
      "outputs": [
        {
          "output_type": "stream",
          "name": "stdout",
          "text": [
            "Epoch 1/5\n",
            "1/1 [==============================] - 1s 836ms/step - loss: 16.7916 - mae: 16.7916\n",
            "Epoch 2/5\n",
            "1/1 [==============================] - 0s 19ms/step - loss: 16.5104 - mae: 16.5104\n",
            "Epoch 3/5\n",
            "1/1 [==============================] - 0s 14ms/step - loss: 16.2291 - mae: 16.2291\n",
            "Epoch 4/5\n",
            "1/1 [==============================] - 0s 13ms/step - loss: 15.9479 - mae: 15.9479\n",
            "Epoch 5/5\n",
            "1/1 [==============================] - 0s 11ms/step - loss: 15.6666 - mae: 15.6666\n"
          ]
        },
        {
          "output_type": "execute_result",
          "data": {
            "text/plain": [
              "<keras.callbacks.History at 0x7f8c402d0e20>"
            ]
          },
          "metadata": {},
          "execution_count": 8
        }
      ]
    },
    {
      "cell_type": "code",
      "source": [
        "# Check X and y\n",
        "X, y"
      ],
      "metadata": {
        "colab": {
          "base_uri": "https://localhost:8080/"
        },
        "id": "eoQxKdpKhTgO",
        "outputId": "a580544c-5ef0-409f-cc46-158a84edfc58"
      },
      "execution_count": null,
      "outputs": [
        {
          "output_type": "execute_result",
          "data": {
            "text/plain": [
              "(<tf.Tensor: shape=(8,), dtype=float64, numpy=array([-7., -4., -1.,  2.,  5.,  8., 11., 14.])>,\n",
              " <tf.Tensor: shape=(8,), dtype=float64, numpy=array([ 3.,  6.,  9., 12., 15., 18., 21., 24.])>)"
            ]
          },
          "metadata": {},
          "execution_count": 9
        }
      ]
    },
    {
      "cell_type": "code",
      "source": [
        "# Try to make a prediction using our model\n",
        "model.predict([17.0])"
      ],
      "metadata": {
        "colab": {
          "base_uri": "https://localhost:8080/"
        },
        "id": "AKi0_0R8ncy0",
        "outputId": "3f8785e1-8fc6-4fd5-e671-f50ebef7b169"
      },
      "execution_count": null,
      "outputs": [
        {
          "output_type": "stream",
          "name": "stdout",
          "text": [
            "1/1 [==============================] - 0s 162ms/step\n"
          ]
        },
        {
          "output_type": "execute_result",
          "data": {
            "text/plain": [
              "array([[-8.587208]], dtype=float32)"
            ]
          },
          "metadata": {},
          "execution_count": 10
        }
      ]
    },
    {
      "cell_type": "markdown",
      "source": [
        "Our expection for 17.0 is 27.0 but model prediction is -23.68. This is so bad prediction."
      ],
      "metadata": {
        "id": "1zZP0IgNoJxW"
      }
    },
    {
      "cell_type": "markdown",
      "source": [
        "## Improving Model\n",
        "\n",
        "We can improve our model, by altering the steps we took to create a model.\n",
        "\n",
        "1. **Creating a model** - Here we might add more layers, increase the number of hidden units (called neuron) within each of the hidden layers, change the activation function of each layer\n",
        "2. **Compiling a model** - Here we might change the optimization function or perhaps the learning rate of the optimization function\n",
        "3. **Fitting a model** - Here we might change the number of epoch (leave it training for longer) or more data (give the model more example to learn from)"
      ],
      "metadata": {
        "id": "kTyxRAcVniMV"
      }
    },
    {
      "cell_type": "markdown",
      "source": [
        "### Increasing number of epoch"
      ],
      "metadata": {
        "id": "k4u4Bo4WxJj3"
      }
    },
    {
      "cell_type": "code",
      "source": [
        "# Let's rebuild model (increasing number of epoch)\n",
        "\n",
        "# 1. Create a model using Sequential API\n",
        "model = tf.keras.Sequential([\n",
        "    tf.keras.layers.Dense(1)\n",
        "])\n",
        "\n",
        "# 2. Compiling a model\n",
        "model.compile(\n",
        "    loss=tf.keras.losses.mae, # mae short for mean absolute error\n",
        "    optimizer=tf.keras.optimizers.SGD(), # SGD short for stochastic gradient descent\n",
        "    metrics=['mae']\n",
        ")\n",
        "\n",
        "# 3. Fit the model\n",
        "model.fit(tf.expand_dims(X, axis=-1), y, epochs=100)"
      ],
      "metadata": {
        "colab": {
          "base_uri": "https://localhost:8080/"
        },
        "id": "Bi_JOvMdwMLj",
        "outputId": "c9deebcf-8546-4eee-9be8-406fa6637b50"
      },
      "execution_count": null,
      "outputs": [
        {
          "output_type": "stream",
          "name": "stdout",
          "text": [
            "Epoch 1/100\n",
            "1/1 [==============================] - 1s 538ms/step - loss: 13.8577 - mae: 13.8577\n",
            "Epoch 2/100\n",
            "1/1 [==============================] - 0s 19ms/step - loss: 13.7252 - mae: 13.7252\n",
            "Epoch 3/100\n",
            "1/1 [==============================] - 0s 11ms/step - loss: 13.5927 - mae: 13.5927\n",
            "Epoch 4/100\n",
            "1/1 [==============================] - 0s 15ms/step - loss: 13.4602 - mae: 13.4602\n",
            "Epoch 5/100\n",
            "1/1 [==============================] - 0s 11ms/step - loss: 13.3277 - mae: 13.3277\n",
            "Epoch 6/100\n",
            "1/1 [==============================] - 0s 10ms/step - loss: 13.1952 - mae: 13.1952\n",
            "Epoch 7/100\n",
            "1/1 [==============================] - 0s 10ms/step - loss: 13.0627 - mae: 13.0627\n",
            "Epoch 8/100\n",
            "1/1 [==============================] - 0s 11ms/step - loss: 12.9302 - mae: 12.9302\n",
            "Epoch 9/100\n",
            "1/1 [==============================] - 0s 10ms/step - loss: 12.7977 - mae: 12.7977\n",
            "Epoch 10/100\n",
            "1/1 [==============================] - 0s 13ms/step - loss: 12.6652 - mae: 12.6652\n",
            "Epoch 11/100\n",
            "1/1 [==============================] - 0s 11ms/step - loss: 12.5327 - mae: 12.5327\n",
            "Epoch 12/100\n",
            "1/1 [==============================] - 0s 12ms/step - loss: 12.4002 - mae: 12.4002\n",
            "Epoch 13/100\n",
            "1/1 [==============================] - 0s 12ms/step - loss: 12.2677 - mae: 12.2677\n",
            "Epoch 14/100\n",
            "1/1 [==============================] - 0s 10ms/step - loss: 12.1352 - mae: 12.1352\n",
            "Epoch 15/100\n",
            "1/1 [==============================] - 0s 10ms/step - loss: 12.0027 - mae: 12.0027\n",
            "Epoch 16/100\n",
            "1/1 [==============================] - 0s 11ms/step - loss: 11.8702 - mae: 11.8702\n",
            "Epoch 17/100\n",
            "1/1 [==============================] - 0s 9ms/step - loss: 11.7377 - mae: 11.7377\n",
            "Epoch 18/100\n",
            "1/1 [==============================] - 0s 9ms/step - loss: 11.6052 - mae: 11.6052\n",
            "Epoch 19/100\n",
            "1/1 [==============================] - 0s 9ms/step - loss: 11.4727 - mae: 11.4727\n",
            "Epoch 20/100\n",
            "1/1 [==============================] - 0s 9ms/step - loss: 11.3402 - mae: 11.3402\n",
            "Epoch 21/100\n",
            "1/1 [==============================] - 0s 9ms/step - loss: 11.2077 - mae: 11.2077\n",
            "Epoch 22/100\n",
            "1/1 [==============================] - 0s 9ms/step - loss: 11.0752 - mae: 11.0752\n",
            "Epoch 23/100\n",
            "1/1 [==============================] - 0s 11ms/step - loss: 10.9427 - mae: 10.9427\n",
            "Epoch 24/100\n",
            "1/1 [==============================] - 0s 9ms/step - loss: 10.8102 - mae: 10.8102\n",
            "Epoch 25/100\n",
            "1/1 [==============================] - 0s 9ms/step - loss: 10.6777 - mae: 10.6777\n",
            "Epoch 26/100\n",
            "1/1 [==============================] - 0s 9ms/step - loss: 10.5452 - mae: 10.5452\n",
            "Epoch 27/100\n",
            "1/1 [==============================] - 0s 10ms/step - loss: 10.4127 - mae: 10.4127\n",
            "Epoch 28/100\n",
            "1/1 [==============================] - 0s 9ms/step - loss: 10.2802 - mae: 10.2802\n",
            "Epoch 29/100\n",
            "1/1 [==============================] - 0s 10ms/step - loss: 10.1477 - mae: 10.1477\n",
            "Epoch 30/100\n",
            "1/1 [==============================] - 0s 10ms/step - loss: 10.0152 - mae: 10.0152\n",
            "Epoch 31/100\n",
            "1/1 [==============================] - 0s 10ms/step - loss: 9.8827 - mae: 9.8827\n",
            "Epoch 32/100\n",
            "1/1 [==============================] - 0s 10ms/step - loss: 9.7502 - mae: 9.7502\n",
            "Epoch 33/100\n",
            "1/1 [==============================] - 0s 10ms/step - loss: 9.6177 - mae: 9.6177\n",
            "Epoch 34/100\n",
            "1/1 [==============================] - 0s 10ms/step - loss: 9.4852 - mae: 9.4852\n",
            "Epoch 35/100\n",
            "1/1 [==============================] - 0s 10ms/step - loss: 9.3527 - mae: 9.3527\n",
            "Epoch 36/100\n",
            "1/1 [==============================] - 0s 10ms/step - loss: 9.2202 - mae: 9.2202\n",
            "Epoch 37/100\n",
            "1/1 [==============================] - 0s 9ms/step - loss: 9.0877 - mae: 9.0877\n",
            "Epoch 38/100\n",
            "1/1 [==============================] - 0s 9ms/step - loss: 8.9552 - mae: 8.9552\n",
            "Epoch 39/100\n",
            "1/1 [==============================] - 0s 10ms/step - loss: 8.8227 - mae: 8.8227\n",
            "Epoch 40/100\n",
            "1/1 [==============================] - 0s 10ms/step - loss: 8.6902 - mae: 8.6902\n",
            "Epoch 41/100\n",
            "1/1 [==============================] - 0s 10ms/step - loss: 8.5577 - mae: 8.5577\n",
            "Epoch 42/100\n",
            "1/1 [==============================] - 0s 9ms/step - loss: 8.4252 - mae: 8.4252\n",
            "Epoch 43/100\n",
            "1/1 [==============================] - 0s 10ms/step - loss: 8.2927 - mae: 8.2927\n",
            "Epoch 44/100\n",
            "1/1 [==============================] - 0s 9ms/step - loss: 8.1602 - mae: 8.1602\n",
            "Epoch 45/100\n",
            "1/1 [==============================] - 0s 9ms/step - loss: 8.0277 - mae: 8.0277\n",
            "Epoch 46/100\n",
            "1/1 [==============================] - 0s 10ms/step - loss: 7.8952 - mae: 7.8952\n",
            "Epoch 47/100\n",
            "1/1 [==============================] - 0s 10ms/step - loss: 7.7627 - mae: 7.7627\n",
            "Epoch 48/100\n",
            "1/1 [==============================] - 0s 10ms/step - loss: 7.6302 - mae: 7.6302\n",
            "Epoch 49/100\n",
            "1/1 [==============================] - 0s 10ms/step - loss: 7.4977 - mae: 7.4977\n",
            "Epoch 50/100\n",
            "1/1 [==============================] - 0s 11ms/step - loss: 7.3652 - mae: 7.3652\n",
            "Epoch 51/100\n",
            "1/1 [==============================] - 0s 10ms/step - loss: 7.2327 - mae: 7.2327\n",
            "Epoch 52/100\n",
            "1/1 [==============================] - 0s 10ms/step - loss: 7.1175 - mae: 7.1175\n",
            "Epoch 53/100\n",
            "1/1 [==============================] - 0s 10ms/step - loss: 7.1119 - mae: 7.1119\n",
            "Epoch 54/100\n",
            "1/1 [==============================] - 0s 10ms/step - loss: 7.1063 - mae: 7.1063\n",
            "Epoch 55/100\n",
            "1/1 [==============================] - 0s 10ms/step - loss: 7.1006 - mae: 7.1006\n",
            "Epoch 56/100\n",
            "1/1 [==============================] - 0s 13ms/step - loss: 7.0950 - mae: 7.0950\n",
            "Epoch 57/100\n",
            "1/1 [==============================] - 0s 11ms/step - loss: 7.0894 - mae: 7.0894\n",
            "Epoch 58/100\n",
            "1/1 [==============================] - 0s 12ms/step - loss: 7.0838 - mae: 7.0838\n",
            "Epoch 59/100\n",
            "1/1 [==============================] - 0s 11ms/step - loss: 7.0781 - mae: 7.0781\n",
            "Epoch 60/100\n",
            "1/1 [==============================] - 0s 11ms/step - loss: 7.0725 - mae: 7.0725\n",
            "Epoch 61/100\n",
            "1/1 [==============================] - 0s 11ms/step - loss: 7.0669 - mae: 7.0669\n",
            "Epoch 62/100\n",
            "1/1 [==============================] - 0s 10ms/step - loss: 7.0612 - mae: 7.0612\n",
            "Epoch 63/100\n",
            "1/1 [==============================] - 0s 11ms/step - loss: 7.0556 - mae: 7.0556\n",
            "Epoch 64/100\n",
            "1/1 [==============================] - 0s 14ms/step - loss: 7.0500 - mae: 7.0500\n",
            "Epoch 65/100\n",
            "1/1 [==============================] - 0s 11ms/step - loss: 7.0444 - mae: 7.0444\n",
            "Epoch 66/100\n",
            "1/1 [==============================] - 0s 11ms/step - loss: 7.0388 - mae: 7.0388\n",
            "Epoch 67/100\n",
            "1/1 [==============================] - 0s 10ms/step - loss: 7.0331 - mae: 7.0331\n",
            "Epoch 68/100\n",
            "1/1 [==============================] - 0s 11ms/step - loss: 7.0275 - mae: 7.0275\n",
            "Epoch 69/100\n",
            "1/1 [==============================] - 0s 11ms/step - loss: 7.0219 - mae: 7.0219\n",
            "Epoch 70/100\n",
            "1/1 [==============================] - 0s 11ms/step - loss: 7.0163 - mae: 7.0163\n",
            "Epoch 71/100\n",
            "1/1 [==============================] - 0s 13ms/step - loss: 7.0106 - mae: 7.0106\n",
            "Epoch 72/100\n",
            "1/1 [==============================] - 0s 11ms/step - loss: 7.0050 - mae: 7.0050\n",
            "Epoch 73/100\n",
            "1/1 [==============================] - 0s 11ms/step - loss: 6.9994 - mae: 6.9994\n",
            "Epoch 74/100\n",
            "1/1 [==============================] - 0s 11ms/step - loss: 6.9938 - mae: 6.9938\n",
            "Epoch 75/100\n",
            "1/1 [==============================] - 0s 10ms/step - loss: 6.9881 - mae: 6.9881\n",
            "Epoch 76/100\n",
            "1/1 [==============================] - 0s 10ms/step - loss: 6.9825 - mae: 6.9825\n",
            "Epoch 77/100\n",
            "1/1 [==============================] - 0s 10ms/step - loss: 6.9769 - mae: 6.9769\n",
            "Epoch 78/100\n",
            "1/1 [==============================] - 0s 10ms/step - loss: 6.9713 - mae: 6.9713\n",
            "Epoch 79/100\n",
            "1/1 [==============================] - 0s 10ms/step - loss: 6.9656 - mae: 6.9656\n",
            "Epoch 80/100\n",
            "1/1 [==============================] - 0s 11ms/step - loss: 6.9600 - mae: 6.9600\n",
            "Epoch 81/100\n",
            "1/1 [==============================] - 0s 11ms/step - loss: 6.9544 - mae: 6.9544\n",
            "Epoch 82/100\n",
            "1/1 [==============================] - 0s 11ms/step - loss: 6.9488 - mae: 6.9488\n",
            "Epoch 83/100\n",
            "1/1 [==============================] - 0s 11ms/step - loss: 6.9431 - mae: 6.9431\n",
            "Epoch 84/100\n",
            "1/1 [==============================] - 0s 11ms/step - loss: 6.9375 - mae: 6.9375\n",
            "Epoch 85/100\n",
            "1/1 [==============================] - 0s 10ms/step - loss: 6.9319 - mae: 6.9319\n",
            "Epoch 86/100\n",
            "1/1 [==============================] - 0s 11ms/step - loss: 6.9263 - mae: 6.9263\n",
            "Epoch 87/100\n",
            "1/1 [==============================] - 0s 10ms/step - loss: 6.9206 - mae: 6.9206\n",
            "Epoch 88/100\n",
            "1/1 [==============================] - 0s 10ms/step - loss: 6.9150 - mae: 6.9150\n",
            "Epoch 89/100\n",
            "1/1 [==============================] - 0s 11ms/step - loss: 6.9094 - mae: 6.9094\n",
            "Epoch 90/100\n",
            "1/1 [==============================] - 0s 11ms/step - loss: 6.9038 - mae: 6.9038\n",
            "Epoch 91/100\n",
            "1/1 [==============================] - 0s 11ms/step - loss: 6.8981 - mae: 6.8981\n",
            "Epoch 92/100\n",
            "1/1 [==============================] - 0s 11ms/step - loss: 6.8925 - mae: 6.8925\n",
            "Epoch 93/100\n",
            "1/1 [==============================] - 0s 11ms/step - loss: 6.8869 - mae: 6.8869\n",
            "Epoch 94/100\n",
            "1/1 [==============================] - 0s 10ms/step - loss: 6.8813 - mae: 6.8813\n",
            "Epoch 95/100\n",
            "1/1 [==============================] - 0s 10ms/step - loss: 6.8756 - mae: 6.8756\n",
            "Epoch 96/100\n",
            "1/1 [==============================] - 0s 10ms/step - loss: 6.8700 - mae: 6.8700\n",
            "Epoch 97/100\n",
            "1/1 [==============================] - 0s 10ms/step - loss: 6.8644 - mae: 6.8644\n",
            "Epoch 98/100\n",
            "1/1 [==============================] - 0s 12ms/step - loss: 6.8588 - mae: 6.8588\n",
            "Epoch 99/100\n",
            "1/1 [==============================] - 0s 10ms/step - loss: 6.8531 - mae: 6.8531\n",
            "Epoch 100/100\n",
            "1/1 [==============================] - 0s 9ms/step - loss: 6.8475 - mae: 6.8475\n"
          ]
        },
        {
          "output_type": "execute_result",
          "data": {
            "text/plain": [
              "<keras.callbacks.History at 0x7f8c3a7e1f40>"
            ]
          },
          "metadata": {},
          "execution_count": 11
        }
      ]
    },
    {
      "cell_type": "code",
      "source": [
        "# Remind X and y\n",
        "X, y"
      ],
      "metadata": {
        "colab": {
          "base_uri": "https://localhost:8080/"
        },
        "id": "h8O7Wj--wZjS",
        "outputId": "e7b97952-e865-4cea-e3d7-14694ea3e442"
      },
      "execution_count": null,
      "outputs": [
        {
          "output_type": "execute_result",
          "data": {
            "text/plain": [
              "(<tf.Tensor: shape=(8,), dtype=float64, numpy=array([-7., -4., -1.,  2.,  5.,  8., 11., 14.])>,\n",
              " <tf.Tensor: shape=(8,), dtype=float64, numpy=array([ 3.,  6.,  9., 12., 15., 18., 21., 24.])>)"
            ]
          },
          "metadata": {},
          "execution_count": 12
        }
      ]
    },
    {
      "cell_type": "code",
      "source": [
        "# Let's make a new prediction\n",
        "model.predict([17.0])"
      ],
      "metadata": {
        "colab": {
          "base_uri": "https://localhost:8080/"
        },
        "id": "XYtsooJdwMG8",
        "outputId": "2a8c68ff-d398-4ff2-da79-19cdb8ce223d"
      },
      "execution_count": null,
      "outputs": [
        {
          "output_type": "stream",
          "name": "stdout",
          "text": [
            "1/1 [==============================] - 0s 108ms/step\n"
          ]
        },
        {
          "output_type": "execute_result",
          "data": {
            "text/plain": [
              "array([[29.485254]], dtype=float32)"
            ]
          },
          "metadata": {},
          "execution_count": 13
        }
      ]
    },
    {
      "cell_type": "markdown",
      "source": [
        "Our expection is 27 and model prediction is 29.52. This is better and close than before."
      ],
      "metadata": {
        "id": "0QOofSnrwnDT"
      }
    },
    {
      "cell_type": "markdown",
      "source": [
        "### Adding more hidden layers with 100 neuron"
      ],
      "metadata": {
        "id": "jE4gt4ePxQy7"
      }
    },
    {
      "cell_type": "code",
      "source": [
        "# Let's rebuild model\n",
        "\n",
        "# 1. Create a model \n",
        "model = tf.keras.Sequential([\n",
        "    tf.keras.layers.Dense(100, activation='relu'),\n",
        "    tf.keras.layers.Dense(100, activation='relu'),\n",
        "    tf.keras.layers.Dense(100, activation='relu'),\n",
        "    tf.keras.layers.Dense(1)\n",
        "])\n",
        "\n",
        "# 2. Compiling model\n",
        "model.compile(\n",
        "    loss=tf.keras.losses.mae,\n",
        "    optimizer=tf.keras.optimizers.SGD(),\n",
        "    metrics=['mae']\n",
        ")\n",
        "\n",
        "# 3. Fit the model\n",
        "model.fit(tf.expand_dims(X, axis=-1), y, epochs=100)"
      ],
      "metadata": {
        "id": "XHz90iinobiX",
        "outputId": "b7c5309d-a41d-4718-f863-0748ab0ecafa",
        "colab": {
          "base_uri": "https://localhost:8080/"
        }
      },
      "execution_count": null,
      "outputs": [
        {
          "output_type": "stream",
          "name": "stdout",
          "text": [
            "Epoch 1/100\n",
            "1/1 [==============================] - 1s 617ms/step - loss: 13.0087 - mae: 13.0087\n",
            "Epoch 2/100\n",
            "1/1 [==============================] - 0s 13ms/step - loss: 12.6774 - mae: 12.6774\n",
            "Epoch 3/100\n",
            "1/1 [==============================] - 0s 12ms/step - loss: 12.3404 - mae: 12.3404\n",
            "Epoch 4/100\n",
            "1/1 [==============================] - 0s 10ms/step - loss: 11.9916 - mae: 11.9916\n",
            "Epoch 5/100\n",
            "1/1 [==============================] - 0s 14ms/step - loss: 11.6006 - mae: 11.6006\n",
            "Epoch 6/100\n",
            "1/1 [==============================] - 0s 11ms/step - loss: 11.1634 - mae: 11.1634\n",
            "Epoch 7/100\n",
            "1/1 [==============================] - 0s 16ms/step - loss: 10.6003 - mae: 10.6003\n",
            "Epoch 8/100\n",
            "1/1 [==============================] - 0s 13ms/step - loss: 9.9296 - mae: 9.9296\n",
            "Epoch 9/100\n",
            "1/1 [==============================] - 0s 15ms/step - loss: 9.2596 - mae: 9.2596\n",
            "Epoch 10/100\n",
            "1/1 [==============================] - 0s 11ms/step - loss: 8.4107 - mae: 8.4107\n",
            "Epoch 11/100\n",
            "1/1 [==============================] - 0s 12ms/step - loss: 7.2836 - mae: 7.2836\n",
            "Epoch 12/100\n",
            "1/1 [==============================] - 0s 11ms/step - loss: 5.7954 - mae: 5.7954\n",
            "Epoch 13/100\n",
            "1/1 [==============================] - 0s 10ms/step - loss: 4.0465 - mae: 4.0465\n",
            "Epoch 14/100\n",
            "1/1 [==============================] - 0s 10ms/step - loss: 3.9865 - mae: 3.9865\n",
            "Epoch 15/100\n",
            "1/1 [==============================] - 0s 11ms/step - loss: 3.9989 - mae: 3.9989\n",
            "Epoch 16/100\n",
            "1/1 [==============================] - 0s 10ms/step - loss: 3.9956 - mae: 3.9956\n",
            "Epoch 17/100\n",
            "1/1 [==============================] - 0s 13ms/step - loss: 3.9497 - mae: 3.9497\n",
            "Epoch 18/100\n",
            "1/1 [==============================] - 0s 22ms/step - loss: 4.0061 - mae: 4.0061\n",
            "Epoch 19/100\n",
            "1/1 [==============================] - 0s 11ms/step - loss: 3.8988 - mae: 3.8988\n",
            "Epoch 20/100\n",
            "1/1 [==============================] - 0s 10ms/step - loss: 4.0179 - mae: 4.0179\n",
            "Epoch 21/100\n",
            "1/1 [==============================] - 0s 13ms/step - loss: 3.8463 - mae: 3.8463\n",
            "Epoch 22/100\n",
            "1/1 [==============================] - 0s 10ms/step - loss: 4.0310 - mae: 4.0310\n",
            "Epoch 23/100\n",
            "1/1 [==============================] - 0s 8ms/step - loss: 3.8290 - mae: 3.8290\n",
            "Epoch 24/100\n",
            "1/1 [==============================] - 0s 12ms/step - loss: 3.9955 - mae: 3.9955\n",
            "Epoch 25/100\n",
            "1/1 [==============================] - 0s 10ms/step - loss: 3.8419 - mae: 3.8419\n",
            "Epoch 26/100\n",
            "1/1 [==============================] - 0s 11ms/step - loss: 3.9445 - mae: 3.9445\n",
            "Epoch 27/100\n",
            "1/1 [==============================] - 0s 10ms/step - loss: 3.8554 - mae: 3.8554\n",
            "Epoch 28/100\n",
            "1/1 [==============================] - 0s 10ms/step - loss: 3.8905 - mae: 3.8905\n",
            "Epoch 29/100\n",
            "1/1 [==============================] - 0s 11ms/step - loss: 3.8707 - mae: 3.8707\n",
            "Epoch 30/100\n",
            "1/1 [==============================] - 0s 11ms/step - loss: 3.8338 - mae: 3.8338\n",
            "Epoch 31/100\n",
            "1/1 [==============================] - 0s 11ms/step - loss: 3.8872 - mae: 3.8872\n",
            "Epoch 32/100\n",
            "1/1 [==============================] - 0s 11ms/step - loss: 3.7757 - mae: 3.7757\n",
            "Epoch 33/100\n",
            "1/1 [==============================] - 0s 10ms/step - loss: 3.9049 - mae: 3.9049\n",
            "Epoch 34/100\n",
            "1/1 [==============================] - 0s 14ms/step - loss: 3.7160 - mae: 3.7160\n",
            "Epoch 35/100\n",
            "1/1 [==============================] - 0s 10ms/step - loss: 3.9243 - mae: 3.9243\n",
            "Epoch 36/100\n",
            "1/1 [==============================] - 0s 11ms/step - loss: 3.7271 - mae: 3.7271\n",
            "Epoch 37/100\n",
            "1/1 [==============================] - 0s 11ms/step - loss: 3.8926 - mae: 3.8926\n",
            "Epoch 38/100\n",
            "1/1 [==============================] - 0s 13ms/step - loss: 3.7850 - mae: 3.7850\n",
            "Epoch 39/100\n",
            "1/1 [==============================] - 0s 11ms/step - loss: 3.7834 - mae: 3.7834\n",
            "Epoch 40/100\n",
            "1/1 [==============================] - 0s 11ms/step - loss: 3.8041 - mae: 3.8041\n",
            "Epoch 41/100\n",
            "1/1 [==============================] - 0s 11ms/step - loss: 3.7196 - mae: 3.7196\n",
            "Epoch 42/100\n",
            "1/1 [==============================] - 0s 11ms/step - loss: 3.8252 - mae: 3.8252\n",
            "Epoch 43/100\n",
            "1/1 [==============================] - 0s 11ms/step - loss: 3.6548 - mae: 3.6548\n",
            "Epoch 44/100\n",
            "1/1 [==============================] - 0s 11ms/step - loss: 3.8469 - mae: 3.8469\n",
            "Epoch 45/100\n",
            "1/1 [==============================] - 0s 15ms/step - loss: 3.6546 - mae: 3.6546\n",
            "Epoch 46/100\n",
            "1/1 [==============================] - 0s 17ms/step - loss: 3.8181 - mae: 3.8181\n",
            "Epoch 47/100\n",
            "1/1 [==============================] - 0s 10ms/step - loss: 3.7159 - mae: 3.7159\n",
            "Epoch 48/100\n",
            "1/1 [==============================] - 0s 12ms/step - loss: 3.7114 - mae: 3.7114\n",
            "Epoch 49/100\n",
            "1/1 [==============================] - 0s 13ms/step - loss: 3.7377 - mae: 3.7377\n",
            "Epoch 50/100\n",
            "1/1 [==============================] - 0s 11ms/step - loss: 3.6439 - mae: 3.6439\n",
            "Epoch 51/100\n",
            "1/1 [==============================] - 0s 11ms/step - loss: 3.7608 - mae: 3.7608\n",
            "Epoch 52/100\n",
            "1/1 [==============================] - 0s 11ms/step - loss: 3.5751 - mae: 3.5751\n",
            "Epoch 53/100\n",
            "1/1 [==============================] - 0s 11ms/step - loss: 3.7747 - mae: 3.7747\n",
            "Epoch 54/100\n",
            "1/1 [==============================] - 0s 12ms/step - loss: 3.6374 - mae: 3.6374\n",
            "Epoch 55/100\n",
            "1/1 [==============================] - 0s 11ms/step - loss: 3.6896 - mae: 3.6896\n",
            "Epoch 56/100\n",
            "1/1 [==============================] - 0s 10ms/step - loss: 3.6608 - mae: 3.6608\n",
            "Epoch 57/100\n",
            "1/1 [==============================] - 0s 10ms/step - loss: 3.6186 - mae: 3.6186\n",
            "Epoch 58/100\n",
            "1/1 [==============================] - 0s 10ms/step - loss: 3.6858 - mae: 3.6858\n",
            "Epoch 59/100\n",
            "1/1 [==============================] - 0s 10ms/step - loss: 3.5456 - mae: 3.5456\n",
            "Epoch 60/100\n",
            "1/1 [==============================] - 0s 10ms/step - loss: 3.7129 - mae: 3.7129\n",
            "Epoch 61/100\n",
            "1/1 [==============================] - 0s 10ms/step - loss: 3.5289 - mae: 3.5289\n",
            "Epoch 62/100\n",
            "1/1 [==============================] - 0s 11ms/step - loss: 3.6700 - mae: 3.6700\n",
            "Epoch 63/100\n",
            "1/1 [==============================] - 0s 9ms/step - loss: 3.5554 - mae: 3.5554\n",
            "Epoch 64/100\n",
            "1/1 [==============================] - 0s 11ms/step - loss: 3.6104 - mae: 3.6104\n",
            "Epoch 65/100\n",
            "1/1 [==============================] - 0s 11ms/step - loss: 3.6227 - mae: 3.6227\n",
            "Epoch 66/100\n",
            "1/1 [==============================] - 0s 11ms/step - loss: 3.5045 - mae: 3.5045\n",
            "Epoch 67/100\n",
            "1/1 [==============================] - 0s 11ms/step - loss: 3.6505 - mae: 3.6505\n",
            "Epoch 68/100\n",
            "1/1 [==============================] - 0s 15ms/step - loss: 3.4701 - mae: 3.4701\n",
            "Epoch 69/100\n",
            "1/1 [==============================] - 0s 21ms/step - loss: 3.6227 - mae: 3.6227\n",
            "Epoch 70/100\n",
            "1/1 [==============================] - 0s 10ms/step - loss: 3.4972 - mae: 3.4972\n",
            "Epoch 71/100\n",
            "1/1 [==============================] - 0s 13ms/step - loss: 3.5448 - mae: 3.5448\n",
            "Epoch 72/100\n",
            "1/1 [==============================] - 0s 12ms/step - loss: 3.5262 - mae: 3.5262\n",
            "Epoch 73/100\n",
            "1/1 [==============================] - 0s 10ms/step - loss: 3.4646 - mae: 3.4646\n",
            "Epoch 74/100\n",
            "1/1 [==============================] - 0s 11ms/step - loss: 3.5574 - mae: 3.5574\n",
            "Epoch 75/100\n",
            "1/1 [==============================] - 0s 12ms/step - loss: 3.4030 - mae: 3.4030\n",
            "Epoch 76/100\n",
            "1/1 [==============================] - 0s 11ms/step - loss: 3.5608 - mae: 3.5608\n",
            "Epoch 77/100\n",
            "1/1 [==============================] - 0s 11ms/step - loss: 3.4512 - mae: 3.4512\n",
            "Epoch 78/100\n",
            "1/1 [==============================] - 0s 11ms/step - loss: 3.4782 - mae: 3.4782\n",
            "Epoch 79/100\n",
            "1/1 [==============================] - 0s 11ms/step - loss: 3.4814 - mae: 3.4814\n",
            "Epoch 80/100\n",
            "1/1 [==============================] - 0s 10ms/step - loss: 3.3926 - mae: 3.3926\n",
            "Epoch 81/100\n",
            "1/1 [==============================] - 0s 10ms/step - loss: 3.5136 - mae: 3.5136\n",
            "Epoch 82/100\n",
            "1/1 [==============================] - 0s 10ms/step - loss: 3.3403 - mae: 3.3403\n",
            "Epoch 83/100\n",
            "1/1 [==============================] - 0s 10ms/step - loss: 3.5169 - mae: 3.5169\n",
            "Epoch 84/100\n",
            "1/1 [==============================] - 0s 10ms/step - loss: 3.4104 - mae: 3.4104\n",
            "Epoch 85/100\n",
            "1/1 [==============================] - 0s 11ms/step - loss: 3.3986 - mae: 3.3986\n",
            "Epoch 86/100\n",
            "1/1 [==============================] - 0s 10ms/step - loss: 3.4421 - mae: 3.4421\n",
            "Epoch 87/100\n",
            "1/1 [==============================] - 0s 11ms/step - loss: 3.3078 - mae: 3.3078\n",
            "Epoch 88/100\n",
            "1/1 [==============================] - 0s 11ms/step - loss: 3.4756 - mae: 3.4756\n",
            "Epoch 89/100\n",
            "1/1 [==============================] - 0s 11ms/step - loss: 3.3023 - mae: 3.3023\n",
            "Epoch 90/100\n",
            "1/1 [==============================] - 0s 10ms/step - loss: 3.4101 - mae: 3.4101\n",
            "Epoch 91/100\n",
            "1/1 [==============================] - 0s 11ms/step - loss: 3.3351 - mae: 3.3351\n",
            "Epoch 92/100\n",
            "1/1 [==============================] - 0s 11ms/step - loss: 3.3178 - mae: 3.3178\n",
            "Epoch 93/100\n",
            "1/1 [==============================] - 0s 11ms/step - loss: 3.3701 - mae: 3.3701\n",
            "Epoch 94/100\n",
            "1/1 [==============================] - 0s 11ms/step - loss: 3.2373 - mae: 3.2373\n",
            "Epoch 95/100\n",
            "1/1 [==============================] - 0s 12ms/step - loss: 3.4459 - mae: 3.4459\n",
            "Epoch 96/100\n",
            "1/1 [==============================] - 0s 11ms/step - loss: 3.2712 - mae: 3.2712\n",
            "Epoch 97/100\n",
            "1/1 [==============================] - 0s 10ms/step - loss: 3.3070 - mae: 3.3070\n",
            "Epoch 98/100\n",
            "1/1 [==============================] - 0s 10ms/step - loss: 3.3052 - mae: 3.3052\n",
            "Epoch 99/100\n",
            "1/1 [==============================] - 0s 10ms/step - loss: 3.2072 - mae: 3.2072\n",
            "Epoch 100/100\n",
            "1/1 [==============================] - 0s 10ms/step - loss: 3.3412 - mae: 3.3412\n"
          ]
        },
        {
          "output_type": "execute_result",
          "data": {
            "text/plain": [
              "<keras.callbacks.History at 0x7f8c3a737ee0>"
            ]
          },
          "metadata": {},
          "execution_count": 14
        }
      ]
    },
    {
      "cell_type": "code",
      "source": [
        "# Let's remind our data\n",
        "X, y"
      ],
      "metadata": {
        "colab": {
          "base_uri": "https://localhost:8080/"
        },
        "id": "vImeya344s2T",
        "outputId": "b7b813f9-5099-4e01-f06a-7706ca911ecf"
      },
      "execution_count": null,
      "outputs": [
        {
          "output_type": "execute_result",
          "data": {
            "text/plain": [
              "(<tf.Tensor: shape=(8,), dtype=float64, numpy=array([-7., -4., -1.,  2.,  5.,  8., 11., 14.])>,\n",
              " <tf.Tensor: shape=(8,), dtype=float64, numpy=array([ 3.,  6.,  9., 12., 15., 18., 21., 24.])>)"
            ]
          },
          "metadata": {},
          "execution_count": 15
        }
      ]
    },
    {
      "cell_type": "code",
      "source": [
        "# Making a prediction\n",
        "model.predict([17.0])"
      ],
      "metadata": {
        "colab": {
          "base_uri": "https://localhost:8080/"
        },
        "id": "Z4maNOdd4szb",
        "outputId": "f8f37526-3f2d-4e1c-c31b-c28f2fd8a265"
      },
      "execution_count": null,
      "outputs": [
        {
          "output_type": "stream",
          "name": "stdout",
          "text": [
            "1/1 [==============================] - 0s 91ms/step\n"
          ]
        },
        {
          "output_type": "execute_result",
          "data": {
            "text/plain": [
              "array([[31.62214]], dtype=float32)"
            ]
          },
          "metadata": {},
          "execution_count": 16
        }
      ]
    },
    {
      "cell_type": "markdown",
      "source": [
        "This prediction is worse than before. The model may have been overfitting."
      ],
      "metadata": {
        "id": "MaQzIYwi4swu"
      }
    },
    {
      "cell_type": "markdown",
      "source": [
        "### Change the optimization function\n",
        "\n",
        "Our optimization function is Stochastic Gradient Descent, let's make it Adam and see what will happen."
      ],
      "metadata": {
        "id": "7Twzbb1q4suE"
      }
    },
    {
      "cell_type": "code",
      "source": [
        "# Let's rebuild model\n",
        "\n",
        "# 1. Create a model \n",
        "model = tf.keras.Sequential([\n",
        "    tf.keras.layers.Dense(100, activation='relu'),\n",
        "    tf.keras.layers.Dense(100, activation='relu'),\n",
        "    tf.keras.layers.Dense(100, activation='relu'),\n",
        "    tf.keras.layers.Dense(1)\n",
        "])\n",
        "\n",
        "# 2. Compiling model\n",
        "model.compile(\n",
        "    loss=tf.keras.losses.mae,\n",
        "    optimizer=tf.keras.optimizers.Adam(),\n",
        "    metrics=['mae']\n",
        ")\n",
        "\n",
        "# 3. Fit the model\n",
        "model.fit(tf.expand_dims(X, axis=-1), y, epochs=100)"
      ],
      "metadata": {
        "colab": {
          "base_uri": "https://localhost:8080/"
        },
        "id": "u1bw5qU44sre",
        "outputId": "0b6cc38e-a63e-46ab-dbbe-8dd63bfa63b4"
      },
      "execution_count": null,
      "outputs": [
        {
          "output_type": "stream",
          "name": "stdout",
          "text": [
            "Epoch 1/100\n",
            "1/1 [==============================] - 1s 930ms/step - loss: 13.6783 - mae: 13.6783\n",
            "Epoch 2/100\n",
            "1/1 [==============================] - 0s 10ms/step - loss: 13.3816 - mae: 13.3816\n",
            "Epoch 3/100\n",
            "1/1 [==============================] - 0s 12ms/step - loss: 13.0996 - mae: 13.0996\n",
            "Epoch 4/100\n",
            "1/1 [==============================] - 0s 11ms/step - loss: 12.8325 - mae: 12.8325\n",
            "Epoch 5/100\n",
            "1/1 [==============================] - 0s 12ms/step - loss: 12.5775 - mae: 12.5775\n",
            "Epoch 6/100\n",
            "1/1 [==============================] - 0s 11ms/step - loss: 12.3282 - mae: 12.3282\n",
            "Epoch 7/100\n",
            "1/1 [==============================] - 0s 15ms/step - loss: 12.0778 - mae: 12.0778\n",
            "Epoch 8/100\n",
            "1/1 [==============================] - 0s 11ms/step - loss: 11.8282 - mae: 11.8282\n",
            "Epoch 9/100\n",
            "1/1 [==============================] - 0s 11ms/step - loss: 11.5821 - mae: 11.5821\n",
            "Epoch 10/100\n",
            "1/1 [==============================] - 0s 10ms/step - loss: 11.3545 - mae: 11.3545\n",
            "Epoch 11/100\n",
            "1/1 [==============================] - 0s 11ms/step - loss: 11.1748 - mae: 11.1748\n",
            "Epoch 12/100\n",
            "1/1 [==============================] - 0s 10ms/step - loss: 10.9767 - mae: 10.9767\n",
            "Epoch 13/100\n",
            "1/1 [==============================] - 0s 10ms/step - loss: 10.7620 - mae: 10.7620\n",
            "Epoch 14/100\n",
            "1/1 [==============================] - 0s 11ms/step - loss: 10.5343 - mae: 10.5343\n",
            "Epoch 15/100\n",
            "1/1 [==============================] - 0s 12ms/step - loss: 10.2935 - mae: 10.2935\n",
            "Epoch 16/100\n",
            "1/1 [==============================] - 0s 10ms/step - loss: 10.0399 - mae: 10.0399\n",
            "Epoch 17/100\n",
            "1/1 [==============================] - 0s 10ms/step - loss: 9.7818 - mae: 9.7818\n",
            "Epoch 18/100\n",
            "1/1 [==============================] - 0s 10ms/step - loss: 9.5086 - mae: 9.5086\n",
            "Epoch 19/100\n",
            "1/1 [==============================] - 0s 10ms/step - loss: 9.2188 - mae: 9.2188\n",
            "Epoch 20/100\n",
            "1/1 [==============================] - 0s 11ms/step - loss: 8.9146 - mae: 8.9146\n",
            "Epoch 21/100\n",
            "1/1 [==============================] - 0s 11ms/step - loss: 8.5910 - mae: 8.5910\n",
            "Epoch 22/100\n",
            "1/1 [==============================] - 0s 11ms/step - loss: 8.2465 - mae: 8.2465\n",
            "Epoch 23/100\n",
            "1/1 [==============================] - 0s 12ms/step - loss: 7.8801 - mae: 7.8801\n",
            "Epoch 24/100\n",
            "1/1 [==============================] - 0s 11ms/step - loss: 7.4931 - mae: 7.4931\n",
            "Epoch 25/100\n",
            "1/1 [==============================] - 0s 11ms/step - loss: 7.0826 - mae: 7.0826\n",
            "Epoch 26/100\n",
            "1/1 [==============================] - 0s 11ms/step - loss: 6.6455 - mae: 6.6455\n",
            "Epoch 27/100\n",
            "1/1 [==============================] - 0s 10ms/step - loss: 6.1806 - mae: 6.1806\n",
            "Epoch 28/100\n",
            "1/1 [==============================] - 0s 10ms/step - loss: 5.6860 - mae: 5.6860\n",
            "Epoch 29/100\n",
            "1/1 [==============================] - 0s 10ms/step - loss: 5.1610 - mae: 5.1610\n",
            "Epoch 30/100\n",
            "1/1 [==============================] - 0s 10ms/step - loss: 4.6030 - mae: 4.6030\n",
            "Epoch 31/100\n",
            "1/1 [==============================] - 0s 13ms/step - loss: 4.1237 - mae: 4.1237\n",
            "Epoch 32/100\n",
            "1/1 [==============================] - 0s 11ms/step - loss: 3.9357 - mae: 3.9357\n",
            "Epoch 33/100\n",
            "1/1 [==============================] - 0s 12ms/step - loss: 3.9688 - mae: 3.9688\n",
            "Epoch 34/100\n",
            "1/1 [==============================] - 0s 12ms/step - loss: 4.0853 - mae: 4.0853\n",
            "Epoch 35/100\n",
            "1/1 [==============================] - 0s 13ms/step - loss: 4.1861 - mae: 4.1861\n",
            "Epoch 36/100\n",
            "1/1 [==============================] - 0s 12ms/step - loss: 4.3498 - mae: 4.3498\n",
            "Epoch 37/100\n",
            "1/1 [==============================] - 0s 11ms/step - loss: 4.5130 - mae: 4.5130\n",
            "Epoch 38/100\n",
            "1/1 [==============================] - 0s 12ms/step - loss: 4.6007 - mae: 4.6007\n",
            "Epoch 39/100\n",
            "1/1 [==============================] - 0s 10ms/step - loss: 4.6208 - mae: 4.6208\n",
            "Epoch 40/100\n",
            "1/1 [==============================] - 0s 11ms/step - loss: 4.5818 - mae: 4.5818\n",
            "Epoch 41/100\n",
            "1/1 [==============================] - 0s 12ms/step - loss: 4.4917 - mae: 4.4917\n",
            "Epoch 42/100\n",
            "1/1 [==============================] - 0s 12ms/step - loss: 4.3603 - mae: 4.3603\n",
            "Epoch 43/100\n",
            "1/1 [==============================] - 0s 11ms/step - loss: 4.1950 - mae: 4.1950\n",
            "Epoch 44/100\n",
            "1/1 [==============================] - 0s 11ms/step - loss: 4.0893 - mae: 4.0893\n",
            "Epoch 45/100\n",
            "1/1 [==============================] - 0s 11ms/step - loss: 4.0132 - mae: 4.0132\n",
            "Epoch 46/100\n",
            "1/1 [==============================] - 0s 11ms/step - loss: 3.9381 - mae: 3.9381\n",
            "Epoch 47/100\n",
            "1/1 [==============================] - 0s 11ms/step - loss: 3.8640 - mae: 3.8640\n",
            "Epoch 48/100\n",
            "1/1 [==============================] - 0s 10ms/step - loss: 3.7916 - mae: 3.7916\n",
            "Epoch 49/100\n",
            "1/1 [==============================] - 0s 11ms/step - loss: 3.7208 - mae: 3.7208\n",
            "Epoch 50/100\n",
            "1/1 [==============================] - 0s 12ms/step - loss: 3.7919 - mae: 3.7919\n",
            "Epoch 51/100\n",
            "1/1 [==============================] - 0s 9ms/step - loss: 3.8477 - mae: 3.8477\n",
            "Epoch 52/100\n",
            "1/1 [==============================] - 0s 11ms/step - loss: 3.8804 - mae: 3.8804\n",
            "Epoch 53/100\n",
            "1/1 [==============================] - 0s 10ms/step - loss: 3.9071 - mae: 3.9071\n",
            "Epoch 54/100\n",
            "1/1 [==============================] - 0s 13ms/step - loss: 3.9208 - mae: 3.9208\n",
            "Epoch 55/100\n",
            "1/1 [==============================] - 0s 11ms/step - loss: 3.9229 - mae: 3.9229\n",
            "Epoch 56/100\n",
            "1/1 [==============================] - 0s 11ms/step - loss: 3.9134 - mae: 3.9134\n",
            "Epoch 57/100\n",
            "1/1 [==============================] - 0s 11ms/step - loss: 3.8944 - mae: 3.8944\n",
            "Epoch 58/100\n",
            "1/1 [==============================] - 0s 12ms/step - loss: 3.8665 - mae: 3.8665\n",
            "Epoch 59/100\n",
            "1/1 [==============================] - 0s 12ms/step - loss: 3.8301 - mae: 3.8301\n",
            "Epoch 60/100\n",
            "1/1 [==============================] - 0s 11ms/step - loss: 3.7855 - mae: 3.7855\n",
            "Epoch 61/100\n",
            "1/1 [==============================] - 0s 12ms/step - loss: 3.7331 - mae: 3.7331\n",
            "Epoch 62/100\n",
            "1/1 [==============================] - 0s 10ms/step - loss: 3.6734 - mae: 3.6734\n",
            "Epoch 63/100\n",
            "1/1 [==============================] - 0s 11ms/step - loss: 3.6348 - mae: 3.6348\n",
            "Epoch 64/100\n",
            "1/1 [==============================] - 0s 10ms/step - loss: 3.6559 - mae: 3.6559\n",
            "Epoch 65/100\n",
            "1/1 [==============================] - 0s 11ms/step - loss: 3.6683 - mae: 3.6683\n",
            "Epoch 66/100\n",
            "1/1 [==============================] - 0s 11ms/step - loss: 3.6837 - mae: 3.6837\n",
            "Epoch 67/100\n",
            "1/1 [==============================] - 0s 12ms/step - loss: 3.6733 - mae: 3.6733\n",
            "Epoch 68/100\n",
            "1/1 [==============================] - 0s 11ms/step - loss: 3.6666 - mae: 3.6666\n",
            "Epoch 69/100\n",
            "1/1 [==============================] - 0s 11ms/step - loss: 3.6528 - mae: 3.6528\n",
            "Epoch 70/100\n",
            "1/1 [==============================] - 0s 12ms/step - loss: 3.6319 - mae: 3.6319\n",
            "Epoch 71/100\n",
            "1/1 [==============================] - 0s 12ms/step - loss: 3.6079 - mae: 3.6079\n",
            "Epoch 72/100\n",
            "1/1 [==============================] - 0s 11ms/step - loss: 3.5881 - mae: 3.5881\n",
            "Epoch 73/100\n",
            "1/1 [==============================] - 0s 11ms/step - loss: 3.5477 - mae: 3.5477\n",
            "Epoch 74/100\n",
            "1/1 [==============================] - 0s 13ms/step - loss: 3.5447 - mae: 3.5447\n",
            "Epoch 75/100\n",
            "1/1 [==============================] - 0s 18ms/step - loss: 3.5591 - mae: 3.5591\n",
            "Epoch 76/100\n",
            "1/1 [==============================] - 0s 11ms/step - loss: 3.5584 - mae: 3.5584\n",
            "Epoch 77/100\n",
            "1/1 [==============================] - 0s 14ms/step - loss: 3.5445 - mae: 3.5445\n",
            "Epoch 78/100\n",
            "1/1 [==============================] - 0s 10ms/step - loss: 3.5173 - mae: 3.5173\n",
            "Epoch 79/100\n",
            "1/1 [==============================] - 0s 11ms/step - loss: 3.4789 - mae: 3.4789\n",
            "Epoch 80/100\n",
            "1/1 [==============================] - 0s 11ms/step - loss: 3.4776 - mae: 3.4776\n",
            "Epoch 81/100\n",
            "1/1 [==============================] - 0s 10ms/step - loss: 3.4683 - mae: 3.4683\n",
            "Epoch 82/100\n",
            "1/1 [==============================] - 0s 11ms/step - loss: 3.4538 - mae: 3.4538\n",
            "Epoch 83/100\n",
            "1/1 [==============================] - 0s 11ms/step - loss: 3.4505 - mae: 3.4505\n",
            "Epoch 84/100\n",
            "1/1 [==============================] - 0s 12ms/step - loss: 3.4190 - mae: 3.4190\n",
            "Epoch 85/100\n",
            "1/1 [==============================] - 0s 12ms/step - loss: 3.4088 - mae: 3.4088\n",
            "Epoch 86/100\n",
            "1/1 [==============================] - 0s 12ms/step - loss: 3.3972 - mae: 3.3972\n",
            "Epoch 87/100\n",
            "1/1 [==============================] - 0s 11ms/step - loss: 3.3888 - mae: 3.3888\n",
            "Epoch 88/100\n",
            "1/1 [==============================] - 0s 12ms/step - loss: 3.3703 - mae: 3.3703\n",
            "Epoch 89/100\n",
            "1/1 [==============================] - 0s 11ms/step - loss: 3.3582 - mae: 3.3582\n",
            "Epoch 90/100\n",
            "1/1 [==============================] - 0s 13ms/step - loss: 3.3392 - mae: 3.3392\n",
            "Epoch 91/100\n",
            "1/1 [==============================] - 0s 12ms/step - loss: 3.3419 - mae: 3.3419\n",
            "Epoch 92/100\n",
            "1/1 [==============================] - 0s 11ms/step - loss: 3.3384 - mae: 3.3384\n",
            "Epoch 93/100\n",
            "1/1 [==============================] - 0s 11ms/step - loss: 3.3250 - mae: 3.3250\n",
            "Epoch 94/100\n",
            "1/1 [==============================] - 0s 11ms/step - loss: 3.3025 - mae: 3.3025\n",
            "Epoch 95/100\n",
            "1/1 [==============================] - 0s 10ms/step - loss: 3.2891 - mae: 3.2891\n",
            "Epoch 96/100\n",
            "1/1 [==============================] - 0s 11ms/step - loss: 3.2776 - mae: 3.2776\n",
            "Epoch 97/100\n",
            "1/1 [==============================] - 0s 13ms/step - loss: 3.2480 - mae: 3.2480\n",
            "Epoch 98/100\n",
            "1/1 [==============================] - 0s 11ms/step - loss: 3.2318 - mae: 3.2318\n",
            "Epoch 99/100\n",
            "1/1 [==============================] - 0s 16ms/step - loss: 3.2162 - mae: 3.2162\n",
            "Epoch 100/100\n",
            "1/1 [==============================] - 0s 11ms/step - loss: 3.2216 - mae: 3.2216\n"
          ]
        },
        {
          "output_type": "execute_result",
          "data": {
            "text/plain": [
              "<keras.callbacks.History at 0x7f8c398dfdc0>"
            ]
          },
          "metadata": {},
          "execution_count": 17
        }
      ]
    },
    {
      "cell_type": "code",
      "source": [
        "# Remind data\n",
        "X, y"
      ],
      "metadata": {
        "colab": {
          "base_uri": "https://localhost:8080/"
        },
        "id": "g5WKa2WK6F1s",
        "outputId": "d39f782f-86c6-4fe4-b05e-bcc8a7b5bdac"
      },
      "execution_count": null,
      "outputs": [
        {
          "output_type": "execute_result",
          "data": {
            "text/plain": [
              "(<tf.Tensor: shape=(8,), dtype=float64, numpy=array([-7., -4., -1.,  2.,  5.,  8., 11., 14.])>,\n",
              " <tf.Tensor: shape=(8,), dtype=float64, numpy=array([ 3.,  6.,  9., 12., 15., 18., 21., 24.])>)"
            ]
          },
          "metadata": {},
          "execution_count": 18
        }
      ]
    },
    {
      "cell_type": "code",
      "source": [
        "# Making a prediction\n",
        "model.predict([17.0])"
      ],
      "metadata": {
        "colab": {
          "base_uri": "https://localhost:8080/"
        },
        "id": "SORLDr9U4so-",
        "outputId": "f6694beb-8800-456f-dd3d-83b77ac8d61c"
      },
      "execution_count": null,
      "outputs": [
        {
          "output_type": "stream",
          "name": "stdout",
          "text": [
            "1/1 [==============================] - 0s 94ms/step\n"
          ]
        },
        {
          "output_type": "execute_result",
          "data": {
            "text/plain": [
              "array([[31.440582]], dtype=float32)"
            ]
          },
          "metadata": {},
          "execution_count": 19
        }
      ]
    },
    {
      "cell_type": "markdown",
      "source": [
        "### Change the learning rate\n",
        "\n",
        "Learning rate's default parameter is 0.001 for Adam optimizer. Let's make it 0.01"
      ],
      "metadata": {
        "id": "ygdIVYde6SZm"
      }
    },
    {
      "cell_type": "code",
      "source": [
        "# Let's rebuild model\n",
        "\n",
        "# 1. Create a model \n",
        "model = tf.keras.Sequential([\n",
        "    tf.keras.layers.Dense(100, activation='relu'),\n",
        "    tf.keras.layers.Dense(100, activation='relu'),\n",
        "    tf.keras.layers.Dense(100, activation='relu'),\n",
        "    tf.keras.layers.Dense(1)\n",
        "])\n",
        "\n",
        "# 2. Compiling model\n",
        "model.compile(\n",
        "    loss=tf.keras.losses.mae,\n",
        "    optimizer=tf.keras.optimizers.Adam(learning_rate=0.01),\n",
        "    metrics=['mae']\n",
        ")\n",
        "\n",
        "# 3. Fit the model\n",
        "model.fit(tf.expand_dims(X, axis=-1), y, epochs=100)"
      ],
      "metadata": {
        "colab": {
          "base_uri": "https://localhost:8080/"
        },
        "id": "sVTn5bRf6SRn",
        "outputId": "e0fc5bcc-ec9a-4798-ef4c-849440b0ffc7"
      },
      "execution_count": null,
      "outputs": [
        {
          "output_type": "stream",
          "name": "stdout",
          "text": [
            "Epoch 1/100\n",
            "1/1 [==============================] - 1s 1s/step - loss: 13.7336 - mae: 13.7336\n",
            "Epoch 2/100\n",
            "1/1 [==============================] - 0s 16ms/step - loss: 10.0070 - mae: 10.0070\n",
            "Epoch 3/100\n",
            "1/1 [==============================] - 0s 19ms/step - loss: 6.3948 - mae: 6.3948\n",
            "Epoch 4/100\n",
            "1/1 [==============================] - 0s 11ms/step - loss: 4.7679 - mae: 4.7679\n",
            "Epoch 5/100\n",
            "1/1 [==============================] - 0s 12ms/step - loss: 5.7432 - mae: 5.7432\n",
            "Epoch 6/100\n",
            "1/1 [==============================] - 0s 12ms/step - loss: 5.1283 - mae: 5.1283\n",
            "Epoch 7/100\n",
            "1/1 [==============================] - 0s 12ms/step - loss: 4.0540 - mae: 4.0540\n",
            "Epoch 8/100\n",
            "1/1 [==============================] - 0s 13ms/step - loss: 4.4043 - mae: 4.4043\n",
            "Epoch 9/100\n",
            "1/1 [==============================] - 0s 17ms/step - loss: 4.4468 - mae: 4.4468\n",
            "Epoch 10/100\n",
            "1/1 [==============================] - 0s 16ms/step - loss: 3.7396 - mae: 3.7396\n",
            "Epoch 11/100\n",
            "1/1 [==============================] - 0s 13ms/step - loss: 3.8334 - mae: 3.8334\n",
            "Epoch 12/100\n",
            "1/1 [==============================] - 0s 11ms/step - loss: 4.2405 - mae: 4.2405\n",
            "Epoch 13/100\n",
            "1/1 [==============================] - 0s 11ms/step - loss: 4.0539 - mae: 4.0539\n",
            "Epoch 14/100\n",
            "1/1 [==============================] - 0s 10ms/step - loss: 3.5367 - mae: 3.5367\n",
            "Epoch 15/100\n",
            "1/1 [==============================] - 0s 20ms/step - loss: 3.2336 - mae: 3.2336\n",
            "Epoch 16/100\n",
            "1/1 [==============================] - 0s 13ms/step - loss: 3.2516 - mae: 3.2516\n",
            "Epoch 17/100\n",
            "1/1 [==============================] - 0s 14ms/step - loss: 3.1092 - mae: 3.1092\n",
            "Epoch 18/100\n",
            "1/1 [==============================] - 0s 13ms/step - loss: 2.9337 - mae: 2.9337\n",
            "Epoch 19/100\n",
            "1/1 [==============================] - 0s 15ms/step - loss: 2.8258 - mae: 2.8258\n",
            "Epoch 20/100\n",
            "1/1 [==============================] - 0s 11ms/step - loss: 2.6499 - mae: 2.6499\n",
            "Epoch 21/100\n",
            "1/1 [==============================] - 0s 11ms/step - loss: 2.3684 - mae: 2.3684\n",
            "Epoch 22/100\n",
            "1/1 [==============================] - 0s 15ms/step - loss: 2.2364 - mae: 2.2364\n",
            "Epoch 23/100\n",
            "1/1 [==============================] - 0s 11ms/step - loss: 1.8756 - mae: 1.8756\n",
            "Epoch 24/100\n",
            "1/1 [==============================] - 0s 11ms/step - loss: 1.5972 - mae: 1.5972\n",
            "Epoch 25/100\n",
            "1/1 [==============================] - 0s 12ms/step - loss: 1.2737 - mae: 1.2737\n",
            "Epoch 26/100\n",
            "1/1 [==============================] - 0s 11ms/step - loss: 1.2836 - mae: 1.2836\n",
            "Epoch 27/100\n",
            "1/1 [==============================] - 0s 18ms/step - loss: 1.1822 - mae: 1.1822\n",
            "Epoch 28/100\n",
            "1/1 [==============================] - 0s 20ms/step - loss: 1.1338 - mae: 1.1338\n",
            "Epoch 29/100\n",
            "1/1 [==============================] - 0s 15ms/step - loss: 1.3574 - mae: 1.3574\n",
            "Epoch 30/100\n",
            "1/1 [==============================] - 0s 11ms/step - loss: 1.7741 - mae: 1.7741\n",
            "Epoch 31/100\n",
            "1/1 [==============================] - 0s 11ms/step - loss: 0.6965 - mae: 0.6965\n",
            "Epoch 32/100\n",
            "1/1 [==============================] - 0s 10ms/step - loss: 2.4990 - mae: 2.4990\n",
            "Epoch 33/100\n",
            "1/1 [==============================] - 0s 11ms/step - loss: 2.5987 - mae: 2.5987\n",
            "Epoch 34/100\n",
            "1/1 [==============================] - 0s 11ms/step - loss: 1.0483 - mae: 1.0483\n",
            "Epoch 35/100\n",
            "1/1 [==============================] - 0s 14ms/step - loss: 1.7842 - mae: 1.7842\n",
            "Epoch 36/100\n",
            "1/1 [==============================] - 0s 11ms/step - loss: 2.8541 - mae: 2.8541\n",
            "Epoch 37/100\n",
            "1/1 [==============================] - 0s 13ms/step - loss: 2.8373 - mae: 2.8373\n",
            "Epoch 38/100\n",
            "1/1 [==============================] - 0s 15ms/step - loss: 1.8930 - mae: 1.8930\n",
            "Epoch 39/100\n",
            "1/1 [==============================] - 0s 15ms/step - loss: 0.3280 - mae: 0.3280\n",
            "Epoch 40/100\n",
            "1/1 [==============================] - 0s 15ms/step - loss: 1.2825 - mae: 1.2825\n",
            "Epoch 41/100\n",
            "1/1 [==============================] - 0s 12ms/step - loss: 0.9501 - mae: 0.9501\n",
            "Epoch 42/100\n",
            "1/1 [==============================] - 0s 14ms/step - loss: 0.4220 - mae: 0.4220\n",
            "Epoch 43/100\n",
            "1/1 [==============================] - 0s 11ms/step - loss: 0.9138 - mae: 0.9138\n",
            "Epoch 44/100\n",
            "1/1 [==============================] - 0s 17ms/step - loss: 0.4836 - mae: 0.4836\n",
            "Epoch 45/100\n",
            "1/1 [==============================] - 0s 13ms/step - loss: 1.2192 - mae: 1.2192\n",
            "Epoch 46/100\n",
            "1/1 [==============================] - 0s 14ms/step - loss: 1.3230 - mae: 1.3230\n",
            "Epoch 47/100\n",
            "1/1 [==============================] - 0s 15ms/step - loss: 0.3120 - mae: 0.3120\n",
            "Epoch 48/100\n",
            "1/1 [==============================] - 0s 12ms/step - loss: 1.3102 - mae: 1.3102\n",
            "Epoch 49/100\n",
            "1/1 [==============================] - 0s 10ms/step - loss: 1.6985 - mae: 1.6985\n",
            "Epoch 50/100\n",
            "1/1 [==============================] - 0s 10ms/step - loss: 1.2004 - mae: 1.2004\n",
            "Epoch 51/100\n",
            "1/1 [==============================] - 0s 18ms/step - loss: 0.2235 - mae: 0.2235\n",
            "Epoch 52/100\n",
            "1/1 [==============================] - 0s 17ms/step - loss: 0.8776 - mae: 0.8776\n",
            "Epoch 53/100\n",
            "1/1 [==============================] - 0s 19ms/step - loss: 0.4169 - mae: 0.4169\n",
            "Epoch 54/100\n",
            "1/1 [==============================] - 0s 12ms/step - loss: 0.9781 - mae: 0.9781\n",
            "Epoch 55/100\n",
            "1/1 [==============================] - 0s 14ms/step - loss: 1.3754 - mae: 1.3754\n",
            "Epoch 56/100\n",
            "1/1 [==============================] - 0s 10ms/step - loss: 0.9039 - mae: 0.9039\n",
            "Epoch 57/100\n",
            "1/1 [==============================] - 0s 12ms/step - loss: 0.6699 - mae: 0.6699\n",
            "Epoch 58/100\n",
            "1/1 [==============================] - 0s 11ms/step - loss: 0.8914 - mae: 0.8914\n",
            "Epoch 59/100\n",
            "1/1 [==============================] - 0s 12ms/step - loss: 0.2905 - mae: 0.2905\n",
            "Epoch 60/100\n",
            "1/1 [==============================] - 0s 11ms/step - loss: 1.2623 - mae: 1.2623\n",
            "Epoch 61/100\n",
            "1/1 [==============================] - 0s 16ms/step - loss: 1.6980 - mae: 1.6980\n",
            "Epoch 62/100\n",
            "1/1 [==============================] - 0s 13ms/step - loss: 1.5005 - mae: 1.5005\n",
            "Epoch 63/100\n",
            "1/1 [==============================] - 0s 12ms/step - loss: 0.6426 - mae: 0.6426\n",
            "Epoch 64/100\n",
            "1/1 [==============================] - 0s 14ms/step - loss: 0.9324 - mae: 0.9324\n",
            "Epoch 65/100\n",
            "1/1 [==============================] - 0s 13ms/step - loss: 1.5030 - mae: 1.5030\n",
            "Epoch 66/100\n",
            "1/1 [==============================] - 0s 14ms/step - loss: 1.1121 - mae: 1.1121\n",
            "Epoch 67/100\n",
            "1/1 [==============================] - 0s 12ms/step - loss: 0.1148 - mae: 0.1148\n",
            "Epoch 68/100\n",
            "1/1 [==============================] - 0s 13ms/step - loss: 0.7489 - mae: 0.7489\n",
            "Epoch 69/100\n",
            "1/1 [==============================] - 0s 13ms/step - loss: 0.6492 - mae: 0.6492\n",
            "Epoch 70/100\n",
            "1/1 [==============================] - 0s 14ms/step - loss: 0.2834 - mae: 0.2834\n",
            "Epoch 71/100\n",
            "1/1 [==============================] - 0s 17ms/step - loss: 0.1973 - mae: 0.1973\n",
            "Epoch 72/100\n",
            "1/1 [==============================] - 0s 14ms/step - loss: 0.2018 - mae: 0.2018\n",
            "Epoch 73/100\n",
            "1/1 [==============================] - 0s 10ms/step - loss: 0.3172 - mae: 0.3172\n",
            "Epoch 74/100\n",
            "1/1 [==============================] - 0s 9ms/step - loss: 0.1089 - mae: 0.1089\n",
            "Epoch 75/100\n",
            "1/1 [==============================] - 0s 10ms/step - loss: 0.2700 - mae: 0.2700\n",
            "Epoch 76/100\n",
            "1/1 [==============================] - 0s 10ms/step - loss: 0.3071 - mae: 0.3071\n",
            "Epoch 77/100\n",
            "1/1 [==============================] - 0s 10ms/step - loss: 0.1466 - mae: 0.1466\n",
            "Epoch 78/100\n",
            "1/1 [==============================] - 0s 10ms/step - loss: 0.3291 - mae: 0.3291\n",
            "Epoch 79/100\n",
            "1/1 [==============================] - 0s 13ms/step - loss: 0.1400 - mae: 0.1400\n",
            "Epoch 80/100\n",
            "1/1 [==============================] - 0s 10ms/step - loss: 0.2062 - mae: 0.2062\n",
            "Epoch 81/100\n",
            "1/1 [==============================] - 0s 10ms/step - loss: 0.4046 - mae: 0.4046\n",
            "Epoch 82/100\n",
            "1/1 [==============================] - 0s 10ms/step - loss: 0.1627 - mae: 0.1627\n",
            "Epoch 83/100\n",
            "1/1 [==============================] - 0s 10ms/step - loss: 0.6324 - mae: 0.6324\n",
            "Epoch 84/100\n",
            "1/1 [==============================] - 0s 10ms/step - loss: 0.4012 - mae: 0.4012\n",
            "Epoch 85/100\n",
            "1/1 [==============================] - 0s 11ms/step - loss: 0.6196 - mae: 0.6196\n",
            "Epoch 86/100\n",
            "1/1 [==============================] - 0s 20ms/step - loss: 0.7559 - mae: 0.7559\n",
            "Epoch 87/100\n",
            "1/1 [==============================] - 0s 11ms/step - loss: 0.1203 - mae: 0.1203\n",
            "Epoch 88/100\n",
            "1/1 [==============================] - 0s 11ms/step - loss: 0.2106 - mae: 0.2106\n",
            "Epoch 89/100\n",
            "1/1 [==============================] - 0s 16ms/step - loss: 0.4153 - mae: 0.4153\n",
            "Epoch 90/100\n",
            "1/1 [==============================] - 0s 11ms/step - loss: 0.2283 - mae: 0.2283\n",
            "Epoch 91/100\n",
            "1/1 [==============================] - 0s 11ms/step - loss: 0.5930 - mae: 0.5930\n",
            "Epoch 92/100\n",
            "1/1 [==============================] - 0s 13ms/step - loss: 0.6345 - mae: 0.6345\n",
            "Epoch 93/100\n",
            "1/1 [==============================] - 0s 12ms/step - loss: 0.1198 - mae: 0.1198\n",
            "Epoch 94/100\n",
            "1/1 [==============================] - 0s 19ms/step - loss: 0.1924 - mae: 0.1924\n",
            "Epoch 95/100\n",
            "1/1 [==============================] - 0s 14ms/step - loss: 0.4906 - mae: 0.4906\n",
            "Epoch 96/100\n",
            "1/1 [==============================] - 0s 12ms/step - loss: 0.3519 - mae: 0.3519\n",
            "Epoch 97/100\n",
            "1/1 [==============================] - 0s 13ms/step - loss: 0.5639 - mae: 0.5639\n",
            "Epoch 98/100\n",
            "1/1 [==============================] - 0s 13ms/step - loss: 0.5750 - mae: 0.5750\n",
            "Epoch 99/100\n",
            "1/1 [==============================] - 0s 12ms/step - loss: 0.1971 - mae: 0.1971\n",
            "Epoch 100/100\n",
            "1/1 [==============================] - 0s 12ms/step - loss: 0.1362 - mae: 0.1362\n"
          ]
        },
        {
          "output_type": "execute_result",
          "data": {
            "text/plain": [
              "<keras.callbacks.History at 0x7f8c3874fc10>"
            ]
          },
          "metadata": {},
          "execution_count": 20
        }
      ]
    },
    {
      "cell_type": "code",
      "source": [
        "# Remind the data\n",
        "X, y"
      ],
      "metadata": {
        "colab": {
          "base_uri": "https://localhost:8080/"
        },
        "id": "OY2ducXx6SPc",
        "outputId": "7bed5c32-d17e-446d-c8c8-9b5b3bc349d6"
      },
      "execution_count": null,
      "outputs": [
        {
          "output_type": "execute_result",
          "data": {
            "text/plain": [
              "(<tf.Tensor: shape=(8,), dtype=float64, numpy=array([-7., -4., -1.,  2.,  5.,  8., 11., 14.])>,\n",
              " <tf.Tensor: shape=(8,), dtype=float64, numpy=array([ 3.,  6.,  9., 12., 15., 18., 21., 24.])>)"
            ]
          },
          "metadata": {},
          "execution_count": 21
        }
      ]
    },
    {
      "cell_type": "code",
      "source": [
        "# Make a prediction\n",
        "model.predict([17.0])"
      ],
      "metadata": {
        "colab": {
          "base_uri": "https://localhost:8080/"
        },
        "id": "BoczlBnp6SMu",
        "outputId": "8870ed5b-47aa-4841-d134-98c24ec7b054"
      },
      "execution_count": null,
      "outputs": [
        {
          "output_type": "stream",
          "name": "stderr",
          "text": [
            "WARNING:tensorflow:5 out of the last 5 calls to <function Model.make_predict_function.<locals>.predict_function at 0x7f8c386f0670> triggered tf.function retracing. Tracing is expensive and the excessive number of tracings could be due to (1) creating @tf.function repeatedly in a loop, (2) passing tensors with different shapes, (3) passing Python objects instead of tensors. For (1), please define your @tf.function outside of the loop. For (2), @tf.function has reduce_retracing=True option that can avoid unnecessary retracing. For (3), please refer to https://www.tensorflow.org/guide/function#controlling_retracing and https://www.tensorflow.org/api_docs/python/tf/function for  more details.\n"
          ]
        },
        {
          "output_type": "stream",
          "name": "stdout",
          "text": [
            "1/1 [==============================] - 0s 96ms/step\n"
          ]
        },
        {
          "output_type": "execute_result",
          "data": {
            "text/plain": [
              "array([[28.990246]], dtype=float32)"
            ]
          },
          "metadata": {},
          "execution_count": 22
        }
      ]
    },
    {
      "cell_type": "markdown",
      "source": [
        "Woowww.. It's look the best prediction.."
      ],
      "metadata": {
        "id": "Bscu82sZ6R7k"
      }
    },
    {
      "cell_type": "markdown",
      "source": [
        "### Common ways to improve a deep model\n",
        "\n",
        "* Adding more hidden layers\n",
        "* Adding more neurons\n",
        "* Change the activation function\n",
        "* Change the optimization function\n",
        "* Change the learning rate\n",
        "* Fitting for longer (increase number of epoch)\n",
        "* Fitting on more data"
      ],
      "metadata": {
        "id": "bwsdnptQ2iFC"
      }
    },
    {
      "cell_type": "markdown",
      "source": [
        "## Evaluating a model\n",
        "\n",
        "In practice, a typical workflow  you'll go through when building neural networks is:\n",
        "\n",
        "```\n",
        "Build a model -> Fit it -> Evaluate it -> Tweak a model -> Fit it -> Evaluate it -> Tweak a model -> Fit it -> Evaluate it -> Tweak a model -> Fit it -> Evaluate it ```"
      ],
      "metadata": {
        "id": "_SPSH0Nc4rqr"
      }
    },
    {
      "cell_type": "markdown",
      "source": [
        "When it comes to evaluation. There are 3 words you memorized:\n",
        "\n",
        "> 'Visualize, Visualize, Visualize...'\n",
        "\n",
        "It is a good idea to visualize:\n",
        "* The data - What data are we working with? What does it look like?\n",
        "* The model itself - What does model look like?\n",
        "* Traning of a model - How does a model perform while it learns?\n",
        "* Prediction of the model -  How do the predictions of a model line up aganist the truth?"
      ],
      "metadata": {
        "id": "JGDJcr2P8A5R"
      }
    },
    {
      "cell_type": "code",
      "source": [
        "# Make a bigger dataset\n",
        "X = tf.range(-100, 100, 4)\n",
        "X"
      ],
      "metadata": {
        "colab": {
          "base_uri": "https://localhost:8080/"
        },
        "id": "P2nA42oGlEgv",
        "outputId": "7b9acc97-cf55-4857-d8f3-ea3238ca7e5a"
      },
      "execution_count": null,
      "outputs": [
        {
          "output_type": "execute_result",
          "data": {
            "text/plain": [
              "<tf.Tensor: shape=(50,), dtype=int32, numpy=\n",
              "array([-100,  -96,  -92,  -88,  -84,  -80,  -76,  -72,  -68,  -64,  -60,\n",
              "        -56,  -52,  -48,  -44,  -40,  -36,  -32,  -28,  -24,  -20,  -16,\n",
              "        -12,   -8,   -4,    0,    4,    8,   12,   16,   20,   24,   28,\n",
              "         32,   36,   40,   44,   48,   52,   56,   60,   64,   68,   72,\n",
              "         76,   80,   84,   88,   92,   96], dtype=int32)>"
            ]
          },
          "metadata": {},
          "execution_count": 23
        }
      ]
    },
    {
      "cell_type": "code",
      "source": [
        "# make labels for dataset\n",
        "y = X + 10\n",
        "y"
      ],
      "metadata": {
        "colab": {
          "base_uri": "https://localhost:8080/"
        },
        "id": "IgWEHAe7lG3C",
        "outputId": "9a9dbc22-f5d2-4894-b79a-e78b51bb13d5"
      },
      "execution_count": null,
      "outputs": [
        {
          "output_type": "execute_result",
          "data": {
            "text/plain": [
              "<tf.Tensor: shape=(50,), dtype=int32, numpy=\n",
              "array([-90, -86, -82, -78, -74, -70, -66, -62, -58, -54, -50, -46, -42,\n",
              "       -38, -34, -30, -26, -22, -18, -14, -10,  -6,  -2,   2,   6,  10,\n",
              "        14,  18,  22,  26,  30,  34,  38,  42,  46,  50,  54,  58,  62,\n",
              "        66,  70,  74,  78,  82,  86,  90,  94,  98, 102, 106], dtype=int32)>"
            ]
          },
          "metadata": {},
          "execution_count": 24
        }
      ]
    },
    {
      "cell_type": "code",
      "source": [
        "# Plot data\n",
        "plt.scatter(X, y)\n",
        "plt.xlabel('X')\n",
        "plt.ylabel('y')\n",
        "plt.show()"
      ],
      "metadata": {
        "colab": {
          "base_uri": "https://localhost:8080/",
          "height": 449
        },
        "id": "O33QBoDPmIC3",
        "outputId": "78d66e9c-d6f8-4bcf-978c-d0a5a3c28d7f"
      },
      "execution_count": null,
      "outputs": [
        {
          "output_type": "display_data",
          "data": {
            "text/plain": [
              "<Figure size 640x480 with 1 Axes>"
            ],
            "image/png": "[encoded data removed]"
          },
          "metadata": {}
        }
      ]
    },
    {
      "cell_type": "markdown",
      "source": [
        "### The three sets\n",
        "\n",
        "* **Train set** - The model learns from this data, which is typically 70-80% of total data\n",
        "* **Validation set** - The model gets tuned on this data which is typically 10-15% of total data\n",
        "* **Test set** - The model gets evaulated on this data to test what is has learned, which is typically 10-15% of total data\n"
      ],
      "metadata": {
        "id": "uDbreGfPmWUP"
      }
    },
    {
      "cell_type": "code",
      "source": [
        "# Check the lenth of how many data we have\n",
        "len(X)"
      ],
      "metadata": {
        "colab": {
          "base_uri": "https://localhost:8080/"
        },
        "id": "HdLMPbdeurWr",
        "outputId": "163a881b-63af-47cc-e3de-ec16206d19c0"
      },
      "execution_count": null,
      "outputs": [
        {
          "output_type": "execute_result",
          "data": {
            "text/plain": [
              "50"
            ]
          },
          "metadata": {},
          "execution_count": 26
        }
      ]
    },
    {
      "cell_type": "code",
      "source": [
        "# Split the data into train and test set\n",
        "X_train = X[:40] # first 40 are train samples (80% of our data)\n",
        "y_train = y[:40]\n",
        "            \n",
        "X_test = X[40:] # last 10 are test samples (20% of our data)\n",
        "y_test = y[40:]\n",
        "\n",
        "len(X_train), len(X_test)"
      ],
      "metadata": {
        "colab": {
          "base_uri": "https://localhost:8080/"
        },
        "id": "KPe_rfukw3BO",
        "outputId": "a2b2975f-5f2e-4664-d157-619f6893a6e5"
      },
      "execution_count": null,
      "outputs": [
        {
          "output_type": "execute_result",
          "data": {
            "text/plain": [
              "(40, 10)"
            ]
          },
          "metadata": {},
          "execution_count": 27
        }
      ]
    },
    {
      "cell_type": "markdown",
      "source": [
        "### Visualizing data \n",
        "\n",
        "Now we've got our data in train and test sets. Let's visualize it again."
      ],
      "metadata": {
        "id": "M7yCs5iVyP43"
      }
    },
    {
      "cell_type": "code",
      "source": [
        "# plot training data in blue\n",
        "plt.scatter(X_train, y_train, c='b', label='train-set')\n",
        "# plot test data in red\n",
        "plt.scatter(X_test, y_test, c='r', label='test-set')\n",
        "# show legend\n",
        "plt.legend()\n",
        "plt.xlabel('X')\n",
        "plt.ylabel('y')\n",
        "plt.show()"
      ],
      "metadata": {
        "colab": {
          "base_uri": "https://localhost:8080/",
          "height": 449
        },
        "id": "6zKkqtH5zH3v",
        "outputId": "c64d217e-9fb5-4cad-beff-06379f3e0943"
      },
      "execution_count": null,
      "outputs": [
        {
          "output_type": "display_data",
          "data": {
            "text/plain": [
              "<Figure size 640x480 with 1 Axes>"
            ],
            "image/png": "[encoded data removed]"
          },
          "metadata": {}
        }
      ]
    },
    {
      "cell_type": "code",
      "source": [
        "# Let's build a neural network for our data\n",
        "\n",
        "# 1.Create a model\n",
        "model = tf.keras.Sequential([\n",
        "    tf.keras.layers.Dense(1)\n",
        "])\n",
        "\n",
        "# 2.Compiling model\n",
        "model.compile(\n",
        "    loss=tf.keras.losses.mae,\n",
        "    optimizer=tf.keras.optimizers.SGD(),\n",
        "    metrics=['mae']\n",
        ")\n",
        "\n",
        "# 3.Fit the model\n",
        "# model.fit(tf.expand_dims(X, axis=-1), y, epochs=100) # Pass this part and check what will happen if we summary the model"
      ],
      "metadata": {
        "id": "6PIqmS7BzY1t"
      },
      "execution_count": null,
      "outputs": []
    },
    {
      "cell_type": "markdown",
      "source": [
        "### Visulazing the model\n"
      ],
      "metadata": {
        "id": "vS0c9GOzAbPF"
      }
    },
    {
      "cell_type": "code",
      "source": [
        "model.summary()"
      ],
      "metadata": {
        "colab": {
          "base_uri": "https://localhost:8080/",
          "height": 287
        },
        "id": "6zyT7yn5AVit",
        "outputId": "7ee40623-42c6-4b4a-fdd9-204544baeae3"
      },
      "execution_count": null,
      "outputs": [
        {
          "output_type": "error",
          "ename": "ValueError",
          "evalue": "ignored",
          "traceback": [
            "\u001b[0;31m---------------------------------------------------------------------------\u001b[0m",
            "\u001b[0;31mValueError\u001b[0m                                Traceback (most recent call last)",
            "\u001b[0;32m<ipython-input-30-5f15418b3570>\u001b[0m in \u001b[0;36m<cell line: 1>\u001b[0;34m()\u001b[0m\n\u001b[0;32m----> 1\u001b[0;31m \u001b[0mmodel\u001b[0m\u001b[0;34m.\u001b[0m\u001b[0msummary\u001b[0m\u001b[0;34m(\u001b[0m\u001b[0;34m)\u001b[0m\u001b[0;34m\u001b[0m\u001b[0;34m\u001b[0m\u001b[0m\n\u001b[0m",
            "\u001b[0;32m/usr/local/lib/python3.9/dist-packages/keras/engine/training.py\u001b[0m in \u001b[0;36msummary\u001b[0;34m(self, line_length, positions, print_fn, expand_nested, show_trainable, layer_range)\u001b[0m\n\u001b[1;32m   3227\u001b[0m         \"\"\"\n\u001b[1;32m   3228\u001b[0m         \u001b[0;32mif\u001b[0m \u001b[0;32mnot\u001b[0m \u001b[0mself\u001b[0m\u001b[0;34m.\u001b[0m\u001b[0mbuilt\u001b[0m\u001b[0;34m:\u001b[0m\u001b[0;34m\u001b[0m\u001b[0;34m\u001b[0m\u001b[0m\n\u001b[0;32m-> 3229\u001b[0;31m             raise ValueError(\n\u001b[0m\u001b[1;32m   3230\u001b[0m                 \u001b[0;34m\"This model has not yet been built. \"\u001b[0m\u001b[0;34m\u001b[0m\u001b[0;34m\u001b[0m\u001b[0m\n\u001b[1;32m   3231\u001b[0m                 \u001b[0;34m\"Build the model first by calling `build()` or by calling \"\u001b[0m\u001b[0;34m\u001b[0m\u001b[0;34m\u001b[0m\u001b[0m\n",
            "\u001b[0;31mValueError\u001b[0m: This model has not yet been built. Build the model first by calling `build()` or by calling the model on a batch of data."
          ]
        }
      ]
    },
    {
      "cell_type": "code",
      "source": [
        "# Let's create a model which builds automatically by defining the input_shape argument\n",
        "tf.random.set_seed(42)\n",
        "\n",
        "# 1. Create a model (same as above we just add input_shape in Dense)\n",
        "model = tf.keras.Sequential([\n",
        "    tf.keras.layers.Dense(15, input_shape=[1], name='input_layer'),\n",
        "    tf.keras.layers.Dense(1, name='output_layer')\n",
        "], name='model_1')\n",
        "\n",
        "# 2. Compiling model\n",
        "model.compile(\n",
        "    loss=tf.keras.losses.mae,\n",
        "    optimizer=tf.keras.optimizers.SGD(),\n",
        "    metrics=['mae']\n",
        ")"
      ],
      "metadata": {
        "id": "SsPjpAsYAj9d"
      },
      "execution_count": null,
      "outputs": []
    },
    {
      "cell_type": "code",
      "source": [
        "model.summary()"
      ],
      "metadata": {
        "colab": {
          "base_uri": "https://localhost:8080/"
        },
        "id": "W5oh5OXxDTAT",
        "outputId": "9eb46d02-df0f-4824-f8c4-ce0d1cacca49"
      },
      "execution_count": null,
      "outputs": [
        {
          "output_type": "stream",
          "name": "stdout",
          "text": [
            "Model: \"model_1\"\n",
            "_________________________________________________________________\n",
            " Layer (type)                Output Shape              Param #   \n",
            "=================================================================\n",
            " input_layer (Dense)         (None, 15)                30        \n",
            "                                                                 \n",
            " output_layer (Dense)        (None, 1)                 16        \n",
            "                                                                 \n",
            "=================================================================\n",
            "Total params: 46\n",
            "Trainable params: 46\n",
            "Non-trainable params: 0\n",
            "_________________________________________________________________\n"
          ]
        }
      ]
    },
    {
      "cell_type": "markdown",
      "source": [
        "Woww. Its work, now. But, what does it mean?\n",
        "\n",
        "* **Total params** - Total number of parameters in the model\n",
        "* **Trainable params** - These are the parameters that model can update as it trains.\n",
        "* **Non-traianble params** - These are the parameters that model can not update (this is typical when you bring in already learn parameters from other models during transfer learning)"
      ],
      "metadata": {
        "id": "gO2Hw6UnDqMK"
      }
    },
    {
      "cell_type": "code",
      "source": [
        "# Fit the model with training data\n",
        "model.fit(tf.expand_dims(X_train, axis=-1), y_train, epochs=100, verbose=0) # verbose=0 means that dont show the progress bar as output"
      ],
      "metadata": {
        "colab": {
          "base_uri": "https://localhost:8080/"
        },
        "id": "1FXHOOZeH-_w",
        "outputId": "c0b86d9d-f3b3-458d-a65b-124906cf59c3"
      },
      "execution_count": null,
      "outputs": [
        {
          "output_type": "execute_result",
          "data": {
            "text/plain": [
              "<keras.callbacks.History at 0x7f8c384d5850>"
            ]
          },
          "metadata": {},
          "execution_count": 33
        }
      ]
    },
    {
      "cell_type": "code",
      "source": [
        "# Get the summary of the model\n",
        "model.summary()"
      ],
      "metadata": {
        "id": "rwG_wSE3RWLG",
        "colab": {
          "base_uri": "https://localhost:8080/"
        },
        "outputId": "24009eb4-4e14-4043-9177-833cf1cc7d6b"
      },
      "execution_count": null,
      "outputs": [
        {
          "output_type": "stream",
          "name": "stdout",
          "text": [
            "Model: \"model_1\"\n",
            "_________________________________________________________________\n",
            " Layer (type)                Output Shape              Param #   \n",
            "=================================================================\n",
            " input_layer (Dense)         (None, 15)                30        \n",
            "                                                                 \n",
            " output_layer (Dense)        (None, 1)                 16        \n",
            "                                                                 \n",
            "=================================================================\n",
            "Total params: 46\n",
            "Trainable params: 46\n",
            "Non-trainable params: 0\n",
            "_________________________________________________________________\n"
          ]
        }
      ]
    },
    {
      "cell_type": "code",
      "source": [
        "from tensorflow.keras.utils import plot_model\n",
        "\n",
        "plot_model(model=model, show_shapes=True)"
      ],
      "metadata": {
        "colab": {
          "base_uri": "https://localhost:8080/",
          "height": 312
        },
        "id": "7-CFunf0NGrA",
        "outputId": "8317fa73-7881-47c8-fda1-be02df1e4175"
      },
      "execution_count": null,
      "outputs": [
        {
          "output_type": "execute_result",
          "data": {
            "image/png": "[encoded data removed]",
            "text/plain": [
              "<IPython.core.display.Image object>"
            ]
          },
          "metadata": {},
          "execution_count": 35
        }
      ]
    },
    {
      "cell_type": "markdown",
      "source": [
        "### Visulazing our model's predictions\n",
        "\n",
        "To visualize the predictions, it is good idea to plot them against the truth labels.\n",
        "\n",
        "We generally call this as `y_preds`, `y_test` and `y_true`"
      ],
      "metadata": {
        "id": "m5tFEImVOhZh"
      }
    },
    {
      "cell_type": "code",
      "source": [
        "# Make some predictions\n",
        "y_pred = model.predict(X_test)\n",
        "y_pred"
      ],
      "metadata": {
        "colab": {
          "base_uri": "https://localhost:8080/"
        },
        "id": "6dmUAyDAQ-2B",
        "outputId": "f558e13a-81fe-4f22-821a-3277fa8773d1"
      },
      "execution_count": null,
      "outputs": [
        {
          "output_type": "stream",
          "name": "stderr",
          "text": [
            "WARNING:tensorflow:6 out of the last 6 calls to <function Model.make_predict_function.<locals>.predict_function at 0x7f8c3a5f6dc0> triggered tf.function retracing. Tracing is expensive and the excessive number of tracings could be due to (1) creating @tf.function repeatedly in a loop, (2) passing tensors with different shapes, (3) passing Python objects instead of tensors. For (1), please define your @tf.function outside of the loop. For (2), @tf.function has reduce_retracing=True option that can avoid unnecessary retracing. For (3), please refer to https://www.tensorflow.org/guide/function#controlling_retracing and https://www.tensorflow.org/api_docs/python/tf/function for  more details.\n"
          ]
        },
        {
          "output_type": "stream",
          "name": "stdout",
          "text": [
            "1/1 [==============================] - 0s 63ms/step\n"
          ]
        },
        {
          "output_type": "execute_result",
          "data": {
            "text/plain": [
              "array([[ 76.92711 ],\n",
              "       [ 81.943504],\n",
              "       [ 86.95989 ],\n",
              "       [ 91.976295],\n",
              "       [ 96.99268 ],\n",
              "       [102.00909 ],\n",
              "       [107.025475],\n",
              "       [112.04188 ],\n",
              "       [117.05829 ],\n",
              "       [122.07466 ]], dtype=float32)"
            ]
          },
          "metadata": {},
          "execution_count": 36
        }
      ]
    },
    {
      "cell_type": "code",
      "source": [
        "# Let's create a plotting function\n",
        "def plot_prediction(train_data=X_train, train_labels=y_train, \n",
        "     test_data=X_test, test_labels=y_test, predictions=y_pred):\n",
        "  \n",
        "  '''Ploting train data, test data and compare predictions with actual values'''\n",
        "\n",
        "  # Plot training data in blue\n",
        "  plt.scatter(train_data, train_labels, c='b', label='Training data')\n",
        "  # Plot test data in green\n",
        "  plt.scatter(test_data, test_labels, c='g', label='Test data')\n",
        "  # Plot model in red\n",
        "  plt.scatter(test_data, predictions, c='r', label='Prediction')\n",
        "  # Show legend and plot\n",
        "  plt.legend()\n",
        "  plt.show()"
      ],
      "metadata": {
        "id": "mUaiAu1kSbsF"
      },
      "execution_count": null,
      "outputs": []
    },
    {
      "cell_type": "code",
      "source": [
        "plot_prediction(train_data=X_train,\n",
        "                train_labels=y_train,\n",
        "                test_data=X_test,\n",
        "                test_labels=y_test,\n",
        "                predictions=y_pred)"
      ],
      "metadata": {
        "colab": {
          "base_uri": "https://localhost:8080/",
          "height": 430
        },
        "id": "HTyT20V0StaZ",
        "outputId": "0cf8a1e7-49d4-4827-a24f-4a4fad85810b"
      },
      "execution_count": null,
      "outputs": [
        {
          "output_type": "display_data",
          "data": {
            "text/plain": [
              "<Figure size 640x480 with 1 Axes>"
            ],
            "image/png": "[encoded data removed]"
          },
          "metadata": {}
        }
      ]
    },
    {
      "cell_type": "markdown",
      "source": [
        "### Evaluating our model's predictions with regression evaluation metrics\n",
        "\n",
        "Depending problem you are working on, there will be different evaluation metrics to evaluate your model's performance.\n",
        "\n",
        "There are two main metrics for regression problem:\n",
        "* MAE - mean absolute error, on average, how wrong is each of model's predictions\n",
        "* MSE - mean square error, 'square the average errors'"
      ],
      "metadata": {
        "id": "plsHq7VJV6FC"
      }
    },
    {
      "cell_type": "code",
      "source": [
        "  # Evaluate the model on the test set\n",
        "  model.evaluate(X_test, y_test)"
      ],
      "metadata": {
        "id": "QwdPED17XEGR",
        "colab": {
          "base_uri": "https://localhost:8080/"
        },
        "outputId": "1cc4bd73-ffbc-4c2f-a5ac-c29f197ffd66"
      },
      "execution_count": null,
      "outputs": [
        {
          "output_type": "stream",
          "name": "stdout",
          "text": [
            "1/1 [==============================] - 0s 164ms/step - loss: 11.5009 - mae: 11.5009\n"
          ]
        },
        {
          "output_type": "execute_result",
          "data": {
            "text/plain": [
              "[11.50088119506836, 11.50088119506836]"
            ]
          },
          "metadata": {},
          "execution_count": 39
        }
      ]
    },
    {
      "cell_type": "code",
      "source": [
        "# Calculate the mean absolute error\n",
        "mae = tf.keras.losses.mean_absolute_error(y_true=y_test, \n",
        "                                    y_pred=tf.squeeze(y_pred)) # we used tf.squeeze for y_pred becase shape of y_pred is not same with y_test\n",
        "mae"
      ],
      "metadata": {
        "colab": {
          "base_uri": "https://localhost:8080/"
        },
        "id": "ZSjtT6U1XFi8",
        "outputId": "e069df49-93ed-43c4-d773-f67d55f3dee7"
      },
      "execution_count": null,
      "outputs": [
        {
          "output_type": "execute_result",
          "data": {
            "text/plain": [
              "<tf.Tensor: shape=(), dtype=float32, numpy=11.500887>"
            ]
          },
          "metadata": {},
          "execution_count": 40
        }
      ]
    },
    {
      "cell_type": "code",
      "source": [
        "# Calculate the mean square error\n",
        "mse = tf.keras.losses.mean_squared_error(y_true=y_test, \n",
        "                                    y_pred=tf.squeeze(y_pred))\n",
        "mse"
      ],
      "metadata": {
        "colab": {
          "base_uri": "https://localhost:8080/"
        },
        "id": "6O7sljtjrKr4",
        "outputId": "70d5f55d-9761-4b7a-aa27-16a988e3225f"
      },
      "execution_count": null,
      "outputs": [
        {
          "output_type": "execute_result",
          "data": {
            "text/plain": [
              "<tf.Tensor: shape=(), dtype=float32, numpy=140.79317>"
            ]
          },
          "metadata": {},
          "execution_count": 41
        }
      ]
    },
    {
      "cell_type": "code",
      "source": [
        "# Make some functions to reuse MAE and MSE\n",
        "def mae(y_true, y_pred):\n",
        "  return tf.keras.losses.mean_absolute_error(y_true, tf.squeeze(y_pred)).numpy()\n",
        "\n",
        "def mse(y_true, y_pred):\n",
        "  return tf.keras.losses.mean_squared_error(y_true, tf.squeeze(y_pred)).numpy()"
      ],
      "metadata": {
        "id": "CpjbyUaZr-gg"
      },
      "execution_count": null,
      "outputs": []
    },
    {
      "cell_type": "code",
      "source": [
        "# MAE and MSE\n",
        "print(f'Mean Absolute Error (MAE): {mae(y_test, y_pred)}')\n",
        "print(f'Mean Square Error (MSE): {mse(y_test, y_pred)}')"
      ],
      "metadata": {
        "colab": {
          "base_uri": "https://localhost:8080/"
        },
        "id": "AFz_O7B0ufog",
        "outputId": "74d0358e-2590-464c-ccf0-9545c4f4ffd1"
      },
      "execution_count": null,
      "outputs": [
        {
          "output_type": "stream",
          "name": "stdout",
          "text": [
            "Mean Absolute Error (MAE): 11.500886917114258\n",
            "Mean Square Error (MSE): 140.7931671142578\n"
          ]
        }
      ]
    },
    {
      "cell_type": "markdown",
      "source": [
        "### Running experiments to improve model\n",
        "\n",
        "``` \n",
        "Build a model -> Fit it -> Evaluate it -> Tweak it -> Fit it -> Evaluate it -> tweak it -> Evaluate it\n",
        "```\n",
        "\n",
        "1. Get more data - get more examples for your model to train on.\n",
        "2. Make your model larger (using more complex model) - this might come in the form more layers on more neoron\n",
        "3. Train for longer - give your model more of a chance to find patterns in the data\n",
        "\n",
        "Let's do 3 modelling experiments:\n",
        "\n",
        "1. `model_1` - same as the original model, 1 layer, trained for 100 eepochs\n",
        "2. `model_2` - 2 layers, trained for 100 epochs\n",
        "3. `model_3` - 2 layers, trained for 500 epochs\n",
        "\n",
        "**Build `model_1`**"
      ],
      "metadata": {
        "id": "qfI6iHOgumRI"
      }
    },
    {
      "cell_type": "code",
      "source": [
        "# set random seed\n",
        "tf.random.set_seed(42)\n",
        "\n",
        "# 1. Create the model\n",
        "model_1 = tf.keras.Sequential([\n",
        "    tf.keras.layers.Dense(1)\n",
        "])\n",
        "\n",
        "# 2. Compile the model\n",
        "model_1.compile(\n",
        "     loss=tf.keras.losses.mae,\n",
        "     optimizer=tf.keras.optimizers.SGD(),\n",
        "     metrics=['mae']\n",
        ")\n",
        "\n",
        "# 3. Fit the model\n",
        "model_1.fit(tf.expand_dims(X_train, axis=-1), y_train, epochs=100)"
      ],
      "metadata": {
        "colab": {
          "base_uri": "https://localhost:8080/"
        },
        "id": "iZqzUBMeu07Y",
        "outputId": "bd73148e-6071-442c-95e7-25a4bbe61024"
      },
      "execution_count": null,
      "outputs": [
        {
          "output_type": "stream",
          "name": "stdout",
          "text": [
            "Epoch 1/100\n",
            "2/2 [==============================] - 0s 12ms/step - loss: 78.0158 - mae: 78.0158\n",
            "Epoch 2/100\n",
            "2/2 [==============================] - 0s 8ms/step - loss: 42.6546 - mae: 42.6546\n",
            "Epoch 3/100\n",
            "2/2 [==============================] - 0s 7ms/step - loss: 10.3592 - mae: 10.3592\n",
            "Epoch 4/100\n",
            "2/2 [==============================] - 0s 8ms/step - loss: 9.3840 - mae: 9.3840\n",
            "Epoch 5/100\n",
            "2/2 [==============================] - 0s 7ms/step - loss: 10.2612 - mae: 10.2612\n",
            "Epoch 6/100\n",
            "2/2 [==============================] - 0s 10ms/step - loss: 9.5160 - mae: 9.5160\n",
            "Epoch 7/100\n",
            "2/2 [==============================] - 0s 7ms/step - loss: 8.6451 - mae: 8.6451\n",
            "Epoch 8/100\n",
            "2/2 [==============================] - 0s 7ms/step - loss: 9.0720 - mae: 9.0720\n",
            "Epoch 9/100\n",
            "2/2 [==============================] - 0s 9ms/step - loss: 18.8967 - mae: 18.8967\n",
            "Epoch 10/100\n",
            "2/2 [==============================] - 0s 7ms/step - loss: 10.2109 - mae: 10.2109\n",
            "Epoch 11/100\n",
            "2/2 [==============================] - 0s 6ms/step - loss: 8.4493 - mae: 8.4493\n",
            "Epoch 12/100\n",
            "2/2 [==============================] - 0s 7ms/step - loss: 10.7457 - mae: 10.7457\n",
            "Epoch 13/100\n",
            "2/2 [==============================] - 0s 8ms/step - loss: 9.8443 - mae: 9.8443\n",
            "Epoch 14/100\n",
            "2/2 [==============================] - 0s 8ms/step - loss: 16.1615 - mae: 16.1615\n",
            "Epoch 15/100\n",
            "2/2 [==============================] - 0s 7ms/step - loss: 11.3164 - mae: 11.3164\n",
            "Epoch 16/100\n",
            "2/2 [==============================] - 0s 7ms/step - loss: 8.5929 - mae: 8.5929\n",
            "Epoch 17/100\n",
            "2/2 [==============================] - 0s 9ms/step - loss: 13.7338 - mae: 13.7338\n",
            "Epoch 18/100\n",
            "2/2 [==============================] - 0s 8ms/step - loss: 11.5807 - mae: 11.5807\n",
            "Epoch 19/100\n",
            "2/2 [==============================] - 0s 9ms/step - loss: 17.8173 - mae: 17.8173\n",
            "Epoch 20/100\n",
            "2/2 [==============================] - 0s 6ms/step - loss: 14.9527 - mae: 14.9527\n",
            "Epoch 21/100\n",
            "2/2 [==============================] - 0s 7ms/step - loss: 10.8438 - mae: 10.8438\n",
            "Epoch 22/100\n",
            "2/2 [==============================] - 0s 7ms/step - loss: 8.5930 - mae: 8.5930\n",
            "Epoch 23/100\n",
            "2/2 [==============================] - 0s 7ms/step - loss: 9.7514 - mae: 9.7514\n",
            "Epoch 24/100\n",
            "2/2 [==============================] - 0s 7ms/step - loss: 10.9515 - mae: 10.9515\n",
            "Epoch 25/100\n",
            "2/2 [==============================] - 0s 9ms/step - loss: 9.1727 - mae: 9.1727\n",
            "Epoch 26/100\n",
            "2/2 [==============================] - 0s 8ms/step - loss: 13.1868 - mae: 13.1868\n",
            "Epoch 27/100\n",
            "2/2 [==============================] - 0s 7ms/step - loss: 10.6688 - mae: 10.6688\n",
            "Epoch 28/100\n",
            "2/2 [==============================] - 0s 7ms/step - loss: 12.8792 - mae: 12.8792\n",
            "Epoch 29/100\n",
            "2/2 [==============================] - 0s 8ms/step - loss: 9.5260 - mae: 9.5260\n",
            "Epoch 30/100\n",
            "2/2 [==============================] - 0s 7ms/step - loss: 16.3845 - mae: 16.3845\n",
            "Epoch 31/100\n",
            "2/2 [==============================] - 0s 7ms/step - loss: 23.6198 - mae: 23.6198\n",
            "Epoch 32/100\n",
            "2/2 [==============================] - 0s 8ms/step - loss: 7.6369 - mae: 7.6369\n",
            "Epoch 33/100\n",
            "2/2 [==============================] - 0s 7ms/step - loss: 9.3353 - mae: 9.3353\n",
            "Epoch 34/100\n",
            "2/2 [==============================] - 0s 8ms/step - loss: 13.7257 - mae: 13.7257\n",
            "Epoch 35/100\n",
            "2/2 [==============================] - 0s 7ms/step - loss: 11.1590 - mae: 11.1590\n",
            "Epoch 36/100\n",
            "2/2 [==============================] - 0s 8ms/step - loss: 13.3613 - mae: 13.3613\n",
            "Epoch 37/100\n",
            "2/2 [==============================] - 0s 8ms/step - loss: 9.4860 - mae: 9.4860\n",
            "Epoch 38/100\n",
            "2/2 [==============================] - 0s 8ms/step - loss: 10.1446 - mae: 10.1446\n",
            "Epoch 39/100\n",
            "2/2 [==============================] - 0s 8ms/step - loss: 10.2109 - mae: 10.2109\n",
            "Epoch 40/100\n",
            "2/2 [==============================] - 0s 8ms/step - loss: 10.9476 - mae: 10.9476\n",
            "Epoch 41/100\n",
            "2/2 [==============================] - 0s 7ms/step - loss: 7.9392 - mae: 7.9392\n",
            "Epoch 42/100\n",
            "2/2 [==============================] - 0s 9ms/step - loss: 10.0996 - mae: 10.0996\n",
            "Epoch 43/100\n",
            "2/2 [==============================] - 0s 7ms/step - loss: 8.7157 - mae: 8.7157\n",
            "Epoch 44/100\n",
            "2/2 [==============================] - 0s 7ms/step - loss: 12.1988 - mae: 12.1988\n",
            "Epoch 45/100\n",
            "2/2 [==============================] - 0s 7ms/step - loss: 13.8337 - mae: 13.8337\n",
            "Epoch 46/100\n",
            "2/2 [==============================] - 0s 8ms/step - loss: 8.5027 - mae: 8.5027\n",
            "Epoch 47/100\n",
            "2/2 [==============================] - 0s 7ms/step - loss: 9.1423 - mae: 9.1423\n",
            "Epoch 48/100\n",
            "2/2 [==============================] - 0s 7ms/step - loss: 10.6241 - mae: 10.6241\n",
            "Epoch 49/100\n",
            "2/2 [==============================] - 0s 7ms/step - loss: 7.7600 - mae: 7.7600\n",
            "Epoch 50/100\n",
            "2/2 [==============================] - 0s 7ms/step - loss: 9.5463 - mae: 9.5463\n",
            "Epoch 51/100\n",
            "2/2 [==============================] - 0s 7ms/step - loss: 9.1747 - mae: 9.1747\n",
            "Epoch 52/100\n",
            "2/2 [==============================] - 0s 7ms/step - loss: 16.3396 - mae: 16.3396\n",
            "Epoch 53/100\n",
            "2/2 [==============================] - 0s 7ms/step - loss: 14.1575 - mae: 14.1575\n",
            "Epoch 54/100\n",
            "2/2 [==============================] - 0s 7ms/step - loss: 21.1678 - mae: 21.1678\n",
            "Epoch 55/100\n",
            "2/2 [==============================] - 0s 7ms/step - loss: 16.3793 - mae: 16.3793\n",
            "Epoch 56/100\n",
            "2/2 [==============================] - 0s 7ms/step - loss: 10.0166 - mae: 10.0166\n",
            "Epoch 57/100\n",
            "2/2 [==============================] - 0s 6ms/step - loss: 9.9679 - mae: 9.9679\n",
            "Epoch 58/100\n",
            "2/2 [==============================] - 0s 6ms/step - loss: 9.2306 - mae: 9.2306\n",
            "Epoch 59/100\n",
            "2/2 [==============================] - 0s 10ms/step - loss: 8.4310 - mae: 8.4310\n",
            "Epoch 60/100\n",
            "2/2 [==============================] - 0s 8ms/step - loss: 9.4986 - mae: 9.4986\n",
            "Epoch 61/100\n",
            "2/2 [==============================] - 0s 8ms/step - loss: 11.4382 - mae: 11.4382\n",
            "Epoch 62/100\n",
            "2/2 [==============================] - 0s 7ms/step - loss: 11.7257 - mae: 11.7257\n",
            "Epoch 63/100\n",
            "2/2 [==============================] - 0s 8ms/step - loss: 7.0983 - mae: 7.0983\n",
            "Epoch 64/100\n",
            "2/2 [==============================] - 0s 8ms/step - loss: 17.0020 - mae: 17.0020\n",
            "Epoch 65/100\n",
            "2/2 [==============================] - 0s 8ms/step - loss: 12.4919 - mae: 12.4919\n",
            "Epoch 66/100\n",
            "2/2 [==============================] - 0s 8ms/step - loss: 13.0547 - mae: 13.0547\n",
            "Epoch 67/100\n",
            "2/2 [==============================] - 0s 8ms/step - loss: 8.0875 - mae: 8.0875\n",
            "Epoch 68/100\n",
            "2/2 [==============================] - 0s 8ms/step - loss: 10.2193 - mae: 10.2193\n",
            "Epoch 69/100\n",
            "2/2 [==============================] - 0s 12ms/step - loss: 12.4016 - mae: 12.4016\n",
            "Epoch 70/100\n",
            "2/2 [==============================] - 0s 9ms/step - loss: 9.0618 - mae: 9.0618\n",
            "Epoch 71/100\n",
            "2/2 [==============================] - 0s 9ms/step - loss: 10.0462 - mae: 10.0462\n",
            "Epoch 72/100\n",
            "2/2 [==============================] - 0s 8ms/step - loss: 10.0626 - mae: 10.0626\n",
            "Epoch 73/100\n",
            "2/2 [==============================] - 0s 8ms/step - loss: 12.6137 - mae: 12.6137\n",
            "Epoch 74/100\n",
            "2/2 [==============================] - 0s 8ms/step - loss: 10.4209 - mae: 10.4209\n",
            "Epoch 75/100\n",
            "2/2 [==============================] - 0s 7ms/step - loss: 9.7319 - mae: 9.7319\n",
            "Epoch 76/100\n",
            "2/2 [==============================] - 0s 7ms/step - loss: 11.2312 - mae: 11.2312\n",
            "Epoch 77/100\n",
            "2/2 [==============================] - 0s 7ms/step - loss: 8.3730 - mae: 8.3730\n",
            "Epoch 78/100\n",
            "2/2 [==============================] - 0s 8ms/step - loss: 9.1302 - mae: 9.1302\n",
            "Epoch 79/100\n",
            "2/2 [==============================] - 0s 7ms/step - loss: 19.5461 - mae: 19.5461\n",
            "Epoch 80/100\n",
            "2/2 [==============================] - 0s 7ms/step - loss: 14.8818 - mae: 14.8818\n",
            "Epoch 81/100\n",
            "2/2 [==============================] - 0s 6ms/step - loss: 9.0452 - mae: 9.0452\n",
            "Epoch 82/100\n",
            "2/2 [==============================] - 0s 7ms/step - loss: 13.0138 - mae: 13.0138\n",
            "Epoch 83/100\n",
            "2/2 [==============================] - 0s 8ms/step - loss: 7.9357 - mae: 7.9357\n",
            "Epoch 84/100\n",
            "2/2 [==============================] - 0s 8ms/step - loss: 7.7130 - mae: 7.7130\n",
            "Epoch 85/100\n",
            "2/2 [==============================] - 0s 7ms/step - loss: 10.0650 - mae: 10.0650\n",
            "Epoch 86/100\n",
            "2/2 [==============================] - 0s 8ms/step - loss: 9.2710 - mae: 9.2710\n",
            "Epoch 87/100\n",
            "2/2 [==============================] - 0s 8ms/step - loss: 12.0526 - mae: 12.0526\n",
            "Epoch 88/100\n",
            "2/2 [==============================] - 0s 7ms/step - loss: 10.6732 - mae: 10.6732\n",
            "Epoch 89/100\n",
            "2/2 [==============================] - 0s 7ms/step - loss: 7.2883 - mae: 7.2883\n",
            "Epoch 90/100\n",
            "2/2 [==============================] - 0s 7ms/step - loss: 12.8147 - mae: 12.8147\n",
            "Epoch 91/100\n",
            "2/2 [==============================] - 0s 6ms/step - loss: 7.4974 - mae: 7.4974\n",
            "Epoch 92/100\n",
            "2/2 [==============================] - 0s 7ms/step - loss: 6.7742 - mae: 6.7742\n",
            "Epoch 93/100\n",
            "2/2 [==============================] - 0s 11ms/step - loss: 11.9656 - mae: 11.9656\n",
            "Epoch 94/100\n",
            "2/2 [==============================] - 0s 7ms/step - loss: 8.8996 - mae: 8.8996\n",
            "Epoch 95/100\n",
            "2/2 [==============================] - 0s 7ms/step - loss: 7.7411 - mae: 7.7411\n",
            "Epoch 96/100\n",
            "2/2 [==============================] - 0s 6ms/step - loss: 6.7711 - mae: 6.7711\n",
            "Epoch 97/100\n",
            "2/2 [==============================] - 0s 7ms/step - loss: 8.6509 - mae: 8.6509\n",
            "Epoch 98/100\n",
            "2/2 [==============================] - 0s 7ms/step - loss: 9.4142 - mae: 9.4142\n",
            "Epoch 99/100\n",
            "2/2 [==============================] - 0s 6ms/step - loss: 9.1494 - mae: 9.1494\n",
            "Epoch 100/100\n",
            "2/2 [==============================] - 0s 7ms/step - loss: 10.5070 - mae: 10.5070\n"
          ]
        },
        {
          "output_type": "execute_result",
          "data": {
            "text/plain": [
              "<keras.callbacks.History at 0x7f8c43b9a670>"
            ]
          },
          "metadata": {},
          "execution_count": 44
        }
      ]
    },
    {
      "cell_type": "code",
      "source": [
        "# Make and plot prediction for model_1\n",
        "y_pred_1 = model_1.predict(X_test)\n",
        "plot_prediction(train_data=X_train,\n",
        "                train_labels=y_train,\n",
        "                test_data=X_test,\n",
        "                test_labels=y_test,\n",
        "                predictions=y_pred_1)"
      ],
      "metadata": {
        "colab": {
          "base_uri": "https://localhost:8080/",
          "height": 447
        },
        "id": "S8LEnanay0q_",
        "outputId": "bc635c55-3746-48fb-9d7a-b72e6b4975aa"
      },
      "execution_count": null,
      "outputs": [
        {
          "output_type": "stream",
          "name": "stdout",
          "text": [
            "1/1 [==============================] - 0s 52ms/step\n"
          ]
        },
        {
          "output_type": "display_data",
          "data": {
            "text/plain": [
              "<Figure size 640x480 with 1 Axes>"
            ],
            "image/png": "[encoded data removed]"
          },
          "metadata": {}
        }
      ]
    },
    {
      "cell_type": "code",
      "source": [
        "# Calculate evaluation metrics for model_!\n",
        "print('Mean Absolute Error (MAE):', mae(y_test, y_pred_1))\n",
        "print('Mean Square Error (MSE):', mse(y_test, y_pred_1))"
      ],
      "metadata": {
        "colab": {
          "base_uri": "https://localhost:8080/"
        },
        "id": "bxez890PzoR4",
        "outputId": "7f4503d3-e47a-4d44-eef7-9653e6551c0c"
      },
      "execution_count": null,
      "outputs": [
        {
          "output_type": "stream",
          "name": "stdout",
          "text": [
            "Mean Absolute Error (MAE): 14.953829\n",
            "Mean Square Error (MSE): 224.45728\n"
          ]
        }
      ]
    },
    {
      "cell_type": "markdown",
      "source": [
        "**Build `model_2`**\n",
        "\n",
        "* 2 layers, trained for 100 epochs"
      ],
      "metadata": {
        "id": "CuA5n2uh0gXY"
      }
    },
    {
      "cell_type": "code",
      "source": [
        "# Set random seed\n",
        "tf.random.set_seed(42)\n",
        "\n",
        "# 1. Create the model\n",
        "model_2 = tf.keras.Sequential([\n",
        "    tf.keras.layers.Dense(10),\n",
        "    tf.keras.layers.Dense(1)\n",
        "])\n",
        "\n",
        "# 2. Compile the model\n",
        "model_2.compile(\n",
        "     loss=tf.keras.losses.mae,\n",
        "     optimizer=tf.keras.optimizers.SGD(),\n",
        "     metrics=['mae']\n",
        ")\n",
        "\n",
        "# 3. Fit the model\n",
        "model_2.fit(tf.expand_dims(X_train, axis=-1), y_train, epochs=100)"
      ],
      "metadata": {
        "colab": {
          "base_uri": "https://localhost:8080/"
        },
        "id": "Q9r6xJ-42Bwf",
        "outputId": "0b4043e1-886d-4c71-de6a-857ae6fc044a"
      },
      "execution_count": null,
      "outputs": [
        {
          "output_type": "stream",
          "name": "stdout",
          "text": [
            "Epoch 1/100\n",
            "2/2 [==============================] - 0s 11ms/step - loss: 86.2024 - mae: 86.2024\n",
            "Epoch 2/100\n",
            "2/2 [==============================] - 0s 8ms/step - loss: 14.9881 - mae: 14.9881\n",
            "Epoch 3/100\n",
            "2/2 [==============================] - 0s 8ms/step - loss: 25.9239 - mae: 25.9239\n",
            "Epoch 4/100\n",
            "2/2 [==============================] - 0s 8ms/step - loss: 12.8441 - mae: 12.8441\n",
            "Epoch 5/100\n",
            "2/2 [==============================] - 0s 8ms/step - loss: 15.7914 - mae: 15.7914\n",
            "Epoch 6/100\n",
            "2/2 [==============================] - 0s 8ms/step - loss: 12.5027 - mae: 12.5027\n",
            "Epoch 7/100\n",
            "2/2 [==============================] - 0s 10ms/step - loss: 11.7511 - mae: 11.7511\n",
            "Epoch 8/100\n",
            "2/2 [==============================] - 0s 8ms/step - loss: 10.7853 - mae: 10.7853\n",
            "Epoch 9/100\n",
            "2/2 [==============================] - 0s 7ms/step - loss: 36.6502 - mae: 36.6502\n",
            "Epoch 10/100\n",
            "2/2 [==============================] - 0s 8ms/step - loss: 24.4515 - mae: 24.4515\n",
            "Epoch 11/100\n",
            "2/2 [==============================] - 0s 8ms/step - loss: 11.7841 - mae: 11.7841\n",
            "Epoch 12/100\n",
            "2/2 [==============================] - 0s 6ms/step - loss: 23.5416 - mae: 23.5416\n",
            "Epoch 13/100\n",
            "2/2 [==============================] - 0s 6ms/step - loss: 21.2741 - mae: 21.2741\n",
            "Epoch 14/100\n",
            "2/2 [==============================] - 0s 7ms/step - loss: 23.7601 - mae: 23.7601\n",
            "Epoch 15/100\n",
            "2/2 [==============================] - 0s 7ms/step - loss: 15.8057 - mae: 15.8057\n",
            "Epoch 16/100\n",
            "2/2 [==============================] - 0s 8ms/step - loss: 10.4453 - mae: 10.4453\n",
            "Epoch 17/100\n",
            "2/2 [==============================] - 0s 7ms/step - loss: 19.7334 - mae: 19.7334\n",
            "Epoch 18/100\n",
            "2/2 [==============================] - 0s 7ms/step - loss: 13.3533 - mae: 13.3533\n",
            "Epoch 19/100\n",
            "2/2 [==============================] - 0s 9ms/step - loss: 16.3663 - mae: 16.3663\n",
            "Epoch 20/100\n",
            "2/2 [==============================] - 0s 9ms/step - loss: 8.2434 - mae: 8.2434\n",
            "Epoch 21/100\n",
            "2/2 [==============================] - 0s 6ms/step - loss: 14.4574 - mae: 14.4574\n",
            "Epoch 22/100\n",
            "2/2 [==============================] - 0s 6ms/step - loss: 12.8775 - mae: 12.8775\n",
            "Epoch 23/100\n",
            "2/2 [==============================] - 0s 8ms/step - loss: 15.5068 - mae: 15.5068\n",
            "Epoch 24/100\n",
            "2/2 [==============================] - 0s 7ms/step - loss: 15.2980 - mae: 15.2980\n",
            "Epoch 25/100\n",
            "2/2 [==============================] - 0s 8ms/step - loss: 14.3570 - mae: 14.3570\n",
            "Epoch 26/100\n",
            "2/2 [==============================] - 0s 7ms/step - loss: 19.3824 - mae: 19.3824\n",
            "Epoch 27/100\n",
            "2/2 [==============================] - 0s 7ms/step - loss: 11.4249 - mae: 11.4249\n",
            "Epoch 28/100\n",
            "2/2 [==============================] - 0s 8ms/step - loss: 28.9746 - mae: 28.9746\n",
            "Epoch 29/100\n",
            "2/2 [==============================] - 0s 8ms/step - loss: 9.2434 - mae: 9.2434\n",
            "Epoch 30/100\n",
            "2/2 [==============================] - 0s 8ms/step - loss: 29.7397 - mae: 29.7397\n",
            "Epoch 31/100\n",
            "2/2 [==============================] - 0s 7ms/step - loss: 53.9489 - mae: 53.9489\n",
            "Epoch 32/100\n",
            "2/2 [==============================] - 0s 8ms/step - loss: 9.5402 - mae: 9.5402\n",
            "Epoch 33/100\n",
            "2/2 [==============================] - 0s 7ms/step - loss: 12.1287 - mae: 12.1287\n",
            "Epoch 34/100\n",
            "2/2 [==============================] - 0s 7ms/step - loss: 23.7916 - mae: 23.7916\n",
            "Epoch 35/100\n",
            "2/2 [==============================] - 0s 7ms/step - loss: 12.6329 - mae: 12.6329\n",
            "Epoch 36/100\n",
            "2/2 [==============================] - 0s 7ms/step - loss: 21.5681 - mae: 21.5681\n",
            "Epoch 37/100\n",
            "2/2 [==============================] - 0s 7ms/step - loss: 11.3388 - mae: 11.3388\n",
            "Epoch 38/100\n",
            "2/2 [==============================] - 0s 8ms/step - loss: 13.4038 - mae: 13.4038\n",
            "Epoch 39/100\n",
            "2/2 [==============================] - 0s 8ms/step - loss: 10.7564 - mae: 10.7564\n",
            "Epoch 40/100\n",
            "2/2 [==============================] - 0s 12ms/step - loss: 16.5192 - mae: 16.5192\n",
            "Epoch 41/100\n",
            "2/2 [==============================] - 0s 12ms/step - loss: 10.9287 - mae: 10.9287\n",
            "Epoch 42/100\n",
            "2/2 [==============================] - 0s 7ms/step - loss: 9.2666 - mae: 9.2666\n",
            "Epoch 43/100\n",
            "2/2 [==============================] - 0s 9ms/step - loss: 9.5783 - mae: 9.5783\n",
            "Epoch 44/100\n",
            "2/2 [==============================] - 0s 11ms/step - loss: 27.8945 - mae: 27.8945\n",
            "Epoch 45/100\n",
            "2/2 [==============================] - 0s 8ms/step - loss: 11.2513 - mae: 11.2513\n",
            "Epoch 46/100\n",
            "2/2 [==============================] - 0s 8ms/step - loss: 13.8449 - mae: 13.8449\n",
            "Epoch 47/100\n",
            "2/2 [==============================] - 0s 9ms/step - loss: 11.9202 - mae: 11.9202\n",
            "Epoch 48/100\n",
            "2/2 [==============================] - 0s 6ms/step - loss: 16.9551 - mae: 16.9551\n",
            "Epoch 49/100\n",
            "2/2 [==============================] - 0s 8ms/step - loss: 9.7661 - mae: 9.7661\n",
            "Epoch 50/100\n",
            "2/2 [==============================] - 0s 6ms/step - loss: 14.1582 - mae: 14.1582\n",
            "Epoch 51/100\n",
            "2/2 [==============================] - 0s 7ms/step - loss: 11.7288 - mae: 11.7288\n",
            "Epoch 52/100\n",
            "2/2 [==============================] - 0s 7ms/step - loss: 31.3915 - mae: 31.3915\n",
            "Epoch 53/100\n",
            "2/2 [==============================] - 0s 7ms/step - loss: 14.7234 - mae: 14.7234\n",
            "Epoch 54/100\n",
            "2/2 [==============================] - 0s 8ms/step - loss: 24.6176 - mae: 24.6176\n",
            "Epoch 55/100\n",
            "2/2 [==============================] - 0s 7ms/step - loss: 23.8996 - mae: 23.8996\n",
            "Epoch 56/100\n",
            "2/2 [==============================] - 0s 8ms/step - loss: 11.1151 - mae: 11.1151\n",
            "Epoch 57/100\n",
            "2/2 [==============================] - 0s 8ms/step - loss: 13.0563 - mae: 13.0563\n",
            "Epoch 58/100\n",
            "2/2 [==============================] - 0s 11ms/step - loss: 9.7765 - mae: 9.7765\n",
            "Epoch 59/100\n",
            "2/2 [==============================] - 0s 7ms/step - loss: 13.2409 - mae: 13.2409\n",
            "Epoch 60/100\n",
            "2/2 [==============================] - 0s 7ms/step - loss: 10.8314 - mae: 10.8314\n",
            "Epoch 61/100\n",
            "2/2 [==============================] - 0s 7ms/step - loss: 13.4191 - mae: 13.4191\n",
            "Epoch 62/100\n",
            "2/2 [==============================] - 0s 8ms/step - loss: 17.4059 - mae: 17.4059\n",
            "Epoch 63/100\n",
            "2/2 [==============================] - 0s 7ms/step - loss: 9.1353 - mae: 9.1353\n",
            "Epoch 64/100\n",
            "2/2 [==============================] - 0s 7ms/step - loss: 18.2817 - mae: 18.2817\n",
            "Epoch 65/100\n",
            "2/2 [==============================] - 0s 6ms/step - loss: 10.0909 - mae: 10.0909\n",
            "Epoch 66/100\n",
            "2/2 [==============================] - 0s 6ms/step - loss: 24.1262 - mae: 24.1262\n",
            "Epoch 67/100\n",
            "2/2 [==============================] - 0s 7ms/step - loss: 10.8459 - mae: 10.8459\n",
            "Epoch 68/100\n",
            "2/2 [==============================] - 0s 7ms/step - loss: 10.7388 - mae: 10.7388\n",
            "Epoch 69/100\n",
            "2/2 [==============================] - 0s 11ms/step - loss: 23.1094 - mae: 23.1094\n",
            "Epoch 70/100\n",
            "2/2 [==============================] - 0s 11ms/step - loss: 8.8362 - mae: 8.8362\n",
            "Epoch 71/100\n",
            "2/2 [==============================] - 0s 8ms/step - loss: 16.0621 - mae: 16.0621\n",
            "Epoch 72/100\n",
            "2/2 [==============================] - 0s 8ms/step - loss: 7.7498 - mae: 7.7498\n",
            "Epoch 73/100\n",
            "2/2 [==============================] - 0s 7ms/step - loss: 10.1568 - mae: 10.1568\n",
            "Epoch 74/100\n",
            "2/2 [==============================] - 0s 8ms/step - loss: 28.3356 - mae: 28.3356\n",
            "Epoch 75/100\n",
            "2/2 [==============================] - 0s 7ms/step - loss: 10.0015 - mae: 10.0015\n",
            "Epoch 76/100\n",
            "2/2 [==============================] - 0s 7ms/step - loss: 12.9172 - mae: 12.9172\n",
            "Epoch 77/100\n",
            "2/2 [==============================] - 0s 7ms/step - loss: 17.8832 - mae: 17.8832\n",
            "Epoch 78/100\n",
            "2/2 [==============================] - 0s 9ms/step - loss: 8.9582 - mae: 8.9582\n",
            "Epoch 79/100\n",
            "2/2 [==============================] - 0s 8ms/step - loss: 28.7136 - mae: 28.7136\n",
            "Epoch 80/100\n",
            "2/2 [==============================] - 0s 8ms/step - loss: 31.0502 - mae: 31.0502\n",
            "Epoch 81/100\n",
            "2/2 [==============================] - 0s 8ms/step - loss: 13.4104 - mae: 13.4104\n",
            "Epoch 82/100\n",
            "2/2 [==============================] - 0s 9ms/step - loss: 14.5131 - mae: 14.5131\n",
            "Epoch 83/100\n",
            "2/2 [==============================] - 0s 8ms/step - loss: 18.5303 - mae: 18.5303\n",
            "Epoch 84/100\n",
            "2/2 [==============================] - 0s 8ms/step - loss: 8.8091 - mae: 8.8091\n",
            "Epoch 85/100\n",
            "2/2 [==============================] - 0s 8ms/step - loss: 18.4019 - mae: 18.4019\n",
            "Epoch 86/100\n",
            "2/2 [==============================] - 0s 8ms/step - loss: 22.5837 - mae: 22.5837\n",
            "Epoch 87/100\n",
            "2/2 [==============================] - 0s 8ms/step - loss: 11.3716 - mae: 11.3716\n",
            "Epoch 88/100\n",
            "2/2 [==============================] - 0s 8ms/step - loss: 26.6145 - mae: 26.6145\n",
            "Epoch 89/100\n",
            "2/2 [==============================] - 0s 7ms/step - loss: 9.6574 - mae: 9.6574\n",
            "Epoch 90/100\n",
            "2/2 [==============================] - 0s 8ms/step - loss: 18.7603 - mae: 18.7603\n",
            "Epoch 91/100\n",
            "2/2 [==============================] - 0s 7ms/step - loss: 10.4944 - mae: 10.4944\n",
            "Epoch 92/100\n",
            "2/2 [==============================] - 0s 8ms/step - loss: 17.9893 - mae: 17.9893\n",
            "Epoch 93/100\n",
            "2/2 [==============================] - 0s 7ms/step - loss: 6.5832 - mae: 6.5832\n",
            "Epoch 94/100\n",
            "2/2 [==============================] - 0s 7ms/step - loss: 11.1436 - mae: 11.1436\n",
            "Epoch 95/100\n",
            "2/2 [==============================] - 0s 8ms/step - loss: 24.3441 - mae: 24.3441\n",
            "Epoch 96/100\n",
            "2/2 [==============================] - 0s 7ms/step - loss: 10.7490 - mae: 10.7490\n",
            "Epoch 97/100\n",
            "2/2 [==============================] - 0s 9ms/step - loss: 15.3461 - mae: 15.3461\n",
            "Epoch 98/100\n",
            "2/2 [==============================] - 0s 7ms/step - loss: 8.2635 - mae: 8.2635\n",
            "Epoch 99/100\n",
            "2/2 [==============================] - 0s 7ms/step - loss: 16.5070 - mae: 16.5070\n",
            "Epoch 100/100\n",
            "2/2 [==============================] - 0s 7ms/step - loss: 14.2973 - mae: 14.2973\n"
          ]
        },
        {
          "output_type": "execute_result",
          "data": {
            "text/plain": [
              "<keras.callbacks.History at 0x7f8c43ae5e50>"
            ]
          },
          "metadata": {},
          "execution_count": 47
        }
      ]
    },
    {
      "cell_type": "code",
      "source": [
        "# Make and plot predictions\n",
        "y_pred_2 = model_2.predict(X_test)\n",
        "plot_prediction(predictions=y_pred_2)"
      ],
      "metadata": {
        "colab": {
          "base_uri": "https://localhost:8080/",
          "height": 447
        },
        "id": "xQaEsmok2aqf",
        "outputId": "9c391a95-eecc-441e-9eeb-cb529ebcc4ed"
      },
      "execution_count": null,
      "outputs": [
        {
          "output_type": "stream",
          "name": "stdout",
          "text": [
            "1/1 [==============================] - 0s 58ms/step\n"
          ]
        },
        {
          "output_type": "display_data",
          "data": {
            "text/plain": [
              "<Figure size 640x480 with 1 Axes>"
            ],
            "image/png": "[encoded data removed]"
          },
          "metadata": {}
        }
      ]
    },
    {
      "cell_type": "code",
      "source": [
        "# Calculate evaluation metrics for model_2\n",
        "print('Mean Absolute Error (MAE):', mae(y_test, y_pred_2))\n",
        "print('Mean Square Error (MSE):', mse(y_test, y_pred_2))"
      ],
      "metadata": {
        "colab": {
          "base_uri": "https://localhost:8080/"
        },
        "id": "MVnY6_3J2lQw",
        "outputId": "35b76ded-76e8-4eb9-e457-1d9c78e13adb"
      },
      "execution_count": null,
      "outputs": [
        {
          "output_type": "stream",
          "name": "stdout",
          "text": [
            "Mean Absolute Error (MAE): 10.639296\n",
            "Mean Square Error (MSE): 120.97722\n"
          ]
        }
      ]
    },
    {
      "cell_type": "markdown",
      "source": [
        "**Build `model_3`**\n",
        "\n",
        "* 2 layers, trained for 500 epochs"
      ],
      "metadata": {
        "id": "TS9rpAT623hP"
      }
    },
    {
      "cell_type": "code",
      "source": [
        "# Set random seed\n",
        "tf.random.set_seed(42)\n",
        "\n",
        "# 1. Create the model\n",
        "model_3 = tf.keras.Sequential([\n",
        "    tf.keras.layers.Dense(10),\n",
        "    tf.keras.layers.Dense(1)\n",
        "])\n",
        "\n",
        "# 2. Compile the model\n",
        "model_3.compile(\n",
        "     loss=tf.keras.losses.mae,\n",
        "     optimizer=tf.keras.optimizers.SGD(),\n",
        "     metrics=['mae']\n",
        ")\n",
        "\n",
        "# 3. Fit the model\n",
        "model_3.fit(tf.expand_dims(X_train, axis=-1), y_train, epochs=500, verbose=0)"
      ],
      "metadata": {
        "colab": {
          "base_uri": "https://localhost:8080/"
        },
        "id": "DxX_zGoO4OOg",
        "outputId": "a819af15-38a2-4bc3-fe7e-27be268f1e64"
      },
      "execution_count": null,
      "outputs": [
        {
          "output_type": "execute_result",
          "data": {
            "text/plain": [
              "<keras.callbacks.History at 0x7f8c439002b0>"
            ]
          },
          "metadata": {},
          "execution_count": 50
        }
      ]
    },
    {
      "cell_type": "code",
      "source": [
        "# Make and plot predictions\n",
        "y_pred_3 = model_3.predict(X_test)\n",
        "plot_prediction(predictions=y_pred_3)"
      ],
      "metadata": {
        "colab": {
          "base_uri": "https://localhost:8080/",
          "height": 447
        },
        "id": "g_uKIl7G4UsH",
        "outputId": "caaddd73-4549-4d32-cb1f-1032a8f61f3d"
      },
      "execution_count": null,
      "outputs": [
        {
          "output_type": "stream",
          "name": "stdout",
          "text": [
            "1/1 [==============================] - 0s 56ms/step\n"
          ]
        },
        {
          "output_type": "display_data",
          "data": {
            "text/plain": [
              "<Figure size 640x480 with 1 Axes>"
            ],
            "image/png": "[encoded data removed]"
          },
          "metadata": {}
        }
      ]
    },
    {
      "cell_type": "code",
      "source": [
        "# Calculate evaluation metrics for model_3\n",
        "print('Mean Absolute Error (MAE):', mae(y_test, y_pred_3))\n",
        "print('Mean Square Error (MSE):', mse(y_test, y_pred_3))"
      ],
      "metadata": {
        "colab": {
          "base_uri": "https://localhost:8080/"
        },
        "id": "elemI1h-5knv",
        "outputId": "c371e2ca-62d2-438f-efd7-2c1730d48c89"
      },
      "execution_count": null,
      "outputs": [
        {
          "output_type": "stream",
          "name": "stdout",
          "text": [
            "Mean Absolute Error (MAE): 68.48878\n",
            "Mean Square Error (MSE): 4776.5625\n"
          ]
        }
      ]
    },
    {
      "cell_type": "markdown",
      "source": [
        "We get very poor predictions for model_3 because we trained to much our model and model overfit."
      ],
      "metadata": {
        "id": "sgFljk1Y4jMP"
      }
    },
    {
      "cell_type": "markdown",
      "source": [
        "## Comparing the results of our experiments\n",
        "\n",
        "We've run a few experiments, let's compare the results."
      ],
      "metadata": {
        "id": "ceQnWiVv50HP"
      }
    },
    {
      "cell_type": "code",
      "source": [
        "# Let's compare our model's results using pandas DataFrame\n",
        "import pandas as pd\n",
        "\n",
        "# model results\n",
        "model_results = [['model_1', mae(y_test, y_pred_1), mse(y_test, y_pred_1)], \n",
        "                 ['model_2', mae(y_test, y_pred_2), mse(y_test, y_pred_2)], \n",
        "                 ['model_3', mae(y_test, y_pred_3), mse(y_test, y_pred_3)]]\n",
        "\n",
        "# Create a dataframe and add results in it\n",
        "results_df = pd.DataFrame(model_results, columns=['models', 'MAE', 'MSE'])\n",
        "results_df.head()"
      ],
      "metadata": {
        "colab": {
          "base_uri": "https://localhost:8080/",
          "height": 143
        },
        "id": "KvcYWtUI6TJY",
        "outputId": "51ca63a0-eb22-482f-dad1-02cd2f7d28b4"
      },
      "execution_count": null,
      "outputs": [
        {
          "output_type": "execute_result",
          "data": {
            "text/plain": [
              "    models        MAE          MSE\n",
              "0  model_1  14.953829   224.457275\n",
              "1  model_2  10.639296   120.977219\n",
              "2  model_3  68.488777  4776.562500"
            ],
            "text/html": [
              "\n",
              "  <div id=\"df-018efbc7-5e07-4ba1-905f-c9333cbd0d75\">\n",
              "    <div class=\"colab-df-container\">\n",
              "      <div>\n",
              "<style scoped>\n",
              "    .dataframe tbody tr th:only-of-type {\n",
              "        vertical-align: middle;\n",
              "    }\n",
              "\n",
              "    .dataframe tbody tr th {\n",
              "        vertical-align: top;\n",
              "    }\n",
              "\n",
              "    .dataframe thead th {\n",
              "        text-align: right;\n",
              "    }\n",
              "</style>\n",
              "<table border=\"1\" class=\"dataframe\">\n",
              "  <thead>\n",
              "    <tr style=\"text-align: right;\">\n",
              "      <th></th>\n",
              "      <th>models</th>\n",
              "      <th>MAE</th>\n",
              "      <th>MSE</th>\n",
              "    </tr>\n",
              "  </thead>\n",
              "  <tbody>\n",
              "    <tr>\n",
              "      <th>0</th>\n",
              "      <td>model_1</td>\n",
              "      <td>14.953829</td>\n",
              "      <td>224.457275</td>\n",
              "    </tr>\n",
              "    <tr>\n",
              "      <th>1</th>\n",
              "      <td>model_2</td>\n",
              "      <td>10.639296</td>\n",
              "      <td>120.977219</td>\n",
              "    </tr>\n",
              "    <tr>\n",
              "      <th>2</th>\n",
              "      <td>model_3</td>\n",
              "      <td>68.488777</td>\n",
              "      <td>4776.562500</td>\n",
              "    </tr>\n",
              "  </tbody>\n",
              "</table>\n",
              "</div>\n",
              "      <button class=\"colab-df-convert\" onclick=\"convertToInteractive('df-018efbc7-5e07-4ba1-905f-c9333cbd0d75')\"\n",
              "              title=\"Convert this dataframe to an interactive table.\"\n",
              "              style=\"display:none;\">\n",
              "        \n",
              "  <svg xmlns=\"http://www.w3.org/2000/svg\" height=\"24px\"viewBox=\"0 0 24 24\"\n",
              "       width=\"24px\">\n",
              "    <path d=\"M0 0h24v24H0V0z\" fill=\"none\"/>\n",
              "    <path d=\"M18.56 5.44l.94 2.06.94-2.06 2.06-.94-2.06-.94-.94-2.06-.94 2.06-2.06.94zm-11 1L8.5 8.5l.94-2.06 2.06-.94-2.06-.94L8.5 2.5l-.94 2.06-2.06.94zm10 10l.94 2.06.94-2.06 2.06-.94-2.06-.94-.94-2.06-.94 2.06-2.06.94z\"/><path d=\"M17.41 7.96l-1.37-1.37c-.4-.4-.92-.59-1.43-.59-.52 0-1.04.2-1.43.59L10.3 9.45l-7.72 7.72c-.78.78-.78 2.05 0 2.83L4 21.41c.39.39.9.59 1.41.59.51 0 1.02-.2 1.41-.59l7.78-7.78 2.81-2.81c.8-.78.8-2.07 0-2.86zM5.41 20L4 18.59l7.72-7.72 1.47 1.35L5.41 20z\"/>\n",
              "  </svg>\n",
              "      </button>\n",
              "      \n",
              "  <style>\n",
              "    .colab-df-container {\n",
              "      display:flex;\n",
              "      flex-wrap:wrap;\n",
              "      gap: 12px;\n",
              "    }\n",
              "\n",
              "    .colab-df-convert {\n",
              "      background-color: #E8F0FE;\n",
              "      border: none;\n",
              "      border-radius: 50%;\n",
              "      cursor: pointer;\n",
              "      display: none;\n",
              "      fill: #1967D2;\n",
              "      height: 32px;\n",
              "      padding: 0 0 0 0;\n",
              "      width: 32px;\n",
              "    }\n",
              "\n",
              "    .colab-df-convert:hover {\n",
              "      background-color: #E2EBFA;\n",
              "      box-shadow: 0px 1px 2px rgba(60, 64, 67, 0.3), 0px 1px 3px 1px rgba(60, 64, 67, 0.15);\n",
              "      fill: #174EA6;\n",
              "    }\n",
              "\n",
              "    [theme=dark] .colab-df-convert {\n",
              "      background-color: #3B4455;\n",
              "      fill: #D2E3FC;\n",
              "    }\n",
              "\n",
              "    [theme=dark] .colab-df-convert:hover {\n",
              "      background-color: #434B5C;\n",
              "      box-shadow: 0px 1px 3px 1px rgba(0, 0, 0, 0.15);\n",
              "      filter: drop-shadow(0px 1px 2px rgba(0, 0, 0, 0.3));\n",
              "      fill: #FFFFFF;\n",
              "    }\n",
              "  </style>\n",
              "\n",
              "      <script>\n",
              "        const buttonEl =\n",
              "          document.querySelector('#df-018efbc7-5e07-4ba1-905f-c9333cbd0d75 button.colab-df-convert');\n",
              "        buttonEl.style.display =\n",
              "          google.colab.kernel.accessAllowed ? 'block' : 'none';\n",
              "\n",
              "        async function convertToInteractive(key) {\n",
              "          const element = document.querySelector('#df-018efbc7-5e07-4ba1-905f-c9333cbd0d75');\n",
              "          const dataTable =\n",
              "            await google.colab.kernel.invokeFunction('convertToInteractive',\n",
              "                                                     [key], {});\n",
              "          if (!dataTable) return;\n",
              "\n",
              "          const docLinkHtml = 'Like what you see? Visit the ' +\n",
              "            '<a target=\"_blank\" href=https://colab.research.google.com/notebooks/data_table.ipynb>data table notebook</a>'\n",
              "            + ' to learn more about interactive tables.';\n",
              "          element.innerHTML = '';\n",
              "          dataTable['output_type'] = 'display_data';\n",
              "          await google.colab.output.renderOutput(dataTable, element);\n",
              "          const docLink = document.createElement('div');\n",
              "          docLink.innerHTML = docLinkHtml;\n",
              "          element.appendChild(docLink);\n",
              "        }\n",
              "      </script>\n",
              "    </div>\n",
              "  </div>\n",
              "  "
            ]
          },
          "metadata": {},
          "execution_count": 53
        }
      ]
    },
    {
      "cell_type": "markdown",
      "source": [
        "Looks like model_2 performed the best."
      ],
      "metadata": {
        "id": "Mu4hGuB19O0k"
      }
    },
    {
      "cell_type": "code",
      "source": [
        " # model summaray\n",
        " model_2.summary()"
      ],
      "metadata": {
        "colab": {
          "base_uri": "https://localhost:8080/"
        },
        "id": "LOiLcidk7t9Y",
        "outputId": "7167c468-024e-4c5b-d209-4a5e1d236861"
      },
      "execution_count": null,
      "outputs": [
        {
          "output_type": "stream",
          "name": "stdout",
          "text": [
            "Model: \"sequential_7\"\n",
            "_________________________________________________________________\n",
            " Layer (type)                Output Shape              Param #   \n",
            "=================================================================\n",
            " dense_16 (Dense)            (None, 10)                20        \n",
            "                                                                 \n",
            " dense_17 (Dense)            (None, 1)                 11        \n",
            "                                                                 \n",
            "=================================================================\n",
            "Total params: 31\n",
            "Trainable params: 31\n",
            "Non-trainable params: 0\n",
            "_________________________________________________________________\n"
          ]
        }
      ]
    },
    {
      "cell_type": "markdown",
      "source": [
        "Note: One of our main goals should be to minimize the time between our experiments. The more experiments we do, the more things we will figure out which doenst work and in turni get closer to figureing out what does work. "
      ],
      "metadata": {
        "id": "Aohxegp78-1H"
      }
    },
    {
      "cell_type": "markdown",
      "source": [
        "## Tracking your experiments\n",
        "\n",
        "One really good habit in machine learning modelling is to track the results of your experiments.\n",
        "\n",
        "And when doing so, it can be tedious if you are running lots of experiments. \n",
        "\n",
        "Luckly, there are tools to help us.\n",
        "\n",
        "* TensorBoard - a component of the tensorflow library to help track modelling experiments.\n",
        "* Wights & Biases - a tool for tracking all of kinds of machine learning experiments\n"
      ],
      "metadata": {
        "id": "etXclvyp-QTp"
      }
    },
    {
      "cell_type": "markdown",
      "source": [
        "## Saving our models\n",
        "\n",
        "Saving model allows us to use models out of Colab such as web application or mobile app etc.\n",
        "\n",
        "There are two main formats we can save our model's:\n",
        "1. The SavedModel format\n",
        "2. The HDF5 format"
      ],
      "metadata": {
        "id": "d-M-sY_i-cAn"
      }
    },
    {
      "cell_type": "code",
      "source": [
        "# Save model using the SavedModel format\n",
        "model_2.save('SavedModel_format') "
      ],
      "metadata": {
        "colab": {
          "base_uri": "https://localhost:8080/"
        },
        "id": "XczmN8H1_uua",
        "outputId": "81f64a0c-6803-476c-f9fb-82f58a0d428b"
      },
      "execution_count": null,
      "outputs": [
        {
          "output_type": "stream",
          "name": "stderr",
          "text": [
            "WARNING:absl:Found untraced functions such as _update_step_xla while saving (showing 1 of 1). These functions will not be directly callable after loading.\n"
          ]
        }
      ]
    },
    {
      "cell_type": "code",
      "source": [
        "# Save model using the HDF5 format\n",
        "model_2.save('HDF5_format.h5')"
      ],
      "metadata": {
        "id": "3Rh69i0jESW7"
      },
      "execution_count": null,
      "outputs": []
    },
    {
      "cell_type": "markdown",
      "source": [
        "## Loading in saved model"
      ],
      "metadata": {
        "id": "P_eYiwYeFheV"
      }
    },
    {
      "cell_type": "code",
      "source": [
        "# Load in the SavedModel format model\n",
        "loaded_SavedModel_format = tf.keras.models.load_model('/content/SavedModel_format')\n",
        "loaded_SavedModel_format.summary()"
      ],
      "metadata": {
        "id": "AuT8e6teFxJv",
        "colab": {
          "base_uri": "https://localhost:8080/"
        },
        "outputId": "63349e95-de7d-44b5-cbad-602ca493c232"
      },
      "execution_count": null,
      "outputs": [
        {
          "output_type": "stream",
          "name": "stdout",
          "text": [
            "Model: \"sequential_7\"\n",
            "_________________________________________________________________\n",
            " Layer (type)                Output Shape              Param #   \n",
            "=================================================================\n",
            " dense_16 (Dense)            (None, 10)                20        \n",
            "                                                                 \n",
            " dense_17 (Dense)            (None, 1)                 11        \n",
            "                                                                 \n",
            "=================================================================\n",
            "Total params: 31\n",
            "Trainable params: 31\n",
            "Non-trainable params: 0\n",
            "_________________________________________________________________\n"
          ]
        }
      ]
    },
    {
      "cell_type": "code",
      "source": [
        "# Compare model_2 predictions with SavedModel predictions\n",
        "print('Model_2 predictions:', model_2.predict(X_test), '\\n')\n",
        "print('SavedModel predictions:', loaded_SavedModel_format.predict(X_test))"
      ],
      "metadata": {
        "colab": {
          "base_uri": "https://localhost:8080/"
        },
        "id": "QUOiuZqNGhL3",
        "outputId": "c05d7313-4ce2-4d15-ea0d-524e0e15734f"
      },
      "execution_count": null,
      "outputs": [
        {
          "output_type": "stream",
          "name": "stdout",
          "text": [
            "1/1 [==============================] - 0s 38ms/step\n",
            "Model_2 predictions: [[ 76.268616]\n",
            " [ 81.23988 ]\n",
            " [ 86.21115 ]\n",
            " [ 91.1824  ]\n",
            " [ 96.15366 ]\n",
            " [101.12492 ]\n",
            " [106.09619 ]\n",
            " [111.067444]\n",
            " [116.038704]\n",
            " [121.00997 ]] \n",
            "\n",
            "1/1 [==============================] - 0s 63ms/step\n",
            "SavedModel predictions: [[ 76.268616]\n",
            " [ 81.23988 ]\n",
            " [ 86.21115 ]\n",
            " [ 91.1824  ]\n",
            " [ 96.15366 ]\n",
            " [101.12492 ]\n",
            " [106.09619 ]\n",
            " [111.067444]\n",
            " [116.038704]\n",
            " [121.00997 ]]\n"
          ]
        }
      ]
    },
    {
      "cell_type": "code",
      "source": [
        "# Load in the .h5 format model\n",
        "loaded_h5_model = tf.keras.models.load_model('/content/HDF5_format.h5')"
      ],
      "metadata": {
        "id": "q7-gkCyfG_pu"
      },
      "execution_count": null,
      "outputs": []
    },
    {
      "cell_type": "code",
      "source": [
        "# Compare model_2 predictions with loaded_h5_model predictions\n",
        "print('Model_2 predictions:', model_2.predict(X_test), '\\n')\n",
        "print('HDF5 predictions:', loaded_h5_model.predict(X_test))"
      ],
      "metadata": {
        "colab": {
          "base_uri": "https://localhost:8080/"
        },
        "id": "6wvIF1YYIxTB",
        "outputId": "b1a34b15-0d26-4c42-d849-b6d50f5a6cd5"
      },
      "execution_count": null,
      "outputs": [
        {
          "output_type": "stream",
          "name": "stdout",
          "text": [
            "1/1 [==============================] - 0s 34ms/step\n",
            "Model_2 predictions: [[ 76.268616]\n",
            " [ 81.23988 ]\n",
            " [ 86.21115 ]\n",
            " [ 91.1824  ]\n",
            " [ 96.15366 ]\n",
            " [101.12492 ]\n",
            " [106.09619 ]\n",
            " [111.067444]\n",
            " [116.038704]\n",
            " [121.00997 ]] \n",
            "\n",
            "1/1 [==============================] - 0s 52ms/step\n",
            "HDF5 predictions: [[ 76.268616]\n",
            " [ 81.23988 ]\n",
            " [ 86.21115 ]\n",
            " [ 91.1824  ]\n",
            " [ 96.15366 ]\n",
            " [101.12492 ]\n",
            " [106.09619 ]\n",
            " [111.067444]\n",
            " [116.038704]\n",
            " [121.00997 ]]\n"
          ]
        }
      ]
    },
    {
      "cell_type": "markdown",
      "source": [
        "## A Larger Example - Medical Cost Personal Datasets\n",
        "\n",
        "* Resource: https://www.kaggle.com/datasets/mirichoi0218/insurance\n",
        "* Raw csv file: https://raw.githubusercontent.com/stedy/Machine-Learning-with-R-datasets/master/insurance.csv"
      ],
      "metadata": {
        "id": "Nu2_mOwmNrCu"
      }
    },
    {
      "cell_type": "code",
      "source": [
        "# Import required libraries\n",
        "import tensorflow as tf\n",
        "import pandas as pd\n",
        "import matplotlib.pyplot as plt\n",
        "from sklearn.model_selection import train_test_split\n",
        "\n",
        "# Read insurance dataset\n",
        "df = pd.read_csv('https://raw.githubusercontent.com/stedy/Machine-Learning-with-R-datasets/master/insurance.csv')\n",
        "\n",
        "# Let's look first five rows\n",
        "df.head()"
      ],
      "metadata": {
        "colab": {
          "base_uri": "https://localhost:8080/",
          "height": 206
        },
        "id": "CCVyelNLOhLf",
        "outputId": "2d1fd0cd-7b63-453c-dfab-335b03935b62"
      },
      "execution_count": null,
      "outputs": [
        {
          "output_type": "execute_result",
          "data": {
            "text/plain": [
              "   age     sex     bmi  children smoker     region      charges\n",
              "0   19  female  27.900         0    yes  southwest  16884.92400\n",
              "1   18    male  33.770         1     no  southeast   1725.55230\n",
              "2   28    male  33.000         3     no  southeast   4449.46200\n",
              "3   33    male  22.705         0     no  northwest  21984.47061\n",
              "4   32    male  28.880         0     no  northwest   3866.85520"
            ],
            "text/html": [
              "\n",
              "  <div id=\"df-3a2dd196-36cc-498e-9fe8-530d91517872\">\n",
              "    <div class=\"colab-df-container\">\n",
              "      <div>\n",
              "<style scoped>\n",
              "    .dataframe tbody tr th:only-of-type {\n",
              "        vertical-align: middle;\n",
              "    }\n",
              "\n",
              "    .dataframe tbody tr th {\n",
              "        vertical-align: top;\n",
              "    }\n",
              "\n",
              "    .dataframe thead th {\n",
              "        text-align: right;\n",
              "    }\n",
              "</style>\n",
              "<table border=\"1\" class=\"dataframe\">\n",
              "  <thead>\n",
              "    <tr style=\"text-align: right;\">\n",
              "      <th></th>\n",
              "      <th>age</th>\n",
              "      <th>sex</th>\n",
              "      <th>bmi</th>\n",
              "      <th>children</th>\n",
              "      <th>smoker</th>\n",
              "      <th>region</th>\n",
              "      <th>charges</th>\n",
              "    </tr>\n",
              "  </thead>\n",
              "  <tbody>\n",
              "    <tr>\n",
              "      <th>0</th>\n",
              "      <td>19</td>\n",
              "      <td>female</td>\n",
              "      <td>27.900</td>\n",
              "      <td>0</td>\n",
              "      <td>yes</td>\n",
              "      <td>southwest</td>\n",
              "      <td>16884.92400</td>\n",
              "    </tr>\n",
              "    <tr>\n",
              "      <th>1</th>\n",
              "      <td>18</td>\n",
              "      <td>male</td>\n",
              "      <td>33.770</td>\n",
              "      <td>1</td>\n",
              "      <td>no</td>\n",
              "      <td>southeast</td>\n",
              "      <td>1725.55230</td>\n",
              "    </tr>\n",
              "    <tr>\n",
              "      <th>2</th>\n",
              "      <td>28</td>\n",
              "      <td>male</td>\n",
              "      <td>33.000</td>\n",
              "      <td>3</td>\n",
              "      <td>no</td>\n",
              "      <td>southeast</td>\n",
              "      <td>4449.46200</td>\n",
              "    </tr>\n",
              "    <tr>\n",
              "      <th>3</th>\n",
              "      <td>33</td>\n",
              "      <td>male</td>\n",
              "      <td>22.705</td>\n",
              "      <td>0</td>\n",
              "      <td>no</td>\n",
              "      <td>northwest</td>\n",
              "      <td>21984.47061</td>\n",
              "    </tr>\n",
              "    <tr>\n",
              "      <th>4</th>\n",
              "      <td>32</td>\n",
              "      <td>male</td>\n",
              "      <td>28.880</td>\n",
              "      <td>0</td>\n",
              "      <td>no</td>\n",
              "      <td>northwest</td>\n",
              "      <td>3866.85520</td>\n",
              "    </tr>\n",
              "  </tbody>\n",
              "</table>\n",
              "</div>\n",
              "      <button class=\"colab-df-convert\" onclick=\"convertToInteractive('df-3a2dd196-36cc-498e-9fe8-530d91517872')\"\n",
              "              title=\"Convert this dataframe to an interactive table.\"\n",
              "              style=\"display:none;\">\n",
              "        \n",
              "  <svg xmlns=\"http://www.w3.org/2000/svg\" height=\"24px\"viewBox=\"0 0 24 24\"\n",
              "       width=\"24px\">\n",
              "    <path d=\"M0 0h24v24H0V0z\" fill=\"none\"/>\n",
              "    <path d=\"M18.56 5.44l.94 2.06.94-2.06 2.06-.94-2.06-.94-.94-2.06-.94 2.06-2.06.94zm-11 1L8.5 8.5l.94-2.06 2.06-.94-2.06-.94L8.5 2.5l-.94 2.06-2.06.94zm10 10l.94 2.06.94-2.06 2.06-.94-2.06-.94-.94-2.06-.94 2.06-2.06.94z\"/><path d=\"M17.41 7.96l-1.37-1.37c-.4-.4-.92-.59-1.43-.59-.52 0-1.04.2-1.43.59L10.3 9.45l-7.72 7.72c-.78.78-.78 2.05 0 2.83L4 21.41c.39.39.9.59 1.41.59.51 0 1.02-.2 1.41-.59l7.78-7.78 2.81-2.81c.8-.78.8-2.07 0-2.86zM5.41 20L4 18.59l7.72-7.72 1.47 1.35L5.41 20z\"/>\n",
              "  </svg>\n",
              "      </button>\n",
              "      \n",
              "  <style>\n",
              "    .colab-df-container {\n",
              "      display:flex;\n",
              "      flex-wrap:wrap;\n",
              "      gap: 12px;\n",
              "    }\n",
              "\n",
              "    .colab-df-convert {\n",
              "      background-color: #E8F0FE;\n",
              "      border: none;\n",
              "      border-radius: 50%;\n",
              "      cursor: pointer;\n",
              "      display: none;\n",
              "      fill: #1967D2;\n",
              "      height: 32px;\n",
              "      padding: 0 0 0 0;\n",
              "      width: 32px;\n",
              "    }\n",
              "\n",
              "    .colab-df-convert:hover {\n",
              "      background-color: #E2EBFA;\n",
              "      box-shadow: 0px 1px 2px rgba(60, 64, 67, 0.3), 0px 1px 3px 1px rgba(60, 64, 67, 0.15);\n",
              "      fill: #174EA6;\n",
              "    }\n",
              "\n",
              "    [theme=dark] .colab-df-convert {\n",
              "      background-color: #3B4455;\n",
              "      fill: #D2E3FC;\n",
              "    }\n",
              "\n",
              "    [theme=dark] .colab-df-convert:hover {\n",
              "      background-color: #434B5C;\n",
              "      box-shadow: 0px 1px 3px 1px rgba(0, 0, 0, 0.15);\n",
              "      filter: drop-shadow(0px 1px 2px rgba(0, 0, 0, 0.3));\n",
              "      fill: #FFFFFF;\n",
              "    }\n",
              "  </style>\n",
              "\n",
              "      <script>\n",
              "        const buttonEl =\n",
              "          document.querySelector('#df-3a2dd196-36cc-498e-9fe8-530d91517872 button.colab-df-convert');\n",
              "        buttonEl.style.display =\n",
              "          google.colab.kernel.accessAllowed ? 'block' : 'none';\n",
              "\n",
              "        async function convertToInteractive(key) {\n",
              "          const element = document.querySelector('#df-3a2dd196-36cc-498e-9fe8-530d91517872');\n",
              "          const dataTable =\n",
              "            await google.colab.kernel.invokeFunction('convertToInteractive',\n",
              "                                                     [key], {});\n",
              "          if (!dataTable) return;\n",
              "\n",
              "          const docLinkHtml = 'Like what you see? Visit the ' +\n",
              "            '<a target=\"_blank\" href=https://colab.research.google.com/notebooks/data_table.ipynb>data table notebook</a>'\n",
              "            + ' to learn more about interactive tables.';\n",
              "          element.innerHTML = '';\n",
              "          dataTable['output_type'] = 'display_data';\n",
              "          await google.colab.output.renderOutput(dataTable, element);\n",
              "          const docLink = document.createElement('div');\n",
              "          docLink.innerHTML = docLinkHtml;\n",
              "          element.appendChild(docLink);\n",
              "        }\n",
              "      </script>\n",
              "    </div>\n",
              "  </div>\n",
              "  "
            ]
          },
          "metadata": {},
          "execution_count": 192
        }
      ]
    },
    {
      "cell_type": "code",
      "source": [
        "# Dataframe info \n",
        "df.info()"
      ],
      "metadata": {
        "colab": {
          "base_uri": "https://localhost:8080/"
        },
        "id": "1CVeCN8hQV3t",
        "outputId": "31ce3399-3245-49eb-a686-4a183f1618bf"
      },
      "execution_count": null,
      "outputs": [
        {
          "output_type": "stream",
          "name": "stdout",
          "text": [
            "<class 'pandas.core.frame.DataFrame'>\n",
            "RangeIndex: 1338 entries, 0 to 1337\n",
            "Data columns (total 7 columns):\n",
            " #   Column    Non-Null Count  Dtype  \n",
            "---  ------    --------------  -----  \n",
            " 0   age       1338 non-null   int64  \n",
            " 1   sex       1338 non-null   object \n",
            " 2   bmi       1338 non-null   float64\n",
            " 3   children  1338 non-null   int64  \n",
            " 4   smoker    1338 non-null   object \n",
            " 5   region    1338 non-null   object \n",
            " 6   charges   1338 non-null   float64\n",
            "dtypes: float64(2), int64(2), object(3)\n",
            "memory usage: 73.3+ KB\n"
          ]
        }
      ]
    },
    {
      "cell_type": "code",
      "source": [
        "# Let's try one-hot encode our data\n",
        "df_one_hot = pd.get_dummies(df, prefix=['sex', 'smoker', 'region'], drop_first=True)\n",
        "df_one_hot.head()"
      ],
      "metadata": {
        "colab": {
          "base_uri": "https://localhost:8080/",
          "height": 206
        },
        "id": "0rSW1NCsSAFO",
        "outputId": "8b2b4a82-965d-4c6b-9198-01ba9fc12036"
      },
      "execution_count": null,
      "outputs": [
        {
          "output_type": "execute_result",
          "data": {
            "text/plain": [
              "   age     bmi  children      charges  sex_male  smoker_yes  region_northwest  \\\n",
              "0   19  27.900         0  16884.92400         0           1                 0   \n",
              "1   18  33.770         1   1725.55230         1           0                 0   \n",
              "2   28  33.000         3   4449.46200         1           0                 0   \n",
              "3   33  22.705         0  21984.47061         1           0                 1   \n",
              "4   32  28.880         0   3866.85520         1           0                 1   \n",
              "\n",
              "   region_southeast  region_southwest  \n",
              "0                 0                 1  \n",
              "1                 1                 0  \n",
              "2                 1                 0  \n",
              "3                 0                 0  \n",
              "4                 0                 0  "
            ],
            "text/html": [
              "\n",
              "  <div id=\"df-c51e18f0-65d5-40d8-bb8b-2e6c9ca6d593\">\n",
              "    <div class=\"colab-df-container\">\n",
              "      <div>\n",
              "<style scoped>\n",
              "    .dataframe tbody tr th:only-of-type {\n",
              "        vertical-align: middle;\n",
              "    }\n",
              "\n",
              "    .dataframe tbody tr th {\n",
              "        vertical-align: top;\n",
              "    }\n",
              "\n",
              "    .dataframe thead th {\n",
              "        text-align: right;\n",
              "    }\n",
              "</style>\n",
              "<table border=\"1\" class=\"dataframe\">\n",
              "  <thead>\n",
              "    <tr style=\"text-align: right;\">\n",
              "      <th></th>\n",
              "      <th>age</th>\n",
              "      <th>bmi</th>\n",
              "      <th>children</th>\n",
              "      <th>charges</th>\n",
              "      <th>sex_male</th>\n",
              "      <th>smoker_yes</th>\n",
              "      <th>region_northwest</th>\n",
              "      <th>region_southeast</th>\n",
              "      <th>region_southwest</th>\n",
              "    </tr>\n",
              "  </thead>\n",
              "  <tbody>\n",
              "    <tr>\n",
              "      <th>0</th>\n",
              "      <td>19</td>\n",
              "      <td>27.900</td>\n",
              "      <td>0</td>\n",
              "      <td>16884.92400</td>\n",
              "      <td>0</td>\n",
              "      <td>1</td>\n",
              "      <td>0</td>\n",
              "      <td>0</td>\n",
              "      <td>1</td>\n",
              "    </tr>\n",
              "    <tr>\n",
              "      <th>1</th>\n",
              "      <td>18</td>\n",
              "      <td>33.770</td>\n",
              "      <td>1</td>\n",
              "      <td>1725.55230</td>\n",
              "      <td>1</td>\n",
              "      <td>0</td>\n",
              "      <td>0</td>\n",
              "      <td>1</td>\n",
              "      <td>0</td>\n",
              "    </tr>\n",
              "    <tr>\n",
              "      <th>2</th>\n",
              "      <td>28</td>\n",
              "      <td>33.000</td>\n",
              "      <td>3</td>\n",
              "      <td>4449.46200</td>\n",
              "      <td>1</td>\n",
              "      <td>0</td>\n",
              "      <td>0</td>\n",
              "      <td>1</td>\n",
              "      <td>0</td>\n",
              "    </tr>\n",
              "    <tr>\n",
              "      <th>3</th>\n",
              "      <td>33</td>\n",
              "      <td>22.705</td>\n",
              "      <td>0</td>\n",
              "      <td>21984.47061</td>\n",
              "      <td>1</td>\n",
              "      <td>0</td>\n",
              "      <td>1</td>\n",
              "      <td>0</td>\n",
              "      <td>0</td>\n",
              "    </tr>\n",
              "    <tr>\n",
              "      <th>4</th>\n",
              "      <td>32</td>\n",
              "      <td>28.880</td>\n",
              "      <td>0</td>\n",
              "      <td>3866.85520</td>\n",
              "      <td>1</td>\n",
              "      <td>0</td>\n",
              "      <td>1</td>\n",
              "      <td>0</td>\n",
              "      <td>0</td>\n",
              "    </tr>\n",
              "  </tbody>\n",
              "</table>\n",
              "</div>\n",
              "      <button class=\"colab-df-convert\" onclick=\"convertToInteractive('df-c51e18f0-65d5-40d8-bb8b-2e6c9ca6d593')\"\n",
              "              title=\"Convert this dataframe to an interactive table.\"\n",
              "              style=\"display:none;\">\n",
              "        \n",
              "  <svg xmlns=\"http://www.w3.org/2000/svg\" height=\"24px\"viewBox=\"0 0 24 24\"\n",
              "       width=\"24px\">\n",
              "    <path d=\"M0 0h24v24H0V0z\" fill=\"none\"/>\n",
              "    <path d=\"M18.56 5.44l.94 2.06.94-2.06 2.06-.94-2.06-.94-.94-2.06-.94 2.06-2.06.94zm-11 1L8.5 8.5l.94-2.06 2.06-.94-2.06-.94L8.5 2.5l-.94 2.06-2.06.94zm10 10l.94 2.06.94-2.06 2.06-.94-2.06-.94-.94-2.06-.94 2.06-2.06.94z\"/><path d=\"M17.41 7.96l-1.37-1.37c-.4-.4-.92-.59-1.43-.59-.52 0-1.04.2-1.43.59L10.3 9.45l-7.72 7.72c-.78.78-.78 2.05 0 2.83L4 21.41c.39.39.9.59 1.41.59.51 0 1.02-.2 1.41-.59l7.78-7.78 2.81-2.81c.8-.78.8-2.07 0-2.86zM5.41 20L4 18.59l7.72-7.72 1.47 1.35L5.41 20z\"/>\n",
              "  </svg>\n",
              "      </button>\n",
              "      \n",
              "  <style>\n",
              "    .colab-df-container {\n",
              "      display:flex;\n",
              "      flex-wrap:wrap;\n",
              "      gap: 12px;\n",
              "    }\n",
              "\n",
              "    .colab-df-convert {\n",
              "      background-color: #E8F0FE;\n",
              "      border: none;\n",
              "      border-radius: 50%;\n",
              "      cursor: pointer;\n",
              "      display: none;\n",
              "      fill: #1967D2;\n",
              "      height: 32px;\n",
              "      padding: 0 0 0 0;\n",
              "      width: 32px;\n",
              "    }\n",
              "\n",
              "    .colab-df-convert:hover {\n",
              "      background-color: #E2EBFA;\n",
              "      box-shadow: 0px 1px 2px rgba(60, 64, 67, 0.3), 0px 1px 3px 1px rgba(60, 64, 67, 0.15);\n",
              "      fill: #174EA6;\n",
              "    }\n",
              "\n",
              "    [theme=dark] .colab-df-convert {\n",
              "      background-color: #3B4455;\n",
              "      fill: #D2E3FC;\n",
              "    }\n",
              "\n",
              "    [theme=dark] .colab-df-convert:hover {\n",
              "      background-color: #434B5C;\n",
              "      box-shadow: 0px 1px 3px 1px rgba(0, 0, 0, 0.15);\n",
              "      filter: drop-shadow(0px 1px 2px rgba(0, 0, 0, 0.3));\n",
              "      fill: #FFFFFF;\n",
              "    }\n",
              "  </style>\n",
              "\n",
              "      <script>\n",
              "        const buttonEl =\n",
              "          document.querySelector('#df-c51e18f0-65d5-40d8-bb8b-2e6c9ca6d593 button.colab-df-convert');\n",
              "        buttonEl.style.display =\n",
              "          google.colab.kernel.accessAllowed ? 'block' : 'none';\n",
              "\n",
              "        async function convertToInteractive(key) {\n",
              "          const element = document.querySelector('#df-c51e18f0-65d5-40d8-bb8b-2e6c9ca6d593');\n",
              "          const dataTable =\n",
              "            await google.colab.kernel.invokeFunction('convertToInteractive',\n",
              "                                                     [key], {});\n",
              "          if (!dataTable) return;\n",
              "\n",
              "          const docLinkHtml = 'Like what you see? Visit the ' +\n",
              "            '<a target=\"_blank\" href=https://colab.research.google.com/notebooks/data_table.ipynb>data table notebook</a>'\n",
              "            + ' to learn more about interactive tables.';\n",
              "          element.innerHTML = '';\n",
              "          dataTable['output_type'] = 'display_data';\n",
              "          await google.colab.output.renderOutput(dataTable, element);\n",
              "          const docLink = document.createElement('div');\n",
              "          docLink.innerHTML = docLinkHtml;\n",
              "          element.appendChild(docLink);\n",
              "        }\n",
              "      </script>\n",
              "    </div>\n",
              "  </div>\n",
              "  "
            ]
          },
          "metadata": {},
          "execution_count": 193
        }
      ]
    },
    {
      "cell_type": "code",
      "source": [
        " # Create X & y values (features and labels)\n",
        " X = df_one_hot.drop('charges', axis=1)\n",
        " y = df_one_hot['charges']"
      ],
      "metadata": {
        "id": "2dE_9RB0Ssct"
      },
      "execution_count": null,
      "outputs": []
    },
    {
      "cell_type": "code",
      "source": [
        "# View X\n",
        "X.head()"
      ],
      "metadata": {
        "colab": {
          "base_uri": "https://localhost:8080/",
          "height": 206
        },
        "id": "niXBL2hxVlhO",
        "outputId": "799d5e82-5027-4c92-8fb8-9035c9da593b"
      },
      "execution_count": null,
      "outputs": [
        {
          "output_type": "execute_result",
          "data": {
            "text/plain": [
              "   age     bmi  children  sex_male  smoker_yes  region_northwest  \\\n",
              "0   19  27.900         0         0           1                 0   \n",
              "1   18  33.770         1         1           0                 0   \n",
              "2   28  33.000         3         1           0                 0   \n",
              "3   33  22.705         0         1           0                 1   \n",
              "4   32  28.880         0         1           0                 1   \n",
              "\n",
              "   region_southeast  region_southwest  \n",
              "0                 0                 1  \n",
              "1                 1                 0  \n",
              "2                 1                 0  \n",
              "3                 0                 0  \n",
              "4                 0                 0  "
            ],
            "text/html": [
              "\n",
              "  <div id=\"df-2b2eb2fe-e431-4878-8e9d-9cd03328f8c1\">\n",
              "    <div class=\"colab-df-container\">\n",
              "      <div>\n",
              "<style scoped>\n",
              "    .dataframe tbody tr th:only-of-type {\n",
              "        vertical-align: middle;\n",
              "    }\n",
              "\n",
              "    .dataframe tbody tr th {\n",
              "        vertical-align: top;\n",
              "    }\n",
              "\n",
              "    .dataframe thead th {\n",
              "        text-align: right;\n",
              "    }\n",
              "</style>\n",
              "<table border=\"1\" class=\"dataframe\">\n",
              "  <thead>\n",
              "    <tr style=\"text-align: right;\">\n",
              "      <th></th>\n",
              "      <th>age</th>\n",
              "      <th>bmi</th>\n",
              "      <th>children</th>\n",
              "      <th>sex_male</th>\n",
              "      <th>smoker_yes</th>\n",
              "      <th>region_northwest</th>\n",
              "      <th>region_southeast</th>\n",
              "      <th>region_southwest</th>\n",
              "    </tr>\n",
              "  </thead>\n",
              "  <tbody>\n",
              "    <tr>\n",
              "      <th>0</th>\n",
              "      <td>19</td>\n",
              "      <td>27.900</td>\n",
              "      <td>0</td>\n",
              "      <td>0</td>\n",
              "      <td>1</td>\n",
              "      <td>0</td>\n",
              "      <td>0</td>\n",
              "      <td>1</td>\n",
              "    </tr>\n",
              "    <tr>\n",
              "      <th>1</th>\n",
              "      <td>18</td>\n",
              "      <td>33.770</td>\n",
              "      <td>1</td>\n",
              "      <td>1</td>\n",
              "      <td>0</td>\n",
              "      <td>0</td>\n",
              "      <td>1</td>\n",
              "      <td>0</td>\n",
              "    </tr>\n",
              "    <tr>\n",
              "      <th>2</th>\n",
              "      <td>28</td>\n",
              "      <td>33.000</td>\n",
              "      <td>3</td>\n",
              "      <td>1</td>\n",
              "      <td>0</td>\n",
              "      <td>0</td>\n",
              "      <td>1</td>\n",
              "      <td>0</td>\n",
              "    </tr>\n",
              "    <tr>\n",
              "      <th>3</th>\n",
              "      <td>33</td>\n",
              "      <td>22.705</td>\n",
              "      <td>0</td>\n",
              "      <td>1</td>\n",
              "      <td>0</td>\n",
              "      <td>1</td>\n",
              "      <td>0</td>\n",
              "      <td>0</td>\n",
              "    </tr>\n",
              "    <tr>\n",
              "      <th>4</th>\n",
              "      <td>32</td>\n",
              "      <td>28.880</td>\n",
              "      <td>0</td>\n",
              "      <td>1</td>\n",
              "      <td>0</td>\n",
              "      <td>1</td>\n",
              "      <td>0</td>\n",
              "      <td>0</td>\n",
              "    </tr>\n",
              "  </tbody>\n",
              "</table>\n",
              "</div>\n",
              "      <button class=\"colab-df-convert\" onclick=\"convertToInteractive('df-2b2eb2fe-e431-4878-8e9d-9cd03328f8c1')\"\n",
              "              title=\"Convert this dataframe to an interactive table.\"\n",
              "              style=\"display:none;\">\n",
              "        \n",
              "  <svg xmlns=\"http://www.w3.org/2000/svg\" height=\"24px\"viewBox=\"0 0 24 24\"\n",
              "       width=\"24px\">\n",
              "    <path d=\"M0 0h24v24H0V0z\" fill=\"none\"/>\n",
              "    <path d=\"M18.56 5.44l.94 2.06.94-2.06 2.06-.94-2.06-.94-.94-2.06-.94 2.06-2.06.94zm-11 1L8.5 8.5l.94-2.06 2.06-.94-2.06-.94L8.5 2.5l-.94 2.06-2.06.94zm10 10l.94 2.06.94-2.06 2.06-.94-2.06-.94-.94-2.06-.94 2.06-2.06.94z\"/><path d=\"M17.41 7.96l-1.37-1.37c-.4-.4-.92-.59-1.43-.59-.52 0-1.04.2-1.43.59L10.3 9.45l-7.72 7.72c-.78.78-.78 2.05 0 2.83L4 21.41c.39.39.9.59 1.41.59.51 0 1.02-.2 1.41-.59l7.78-7.78 2.81-2.81c.8-.78.8-2.07 0-2.86zM5.41 20L4 18.59l7.72-7.72 1.47 1.35L5.41 20z\"/>\n",
              "  </svg>\n",
              "      </button>\n",
              "      \n",
              "  <style>\n",
              "    .colab-df-container {\n",
              "      display:flex;\n",
              "      flex-wrap:wrap;\n",
              "      gap: 12px;\n",
              "    }\n",
              "\n",
              "    .colab-df-convert {\n",
              "      background-color: #E8F0FE;\n",
              "      border: none;\n",
              "      border-radius: 50%;\n",
              "      cursor: pointer;\n",
              "      display: none;\n",
              "      fill: #1967D2;\n",
              "      height: 32px;\n",
              "      padding: 0 0 0 0;\n",
              "      width: 32px;\n",
              "    }\n",
              "\n",
              "    .colab-df-convert:hover {\n",
              "      background-color: #E2EBFA;\n",
              "      box-shadow: 0px 1px 2px rgba(60, 64, 67, 0.3), 0px 1px 3px 1px rgba(60, 64, 67, 0.15);\n",
              "      fill: #174EA6;\n",
              "    }\n",
              "\n",
              "    [theme=dark] .colab-df-convert {\n",
              "      background-color: #3B4455;\n",
              "      fill: #D2E3FC;\n",
              "    }\n",
              "\n",
              "    [theme=dark] .colab-df-convert:hover {\n",
              "      background-color: #434B5C;\n",
              "      box-shadow: 0px 1px 3px 1px rgba(0, 0, 0, 0.15);\n",
              "      filter: drop-shadow(0px 1px 2px rgba(0, 0, 0, 0.3));\n",
              "      fill: #FFFFFF;\n",
              "    }\n",
              "  </style>\n",
              "\n",
              "      <script>\n",
              "        const buttonEl =\n",
              "          document.querySelector('#df-2b2eb2fe-e431-4878-8e9d-9cd03328f8c1 button.colab-df-convert');\n",
              "        buttonEl.style.display =\n",
              "          google.colab.kernel.accessAllowed ? 'block' : 'none';\n",
              "\n",
              "        async function convertToInteractive(key) {\n",
              "          const element = document.querySelector('#df-2b2eb2fe-e431-4878-8e9d-9cd03328f8c1');\n",
              "          const dataTable =\n",
              "            await google.colab.kernel.invokeFunction('convertToInteractive',\n",
              "                                                     [key], {});\n",
              "          if (!dataTable) return;\n",
              "\n",
              "          const docLinkHtml = 'Like what you see? Visit the ' +\n",
              "            '<a target=\"_blank\" href=https://colab.research.google.com/notebooks/data_table.ipynb>data table notebook</a>'\n",
              "            + ' to learn more about interactive tables.';\n",
              "          element.innerHTML = '';\n",
              "          dataTable['output_type'] = 'display_data';\n",
              "          await google.colab.output.renderOutput(dataTable, element);\n",
              "          const docLink = document.createElement('div');\n",
              "          docLink.innerHTML = docLinkHtml;\n",
              "          element.appendChild(docLink);\n",
              "        }\n",
              "      </script>\n",
              "    </div>\n",
              "  </div>\n",
              "  "
            ]
          },
          "metadata": {},
          "execution_count": 111
        }
      ]
    },
    {
      "cell_type": "code",
      "source": [
        "# View y\n",
        "y.head()"
      ],
      "metadata": {
        "colab": {
          "base_uri": "https://localhost:8080/"
        },
        "id": "2NxrExUhVlem",
        "outputId": "7a3acfd8-3993-41c3-8b6a-001a98311272"
      },
      "execution_count": null,
      "outputs": [
        {
          "output_type": "execute_result",
          "data": {
            "text/plain": [
              "0    16884.92400\n",
              "1     1725.55230\n",
              "2     4449.46200\n",
              "3    21984.47061\n",
              "4     3866.85520\n",
              "Name: charges, dtype: float64"
            ]
          },
          "metadata": {},
          "execution_count": 112
        }
      ]
    },
    {
      "cell_type": "code",
      "source": [
        " # Create training and test sets\n",
        " X_train, X_test, y_train, y_test = train_test_split(X, y, test_size=0.2, random_state=42)\n",
        "\n",
        " print('Total data size:', len(X))\n",
        " print('Train data size:', len(X_train))\n",
        " print('Test data size:', len(X_test))"
      ],
      "metadata": {
        "colab": {
          "base_uri": "https://localhost:8080/"
        },
        "id": "5ovO_xNZU0FO",
        "outputId": "691533d1-54c1-4666-cdf5-5915dc3b8bbb"
      },
      "execution_count": null,
      "outputs": [
        {
          "output_type": "stream",
          "name": "stdout",
          "text": [
            "Total data size: 1338\n",
            "Train data size: 1070\n",
            "Test data size: 268\n"
          ]
        }
      ]
    },
    {
      "cell_type": "code",
      "source": [
        " # Build a neural network\n",
        "\n",
        " # Set random seed\n",
        " tf.random.set_seed(42)\n",
        "\n",
        " # 1. Create a model\n",
        " model = tf.keras.Sequential([\n",
        "     tf.keras.layers.Dense(1),\n",
        "     tf.keras.layers.Dense(1)\n",
        " ])\n",
        "\n",
        " # 2. Model compiling\n",
        " model.compile(\n",
        "     loss=tf.keras.losses.mae,\n",
        "     optimizer=tf.keras.optimizers.SGD(),\n",
        "     metrics = ['mae']\n",
        " )\n",
        "\n",
        " # 3. Fit the model\n",
        " model.fit(X_train, y_train, epochs=100)"
      ],
      "metadata": {
        "colab": {
          "base_uri": "https://localhost:8080/"
        },
        "id": "f-lCOykBUxIF",
        "outputId": "b1d8d8a5-863c-43aa-a6ef-79cdb49fd880"
      },
      "execution_count": null,
      "outputs": [
        {
          "output_type": "stream",
          "name": "stdout",
          "text": [
            "Epoch 1/100\n",
            "34/34 [==============================] - 0s 2ms/step - loss: 9923.9619 - mae: 9923.9619\n",
            "Epoch 2/100\n",
            "34/34 [==============================] - 0s 2ms/step - loss: 7879.2729 - mae: 7879.2729\n",
            "Epoch 3/100\n",
            "34/34 [==============================] - 0s 3ms/step - loss: 7475.7119 - mae: 7475.7119\n",
            "Epoch 4/100\n",
            "34/34 [==============================] - 0s 2ms/step - loss: 7796.6929 - mae: 7796.6929\n",
            "Epoch 5/100\n",
            "34/34 [==============================] - 0s 2ms/step - loss: 7805.1538 - mae: 7805.1538\n",
            "Epoch 6/100\n",
            "34/34 [==============================] - 0s 2ms/step - loss: 7592.6978 - mae: 7592.6978\n",
            "Epoch 7/100\n",
            "34/34 [==============================] - 0s 2ms/step - loss: 7583.9199 - mae: 7583.9199\n",
            "Epoch 8/100\n",
            "34/34 [==============================] - 0s 2ms/step - loss: 7835.5513 - mae: 7835.5513\n",
            "Epoch 9/100\n",
            "34/34 [==============================] - 0s 2ms/step - loss: 7564.8530 - mae: 7564.8530\n",
            "Epoch 10/100\n",
            "34/34 [==============================] - 0s 3ms/step - loss: 7707.5640 - mae: 7707.5640\n",
            "Epoch 11/100\n",
            "34/34 [==============================] - 0s 2ms/step - loss: 7532.5098 - mae: 7532.5098\n",
            "Epoch 12/100\n",
            "34/34 [==============================] - 0s 2ms/step - loss: 7570.9155 - mae: 7570.9155\n",
            "Epoch 13/100\n",
            "34/34 [==============================] - 0s 2ms/step - loss: 7709.9624 - mae: 7709.9624\n",
            "Epoch 14/100\n",
            "34/34 [==============================] - 0s 3ms/step - loss: 7810.5435 - mae: 7810.5435\n",
            "Epoch 15/100\n",
            "34/34 [==============================] - 0s 3ms/step - loss: 7710.1162 - mae: 7710.1162\n",
            "Epoch 16/100\n",
            "34/34 [==============================] - 0s 2ms/step - loss: 7722.3784 - mae: 7722.3784\n",
            "Epoch 17/100\n",
            "34/34 [==============================] - 0s 2ms/step - loss: 7699.3740 - mae: 7699.3740\n",
            "Epoch 18/100\n",
            "34/34 [==============================] - 0s 3ms/step - loss: 7905.4624 - mae: 7905.4624\n",
            "Epoch 19/100\n",
            "34/34 [==============================] - 0s 3ms/step - loss: 7759.1172 - mae: 7759.1172\n",
            "Epoch 20/100\n",
            "34/34 [==============================] - 0s 2ms/step - loss: 7930.9795 - mae: 7930.9795\n",
            "Epoch 21/100\n",
            "34/34 [==============================] - 0s 3ms/step - loss: 7601.8774 - mae: 7601.8774\n",
            "Epoch 22/100\n",
            "34/34 [==============================] - 0s 2ms/step - loss: 7944.5151 - mae: 7944.5151\n",
            "Epoch 23/100\n",
            "34/34 [==============================] - 0s 3ms/step - loss: 7794.4995 - mae: 7794.4995\n",
            "Epoch 24/100\n",
            "34/34 [==============================] - 0s 3ms/step - loss: 7615.5415 - mae: 7615.5415\n",
            "Epoch 25/100\n",
            "34/34 [==============================] - 0s 2ms/step - loss: 7846.2319 - mae: 7846.2319\n",
            "Epoch 26/100\n",
            "34/34 [==============================] - 0s 2ms/step - loss: 7775.6235 - mae: 7775.6235\n",
            "Epoch 27/100\n",
            "34/34 [==============================] - 0s 2ms/step - loss: 7487.9619 - mae: 7487.9619\n",
            "Epoch 28/100\n",
            "34/34 [==============================] - 0s 1ms/step - loss: 7429.7881 - mae: 7429.7881\n",
            "Epoch 29/100\n",
            "34/34 [==============================] - 0s 1ms/step - loss: 7574.8071 - mae: 7574.8071\n",
            "Epoch 30/100\n",
            "34/34 [==============================] - 0s 1ms/step - loss: 7693.3315 - mae: 7693.3315\n",
            "Epoch 31/100\n",
            "34/34 [==============================] - 0s 2ms/step - loss: 7790.0244 - mae: 7790.0244\n",
            "Epoch 32/100\n",
            "34/34 [==============================] - 0s 2ms/step - loss: 7451.1421 - mae: 7451.1421\n",
            "Epoch 33/100\n",
            "34/34 [==============================] - 0s 2ms/step - loss: 7513.7168 - mae: 7513.7168\n",
            "Epoch 34/100\n",
            "34/34 [==============================] - 0s 2ms/step - loss: 7687.1494 - mae: 7687.1494\n",
            "Epoch 35/100\n",
            "34/34 [==============================] - 0s 2ms/step - loss: 7593.3906 - mae: 7593.3906\n",
            "Epoch 36/100\n",
            "34/34 [==============================] - 0s 1ms/step - loss: 7706.9229 - mae: 7706.9229\n",
            "Epoch 37/100\n",
            "34/34 [==============================] - 0s 2ms/step - loss: 7685.6270 - mae: 7685.6270\n",
            "Epoch 38/100\n",
            "34/34 [==============================] - 0s 2ms/step - loss: 7640.3994 - mae: 7640.3994\n",
            "Epoch 39/100\n",
            "34/34 [==============================] - 0s 2ms/step - loss: 7663.5728 - mae: 7663.5728\n",
            "Epoch 40/100\n",
            "34/34 [==============================] - 0s 2ms/step - loss: 7578.2676 - mae: 7578.2676\n",
            "Epoch 41/100\n",
            "34/34 [==============================] - 0s 1ms/step - loss: 7754.9170 - mae: 7754.9170\n",
            "Epoch 42/100\n",
            "34/34 [==============================] - 0s 2ms/step - loss: 7466.4644 - mae: 7466.4644\n",
            "Epoch 43/100\n",
            "34/34 [==============================] - 0s 1ms/step - loss: 7794.5356 - mae: 7794.5356\n",
            "Epoch 44/100\n",
            "34/34 [==============================] - 0s 2ms/step - loss: 7608.3247 - mae: 7608.3247\n",
            "Epoch 45/100\n",
            "34/34 [==============================] - 0s 1ms/step - loss: 7641.2114 - mae: 7641.2114\n",
            "Epoch 46/100\n",
            "34/34 [==============================] - 0s 2ms/step - loss: 7592.9507 - mae: 7592.9507\n",
            "Epoch 47/100\n",
            "34/34 [==============================] - 0s 2ms/step - loss: 7606.1094 - mae: 7606.1094\n",
            "Epoch 48/100\n",
            "34/34 [==============================] - 0s 2ms/step - loss: 7602.9243 - mae: 7602.9243\n",
            "Epoch 49/100\n",
            "34/34 [==============================] - 0s 2ms/step - loss: 7562.5947 - mae: 7562.5947\n",
            "Epoch 50/100\n",
            "34/34 [==============================] - 0s 2ms/step - loss: 7515.9946 - mae: 7515.9946\n",
            "Epoch 51/100\n",
            "34/34 [==============================] - 0s 2ms/step - loss: 7421.6963 - mae: 7421.6963\n",
            "Epoch 52/100\n",
            "34/34 [==============================] - 0s 1ms/step - loss: 7672.6841 - mae: 7672.6841\n",
            "Epoch 53/100\n",
            "34/34 [==============================] - 0s 2ms/step - loss: 7772.1094 - mae: 7772.1094\n",
            "Epoch 54/100\n",
            "34/34 [==============================] - 0s 2ms/step - loss: 7461.1030 - mae: 7461.1030\n",
            "Epoch 55/100\n",
            "34/34 [==============================] - 0s 1ms/step - loss: 7295.3579 - mae: 7295.3579\n",
            "Epoch 56/100\n",
            "34/34 [==============================] - 0s 1ms/step - loss: 7471.1543 - mae: 7471.1543\n",
            "Epoch 57/100\n",
            "34/34 [==============================] - 0s 2ms/step - loss: 7411.7686 - mae: 7411.7686\n",
            "Epoch 58/100\n",
            "34/34 [==============================] - 0s 2ms/step - loss: 7429.3384 - mae: 7429.3384\n",
            "Epoch 59/100\n",
            "34/34 [==============================] - 0s 2ms/step - loss: 7548.4224 - mae: 7548.4224\n",
            "Epoch 60/100\n",
            "34/34 [==============================] - 0s 2ms/step - loss: 7628.7939 - mae: 7628.7939\n",
            "Epoch 61/100\n",
            "34/34 [==============================] - 0s 1ms/step - loss: 7627.9868 - mae: 7627.9868\n",
            "Epoch 62/100\n",
            "34/34 [==============================] - 0s 2ms/step - loss: 7545.0732 - mae: 7545.0732\n",
            "Epoch 63/100\n",
            "34/34 [==============================] - 0s 1ms/step - loss: 7376.7749 - mae: 7376.7749\n",
            "Epoch 64/100\n",
            "34/34 [==============================] - 0s 2ms/step - loss: 7528.2275 - mae: 7528.2275\n",
            "Epoch 65/100\n",
            "34/34 [==============================] - 0s 2ms/step - loss: 7594.9194 - mae: 7594.9194\n",
            "Epoch 66/100\n",
            "34/34 [==============================] - 0s 2ms/step - loss: 7587.4512 - mae: 7587.4512\n",
            "Epoch 67/100\n",
            "34/34 [==============================] - 0s 1ms/step - loss: 7573.7139 - mae: 7573.7139\n",
            "Epoch 68/100\n",
            "34/34 [==============================] - 0s 2ms/step - loss: 7754.8408 - mae: 7754.8408\n",
            "Epoch 69/100\n",
            "34/34 [==============================] - 0s 2ms/step - loss: 7648.5283 - mae: 7648.5283\n",
            "Epoch 70/100\n",
            "34/34 [==============================] - 0s 2ms/step - loss: 7673.3540 - mae: 7673.3540\n",
            "Epoch 71/100\n",
            "34/34 [==============================] - 0s 2ms/step - loss: 7497.9800 - mae: 7497.9800\n",
            "Epoch 72/100\n",
            "34/34 [==============================] - 0s 2ms/step - loss: 7512.7583 - mae: 7512.7583\n",
            "Epoch 73/100\n",
            "34/34 [==============================] - 0s 1ms/step - loss: 7626.5132 - mae: 7626.5132\n",
            "Epoch 74/100\n",
            "34/34 [==============================] - 0s 2ms/step - loss: 7618.5195 - mae: 7618.5195\n",
            "Epoch 75/100\n",
            "34/34 [==============================] - 0s 1ms/step - loss: 7474.4790 - mae: 7474.4790\n",
            "Epoch 76/100\n",
            "34/34 [==============================] - 0s 1ms/step - loss: 7521.9790 - mae: 7521.9790\n",
            "Epoch 77/100\n",
            "34/34 [==============================] - 0s 1ms/step - loss: 7351.1372 - mae: 7351.1372\n",
            "Epoch 78/100\n",
            "34/34 [==============================] - 0s 2ms/step - loss: 7263.8994 - mae: 7263.8994\n",
            "Epoch 79/100\n",
            "34/34 [==============================] - 0s 2ms/step - loss: 7341.4507 - mae: 7341.4507\n",
            "Epoch 80/100\n",
            "34/34 [==============================] - 0s 2ms/step - loss: 7466.3442 - mae: 7466.3442\n",
            "Epoch 81/100\n",
            "34/34 [==============================] - 0s 2ms/step - loss: 7366.4336 - mae: 7366.4336\n",
            "Epoch 82/100\n",
            "34/34 [==============================] - 0s 1ms/step - loss: 7428.7798 - mae: 7428.7798\n",
            "Epoch 83/100\n",
            "34/34 [==============================] - 0s 2ms/step - loss: 7674.6919 - mae: 7674.6919\n",
            "Epoch 84/100\n",
            "34/34 [==============================] - 0s 2ms/step - loss: 7435.9355 - mae: 7435.9355\n",
            "Epoch 85/100\n",
            "34/34 [==============================] - 0s 1ms/step - loss: 7730.3506 - mae: 7730.3506\n",
            "Epoch 86/100\n",
            "34/34 [==============================] - 0s 1ms/step - loss: 7506.2949 - mae: 7506.2949\n",
            "Epoch 87/100\n",
            "34/34 [==============================] - 0s 2ms/step - loss: 7403.6934 - mae: 7403.6934\n",
            "Epoch 88/100\n",
            "34/34 [==============================] - 0s 1ms/step - loss: 7528.9287 - mae: 7528.9287\n",
            "Epoch 89/100\n",
            "34/34 [==============================] - 0s 2ms/step - loss: 7439.2695 - mae: 7439.2695\n",
            "Epoch 90/100\n",
            "34/34 [==============================] - 0s 2ms/step - loss: 7375.6172 - mae: 7375.6172\n",
            "Epoch 91/100\n",
            "34/34 [==============================] - 0s 2ms/step - loss: 7435.4355 - mae: 7435.4355\n",
            "Epoch 92/100\n",
            "34/34 [==============================] - 0s 2ms/step - loss: 7659.8872 - mae: 7659.8872\n",
            "Epoch 93/100\n",
            "34/34 [==============================] - 0s 2ms/step - loss: 7665.4404 - mae: 7665.4404\n",
            "Epoch 94/100\n",
            "34/34 [==============================] - 0s 1ms/step - loss: 7296.8496 - mae: 7296.8496\n",
            "Epoch 95/100\n",
            "34/34 [==============================] - 0s 2ms/step - loss: 7430.1396 - mae: 7430.1396\n",
            "Epoch 96/100\n",
            "34/34 [==============================] - 0s 2ms/step - loss: 7569.7095 - mae: 7569.7095\n",
            "Epoch 97/100\n",
            "34/34 [==============================] - 0s 2ms/step - loss: 7479.0024 - mae: 7479.0024\n",
            "Epoch 98/100\n",
            "34/34 [==============================] - 0s 2ms/step - loss: 7373.4385 - mae: 7373.4385\n",
            "Epoch 99/100\n",
            "34/34 [==============================] - 0s 2ms/step - loss: 7520.8389 - mae: 7520.8389\n",
            "Epoch 100/100\n",
            "34/34 [==============================] - 0s 1ms/step - loss: 7567.0981 - mae: 7567.0981\n"
          ]
        },
        {
          "output_type": "execute_result",
          "data": {
            "text/plain": [
              "<keras.callbacks.History at 0x7f8c30b1af10>"
            ]
          },
          "metadata": {},
          "execution_count": 164
        }
      ]
    },
    {
      "cell_type": "code",
      "source": [
        "# Check the results of the model on the test data\n",
        "model.evaluate(X_test, y_test)"
      ],
      "metadata": {
        "colab": {
          "base_uri": "https://localhost:8080/"
        },
        "id": "XbJxU0y0Y_hV",
        "outputId": "65c645b9-c4ae-40d5-edb8-5e91dc9ce5e2"
      },
      "execution_count": null,
      "outputs": [
        {
          "output_type": "stream",
          "name": "stdout",
          "text": [
            "9/9 [==============================] - 0s 3ms/step - loss: 8159.5830 - mae: 8159.5830\n"
          ]
        },
        {
          "output_type": "execute_result",
          "data": {
            "text/plain": [
              "[8159.5830078125, 8159.5830078125]"
            ]
          },
          "metadata": {},
          "execution_count": 165
        }
      ]
    },
    {
      "cell_type": "code",
      "source": [
        "# Let's check the mean and median of test data\n",
        "y_test.median(), y_test.mean()"
      ],
      "metadata": {
        "colab": {
          "base_uri": "https://localhost:8080/"
        },
        "id": "sZRDpKdMbkWW",
        "outputId": "18e9c58e-f40c-49f2-ae65-b43b412e8972"
      },
      "execution_count": null,
      "outputs": [
        {
          "output_type": "execute_result",
          "data": {
            "text/plain": [
              "(8487.8803, 12968.317062869404)"
            ]
          },
          "metadata": {},
          "execution_count": 166
        }
      ]
    },
    {
      "cell_type": "markdown",
      "source": [
        "If we check the mean and median of the y value we can see that our predictions are so poor. Let's try to improve our model.\n",
        "\n",
        "To try improve our model, we'll run 2 experiments:\n",
        "1. Add an extra layer with mode hidden units\n",
        "2. Train for longer"
      ],
      "metadata": {
        "id": "WU92nROZbawy"
      }
    },
    {
      "cell_type": "code",
      "source": [
        "# Set random seed\n",
        "tf.random.set_seed(42)\n",
        "\n",
        "# 1. Create the model\n",
        "insurance_model_1 =  tf.keras.Sequential([\n",
        "    tf.keras.layers.Dense(100),\n",
        "    tf.keras.layers.Dense(10),\n",
        "    tf.keras.layers.Dense(1)\n",
        "])\n",
        "\n",
        "# 2. Compile the model\n",
        "insurance_model_1.compile(\n",
        "    loss=tf.keras.losses.mae,\n",
        "    optimizer=tf.keras.optimizers.Adam(),\n",
        "    metrics=['mae']\n",
        ")\n",
        "\n",
        "# 3. Fit the model\n",
        "history_1 = insurance_model_1.fit(X_train, y_train, epochs=100, verbose=0)"
      ],
      "metadata": {
        "id": "FWkJLJnBcCHZ"
      },
      "execution_count": null,
      "outputs": []
    },
    {
      "cell_type": "code",
      "source": [
        "# plot the training loss and validation loss\n",
        "plt.plot(history_1.history['loss'])\n",
        "plt.title('Model Loss')\n",
        "plt.ylabel('Loss')\n",
        "plt.xlabel('Epoch')\n",
        "plt.show()"
      ],
      "metadata": {
        "colab": {
          "base_uri": "https://localhost:8080/",
          "height": 472
        },
        "id": "-RnI2HdiOnly",
        "outputId": "d5ab2f90-f477-4298-8fe8-6fd2f20c4e55"
      },
      "execution_count": null,
      "outputs": [
        {
          "output_type": "display_data",
          "data": {
            "text/plain": [
              "<Figure size 640x480 with 1 Axes>"
            ],
            "image/png": "[encoded data removed]"
          },
          "metadata": {}
        }
      ]
    },
    {
      "cell_type": "code",
      "source": [
        "# Evaluate insurance_model_1\n",
        "insurance_model_1.evaluate(X_test, y_test)"
      ],
      "metadata": {
        "colab": {
          "base_uri": "https://localhost:8080/"
        },
        "id": "A4lkwNUSJm2B",
        "outputId": "c6ddec7e-1df0-4ad6-ab98-28e9d25cade3"
      },
      "execution_count": null,
      "outputs": [
        {
          "output_type": "stream",
          "name": "stdout",
          "text": [
            "9/9 [==============================] - 0s 3ms/step - loss: 6020.2842 - mae: 6020.2842\n"
          ]
        },
        {
          "output_type": "execute_result",
          "data": {
            "text/plain": [
              "[6020.2841796875, 6020.2841796875]"
            ]
          },
          "metadata": {},
          "execution_count": 169
        }
      ]
    },
    {
      "cell_type": "code",
      "source": [
        "# Same as above only we decrease the epochs\n",
        "\n",
        "# Set random seed\n",
        "tf.random.set_seed(42)\n",
        "\n",
        "# 1. Create the model\n",
        "insurance_model_2 =  tf.keras.Sequential([\n",
        "    tf.keras.layers.Dense(100),\n",
        "    tf.keras.layers.Dense(10),\n",
        "    tf.keras.layers.Dense(1)\n",
        "])\n",
        "\n",
        "# 2. Compile the model\n",
        "insurance_model_2.compile(\n",
        "    loss=tf.keras.losses.mae,\n",
        "    optimizer=tf.keras.optimizers.Adam(),\n",
        "    metrics=['mae']\n",
        ")\n",
        "\n",
        "# 3. Fit the model\n",
        "history_2 = insurance_model_2.fit(X_train, y_train, epochs=200, verbose=0)"
      ],
      "metadata": {
        "id": "Qu41dmm5KQbw"
      },
      "execution_count": null,
      "outputs": []
    },
    {
      "cell_type": "code",
      "source": [
        "# plot the training loss and validation loss\n",
        "plt.plot(history_2.history['loss'])\n",
        "plt.title('Model Loss')\n",
        "plt.ylabel('Loss')\n",
        "plt.xlabel('Epoch')\n",
        "plt.show()"
      ],
      "metadata": {
        "colab": {
          "base_uri": "https://localhost:8080/",
          "height": 472
        },
        "id": "INjVQK5RQwYY",
        "outputId": "0fe3b4e3-6320-4fb7-8bba-a64d041e0e9d"
      },
      "execution_count": null,
      "outputs": [
        {
          "output_type": "display_data",
          "data": {
            "text/plain": [
              "<Figure size 640x480 with 1 Axes>"
            ],
            "image/png": "[encoded data removed]"
          },
          "metadata": {}
        }
      ]
    },
    {
      "cell_type": "code",
      "source": [
        "# Evaluate insurance_model_2\n",
        "insurance_model_2.evaluate(X_test, y_test)"
      ],
      "metadata": {
        "colab": {
          "base_uri": "https://localhost:8080/"
        },
        "id": "QXnBMKynMkx5",
        "outputId": "471f47c1-ac4d-4bae-f155-6509a0e3b905"
      },
      "execution_count": null,
      "outputs": [
        {
          "output_type": "stream",
          "name": "stdout",
          "text": [
            "9/9 [==============================] - 0s 2ms/step - loss: 3439.9124 - mae: 3439.9124\n"
          ]
        },
        {
          "output_type": "execute_result",
          "data": {
            "text/plain": [
              "[3439.912353515625, 3439.912353515625]"
            ]
          },
          "metadata": {},
          "execution_count": 173
        }
      ]
    },
    {
      "cell_type": "markdown",
      "source": [
        "As you see above, we improved our model but now, we should think that how long we train our model. It depends on the problem we are working on. There in no exact solution. But TensorFlow has a solution and it is called the [EarlyStopping Callback](https://www.tensorflow.org/api_docs/python/tf/keras/callbacks/EarlyStopping)"
      ],
      "metadata": {
        "id": "sPHlNtFsOIwI"
      }
    },
    {
      "cell_type": "markdown",
      "source": [
        "## Preprocessing data (normalization and standardization)\n",
        "\n",
        "What is normalization? \n",
        "\n",
        "The answer: [Normalization and Standardization](https://scikit-learn.org/stable/modules/preprocessing.html)\n",
        "\n",
        "In terms of scaling values, neural networks tend to prefer normalization. If you are not sure on which one use, try both and see which performs better."
      ],
      "metadata": {
        "id": "HkM_nT6FUMt2"
      }
    },
    {
      "cell_type": "markdown",
      "source": [
        "Let's reimport our data and make preprocessing"
      ],
      "metadata": {
        "id": "EIFf40wXj04A"
      }
    },
    {
      "cell_type": "code",
      "source": [
        "# Read insurance dataset\n",
        "df = pd.read_csv('https://raw.githubusercontent.com/stedy/Machine-Learning-with-R-datasets/master/insurance.csv')\n",
        "\n",
        "# firs five row\n",
        "df.head()"
      ],
      "metadata": {
        "colab": {
          "base_uri": "https://localhost:8080/",
          "height": 206
        },
        "id": "bBvZ-X5Pjms5",
        "outputId": "d5d13ac7-0033-4090-9230-b8a77beeacd8"
      },
      "execution_count": null,
      "outputs": [
        {
          "output_type": "execute_result",
          "data": {
            "text/plain": [
              "   age     sex     bmi  children smoker     region      charges\n",
              "0   19  female  27.900         0    yes  southwest  16884.92400\n",
              "1   18    male  33.770         1     no  southeast   1725.55230\n",
              "2   28    male  33.000         3     no  southeast   4449.46200\n",
              "3   33    male  22.705         0     no  northwest  21984.47061\n",
              "4   32    male  28.880         0     no  northwest   3866.85520"
            ],
            "text/html": [
              "\n",
              "  <div id=\"df-b1b98c8b-173e-4263-b5c8-902a7d484c54\">\n",
              "    <div class=\"colab-df-container\">\n",
              "      <div>\n",
              "<style scoped>\n",
              "    .dataframe tbody tr th:only-of-type {\n",
              "        vertical-align: middle;\n",
              "    }\n",
              "\n",
              "    .dataframe tbody tr th {\n",
              "        vertical-align: top;\n",
              "    }\n",
              "\n",
              "    .dataframe thead th {\n",
              "        text-align: right;\n",
              "    }\n",
              "</style>\n",
              "<table border=\"1\" class=\"dataframe\">\n",
              "  <thead>\n",
              "    <tr style=\"text-align: right;\">\n",
              "      <th></th>\n",
              "      <th>age</th>\n",
              "      <th>sex</th>\n",
              "      <th>bmi</th>\n",
              "      <th>children</th>\n",
              "      <th>smoker</th>\n",
              "      <th>region</th>\n",
              "      <th>charges</th>\n",
              "    </tr>\n",
              "  </thead>\n",
              "  <tbody>\n",
              "    <tr>\n",
              "      <th>0</th>\n",
              "      <td>19</td>\n",
              "      <td>female</td>\n",
              "      <td>27.900</td>\n",
              "      <td>0</td>\n",
              "      <td>yes</td>\n",
              "      <td>southwest</td>\n",
              "      <td>16884.92400</td>\n",
              "    </tr>\n",
              "    <tr>\n",
              "      <th>1</th>\n",
              "      <td>18</td>\n",
              "      <td>male</td>\n",
              "      <td>33.770</td>\n",
              "      <td>1</td>\n",
              "      <td>no</td>\n",
              "      <td>southeast</td>\n",
              "      <td>1725.55230</td>\n",
              "    </tr>\n",
              "    <tr>\n",
              "      <th>2</th>\n",
              "      <td>28</td>\n",
              "      <td>male</td>\n",
              "      <td>33.000</td>\n",
              "      <td>3</td>\n",
              "      <td>no</td>\n",
              "      <td>southeast</td>\n",
              "      <td>4449.46200</td>\n",
              "    </tr>\n",
              "    <tr>\n",
              "      <th>3</th>\n",
              "      <td>33</td>\n",
              "      <td>male</td>\n",
              "      <td>22.705</td>\n",
              "      <td>0</td>\n",
              "      <td>no</td>\n",
              "      <td>northwest</td>\n",
              "      <td>21984.47061</td>\n",
              "    </tr>\n",
              "    <tr>\n",
              "      <th>4</th>\n",
              "      <td>32</td>\n",
              "      <td>male</td>\n",
              "      <td>28.880</td>\n",
              "      <td>0</td>\n",
              "      <td>no</td>\n",
              "      <td>northwest</td>\n",
              "      <td>3866.85520</td>\n",
              "    </tr>\n",
              "  </tbody>\n",
              "</table>\n",
              "</div>\n",
              "      <button class=\"colab-df-convert\" onclick=\"convertToInteractive('df-b1b98c8b-173e-4263-b5c8-902a7d484c54')\"\n",
              "              title=\"Convert this dataframe to an interactive table.\"\n",
              "              style=\"display:none;\">\n",
              "        \n",
              "  <svg xmlns=\"http://www.w3.org/2000/svg\" height=\"24px\"viewBox=\"0 0 24 24\"\n",
              "       width=\"24px\">\n",
              "    <path d=\"M0 0h24v24H0V0z\" fill=\"none\"/>\n",
              "    <path d=\"M18.56 5.44l.94 2.06.94-2.06 2.06-.94-2.06-.94-.94-2.06-.94 2.06-2.06.94zm-11 1L8.5 8.5l.94-2.06 2.06-.94-2.06-.94L8.5 2.5l-.94 2.06-2.06.94zm10 10l.94 2.06.94-2.06 2.06-.94-2.06-.94-.94-2.06-.94 2.06-2.06.94z\"/><path d=\"M17.41 7.96l-1.37-1.37c-.4-.4-.92-.59-1.43-.59-.52 0-1.04.2-1.43.59L10.3 9.45l-7.72 7.72c-.78.78-.78 2.05 0 2.83L4 21.41c.39.39.9.59 1.41.59.51 0 1.02-.2 1.41-.59l7.78-7.78 2.81-2.81c.8-.78.8-2.07 0-2.86zM5.41 20L4 18.59l7.72-7.72 1.47 1.35L5.41 20z\"/>\n",
              "  </svg>\n",
              "      </button>\n",
              "      \n",
              "  <style>\n",
              "    .colab-df-container {\n",
              "      display:flex;\n",
              "      flex-wrap:wrap;\n",
              "      gap: 12px;\n",
              "    }\n",
              "\n",
              "    .colab-df-convert {\n",
              "      background-color: #E8F0FE;\n",
              "      border: none;\n",
              "      border-radius: 50%;\n",
              "      cursor: pointer;\n",
              "      display: none;\n",
              "      fill: #1967D2;\n",
              "      height: 32px;\n",
              "      padding: 0 0 0 0;\n",
              "      width: 32px;\n",
              "    }\n",
              "\n",
              "    .colab-df-convert:hover {\n",
              "      background-color: #E2EBFA;\n",
              "      box-shadow: 0px 1px 2px rgba(60, 64, 67, 0.3), 0px 1px 3px 1px rgba(60, 64, 67, 0.15);\n",
              "      fill: #174EA6;\n",
              "    }\n",
              "\n",
              "    [theme=dark] .colab-df-convert {\n",
              "      background-color: #3B4455;\n",
              "      fill: #D2E3FC;\n",
              "    }\n",
              "\n",
              "    [theme=dark] .colab-df-convert:hover {\n",
              "      background-color: #434B5C;\n",
              "      box-shadow: 0px 1px 3px 1px rgba(0, 0, 0, 0.15);\n",
              "      filter: drop-shadow(0px 1px 2px rgba(0, 0, 0, 0.3));\n",
              "      fill: #FFFFFF;\n",
              "    }\n",
              "  </style>\n",
              "\n",
              "      <script>\n",
              "        const buttonEl =\n",
              "          document.querySelector('#df-b1b98c8b-173e-4263-b5c8-902a7d484c54 button.colab-df-convert');\n",
              "        buttonEl.style.display =\n",
              "          google.colab.kernel.accessAllowed ? 'block' : 'none';\n",
              "\n",
              "        async function convertToInteractive(key) {\n",
              "          const element = document.querySelector('#df-b1b98c8b-173e-4263-b5c8-902a7d484c54');\n",
              "          const dataTable =\n",
              "            await google.colab.kernel.invokeFunction('convertToInteractive',\n",
              "                                                     [key], {});\n",
              "          if (!dataTable) return;\n",
              "\n",
              "          const docLinkHtml = 'Like what you see? Visit the ' +\n",
              "            '<a target=\"_blank\" href=https://colab.research.google.com/notebooks/data_table.ipynb>data table notebook</a>'\n",
              "            + ' to learn more about interactive tables.';\n",
              "          element.innerHTML = '';\n",
              "          dataTable['output_type'] = 'display_data';\n",
              "          await google.colab.output.renderOutput(dataTable, element);\n",
              "          const docLink = document.createElement('div');\n",
              "          docLink.innerHTML = docLinkHtml;\n",
              "          element.appendChild(docLink);\n",
              "        }\n",
              "      </script>\n",
              "    </div>\n",
              "  </div>\n",
              "  "
            ]
          },
          "metadata": {},
          "execution_count": 248
        }
      ]
    },
    {
      "cell_type": "code",
      "source": [
        "# import neccessary classes from sklearn\n",
        "from sklearn.compose import make_column_transformer\n",
        "from sklearn.preprocessing import MinMaxScaler"
      ],
      "metadata": {
        "id": "PQv9iZfMhRwr"
      },
      "execution_count": null,
      "outputs": []
    },
    {
      "cell_type": "code",
      "source": [
        "# Create a column transformer\n",
        "ct = make_column_transformer(\n",
        "    (MinMaxScaler(), ['age', 'bmi', 'children']), # turn all values in between 0 and 1 \n",
        "    (OneHotEncoder(handle_unknown='ignore', drop='first'), ['sex', 'smoker', 'region'])\n",
        ")"
      ],
      "metadata": {
        "id": "dh1MBBETV_6l"
      },
      "execution_count": null,
      "outputs": []
    },
    {
      "cell_type": "code",
      "source": [
        "# Create X and y (features and labes)\n",
        "X = df.drop('charges', axis=1)\n",
        "y = df['charges']"
      ],
      "metadata": {
        "id": "sEo-2P8FhPaf"
      },
      "execution_count": null,
      "outputs": []
    },
    {
      "cell_type": "code",
      "source": [
        "# Split data to train and test\n",
        "X_train, X_test, y_train, y_test = train_test_split(X, y, test_size=0.2, random_state=42)"
      ],
      "metadata": {
        "id": "2lRobiDpkki_"
      },
      "execution_count": null,
      "outputs": []
    },
    {
      "cell_type": "code",
      "source": [
        "# Fit the column transform to our training data\n",
        "ct.fit(X_train)\n",
        "\n",
        "# Transform training and test data with normalization (MinMaxScaler) and OneHotEncoder\n",
        "X_train_normal = ct.transform(X_train)\n",
        "X_test_normal = ct.transform(X_test)"
      ],
      "metadata": {
        "id": "agO5f6C4pyic"
      },
      "execution_count": null,
      "outputs": []
    },
    {
      "cell_type": "code",
      "source": [
        "# Check the data what look like\n",
        "X_train_normal[0]"
      ],
      "metadata": {
        "id": "hEiZ89CWsIw6",
        "colab": {
          "base_uri": "https://localhost:8080/"
        },
        "outputId": "a28ed559-879f-4843-9083-835602b7fc8b"
      },
      "execution_count": null,
      "outputs": [
        {
          "output_type": "execute_result",
          "data": {
            "text/plain": [
              "array([0.60869565, 0.10734463, 0.4       , 0.        , 0.        ,\n",
              "       1.        , 0.        , 0.        ])"
            ]
          },
          "metadata": {},
          "execution_count": 254
        }
      ]
    },
    {
      "cell_type": "markdown",
      "source": [
        "Now, our data has been normalized and one hot encoded. Let's build a neural network model with our nomalized data."
      ],
      "metadata": {
        "id": "GUyL6mFAsqGh"
      }
    },
    {
      "cell_type": "code",
      "source": [
        "# Set random seed\n",
        "tf.random.set_seed(42)\n",
        "\n",
        "# 1. Create the model\n",
        "insurance_model_3 =  tf.keras.Sequential([\n",
        "    tf.keras.layers.Dense(100),\n",
        "    tf.keras.layers.Dense(10),\n",
        "    tf.keras.layers.Dense(1)\n",
        "])\n",
        "\n",
        "# 2. Compile the model\n",
        "insurance_model_3.compile(\n",
        "    loss=tf.keras.losses.mae,\n",
        "    optimizer=tf.keras.optimizers.Adam(),\n",
        "    metrics=['mae']\n",
        ")\n",
        "\n",
        "# 3. Fit the model\n",
        "history_3 = insurance_model_3.fit(X_train_normal, y_train, epochs=200, verbose=0)"
      ],
      "metadata": {
        "id": "-abW2JFXtTBP"
      },
      "execution_count": null,
      "outputs": []
    },
    {
      "cell_type": "code",
      "source": [
        "# plot the training loss and validation loss\n",
        "plt.plot(history_3.history['loss'])\n",
        "plt.title('Model Loss')\n",
        "plt.ylabel('Loss')\n",
        "plt.xlabel('Epoch')\n",
        "plt.show()"
      ],
      "metadata": {
        "colab": {
          "base_uri": "https://localhost:8080/",
          "height": 472
        },
        "id": "A3nz1lusuc3Z",
        "outputId": "e040f390-6bbe-4922-be4f-a3d0199ffc6c"
      },
      "execution_count": null,
      "outputs": [
        {
          "output_type": "display_data",
          "data": {
            "text/plain": [
              "<Figure size 640x480 with 1 Axes>"
            ],
            "image/png": "[encoded data removed]"
          },
          "metadata": {}
        }
      ]
    },
    {
      "cell_type": "code",
      "source": [
        "# Model evaluation\n",
        "insurance_model_3.evaluate(X_test_normal, y_test)"
      ],
      "metadata": {
        "colab": {
          "base_uri": "https://localhost:8080/"
        },
        "id": "RZHoo00Augop",
        "outputId": "3ca07797-cf96-4770-e169-4a7fc878415c"
      },
      "execution_count": null,
      "outputs": [
        {
          "output_type": "stream",
          "name": "stdout",
          "text": [
            "9/9 [==============================] - 0s 2ms/step - loss: 3244.9829 - mae: 3244.9829\n"
          ]
        },
        {
          "output_type": "execute_result",
          "data": {
            "text/plain": [
              "[3244.98291015625, 3244.98291015625]"
            ]
          },
          "metadata": {},
          "execution_count": 257
        }
      ]
    },
    {
      "cell_type": "markdown",
      "source": [
        "Insurance model 2 resulst:\n",
        "* 9/9 [==============================] - 0s 2ms/step - loss: 3439.9124 - mae: 3439.9124\n",
        "\n",
        "Result after normalization:\n",
        "* 9/9 [==============================] - 0s 2ms/step - loss: 3244.9829 - mae: 3244.9829"
      ],
      "metadata": {
        "id": "n1asHwEtvH3Y"
      }
    }
  ]
}