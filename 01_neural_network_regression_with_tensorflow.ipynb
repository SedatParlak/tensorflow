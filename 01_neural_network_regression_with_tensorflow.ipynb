{
 "cells": [
  {
   "cell_type": "markdown",
   "metadata": {
    "id": "LcyshQVV0tsD"
   },
   "source": [
    "# Introduction to Regression with Neural Network in TensorFlow"
   ]
  },
  {
   "cell_type": "markdown",
   "metadata": {
    "id": "tfmMQ1w72x3J"
   },
   "source": [
    "There are many definition for a regression problem but in our case, we're going to simplfy it: prediction a numerical variable based on combination of other variables. Even shorter, predicting a number..."
   ]
  },
  {
   "cell_type": "code",
   "execution_count": null,
   "metadata": {
    "colab": {
     "base_uri": "https://localhost:8080/"
    },
    "id": "8v1QKjt_3xBB",
    "outputId": "ae8cf306-91d4-4747-90be-7b60263821cd"
   },
   "outputs": [
    {
     "name": "stdout",
     "output_type": "stream",
     "text": [
      "2.12.0\n"
     ]
    }
   ],
   "source": [
    "# import tensorflow\n",
    "import tensorflow as tf\n",
    "print(tf.__version__)\n",
    "\n",
    "# import numpy and matplotlib\n",
    "import numpy as np\n",
    "import matplotlib.pyplot as plt"
   ]
  },
  {
   "cell_type": "markdown",
   "metadata": {
    "id": "UDLnkL8p4UQ_"
   },
   "source": [
    "## Creating data to view and fit"
   ]
  },
  {
   "cell_type": "code",
   "execution_count": null,
   "metadata": {
    "colab": {
     "base_uri": "https://localhost:8080/",
     "height": 454
    },
    "id": "RuQAeUbN4tYO",
    "outputId": "82f3ef20-0b4d-44de-a343-a2fb03e6c029"
   },
   "outputs": [
    {
     "data": {
      "image/png": "[encoded data removed]",
      "text/plain": [
       "<Figure size 640x480 with 1 Axes>"
      ]
     },
     "metadata": {},
     "output_type": "display_data"
    }
   ],
   "source": [
    "# Create features\n",
    "X = np.array([-7.0, -4.0, -1.0, 2.0, 5.0, 8.0, 11.0, 14.0])\n",
    "\n",
    "# Create labels\n",
    "y = np.array([3.0, 6.0, 9.0, 12.0, 15.0, 18.0, 21.0, 24.0])\n",
    "\n",
    "# Visualize features and labels\n",
    "plt.scatter(X, y)\n",
    "plt.xlabel('X')\n",
    "plt.ylabel('y')\n",
    "plt.show()"
   ]
  },
  {
   "cell_type": "code",
   "execution_count": null,
   "metadata": {
    "colab": {
     "base_uri": "https://localhost:8080/"
    },
    "id": "Jn3mgVDT5RgW",
    "outputId": "5bbf96ca-edf8-4790-ed34-9a38dc0fcadd"
   },
   "outputs": [
    {
     "data": {
      "text/plain": [
       "array([ True,  True,  True,  True,  True,  True,  True,  True])"
      ]
     },
     "execution_count": 262,
     "metadata": {},
     "output_type": "execute_result"
    }
   ],
   "source": [
    "y == X + 10"
   ]
  },
  {
   "cell_type": "markdown",
   "metadata": {
    "id": "J-xaVhtv60EW"
   },
   "source": [
    "## Input and output shapes"
   ]
  },
  {
   "cell_type": "code",
   "execution_count": null,
   "metadata": {
    "colab": {
     "base_uri": "https://localhost:8080/"
    },
    "id": "6-3TQvFy7-fn",
    "outputId": "0d803c60-c1ee-430f-d186-c5b8d2a241ad"
   },
   "outputs": [
    {
     "data": {
      "text/plain": [
       "((8,), (8,))"
      ]
     },
     "execution_count": 263,
     "metadata": {},
     "output_type": "execute_result"
    }
   ],
   "source": [
    "# Let's check the input and output shape (Note that these shapes are not correct one)\n",
    "input_shape = X.shape\n",
    "output_shape = y.shape\n",
    "\n",
    "input_shape, output_shape"
   ]
  },
  {
   "cell_type": "code",
   "execution_count": null,
   "metadata": {
    "colab": {
     "base_uri": "https://localhost:8080/"
    },
    "id": "6b666i2M-IKA",
    "outputId": "77bd9d70-5464-41bf-ad7b-e9ff53ab8559"
   },
   "outputs": [
    {
     "data": {
      "text/plain": [
       "((), ())"
      ]
     },
     "execution_count": 264,
     "metadata": {},
     "output_type": "execute_result"
    }
   ],
   "source": [
    "# Let's check another input and output shape (Note that these shapes are not correct one)\n",
    "input_shape = X[0].shape\n",
    "output_shape = y[0].shape\n",
    "\n",
    "input_shape, output_shape"
   ]
  },
  {
   "cell_type": "markdown",
   "metadata": {
    "id": "utrAueJD-gku"
   },
   "source": [
    "As you see above, it seems our inputs and outputs have no shape. Let's turn numpy arrays to tensors for finding correct shape."
   ]
  },
  {
   "cell_type": "code",
   "execution_count": null,
   "metadata": {
    "colab": {
     "base_uri": "https://localhost:8080/"
    },
    "id": "U_UJVgHt-gLA",
    "outputId": "c66b3d92-4911-4ee8-a30b-dd8fd7cb947d"
   },
   "outputs": [
    {
     "data": {
      "text/plain": [
       "(<tf.Tensor: shape=(8,), dtype=float64, numpy=array([-7., -4., -1.,  2.,  5.,  8., 11., 14.])>,\n",
       " <tf.Tensor: shape=(8,), dtype=float64, numpy=array([ 3.,  6.,  9., 12., 15., 18., 21., 24.])>)"
      ]
     },
     "execution_count": 265,
     "metadata": {},
     "output_type": "execute_result"
    }
   ],
   "source": [
    "# Turn numpy array to tensors\n",
    "X = tf.constant(X)\n",
    "y = tf.constant(y)\n",
    "\n",
    "X, y"
   ]
  },
  {
   "cell_type": "code",
   "execution_count": null,
   "metadata": {
    "colab": {
     "base_uri": "https://localhost:8080/"
    },
    "id": "vFqJ795t-ew7",
    "outputId": "8f297e19-04f5-4214-c068-cb202084201b"
   },
   "outputs": [
    {
     "data": {
      "text/plain": [
       "(TensorShape([]), TensorShape([]))"
      ]
     },
     "execution_count": 266,
     "metadata": {},
     "output_type": "execute_result"
    }
   ],
   "source": [
    "# Check tensor shapes\n",
    "input_shape = X[0].shape\n",
    "output_shape = y[0].shape\n",
    "\n",
    "input_shape, output_shape"
   ]
  },
  {
   "cell_type": "markdown",
   "metadata": {
    "id": "2u-0fs24pmpF"
   },
   "source": [
    "## Steps in modelling with Tensorflow\n",
    "\n",
    "1. **Creating a model** - define input and output layer, as well as the hidden layers of deep learning model.\n",
    "2. **Compiling  a model** - define the loss function (in other words, the function which tells our model how wrong it is) and optimizer (tells our model how to improve the patterns its learning) and evaluation metrics (what we can use to interpret the performanse of our model)\n",
    "3. **Fitting a model** - letting the model try to find patterns features and labels"
   ]
  },
  {
   "cell_type": "code",
   "execution_count": null,
   "metadata": {
    "colab": {
     "base_uri": "https://localhost:8080/"
    },
    "id": "aVaI2_oeDYyn",
    "outputId": "b3fe69ae-c5ca-457f-d4f5-1a4cf7387ba5"
   },
   "outputs": [
    {
     "name": "stdout",
     "output_type": "stream",
     "text": [
      "Epoch 1/5\n",
      "1/1 [==============================] - 0s 340ms/step - loss: 9.8632 - mae: 9.8632\n",
      "Epoch 2/5\n",
      "1/1 [==============================] - 0s 12ms/step - loss: 9.7307 - mae: 9.7307\n",
      "Epoch 3/5\n",
      "1/1 [==============================] - 0s 11ms/step - loss: 9.5982 - mae: 9.5982\n",
      "Epoch 4/5\n",
      "1/1 [==============================] - 0s 14ms/step - loss: 9.4657 - mae: 9.4657\n",
      "Epoch 5/5\n",
      "1/1 [==============================] - 0s 11ms/step - loss: 9.3332 - mae: 9.3332\n"
     ]
    },
    {
     "data": {
      "text/plain": [
       "<keras.callbacks.History at 0x7f8c30ed7df0>"
      ]
     },
     "execution_count": 267,
     "metadata": {},
     "output_type": "execute_result"
    }
   ],
   "source": [
    "# set random seed\n",
    "tf.random.set_seed(42)\n",
    "\n",
    "# 1. Create a model using Sequential API\n",
    "model = tf.keras.Sequential([\n",
    "    tf.keras.layers.Dense(1)\n",
    "])\n",
    "\n",
    "# 2. Compiling a model\n",
    "model.compile(\n",
    "    loss=tf.keras.losses.mae, # mae short for mean absolute error\n",
    "    optimizer=tf.keras.optimizers.SGD(), # SGD short for stochastic gradient descent\n",
    "    metrics=['mae']\n",
    ")\n",
    "\n",
    "# 3. Fit the model\n",
    "model.fit(tf.expand_dims(X, axis=-1), y, epochs=5)"
   ]
  },
  {
   "cell_type": "code",
   "execution_count": null,
   "metadata": {
    "colab": {
     "base_uri": "https://localhost:8080/"
    },
    "id": "eoQxKdpKhTgO",
    "outputId": "d46e2fec-8ae9-4268-aa35-2b457830ca03"
   },
   "outputs": [
    {
     "data": {
      "text/plain": [
       "(<tf.Tensor: shape=(8,), dtype=float64, numpy=array([-7., -4., -1.,  2.,  5.,  8., 11., 14.])>,\n",
       " <tf.Tensor: shape=(8,), dtype=float64, numpy=array([ 3.,  6.,  9., 12., 15., 18., 21., 24.])>)"
      ]
     },
     "execution_count": 268,
     "metadata": {},
     "output_type": "execute_result"
    }
   ],
   "source": [
    "# Check X and y\n",
    "X, y"
   ]
  },
  {
   "cell_type": "code",
   "execution_count": null,
   "metadata": {
    "colab": {
     "base_uri": "https://localhost:8080/"
    },
    "id": "AKi0_0R8ncy0",
    "outputId": "2bd0038e-ab30-4fc1-da51-21df6c8fb49b"
   },
   "outputs": [
    {
     "name": "stdout",
     "output_type": "stream",
     "text": [
      "1/1 [==============================] - 0s 66ms/step\n"
     ]
    },
    {
     "data": {
      "text/plain": [
       "array([[20.689644]], dtype=float32)"
      ]
     },
     "execution_count": 269,
     "metadata": {},
     "output_type": "execute_result"
    }
   ],
   "source": [
    "# Try to make a prediction using our model\n",
    "model.predict([17.0])"
   ]
  },
  {
   "cell_type": "markdown",
   "metadata": {
    "id": "1zZP0IgNoJxW"
   },
   "source": [
    "Our expection for 17.0 is 20.68 but model prediction is -23.68. This is so bad prediction."
   ]
  },
  {
   "cell_type": "markdown",
   "metadata": {
    "id": "kTyxRAcVniMV"
   },
   "source": [
    "## Improving Model\n",
    "\n",
    "We can improve our model, by altering the steps we took to create a model.\n",
    "\n",
    "1. **Creating a model** - Here we might add more layers, increase the number of hidden units (called neuron) within each of the hidden layers, change the activation function of each layer\n",
    "2. **Compiling a model** - Here we might change the optimization function or perhaps the learning rate of the optimization function\n",
    "3. **Fitting a model** - Here we might change the number of epoch (leave it training for longer) or more data (give the model more example to learn from)"
   ]
  },
  {
   "cell_type": "markdown",
   "metadata": {
    "id": "k4u4Bo4WxJj3"
   },
   "source": [
    "### Increasing number of epoch"
   ]
  },
  {
   "cell_type": "code",
   "execution_count": null,
   "metadata": {
    "colab": {
     "base_uri": "https://localhost:8080/"
    },
    "id": "Bi_JOvMdwMLj",
    "outputId": "ab76d8c7-63a1-4571-f26c-0fb290c9d1d4"
   },
   "outputs": [
    {
     "name": "stdout",
     "output_type": "stream",
     "text": [
      "Epoch 1/100\n",
      "1/1 [==============================] - 0s 323ms/step - loss: 13.3409 - mae: 13.3409\n",
      "Epoch 2/100\n",
      "1/1 [==============================] - 0s 11ms/step - loss: 13.2084 - mae: 13.2084\n",
      "Epoch 3/100\n",
      "1/1 [==============================] - 0s 9ms/step - loss: 13.0759 - mae: 13.0759\n",
      "Epoch 4/100\n",
      "1/1 [==============================] - 0s 10ms/step - loss: 12.9434 - mae: 12.9434\n",
      "Epoch 5/100\n",
      "1/1 [==============================] - 0s 9ms/step - loss: 12.8109 - mae: 12.8109\n",
      "Epoch 6/100\n",
      "1/1 [==============================] - 0s 9ms/step - loss: 12.6784 - mae: 12.6784\n",
      "Epoch 7/100\n",
      "1/1 [==============================] - 0s 9ms/step - loss: 12.5459 - mae: 12.5459\n",
      "Epoch 8/100\n",
      "1/1 [==============================] - 0s 9ms/step - loss: 12.4134 - mae: 12.4134\n",
      "Epoch 9/100\n",
      "1/1 [==============================] - 0s 9ms/step - loss: 12.2809 - mae: 12.2809\n",
      "Epoch 10/100\n",
      "1/1 [==============================] - 0s 10ms/step - loss: 12.1484 - mae: 12.1484\n",
      "Epoch 11/100\n",
      "1/1 [==============================] - 0s 9ms/step - loss: 12.0159 - mae: 12.0159\n",
      "Epoch 12/100\n",
      "1/1 [==============================] - 0s 9ms/step - loss: 11.8834 - mae: 11.8834\n",
      "Epoch 13/100\n",
      "1/1 [==============================] - 0s 9ms/step - loss: 11.7509 - mae: 11.7509\n",
      "Epoch 14/100\n",
      "1/1 [==============================] - 0s 9ms/step - loss: 11.6184 - mae: 11.6184\n",
      "Epoch 15/100\n",
      "1/1 [==============================] - 0s 9ms/step - loss: 11.4859 - mae: 11.4859\n",
      "Epoch 16/100\n",
      "1/1 [==============================] - 0s 9ms/step - loss: 11.3534 - mae: 11.3534\n",
      "Epoch 17/100\n",
      "1/1 [==============================] - 0s 9ms/step - loss: 11.2209 - mae: 11.2209\n",
      "Epoch 18/100\n",
      "1/1 [==============================] - 0s 9ms/step - loss: 11.0884 - mae: 11.0884\n",
      "Epoch 19/100\n",
      "1/1 [==============================] - 0s 9ms/step - loss: 10.9559 - mae: 10.9559\n",
      "Epoch 20/100\n",
      "1/1 [==============================] - 0s 9ms/step - loss: 10.8234 - mae: 10.8234\n",
      "Epoch 21/100\n",
      "1/1 [==============================] - 0s 9ms/step - loss: 10.6909 - mae: 10.6909\n",
      "Epoch 22/100\n",
      "1/1 [==============================] - 0s 9ms/step - loss: 10.5584 - mae: 10.5584\n",
      "Epoch 23/100\n",
      "1/1 [==============================] - 0s 10ms/step - loss: 10.4259 - mae: 10.4259\n",
      "Epoch 24/100\n",
      "1/1 [==============================] - 0s 10ms/step - loss: 10.2934 - mae: 10.2934\n",
      "Epoch 25/100\n",
      "1/1 [==============================] - 0s 10ms/step - loss: 10.1609 - mae: 10.1609\n",
      "Epoch 26/100\n",
      "1/1 [==============================] - 0s 10ms/step - loss: 10.0284 - mae: 10.0284\n",
      "Epoch 27/100\n",
      "1/1 [==============================] - 0s 10ms/step - loss: 9.8959 - mae: 9.8959\n",
      "Epoch 28/100\n",
      "1/1 [==============================] - 0s 10ms/step - loss: 9.7634 - mae: 9.7634\n",
      "Epoch 29/100\n",
      "1/1 [==============================] - 0s 9ms/step - loss: 9.6309 - mae: 9.6309\n",
      "Epoch 30/100\n",
      "1/1 [==============================] - 0s 9ms/step - loss: 9.4984 - mae: 9.4984\n",
      "Epoch 31/100\n",
      "1/1 [==============================] - 0s 9ms/step - loss: 9.3659 - mae: 9.3659\n",
      "Epoch 32/100\n",
      "1/1 [==============================] - 0s 9ms/step - loss: 9.2334 - mae: 9.2334\n",
      "Epoch 33/100\n",
      "1/1 [==============================] - 0s 9ms/step - loss: 9.1009 - mae: 9.1009\n",
      "Epoch 34/100\n",
      "1/1 [==============================] - 0s 10ms/step - loss: 8.9684 - mae: 8.9684\n",
      "Epoch 35/100\n",
      "1/1 [==============================] - 0s 13ms/step - loss: 8.8359 - mae: 8.8359\n",
      "Epoch 36/100\n",
      "1/1 [==============================] - 0s 9ms/step - loss: 8.7034 - mae: 8.7034\n",
      "Epoch 37/100\n",
      "1/1 [==============================] - 0s 10ms/step - loss: 8.5709 - mae: 8.5709\n",
      "Epoch 38/100\n",
      "1/1 [==============================] - 0s 10ms/step - loss: 8.4384 - mae: 8.4384\n",
      "Epoch 39/100\n",
      "1/1 [==============================] - 0s 9ms/step - loss: 8.3059 - mae: 8.3059\n",
      "Epoch 40/100\n",
      "1/1 [==============================] - 0s 9ms/step - loss: 8.1734 - mae: 8.1734\n",
      "Epoch 41/100\n",
      "1/1 [==============================] - 0s 9ms/step - loss: 8.0409 - mae: 8.0409\n",
      "Epoch 42/100\n",
      "1/1 [==============================] - 0s 9ms/step - loss: 7.9084 - mae: 7.9084\n",
      "Epoch 43/100\n",
      "1/1 [==============================] - 0s 9ms/step - loss: 7.7759 - mae: 7.7759\n",
      "Epoch 44/100\n",
      "1/1 [==============================] - 0s 10ms/step - loss: 7.6434 - mae: 7.6434\n",
      "Epoch 45/100\n",
      "1/1 [==============================] - 0s 9ms/step - loss: 7.5109 - mae: 7.5109\n",
      "Epoch 46/100\n",
      "1/1 [==============================] - 0s 9ms/step - loss: 7.3784 - mae: 7.3784\n",
      "Epoch 47/100\n",
      "1/1 [==============================] - 0s 9ms/step - loss: 7.2459 - mae: 7.2459\n",
      "Epoch 48/100\n",
      "1/1 [==============================] - 0s 9ms/step - loss: 7.1475 - mae: 7.1475\n",
      "Epoch 49/100\n",
      "1/1 [==============================] - 0s 9ms/step - loss: 7.1419 - mae: 7.1419\n",
      "Epoch 50/100\n",
      "1/1 [==============================] - 0s 9ms/step - loss: 7.1363 - mae: 7.1363\n",
      "Epoch 51/100\n",
      "1/1 [==============================] - 0s 9ms/step - loss: 7.1306 - mae: 7.1306\n",
      "Epoch 52/100\n",
      "1/1 [==============================] - 0s 10ms/step - loss: 7.1250 - mae: 7.1250\n",
      "Epoch 53/100\n",
      "1/1 [==============================] - 0s 10ms/step - loss: 7.1194 - mae: 7.1194\n",
      "Epoch 54/100\n",
      "1/1 [==============================] - 0s 11ms/step - loss: 7.1138 - mae: 7.1138\n",
      "Epoch 55/100\n",
      "1/1 [==============================] - 0s 9ms/step - loss: 7.1081 - mae: 7.1081\n",
      "Epoch 56/100\n",
      "1/1 [==============================] - 0s 9ms/step - loss: 7.1025 - mae: 7.1025\n",
      "Epoch 57/100\n",
      "1/1 [==============================] - 0s 9ms/step - loss: 7.0969 - mae: 7.0969\n",
      "Epoch 58/100\n",
      "1/1 [==============================] - 0s 9ms/step - loss: 7.0913 - mae: 7.0913\n",
      "Epoch 59/100\n",
      "1/1 [==============================] - 0s 10ms/step - loss: 7.0856 - mae: 7.0856\n",
      "Epoch 60/100\n",
      "1/1 [==============================] - 0s 9ms/step - loss: 7.0800 - mae: 7.0800\n",
      "Epoch 61/100\n",
      "1/1 [==============================] - 0s 8ms/step - loss: 7.0744 - mae: 7.0744\n",
      "Epoch 62/100\n",
      "1/1 [==============================] - 0s 14ms/step - loss: 7.0688 - mae: 7.0688\n",
      "Epoch 63/100\n",
      "1/1 [==============================] - 0s 11ms/step - loss: 7.0631 - mae: 7.0631\n",
      "Epoch 64/100\n",
      "1/1 [==============================] - 0s 8ms/step - loss: 7.0575 - mae: 7.0575\n",
      "Epoch 65/100\n",
      "1/1 [==============================] - 0s 8ms/step - loss: 7.0519 - mae: 7.0519\n",
      "Epoch 66/100\n",
      "1/1 [==============================] - 0s 9ms/step - loss: 7.0463 - mae: 7.0463\n",
      "Epoch 67/100\n",
      "1/1 [==============================] - 0s 9ms/step - loss: 7.0406 - mae: 7.0406\n",
      "Epoch 68/100\n",
      "1/1 [==============================] - 0s 10ms/step - loss: 7.0350 - mae: 7.0350\n",
      "Epoch 69/100\n",
      "1/1 [==============================] - 0s 15ms/step - loss: 7.0294 - mae: 7.0294\n",
      "Epoch 70/100\n",
      "1/1 [==============================] - 0s 9ms/step - loss: 7.0238 - mae: 7.0238\n",
      "Epoch 71/100\n",
      "1/1 [==============================] - 0s 14ms/step - loss: 7.0181 - mae: 7.0181\n",
      "Epoch 72/100\n",
      "1/1 [==============================] - 0s 11ms/step - loss: 7.0125 - mae: 7.0125\n",
      "Epoch 73/100\n",
      "1/1 [==============================] - 0s 10ms/step - loss: 7.0069 - mae: 7.0069\n",
      "Epoch 74/100\n",
      "1/1 [==============================] - 0s 10ms/step - loss: 7.0012 - mae: 7.0012\n",
      "Epoch 75/100\n",
      "1/1 [==============================] - 0s 10ms/step - loss: 6.9956 - mae: 6.9956\n",
      "Epoch 76/100\n",
      "1/1 [==============================] - 0s 9ms/step - loss: 6.9900 - mae: 6.9900\n",
      "Epoch 77/100\n",
      "1/1 [==============================] - 0s 10ms/step - loss: 6.9844 - mae: 6.9844\n",
      "Epoch 78/100\n",
      "1/1 [==============================] - 0s 11ms/step - loss: 6.9788 - mae: 6.9788\n",
      "Epoch 79/100\n",
      "1/1 [==============================] - 0s 10ms/step - loss: 6.9731 - mae: 6.9731\n",
      "Epoch 80/100\n",
      "1/1 [==============================] - 0s 9ms/step - loss: 6.9675 - mae: 6.9675\n",
      "Epoch 81/100\n",
      "1/1 [==============================] - 0s 10ms/step - loss: 6.9619 - mae: 6.9619\n",
      "Epoch 82/100\n",
      "1/1 [==============================] - 0s 9ms/step - loss: 6.9563 - mae: 6.9563\n",
      "Epoch 83/100\n",
      "1/1 [==============================] - 0s 10ms/step - loss: 6.9506 - mae: 6.9506\n",
      "Epoch 84/100\n",
      "1/1 [==============================] - 0s 10ms/step - loss: 6.9450 - mae: 6.9450\n",
      "Epoch 85/100\n",
      "1/1 [==============================] - 0s 9ms/step - loss: 6.9394 - mae: 6.9394\n",
      "Epoch 86/100\n",
      "1/1 [==============================] - 0s 10ms/step - loss: 6.9338 - mae: 6.9338\n",
      "Epoch 87/100\n",
      "1/1 [==============================] - 0s 10ms/step - loss: 6.9281 - mae: 6.9281\n",
      "Epoch 88/100\n",
      "1/1 [==============================] - 0s 9ms/step - loss: 6.9225 - mae: 6.9225\n",
      "Epoch 89/100\n",
      "1/1 [==============================] - 0s 9ms/step - loss: 6.9169 - mae: 6.9169\n",
      "Epoch 90/100\n",
      "1/1 [==============================] - 0s 9ms/step - loss: 6.9113 - mae: 6.9113\n",
      "Epoch 91/100\n",
      "1/1 [==============================] - 0s 9ms/step - loss: 6.9056 - mae: 6.9056\n",
      "Epoch 92/100\n",
      "1/1 [==============================] - 0s 9ms/step - loss: 6.9000 - mae: 6.9000\n",
      "Epoch 93/100\n",
      "1/1 [==============================] - 0s 9ms/step - loss: 6.8944 - mae: 6.8944\n",
      "Epoch 94/100\n",
      "1/1 [==============================] - 0s 9ms/step - loss: 6.8888 - mae: 6.8888\n",
      "Epoch 95/100\n",
      "1/1 [==============================] - 0s 10ms/step - loss: 6.8831 - mae: 6.8831\n",
      "Epoch 96/100\n",
      "1/1 [==============================] - 0s 9ms/step - loss: 6.8775 - mae: 6.8775\n",
      "Epoch 97/100\n",
      "1/1 [==============================] - 0s 9ms/step - loss: 6.8719 - mae: 6.8719\n",
      "Epoch 98/100\n",
      "1/1 [==============================] - 0s 10ms/step - loss: 6.8663 - mae: 6.8663\n",
      "Epoch 99/100\n",
      "1/1 [==============================] - 0s 9ms/step - loss: 6.8606 - mae: 6.8606\n",
      "Epoch 100/100\n",
      "1/1 [==============================] - 0s 9ms/step - loss: 6.8550 - mae: 6.8550\n"
     ]
    },
    {
     "data": {
      "text/plain": [
       "<keras.callbacks.History at 0x7f8c30fdb1c0>"
      ]
     },
     "execution_count": 274,
     "metadata": {},
     "output_type": "execute_result"
    }
   ],
   "source": [
    "# Let's rebuild model (increasing number of epoch)\n",
    "\n",
    "# 1. Create a model using Sequential API\n",
    "model = tf.keras.Sequential([\n",
    "    tf.keras.layers.Dense(1)\n",
    "])\n",
    "\n",
    "# 2. Compiling a model\n",
    "model.compile(\n",
    "    loss=tf.keras.losses.mae, # mae short for mean absolute error\n",
    "    optimizer=tf.keras.optimizers.SGD(), # SGD short for stochastic gradient descent\n",
    "    metrics=['mae']\n",
    ")\n",
    "\n",
    "# 3. Fit the model\n",
    "model.fit(tf.expand_dims(X, axis=-1), y, epochs=100)"
   ]
  },
  {
   "cell_type": "code",
   "execution_count": null,
   "metadata": {
    "colab": {
     "base_uri": "https://localhost:8080/"
    },
    "id": "h8O7Wj--wZjS",
    "outputId": "ff81022c-0ff7-438e-ccfa-a3abf6c23c8b"
   },
   "outputs": [
    {
     "data": {
      "text/plain": [
       "(<tf.Tensor: shape=(8,), dtype=float64, numpy=array([-7., -4., -1.,  2.,  5.,  8., 11., 14.])>,\n",
       " <tf.Tensor: shape=(8,), dtype=float64, numpy=array([ 3.,  6.,  9., 12., 15., 18., 21., 24.])>)"
      ]
     },
     "execution_count": 275,
     "metadata": {},
     "output_type": "execute_result"
    }
   ],
   "source": [
    "# Remind X and y\n",
    "X, y"
   ]
  },
  {
   "cell_type": "code",
   "execution_count": null,
   "metadata": {
    "colab": {
     "base_uri": "https://localhost:8080/"
    },
    "id": "XYtsooJdwMG8",
    "outputId": "7fd078f6-faae-49eb-d104-9883873e3957"
   },
   "outputs": [
    {
     "name": "stdout",
     "output_type": "stream",
     "text": [
      "1/1 [==============================] - 0s 66ms/step\n"
     ]
    },
    {
     "data": {
      "text/plain": [
       "array([[29.60528]], dtype=float32)"
      ]
     },
     "execution_count": 276,
     "metadata": {},
     "output_type": "execute_result"
    }
   ],
   "source": [
    "# Let's make a new prediction\n",
    "model.predict([17.0])"
   ]
  },
  {
   "cell_type": "markdown",
   "metadata": {
    "id": "0QOofSnrwnDT"
   },
   "source": [
    "Our expection is 27 and model prediction is 26.60. This is better and close than before."
   ]
  },
  {
   "cell_type": "markdown",
   "metadata": {
    "id": "jE4gt4ePxQy7"
   },
   "source": [
    "### Adding more hidden layers with 100 neuron"
   ]
  },
  {
   "cell_type": "code",
   "execution_count": null,
   "metadata": {
    "colab": {
     "base_uri": "https://localhost:8080/"
    },
    "id": "XHz90iinobiX",
    "outputId": "1229edc9-d03b-4f44-c5bc-82acc80f24f3"
   },
   "outputs": [
    {
     "name": "stdout",
     "output_type": "stream",
     "text": [
      "Epoch 1/100\n",
      "1/1 [==============================] - 1s 835ms/step - loss: 13.6388 - mae: 13.6388\n",
      "Epoch 2/100\n",
      "1/1 [==============================] - 0s 17ms/step - loss: 12.9795 - mae: 12.9795\n",
      "Epoch 3/100\n",
      "1/1 [==============================] - 0s 10ms/step - loss: 12.3783 - mae: 12.3783\n",
      "Epoch 4/100\n",
      "1/1 [==============================] - 0s 10ms/step - loss: 11.8217 - mae: 11.8217\n",
      "Epoch 5/100\n",
      "1/1 [==============================] - 0s 10ms/step - loss: 11.2377 - mae: 11.2377\n",
      "Epoch 6/100\n",
      "1/1 [==============================] - 0s 10ms/step - loss: 10.5454 - mae: 10.5454\n",
      "Epoch 7/100\n",
      "1/1 [==============================] - 0s 10ms/step - loss: 9.6637 - mae: 9.6637\n",
      "Epoch 8/100\n",
      "1/1 [==============================] - 0s 10ms/step - loss: 8.5641 - mae: 8.5641\n",
      "Epoch 9/100\n",
      "1/1 [==============================] - 0s 10ms/step - loss: 7.1431 - mae: 7.1431\n",
      "Epoch 10/100\n",
      "1/1 [==============================] - 0s 10ms/step - loss: 5.2338 - mae: 5.2338\n",
      "Epoch 11/100\n",
      "1/1 [==============================] - 0s 9ms/step - loss: 4.3006 - mae: 4.3006\n",
      "Epoch 12/100\n",
      "1/1 [==============================] - 0s 11ms/step - loss: 4.0720 - mae: 4.0720\n",
      "Epoch 13/100\n",
      "1/1 [==============================] - 0s 11ms/step - loss: 4.1565 - mae: 4.1565\n",
      "Epoch 14/100\n",
      "1/1 [==============================] - 0s 11ms/step - loss: 4.0131 - mae: 4.0131\n",
      "Epoch 15/100\n",
      "1/1 [==============================] - 0s 11ms/step - loss: 3.9543 - mae: 3.9543\n",
      "Epoch 16/100\n",
      "1/1 [==============================] - 0s 11ms/step - loss: 4.0144 - mae: 4.0144\n",
      "Epoch 17/100\n",
      "1/1 [==============================] - 0s 10ms/step - loss: 3.8635 - mae: 3.8635\n",
      "Epoch 18/100\n",
      "1/1 [==============================] - 0s 11ms/step - loss: 4.0316 - mae: 4.0316\n",
      "Epoch 19/100\n",
      "1/1 [==============================] - 0s 10ms/step - loss: 3.8276 - mae: 3.8276\n",
      "Epoch 20/100\n",
      "1/1 [==============================] - 0s 10ms/step - loss: 4.0238 - mae: 4.0238\n",
      "Epoch 21/100\n",
      "1/1 [==============================] - 0s 10ms/step - loss: 3.8714 - mae: 3.8714\n",
      "Epoch 22/100\n",
      "1/1 [==============================] - 0s 10ms/step - loss: 3.9542 - mae: 3.9542\n",
      "Epoch 23/100\n",
      "1/1 [==============================] - 0s 10ms/step - loss: 3.8879 - mae: 3.8879\n",
      "Epoch 24/100\n",
      "1/1 [==============================] - 0s 10ms/step - loss: 3.9006 - mae: 3.9006\n",
      "Epoch 25/100\n",
      "1/1 [==============================] - 0s 11ms/step - loss: 3.9063 - mae: 3.9063\n",
      "Epoch 26/100\n",
      "1/1 [==============================] - 0s 10ms/step - loss: 3.8454 - mae: 3.8454\n",
      "Epoch 27/100\n",
      "1/1 [==============================] - 0s 10ms/step - loss: 3.9259 - mae: 3.9259\n",
      "Epoch 28/100\n",
      "1/1 [==============================] - 0s 10ms/step - loss: 3.7884 - mae: 3.7884\n",
      "Epoch 29/100\n",
      "1/1 [==============================] - 0s 10ms/step - loss: 3.9467 - mae: 3.9467\n",
      "Epoch 30/100\n",
      "1/1 [==============================] - 0s 10ms/step - loss: 3.7487 - mae: 3.7487\n",
      "Epoch 31/100\n",
      "1/1 [==============================] - 0s 9ms/step - loss: 3.9533 - mae: 3.9533\n",
      "Epoch 32/100\n",
      "1/1 [==============================] - 0s 11ms/step - loss: 3.7952 - mae: 3.7952\n",
      "Epoch 33/100\n",
      "1/1 [==============================] - 0s 10ms/step - loss: 3.8646 - mae: 3.8646\n",
      "Epoch 34/100\n",
      "1/1 [==============================] - 0s 10ms/step - loss: 3.8161 - mae: 3.8161\n",
      "Epoch 35/100\n",
      "1/1 [==============================] - 0s 10ms/step - loss: 3.8048 - mae: 3.8048\n",
      "Epoch 36/100\n",
      "1/1 [==============================] - 0s 9ms/step - loss: 3.8382 - mae: 3.8382\n",
      "Epoch 37/100\n",
      "1/1 [==============================] - 0s 9ms/step - loss: 3.7427 - mae: 3.7427\n",
      "Epoch 38/100\n",
      "1/1 [==============================] - 0s 9ms/step - loss: 3.8617 - mae: 3.8617\n",
      "Epoch 39/100\n",
      "1/1 [==============================] - 0s 10ms/step - loss: 3.6788 - mae: 3.6788\n",
      "Epoch 40/100\n",
      "1/1 [==============================] - 0s 10ms/step - loss: 3.8864 - mae: 3.8864\n",
      "Epoch 41/100\n",
      "1/1 [==============================] - 0s 10ms/step - loss: 3.6912 - mae: 3.6912\n",
      "Epoch 42/100\n",
      "1/1 [==============================] - 0s 10ms/step - loss: 3.8380 - mae: 3.8380\n",
      "Epoch 43/100\n",
      "1/1 [==============================] - 0s 10ms/step - loss: 3.7405 - mae: 3.7405\n",
      "Epoch 44/100\n",
      "1/1 [==============================] - 0s 10ms/step - loss: 3.7392 - mae: 3.7392\n",
      "Epoch 45/100\n",
      "1/1 [==============================] - 0s 10ms/step - loss: 3.7652 - mae: 3.7652\n",
      "Epoch 46/100\n",
      "1/1 [==============================] - 0s 11ms/step - loss: 3.6708 - mae: 3.6708\n",
      "Epoch 47/100\n",
      "1/1 [==============================] - 0s 11ms/step - loss: 3.7899 - mae: 3.7899\n",
      "Epoch 48/100\n",
      "1/1 [==============================] - 0s 11ms/step - loss: 3.6021 - mae: 3.6021\n",
      "Epoch 49/100\n",
      "1/1 [==============================] - 0s 11ms/step - loss: 3.8023 - mae: 3.8023\n",
      "Epoch 50/100\n",
      "1/1 [==============================] - 0s 11ms/step - loss: 3.6276 - mae: 3.6276\n",
      "Epoch 51/100\n",
      "1/1 [==============================] - 0s 10ms/step - loss: 3.7414 - mae: 3.7414\n",
      "Epoch 52/100\n",
      "1/1 [==============================] - 0s 14ms/step - loss: 3.6814 - mae: 3.6814\n",
      "Epoch 53/100\n",
      "1/1 [==============================] - 0s 17ms/step - loss: 3.6471 - mae: 3.6471\n",
      "Epoch 54/100\n",
      "1/1 [==============================] - 0s 12ms/step - loss: 3.7065 - mae: 3.7065\n",
      "Epoch 55/100\n",
      "1/1 [==============================] - 0s 12ms/step - loss: 3.5704 - mae: 3.5704\n",
      "Epoch 56/100\n",
      "1/1 [==============================] - 0s 15ms/step - loss: 3.7344 - mae: 3.7344\n",
      "Epoch 57/100\n",
      "1/1 [==============================] - 0s 12ms/step - loss: 3.5482 - mae: 3.5482\n",
      "Epoch 58/100\n",
      "1/1 [==============================] - 0s 12ms/step - loss: 3.6980 - mae: 3.6980\n",
      "Epoch 59/100\n",
      "1/1 [==============================] - 0s 11ms/step - loss: 3.5761 - mae: 3.5761\n",
      "Epoch 60/100\n",
      "1/1 [==============================] - 0s 15ms/step - loss: 3.6260 - mae: 3.6260\n",
      "Epoch 61/100\n",
      "1/1 [==============================] - 0s 14ms/step - loss: 3.6062 - mae: 3.6062\n",
      "Epoch 62/100\n",
      "1/1 [==============================] - 0s 14ms/step - loss: 3.5498 - mae: 3.5498\n",
      "Epoch 63/100\n",
      "1/1 [==============================] - 0s 12ms/step - loss: 3.6364 - mae: 3.6364\n",
      "Epoch 64/100\n",
      "1/1 [==============================] - 0s 14ms/step - loss: 3.4735 - mae: 3.4735\n",
      "Epoch 65/100\n",
      "1/1 [==============================] - 0s 11ms/step - loss: 3.6975 - mae: 3.6975\n",
      "Epoch 66/100\n",
      "1/1 [==============================] - 0s 9ms/step - loss: 3.5106 - mae: 3.5106\n",
      "Epoch 67/100\n",
      "1/1 [==============================] - 0s 13ms/step - loss: 3.5758 - mae: 3.5758\n",
      "Epoch 68/100\n",
      "1/1 [==============================] - 0s 11ms/step - loss: 3.5395 - mae: 3.5395\n",
      "Epoch 69/100\n",
      "1/1 [==============================] - 0s 12ms/step - loss: 3.4939 - mae: 3.4939\n",
      "Epoch 70/100\n",
      "1/1 [==============================] - 0s 10ms/step - loss: 3.5690 - mae: 3.5690\n",
      "Epoch 71/100\n",
      "1/1 [==============================] - 0s 10ms/step - loss: 3.4094 - mae: 3.4094\n",
      "Epoch 72/100\n",
      "1/1 [==============================] - 0s 10ms/step - loss: 3.6000 - mae: 3.6000\n",
      "Epoch 73/100\n",
      "1/1 [==============================] - 0s 14ms/step - loss: 3.4195 - mae: 3.4195\n",
      "Epoch 74/100\n",
      "1/1 [==============================] - 0s 12ms/step - loss: 3.5300 - mae: 3.5300\n",
      "Epoch 75/100\n",
      "1/1 [==============================] - 0s 11ms/step - loss: 3.4843 - mae: 3.4843\n",
      "Epoch 76/100\n",
      "1/1 [==============================] - 0s 11ms/step - loss: 3.4239 - mae: 3.4239\n",
      "Epoch 77/100\n",
      "1/1 [==============================] - 0s 10ms/step - loss: 3.5147 - mae: 3.5147\n",
      "Epoch 78/100\n",
      "1/1 [==============================] - 0s 10ms/step - loss: 3.3396 - mae: 3.3396\n",
      "Epoch 79/100\n",
      "1/1 [==============================] - 0s 10ms/step - loss: 3.5320 - mae: 3.5320\n",
      "Epoch 80/100\n",
      "1/1 [==============================] - 0s 11ms/step - loss: 3.3700 - mae: 3.3700\n",
      "Epoch 81/100\n",
      "1/1 [==============================] - 0s 10ms/step - loss: 3.4472 - mae: 3.4472\n",
      "Epoch 82/100\n",
      "1/1 [==============================] - 0s 10ms/step - loss: 3.4026 - mae: 3.4026\n",
      "Epoch 83/100\n",
      "1/1 [==============================] - 0s 10ms/step - loss: 3.3575 - mae: 3.3575\n",
      "Epoch 84/100\n",
      "1/1 [==============================] - 0s 11ms/step - loss: 3.4356 - mae: 3.4356\n",
      "Epoch 85/100\n",
      "1/1 [==============================] - 0s 10ms/step - loss: 3.2660 - mae: 3.2660\n",
      "Epoch 86/100\n",
      "1/1 [==============================] - 0s 10ms/step - loss: 3.4725 - mae: 3.4725\n",
      "Epoch 87/100\n",
      "1/1 [==============================] - 0s 10ms/step - loss: 3.2968 - mae: 3.2968\n",
      "Epoch 88/100\n",
      "1/1 [==============================] - 0s 11ms/step - loss: 3.3516 - mae: 3.3516\n",
      "Epoch 89/100\n",
      "1/1 [==============================] - 0s 10ms/step - loss: 3.3650 - mae: 3.3650\n",
      "Epoch 90/100\n",
      "1/1 [==============================] - 0s 10ms/step - loss: 3.2555 - mae: 3.2555\n",
      "Epoch 91/100\n",
      "1/1 [==============================] - 0s 10ms/step - loss: 3.3992 - mae: 3.3992\n",
      "Epoch 92/100\n",
      "1/1 [==============================] - 0s 10ms/step - loss: 3.2274 - mae: 3.2274\n",
      "Epoch 93/100\n",
      "1/1 [==============================] - 0s 12ms/step - loss: 3.3525 - mae: 3.3525\n",
      "Epoch 94/100\n",
      "1/1 [==============================] - 0s 12ms/step - loss: 3.2611 - mae: 3.2611\n",
      "Epoch 95/100\n",
      "1/1 [==============================] - 0s 11ms/step - loss: 3.2553 - mae: 3.2553\n",
      "Epoch 96/100\n",
      "1/1 [==============================] - 0s 13ms/step - loss: 3.2981 - mae: 3.2981\n",
      "Epoch 97/100\n",
      "1/1 [==============================] - 0s 13ms/step - loss: 3.1538 - mae: 3.1538\n",
      "Epoch 98/100\n",
      "1/1 [==============================] - 0s 12ms/step - loss: 3.3372 - mae: 3.3372\n",
      "Epoch 99/100\n",
      "1/1 [==============================] - 0s 9ms/step - loss: 3.1722 - mae: 3.1722\n",
      "Epoch 100/100\n",
      "1/1 [==============================] - 0s 8ms/step - loss: 3.2277 - mae: 3.2277\n"
     ]
    },
    {
     "data": {
      "text/plain": [
       "<keras.callbacks.History at 0x7f8c277e12e0>"
      ]
     },
     "execution_count": 277,
     "metadata": {},
     "output_type": "execute_result"
    }
   ],
   "source": [
    "# Let's rebuild model\n",
    "\n",
    "# 1. Create a model \n",
    "model = tf.keras.Sequential([\n",
    "    tf.keras.layers.Dense(100, activation='relu'),\n",
    "    tf.keras.layers.Dense(100, activation='relu'),\n",
    "    tf.keras.layers.Dense(100, activation='relu'),\n",
    "    tf.keras.layers.Dense(1)\n",
    "])\n",
    "\n",
    "# 2. Compiling model\n",
    "model.compile(\n",
    "    loss=tf.keras.losses.mae,\n",
    "    optimizer=tf.keras.optimizers.SGD(),\n",
    "    metrics=['mae']\n",
    ")\n",
    "\n",
    "# 3. Fit the model\n",
    "model.fit(tf.expand_dims(X, axis=-1), y, epochs=100)"
   ]
  },
  {
   "cell_type": "code",
   "execution_count": null,
   "metadata": {
    "colab": {
     "base_uri": "https://localhost:8080/"
    },
    "id": "vImeya344s2T",
    "outputId": "4188b2ad-fa92-4e55-980a-f9c319400fcf"
   },
   "outputs": [
    {
     "data": {
      "text/plain": [
       "(<tf.Tensor: shape=(8,), dtype=float64, numpy=array([-7., -4., -1.,  2.,  5.,  8., 11., 14.])>,\n",
       " <tf.Tensor: shape=(8,), dtype=float64, numpy=array([ 3.,  6.,  9., 12., 15., 18., 21., 24.])>)"
      ]
     },
     "execution_count": 278,
     "metadata": {},
     "output_type": "execute_result"
    }
   ],
   "source": [
    "# Let's remind our data\n",
    "X, y"
   ]
  },
  {
   "cell_type": "code",
   "execution_count": null,
   "metadata": {
    "colab": {
     "base_uri": "https://localhost:8080/"
    },
    "id": "Z4maNOdd4szb",
    "outputId": "479db822-3888-40f2-c6cc-918bd3c7353f"
   },
   "outputs": [
    {
     "name": "stdout",
     "output_type": "stream",
     "text": [
      "1/1 [==============================] - 0s 91ms/step\n"
     ]
    },
    {
     "data": {
      "text/plain": [
       "array([[33.03018]], dtype=float32)"
      ]
     },
     "execution_count": 279,
     "metadata": {},
     "output_type": "execute_result"
    }
   ],
   "source": [
    "# Making a prediction\n",
    "model.predict([17.0])"
   ]
  },
  {
   "cell_type": "markdown",
   "metadata": {
    "id": "MaQzIYwi4swu"
   },
   "source": [
    "This prediction is worse than before. The model may have been overfitting."
   ]
  },
  {
   "cell_type": "markdown",
   "metadata": {
    "id": "7Twzbb1q4suE"
   },
   "source": [
    "### Change the optimization function\n",
    "\n",
    "Our optimization function is Stochastic Gradient Descent, let's make it Adam and see what will happen."
   ]
  },
  {
   "cell_type": "code",
   "execution_count": null,
   "metadata": {
    "colab": {
     "base_uri": "https://localhost:8080/"
    },
    "id": "u1bw5qU44sre",
    "outputId": "c188847b-5335-46fb-9252-4d7433c061b2"
   },
   "outputs": [
    {
     "name": "stdout",
     "output_type": "stream",
     "text": [
      "Epoch 1/100\n",
      "1/1 [==============================] - 1s 1s/step - loss: 13.5813 - mae: 13.5813\n",
      "Epoch 2/100\n",
      "1/1 [==============================] - 0s 13ms/step - loss: 13.1610 - mae: 13.1610\n",
      "Epoch 3/100\n",
      "1/1 [==============================] - 0s 15ms/step - loss: 12.7825 - mae: 12.7825\n",
      "Epoch 4/100\n",
      "1/1 [==============================] - 0s 14ms/step - loss: 12.4126 - mae: 12.4126\n",
      "Epoch 5/100\n",
      "1/1 [==============================] - 0s 11ms/step - loss: 12.0682 - mae: 12.0682\n",
      "Epoch 6/100\n",
      "1/1 [==============================] - 0s 11ms/step - loss: 11.7311 - mae: 11.7311\n",
      "Epoch 7/100\n",
      "1/1 [==============================] - 0s 10ms/step - loss: 11.3921 - mae: 11.3921\n",
      "Epoch 8/100\n",
      "1/1 [==============================] - 0s 10ms/step - loss: 11.0480 - mae: 11.0480\n",
      "Epoch 9/100\n",
      "1/1 [==============================] - 0s 12ms/step - loss: 10.6959 - mae: 10.6959\n",
      "Epoch 10/100\n",
      "1/1 [==============================] - 0s 15ms/step - loss: 10.3262 - mae: 10.3262\n",
      "Epoch 11/100\n",
      "1/1 [==============================] - 0s 10ms/step - loss: 9.9365 - mae: 9.9365\n",
      "Epoch 12/100\n",
      "1/1 [==============================] - 0s 10ms/step - loss: 9.5289 - mae: 9.5289\n",
      "Epoch 13/100\n",
      "1/1 [==============================] - 0s 12ms/step - loss: 9.0999 - mae: 9.0999\n",
      "Epoch 14/100\n",
      "1/1 [==============================] - 0s 12ms/step - loss: 8.7230 - mae: 8.7230\n",
      "Epoch 15/100\n",
      "1/1 [==============================] - 0s 13ms/step - loss: 8.3455 - mae: 8.3455\n",
      "Epoch 16/100\n",
      "1/1 [==============================] - 0s 10ms/step - loss: 7.9440 - mae: 7.9440\n",
      "Epoch 17/100\n",
      "1/1 [==============================] - 0s 13ms/step - loss: 7.5147 - mae: 7.5147\n",
      "Epoch 18/100\n",
      "1/1 [==============================] - 0s 11ms/step - loss: 7.0557 - mae: 7.0557\n",
      "Epoch 19/100\n",
      "1/1 [==============================] - 0s 12ms/step - loss: 6.5649 - mae: 6.5649\n",
      "Epoch 20/100\n",
      "1/1 [==============================] - 0s 12ms/step - loss: 6.0417 - mae: 6.0417\n",
      "Epoch 21/100\n",
      "1/1 [==============================] - 0s 10ms/step - loss: 5.4836 - mae: 5.4836\n",
      "Epoch 22/100\n",
      "1/1 [==============================] - 0s 10ms/step - loss: 4.8951 - mae: 4.8951\n",
      "Epoch 23/100\n",
      "1/1 [==============================] - 0s 10ms/step - loss: 4.2756 - mae: 4.2756\n",
      "Epoch 24/100\n",
      "1/1 [==============================] - 0s 10ms/step - loss: 4.0300 - mae: 4.0300\n",
      "Epoch 25/100\n",
      "1/1 [==============================] - 0s 11ms/step - loss: 3.9896 - mae: 3.9896\n",
      "Epoch 26/100\n",
      "1/1 [==============================] - 0s 10ms/step - loss: 4.1250 - mae: 4.1250\n",
      "Epoch 27/100\n",
      "1/1 [==============================] - 0s 10ms/step - loss: 4.2431 - mae: 4.2431\n",
      "Epoch 28/100\n",
      "1/1 [==============================] - 0s 10ms/step - loss: 4.4342 - mae: 4.4342\n",
      "Epoch 29/100\n",
      "1/1 [==============================] - 0s 10ms/step - loss: 4.6234 - mae: 4.6234\n",
      "Epoch 30/100\n",
      "1/1 [==============================] - 0s 10ms/step - loss: 4.7301 - mae: 4.7301\n",
      "Epoch 31/100\n",
      "1/1 [==============================] - 0s 10ms/step - loss: 4.7633 - mae: 4.7633\n",
      "Epoch 32/100\n",
      "1/1 [==============================] - 0s 10ms/step - loss: 4.7326 - mae: 4.7326\n",
      "Epoch 33/100\n",
      "1/1 [==============================] - 0s 10ms/step - loss: 4.6456 - mae: 4.6456\n",
      "Epoch 34/100\n",
      "1/1 [==============================] - 0s 10ms/step - loss: 4.5129 - mae: 4.5129\n",
      "Epoch 35/100\n",
      "1/1 [==============================] - 0s 10ms/step - loss: 4.3420 - mae: 4.3420\n",
      "Epoch 36/100\n",
      "1/1 [==============================] - 0s 11ms/step - loss: 4.1886 - mae: 4.1886\n",
      "Epoch 37/100\n",
      "1/1 [==============================] - 0s 13ms/step - loss: 4.1099 - mae: 4.1099\n",
      "Epoch 38/100\n",
      "1/1 [==============================] - 0s 13ms/step - loss: 4.0325 - mae: 4.0325\n",
      "Epoch 39/100\n",
      "1/1 [==============================] - 0s 14ms/step - loss: 3.9562 - mae: 3.9562\n",
      "Epoch 40/100\n",
      "1/1 [==============================] - 0s 11ms/step - loss: 3.8810 - mae: 3.8810\n",
      "Epoch 41/100\n",
      "1/1 [==============================] - 0s 15ms/step - loss: 3.8065 - mae: 3.8065\n",
      "Epoch 42/100\n",
      "1/1 [==============================] - 0s 18ms/step - loss: 3.8522 - mae: 3.8522\n",
      "Epoch 43/100\n",
      "1/1 [==============================] - 0s 12ms/step - loss: 3.9065 - mae: 3.9065\n",
      "Epoch 44/100\n",
      "1/1 [==============================] - 0s 12ms/step - loss: 3.9439 - mae: 3.9439\n",
      "Epoch 45/100\n",
      "1/1 [==============================] - 0s 11ms/step - loss: 3.9665 - mae: 3.9665\n",
      "Epoch 46/100\n",
      "1/1 [==============================] - 0s 12ms/step - loss: 3.9750 - mae: 3.9750\n",
      "Epoch 47/100\n",
      "1/1 [==============================] - 0s 11ms/step - loss: 3.9719 - mae: 3.9719\n",
      "Epoch 48/100\n",
      "1/1 [==============================] - 0s 11ms/step - loss: 3.9579 - mae: 3.9579\n",
      "Epoch 49/100\n",
      "1/1 [==============================] - 0s 12ms/step - loss: 3.9348 - mae: 3.9348\n",
      "Epoch 50/100\n",
      "1/1 [==============================] - 0s 14ms/step - loss: 3.9023 - mae: 3.9023\n",
      "Epoch 51/100\n",
      "1/1 [==============================] - 0s 11ms/step - loss: 3.8613 - mae: 3.8613\n",
      "Epoch 52/100\n",
      "1/1 [==============================] - 0s 14ms/step - loss: 3.8129 - mae: 3.8129\n",
      "Epoch 53/100\n",
      "1/1 [==============================] - 0s 12ms/step - loss: 3.7690 - mae: 3.7690\n",
      "Epoch 54/100\n",
      "1/1 [==============================] - 0s 11ms/step - loss: 3.6945 - mae: 3.6945\n",
      "Epoch 55/100\n",
      "1/1 [==============================] - 0s 10ms/step - loss: 3.6740 - mae: 3.6740\n",
      "Epoch 56/100\n",
      "1/1 [==============================] - 0s 12ms/step - loss: 3.7005 - mae: 3.7005\n",
      "Epoch 57/100\n",
      "1/1 [==============================] - 0s 11ms/step - loss: 3.7169 - mae: 3.7169\n",
      "Epoch 58/100\n",
      "1/1 [==============================] - 0s 10ms/step - loss: 3.7236 - mae: 3.7236\n",
      "Epoch 59/100\n",
      "1/1 [==============================] - 0s 10ms/step - loss: 3.7224 - mae: 3.7224\n",
      "Epoch 60/100\n",
      "1/1 [==============================] - 0s 11ms/step - loss: 3.7116 - mae: 3.7116\n",
      "Epoch 61/100\n",
      "1/1 [==============================] - 0s 11ms/step - loss: 3.7069 - mae: 3.7069\n",
      "Epoch 62/100\n",
      "1/1 [==============================] - 0s 11ms/step - loss: 3.6743 - mae: 3.6743\n",
      "Epoch 63/100\n",
      "1/1 [==============================] - 0s 12ms/step - loss: 3.6490 - mae: 3.6490\n",
      "Epoch 64/100\n",
      "1/1 [==============================] - 0s 19ms/step - loss: 3.6194 - mae: 3.6194\n",
      "Epoch 65/100\n",
      "1/1 [==============================] - 0s 15ms/step - loss: 3.5845 - mae: 3.5845\n",
      "Epoch 66/100\n",
      "1/1 [==============================] - 0s 16ms/step - loss: 3.5681 - mae: 3.5681\n",
      "Epoch 67/100\n",
      "1/1 [==============================] - 0s 13ms/step - loss: 3.5784 - mae: 3.5784\n",
      "Epoch 68/100\n",
      "1/1 [==============================] - 0s 11ms/step - loss: 3.5711 - mae: 3.5711\n",
      "Epoch 69/100\n",
      "1/1 [==============================] - 0s 11ms/step - loss: 3.5451 - mae: 3.5451\n",
      "Epoch 70/100\n",
      "1/1 [==============================] - 0s 11ms/step - loss: 3.5034 - mae: 3.5034\n",
      "Epoch 71/100\n",
      "1/1 [==============================] - 0s 10ms/step - loss: 3.5254 - mae: 3.5254\n",
      "Epoch 72/100\n",
      "1/1 [==============================] - 0s 14ms/step - loss: 3.5286 - mae: 3.5286\n",
      "Epoch 73/100\n",
      "1/1 [==============================] - 0s 12ms/step - loss: 3.5273 - mae: 3.5273\n",
      "Epoch 74/100\n",
      "1/1 [==============================] - 0s 13ms/step - loss: 3.5146 - mae: 3.5146\n",
      "Epoch 75/100\n",
      "1/1 [==============================] - 0s 12ms/step - loss: 3.4933 - mae: 3.4933\n",
      "Epoch 76/100\n",
      "1/1 [==============================] - 0s 12ms/step - loss: 3.4646 - mae: 3.4646\n",
      "Epoch 77/100\n",
      "1/1 [==============================] - 0s 13ms/step - loss: 3.4254 - mae: 3.4254\n",
      "Epoch 78/100\n",
      "1/1 [==============================] - 0s 13ms/step - loss: 3.4131 - mae: 3.4131\n",
      "Epoch 79/100\n",
      "1/1 [==============================] - 0s 16ms/step - loss: 3.4082 - mae: 3.4082\n",
      "Epoch 80/100\n",
      "1/1 [==============================] - 0s 16ms/step - loss: 3.3768 - mae: 3.3768\n",
      "Epoch 81/100\n",
      "1/1 [==============================] - 0s 16ms/step - loss: 3.3467 - mae: 3.3467\n",
      "Epoch 82/100\n",
      "1/1 [==============================] - 0s 14ms/step - loss: 3.3367 - mae: 3.3367\n",
      "Epoch 83/100\n",
      "1/1 [==============================] - 0s 11ms/step - loss: 3.3126 - mae: 3.3126\n",
      "Epoch 84/100\n",
      "1/1 [==============================] - 0s 11ms/step - loss: 3.2835 - mae: 3.2835\n",
      "Epoch 85/100\n",
      "1/1 [==============================] - 0s 13ms/step - loss: 3.2601 - mae: 3.2601\n",
      "Epoch 86/100\n",
      "1/1 [==============================] - 0s 11ms/step - loss: 3.2302 - mae: 3.2302\n",
      "Epoch 87/100\n",
      "1/1 [==============================] - 0s 10ms/step - loss: 3.2214 - mae: 3.2214\n",
      "Epoch 88/100\n",
      "1/1 [==============================] - 0s 10ms/step - loss: 3.2029 - mae: 3.2029\n",
      "Epoch 89/100\n",
      "1/1 [==============================] - 0s 11ms/step - loss: 3.1789 - mae: 3.1789\n",
      "Epoch 90/100\n",
      "1/1 [==============================] - 0s 13ms/step - loss: 3.1405 - mae: 3.1405\n",
      "Epoch 91/100\n",
      "1/1 [==============================] - 0s 10ms/step - loss: 3.0966 - mae: 3.0966\n",
      "Epoch 92/100\n",
      "1/1 [==============================] - 0s 11ms/step - loss: 3.0675 - mae: 3.0675\n",
      "Epoch 93/100\n",
      "1/1 [==============================] - 0s 10ms/step - loss: 3.0814 - mae: 3.0814\n",
      "Epoch 94/100\n",
      "1/1 [==============================] - 0s 9ms/step - loss: 3.0424 - mae: 3.0424\n",
      "Epoch 95/100\n",
      "1/1 [==============================] - 0s 10ms/step - loss: 3.0083 - mae: 3.0083\n",
      "Epoch 96/100\n",
      "1/1 [==============================] - 0s 10ms/step - loss: 2.9595 - mae: 2.9595\n",
      "Epoch 97/100\n",
      "1/1 [==============================] - 0s 10ms/step - loss: 2.9709 - mae: 2.9709\n",
      "Epoch 98/100\n",
      "1/1 [==============================] - 0s 12ms/step - loss: 2.9450 - mae: 2.9450\n",
      "Epoch 99/100\n",
      "1/1 [==============================] - 0s 10ms/step - loss: 2.8749 - mae: 2.8749\n",
      "Epoch 100/100\n",
      "1/1 [==============================] - 0s 10ms/step - loss: 2.8614 - mae: 2.8614\n"
     ]
    },
    {
     "data": {
      "text/plain": [
       "<keras.callbacks.History at 0x7f8c30f33790>"
      ]
     },
     "execution_count": 280,
     "metadata": {},
     "output_type": "execute_result"
    }
   ],
   "source": [
    "# Let's rebuild model\n",
    "\n",
    "# 1. Create a model \n",
    "model = tf.keras.Sequential([\n",
    "    tf.keras.layers.Dense(100, activation='relu'),\n",
    "    tf.keras.layers.Dense(100, activation='relu'),\n",
    "    tf.keras.layers.Dense(100, activation='relu'),\n",
    "    tf.keras.layers.Dense(1)\n",
    "])\n",
    "\n",
    "# 2. Compiling model\n",
    "model.compile(\n",
    "    loss=tf.keras.losses.mae,\n",
    "    optimizer=tf.keras.optimizers.Adam(),\n",
    "    metrics=['mae']\n",
    ")\n",
    "\n",
    "# 3. Fit the model\n",
    "model.fit(tf.expand_dims(X, axis=-1), y, epochs=100)"
   ]
  },
  {
   "cell_type": "code",
   "execution_count": null,
   "metadata": {
    "colab": {
     "base_uri": "https://localhost:8080/"
    },
    "id": "g5WKa2WK6F1s",
    "outputId": "8b555191-8f56-4f7a-832f-109706fd7920"
   },
   "outputs": [
    {
     "data": {
      "text/plain": [
       "(<tf.Tensor: shape=(8,), dtype=float64, numpy=array([-7., -4., -1.,  2.,  5.,  8., 11., 14.])>,\n",
       " <tf.Tensor: shape=(8,), dtype=float64, numpy=array([ 3.,  6.,  9., 12., 15., 18., 21., 24.])>)"
      ]
     },
     "execution_count": 281,
     "metadata": {},
     "output_type": "execute_result"
    }
   ],
   "source": [
    "# Remind data\n",
    "X, y"
   ]
  },
  {
   "cell_type": "code",
   "execution_count": null,
   "metadata": {
    "colab": {
     "base_uri": "https://localhost:8080/"
    },
    "id": "SORLDr9U4so-",
    "outputId": "0ed28069-3464-4cd2-b404-a1cf5a0ae956"
   },
   "outputs": [
    {
     "name": "stdout",
     "output_type": "stream",
     "text": [
      "1/1 [==============================] - 0s 91ms/step\n"
     ]
    },
    {
     "data": {
      "text/plain": [
       "array([[31.864826]], dtype=float32)"
      ]
     },
     "execution_count": 282,
     "metadata": {},
     "output_type": "execute_result"
    }
   ],
   "source": [
    "# Making a prediction\n",
    "model.predict([17.0])"
   ]
  },
  {
   "cell_type": "markdown",
   "metadata": {
    "id": "ygdIVYde6SZm"
   },
   "source": [
    "### Change the learning rate\n",
    "\n",
    "Learning rate's default parameter is 0.001 for Adam optimizer. Let's make it 0.01"
   ]
  },
  {
   "cell_type": "code",
   "execution_count": null,
   "metadata": {
    "colab": {
     "base_uri": "https://localhost:8080/"
    },
    "id": "sVTn5bRf6SRn",
    "outputId": "da00b12a-2de2-4cb9-9e12-24e0994be5e2"
   },
   "outputs": [
    {
     "name": "stdout",
     "output_type": "stream",
     "text": [
      "Epoch 1/100\n",
      "1/1 [==============================] - 1s 911ms/step - loss: 13.5473 - mae: 13.5473\n",
      "Epoch 2/100\n",
      "1/1 [==============================] - 0s 10ms/step - loss: 11.3887 - mae: 11.3887\n",
      "Epoch 3/100\n",
      "1/1 [==============================] - 0s 10ms/step - loss: 8.7860 - mae: 8.7860\n",
      "Epoch 4/100\n",
      "1/1 [==============================] - 0s 10ms/step - loss: 5.3476 - mae: 5.3476\n",
      "Epoch 5/100\n",
      "1/1 [==============================] - 0s 13ms/step - loss: 5.2646 - mae: 5.2646\n",
      "Epoch 6/100\n",
      "1/1 [==============================] - 0s 10ms/step - loss: 6.6080 - mae: 6.6080\n",
      "Epoch 7/100\n",
      "1/1 [==============================] - 0s 13ms/step - loss: 5.8028 - mae: 5.8028\n",
      "Epoch 8/100\n",
      "1/1 [==============================] - 0s 13ms/step - loss: 4.4337 - mae: 4.4337\n",
      "Epoch 9/100\n",
      "1/1 [==============================] - 0s 15ms/step - loss: 3.7989 - mae: 3.7989\n",
      "Epoch 10/100\n",
      "1/1 [==============================] - 0s 14ms/step - loss: 4.6800 - mae: 4.6800\n",
      "Epoch 11/100\n",
      "1/1 [==============================] - 0s 12ms/step - loss: 4.8258 - mae: 4.8258\n",
      "Epoch 12/100\n",
      "1/1 [==============================] - 0s 14ms/step - loss: 4.1790 - mae: 4.1790\n",
      "Epoch 13/100\n",
      "1/1 [==============================] - 0s 15ms/step - loss: 3.5797 - mae: 3.5797\n",
      "Epoch 14/100\n",
      "1/1 [==============================] - 0s 15ms/step - loss: 3.6946 - mae: 3.6946\n",
      "Epoch 15/100\n",
      "1/1 [==============================] - 0s 11ms/step - loss: 4.0729 - mae: 4.0729\n",
      "Epoch 16/100\n",
      "1/1 [==============================] - 0s 11ms/step - loss: 4.0309 - mae: 4.0309\n",
      "Epoch 17/100\n",
      "1/1 [==============================] - 0s 11ms/step - loss: 3.5200 - mae: 3.5200\n",
      "Epoch 18/100\n",
      "1/1 [==============================] - 0s 12ms/step - loss: 3.2686 - mae: 3.2686\n",
      "Epoch 19/100\n",
      "1/1 [==============================] - 0s 13ms/step - loss: 3.1510 - mae: 3.1510\n",
      "Epoch 20/100\n",
      "1/1 [==============================] - 0s 12ms/step - loss: 3.1373 - mae: 3.1373\n",
      "Epoch 21/100\n",
      "1/1 [==============================] - 0s 12ms/step - loss: 2.9378 - mae: 2.9378\n",
      "Epoch 22/100\n",
      "1/1 [==============================] - 0s 12ms/step - loss: 2.5578 - mae: 2.5578\n",
      "Epoch 23/100\n",
      "1/1 [==============================] - 0s 12ms/step - loss: 2.4144 - mae: 2.4144\n",
      "Epoch 24/100\n",
      "1/1 [==============================] - 0s 12ms/step - loss: 2.2321 - mae: 2.2321\n",
      "Epoch 25/100\n",
      "1/1 [==============================] - 0s 12ms/step - loss: 1.8526 - mae: 1.8526\n",
      "Epoch 26/100\n",
      "1/1 [==============================] - 0s 12ms/step - loss: 1.8528 - mae: 1.8528\n",
      "Epoch 27/100\n",
      "1/1 [==============================] - 0s 12ms/step - loss: 1.7507 - mae: 1.7507\n",
      "Epoch 28/100\n",
      "1/1 [==============================] - 0s 12ms/step - loss: 1.1329 - mae: 1.1329\n",
      "Epoch 29/100\n",
      "1/1 [==============================] - 0s 12ms/step - loss: 0.7769 - mae: 0.7769\n",
      "Epoch 30/100\n",
      "1/1 [==============================] - 0s 12ms/step - loss: 1.0546 - mae: 1.0546\n",
      "Epoch 31/100\n",
      "1/1 [==============================] - 0s 11ms/step - loss: 1.4498 - mae: 1.4498\n",
      "Epoch 32/100\n",
      "1/1 [==============================] - 0s 11ms/step - loss: 0.5854 - mae: 0.5854\n",
      "Epoch 33/100\n",
      "1/1 [==============================] - 0s 12ms/step - loss: 1.4624 - mae: 1.4624\n",
      "Epoch 34/100\n",
      "1/1 [==============================] - 0s 13ms/step - loss: 1.4321 - mae: 1.4321\n",
      "Epoch 35/100\n",
      "1/1 [==============================] - 0s 12ms/step - loss: 0.6578 - mae: 0.6578\n",
      "Epoch 36/100\n",
      "1/1 [==============================] - 0s 12ms/step - loss: 0.2648 - mae: 0.2648\n",
      "Epoch 37/100\n",
      "1/1 [==============================] - 0s 11ms/step - loss: 0.8693 - mae: 0.8693\n",
      "Epoch 38/100\n",
      "1/1 [==============================] - 0s 12ms/step - loss: 0.4249 - mae: 0.4249\n",
      "Epoch 39/100\n",
      "1/1 [==============================] - 0s 11ms/step - loss: 1.0799 - mae: 1.0799\n",
      "Epoch 40/100\n",
      "1/1 [==============================] - 0s 13ms/step - loss: 0.1849 - mae: 0.1849\n",
      "Epoch 41/100\n",
      "1/1 [==============================] - 0s 11ms/step - loss: 2.0765 - mae: 2.0765\n",
      "Epoch 42/100\n",
      "1/1 [==============================] - 0s 11ms/step - loss: 2.1979 - mae: 2.1979\n",
      "Epoch 43/100\n",
      "1/1 [==============================] - 0s 11ms/step - loss: 0.6979 - mae: 0.6979\n",
      "Epoch 44/100\n",
      "1/1 [==============================] - 0s 11ms/step - loss: 1.8475 - mae: 1.8475\n",
      "Epoch 45/100\n",
      "1/1 [==============================] - 0s 11ms/step - loss: 2.7606 - mae: 2.7606\n",
      "Epoch 46/100\n",
      "1/1 [==============================] - 0s 11ms/step - loss: 2.6779 - mae: 2.6779\n",
      "Epoch 47/100\n",
      "1/1 [==============================] - 0s 11ms/step - loss: 1.6722 - mae: 1.6722\n",
      "Epoch 48/100\n",
      "1/1 [==============================] - 0s 11ms/step - loss: 0.4044 - mae: 0.4044\n",
      "Epoch 49/100\n",
      "1/1 [==============================] - 0s 11ms/step - loss: 1.2146 - mae: 1.2146\n",
      "Epoch 50/100\n",
      "1/1 [==============================] - 0s 10ms/step - loss: 0.7293 - mae: 0.7293\n",
      "Epoch 51/100\n",
      "1/1 [==============================] - 0s 10ms/step - loss: 0.9379 - mae: 0.9379\n",
      "Epoch 52/100\n",
      "1/1 [==============================] - 0s 11ms/step - loss: 1.2620 - mae: 1.2620\n",
      "Epoch 53/100\n",
      "1/1 [==============================] - 0s 11ms/step - loss: 0.7080 - mae: 0.7080\n",
      "Epoch 54/100\n",
      "1/1 [==============================] - 0s 11ms/step - loss: 0.8152 - mae: 0.8152\n",
      "Epoch 55/100\n",
      "1/1 [==============================] - 0s 11ms/step - loss: 1.2012 - mae: 1.2012\n",
      "Epoch 56/100\n",
      "1/1 [==============================] - 0s 15ms/step - loss: 0.4615 - mae: 0.4615\n",
      "Epoch 57/100\n",
      "1/1 [==============================] - 0s 13ms/step - loss: 1.1442 - mae: 1.1442\n",
      "Epoch 58/100\n",
      "1/1 [==============================] - 0s 13ms/step - loss: 1.6434 - mae: 1.6434\n",
      "Epoch 59/100\n",
      "1/1 [==============================] - 0s 11ms/step - loss: 1.2522 - mae: 1.2522\n",
      "Epoch 60/100\n",
      "1/1 [==============================] - 0s 10ms/step - loss: 0.2507 - mae: 0.2507\n",
      "Epoch 61/100\n",
      "1/1 [==============================] - 0s 10ms/step - loss: 1.9477 - mae: 1.9477\n",
      "Epoch 62/100\n",
      "1/1 [==============================] - 0s 10ms/step - loss: 2.5482 - mae: 2.5482\n",
      "Epoch 63/100\n",
      "1/1 [==============================] - 0s 13ms/step - loss: 1.9533 - mae: 1.9533\n",
      "Epoch 64/100\n",
      "1/1 [==============================] - 0s 10ms/step - loss: 0.6651 - mae: 0.6651\n",
      "Epoch 65/100\n",
      "1/1 [==============================] - 0s 11ms/step - loss: 1.5671 - mae: 1.5671\n",
      "Epoch 66/100\n",
      "1/1 [==============================] - 0s 11ms/step - loss: 2.4041 - mae: 2.4041\n",
      "Epoch 67/100\n",
      "1/1 [==============================] - 0s 11ms/step - loss: 2.4697 - mae: 2.4697\n",
      "Epoch 68/100\n",
      "1/1 [==============================] - 0s 11ms/step - loss: 1.8928 - mae: 1.8928\n",
      "Epoch 69/100\n",
      "1/1 [==============================] - 0s 11ms/step - loss: 0.7803 - mae: 0.7803\n",
      "Epoch 70/100\n",
      "1/1 [==============================] - 0s 11ms/step - loss: 1.2205 - mae: 1.2205\n",
      "Epoch 71/100\n",
      "1/1 [==============================] - 0s 11ms/step - loss: 2.0448 - mae: 2.0448\n",
      "Epoch 72/100\n",
      "1/1 [==============================] - 0s 11ms/step - loss: 1.7771 - mae: 1.7771\n",
      "Epoch 73/100\n",
      "1/1 [==============================] - 0s 11ms/step - loss: 0.6985 - mae: 0.6985\n",
      "Epoch 74/100\n",
      "1/1 [==============================] - 0s 11ms/step - loss: 1.0913 - mae: 1.0913\n",
      "Epoch 75/100\n",
      "1/1 [==============================] - 0s 10ms/step - loss: 1.8006 - mae: 1.8006\n",
      "Epoch 76/100\n",
      "1/1 [==============================] - 0s 10ms/step - loss: 1.7812 - mae: 1.7812\n",
      "Epoch 77/100\n",
      "1/1 [==============================] - 0s 11ms/step - loss: 1.1194 - mae: 1.1194\n",
      "Epoch 78/100\n",
      "1/1 [==============================] - 0s 12ms/step - loss: 0.2648 - mae: 0.2648\n",
      "Epoch 79/100\n",
      "1/1 [==============================] - 0s 12ms/step - loss: 1.1567 - mae: 1.1567\n",
      "Epoch 80/100\n",
      "1/1 [==============================] - 0s 11ms/step - loss: 1.1661 - mae: 1.1661\n",
      "Epoch 81/100\n",
      "1/1 [==============================] - 0s 12ms/step - loss: 0.3131 - mae: 0.3131\n",
      "Epoch 82/100\n",
      "1/1 [==============================] - 0s 12ms/step - loss: 1.1751 - mae: 1.1751\n",
      "Epoch 83/100\n",
      "1/1 [==============================] - 0s 12ms/step - loss: 1.7818 - mae: 1.7818\n",
      "Epoch 84/100\n",
      "1/1 [==============================] - 0s 12ms/step - loss: 1.7215 - mae: 1.7215\n",
      "Epoch 85/100\n",
      "1/1 [==============================] - 0s 11ms/step - loss: 1.0412 - mae: 1.0412\n",
      "Epoch 86/100\n",
      "1/1 [==============================] - 0s 11ms/step - loss: 0.3151 - mae: 0.3151\n",
      "Epoch 87/100\n",
      "1/1 [==============================] - 0s 12ms/step - loss: 0.8421 - mae: 0.8421\n",
      "Epoch 88/100\n",
      "1/1 [==============================] - 0s 11ms/step - loss: 0.5016 - mae: 0.5016\n",
      "Epoch 89/100\n",
      "1/1 [==============================] - 0s 11ms/step - loss: 0.6908 - mae: 0.6908\n",
      "Epoch 90/100\n",
      "1/1 [==============================] - 0s 11ms/step - loss: 0.9781 - mae: 0.9781\n",
      "Epoch 91/100\n",
      "1/1 [==============================] - 0s 11ms/step - loss: 0.6889 - mae: 0.6889\n",
      "Epoch 92/100\n",
      "1/1 [==============================] - 0s 11ms/step - loss: 0.4080 - mae: 0.4080\n",
      "Epoch 93/100\n",
      "1/1 [==============================] - 0s 12ms/step - loss: 0.5676 - mae: 0.5676\n",
      "Epoch 94/100\n",
      "1/1 [==============================] - 0s 12ms/step - loss: 0.1191 - mae: 0.1191\n",
      "Epoch 95/100\n",
      "1/1 [==============================] - 0s 11ms/step - loss: 0.5684 - mae: 0.5684\n",
      "Epoch 96/100\n",
      "1/1 [==============================] - 0s 11ms/step - loss: 0.4377 - mae: 0.4377\n",
      "Epoch 97/100\n",
      "1/1 [==============================] - 0s 11ms/step - loss: 0.3576 - mae: 0.3576\n",
      "Epoch 98/100\n",
      "1/1 [==============================] - 0s 11ms/step - loss: 0.3819 - mae: 0.3819\n",
      "Epoch 99/100\n",
      "1/1 [==============================] - 0s 10ms/step - loss: 0.3314 - mae: 0.3314\n",
      "Epoch 100/100\n",
      "1/1 [==============================] - 0s 10ms/step - loss: 0.2237 - mae: 0.2237\n"
     ]
    },
    {
     "data": {
      "text/plain": [
       "<keras.callbacks.History at 0x7f8c2997e370>"
      ]
     },
     "execution_count": 283,
     "metadata": {},
     "output_type": "execute_result"
    }
   ],
   "source": [
    "# Let's rebuild model\n",
    "\n",
    "# 1. Create a model \n",
    "model = tf.keras.Sequential([\n",
    "    tf.keras.layers.Dense(100, activation='relu'),\n",
    "    tf.keras.layers.Dense(100, activation='relu'),\n",
    "    tf.keras.layers.Dense(100, activation='relu'),\n",
    "    tf.keras.layers.Dense(1)\n",
    "])\n",
    "\n",
    "# 2. Compiling model\n",
    "model.compile(\n",
    "    loss=tf.keras.losses.mae,\n",
    "    optimizer=tf.keras.optimizers.Adam(learning_rate=0.01),\n",
    "    metrics=['mae']\n",
    ")\n",
    "\n",
    "# 3. Fit the model\n",
    "model.fit(tf.expand_dims(X, axis=-1), y, epochs=100)"
   ]
  },
  {
   "cell_type": "code",
   "execution_count": null,
   "metadata": {
    "colab": {
     "base_uri": "https://localhost:8080/"
    },
    "id": "OY2ducXx6SPc",
    "outputId": "c85f12ed-576a-445d-b8f1-a2988b7b3c9e"
   },
   "outputs": [
    {
     "data": {
      "text/plain": [
       "(<tf.Tensor: shape=(8,), dtype=float64, numpy=array([-7., -4., -1.,  2.,  5.,  8., 11., 14.])>,\n",
       " <tf.Tensor: shape=(8,), dtype=float64, numpy=array([ 3.,  6.,  9., 12., 15., 18., 21., 24.])>)"
      ]
     },
     "execution_count": 284,
     "metadata": {},
     "output_type": "execute_result"
    }
   ],
   "source": [
    "# Remind the data\n",
    "X, y"
   ]
  },
  {
   "cell_type": "code",
   "execution_count": null,
   "metadata": {
    "colab": {
     "base_uri": "https://localhost:8080/"
    },
    "id": "BoczlBnp6SMu",
    "outputId": "112bd2b4-ac80-4a2b-94ca-c0659c0de161"
   },
   "outputs": [
    {
     "name": "stdout",
     "output_type": "stream",
     "text": [
      "1/1 [==============================] - 0s 89ms/step\n"
     ]
    },
    {
     "data": {
      "text/plain": [
       "array([[28.542944]], dtype=float32)"
      ]
     },
     "execution_count": 285,
     "metadata": {},
     "output_type": "execute_result"
    }
   ],
   "source": [
    "# Make a prediction\n",
    "model.predict([17.0])"
   ]
  },
  {
   "cell_type": "markdown",
   "metadata": {
    "id": "Bscu82sZ6R7k"
   },
   "source": [
    "Woowww.. It's look the best prediction.."
   ]
  },
  {
   "cell_type": "markdown",
   "metadata": {
    "id": "bwsdnptQ2iFC"
   },
   "source": [
    "### Common ways to improve a deep model\n",
    "\n",
    "* Adding more hidden layers\n",
    "* Adding more neurons\n",
    "* Change the activation function\n",
    "* Change the optimization function\n",
    "* Change the learning rate\n",
    "* Fitting for longer (increase number of epoch)\n",
    "* Fitting on more data"
   ]
  },
  {
   "cell_type": "markdown",
   "metadata": {
    "id": "_SPSH0Nc4rqr"
   },
   "source": [
    "## Evaluating a model\n",
    "\n",
    "In practice, a typical workflow  you'll go through when building neural networks is:\n",
    "\n",
    "```\n",
    "Build a model -> Fit it -> Evaluate it -> Tweak a model -> Fit it -> Evaluate it -> Tweak a model -> Fit it -> Evaluate it -> Tweak a model -> Fit it -> Evaluate it ```"
   ]
  },
  {
   "cell_type": "markdown",
   "metadata": {
    "id": "JGDJcr2P8A5R"
   },
   "source": [
    "When it comes to evaluation. There are 3 words you memorized:\n",
    "\n",
    "> 'Visualize, Visualize, Visualize...'\n",
    "\n",
    "It is a good idea to visualize:\n",
    "* The data - What data are we working with? What does it look like?\n",
    "* The model itself - What does model look like?\n",
    "* Traning of a model - How does a model perform while it learns?\n",
    "* Prediction of the model -  How do the predictions of a model line up aganist the truth?"
   ]
  },
  {
   "cell_type": "code",
   "execution_count": null,
   "metadata": {
    "colab": {
     "base_uri": "https://localhost:8080/"
    },
    "id": "P2nA42oGlEgv",
    "outputId": "a062283a-dc25-4dc9-9f52-36dc73a4cc60"
   },
   "outputs": [
    {
     "data": {
      "text/plain": [
       "<tf.Tensor: shape=(50,), dtype=int32, numpy=\n",
       "array([-100,  -96,  -92,  -88,  -84,  -80,  -76,  -72,  -68,  -64,  -60,\n",
       "        -56,  -52,  -48,  -44,  -40,  -36,  -32,  -28,  -24,  -20,  -16,\n",
       "        -12,   -8,   -4,    0,    4,    8,   12,   16,   20,   24,   28,\n",
       "         32,   36,   40,   44,   48,   52,   56,   60,   64,   68,   72,\n",
       "         76,   80,   84,   88,   92,   96], dtype=int32)>"
      ]
     },
     "execution_count": 286,
     "metadata": {},
     "output_type": "execute_result"
    }
   ],
   "source": [
    "# Make a bigger dataset\n",
    "X = tf.range(-100, 100, 4)\n",
    "X"
   ]
  },
  {
   "cell_type": "code",
   "execution_count": null,
   "metadata": {
    "colab": {
     "base_uri": "https://localhost:8080/"
    },
    "id": "IgWEHAe7lG3C",
    "outputId": "cbe43629-0c5a-409a-e29b-6ddc88a3aa67"
   },
   "outputs": [
    {
     "data": {
      "text/plain": [
       "<tf.Tensor: shape=(50,), dtype=int32, numpy=\n",
       "array([-90, -86, -82, -78, -74, -70, -66, -62, -58, -54, -50, -46, -42,\n",
       "       -38, -34, -30, -26, -22, -18, -14, -10,  -6,  -2,   2,   6,  10,\n",
       "        14,  18,  22,  26,  30,  34,  38,  42,  46,  50,  54,  58,  62,\n",
       "        66,  70,  74,  78,  82,  86,  90,  94,  98, 102, 106], dtype=int32)>"
      ]
     },
     "execution_count": 287,
     "metadata": {},
     "output_type": "execute_result"
    }
   ],
   "source": [
    "# make labels for dataset\n",
    "y = X + 10\n",
    "y"
   ]
  },
  {
   "cell_type": "code",
   "execution_count": null,
   "metadata": {
    "colab": {
     "base_uri": "https://localhost:8080/",
     "height": 449
    },
    "id": "O33QBoDPmIC3",
    "outputId": "9bbcb879-6039-4117-d94f-1ad13aa17eaf"
   },
   "outputs": [
    {
     "data": {
      "image/png": "[encoded data removed]",
      "text/plain": [
       "<Figure size 640x480 with 1 Axes>"
      ]
     },
     "metadata": {},
     "output_type": "display_data"
    }
   ],
   "source": [
    "# Plot data\n",
    "plt.scatter(X, y)\n",
    "plt.xlabel('X')\n",
    "plt.ylabel('y')\n",
    "plt.show()"
   ]
  },
  {
   "cell_type": "markdown",
   "metadata": {
    "id": "uDbreGfPmWUP"
   },
   "source": [
    "### The three sets\n",
    "\n",
    "* **Train set** - The model learns from this data, which is typically 70-80% of total data\n",
    "* **Validation set** - The model gets tuned on this data which is typically 10-15% of total data\n",
    "* **Test set** - The model gets evaulated on this data to test what is has learned, which is typically 10-15% of total data\n"
   ]
  },
  {
   "cell_type": "code",
   "execution_count": null,
   "metadata": {
    "colab": {
     "base_uri": "https://localhost:8080/"
    },
    "id": "HdLMPbdeurWr",
    "outputId": "b9677331-8f6f-41e3-afff-ff8294f30dce"
   },
   "outputs": [
    {
     "data": {
      "text/plain": [
       "50"
      ]
     },
     "execution_count": 289,
     "metadata": {},
     "output_type": "execute_result"
    }
   ],
   "source": [
    "# Check the lenth of how many data we have\n",
    "len(X)"
   ]
  },
  {
   "cell_type": "code",
   "execution_count": null,
   "metadata": {
    "colab": {
     "base_uri": "https://localhost:8080/"
    },
    "id": "KPe_rfukw3BO",
    "outputId": "01881ac3-7a61-41d7-ffc9-8100a8f48d28"
   },
   "outputs": [
    {
     "data": {
      "text/plain": [
       "(40, 10)"
      ]
     },
     "execution_count": 290,
     "metadata": {},
     "output_type": "execute_result"
    }
   ],
   "source": [
    "# Split the data into train and test set\n",
    "X_train = X[:40] # first 40 are train samples (80% of our data)\n",
    "y_train = y[:40]\n",
    "            \n",
    "X_test = X[40:] # last 10 are test samples (20% of our data)\n",
    "y_test = y[40:]\n",
    "\n",
    "len(X_train), len(X_test)"
   ]
  }
 ],
 "metadata": {
  "accelerator": "GPU",
  "colab": {
   "provenance": []
  },
  "gpuClass": "standard",
  "kernelspec": {
   "display_name": "Python 3 (ipykernel)",
   "language": "python",
   "name": "python3"
  },
  "language_info": {
   "codemirror_mode": {
    "name": "ipython",
    "version": 3
   },
   "file_extension": ".py",
   "mimetype": "text/x-python",
   "name": "python",
   "nbconvert_exporter": "python",
   "pygments_lexer": "ipython3",
   "version": "3.9.13"
  },
  "toc": {
   "base_numbering": 1,
   "nav_menu": {},
   "number_sections": true,
   "sideBar": true,
   "skip_h1_title": false,
   "title_cell": "Table of Contents",
   "title_sidebar": "Contents",
   "toc_cell": false,
   "toc_position": {},
   "toc_section_display": true,
   "toc_window_display": false
  }
 },
 "nbformat": 4,
 "nbformat_minor": 1
}
